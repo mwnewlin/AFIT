{
 "cells": [
  {
   "cell_type": "code",
   "execution_count": 14,
   "metadata": {},
   "outputs": [],
   "source": [
    "import numpy as np\n",
    "import matplotlib.pyplot as plt\n",
    "import random as rand\n",
    "\n",
    "#make plots inline using jupyter magic\n",
    "%matplotlib inline\n",
    "\n",
    "import pandas as pd\n",
    "from pandas.plotting import scatter_matrix\n",
    "from sklearn import datasets, linear_model, metrics\n",
    "\n",
    "# Imports from Chapter 4 Lab\n",
    "import matplotlib as mpl\n",
    "\n",
    "import sklearn.linear_model as skl_lm\n",
    "from sklearn.discriminant_analysis import LinearDiscriminantAnalysis\n",
    "from sklearn.discriminant_analysis import QuadraticDiscriminantAnalysis\n",
    "\n",
    "from IPython.display import Markdown as md  #enable markdown within code cell\n",
    "from IPython.display import display, Math, Latex\n",
    "\n",
    "dice_roll_sums = []\n",
    "dice_roll_sums2 = []\n",
    "red = 0\n",
    "blue = 0\n",
    "green = 0"
   ]
  },
  {
   "cell_type": "code",
   "execution_count": 15,
   "metadata": {},
   "outputs": [
    {
     "data": {
      "text/plain": [
       "(array([ 1.,  3.,  6., 10., 15., 21., 25., 27., 27., 25., 21., 15., 10.,\n",
       "         6.,  3.,  1.]),\n",
       " array([ 3.    ,  3.9375,  4.875 ,  5.8125,  6.75  ,  7.6875,  8.625 ,\n",
       "         9.5625, 10.5   , 11.4375, 12.375 , 13.3125, 14.25  , 15.1875,\n",
       "        16.125 , 17.0625, 18.    ]),\n",
       " <a list of 16 Patch objects>)"
      ]
     },
     "execution_count": 15,
     "metadata": {},
     "output_type": "execute_result"
    },
    {
     "data": {
      "image/png": "[encoded data removed]",
      "text/plain": [
       "<Figure size 432x288 with 1 Axes>"
      ]
     },
     "metadata": {
      "needs_background": "light"
     },
     "output_type": "display_data"
    }
   ],
   "source": [
    "for i in range(1,7):\n",
    "    for j in range(1,7):\n",
    "        for k in range(1,7):\n",
    "            dice_roll_sums.append(i + j + k)\n",
    "plt.hist(dice_roll_sums, 16)\n",
    "        "
   ]
  },
  {
   "cell_type": "code",
   "execution_count": 19,
   "metadata": {},
   "outputs": [
    {
     "data": {
      "text/plain": [
       "(array([3., 0., 1., 0., 0., 0., 1., 0., 1., 0., 1., 0., 0., 0., 2., 1.]),\n",
       " array([ 8. ,  8.5,  9. ,  9.5, 10. , 10.5, 11. , 11.5, 12. , 12.5, 13. ,\n",
       "        13.5, 14. , 14.5, 15. , 15.5, 16. ]),\n",
       " <a list of 16 Patch objects>)"
      ]
     },
     "execution_count": 19,
     "metadata": {},
     "output_type": "execute_result"
    },
    {
     "data": {
      "image/png": "[encoded data removed]",
      "text/plain": [
       "<Figure size 432x288 with 1 Axes>"
      ]
     },
     "metadata": {
      "needs_background": "light"
     },
     "output_type": "display_data"
    }
   ],
   "source": [
    "\n",
    "dice_sums = np.array([8, 15, 16, 11, 8, 8, 9, 12, 13, 15])\n",
    "\n",
    "plt.hist(dice_sums, 16)\n",
    "\n",
    "\n"
   ]
  },
  {
   "cell_type": "code",
   "execution_count": 23,
   "metadata": {},
   "outputs": [
    {
     "data": {
      "text/plain": [
       "([array([309., 117.,   0.,  92.,   0., 102.,  70.,   0., 202., 108.]),\n",
       "  array([282., 114.,   0.,  78.,   0., 110., 102.,   0., 223.,  91.]),\n",
       "  array([264., 115.,   0., 103.,   0.,  89.,  98.,   0., 237.,  94.]),\n",
       "  array([277.,  93.,   0.,  95.,   0., 110.,  97.,   0., 210., 118.]),\n",
       "  array([319., 113.,   0.,  95.,   0.,  90.,  92.,   0., 210.,  81.]),\n",
       "  array([307.,  95.,   0.,  89.,   0., 115., 100.,   0., 192., 102.]),\n",
       "  array([285.,  92.,   0., 105.,   0., 104.,  94.,   0., 214., 106.]),\n",
       "  array([267., 108.,   0., 105.,   0., 100.,  93.,   0., 216., 111.]),\n",
       "  array([285., 109.,   0., 103.,   0., 105., 103.,   0., 202.,  93.]),\n",
       "  array([272., 111.,   0., 106.,   0.,  88., 105.,   0., 216., 102.])],\n",
       " array([ 8. ,  8.8,  9.6, 10.4, 11.2, 12. , 12.8, 13.6, 14.4, 15.2, 16. ]),\n",
       " <a list of 10 Lists of Patches objects>)"
      ]
     },
     "execution_count": 23,
     "metadata": {},
     "output_type": "execute_result"
    },
    {
     "data": {
      "image/png": "[encoded data removed]",
      "text/plain": [
       "<Figure size 432x288 with 1 Axes>"
      ]
     },
     "metadata": {
      "needs_background": "light"
     },
     "output_type": "display_data"
    }
   ],
   "source": [
    "bootstrap = np.zeros((1000, 10), dtype=int)\n",
    "for y in range(10):\n",
    "    for x in range(1000):\n",
    "        bootstrap[x,y] = np.random.choice(dice_sums)\n",
    "        \n",
    "        \n",
    "plt.hist(bootstrap)"
   ]
  },
  {
   "cell_type": "code",
   "execution_count": 34,
   "metadata": {},
   "outputs": [
    {
     "name": "stdout",
     "output_type": "stream",
     "text": [
      "(1000,)\n",
      "11.570400000000001\n",
      "(1000,)\n"
     ]
    },
    {
     "ename": "NameError",
     "evalue": "name 'diff_squared' is not defined",
     "output_type": "error",
     "traceback": [
      "\u001b[1;31m---------------------------------------------------------------------------\u001b[0m",
      "\u001b[1;31mNameError\u001b[0m                                 Traceback (most recent call last)",
      "\u001b[1;32m<ipython-input-34-d2ff64afbc3a>\u001b[0m in \u001b[0;36m<module>\u001b[1;34m\u001b[0m\n\u001b[0;32m      8\u001b[0m \u001b[1;33m\u001b[0m\u001b[0m\n\u001b[0;32m      9\u001b[0m \u001b[0mdiff\u001b[0m \u001b[1;33m=\u001b[0m \u001b[0mmean\u001b[0m \u001b[1;33m-\u001b[0m \u001b[0mmeanvals\u001b[0m\u001b[1;33m\u001b[0m\u001b[1;33m\u001b[0m\u001b[0m\n\u001b[1;32m---> 10\u001b[1;33m \u001b[0mdiff_squared\u001b[0m \u001b[1;33m=\u001b[0m \u001b[0mnp\u001b[0m\u001b[1;33m.\u001b[0m\u001b[0mdot\u001b[0m\u001b[1;33m(\u001b[0m\u001b[0mdiff_squared\u001b[0m\u001b[1;33m.\u001b[0m\u001b[0mT\u001b[0m\u001b[1;33m,\u001b[0m \u001b[0mdiff_squared\u001b[0m\u001b[1;33m)\u001b[0m\u001b[1;33m\u001b[0m\u001b[1;33m\u001b[0m\u001b[0m\n\u001b[0m\u001b[0;32m     11\u001b[0m \u001b[1;33m\u001b[0m\u001b[0m\n\u001b[0;32m     12\u001b[0m \u001b[0mstd\u001b[0m \u001b[1;33m=\u001b[0m \u001b[0mnp\u001b[0m\u001b[1;33m.\u001b[0m\u001b[0msqrt\u001b[0m\u001b[1;33m(\u001b[0m\u001b[1;33m(\u001b[0m\u001b[1;36m1\u001b[0m\u001b[1;33m/\u001b[0m\u001b[1;33m(\u001b[0m\u001b[1;36m1000\u001b[0m\u001b[1;33m-\u001b[0m\u001b[1;36m1\u001b[0m\u001b[1;33m)\u001b[0m\u001b[1;33m)\u001b[0m\u001b[1;33m*\u001b[0m\u001b[0mdiff_squared\u001b[0m\u001b[1;33m.\u001b[0m\u001b[0msum\u001b[0m\u001b[1;33m(\u001b[0m\u001b[1;33m)\u001b[0m\u001b[1;33m)\u001b[0m\u001b[1;33m\u001b[0m\u001b[1;33m\u001b[0m\u001b[0m\n",
      "\u001b[1;31mNameError\u001b[0m: name 'diff_squared' is not defined"
     ]
    }
   ],
   "source": [
    "meanvals = np.mean(bootstrap, axis=1)\n",
    "mean = (1/1000)*meanvals.sum()\n",
    "print(meanvals.shape)\n",
    "print(mean)\n",
    "\n",
    "variance = np.var(bootstrap, axis=1)\n",
    "print(variance.shape)\n",
    "\n",
    "diff = mean - meanvals\n",
    "diff_squared = np.dot(diff_squared.T, diff_squared)\n",
    "\n",
    "std = np.sqrt((1/(1000-1))*diff_squared.sum())\n",
    "print(std)\n",
    "var = std*std\n",
    "print(var)"
   ]
  },
  {
   "cell_type": "code",
   "execution_count": null,
   "metadata": {},
   "outputs": [],
   "source": []
  }
 ],
 "metadata": {
  "kernelspec": {
   "display_name": "Python 3",
   "language": "python",
   "name": "python3"
  },
  "language_info": {
   "codemirror_mode": {
    "name": "ipython",
    "version": 3
   },
   "file_extension": ".py",
   "mimetype": "text/x-python",
   "name": "python",
   "nbconvert_exporter": "python",
   "pygments_lexer": "ipython3",
   "version": "3.7.2"
  }
 },
 "nbformat": 4,
 "nbformat_minor": 2
}
