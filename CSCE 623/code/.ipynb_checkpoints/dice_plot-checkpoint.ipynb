{
 "cells": [
  {
   "cell_type": "code",
   "execution_count": 6,
   "metadata": {},
   "outputs": [],
   "source": [
    "import numpy as np\n",
    "import matplotlib.pyplot as plt\n",
    "import random as rand\n",
    "\n",
    "#make plots inline using jupyter magic\n",
    "%matplotlib inline\n",
    "\n",
    "import pandas as pd\n",
    "from pandas.plotting import scatter_matrix\n",
    "from sklearn import datasets, linear_model, metrics\n",
    "\n",
    "# Imports from Chapter 4 Lab\n",
    "import matplotlib as mpl\n",
    "\n",
    "import sklearn.linear_model as skl_lm\n",
    "from sklearn.discriminant_analysis import LinearDiscriminantAnalysis\n",
    "from sklearn.discriminant_analysis import QuadraticDiscriminantAnalysis\n",
    "\n",
    "from IPython.display import Markdown as md  #enable markdown within code cell\n",
    "from IPython.display import display, Math, Latex\n",
    "\n",
    "dice_roll_sums = []\n",
    "dice_roll_sums2 = []\n",
    "red = 0\n",
    "blue = 0\n",
    "green = 0"
   ]
  },
  {
   "cell_type": "code",
   "execution_count": 7,
   "metadata": {},
   "outputs": [
    {
     "data": {
      "text/plain": [
       "(array([ 1.,  3.,  6., 10., 15., 21., 25., 27., 27., 25., 21., 15., 10.,\n",
       "         6.,  3.,  1.]),\n",
       " array([ 3.    ,  3.9375,  4.875 ,  5.8125,  6.75  ,  7.6875,  8.625 ,\n",
       "         9.5625, 10.5   , 11.4375, 12.375 , 13.3125, 14.25  , 15.1875,\n",
       "        16.125 , 17.0625, 18.    ]),\n",
       " <a list of 16 Patch objects>)"
      ]
     },
     "execution_count": 7,
     "metadata": {},
     "output_type": "execute_result"
    },
    {
     "data": {
      "image/png": "[encoded data removed]",
      "text/plain": [
       "<Figure size 432x288 with 1 Axes>"
      ]
     },
     "metadata": {
      "needs_background": "light"
     },
     "output_type": "display_data"
    }
   ],
   "source": [
    "for i in range(1,7):\n",
    "    for j in range(1,7):\n",
    "        for k in range(1,7):\n",
    "            dice_roll_sums.append(i + j + k)\n",
    "plt.hist(dice_roll_sums, 16)\n",
    "        "
   ]
  },
  {
   "cell_type": "code",
   "execution_count": 8,
   "metadata": {},
   "outputs": [
    {
     "data": {
      "text/plain": [
       "(array([ 1.,  3.,  6., 12., 16., 21., 26., 28., 28., 25., 22., 17., 11.,\n",
       "         6.,  3.,  1.]),\n",
       " array([ 3.    ,  3.9375,  4.875 ,  5.8125,  6.75  ,  7.6875,  8.625 ,\n",
       "         9.5625, 10.5   , 11.4375, 12.375 , 13.3125, 14.25  , 15.1875,\n",
       "        16.125 , 17.0625, 18.    ]),\n",
       " <a list of 16 Patch objects>)"
      ]
     },
     "execution_count": 8,
     "metadata": {},
     "output_type": "execute_result"
    },
    {
     "data": {
      "image/png": "[encoded data removed]",
      "text/plain": [
       "<Figure size 432x288 with 1 Axes>"
      ]
     },
     "metadata": {
      "needs_background": "light"
     },
     "output_type": "display_data"
    }
   ],
   "source": [
    "\n",
    "for x in range(1,11):\n",
    "    red = rand.randint(1,6)\n",
    "    blue = rand.randint(1,6)\n",
    "    green = rand.randint(1,6)\n",
    "    dice_roll_sums2.append(red + blue + green)\n",
    "    \n",
    "dice_roll_sums2 = np.array(dice_roll_sums)\n",
    "plt.hist(dice_roll_sums, 16)\n",
    "\n",
    "\n"
   ]
  },
  {
   "cell_type": "code",
   "execution_count": null,
   "metadata": {},
   "outputs": [],
   "source": []
  },
  {
   "cell_type": "code",
   "execution_count": null,
   "metadata": {},
   "outputs": [],
   "source": []
  }
 ],
 "metadata": {
  "kernelspec": {
   "display_name": "Python 3",
   "language": "python",
   "name": "python3"
  },
  "language_info": {
   "codemirror_mode": {
    "name": "ipython",
    "version": 3
   },
   "file_extension": ".py",
   "mimetype": "text/x-python",
   "name": "python",
   "nbconvert_exporter": "python",
   "pygments_lexer": "ipython3",
   "version": "3.7.2"
  }
 },
 "nbformat": 4,
 "nbformat_minor": 2
}
