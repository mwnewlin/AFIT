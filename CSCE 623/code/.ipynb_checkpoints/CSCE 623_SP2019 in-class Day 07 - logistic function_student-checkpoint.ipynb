{
 "cells": [
  {
   "cell_type": "markdown",
   "metadata": {},
   "source": [
    "# Day 7 \n",
    "Logistic Regression In Class Work"
   ]
  },
  {
   "cell_type": "code",
   "execution_count": 1,
   "metadata": {
    "collapsed": true
   },
   "outputs": [],
   "source": [
    "import numpy as np\n",
    "import matplotlib.pyplot as plt"
   ]
  },
  {
   "cell_type": "markdown",
   "metadata": {},
   "source": [
    "Helper function"
   ]
  },
  {
   "cell_type": "code",
   "execution_count": 2,
   "metadata": {
    "collapsed": true
   },
   "outputs": [],
   "source": [
    "def plotlogistic(x,py):\n",
    "    \"\"\" Plots x vs. prob(y)\n",
    "        Designed for logistic function \n",
    "    \"\"\"\n",
    "    fig = plt.figure()\n",
    "    ax = fig.add_subplot(111)\n",
    "    ax.plot(x,py)\n",
    "    ax.xaxis.set(ticks=range(-5,6))\n",
    "    ax.grid(axis='both')\n",
    "    plt.xlabel('x')\n",
    "    plt.ylabel('probability of y')\n",
    "    plt.title('Logistic Curve')\n",
    "    plt.show()"
   ]
  },
  {
   "cell_type": "markdown",
   "metadata": {},
   "source": [
    "Logistic Function: Student Coding"
   ]
  },
  {
   "cell_type": "code",
   "execution_count": 3,
   "metadata": {
    "collapsed": true
   },
   "outputs": [],
   "source": [
    "def logistic1D(x,beta0,beta1):\n",
    "    \"\"\" Return the probability of the logistic function for 1-Dimensional x\n",
    "        at the specified values of beta0 and beta1\n",
    "        will return an an item with the same shape as x which should be a vector.\n",
    "    \"\"\"\n",
    "    prob_y = np.zeros(x.shape)  #placeholder for return value\n",
    "\n",
    "    #------INSERT STUDENT CODE HERE TO COMPUTE THE LOGISTIC FUNCTION-----------\n",
    "\n",
    "    #---------------------------END OF STUDENT CODE----------------------------\n",
    "    return prob_y\n"
   ]
  },
  {
   "cell_type": "markdown",
   "metadata": {},
   "source": [
    "Instantiate x values"
   ]
  },
  {
   "cell_type": "code",
   "execution_count": 4,
   "metadata": {
    "collapsed": true
   },
   "outputs": [],
   "source": [
    "x = np.arange(-6, 6, 0.01)"
   ]
  },
  {
   "cell_type": "markdown",
   "metadata": {},
   "source": [
    "Beta Selection: Student Coding"
   ]
  },
  {
   "cell_type": "code",
   "execution_count": 5,
   "metadata": {
    "collapsed": true
   },
   "outputs": [],
   "source": [
    "#select betas to try \n",
    "\n",
    "#------INSERT STUDENT CODE HERE FOR BETAS------------\n",
    "b0 = 0.0  #placeholder\n",
    "b1 = 0.0  #placeholder\n",
    "#----------------------------------------------------"
   ]
  },
  {
   "cell_type": "markdown",
   "metadata": {},
   "source": [
    "build the resulting logistic graph"
   ]
  },
  {
   "cell_type": "code",
   "execution_count": 6,
   "metadata": {},
   "outputs": [
    {
     "data": {
      "image/png": "[encoded data removed]",
      "text/plain": [
       "<matplotlib.figure.Figure at 0x20fda22f128>"
      ]
     },
     "metadata": {},
     "output_type": "display_data"
    }
   ],
   "source": [
    "py = logistic1D(x,b0,b1) \n",
    "plotlogistic(x,py)"
   ]
  },
  {
   "cell_type": "code",
   "execution_count": null,
   "metadata": {
    "collapsed": true
   },
   "outputs": [],
   "source": []
  }
 ],
 "metadata": {
  "kernelspec": {
   "display_name": "Python 3",
   "language": "python",
   "name": "python3"
  },
  "language_info": {
   "codemirror_mode": {
    "name": "ipython",
    "version": 3
   },
   "file_extension": ".py",
   "mimetype": "text/x-python",
   "name": "python",
   "nbconvert_exporter": "python",
   "pygments_lexer": "ipython3",
   "version": "3.7.2"
  }
 },
 "nbformat": 4,
 "nbformat_minor": 2
}
