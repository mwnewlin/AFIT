{
 "cells": [
  {
   "cell_type": "markdown",
   "metadata": {},
   "source": [
    "# CSCE 623 Homework Assignment 1\n",
    "## Student Name:\n",
    "## Date:\n"
   ]
  },
  {
   "cell_type": "code",
   "execution_count": 1,
   "metadata": {
    "collapsed": false
   },
   "outputs": [],
   "source": [
    "\"\"\"\n",
    "HW1\n",
    "\"\"\"\n",
    "\n",
    "import numpy as np\n",
    "import matplotlib.pyplot as plt\n",
    "\n",
    "#make plots inline using jupyter magic\n",
    "%matplotlib inline\n",
    "\n",
    "import pandas as pd\n",
    "from pandas.tools.plotting import scatter_matrix\n",
    "from sklearn import datasets, linear_model\n",
    "\n",
    "from IPython.display import Markdown as md  #enable markdown within code cell\n",
    "from IPython.display import display, Math, Latex"
   ]
  },
  {
   "cell_type": "markdown",
   "metadata": {},
   "source": [
    "## STEP 1:\n",
    "load Auto.csv using pandas and preprocess it (handle missing values)"
   ]
  },
  {
   "cell_type": "code",
   "execution_count": null,
   "metadata": {
    "collapsed": false,
    "scrolled": true
   },
   "outputs": [],
   "source": [
    "#STEP 1\n",
    "\n",
    "#STUDENT CODE - insert code to load Auto.csv using pandas and preprocess it (handle missing values)\n",
    "# store your data in a dataframe called 'data'\n",
    "#---------------------------------------------    \n",
    "\n",
    "#---------------------------------------------    \n",
    "\n",
    "\n",
    "#show the dataset was loaded by displaying first few rows\n",
    "data.head()\n"
   ]
  },
  {
   "cell_type": "markdown",
   "metadata": {},
   "source": [
    "## STEP 2:\n",
    "Explore the dataset"
   ]
  },
  {
   "cell_type": "code",
   "execution_count": 3,
   "metadata": {
    "collapsed": false
   },
   "outputs": [],
   "source": [
    "#STEP 2\n",
    "\n",
    "#STUDENT CODE - Insert code to explore the dataset here\n",
    "#---------------------------------------------          \n",
    "\n",
    "\n",
    "\n",
    "#---------------------------------------------      "
   ]
  },
  {
   "cell_type": "markdown",
   "metadata": {},
   "source": [
    "a. Dataset stats: \n",
    "\n",
    "\n",
    "\n",
    "b. Feature descriptions:\n",
    "\n",
    " \n",
    "\n",
    "c. Feature relationships:\n",
    "\n",
    " "
   ]
  },
  {
   "cell_type": "markdown",
   "metadata": {},
   "source": [
    "## STEP 3:\n",
    "Make a single scatterplot of horsepower (x axis) by MPG (y axis)\n",
    "\n",
    "Insert the value of beta1guess based on eyeballing the graph"
   ]
  },
  {
   "cell_type": "code",
   "execution_count": 4,
   "metadata": {
    "collapsed": false
   },
   "outputs": [
    {
     "data": {
      "text/markdown": [
       "Guess for $\\beta_1$ = -0.000000"
      ],
      "text/plain": [
       "<IPython.core.display.Markdown object>"
      ]
     },
     "execution_count": 4,
     "metadata": {},
     "output_type": "execute_result"
    }
   ],
   "source": [
    "#STEP 3:\n",
    "\n",
    "beta0 = 40.\n",
    "\n",
    "#STUDENT CODE - Make a single scatterplot of horsepower (x axis) by MPG (y axis) \n",
    "# Insert the value of beta1guess based on eyeballing the graph\n",
    "#---------------------------------------------  \n",
    "\n",
    "\n",
    "beta1guess = -0.0 #change 0.0 to be your guess for beta\n",
    "#--------------------------------------------- \n",
    "\n",
    "md(r\"Guess for $\\beta_1$ = %f\" %beta1guess)"
   ]
  },
  {
   "cell_type": "markdown",
   "metadata": {},
   "source": [
    "## STEP 4:\n",
    "Make a `numpy` array of possible $\\beta_1$ values(`beta1bracket`) surrounding your guess $\\beta_1$ for to test & display the values you chose"
   ]
  },
  {
   "cell_type": "code",
   "execution_count": 5,
   "metadata": {
    "collapsed": false
   },
   "outputs": [],
   "source": [
    "#STEP 4\n",
    "\n",
    "#STUDENT CODE - Insert code to make a set of possible beta1 values to test & display the values you chose\n",
    "#---------------------------------------------          \n",
    "\n",
    "#--------------------------------------------- \n",
    "\n"
   ]
  },
  {
   "cell_type": "markdown",
   "metadata": {},
   "source": [
    "## STEP 5:\n",
    "Compute the sum of squared residual errors (RSS) under each possible beta1bracket member"
   ]
  },
  {
   "cell_type": "code",
   "execution_count": 6,
   "metadata": {
    "collapsed": false
   },
   "outputs": [],
   "source": [
    "#STEP 5\n",
    "\n",
    "#STUDENT CODE - Insert code to compute the sum of squared residual errors (RSS) under each possible beta1bracket member.\n",
    "#---------------------------------------------\n",
    "\n",
    "#--------------------------------------------- "
   ]
  },
  {
   "cell_type": "markdown",
   "metadata": {},
   "source": [
    "## STEP 6:\n",
    "Make a new plot of $\\beta_1$ values on the x axis and RSS cost on the y axis (computed in step 5). \n",
    "Label your axes and use math fonts in your labels "
   ]
  },
  {
   "cell_type": "code",
   "execution_count": 7,
   "metadata": {
    "collapsed": false
   },
   "outputs": [],
   "source": [
    "#STEP 6\n",
    "\n",
    "#STUDENT CODE - make a new plot of beta_1 values on the x axis and RSS cost on the y axis (computed in step 5). \n",
    "#label your axes and use math fonts in your labels if possible\n",
    "#---------------------------------------------          \n",
    "\n",
    "#--------------------------------------------- "
   ]
  },
  {
   "cell_type": "markdown",
   "metadata": {},
   "source": [
    "# STEP 7:   \n",
    "Describe the RSS Plot\n",
    "\n",
    "## Student Answers\n",
    "\n",
    "### What is the shape of the plot in step 6?  \n",
    "\n",
    "\n",
    "### Using the plot, how might someone find the best value of $\\beta_1$:  \n",
    "\n",
    "\n",
    "### Select & report value of $\\beta_1$ you think will have the best fit (you may want to improve your estimate by exploring near it by adding additional values for $\\beta_1$  and repeat steps 3-5):  \n",
    "\n",
    "\n",
    "\n"
   ]
  },
  {
   "cell_type": "markdown",
   "metadata": {},
   "source": [
    "## STEP 8:\n",
    "Build a new scatterplot with horsepower(x axis) vs MPG (y axis)\n",
    "\n",
    "Add a line to the plot - the linear regression line implied by the fixed beta0=40 and your best choice for beta1"
   ]
  },
  {
   "cell_type": "code",
   "execution_count": 8,
   "metadata": {
    "collapsed": false
   },
   "outputs": [],
   "source": [
    "#STEP 8\n",
    "\n",
    "#STUDENT CODE - Build a new scatterplot with horsepower(x axis) vs MPG (y axis)\n",
    "# add a line to the plot - the linear regression line implied by the fixed beta0=40 and your best choice for beta1 \n",
    "#---------------------------------------------\n",
    "\n",
    "\n",
    "#--------------------------------------------- \n"
   ]
  },
  {
   "cell_type": "markdown",
   "metadata": {},
   "source": [
    "## STEP 9:\n",
    "Implement equation 3.4 on page 62 to develop the closed-form function `computeBetas(xVec, yVec)` \n",
    "which accepts a column vector of x values and a column vector of y values and returns betas, \n",
    "which is a structure containing the values for the 2 coefficients $\\beta_0$ and $\\beta_1$  "
   ]
  },
  {
   "cell_type": "code",
   "execution_count": 9,
   "metadata": {
    "collapsed": false
   },
   "outputs": [],
   "source": [
    "#STEP 9\n",
    "\n",
    "#STUDENT CODE - In code, implement equation 3.4 on page 62 to develop the closed-form function computeBetas(xVec, yVec) \n",
    "# which accepts a column vector of x values and a column vector of y values and returns betas, \n",
    "# which is a structure containing the values for the 2 coefficients beta0 and beta1  \n",
    "#---------------------------------------------          \n",
    "\n",
    "\n",
    "#--------------------------------------------- "
   ]
  },
  {
   "cell_type": "markdown",
   "metadata": {},
   "source": [
    "## STEP 10:\n",
    "Compute and display best $\\beta_0$ (`beta0best`) and $\\beta_1$ (`beta1best`) for the Auto Dataset by calling the closed-form function in step 9"
   ]
  },
  {
   "cell_type": "code",
   "execution_count": 11,
   "metadata": {
    "collapsed": false
   },
   "outputs": [],
   "source": [
    "#STEP 10\n",
    "#STUDENT CODE - Compute beta0best and beta1best for the Auto Dataset by calling the closed-form function in step 9\n",
    "#--------------------------------------------- \n",
    "\n",
    "\n",
    "\n",
    "#--------------------------------------------- "
   ]
  },
  {
   "cell_type": "markdown",
   "metadata": {},
   "source": [
    "## STEP 11:\n",
    "\n",
    "### Student Answer\n",
    "\n",
    "#### How does the closed form computed value of $\\beta_1$ compare with your estimate of $\\beta_1$ from step 6?   Discuss: \n",
    "\n"
   ]
  },
  {
   "cell_type": "markdown",
   "metadata": {},
   "source": [
    "## STEP 12:\n",
    "Build a new scatterplot with horsepower(x axis) vs MPG (y axis), then add a line to the plot - the linear regression line implied by the $\\beta_0$ and $\\beta_1$ you determined in step 10"
   ]
  },
  {
   "cell_type": "code",
   "execution_count": 12,
   "metadata": {
    "collapsed": false
   },
   "outputs": [],
   "source": [
    "#STEP 12\n",
    "\n",
    "#STUDENT CODE - Build a new scatterplot with horsepower(x axis) vs MPG (y axis)\n",
    "# add a line to the plot - the linear regression line implied by the beta0 and beta1 you determined in step 10 \n",
    "#---------------------------------------------          \n",
    "\n",
    "#--------------------------------------------- "
   ]
  },
  {
   "cell_type": "markdown",
   "metadata": {},
   "source": [
    "## STEP 13:\n",
    "Use sklearn's linear model function to fit a linar model from horsepower to mpg. Then display the coefficients, MSE and explained variance score."
   ]
  },
  {
   "cell_type": "code",
   "execution_count": 13,
   "metadata": {
    "collapsed": false,
    "scrolled": true
   },
   "outputs": [],
   "source": [
    "#STEP13\n",
    "\n",
    "#STUDENT CODE - Use sklearn's linear model function to fit a linar model from horsepower to mpg. \n",
    "# also, display the coefficients, MSE and explained variance score\n",
    "#---------------------------------------------          \n",
    "\n",
    "\n",
    "#--------------------------------------------- "
   ]
  },
  {
   "cell_type": "markdown",
   "metadata": {},
   "source": [
    "## STEP 14:\n",
    "Build a new scatterplot with horsepower(x axis) vs MPG (y axis), then add a line to the plot - the linear regression line implied by the sklearn model determined in step 13"
   ]
  },
  {
   "cell_type": "code",
   "execution_count": 14,
   "metadata": {
    "collapsed": false
   },
   "outputs": [],
   "source": [
    "#STEP 14\n",
    "\n",
    "#STUDENT CODE - Build a new scatterplot with horsepower(x axis) vs MPG (y axis)\n",
    "# add a line to the plot - the linear regression line implied by the sklearn model determined in step 13 \n",
    "#---------------------------------------------          \n",
    "\n",
    "#--------------------------------------------- "
   ]
  },
  {
   "cell_type": "markdown",
   "metadata": {},
   "source": [
    "## STEP 15a:\n",
    "Compute the residual errors in predicting mpg from horsepower.  Plot these residual errors as a function of horsepower using a scatterplot.  Add a horizontal line at y=0 to indicate the zero-error position."
   ]
  },
  {
   "cell_type": "code",
   "execution_count": 15,
   "metadata": {},
   "outputs": [],
   "source": [
    "#STUDENT CODE\n",
    "\n",
    "#---------------------------------------------  \n",
    "\n",
    "\n",
    "#---------------------------------------------      "
   ]
  },
  {
   "cell_type": "markdown",
   "metadata": {},
   "source": [
    "## STEP 15b\n",
    "\n",
    "### Describe the plot - particularly the trends.  \n",
    "\n",
    "### Do the errors appear well-distributed, or are there trends?  \n",
    "\n",
    "### If there are trends: \n",
    "\n",
    "> \n",
    "1. Describe the trends,  \n",
    "1. Explain what these trends indicate about the ability to predict mpg from horsepower using a linear model, \n",
    "1. Give at least one course of action you could take to make a better model."
   ]
  }
 ],
 "metadata": {
  "kernelspec": {
   "display_name": "Python [default]",
   "language": "python",
   "name": "python3"
  },
  "language_info": {
   "codemirror_mode": {
    "name": "ipython",
    "version": 3
   },
   "file_extension": ".py",
   "mimetype": "text/x-python",
   "name": "python",
   "nbconvert_exporter": "python",
   "pygments_lexer": "ipython3",
   "version": "3.5.4"
  }
 },
 "nbformat": 4,
 "nbformat_minor": 2
}
