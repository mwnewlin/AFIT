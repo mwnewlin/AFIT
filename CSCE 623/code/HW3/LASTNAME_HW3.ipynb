{
 "cells": [
  {
   "cell_type": "markdown",
   "metadata": {},
   "source": [
    "# CSCE 623 Homework Assignment 1\n",
    "## Student Name:\n",
    "## Date:\n"
   ]
  },
  {
   "cell_type": "code",
   "execution_count": 1,
   "metadata": {
    "collapsed": false
   },
   "outputs": [],
   "source": [
    "\"\"\"\n",
    "HW1\n",
    "\"\"\"\n",
    "\n",
    "import numpy as np\n",
    "import matplotlib.pyplot as plt\n",
    "\n",
    "#make plots inline using jupyter magic\n",
    "%matplotlib inline\n",
    "\n",
    "import pandas as pd\n",
    "from pandas.plotting import scatter_matrix\n",
    "from sklearn import datasets, linear_model\n",
    "\n",
    "from IPython.display import Markdown as md  #enable markdown within code cell\n",
    "from IPython.display import display, Math, Latex\n",
    "\n",
    "#------ADDITIONAL STUDENT IMPORTS----------------\n",
    "#put student imports below this line\n"
   ]
  },
  {
   "cell_type": "markdown",
   "metadata": {},
   "source": [
    "## STEP 0 (helper functions):\n",
    "Instructor provided code for data generation & polynomial feature generation"
   ]
  },
  {
   "cell_type": "code",
   "execution_count": 2,
   "metadata": {
    "collapsed": false,
    "scrolled": true
   },
   "outputs": [
    {
     "name": "stdout",
     "output_type": "stream",
     "text": [
      "\n",
      " CHECKING MAKEDATA (Quantity = 5)\n",
      "\n",
      "\n",
      "<class 'pandas.core.frame.DataFrame'>\n",
      "RangeIndex: 5 entries, 0 to 4\n",
      "Data columns (total 2 columns):\n",
      "x    5 non-null float64\n",
      "y    5 non-null float64\n",
      "dtypes: float64(2)\n",
      "memory usage: 160.0 bytes\n",
      "\n",
      "\n",
      "          x          y\n",
      "0 -0.331912  -1.658178\n",
      "1  0.881298  -2.326590\n",
      "2 -1.999543 -12.359352\n",
      "3 -0.790670  -0.905642\n",
      "4 -1.412976  -6.422995\n",
      "\n",
      " CHECKING POLY DESIGN MATRIX\n",
      "[[ 1.         -0.33191198  0.11016556 -0.03656527]\n",
      " [ 1.          0.88129797  0.77668612  0.6844919 ]\n",
      " [ 1.         -1.9995425   3.99817021 -7.99451126]\n",
      " [ 1.         -0.79066971  0.62515859 -0.49429396]\n",
      " [ 1.         -1.41297644  1.99650241 -2.82101086]]\n"
     ]
    },
    {
     "data": {
      "image/png": "[encoded data removed]",
      "text/plain": [
       "<matplotlib.figure.Figure at 0x275c8948a58>"
      ]
     },
     "metadata": {},
     "output_type": "display_data"
    }
   ],
   "source": [
    "#STEP 0 -  instructor provided\n",
    "\n",
    "def makeData(myseed=1, quantity = 100):\n",
    "    np.random.seed(myseed)\n",
    "    x = np.random.uniform(low=-2.,high=2.,size=quantity)  \n",
    "    y = x - 2 * (x ** 2) + np.random.normal(size=quantity)\n",
    "    df = pd.DataFrame({'x': x, 'y': y})\n",
    "    return(df) \n",
    "\n",
    "\n",
    "def polyDesignMatrix(x, p):\n",
    "    '''returns a polynomial design (numpy) matrix from a single feature column vector x.\n",
    "    The return matrix contains columns of x**0, x**1, … x**p \n",
    "    where p is the desired highest order of the polynomial.'''\n",
    "    x = np.array(x)  \n",
    "    X = np.transpose(np.vstack((x**k for k in range(p+1))))\n",
    "    return(X)\n",
    "\n",
    "\n",
    "#test the function\n",
    "print(\"\\n CHECKING MAKEDATA (Quantity = 5)\")\n",
    "checkdata = makeData(quantity = 5)\n",
    "print(\"\\n\")\n",
    "checkdata.info()\n",
    "checkdata.head()\n",
    "print(\"\\n\")\n",
    "print(checkdata)\n",
    "checkdata.plot.scatter(x='x', y='y')\n",
    "print(\"\\n CHECKING POLY DESIGN MATRIX\")\n",
    "checkpoly = polyDesignMatrix(checkdata['x'],3)\n",
    "print(checkpoly)\n",
    "\n"
   ]
  },
  {
   "cell_type": "markdown",
   "metadata": {},
   "source": [
    "## STEP 1 (data generation and description):"
   ]
  },
  {
   "cell_type": "code",
   "execution_count": 3,
   "metadata": {},
   "outputs": [],
   "source": [
    "df1=makeData()\n",
    "\n",
    "# STUDENTS: add code to display the answers to question 1 in this cell and/or a markdown cell below\n"
   ]
  },
  {
   "cell_type": "markdown",
   "metadata": {},
   "source": [
    "## STEP 2 (scatterplot and description):"
   ]
  },
  {
   "cell_type": "code",
   "execution_count": 4,
   "metadata": {},
   "outputs": [],
   "source": [
    "#---ADD STUDENT CODE HERE"
   ]
  },
  {
   "cell_type": "markdown",
   "metadata": {},
   "source": [
    "## STEP 3 (Ordinary least squares):"
   ]
  },
  {
   "cell_type": "code",
   "execution_count": 5,
   "metadata": {},
   "outputs": [],
   "source": [
    "def getOLScoefficients(X, y):\n",
    "    '''computes and returns the OLS coefficients (betas) from design matrix X\n",
    "    and response variable y.  Returns a ROW VECTOR of betas\n",
    "    First column of design matrix should contain only values equalling 1.'''\n",
    "    betas = []  \n",
    "    #----STUDENT - INSERT CODE HERE TO COMPUTE BETAS\n",
    "    return(betas)\n",
    "\n",
    "def getOLSpredictions(X, betas):\n",
    "    '''computes and returns the OLS predictions (yhat) from design matrix X\n",
    "    and ROW VECTOR betas.  yhat will be a column vector.\n",
    "    First column of design matrix should contain only values equalling 1.'''\n",
    "    predictions = []  \n",
    "    #----STUDENT - INSERT CODE HERE TO COMPUTE PREDICTIONS\n",
    "    return(yhat)\n"
   ]
  },
  {
   "cell_type": "markdown",
   "metadata": {},
   "source": [
    "## STEP 4 (implement LOOCV as a function):"
   ]
  },
  {
   "cell_type": "code",
   "execution_count": 6,
   "metadata": {},
   "outputs": [],
   "source": [
    "def LOOCVerr(df, modelOrder):\n",
    "    #---STUDENT - MODIFY THE CODE HERE---\n",
    "    errorvec = []  #placholder - compute vector of length n containing the n individual squared error terms \n",
    "    return errorvec "
   ]
  },
  {
   "cell_type": "markdown",
   "metadata": {},
   "source": [
    "## STEP 5 (compute LOOCV errors on polynomial model orders 1,2,3,4):"
   ]
  },
  {
   "cell_type": "code",
   "execution_count": 7,
   "metadata": {},
   "outputs": [],
   "source": [
    "#---ADD STUDENT CODE HERE"
   ]
  },
  {
   "cell_type": "markdown",
   "metadata": {},
   "source": [
    "## STEP 6 (plot LOOCV MSE as a function of model order ):"
   ]
  },
  {
   "cell_type": "code",
   "execution_count": 8,
   "metadata": {},
   "outputs": [],
   "source": [
    "#---ADD STUDENT CODE HERE"
   ]
  },
  {
   "cell_type": "markdown",
   "metadata": {},
   "source": [
    "## STEP 7 (implement valset as a function):"
   ]
  },
  {
   "cell_type": "code",
   "execution_count": 9,
   "metadata": {},
   "outputs": [],
   "source": [
    "def VALSETerr(df,modelOrder,splitseed): \n",
    "    mse = []\n",
    "    #---ADD STUDENT CODE HERE\n",
    "    return mse"
   ]
  },
  {
   "cell_type": "markdown",
   "metadata": {},
   "source": [
    "## STEP 8 (implement k-fold cross-validation as a function):"
   ]
  },
  {
   "cell_type": "code",
   "execution_count": 10,
   "metadata": {},
   "outputs": [],
   "source": [
    "def KFOLDerr(df,modelOrder,k,splitseed):\n",
    "    errorterms = []\n",
    "    #---ADD STUDENT CODE HERE\n",
    "    return errorterms"
   ]
  },
  {
   "cell_type": "markdown",
   "metadata": {},
   "source": [
    "## STEP 9 (compute and collect MSEs from validation methods):"
   ]
  },
  {
   "cell_type": "code",
   "execution_count": 11,
   "metadata": {},
   "outputs": [],
   "source": [
    "#---ADD STUDENT CODE HERE"
   ]
  },
  {
   "cell_type": "markdown",
   "metadata": {},
   "source": [
    "## STEP 10 (build \"spaghetti\" plots of cross validation results):"
   ]
  },
  {
   "cell_type": "code",
   "execution_count": 12,
   "metadata": {},
   "outputs": [],
   "source": [
    "#---ADD STUDENT CODE HERE"
   ]
  },
  {
   "cell_type": "markdown",
   "metadata": {},
   "source": [
    "## STEP 11 (human estimate of most reliable validation technique):"
   ]
  },
  {
   "cell_type": "markdown",
   "metadata": {},
   "source": [
    "insert student response here"
   ]
  },
  {
   "cell_type": "markdown",
   "metadata": {},
   "source": [
    "## STEP 12 (algorithmic determination of best-order model from most reliable val method) :"
   ]
  },
  {
   "cell_type": "code",
   "execution_count": 13,
   "metadata": {},
   "outputs": [],
   "source": [
    "#---ADD STUDENT CODE HERE"
   ]
  }
 ],
 "metadata": {
  "kernelspec": {
   "display_name": "Python [default]",
   "language": "python",
   "name": "python3"
  },
  "language_info": {
   "codemirror_mode": {
    "name": "ipython",
    "version": 3
   },
   "file_extension": ".py",
   "mimetype": "text/x-python",
   "name": "python",
   "nbconvert_exporter": "python",
   "pygments_lexer": "ipython3",
   "version": "3.5.4"
  }
 },
 "nbformat": 4,
 "nbformat_minor": 2
}
