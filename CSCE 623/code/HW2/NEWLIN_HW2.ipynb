{
 "cells": [
  {
   "cell_type": "markdown",
   "metadata": {},
   "source": [
    "# CSCE 623 Homework Assignment 2\n",
    "## Student Name: Marvin Newlin\n",
    "## Date: 23 Apr 19\n",
    "\n"
   ]
  },
  {
   "cell_type": "code",
   "execution_count": 167,
   "metadata": {},
   "outputs": [],
   "source": [
    "\"\"\"\n",
    "HW2\n",
    "\"\"\"\n",
    "\n",
    "import numpy as np\n",
    "import matplotlib.pyplot as plt\n",
    "\n",
    "#make plots inline using jupyter magic\n",
    "%matplotlib inline\n",
    "\n",
    "import pandas as pd\n",
    "from pandas.plotting import scatter_matrix\n",
    "from sklearn import datasets, linear_model, metrics\n",
    "\n",
    "# Imports from Chapter 4 Lab\n",
    "import matplotlib as mpl\n",
    "import seaborn as sns\n",
    "\n",
    "import sklearn.linear_model as skl_lm\n",
    "from sklearn.discriminant_analysis import LinearDiscriminantAnalysis\n",
    "from sklearn.discriminant_analysis import QuadraticDiscriminantAnalysis\n",
    "from sklearn.metrics import confusion_matrix, classification_report, precision_score\n",
    "from sklearn import preprocessing\n",
    "from sklearn import neighbors\n",
    "\n",
    "import statsmodels.api as sm\n",
    "import statsmodels.formula.api as smf\n",
    "\n",
    "from IPython.display import Markdown as md  #enable markdown within code cell\n",
    "from IPython.display import display, Math, Latex"
   ]
  },
  {
   "cell_type": "markdown",
   "metadata": {},
   "source": [
    "# Step 1\n",
    "\n",
    "##### Read in CSV files to dataframes"
   ]
  },
  {
   "cell_type": "code",
   "execution_count": 168,
   "metadata": {},
   "outputs": [],
   "source": [
    "# Read CSV files into dataframes\n",
    "data1_csv = 'dataset1.csv'\n",
    "data2_csv = 'dataset2.csv'\n",
    "data3_csv = 'dataset3.csv'\n",
    "\n",
    "#Header lines in CSV files don't give me any useful info so I\n",
    "# skip the header row and add column names that are more useful\n",
    "data1 = pd.read_csv(data1_csv, skiprows=1, names=['index','cat1', 'cat2', 'class'])\n",
    "data2 = pd.read_csv(data2_csv, skiprows=1, names=['index','cat1', 'cat2', 'class'])\n",
    "data3 = pd.read_csv(data3_csv, skiprows=1, names=['index','cat1', 'cat2', 'class'])\n"
   ]
  },
  {
   "cell_type": "markdown",
   "metadata": {},
   "source": [
    "# Step 2\n",
    "\n",
    "#### Display datasets and statistics"
   ]
  },
  {
   "cell_type": "code",
   "execution_count": 169,
   "metadata": {
    "scrolled": true
   },
   "outputs": [
    {
     "data": {
      "text/markdown": [
       "First 5 entries of dataset 1"
      ],
      "text/plain": [
       "<IPython.core.display.Markdown object>"
      ]
     },
     "metadata": {},
     "output_type": "display_data"
    },
    {
     "data": {
      "text/html": [
       "<div>\n",
       "<style scoped>\n",
       "    .dataframe tbody tr th:only-of-type {\n",
       "        vertical-align: middle;\n",
       "    }\n",
       "\n",
       "    .dataframe tbody tr th {\n",
       "        vertical-align: top;\n",
       "    }\n",
       "\n",
       "    .dataframe thead th {\n",
       "        text-align: right;\n",
       "    }\n",
       "</style>\n",
       "<table border=\"1\" class=\"dataframe\">\n",
       "  <thead>\n",
       "    <tr style=\"text-align: right;\">\n",
       "      <th></th>\n",
       "      <th>index</th>\n",
       "      <th>cat1</th>\n",
       "      <th>cat2</th>\n",
       "      <th>class</th>\n",
       "    </tr>\n",
       "  </thead>\n",
       "  <tbody>\n",
       "    <tr>\n",
       "      <th>0</th>\n",
       "      <td>0</td>\n",
       "      <td>0.548814</td>\n",
       "      <td>0.715189</td>\n",
       "      <td>0.0</td>\n",
       "    </tr>\n",
       "    <tr>\n",
       "      <th>1</th>\n",
       "      <td>1</td>\n",
       "      <td>0.602763</td>\n",
       "      <td>0.544883</td>\n",
       "      <td>0.0</td>\n",
       "    </tr>\n",
       "    <tr>\n",
       "      <th>2</th>\n",
       "      <td>2</td>\n",
       "      <td>0.423655</td>\n",
       "      <td>0.645894</td>\n",
       "      <td>0.0</td>\n",
       "    </tr>\n",
       "    <tr>\n",
       "      <th>3</th>\n",
       "      <td>3</td>\n",
       "      <td>0.437587</td>\n",
       "      <td>0.891773</td>\n",
       "      <td>0.0</td>\n",
       "    </tr>\n",
       "    <tr>\n",
       "      <th>4</th>\n",
       "      <td>4</td>\n",
       "      <td>0.963663</td>\n",
       "      <td>0.383442</td>\n",
       "      <td>0.0</td>\n",
       "    </tr>\n",
       "  </tbody>\n",
       "</table>\n",
       "</div>"
      ],
      "text/plain": [
       "   index      cat1      cat2  class\n",
       "0      0  0.548814  0.715189    0.0\n",
       "1      1  0.602763  0.544883    0.0\n",
       "2      2  0.423655  0.645894    0.0\n",
       "3      3  0.437587  0.891773    0.0\n",
       "4      4  0.963663  0.383442    0.0"
      ]
     },
     "metadata": {},
     "output_type": "display_data"
    },
    {
     "data": {
      "text/markdown": [
       "Dataset 1 statistics"
      ],
      "text/plain": [
       "<IPython.core.display.Markdown object>"
      ]
     },
     "metadata": {},
     "output_type": "display_data"
    },
    {
     "data": {
      "text/html": [
       "<div>\n",
       "<style scoped>\n",
       "    .dataframe tbody tr th:only-of-type {\n",
       "        vertical-align: middle;\n",
       "    }\n",
       "\n",
       "    .dataframe tbody tr th {\n",
       "        vertical-align: top;\n",
       "    }\n",
       "\n",
       "    .dataframe thead th {\n",
       "        text-align: right;\n",
       "    }\n",
       "</style>\n",
       "<table border=\"1\" class=\"dataframe\">\n",
       "  <thead>\n",
       "    <tr style=\"text-align: right;\">\n",
       "      <th></th>\n",
       "      <th>index</th>\n",
       "      <th>cat1</th>\n",
       "      <th>cat2</th>\n",
       "      <th>class</th>\n",
       "    </tr>\n",
       "  </thead>\n",
       "  <tbody>\n",
       "    <tr>\n",
       "      <th>count</th>\n",
       "      <td>600.000000</td>\n",
       "      <td>600.000000</td>\n",
       "      <td>600.000000</td>\n",
       "      <td>600.000000</td>\n",
       "    </tr>\n",
       "    <tr>\n",
       "      <th>mean</th>\n",
       "      <td>299.500000</td>\n",
       "      <td>0.747401</td>\n",
       "      <td>0.494678</td>\n",
       "      <td>0.500000</td>\n",
       "    </tr>\n",
       "    <tr>\n",
       "      <th>std</th>\n",
       "      <td>173.349358</td>\n",
       "      <td>0.380747</td>\n",
       "      <td>0.296411</td>\n",
       "      <td>0.500417</td>\n",
       "    </tr>\n",
       "    <tr>\n",
       "      <th>min</th>\n",
       "      <td>0.000000</td>\n",
       "      <td>0.002703</td>\n",
       "      <td>0.000546</td>\n",
       "      <td>0.000000</td>\n",
       "    </tr>\n",
       "    <tr>\n",
       "      <th>25%</th>\n",
       "      <td>149.750000</td>\n",
       "      <td>0.510941</td>\n",
       "      <td>0.244774</td>\n",
       "      <td>0.000000</td>\n",
       "    </tr>\n",
       "    <tr>\n",
       "      <th>50%</th>\n",
       "      <td>299.500000</td>\n",
       "      <td>0.730347</td>\n",
       "      <td>0.466113</td>\n",
       "      <td>0.500000</td>\n",
       "    </tr>\n",
       "    <tr>\n",
       "      <th>75%</th>\n",
       "      <td>449.250000</td>\n",
       "      <td>0.984056</td>\n",
       "      <td>0.754525</td>\n",
       "      <td>1.000000</td>\n",
       "    </tr>\n",
       "    <tr>\n",
       "      <th>max</th>\n",
       "      <td>599.000000</td>\n",
       "      <td>1.499809</td>\n",
       "      <td>0.999278</td>\n",
       "      <td>1.000000</td>\n",
       "    </tr>\n",
       "  </tbody>\n",
       "</table>\n",
       "</div>"
      ],
      "text/plain": [
       "            index        cat1        cat2       class\n",
       "count  600.000000  600.000000  600.000000  600.000000\n",
       "mean   299.500000    0.747401    0.494678    0.500000\n",
       "std    173.349358    0.380747    0.296411    0.500417\n",
       "min      0.000000    0.002703    0.000546    0.000000\n",
       "25%    149.750000    0.510941    0.244774    0.000000\n",
       "50%    299.500000    0.730347    0.466113    0.500000\n",
       "75%    449.250000    0.984056    0.754525    1.000000\n",
       "max    599.000000    1.499809    0.999278    1.000000"
      ]
     },
     "metadata": {},
     "output_type": "display_data"
    },
    {
     "data": {
      "text/markdown": [
       "First 5 entries of dataset 2"
      ],
      "text/plain": [
       "<IPython.core.display.Markdown object>"
      ]
     },
     "metadata": {},
     "output_type": "display_data"
    },
    {
     "data": {
      "text/html": [
       "<div>\n",
       "<style scoped>\n",
       "    .dataframe tbody tr th:only-of-type {\n",
       "        vertical-align: middle;\n",
       "    }\n",
       "\n",
       "    .dataframe tbody tr th {\n",
       "        vertical-align: top;\n",
       "    }\n",
       "\n",
       "    .dataframe thead th {\n",
       "        text-align: right;\n",
       "    }\n",
       "</style>\n",
       "<table border=\"1\" class=\"dataframe\">\n",
       "  <thead>\n",
       "    <tr style=\"text-align: right;\">\n",
       "      <th></th>\n",
       "      <th>index</th>\n",
       "      <th>cat1</th>\n",
       "      <th>cat2</th>\n",
       "      <th>class</th>\n",
       "    </tr>\n",
       "  </thead>\n",
       "  <tbody>\n",
       "    <tr>\n",
       "      <th>0</th>\n",
       "      <td>0</td>\n",
       "      <td>0.332130</td>\n",
       "      <td>-0.313696</td>\n",
       "      <td>0.0</td>\n",
       "    </tr>\n",
       "    <tr>\n",
       "      <th>1</th>\n",
       "      <td>1</td>\n",
       "      <td>1.859941</td>\n",
       "      <td>0.290296</td>\n",
       "      <td>0.0</td>\n",
       "    </tr>\n",
       "    <tr>\n",
       "      <th>2</th>\n",
       "      <td>2</td>\n",
       "      <td>-0.811141</td>\n",
       "      <td>-0.654312</td>\n",
       "      <td>0.0</td>\n",
       "    </tr>\n",
       "    <tr>\n",
       "      <th>3</th>\n",
       "      <td>3</td>\n",
       "      <td>-0.125626</td>\n",
       "      <td>-0.253332</td>\n",
       "      <td>0.0</td>\n",
       "    </tr>\n",
       "    <tr>\n",
       "      <th>4</th>\n",
       "      <td>4</td>\n",
       "      <td>0.340797</td>\n",
       "      <td>0.118178</td>\n",
       "      <td>0.0</td>\n",
       "    </tr>\n",
       "  </tbody>\n",
       "</table>\n",
       "</div>"
      ],
      "text/plain": [
       "   index      cat1      cat2  class\n",
       "0      0  0.332130 -0.313696    0.0\n",
       "1      1  1.859941  0.290296    0.0\n",
       "2      2 -0.811141 -0.654312    0.0\n",
       "3      3 -0.125626 -0.253332    0.0\n",
       "4      4  0.340797  0.118178    0.0"
      ]
     },
     "metadata": {},
     "output_type": "display_data"
    },
    {
     "data": {
      "text/markdown": [
       "Dataset 2 statistics"
      ],
      "text/plain": [
       "<IPython.core.display.Markdown object>"
      ]
     },
     "metadata": {},
     "output_type": "display_data"
    },
    {
     "data": {
      "text/html": [
       "<div>\n",
       "<style scoped>\n",
       "    .dataframe tbody tr th:only-of-type {\n",
       "        vertical-align: middle;\n",
       "    }\n",
       "\n",
       "    .dataframe tbody tr th {\n",
       "        vertical-align: top;\n",
       "    }\n",
       "\n",
       "    .dataframe thead th {\n",
       "        text-align: right;\n",
       "    }\n",
       "</style>\n",
       "<table border=\"1\" class=\"dataframe\">\n",
       "  <thead>\n",
       "    <tr style=\"text-align: right;\">\n",
       "      <th></th>\n",
       "      <th>index</th>\n",
       "      <th>cat1</th>\n",
       "      <th>cat2</th>\n",
       "      <th>class</th>\n",
       "    </tr>\n",
       "  </thead>\n",
       "  <tbody>\n",
       "    <tr>\n",
       "      <th>count</th>\n",
       "      <td>600.000000</td>\n",
       "      <td>600.000000</td>\n",
       "      <td>600.000000</td>\n",
       "      <td>600.000000</td>\n",
       "    </tr>\n",
       "    <tr>\n",
       "      <th>mean</th>\n",
       "      <td>299.500000</td>\n",
       "      <td>0.473725</td>\n",
       "      <td>0.495420</td>\n",
       "      <td>0.500000</td>\n",
       "    </tr>\n",
       "    <tr>\n",
       "      <th>std</th>\n",
       "      <td>173.349358</td>\n",
       "      <td>0.951497</td>\n",
       "      <td>0.576779</td>\n",
       "      <td>0.500417</td>\n",
       "    </tr>\n",
       "    <tr>\n",
       "      <th>min</th>\n",
       "      <td>0.000000</td>\n",
       "      <td>-2.528299</td>\n",
       "      <td>-0.856548</td>\n",
       "      <td>0.000000</td>\n",
       "    </tr>\n",
       "    <tr>\n",
       "      <th>25%</th>\n",
       "      <td>149.750000</td>\n",
       "      <td>-0.152288</td>\n",
       "      <td>0.018048</td>\n",
       "      <td>0.000000</td>\n",
       "    </tr>\n",
       "    <tr>\n",
       "      <th>50%</th>\n",
       "      <td>299.500000</td>\n",
       "      <td>0.460075</td>\n",
       "      <td>0.515972</td>\n",
       "      <td>0.500000</td>\n",
       "    </tr>\n",
       "    <tr>\n",
       "      <th>75%</th>\n",
       "      <td>449.250000</td>\n",
       "      <td>1.121963</td>\n",
       "      <td>0.973737</td>\n",
       "      <td>1.000000</td>\n",
       "    </tr>\n",
       "    <tr>\n",
       "      <th>max</th>\n",
       "      <td>599.000000</td>\n",
       "      <td>3.290265</td>\n",
       "      <td>1.786571</td>\n",
       "      <td>1.000000</td>\n",
       "    </tr>\n",
       "  </tbody>\n",
       "</table>\n",
       "</div>"
      ],
      "text/plain": [
       "            index        cat1        cat2       class\n",
       "count  600.000000  600.000000  600.000000  600.000000\n",
       "mean   299.500000    0.473725    0.495420    0.500000\n",
       "std    173.349358    0.951497    0.576779    0.500417\n",
       "min      0.000000   -2.528299   -0.856548    0.000000\n",
       "25%    149.750000   -0.152288    0.018048    0.000000\n",
       "50%    299.500000    0.460075    0.515972    0.500000\n",
       "75%    449.250000    1.121963    0.973737    1.000000\n",
       "max    599.000000    3.290265    1.786571    1.000000"
      ]
     },
     "metadata": {},
     "output_type": "display_data"
    },
    {
     "data": {
      "text/markdown": [
       "First 5 entries of dataset 3"
      ],
      "text/plain": [
       "<IPython.core.display.Markdown object>"
      ]
     },
     "metadata": {},
     "output_type": "display_data"
    },
    {
     "data": {
      "text/html": [
       "<div>\n",
       "<style scoped>\n",
       "    .dataframe tbody tr th:only-of-type {\n",
       "        vertical-align: middle;\n",
       "    }\n",
       "\n",
       "    .dataframe tbody tr th {\n",
       "        vertical-align: top;\n",
       "    }\n",
       "\n",
       "    .dataframe thead th {\n",
       "        text-align: right;\n",
       "    }\n",
       "</style>\n",
       "<table border=\"1\" class=\"dataframe\">\n",
       "  <thead>\n",
       "    <tr style=\"text-align: right;\">\n",
       "      <th></th>\n",
       "      <th>index</th>\n",
       "      <th>cat1</th>\n",
       "      <th>cat2</th>\n",
       "      <th>class</th>\n",
       "    </tr>\n",
       "  </thead>\n",
       "  <tbody>\n",
       "    <tr>\n",
       "      <th>0</th>\n",
       "      <td>0</td>\n",
       "      <td>2.000786</td>\n",
       "      <td>-2.967885</td>\n",
       "      <td>0.0</td>\n",
       "    </tr>\n",
       "    <tr>\n",
       "      <th>1</th>\n",
       "      <td>1</td>\n",
       "      <td>11.204466</td>\n",
       "      <td>1.179775</td>\n",
       "      <td>0.0</td>\n",
       "    </tr>\n",
       "    <tr>\n",
       "      <th>2</th>\n",
       "      <td>2</td>\n",
       "      <td>-4.886389</td>\n",
       "      <td>-5.103305</td>\n",
       "      <td>0.0</td>\n",
       "    </tr>\n",
       "    <tr>\n",
       "      <th>3</th>\n",
       "      <td>3</td>\n",
       "      <td>-0.756786</td>\n",
       "      <td>-2.112077</td>\n",
       "      <td>0.0</td>\n",
       "    </tr>\n",
       "    <tr>\n",
       "      <th>4</th>\n",
       "      <td>4</td>\n",
       "      <td>2.052993</td>\n",
       "      <td>0.781276</td>\n",
       "      <td>0.0</td>\n",
       "    </tr>\n",
       "  </tbody>\n",
       "</table>\n",
       "</div>"
      ],
      "text/plain": [
       "   index       cat1      cat2  class\n",
       "0      0   2.000786 -2.967885    0.0\n",
       "1      1  11.204466  1.179775    0.0\n",
       "2      2  -4.886389 -5.103305    0.0\n",
       "3      3  -0.756786 -2.112077    0.0\n",
       "4      4   2.052993  0.781276    0.0"
      ]
     },
     "metadata": {},
     "output_type": "display_data"
    },
    {
     "data": {
      "text/markdown": [
       "Dataset 3 statistics"
      ],
      "text/plain": [
       "<IPython.core.display.Markdown object>"
      ]
     },
     "metadata": {},
     "output_type": "display_data"
    },
    {
     "data": {
      "text/html": [
       "<div>\n",
       "<style scoped>\n",
       "    .dataframe tbody tr th:only-of-type {\n",
       "        vertical-align: middle;\n",
       "    }\n",
       "\n",
       "    .dataframe tbody tr th {\n",
       "        vertical-align: top;\n",
       "    }\n",
       "\n",
       "    .dataframe thead th {\n",
       "        text-align: right;\n",
       "    }\n",
       "</style>\n",
       "<table border=\"1\" class=\"dataframe\">\n",
       "  <thead>\n",
       "    <tr style=\"text-align: right;\">\n",
       "      <th></th>\n",
       "      <th>index</th>\n",
       "      <th>cat1</th>\n",
       "      <th>cat2</th>\n",
       "      <th>class</th>\n",
       "    </tr>\n",
       "  </thead>\n",
       "  <tbody>\n",
       "    <tr>\n",
       "      <th>count</th>\n",
       "      <td>600.000000</td>\n",
       "      <td>600.000000</td>\n",
       "      <td>600.000000</td>\n",
       "      <td>600.000000</td>\n",
       "    </tr>\n",
       "    <tr>\n",
       "      <th>mean</th>\n",
       "      <td>299.500000</td>\n",
       "      <td>0.477786</td>\n",
       "      <td>2.196081</td>\n",
       "      <td>0.500000</td>\n",
       "    </tr>\n",
       "    <tr>\n",
       "      <th>std</th>\n",
       "      <td>173.349358</td>\n",
       "      <td>3.822859</td>\n",
       "      <td>4.382142</td>\n",
       "      <td>0.500417</td>\n",
       "    </tr>\n",
       "    <tr>\n",
       "      <th>min</th>\n",
       "      <td>0.000000</td>\n",
       "      <td>-15.230715</td>\n",
       "      <td>-10.529514</td>\n",
       "      <td>0.000000</td>\n",
       "    </tr>\n",
       "    <tr>\n",
       "      <th>25%</th>\n",
       "      <td>149.750000</td>\n",
       "      <td>-1.234267</td>\n",
       "      <td>-0.722251</td>\n",
       "      <td>0.000000</td>\n",
       "    </tr>\n",
       "    <tr>\n",
       "      <th>50%</th>\n",
       "      <td>299.500000</td>\n",
       "      <td>0.802649</td>\n",
       "      <td>1.376222</td>\n",
       "      <td>0.500000</td>\n",
       "    </tr>\n",
       "    <tr>\n",
       "      <th>75%</th>\n",
       "      <td>449.250000</td>\n",
       "      <td>2.632443</td>\n",
       "      <td>4.799941</td>\n",
       "      <td>1.000000</td>\n",
       "    </tr>\n",
       "    <tr>\n",
       "      <th>max</th>\n",
       "      <td>599.000000</td>\n",
       "      <td>12.062268</td>\n",
       "      <td>20.120173</td>\n",
       "      <td>1.000000</td>\n",
       "    </tr>\n",
       "  </tbody>\n",
       "</table>\n",
       "</div>"
      ],
      "text/plain": [
       "            index        cat1        cat2       class\n",
       "count  600.000000  600.000000  600.000000  600.000000\n",
       "mean   299.500000    0.477786    2.196081    0.500000\n",
       "std    173.349358    3.822859    4.382142    0.500417\n",
       "min      0.000000  -15.230715  -10.529514    0.000000\n",
       "25%    149.750000   -1.234267   -0.722251    0.000000\n",
       "50%    299.500000    0.802649    1.376222    0.500000\n",
       "75%    449.250000    2.632443    4.799941    1.000000\n",
       "max    599.000000   12.062268   20.120173    1.000000"
      ]
     },
     "metadata": {},
     "output_type": "display_data"
    }
   ],
   "source": [
    "display(md(\"First 5 entries of dataset 1\"))\n",
    "display(data1.head())\n",
    "display(md(\"Dataset 1 statistics\"))\n",
    "display(data1.describe())\n",
    "display(md(\"First 5 entries of dataset 2\"))\n",
    "display(data2.head())\n",
    "display(md(\"Dataset 2 statistics\"))\n",
    "display(data2.describe())\n",
    "display(md(\"First 5 entries of dataset 3\"))\n",
    "display(data3.head())\n",
    "display(md(\"Dataset 3 statistics\"))\n",
    "display(data3.describe())"
   ]
  },
  {
   "cell_type": "code",
   "execution_count": 170,
   "metadata": {},
   "outputs": [
    {
     "data": {
      "text/plain": [
       "Text(0.5, 1.0, 'Scatterplot of Dataset 3')"
      ]
     },
     "execution_count": 170,
     "metadata": {},
     "output_type": "execute_result"
    },
    {
     "data": {
      "image/png": "[encoded data removed]",
      "text/plain": [
       "<Figure size 1296x360 with 3 Axes>"
      ]
     },
     "metadata": {
      "needs_background": "light"
     },
     "output_type": "display_data"
    }
   ],
   "source": [
    "# Code for plotting scatter plot of data. Code modified from ISLR Chapter 4 lab code on github\n",
    "fig1 = plt.figure(figsize=(18,5))\n",
    "gs = mpl.gridspec.GridSpec(1, 3)\n",
    "ax1 = plt.subplot(gs[0,0])\n",
    "ax1.scatter(data1[data1['class']==0].cat1, data1[data1['class']==0].cat2, c='red', marker='+', linewidths=1)\n",
    "ax1.scatter(data1[data1['class']==1].cat1, data1[data1['class']==1].cat2, c='blue', marker='o', linewidths=1,\n",
    "           edgecolors='lightblue', facecolors='white', alpha=.9)\n",
    "ax1.set_ylabel('Category 2')\n",
    "ax1.set_xlabel('Category 1')\n",
    "ax1.set_title('Scatterplot of Dataset 1')\n",
    "#Plot dataset 2\n",
    "ax2 = plt.subplot(gs[0,1])\n",
    "ax2.scatter(data2[data2['class']==0].cat1, data2[data2['class']==0].cat2, c='red', marker='+', linewidths=1)\n",
    "ax2.scatter(data2[data2['class']==1].cat1, data2[data2['class']==1].cat2, c='blue', marker='o', linewidths=1,\n",
    "           edgecolors='lightblue', facecolors='white', alpha=.9)\n",
    "ax2.set_ylabel('Category 2')\n",
    "ax2.set_xlabel('Category 1')\n",
    "ax2.set_title('Scatterplot of Dataset 2')\n",
    "#Plot dataset 3\n",
    "ax3 = plt.subplot(gs[0,2])\n",
    "ax3.scatter(data3[data3['class']==0].cat1, data3[data3['class']==0].cat2, c='red', marker='+', linewidths=1)\n",
    "ax3.scatter(data3[data3['class']==1].cat1, data3[data3['class']==1].cat2, c='blue', marker='o', linewidths=1,\n",
    "           edgecolors='lightblue', facecolors='white', alpha=.9)\n",
    "ax3.set_ylabel('Category 2')\n",
    "ax3.set_xlabel('Category 1')\n",
    "ax3.set_title('Scatterplot of Dataset 3')"
   ]
  },
  {
   "cell_type": "markdown",
   "metadata": {},
   "source": [
    "# Step 3\n",
    "\n",
    "#### Discussion of Datasets"
   ]
  },
  {
   "cell_type": "markdown",
   "metadata": {},
   "source": [
    "# Step 4\n",
    "\n",
    "#### Split datasets into test and training"
   ]
  },
  {
   "cell_type": "code",
   "execution_count": 171,
   "metadata": {},
   "outputs": [],
   "source": [
    "#The code for this function is based on the in class logistic1d function code\n",
    "\"\"\"\n",
    "This function splits the provided dataframe into test and training sets based on the provided\n",
    "split fraction (a float between 0 and 1)\n",
    "\"\"\"\n",
    "def split_test_train(df, fraction):\n",
    "    length = len(df['index'])\n",
    "    df_train0 = df[df['index'] < (length/4)] # first half of 0 class (first 1/4th of the dataset) \n",
    "    df_train1 = df[(df['index'] >= (length/2)) & (df['index'] < (3*length/4))] # first half of 1 class (3rd quarter)\n",
    "    df_test0 = df[(df['index'] >= (length/4)) & (df['index'] < (length/2))] # second half of 0 class (2nd quarter)\n",
    "    df_test1 = df[df['index'] >= (3*length/4)] # second half of 1 class (last quarter)\n",
    "    train_frames = [df_train0, df_train1]\n",
    "    df_train = pd.concat(train_frames)\n",
    "    test_frames = [df_test0, df_test1]\n",
    "    df_test = pd.concat(test_frames)\n",
    "    return (df_test, df_train)\n"
   ]
  },
  {
   "cell_type": "markdown",
   "metadata": {},
   "source": [
    "### Dataset 1"
   ]
  },
  {
   "cell_type": "code",
   "execution_count": 172,
   "metadata": {},
   "outputs": [
    {
     "data": {
      "text/html": [
       "<div>\n",
       "<style scoped>\n",
       "    .dataframe tbody tr th:only-of-type {\n",
       "        vertical-align: middle;\n",
       "    }\n",
       "\n",
       "    .dataframe tbody tr th {\n",
       "        vertical-align: top;\n",
       "    }\n",
       "\n",
       "    .dataframe thead th {\n",
       "        text-align: right;\n",
       "    }\n",
       "</style>\n",
       "<table border=\"1\" class=\"dataframe\">\n",
       "  <thead>\n",
       "    <tr style=\"text-align: right;\">\n",
       "      <th></th>\n",
       "      <th>index</th>\n",
       "      <th>cat1</th>\n",
       "      <th>cat2</th>\n",
       "      <th>class</th>\n",
       "    </tr>\n",
       "  </thead>\n",
       "  <tbody>\n",
       "    <tr>\n",
       "      <th>count</th>\n",
       "      <td>300.000000</td>\n",
       "      <td>300.000000</td>\n",
       "      <td>300.000000</td>\n",
       "      <td>300.000000</td>\n",
       "    </tr>\n",
       "    <tr>\n",
       "      <th>mean</th>\n",
       "      <td>374.500000</td>\n",
       "      <td>0.736856</td>\n",
       "      <td>0.501839</td>\n",
       "      <td>0.500000</td>\n",
       "    </tr>\n",
       "    <tr>\n",
       "      <th>std</th>\n",
       "      <td>156.385543</td>\n",
       "      <td>0.383782</td>\n",
       "      <td>0.303126</td>\n",
       "      <td>0.500835</td>\n",
       "    </tr>\n",
       "    <tr>\n",
       "      <th>min</th>\n",
       "      <td>150.000000</td>\n",
       "      <td>0.002703</td>\n",
       "      <td>0.010064</td>\n",
       "      <td>0.000000</td>\n",
       "    </tr>\n",
       "    <tr>\n",
       "      <th>25%</th>\n",
       "      <td>224.750000</td>\n",
       "      <td>0.501715</td>\n",
       "      <td>0.255383</td>\n",
       "      <td>0.000000</td>\n",
       "    </tr>\n",
       "    <tr>\n",
       "      <th>50%</th>\n",
       "      <td>374.500000</td>\n",
       "      <td>0.725004</td>\n",
       "      <td>0.457067</td>\n",
       "      <td>0.500000</td>\n",
       "    </tr>\n",
       "    <tr>\n",
       "      <th>75%</th>\n",
       "      <td>524.250000</td>\n",
       "      <td>0.984056</td>\n",
       "      <td>0.784684</td>\n",
       "      <td>1.000000</td>\n",
       "    </tr>\n",
       "    <tr>\n",
       "      <th>max</th>\n",
       "      <td>599.000000</td>\n",
       "      <td>1.499809</td>\n",
       "      <td>0.997994</td>\n",
       "      <td>1.000000</td>\n",
       "    </tr>\n",
       "  </tbody>\n",
       "</table>\n",
       "</div>"
      ],
      "text/plain": [
       "            index        cat1        cat2       class\n",
       "count  300.000000  300.000000  300.000000  300.000000\n",
       "mean   374.500000    0.736856    0.501839    0.500000\n",
       "std    156.385543    0.383782    0.303126    0.500835\n",
       "min    150.000000    0.002703    0.010064    0.000000\n",
       "25%    224.750000    0.501715    0.255383    0.000000\n",
       "50%    374.500000    0.725004    0.457067    0.500000\n",
       "75%    524.250000    0.984056    0.784684    1.000000\n",
       "max    599.000000    1.499809    0.997994    1.000000"
      ]
     },
     "metadata": {},
     "output_type": "display_data"
    },
    {
     "data": {
      "text/html": [
       "<div>\n",
       "<style scoped>\n",
       "    .dataframe tbody tr th:only-of-type {\n",
       "        vertical-align: middle;\n",
       "    }\n",
       "\n",
       "    .dataframe tbody tr th {\n",
       "        vertical-align: top;\n",
       "    }\n",
       "\n",
       "    .dataframe thead th {\n",
       "        text-align: right;\n",
       "    }\n",
       "</style>\n",
       "<table border=\"1\" class=\"dataframe\">\n",
       "  <thead>\n",
       "    <tr style=\"text-align: right;\">\n",
       "      <th></th>\n",
       "      <th>index</th>\n",
       "      <th>cat1</th>\n",
       "      <th>cat2</th>\n",
       "      <th>class</th>\n",
       "    </tr>\n",
       "  </thead>\n",
       "  <tbody>\n",
       "    <tr>\n",
       "      <th>150</th>\n",
       "      <td>150</td>\n",
       "      <td>0.906555</td>\n",
       "      <td>0.774047</td>\n",
       "      <td>0.0</td>\n",
       "    </tr>\n",
       "    <tr>\n",
       "      <th>151</th>\n",
       "      <td>151</td>\n",
       "      <td>0.333145</td>\n",
       "      <td>0.081101</td>\n",
       "      <td>0.0</td>\n",
       "    </tr>\n",
       "    <tr>\n",
       "      <th>152</th>\n",
       "      <td>152</td>\n",
       "      <td>0.407241</td>\n",
       "      <td>0.232234</td>\n",
       "      <td>0.0</td>\n",
       "    </tr>\n",
       "    <tr>\n",
       "      <th>153</th>\n",
       "      <td>153</td>\n",
       "      <td>0.132488</td>\n",
       "      <td>0.053427</td>\n",
       "      <td>0.0</td>\n",
       "    </tr>\n",
       "    <tr>\n",
       "      <th>154</th>\n",
       "      <td>154</td>\n",
       "      <td>0.725594</td>\n",
       "      <td>0.011427</td>\n",
       "      <td>0.0</td>\n",
       "    </tr>\n",
       "  </tbody>\n",
       "</table>\n",
       "</div>"
      ],
      "text/plain": [
       "     index      cat1      cat2  class\n",
       "150    150  0.906555  0.774047    0.0\n",
       "151    151  0.333145  0.081101    0.0\n",
       "152    152  0.407241  0.232234    0.0\n",
       "153    153  0.132488  0.053427    0.0\n",
       "154    154  0.725594  0.011427    0.0"
      ]
     },
     "metadata": {},
     "output_type": "display_data"
    },
    {
     "data": {
      "text/html": [
       "<div>\n",
       "<style scoped>\n",
       "    .dataframe tbody tr th:only-of-type {\n",
       "        vertical-align: middle;\n",
       "    }\n",
       "\n",
       "    .dataframe tbody tr th {\n",
       "        vertical-align: top;\n",
       "    }\n",
       "\n",
       "    .dataframe thead th {\n",
       "        text-align: right;\n",
       "    }\n",
       "</style>\n",
       "<table border=\"1\" class=\"dataframe\">\n",
       "  <thead>\n",
       "    <tr style=\"text-align: right;\">\n",
       "      <th></th>\n",
       "      <th>index</th>\n",
       "      <th>cat1</th>\n",
       "      <th>cat2</th>\n",
       "      <th>class</th>\n",
       "    </tr>\n",
       "  </thead>\n",
       "  <tbody>\n",
       "    <tr>\n",
       "      <th>count</th>\n",
       "      <td>300.000000</td>\n",
       "      <td>300.000000</td>\n",
       "      <td>300.000000</td>\n",
       "      <td>300.000000</td>\n",
       "    </tr>\n",
       "    <tr>\n",
       "      <th>mean</th>\n",
       "      <td>224.500000</td>\n",
       "      <td>0.757946</td>\n",
       "      <td>0.487518</td>\n",
       "      <td>0.500000</td>\n",
       "    </tr>\n",
       "    <tr>\n",
       "      <th>std</th>\n",
       "      <td>156.385543</td>\n",
       "      <td>0.378033</td>\n",
       "      <td>0.289869</td>\n",
       "      <td>0.500835</td>\n",
       "    </tr>\n",
       "    <tr>\n",
       "      <th>min</th>\n",
       "      <td>0.000000</td>\n",
       "      <td>0.011714</td>\n",
       "      <td>0.000546</td>\n",
       "      <td>0.000000</td>\n",
       "    </tr>\n",
       "    <tr>\n",
       "      <th>25%</th>\n",
       "      <td>74.750000</td>\n",
       "      <td>0.522898</td>\n",
       "      <td>0.238283</td>\n",
       "      <td>0.000000</td>\n",
       "    </tr>\n",
       "    <tr>\n",
       "      <th>50%</th>\n",
       "      <td>224.500000</td>\n",
       "      <td>0.740554</td>\n",
       "      <td>0.478877</td>\n",
       "      <td>0.500000</td>\n",
       "    </tr>\n",
       "    <tr>\n",
       "      <th>75%</th>\n",
       "      <td>374.250000</td>\n",
       "      <td>0.983291</td>\n",
       "      <td>0.731078</td>\n",
       "      <td>1.000000</td>\n",
       "    </tr>\n",
       "    <tr>\n",
       "      <th>max</th>\n",
       "      <td>449.000000</td>\n",
       "      <td>1.491890</td>\n",
       "      <td>0.999278</td>\n",
       "      <td>1.000000</td>\n",
       "    </tr>\n",
       "  </tbody>\n",
       "</table>\n",
       "</div>"
      ],
      "text/plain": [
       "            index        cat1        cat2       class\n",
       "count  300.000000  300.000000  300.000000  300.000000\n",
       "mean   224.500000    0.757946    0.487518    0.500000\n",
       "std    156.385543    0.378033    0.289869    0.500835\n",
       "min      0.000000    0.011714    0.000546    0.000000\n",
       "25%     74.750000    0.522898    0.238283    0.000000\n",
       "50%    224.500000    0.740554    0.478877    0.500000\n",
       "75%    374.250000    0.983291    0.731078    1.000000\n",
       "max    449.000000    1.491890    0.999278    1.000000"
      ]
     },
     "metadata": {},
     "output_type": "display_data"
    },
    {
     "data": {
      "text/html": [
       "<div>\n",
       "<style scoped>\n",
       "    .dataframe tbody tr th:only-of-type {\n",
       "        vertical-align: middle;\n",
       "    }\n",
       "\n",
       "    .dataframe tbody tr th {\n",
       "        vertical-align: top;\n",
       "    }\n",
       "\n",
       "    .dataframe thead th {\n",
       "        text-align: right;\n",
       "    }\n",
       "</style>\n",
       "<table border=\"1\" class=\"dataframe\">\n",
       "  <thead>\n",
       "    <tr style=\"text-align: right;\">\n",
       "      <th></th>\n",
       "      <th>index</th>\n",
       "      <th>cat1</th>\n",
       "      <th>cat2</th>\n",
       "      <th>class</th>\n",
       "    </tr>\n",
       "  </thead>\n",
       "  <tbody>\n",
       "    <tr>\n",
       "      <th>0</th>\n",
       "      <td>0</td>\n",
       "      <td>0.548814</td>\n",
       "      <td>0.715189</td>\n",
       "      <td>0.0</td>\n",
       "    </tr>\n",
       "    <tr>\n",
       "      <th>1</th>\n",
       "      <td>1</td>\n",
       "      <td>0.602763</td>\n",
       "      <td>0.544883</td>\n",
       "      <td>0.0</td>\n",
       "    </tr>\n",
       "    <tr>\n",
       "      <th>2</th>\n",
       "      <td>2</td>\n",
       "      <td>0.423655</td>\n",
       "      <td>0.645894</td>\n",
       "      <td>0.0</td>\n",
       "    </tr>\n",
       "    <tr>\n",
       "      <th>3</th>\n",
       "      <td>3</td>\n",
       "      <td>0.437587</td>\n",
       "      <td>0.891773</td>\n",
       "      <td>0.0</td>\n",
       "    </tr>\n",
       "    <tr>\n",
       "      <th>4</th>\n",
       "      <td>4</td>\n",
       "      <td>0.963663</td>\n",
       "      <td>0.383442</td>\n",
       "      <td>0.0</td>\n",
       "    </tr>\n",
       "  </tbody>\n",
       "</table>\n",
       "</div>"
      ],
      "text/plain": [
       "   index      cat1      cat2  class\n",
       "0      0  0.548814  0.715189    0.0\n",
       "1      1  0.602763  0.544883    0.0\n",
       "2      2  0.423655  0.645894    0.0\n",
       "3      3  0.437587  0.891773    0.0\n",
       "4      4  0.963663  0.383442    0.0"
      ]
     },
     "metadata": {},
     "output_type": "display_data"
    }
   ],
   "source": [
    "#Split dataset 1 into test and train\n",
    "test_train1 = split_test_train(data1, 0.5)\n",
    "data1_test = test_train1[0]\n",
    "data1_train = test_train1[1]\n",
    "\n",
    "display(data1_test.describe())\n",
    "display(data1_test.head())\n",
    "display(data1_train.describe())\n",
    "display(data1_train.head())\n"
   ]
  },
  {
   "cell_type": "markdown",
   "metadata": {},
   "source": [
    "### Dataset 2\n",
    "    "
   ]
  },
  {
   "cell_type": "code",
   "execution_count": 173,
   "metadata": {},
   "outputs": [
    {
     "data": {
      "text/html": [
       "<div>\n",
       "<style scoped>\n",
       "    .dataframe tbody tr th:only-of-type {\n",
       "        vertical-align: middle;\n",
       "    }\n",
       "\n",
       "    .dataframe tbody tr th {\n",
       "        vertical-align: top;\n",
       "    }\n",
       "\n",
       "    .dataframe thead th {\n",
       "        text-align: right;\n",
       "    }\n",
       "</style>\n",
       "<table border=\"1\" class=\"dataframe\">\n",
       "  <thead>\n",
       "    <tr style=\"text-align: right;\">\n",
       "      <th></th>\n",
       "      <th>index</th>\n",
       "      <th>cat1</th>\n",
       "      <th>cat2</th>\n",
       "      <th>class</th>\n",
       "    </tr>\n",
       "  </thead>\n",
       "  <tbody>\n",
       "    <tr>\n",
       "      <th>count</th>\n",
       "      <td>300.000000</td>\n",
       "      <td>300.000000</td>\n",
       "      <td>300.000000</td>\n",
       "      <td>300.000000</td>\n",
       "    </tr>\n",
       "    <tr>\n",
       "      <th>mean</th>\n",
       "      <td>374.500000</td>\n",
       "      <td>0.462264</td>\n",
       "      <td>0.483399</td>\n",
       "      <td>0.500000</td>\n",
       "    </tr>\n",
       "    <tr>\n",
       "      <th>std</th>\n",
       "      <td>156.385543</td>\n",
       "      <td>0.983031</td>\n",
       "      <td>0.573959</td>\n",
       "      <td>0.500835</td>\n",
       "    </tr>\n",
       "    <tr>\n",
       "      <th>min</th>\n",
       "      <td>150.000000</td>\n",
       "      <td>-2.528299</td>\n",
       "      <td>-0.847026</td>\n",
       "      <td>0.000000</td>\n",
       "    </tr>\n",
       "    <tr>\n",
       "      <th>25%</th>\n",
       "      <td>224.750000</td>\n",
       "      <td>-0.187462</td>\n",
       "      <td>-0.004776</td>\n",
       "      <td>0.000000</td>\n",
       "    </tr>\n",
       "    <tr>\n",
       "      <th>50%</th>\n",
       "      <td>374.500000</td>\n",
       "      <td>0.434963</td>\n",
       "      <td>0.508892</td>\n",
       "      <td>0.500000</td>\n",
       "    </tr>\n",
       "    <tr>\n",
       "      <th>75%</th>\n",
       "      <td>524.250000</td>\n",
       "      <td>1.150620</td>\n",
       "      <td>0.967250</td>\n",
       "      <td>1.000000</td>\n",
       "    </tr>\n",
       "    <tr>\n",
       "      <th>max</th>\n",
       "      <td>599.000000</td>\n",
       "      <td>3.290265</td>\n",
       "      <td>1.618334</td>\n",
       "      <td>1.000000</td>\n",
       "    </tr>\n",
       "  </tbody>\n",
       "</table>\n",
       "</div>"
      ],
      "text/plain": [
       "            index        cat1        cat2       class\n",
       "count  300.000000  300.000000  300.000000  300.000000\n",
       "mean   374.500000    0.462264    0.483399    0.500000\n",
       "std    156.385543    0.983031    0.573959    0.500835\n",
       "min    150.000000   -2.528299   -0.847026    0.000000\n",
       "25%    224.750000   -0.187462   -0.004776    0.000000\n",
       "50%    374.500000    0.434963    0.508892    0.500000\n",
       "75%    524.250000    1.150620    0.967250    1.000000\n",
       "max    599.000000    3.290265    1.618334    1.000000"
      ]
     },
     "metadata": {},
     "output_type": "display_data"
    },
    {
     "data": {
      "text/html": [
       "<div>\n",
       "<style scoped>\n",
       "    .dataframe tbody tr th:only-of-type {\n",
       "        vertical-align: middle;\n",
       "    }\n",
       "\n",
       "    .dataframe tbody tr th {\n",
       "        vertical-align: top;\n",
       "    }\n",
       "\n",
       "    .dataframe thead th {\n",
       "        text-align: right;\n",
       "    }\n",
       "</style>\n",
       "<table border=\"1\" class=\"dataframe\">\n",
       "  <thead>\n",
       "    <tr style=\"text-align: right;\">\n",
       "      <th></th>\n",
       "      <th>index</th>\n",
       "      <th>cat1</th>\n",
       "      <th>cat2</th>\n",
       "      <th>class</th>\n",
       "    </tr>\n",
       "  </thead>\n",
       "  <tbody>\n",
       "    <tr>\n",
       "      <th>150</th>\n",
       "      <td>150</td>\n",
       "      <td>1.376248</td>\n",
       "      <td>0.681871</td>\n",
       "      <td>0.0</td>\n",
       "    </tr>\n",
       "    <tr>\n",
       "      <th>151</th>\n",
       "      <td>151</td>\n",
       "      <td>-0.564548</td>\n",
       "      <td>-0.129263</td>\n",
       "      <td>0.0</td>\n",
       "    </tr>\n",
       "    <tr>\n",
       "      <th>152</th>\n",
       "      <td>152</td>\n",
       "      <td>-0.382397</td>\n",
       "      <td>-0.259234</td>\n",
       "      <td>0.0</td>\n",
       "    </tr>\n",
       "    <tr>\n",
       "      <th>153</th>\n",
       "      <td>153</td>\n",
       "      <td>-1.117776</td>\n",
       "      <td>-0.002866</td>\n",
       "      <td>0.0</td>\n",
       "    </tr>\n",
       "    <tr>\n",
       "      <th>154</th>\n",
       "      <td>154</td>\n",
       "      <td>-0.132446</td>\n",
       "      <td>-0.196270</td>\n",
       "      <td>0.0</td>\n",
       "    </tr>\n",
       "  </tbody>\n",
       "</table>\n",
       "</div>"
      ],
      "text/plain": [
       "     index      cat1      cat2  class\n",
       "150    150  1.376248  0.681871    0.0\n",
       "151    151 -0.564548 -0.129263    0.0\n",
       "152    152 -0.382397 -0.259234    0.0\n",
       "153    153 -1.117776 -0.002866    0.0\n",
       "154    154 -0.132446 -0.196270    0.0"
      ]
     },
     "metadata": {},
     "output_type": "display_data"
    },
    {
     "data": {
      "text/html": [
       "<div>\n",
       "<style scoped>\n",
       "    .dataframe tbody tr th:only-of-type {\n",
       "        vertical-align: middle;\n",
       "    }\n",
       "\n",
       "    .dataframe tbody tr th {\n",
       "        vertical-align: top;\n",
       "    }\n",
       "\n",
       "    .dataframe thead th {\n",
       "        text-align: right;\n",
       "    }\n",
       "</style>\n",
       "<table border=\"1\" class=\"dataframe\">\n",
       "  <thead>\n",
       "    <tr style=\"text-align: right;\">\n",
       "      <th></th>\n",
       "      <th>index</th>\n",
       "      <th>cat1</th>\n",
       "      <th>cat2</th>\n",
       "      <th>class</th>\n",
       "    </tr>\n",
       "  </thead>\n",
       "  <tbody>\n",
       "    <tr>\n",
       "      <th>count</th>\n",
       "      <td>300.000000</td>\n",
       "      <td>300.000000</td>\n",
       "      <td>300.000000</td>\n",
       "      <td>300.000000</td>\n",
       "    </tr>\n",
       "    <tr>\n",
       "      <th>mean</th>\n",
       "      <td>224.500000</td>\n",
       "      <td>0.485185</td>\n",
       "      <td>0.507442</td>\n",
       "      <td>0.500000</td>\n",
       "    </tr>\n",
       "    <tr>\n",
       "      <th>std</th>\n",
       "      <td>156.385543</td>\n",
       "      <td>0.920384</td>\n",
       "      <td>0.580295</td>\n",
       "      <td>0.500835</td>\n",
       "    </tr>\n",
       "    <tr>\n",
       "      <th>min</th>\n",
       "      <td>0.000000</td>\n",
       "      <td>-2.301252</td>\n",
       "      <td>-0.856548</td>\n",
       "      <td>0.000000</td>\n",
       "    </tr>\n",
       "    <tr>\n",
       "      <th>25%</th>\n",
       "      <td>74.750000</td>\n",
       "      <td>-0.124554</td>\n",
       "      <td>0.046961</td>\n",
       "      <td>0.000000</td>\n",
       "    </tr>\n",
       "    <tr>\n",
       "      <th>50%</th>\n",
       "      <td>224.500000</td>\n",
       "      <td>0.505978</td>\n",
       "      <td>0.521982</td>\n",
       "      <td>0.500000</td>\n",
       "    </tr>\n",
       "    <tr>\n",
       "      <th>75%</th>\n",
       "      <td>374.250000</td>\n",
       "      <td>1.081577</td>\n",
       "      <td>0.984248</td>\n",
       "      <td>1.000000</td>\n",
       "    </tr>\n",
       "    <tr>\n",
       "      <th>max</th>\n",
       "      <td>449.000000</td>\n",
       "      <td>2.976019</td>\n",
       "      <td>1.786571</td>\n",
       "      <td>1.000000</td>\n",
       "    </tr>\n",
       "  </tbody>\n",
       "</table>\n",
       "</div>"
      ],
      "text/plain": [
       "            index        cat1        cat2       class\n",
       "count  300.000000  300.000000  300.000000  300.000000\n",
       "mean   224.500000    0.485185    0.507442    0.500000\n",
       "std    156.385543    0.920384    0.580295    0.500835\n",
       "min      0.000000   -2.301252   -0.856548    0.000000\n",
       "25%     74.750000   -0.124554    0.046961    0.000000\n",
       "50%    224.500000    0.505978    0.521982    0.500000\n",
       "75%    374.250000    1.081577    0.984248    1.000000\n",
       "max    449.000000    2.976019    1.786571    1.000000"
      ]
     },
     "metadata": {},
     "output_type": "display_data"
    },
    {
     "data": {
      "text/html": [
       "<div>\n",
       "<style scoped>\n",
       "    .dataframe tbody tr th:only-of-type {\n",
       "        vertical-align: middle;\n",
       "    }\n",
       "\n",
       "    .dataframe tbody tr th {\n",
       "        vertical-align: top;\n",
       "    }\n",
       "\n",
       "    .dataframe thead th {\n",
       "        text-align: right;\n",
       "    }\n",
       "</style>\n",
       "<table border=\"1\" class=\"dataframe\">\n",
       "  <thead>\n",
       "    <tr style=\"text-align: right;\">\n",
       "      <th></th>\n",
       "      <th>index</th>\n",
       "      <th>cat1</th>\n",
       "      <th>cat2</th>\n",
       "      <th>class</th>\n",
       "    </tr>\n",
       "  </thead>\n",
       "  <tbody>\n",
       "    <tr>\n",
       "      <th>0</th>\n",
       "      <td>0</td>\n",
       "      <td>0.332130</td>\n",
       "      <td>-0.313696</td>\n",
       "      <td>0.0</td>\n",
       "    </tr>\n",
       "    <tr>\n",
       "      <th>1</th>\n",
       "      <td>1</td>\n",
       "      <td>1.859941</td>\n",
       "      <td>0.290296</td>\n",
       "      <td>0.0</td>\n",
       "    </tr>\n",
       "    <tr>\n",
       "      <th>2</th>\n",
       "      <td>2</td>\n",
       "      <td>-0.811141</td>\n",
       "      <td>-0.654312</td>\n",
       "      <td>0.0</td>\n",
       "    </tr>\n",
       "    <tr>\n",
       "      <th>3</th>\n",
       "      <td>3</td>\n",
       "      <td>-0.125626</td>\n",
       "      <td>-0.253332</td>\n",
       "      <td>0.0</td>\n",
       "    </tr>\n",
       "    <tr>\n",
       "      <th>4</th>\n",
       "      <td>4</td>\n",
       "      <td>0.340797</td>\n",
       "      <td>0.118178</td>\n",
       "      <td>0.0</td>\n",
       "    </tr>\n",
       "  </tbody>\n",
       "</table>\n",
       "</div>"
      ],
      "text/plain": [
       "   index      cat1      cat2  class\n",
       "0      0  0.332130 -0.313696    0.0\n",
       "1      1  1.859941  0.290296    0.0\n",
       "2      2 -0.811141 -0.654312    0.0\n",
       "3      3 -0.125626 -0.253332    0.0\n",
       "4      4  0.340797  0.118178    0.0"
      ]
     },
     "metadata": {},
     "output_type": "display_data"
    }
   ],
   "source": [
    "#Split dataset 2 into test and train\n",
    "test_train2 = split_test_train(data2, 0.5)\n",
    "data2_test = test_train2[0]\n",
    "data2_train = test_train2[1]\n",
    "\n",
    "display(data2_test.describe())\n",
    "display(data2_test.head())\n",
    "display(data2_train.describe())\n",
    "display(data2_train.head())"
   ]
  },
  {
   "cell_type": "markdown",
   "metadata": {},
   "source": [
    "### Dataset 3"
   ]
  },
  {
   "cell_type": "code",
   "execution_count": 174,
   "metadata": {},
   "outputs": [
    {
     "data": {
      "text/html": [
       "<div>\n",
       "<style scoped>\n",
       "    .dataframe tbody tr th:only-of-type {\n",
       "        vertical-align: middle;\n",
       "    }\n",
       "\n",
       "    .dataframe tbody tr th {\n",
       "        vertical-align: top;\n",
       "    }\n",
       "\n",
       "    .dataframe thead th {\n",
       "        text-align: right;\n",
       "    }\n",
       "</style>\n",
       "<table border=\"1\" class=\"dataframe\">\n",
       "  <thead>\n",
       "    <tr style=\"text-align: right;\">\n",
       "      <th></th>\n",
       "      <th>index</th>\n",
       "      <th>cat1</th>\n",
       "      <th>cat2</th>\n",
       "      <th>class</th>\n",
       "    </tr>\n",
       "  </thead>\n",
       "  <tbody>\n",
       "    <tr>\n",
       "      <th>count</th>\n",
       "      <td>300.000000</td>\n",
       "      <td>300.000000</td>\n",
       "      <td>300.000000</td>\n",
       "      <td>300.000000</td>\n",
       "    </tr>\n",
       "    <tr>\n",
       "      <th>mean</th>\n",
       "      <td>374.500000</td>\n",
       "      <td>0.116346</td>\n",
       "      <td>2.557350</td>\n",
       "      <td>0.500000</td>\n",
       "    </tr>\n",
       "    <tr>\n",
       "      <th>std</th>\n",
       "      <td>156.385543</td>\n",
       "      <td>3.822758</td>\n",
       "      <td>4.528323</td>\n",
       "      <td>0.500835</td>\n",
       "    </tr>\n",
       "    <tr>\n",
       "      <th>min</th>\n",
       "      <td>150.000000</td>\n",
       "      <td>-15.230715</td>\n",
       "      <td>-5.739253</td>\n",
       "      <td>0.000000</td>\n",
       "    </tr>\n",
       "    <tr>\n",
       "      <th>25%</th>\n",
       "      <td>224.750000</td>\n",
       "      <td>-1.554478</td>\n",
       "      <td>-0.641305</td>\n",
       "      <td>0.000000</td>\n",
       "    </tr>\n",
       "    <tr>\n",
       "      <th>50%</th>\n",
       "      <td>374.500000</td>\n",
       "      <td>0.520179</td>\n",
       "      <td>1.619968</td>\n",
       "      <td>0.500000</td>\n",
       "    </tr>\n",
       "    <tr>\n",
       "      <th>75%</th>\n",
       "      <td>524.250000</td>\n",
       "      <td>2.200002</td>\n",
       "      <td>5.421993</td>\n",
       "      <td>1.000000</td>\n",
       "    </tr>\n",
       "    <tr>\n",
       "      <th>max</th>\n",
       "      <td>599.000000</td>\n",
       "      <td>12.062268</td>\n",
       "      <td>20.120173</td>\n",
       "      <td>1.000000</td>\n",
       "    </tr>\n",
       "  </tbody>\n",
       "</table>\n",
       "</div>"
      ],
      "text/plain": [
       "            index        cat1        cat2       class\n",
       "count  300.000000  300.000000  300.000000  300.000000\n",
       "mean   374.500000    0.116346    2.557350    0.500000\n",
       "std    156.385543    3.822758    4.528323    0.500835\n",
       "min    150.000000  -15.230715   -5.739253    0.000000\n",
       "25%    224.750000   -1.554478   -0.641305    0.000000\n",
       "50%    374.500000    0.520179    1.619968    0.500000\n",
       "75%    524.250000    2.200002    5.421993    1.000000\n",
       "max    599.000000   12.062268   20.120173    1.000000"
      ]
     },
     "metadata": {},
     "output_type": "display_data"
    },
    {
     "data": {
      "text/html": [
       "<div>\n",
       "<style scoped>\n",
       "    .dataframe tbody tr th:only-of-type {\n",
       "        vertical-align: middle;\n",
       "    }\n",
       "\n",
       "    .dataframe tbody tr th {\n",
       "        vertical-align: top;\n",
       "    }\n",
       "\n",
       "    .dataframe thead th {\n",
       "        text-align: right;\n",
       "    }\n",
       "</style>\n",
       "<table border=\"1\" class=\"dataframe\">\n",
       "  <thead>\n",
       "    <tr style=\"text-align: right;\">\n",
       "      <th></th>\n",
       "      <th>index</th>\n",
       "      <th>cat1</th>\n",
       "      <th>cat2</th>\n",
       "      <th>class</th>\n",
       "    </tr>\n",
       "  </thead>\n",
       "  <tbody>\n",
       "    <tr>\n",
       "      <th>150</th>\n",
       "      <td>150</td>\n",
       "      <td>8.290653</td>\n",
       "      <td>4.934437</td>\n",
       "      <td>0.0</td>\n",
       "    </tr>\n",
       "    <tr>\n",
       "      <th>151</th>\n",
       "      <td>151</td>\n",
       "      <td>-3.400891</td>\n",
       "      <td>-0.715921</td>\n",
       "      <td>0.0</td>\n",
       "    </tr>\n",
       "    <tr>\n",
       "      <th>152</th>\n",
       "      <td>152</td>\n",
       "      <td>-2.303599</td>\n",
       "      <td>-1.977774</td>\n",
       "      <td>0.0</td>\n",
       "    </tr>\n",
       "    <tr>\n",
       "      <th>153</th>\n",
       "      <td>153</td>\n",
       "      <td>-6.733588</td>\n",
       "      <td>0.783112</td>\n",
       "      <td>0.0</td>\n",
       "    </tr>\n",
       "    <tr>\n",
       "      <th>154</th>\n",
       "      <td>154</td>\n",
       "      <td>-0.797867</td>\n",
       "      <td>-1.610949</td>\n",
       "      <td>0.0</td>\n",
       "    </tr>\n",
       "  </tbody>\n",
       "</table>\n",
       "</div>"
      ],
      "text/plain": [
       "     index      cat1      cat2  class\n",
       "150    150  8.290653  4.934437    0.0\n",
       "151    151 -3.400891 -0.715921    0.0\n",
       "152    152 -2.303599 -1.977774    0.0\n",
       "153    153 -6.733588  0.783112    0.0\n",
       "154    154 -0.797867 -1.610949    0.0"
      ]
     },
     "metadata": {},
     "output_type": "display_data"
    },
    {
     "data": {
      "text/html": [
       "<div>\n",
       "<style scoped>\n",
       "    .dataframe tbody tr th:only-of-type {\n",
       "        vertical-align: middle;\n",
       "    }\n",
       "\n",
       "    .dataframe tbody tr th {\n",
       "        vertical-align: top;\n",
       "    }\n",
       "\n",
       "    .dataframe thead th {\n",
       "        text-align: right;\n",
       "    }\n",
       "</style>\n",
       "<table border=\"1\" class=\"dataframe\">\n",
       "  <thead>\n",
       "    <tr style=\"text-align: right;\">\n",
       "      <th></th>\n",
       "      <th>index</th>\n",
       "      <th>cat1</th>\n",
       "      <th>cat2</th>\n",
       "      <th>class</th>\n",
       "    </tr>\n",
       "  </thead>\n",
       "  <tbody>\n",
       "    <tr>\n",
       "      <th>count</th>\n",
       "      <td>300.000000</td>\n",
       "      <td>300.000000</td>\n",
       "      <td>300.000000</td>\n",
       "      <td>300.000000</td>\n",
       "    </tr>\n",
       "    <tr>\n",
       "      <th>mean</th>\n",
       "      <td>224.500000</td>\n",
       "      <td>0.839226</td>\n",
       "      <td>1.834812</td>\n",
       "      <td>0.500000</td>\n",
       "    </tr>\n",
       "    <tr>\n",
       "      <th>std</th>\n",
       "      <td>156.385543</td>\n",
       "      <td>3.794963</td>\n",
       "      <td>4.207488</td>\n",
       "      <td>0.500835</td>\n",
       "    </tr>\n",
       "    <tr>\n",
       "      <th>min</th>\n",
       "      <td>0.000000</td>\n",
       "      <td>-13.862964</td>\n",
       "      <td>-10.529514</td>\n",
       "      <td>0.000000</td>\n",
       "    </tr>\n",
       "    <tr>\n",
       "      <th>25%</th>\n",
       "      <td>74.750000</td>\n",
       "      <td>-1.035905</td>\n",
       "      <td>-0.791177</td>\n",
       "      <td>0.000000</td>\n",
       "    </tr>\n",
       "    <tr>\n",
       "      <th>50%</th>\n",
       "      <td>224.500000</td>\n",
       "      <td>1.091485</td>\n",
       "      <td>1.167955</td>\n",
       "      <td>0.500000</td>\n",
       "    </tr>\n",
       "    <tr>\n",
       "      <th>75%</th>\n",
       "      <td>374.250000</td>\n",
       "      <td>3.002688</td>\n",
       "      <td>4.006558</td>\n",
       "      <td>1.000000</td>\n",
       "    </tr>\n",
       "    <tr>\n",
       "      <th>max</th>\n",
       "      <td>449.000000</td>\n",
       "      <td>11.204466</td>\n",
       "      <td>16.406478</td>\n",
       "      <td>1.000000</td>\n",
       "    </tr>\n",
       "  </tbody>\n",
       "</table>\n",
       "</div>"
      ],
      "text/plain": [
       "            index        cat1        cat2       class\n",
       "count  300.000000  300.000000  300.000000  300.000000\n",
       "mean   224.500000    0.839226    1.834812    0.500000\n",
       "std    156.385543    3.794963    4.207488    0.500835\n",
       "min      0.000000  -13.862964  -10.529514    0.000000\n",
       "25%     74.750000   -1.035905   -0.791177    0.000000\n",
       "50%    224.500000    1.091485    1.167955    0.500000\n",
       "75%    374.250000    3.002688    4.006558    1.000000\n",
       "max    449.000000   11.204466   16.406478    1.000000"
      ]
     },
     "metadata": {},
     "output_type": "display_data"
    },
    {
     "data": {
      "text/html": [
       "<div>\n",
       "<style scoped>\n",
       "    .dataframe tbody tr th:only-of-type {\n",
       "        vertical-align: middle;\n",
       "    }\n",
       "\n",
       "    .dataframe tbody tr th {\n",
       "        vertical-align: top;\n",
       "    }\n",
       "\n",
       "    .dataframe thead th {\n",
       "        text-align: right;\n",
       "    }\n",
       "</style>\n",
       "<table border=\"1\" class=\"dataframe\">\n",
       "  <thead>\n",
       "    <tr style=\"text-align: right;\">\n",
       "      <th></th>\n",
       "      <th>index</th>\n",
       "      <th>cat1</th>\n",
       "      <th>cat2</th>\n",
       "      <th>class</th>\n",
       "    </tr>\n",
       "  </thead>\n",
       "  <tbody>\n",
       "    <tr>\n",
       "      <th>0</th>\n",
       "      <td>0</td>\n",
       "      <td>2.000786</td>\n",
       "      <td>-2.967885</td>\n",
       "      <td>0.0</td>\n",
       "    </tr>\n",
       "    <tr>\n",
       "      <th>1</th>\n",
       "      <td>1</td>\n",
       "      <td>11.204466</td>\n",
       "      <td>1.179775</td>\n",
       "      <td>0.0</td>\n",
       "    </tr>\n",
       "    <tr>\n",
       "      <th>2</th>\n",
       "      <td>2</td>\n",
       "      <td>-4.886389</td>\n",
       "      <td>-5.103305</td>\n",
       "      <td>0.0</td>\n",
       "    </tr>\n",
       "    <tr>\n",
       "      <th>3</th>\n",
       "      <td>3</td>\n",
       "      <td>-0.756786</td>\n",
       "      <td>-2.112077</td>\n",
       "      <td>0.0</td>\n",
       "    </tr>\n",
       "    <tr>\n",
       "      <th>4</th>\n",
       "      <td>4</td>\n",
       "      <td>2.052993</td>\n",
       "      <td>0.781276</td>\n",
       "      <td>0.0</td>\n",
       "    </tr>\n",
       "  </tbody>\n",
       "</table>\n",
       "</div>"
      ],
      "text/plain": [
       "   index       cat1      cat2  class\n",
       "0      0   2.000786 -2.967885    0.0\n",
       "1      1  11.204466  1.179775    0.0\n",
       "2      2  -4.886389 -5.103305    0.0\n",
       "3      3  -0.756786 -2.112077    0.0\n",
       "4      4   2.052993  0.781276    0.0"
      ]
     },
     "metadata": {},
     "output_type": "display_data"
    }
   ],
   "source": [
    "#Split dataset 3 into test and train\n",
    "test_train3 = split_test_train(data3, 0.5)\n",
    "data3_test = test_train3[0]\n",
    "data3_train = test_train3[1]\n",
    "\n",
    "display(data3_test.describe())\n",
    "display(data3_test.head())\n",
    "display(data3_train.describe())\n",
    "display(data3_train.head())"
   ]
  },
  {
   "cell_type": "markdown",
   "metadata": {},
   "source": [
    "# Step 5\n",
    "\n",
    "### Create Design matrices and response vectors for each dataset"
   ]
  },
  {
   "cell_type": "code",
   "execution_count": 175,
   "metadata": {},
   "outputs": [
    {
     "name": "stdout",
     "output_type": "stream",
     "text": [
      "Dimensions of X1: (300, 2)\n",
      "Dimensions of X2: (300, 2)\n",
      "Dimensions of X3: (300, 2)\n"
     ]
    }
   ],
   "source": [
    "# Logistic Regression Model\n",
    "\n",
    "# Feature vectors for dataset 1\n",
    "x1 = data1_train['cat1']\n",
    "x2 = data1_train['cat2']\n",
    "y1 =  data1_train['class'] # y vector from training dataset 1\n",
    "# Create nx2 matrix of feature vectors from training dataset 1\n",
    "X1 = np.vstack((x1, x2)).T\n",
    "print('Dimensions of X1: ' + str(X1.shape))\n",
    "\n",
    "# Feature vectors for training dataset 2\n",
    "x1 = data2_train['cat1']\n",
    "x2 = data2_train['cat2']\n",
    "y2 =  data2_train['class'] # y vector from training dataset 2\n",
    "# Create nx2 matrix of feature vectors from training dataset 2\n",
    "X2 = np.vstack(( x1, x2)).T\n",
    "print('Dimensions of X2: ' + str(X2.shape))\n",
    "\n",
    "\n",
    "# Feature vectors for training dataset 3\n",
    "x1 = data3_train['cat1']\n",
    "x2 = data3_train['cat2']\n",
    "y3 =  data3_train['class'] # y vector from training dataset 3\n",
    "# Create nx2 matrix of feature vectors from training dataset 3\n",
    "X3 = np.vstack(( x1, x2)).T\n",
    "print('Dimensions of X3: ' + str(X3.shape))\n",
    "\n"
   ]
  },
  {
   "cell_type": "markdown",
   "metadata": {},
   "source": [
    "### Train Models\n",
    "#### Logistic Regression"
   ]
  },
  {
   "cell_type": "code",
   "execution_count": 176,
   "metadata": {},
   "outputs": [
    {
     "data": {
      "text/markdown": [
       "##### Dataset 1 beta values"
      ],
      "text/plain": [
       "<IPython.core.display.Markdown object>"
      ]
     },
     "metadata": {},
     "output_type": "display_data"
    },
    {
     "data": {
      "text/markdown": [
       " $\\beta_0$: -2.748916"
      ],
      "text/plain": [
       "<IPython.core.display.Markdown object>"
      ]
     },
     "metadata": {},
     "output_type": "display_data"
    },
    {
     "data": {
      "text/markdown": [
       " $\\beta_1$: 4.003120"
      ],
      "text/plain": [
       "<IPython.core.display.Markdown object>"
      ]
     },
     "metadata": {},
     "output_type": "display_data"
    },
    {
     "data": {
      "text/markdown": [
       " $\\beta_2$: -0.486907"
      ],
      "text/plain": [
       "<IPython.core.display.Markdown object>"
      ]
     },
     "metadata": {},
     "output_type": "display_data"
    },
    {
     "data": {
      "text/markdown": [
       "##### Dataset 2 beta values"
      ],
      "text/plain": [
       "<IPython.core.display.Markdown object>"
      ]
     },
     "metadata": {},
     "output_type": "display_data"
    },
    {
     "data": {
      "text/markdown": [
       " $\\beta_0$: -2.488031"
      ],
      "text/plain": [
       "<IPython.core.display.Markdown object>"
      ]
     },
     "metadata": {},
     "output_type": "display_data"
    },
    {
     "data": {
      "text/markdown": [
       " $\\beta_1$: -0.847467"
      ],
      "text/plain": [
       "<IPython.core.display.Markdown object>"
      ]
     },
     "metadata": {},
     "output_type": "display_data"
    },
    {
     "data": {
      "text/markdown": [
       " $\\beta_2$: 5.797421"
      ],
      "text/plain": [
       "<IPython.core.display.Markdown object>"
      ]
     },
     "metadata": {},
     "output_type": "display_data"
    },
    {
     "data": {
      "text/markdown": [
       "##### Dataset 3 beta values"
      ],
      "text/plain": [
       "<IPython.core.display.Markdown object>"
      ]
     },
     "metadata": {},
     "output_type": "display_data"
    },
    {
     "data": {
      "text/markdown": [
       " $\\beta_0$: -0.392890"
      ],
      "text/plain": [
       "<IPython.core.display.Markdown object>"
      ]
     },
     "metadata": {},
     "output_type": "display_data"
    },
    {
     "data": {
      "text/markdown": [
       " $\\beta_1$: 0.015495"
      ],
      "text/plain": [
       "<IPython.core.display.Markdown object>"
      ]
     },
     "metadata": {},
     "output_type": "display_data"
    },
    {
     "data": {
      "text/markdown": [
       " $\\beta_2$: 0.223014"
      ],
      "text/plain": [
       "<IPython.core.display.Markdown object>"
      ]
     },
     "metadata": {},
     "output_type": "display_data"
    }
   ],
   "source": [
    "log_reg1 = skl_lm.LogisticRegression(solver='liblinear')\n",
    "log_reg2 = skl_lm.LogisticRegression(solver='liblinear')\n",
    "log_reg3 = skl_lm.LogisticRegression(solver='liblinear')\n",
    "\n",
    "log_reg1.fit(X1, y1)\n",
    "log_reg2.fit(X2, y2)\n",
    "log_reg3.fit(X3, y3)\n",
    "\n",
    "#Print Dataset 1 coefficients\n",
    "display(md(\"##### Dataset 1 beta values\"))\n",
    "display(md(r\" $\\beta_0$: %f\" %log_reg1.intercept_))\n",
    "display(md(r\" $\\beta_1$: %f\" %log_reg1.coef_[0,0]))\n",
    "display(md(r\" $\\beta_2$: %f\" %log_reg1.coef_[0,1]))\n",
    "\n",
    "#Print Dataset 2 coefficients\n",
    "display(md(\"##### Dataset 2 beta values\"))\n",
    "display(md(r\" $\\beta_0$: %f\" %log_reg2.intercept_))\n",
    "display(md(r\" $\\beta_1$: %f\" %log_reg2.coef_[0,0]))\n",
    "display(md(r\" $\\beta_2$: %f\" %log_reg2.coef_[0,1]))\n",
    "\n",
    "#Print Dataset 3 coefficients\n",
    "display(md(\"##### Dataset 3 beta values\"))\n",
    "display(md(r\" $\\beta_0$: %f\" %log_reg3.intercept_))\n",
    "display(md(r\" $\\beta_1$: %f\" %log_reg3.coef_[0,0]))\n",
    "display(md(r\" $\\beta_2$: %f\" %log_reg3.coef_[0,1]))"
   ]
  },
  {
   "cell_type": "markdown",
   "metadata": {},
   "source": [
    "#### Linear Discriminant Analysis"
   ]
  },
  {
   "cell_type": "code",
   "execution_count": 177,
   "metadata": {},
   "outputs": [
    {
     "data": {
      "text/markdown": [
       "##### Dataset 1 beta values"
      ],
      "text/plain": [
       "<IPython.core.display.Markdown object>"
      ]
     },
     "metadata": {},
     "output_type": "display_data"
    },
    {
     "data": {
      "text/markdown": [
       " $\\beta_0$: -4.484797"
      ],
      "text/plain": [
       "<IPython.core.display.Markdown object>"
      ]
     },
     "metadata": {},
     "output_type": "display_data"
    },
    {
     "data": {
      "text/markdown": [
       " $\\beta_1$: 6.125359"
      ],
      "text/plain": [
       "<IPython.core.display.Markdown object>"
      ]
     },
     "metadata": {},
     "output_type": "display_data"
    },
    {
     "data": {
      "text/markdown": [
       " $\\beta_2$: -0.323873"
      ],
      "text/plain": [
       "<IPython.core.display.Markdown object>"
      ]
     },
     "metadata": {},
     "output_type": "display_data"
    },
    {
     "data": {
      "text/markdown": [
       "##### Dataset 2 beta values"
      ],
      "text/plain": [
       "<IPython.core.display.Markdown object>"
      ]
     },
     "metadata": {},
     "output_type": "display_data"
    },
    {
     "data": {
      "text/markdown": [
       " $\\beta_0$: -5.957747"
      ],
      "text/plain": [
       "<IPython.core.display.Markdown object>"
      ]
     },
     "metadata": {},
     "output_type": "display_data"
    },
    {
     "data": {
      "text/markdown": [
       " $\\beta_1$: -2.943577"
      ],
      "text/plain": [
       "<IPython.core.display.Markdown object>"
      ]
     },
     "metadata": {},
     "output_type": "display_data"
    },
    {
     "data": {
      "text/markdown": [
       " $\\beta_2$: 14.555226"
      ],
      "text/plain": [
       "<IPython.core.display.Markdown object>"
      ]
     },
     "metadata": {},
     "output_type": "display_data"
    },
    {
     "data": {
      "text/markdown": [
       "##### Dataset 3 beta values"
      ],
      "text/plain": [
       "<IPython.core.display.Markdown object>"
      ]
     },
     "metadata": {},
     "output_type": "display_data"
    },
    {
     "data": {
      "text/markdown": [
       " $\\beta_0$: -0.416956"
      ],
      "text/plain": [
       "<IPython.core.display.Markdown object>"
      ]
     },
     "metadata": {},
     "output_type": "display_data"
    },
    {
     "data": {
      "text/markdown": [
       " $\\beta_1$: 0.020448"
      ],
      "text/plain": [
       "<IPython.core.display.Markdown object>"
      ]
     },
     "metadata": {},
     "output_type": "display_data"
    },
    {
     "data": {
      "text/markdown": [
       " $\\beta_2$: 0.217895"
      ],
      "text/plain": [
       "<IPython.core.display.Markdown object>"
      ]
     },
     "metadata": {},
     "output_type": "display_data"
    }
   ],
   "source": [
    "lda1 = LinearDiscriminantAnalysis(solver='lsqr') # Use slqr to get covariance matrix\n",
    "lda2 = LinearDiscriminantAnalysis(solver='lsqr')\n",
    "lda3 = LinearDiscriminantAnalysis(solver='lsqr')\n",
    "\n",
    "lda1.fit(X1, y1)\n",
    "lda2.fit(X2, y2)\n",
    "lda3.fit(X3, y3)\n",
    "\n",
    "#Print Dataset 1 coefficients\n",
    "display(md(\"##### Dataset 1 beta values\"))\n",
    "display(md(r\" $\\beta_0$: %f\" %lda1.intercept_))\n",
    "display(md(r\" $\\beta_1$: %f\" %lda1.coef_[0,0]))\n",
    "display(md(r\" $\\beta_2$: %f\" %lda1.coef_[0,1]))\n",
    "\n",
    "#Print Dataset 2 coefficients\n",
    "display(md(\"##### Dataset 2 beta values\"))\n",
    "display(md(r\" $\\beta_0$: %f\" %lda2.intercept_))\n",
    "display(md(r\" $\\beta_1$: %f\" %lda2.coef_[0,0]))\n",
    "display(md(r\" $\\beta_2$: %f\" %lda2.coef_[0,1]))\n",
    "\n",
    "#Print Dataset 3 coefficients\n",
    "display(md(\"##### Dataset 3 beta values\"))\n",
    "display(md(r\" $\\beta_0$: %f\" %lda3.intercept_))\n",
    "display(md(r\" $\\beta_1$: %f\" %lda3.coef_[0,0]))\n",
    "display(md(r\" $\\beta_2$: %f\" %lda3.coef_[0,1]))"
   ]
  },
  {
   "cell_type": "markdown",
   "metadata": {},
   "source": [
    "#### Quadratic Discriminant Analysis "
   ]
  },
  {
   "cell_type": "code",
   "execution_count": 178,
   "metadata": {},
   "outputs": [
    {
     "data": {
      "text/plain": [
       "QuadraticDiscriminantAnalysis(priors=None, reg_param=0.0,\n",
       "               store_covariance=False, store_covariances=None, tol=0.0001)"
      ]
     },
     "execution_count": 178,
     "metadata": {},
     "output_type": "execute_result"
    }
   ],
   "source": [
    "qda1 = QuadraticDiscriminantAnalysis()\n",
    "qda2 = QuadraticDiscriminantAnalysis()\n",
    "qda3 = QuadraticDiscriminantAnalysis()\n",
    "\n",
    "qda1.fit(X1, y1)\n",
    "qda2.fit(X2, y2)\n",
    "qda3.fit(X3, y3)\n"
   ]
  },
  {
   "cell_type": "markdown",
   "metadata": {},
   "source": [
    "# Step 6\n",
    "\n",
    "### Predicted probabilities\n",
    "\n",
    "#### Create Test Matrices"
   ]
  },
  {
   "cell_type": "code",
   "execution_count": 179,
   "metadata": {},
   "outputs": [
    {
     "name": "stdout",
     "output_type": "stream",
     "text": [
      "Dimensions of X1 Test: (300, 2)\n",
      "Dimensions of X2 Test: (300, 2)\n",
      "Dimensions of X3 Test: (300, 2)\n"
     ]
    }
   ],
   "source": [
    "# Create Test Matrices\n",
    "\n",
    "# Feature vectors for dataset 1\n",
    "x1_test = data1_test['cat1']\n",
    "x2_test = data1_test['cat2']\n",
    "y1_test =  data1_test['class'] # y vector from training dataset 1\n",
    "# Create nx2 matrix of feature vectors from training dataset 1\n",
    "X1_test = np.vstack((x1_test, x2_test)).T\n",
    "print('Dimensions of X1 Test: ' + str(X1_test.shape))\n",
    "\n",
    "# Feature vectors for training dataset 2\n",
    "x1_test = data2_test['cat1']\n",
    "x2_test = data2_test['cat2']\n",
    "y2_test =  data2_test['class'] # y vector from training dataset 2\n",
    "# Create nx2 matrix of feature vectors from training dataset 2\n",
    "X2_test = np.vstack(( x1_test, x2_test)).T\n",
    "print('Dimensions of X2 Test: ' + str(X2_test.shape))\n",
    "\n",
    "\n",
    "# Feature vectors for training dataset 3\n",
    "x1_test = data3_test['cat1']\n",
    "x2_test = data3_test['cat2']\n",
    "y3_test =  data3_test['class'] # y vector from training dataset 3\n",
    "# Create nx2 matrix of feature vectors from training dataset 3\n",
    "X3_test = np.vstack(( x1_test, x2_test)).T\n",
    "print('Dimensions of X3 Test: ' + str(X3_test.shape))"
   ]
  },
  {
   "cell_type": "markdown",
   "metadata": {},
   "source": [
    "To find the predicted probabilities, I use the built in predic_proba(X) function from sklearn. This function takes in the feature matrix and returns a vector where each entry is a tuple of the sample value and the predicted probability that it belongs to the positive class (class 1). \n",
    "\n",
    "#### Logistic Regression"
   ]
  },
  {
   "cell_type": "code",
   "execution_count": 180,
   "metadata": {},
   "outputs": [],
   "source": [
    "dataset1_prob_lr = log_reg1.predict_proba(X1_test)\n",
    "dataset2_prob_lr = log_reg2.predict_proba(X2_test)\n",
    "dataset3_prob_lr = log_reg3.predict_proba(X3_test)\n"
   ]
  },
  {
   "cell_type": "markdown",
   "metadata": {},
   "source": [
    "#### Linear Discriminant Analysis"
   ]
  },
  {
   "cell_type": "code",
   "execution_count": 181,
   "metadata": {},
   "outputs": [],
   "source": [
    "dataset1_prob_lda = lda1.predict_proba(X1_test)\n",
    "dataset2_prob_lda = lda2.predict_proba(X2_test)\n",
    "dataset3_prob_lda = lda3.predict_proba(X3_test)\n"
   ]
  },
  {
   "cell_type": "markdown",
   "metadata": {},
   "source": [
    "#### Quadratic Discriminant Analysis"
   ]
  },
  {
   "cell_type": "code",
   "execution_count": 182,
   "metadata": {},
   "outputs": [],
   "source": [
    "dataset1_prob_qda = qda1.predict_proba(X1_test)\n",
    "dataset2_prob_qda = qda2.predict_proba(X2_test)\n",
    "dataset3_prob_qda = qda3.predict_proba(X3_test)\n",
    "\n"
   ]
  },
  {
   "cell_type": "markdown",
   "metadata": {},
   "source": [
    "# Step 7\n",
    "\n",
    "#### getROCdata function"
   ]
  },
  {
   "cell_type": "code",
   "execution_count": 183,
   "metadata": {},
   "outputs": [],
   "source": [
    "\"\"\"\n",
    "    This function creates a dataframe that contains all of the necessary data for calculating the ROC curve\n",
    "    Parameters:\n",
    "        truthVals: A vector containing the correct labels for each sample\n",
    "        probs: A vector containing the sample and the probability of the sample belonging to class 1\n",
    "        thresholds: A list of probability thresholds\n",
    "\"\"\"\n",
    "def getROCdata(truthVals,probs,thresholds):\n",
    "    num_samples = len(thresholds)\n",
    "    roc_data_columns = ['prob_threshold', 'TP_count', 'FP_count', 'TN_count', 'FN_count', 'TP_rate',\n",
    "                       'FP_rate', 'accuracy', 'precision', 'F-measure']\n",
    "    roc_data_df = pd.DataFrame(np.zeros((num_samples, len(roc_data_columns)), dtype=float),\n",
    "                               columns = roc_data_columns)\n",
    "    \n",
    "    # calculate values\n",
    "    curr_entry = []  \n",
    "    position = 0\n",
    "    for curr_prob in thresholds:\n",
    "        # Variables\n",
    "        tp_count = 0\n",
    "        fp_count = 0\n",
    "        tn_count = 0\n",
    "        fn_count = 0\n",
    "        tp_rate = 0.\n",
    "        fp_rate = 0.\n",
    "        accuracy = 0.\n",
    "        precision = 0.\n",
    "        f_measure = 0.\n",
    "        predict_prob = 0.0\n",
    "        #end variable declarations\n",
    "        counter = 0\n",
    "        for val in truthVals:\n",
    "            predict_prob = probs[counter]\n",
    "            if (val == 0):\n",
    "                if(predict_prob >= curr_prob):\n",
    "                    fp_count += 1 #Truth val neg, predict pos: false positive\n",
    "                else:\n",
    "                    tn_count += 1 #Truth val neg, predict neg: true negative \n",
    "            else:\n",
    "                if(predict_prob >= curr_prob):\n",
    "                    tp_count += 1 # truth val positive, predict pos: true positive\n",
    "                else:\n",
    "                    fn_count += 1 # truth val positive, predict neg: false negative\n",
    "            counter += 1\n",
    "         #End for\n",
    "        tp_rate = tp_count/(tp_count + fn_count)\n",
    "        fp_rate = fp_count/(tn_count + fp_count)\n",
    "        accuracy = (tn_count + tp_count)/(tp_count + tn_count + fp_count + fn_count)\n",
    "        precision = tp_count/(tp_count + fp_count)\n",
    "        f_measure = (2*tp_rate*precision)/(precision + tp_rate)\n",
    "    \n",
    "        # Add values to dataframe\n",
    "        roc_data_df.at[position, 'prob_threshold'] = curr_prob\n",
    "        roc_data_df.at[position, 'TP_count'] = tp_count\n",
    "        roc_data_df.at[position, 'FP_count'] = fp_count\n",
    "        roc_data_df.at[position, 'TN_count'] = tn_count\n",
    "        roc_data_df.at[position, 'FN_count'] = fn_count\n",
    "        roc_data_df.at[position, 'TP_rate'] = tp_rate\n",
    "        roc_data_df.at[position, 'FP_rate'] = fp_rate\n",
    "        roc_data_df.at[position, 'accuracy'] = accuracy\n",
    "        roc_data_df.at[position, 'precision'] = precision\n",
    "        roc_data_df.at[position, 'F-measure'] = f_measure\n",
    "        \n",
    "        position += 1\n",
    "    #End for  \n",
    "    return roc_data_df"
   ]
  },
  {
   "cell_type": "markdown",
   "metadata": {},
   "source": [
    "# Step 8\n",
    "\n",
    "#### Create probability threshold vectors"
   ]
  },
  {
   "cell_type": "code",
   "execution_count": 201,
   "metadata": {},
   "outputs": [
    {
     "data": {
      "text/html": [
       "<div>\n",
       "<style scoped>\n",
       "    .dataframe tbody tr th:only-of-type {\n",
       "        vertical-align: middle;\n",
       "    }\n",
       "\n",
       "    .dataframe tbody tr th {\n",
       "        vertical-align: top;\n",
       "    }\n",
       "\n",
       "    .dataframe thead th {\n",
       "        text-align: right;\n",
       "    }\n",
       "</style>\n",
       "<table border=\"1\" class=\"dataframe\">\n",
       "  <thead>\n",
       "    <tr style=\"text-align: right;\">\n",
       "      <th></th>\n",
       "      <th>prob_threshold</th>\n",
       "      <th>TP_count</th>\n",
       "      <th>FP_count</th>\n",
       "      <th>TN_count</th>\n",
       "      <th>FN_count</th>\n",
       "      <th>TP_rate</th>\n",
       "      <th>FP_rate</th>\n",
       "      <th>accuracy</th>\n",
       "      <th>precision</th>\n",
       "      <th>F-measure</th>\n",
       "    </tr>\n",
       "  </thead>\n",
       "  <tbody>\n",
       "    <tr>\n",
       "      <th>0</th>\n",
       "      <td>0.003172</td>\n",
       "      <td>450.0</td>\n",
       "      <td>449.0</td>\n",
       "      <td>1.0</td>\n",
       "      <td>0.0</td>\n",
       "      <td>1.0</td>\n",
       "      <td>0.997778</td>\n",
       "      <td>0.501111</td>\n",
       "      <td>0.500556</td>\n",
       "      <td>0.667161</td>\n",
       "    </tr>\n",
       "    <tr>\n",
       "      <th>1</th>\n",
       "      <td>0.013191</td>\n",
       "      <td>450.0</td>\n",
       "      <td>439.0</td>\n",
       "      <td>11.0</td>\n",
       "      <td>0.0</td>\n",
       "      <td>1.0</td>\n",
       "      <td>0.975556</td>\n",
       "      <td>0.512222</td>\n",
       "      <td>0.506187</td>\n",
       "      <td>0.672143</td>\n",
       "    </tr>\n",
       "    <tr>\n",
       "      <th>2</th>\n",
       "      <td>0.023209</td>\n",
       "      <td>450.0</td>\n",
       "      <td>426.0</td>\n",
       "      <td>24.0</td>\n",
       "      <td>0.0</td>\n",
       "      <td>1.0</td>\n",
       "      <td>0.946667</td>\n",
       "      <td>0.526667</td>\n",
       "      <td>0.513699</td>\n",
       "      <td>0.678733</td>\n",
       "    </tr>\n",
       "    <tr>\n",
       "      <th>3</th>\n",
       "      <td>0.033228</td>\n",
       "      <td>450.0</td>\n",
       "      <td>407.0</td>\n",
       "      <td>43.0</td>\n",
       "      <td>0.0</td>\n",
       "      <td>1.0</td>\n",
       "      <td>0.904444</td>\n",
       "      <td>0.547778</td>\n",
       "      <td>0.525088</td>\n",
       "      <td>0.688600</td>\n",
       "    </tr>\n",
       "    <tr>\n",
       "      <th>4</th>\n",
       "      <td>0.043246</td>\n",
       "      <td>450.0</td>\n",
       "      <td>403.0</td>\n",
       "      <td>47.0</td>\n",
       "      <td>0.0</td>\n",
       "      <td>1.0</td>\n",
       "      <td>0.895556</td>\n",
       "      <td>0.552222</td>\n",
       "      <td>0.527550</td>\n",
       "      <td>0.690714</td>\n",
       "    </tr>\n",
       "  </tbody>\n",
       "</table>\n",
       "</div>"
      ],
      "text/plain": [
       "   prob_threshold  TP_count  FP_count  TN_count  FN_count  TP_rate   FP_rate  \\\n",
       "0        0.003172     450.0     449.0       1.0       0.0      1.0  0.997778   \n",
       "1        0.013191     450.0     439.0      11.0       0.0      1.0  0.975556   \n",
       "2        0.023209     450.0     426.0      24.0       0.0      1.0  0.946667   \n",
       "3        0.033228     450.0     407.0      43.0       0.0      1.0  0.904444   \n",
       "4        0.043246     450.0     403.0      47.0       0.0      1.0  0.895556   \n",
       "\n",
       "   accuracy  precision  F-measure  \n",
       "0  0.501111   0.500556   0.667161  \n",
       "1  0.512222   0.506187   0.672143  \n",
       "2  0.526667   0.513699   0.678733  \n",
       "3  0.547778   0.525088   0.688600  \n",
       "4  0.552222   0.527550   0.690714  "
      ]
     },
     "metadata": {},
     "output_type": "display_data"
    },
    {
     "data": {
      "text/html": [
       "<div>\n",
       "<style scoped>\n",
       "    .dataframe tbody tr th:only-of-type {\n",
       "        vertical-align: middle;\n",
       "    }\n",
       "\n",
       "    .dataframe tbody tr th {\n",
       "        vertical-align: top;\n",
       "    }\n",
       "\n",
       "    .dataframe thead th {\n",
       "        text-align: right;\n",
       "    }\n",
       "</style>\n",
       "<table border=\"1\" class=\"dataframe\">\n",
       "  <thead>\n",
       "    <tr style=\"text-align: right;\">\n",
       "      <th></th>\n",
       "      <th>prob_threshold</th>\n",
       "      <th>TP_count</th>\n",
       "      <th>FP_count</th>\n",
       "      <th>TN_count</th>\n",
       "      <th>FN_count</th>\n",
       "      <th>TP_rate</th>\n",
       "      <th>FP_rate</th>\n",
       "      <th>accuracy</th>\n",
       "      <th>precision</th>\n",
       "      <th>F-measure</th>\n",
       "    </tr>\n",
       "  </thead>\n",
       "  <tbody>\n",
       "    <tr>\n",
       "      <th>0</th>\n",
       "      <td>0.001000</td>\n",
       "      <td>450.0</td>\n",
       "      <td>395.0</td>\n",
       "      <td>55.0</td>\n",
       "      <td>0.0</td>\n",
       "      <td>1.000000</td>\n",
       "      <td>0.877778</td>\n",
       "      <td>0.561111</td>\n",
       "      <td>0.532544</td>\n",
       "      <td>0.694981</td>\n",
       "    </tr>\n",
       "    <tr>\n",
       "      <th>1</th>\n",
       "      <td>0.011081</td>\n",
       "      <td>449.0</td>\n",
       "      <td>345.0</td>\n",
       "      <td>105.0</td>\n",
       "      <td>1.0</td>\n",
       "      <td>0.997778</td>\n",
       "      <td>0.766667</td>\n",
       "      <td>0.615556</td>\n",
       "      <td>0.565491</td>\n",
       "      <td>0.721865</td>\n",
       "    </tr>\n",
       "    <tr>\n",
       "      <th>2</th>\n",
       "      <td>0.021162</td>\n",
       "      <td>449.0</td>\n",
       "      <td>323.0</td>\n",
       "      <td>127.0</td>\n",
       "      <td>1.0</td>\n",
       "      <td>0.997778</td>\n",
       "      <td>0.717778</td>\n",
       "      <td>0.640000</td>\n",
       "      <td>0.581606</td>\n",
       "      <td>0.734861</td>\n",
       "    </tr>\n",
       "    <tr>\n",
       "      <th>3</th>\n",
       "      <td>0.031243</td>\n",
       "      <td>449.0</td>\n",
       "      <td>309.0</td>\n",
       "      <td>141.0</td>\n",
       "      <td>1.0</td>\n",
       "      <td>0.997778</td>\n",
       "      <td>0.686667</td>\n",
       "      <td>0.655556</td>\n",
       "      <td>0.592348</td>\n",
       "      <td>0.743377</td>\n",
       "    </tr>\n",
       "    <tr>\n",
       "      <th>4</th>\n",
       "      <td>0.041323</td>\n",
       "      <td>448.0</td>\n",
       "      <td>297.0</td>\n",
       "      <td>153.0</td>\n",
       "      <td>2.0</td>\n",
       "      <td>0.995556</td>\n",
       "      <td>0.660000</td>\n",
       "      <td>0.667778</td>\n",
       "      <td>0.601342</td>\n",
       "      <td>0.749791</td>\n",
       "    </tr>\n",
       "  </tbody>\n",
       "</table>\n",
       "</div>"
      ],
      "text/plain": [
       "   prob_threshold  TP_count  FP_count  TN_count  FN_count   TP_rate   FP_rate  \\\n",
       "0        0.001000     450.0     395.0      55.0       0.0  1.000000  0.877778   \n",
       "1        0.011081     449.0     345.0     105.0       1.0  0.997778  0.766667   \n",
       "2        0.021162     449.0     323.0     127.0       1.0  0.997778  0.717778   \n",
       "3        0.031243     449.0     309.0     141.0       1.0  0.997778  0.686667   \n",
       "4        0.041323     448.0     297.0     153.0       2.0  0.995556  0.660000   \n",
       "\n",
       "   accuracy  precision  F-measure  \n",
       "0  0.561111   0.532544   0.694981  \n",
       "1  0.615556   0.565491   0.721865  \n",
       "2  0.640000   0.581606   0.734861  \n",
       "3  0.655556   0.592348   0.743377  \n",
       "4  0.667778   0.601342   0.749791  "
      ]
     },
     "metadata": {},
     "output_type": "display_data"
    },
    {
     "data": {
      "text/html": [
       "<div>\n",
       "<style scoped>\n",
       "    .dataframe tbody tr th:only-of-type {\n",
       "        vertical-align: middle;\n",
       "    }\n",
       "\n",
       "    .dataframe tbody tr th {\n",
       "        vertical-align: top;\n",
       "    }\n",
       "\n",
       "    .dataframe thead th {\n",
       "        text-align: right;\n",
       "    }\n",
       "</style>\n",
       "<table border=\"1\" class=\"dataframe\">\n",
       "  <thead>\n",
       "    <tr style=\"text-align: right;\">\n",
       "      <th></th>\n",
       "      <th>prob_threshold</th>\n",
       "      <th>TP_count</th>\n",
       "      <th>FP_count</th>\n",
       "      <th>TN_count</th>\n",
       "      <th>FN_count</th>\n",
       "      <th>TP_rate</th>\n",
       "      <th>FP_rate</th>\n",
       "      <th>accuracy</th>\n",
       "      <th>precision</th>\n",
       "      <th>F-measure</th>\n",
       "    </tr>\n",
       "  </thead>\n",
       "  <tbody>\n",
       "    <tr>\n",
       "      <th>0</th>\n",
       "      <td>0.001000</td>\n",
       "      <td>450.0</td>\n",
       "      <td>365.0</td>\n",
       "      <td>85.0</td>\n",
       "      <td>0.0</td>\n",
       "      <td>1.000000</td>\n",
       "      <td>0.811111</td>\n",
       "      <td>0.594444</td>\n",
       "      <td>0.552147</td>\n",
       "      <td>0.711462</td>\n",
       "    </tr>\n",
       "    <tr>\n",
       "      <th>1</th>\n",
       "      <td>0.011081</td>\n",
       "      <td>449.0</td>\n",
       "      <td>300.0</td>\n",
       "      <td>150.0</td>\n",
       "      <td>1.0</td>\n",
       "      <td>0.997778</td>\n",
       "      <td>0.666667</td>\n",
       "      <td>0.665556</td>\n",
       "      <td>0.599466</td>\n",
       "      <td>0.748957</td>\n",
       "    </tr>\n",
       "    <tr>\n",
       "      <th>2</th>\n",
       "      <td>0.021162</td>\n",
       "      <td>449.0</td>\n",
       "      <td>276.0</td>\n",
       "      <td>174.0</td>\n",
       "      <td>1.0</td>\n",
       "      <td>0.997778</td>\n",
       "      <td>0.613333</td>\n",
       "      <td>0.692222</td>\n",
       "      <td>0.619310</td>\n",
       "      <td>0.764255</td>\n",
       "    </tr>\n",
       "    <tr>\n",
       "      <th>3</th>\n",
       "      <td>0.031242</td>\n",
       "      <td>448.0</td>\n",
       "      <td>258.0</td>\n",
       "      <td>192.0</td>\n",
       "      <td>2.0</td>\n",
       "      <td>0.995556</td>\n",
       "      <td>0.573333</td>\n",
       "      <td>0.711111</td>\n",
       "      <td>0.634561</td>\n",
       "      <td>0.775087</td>\n",
       "    </tr>\n",
       "    <tr>\n",
       "      <th>4</th>\n",
       "      <td>0.041323</td>\n",
       "      <td>448.0</td>\n",
       "      <td>252.0</td>\n",
       "      <td>198.0</td>\n",
       "      <td>2.0</td>\n",
       "      <td>0.995556</td>\n",
       "      <td>0.560000</td>\n",
       "      <td>0.717778</td>\n",
       "      <td>0.640000</td>\n",
       "      <td>0.779130</td>\n",
       "    </tr>\n",
       "  </tbody>\n",
       "</table>\n",
       "</div>"
      ],
      "text/plain": [
       "   prob_threshold  TP_count  FP_count  TN_count  FN_count   TP_rate   FP_rate  \\\n",
       "0        0.001000     450.0     365.0      85.0       0.0  1.000000  0.811111   \n",
       "1        0.011081     449.0     300.0     150.0       1.0  0.997778  0.666667   \n",
       "2        0.021162     449.0     276.0     174.0       1.0  0.997778  0.613333   \n",
       "3        0.031242     448.0     258.0     192.0       2.0  0.995556  0.573333   \n",
       "4        0.041323     448.0     252.0     198.0       2.0  0.995556  0.560000   \n",
       "\n",
       "   accuracy  precision  F-measure  \n",
       "0  0.594444   0.552147   0.711462  \n",
       "1  0.665556   0.599466   0.748957  \n",
       "2  0.692222   0.619310   0.764255  \n",
       "3  0.711111   0.634561   0.775087  \n",
       "4  0.717778   0.640000   0.779130  "
      ]
     },
     "metadata": {},
     "output_type": "display_data"
    }
   ],
   "source": [
    "truthVals= np.concatenate((y1, y2, y3))\n",
    "\n",
    "# Get probabilities for each dataset from LR\n",
    "data1_probs_log_reg = dataset1_prob_lr[:, [1]]\n",
    "data2_probs_log_reg = dataset2_prob_lr[:, [1]]\n",
    "data3_probs_log_reg = dataset3_prob_lr[:, [1]]\n",
    "\n",
    "probs_log_reg = np.concatenate((data1_probs_log_reg, data2_probs_log_reg, data3_probs_log_reg))\n",
    "min_prob_lr = np.min(probs_log_reg)\n",
    "max_prob_lr = np.max(probs_log_reg)\n",
    "#Epsilon term to replicate (min,max) interval instead of [min, max]\n",
    "epsilon = 0.001\n",
    "\n",
    "#Create Thresholds vector from\n",
    "thresholds_lr = np.linspace(min_prob_lr+epsilon, max_prob_lr-epsilon, 100)\n",
    "ROC_data_lr = getROCdata(truthVals, probs_log_reg, thresholds_lr)\n",
    "\n",
    "#Create Thresholds vector\n",
    "thresholds_lda = np.linspace(min_prob_lr+epsilon, max_prob_lr-epsilon, 100)\n",
    "ROC_data_lr = getROCdata(truthVals, probs_log_reg, thresholds_lr)\n",
    "\n",
    "# Get probabilities for each dataset from LDA\n",
    "data1_probs_lda = dataset1_prob_lda[:, [1]]\n",
    "data2_probs_lda = dataset2_prob_lda[:, [1]]\n",
    "data3_probs_lda = dataset3_prob_lda[:, [1]]\n",
    "\n",
    "probs_lda = np.concatenate((data1_probs_lda, data2_probs_lda, data3_probs_lda))\n",
    "\n",
    "min_prob_lda = np.min(probs_lda)\n",
    "max_prob_lda = np.max(probs_lda)\n",
    "thresholds_lda = np.linspace(min_prob_lda+epsilon, max_prob_lda-epsilon, 100)\n",
    "\n",
    "ROC_data_lda = getROCdata(truthVals, probs_lda, thresholds_lda)\n",
    "\n",
    "# Get probabilities for each dataset from QDA\n",
    "data1_probs_qda = dataset1_prob_qda[:, [1]]\n",
    "data2_probs_qda = dataset2_prob_qda[:, [1]]\n",
    "data3_probs_qda = dataset3_prob_qda[:, [1]]\n",
    "\n",
    "probs_qda = np.concatenate((data1_probs_qda, data2_probs_qda, data3_probs_qda))\n",
    "\n",
    "min_prob_qda = np.min(probs_qda)\n",
    "max_prob_qda = np.max(probs_qda)\n",
    "thresholds_qda = np.linspace(min_prob_qda+epsilon, max_prob_qda-epsilon, 100)\n",
    "\n",
    "ROC_data_qda = getROCdata(truthVals, probs_qda, thresholds_qda)\n",
    "\n",
    "display(ROC_data_lr.head())\n",
    "\n",
    "display(ROC_data_lda.head())\n",
    "\n",
    "display(ROC_data_qda.head())\n"
   ]
  },
  {
   "cell_type": "markdown",
   "metadata": {},
   "source": [
    "# Step 9"
   ]
  },
  {
   "cell_type": "code",
   "execution_count": 185,
   "metadata": {},
   "outputs": [
    {
     "data": {
      "image/png": "[encoded data removed]",
      "text/plain": [
       "<Figure size 576x360 with 1 Axes>"
      ]
     },
     "metadata": {
      "needs_background": "light"
     },
     "output_type": "display_data"
    }
   ],
   "source": [
    "fig2 = plt.figure(figsize=(8,5))\n",
    "ax1=plt.subplot()\n",
    "ax1 = ROC_data_lr.plot(x='FP_rate', y='TP_rate', color='blue', ax=ax1, title='ROC Curve', \n",
    "                       label='Logistic Regression')\n",
    "ROC_data_lda.plot(x='FP_rate', y='TP_rate', color='red', ax=ax1, label='Linear Discriminant Analysis')\n",
    "ROC_data_qda.plot(x='FP_rate', y='TP_rate', color='green', ax=ax1, label='Quadratic Discriminant Analysis')\n",
    "no_info = np.linspace(0,1,100) # Plot dashed y=x line\n",
    "plt.plot(no_info, no_info, color='black', linestyle='dashed', label='No Info')\n",
    "ax1.set_xlabel('False Positive Rate')\n",
    "ax1.set_ylabel('True Positive Rate')\n",
    "plt.show()"
   ]
  },
  {
   "cell_type": "markdown",
   "metadata": {},
   "source": [
    "# Step 10\n",
    "\n",
    "#### Area under curve computation"
   ]
  },
  {
   "cell_type": "code",
   "execution_count": 186,
   "metadata": {},
   "outputs": [],
   "source": [
    "\"\"\"\n",
    "    This function takes in the y vector and computes the high value Riemann sum area\n",
    "    underneath the curve described by the function y(x) where x is the vector of\n",
    "    function inputs and y is the function output vector\n",
    "\"\"\"\n",
    "def area_under_roc_curve(y_vec):\n",
    "    n = len(y_vec)\n",
    "    h = 1/n\n",
    "    total_area = 0.\n",
    "    y_vec = np.sort(y_vec)\n",
    "    for y in y_vec:\n",
    "        area = y*h\n",
    "        total_area += area\n",
    "    # End for\n",
    "    return total_area\n",
    "\n"
   ]
  },
  {
   "cell_type": "code",
   "execution_count": 187,
   "metadata": {},
   "outputs": [
    {
     "name": "stdout",
     "output_type": "stream",
     "text": [
      "Approximate area under Logistic Regression ROC Curve: 0.72033\n",
      "Approximate area under Linear Discriminant Analysis ROC Curve: 0.74400\n",
      "Approximate area under Quadratic Discriminant Analysis ROC Curve: 0.79076\n"
     ]
    }
   ],
   "source": [
    "log_reg_area = area_under_roc_curve(ROC_data_lr['TP_rate'])\n",
    "print('Approximate area under Logistic Regression ROC Curve: %.5f' %log_reg_area)\n",
    "lda_area = area_under_roc_curve(ROC_data_lda['TP_rate'])\n",
    "print('Approximate area under Linear Discriminant Analysis ROC Curve: %.5f' %lda_area)\n",
    "qda_area = area_under_roc_curve(ROC_data_qda['TP_rate'])\n",
    "print('Approximate area under Quadratic Discriminant Analysis ROC Curve: %.5f' %qda_area)"
   ]
  },
  {
   "cell_type": "markdown",
   "metadata": {},
   "source": [
    "# Step 11\n",
    "\n",
    "#### Calculating maximum values for accuracy, precision, recall, and F-measure"
   ]
  },
  {
   "cell_type": "code",
   "execution_count": 188,
   "metadata": {},
   "outputs": [
    {
     "data": {
      "text/markdown": [
       "#### Logistic Regression"
      ],
      "text/plain": [
       "<IPython.core.display.Markdown object>"
      ]
     },
     "metadata": {},
     "output_type": "display_data"
    },
    {
     "data": {
      "text/html": [
       "<div>\n",
       "<style scoped>\n",
       "    .dataframe tbody tr th:only-of-type {\n",
       "        vertical-align: middle;\n",
       "    }\n",
       "\n",
       "    .dataframe tbody tr th {\n",
       "        vertical-align: top;\n",
       "    }\n",
       "\n",
       "    .dataframe thead th {\n",
       "        text-align: right;\n",
       "    }\n",
       "</style>\n",
       "<table border=\"1\" class=\"dataframe\">\n",
       "  <thead>\n",
       "    <tr style=\"text-align: right;\">\n",
       "      <th></th>\n",
       "      <th>prob_threshold</th>\n",
       "      <th>TP_count</th>\n",
       "      <th>FP_count</th>\n",
       "      <th>TN_count</th>\n",
       "      <th>FN_count</th>\n",
       "      <th>TP_rate</th>\n",
       "      <th>FP_rate</th>\n",
       "      <th>accuracy</th>\n",
       "      <th>precision</th>\n",
       "      <th>F-measure</th>\n",
       "    </tr>\n",
       "  </thead>\n",
       "  <tbody>\n",
       "    <tr>\n",
       "      <th>50</th>\n",
       "      <td>0.504093</td>\n",
       "      <td>360.0</td>\n",
       "      <td>73.0</td>\n",
       "      <td>377.0</td>\n",
       "      <td>90.0</td>\n",
       "      <td>0.8</td>\n",
       "      <td>0.162222</td>\n",
       "      <td>0.818889</td>\n",
       "      <td>0.831409</td>\n",
       "      <td>0.815402</td>\n",
       "    </tr>\n",
       "  </tbody>\n",
       "</table>\n",
       "</div>"
      ],
      "text/plain": [
       "    prob_threshold  TP_count  FP_count  TN_count  FN_count  TP_rate   FP_rate  \\\n",
       "50        0.504093     360.0      73.0     377.0      90.0      0.8  0.162222   \n",
       "\n",
       "    accuracy  precision  F-measure  \n",
       "50  0.818889   0.831409   0.815402  "
      ]
     },
     "metadata": {},
     "output_type": "display_data"
    },
    {
     "data": {
      "text/html": [
       "<div>\n",
       "<style scoped>\n",
       "    .dataframe tbody tr th:only-of-type {\n",
       "        vertical-align: middle;\n",
       "    }\n",
       "\n",
       "    .dataframe tbody tr th {\n",
       "        vertical-align: top;\n",
       "    }\n",
       "\n",
       "    .dataframe thead th {\n",
       "        text-align: right;\n",
       "    }\n",
       "</style>\n",
       "<table border=\"1\" class=\"dataframe\">\n",
       "  <thead>\n",
       "    <tr style=\"text-align: right;\">\n",
       "      <th></th>\n",
       "      <th>prob_threshold</th>\n",
       "      <th>TP_count</th>\n",
       "      <th>FP_count</th>\n",
       "      <th>TN_count</th>\n",
       "      <th>FN_count</th>\n",
       "      <th>TP_rate</th>\n",
       "      <th>FP_rate</th>\n",
       "      <th>accuracy</th>\n",
       "      <th>precision</th>\n",
       "      <th>F-measure</th>\n",
       "    </tr>\n",
       "  </thead>\n",
       "  <tbody>\n",
       "    <tr>\n",
       "      <th>99</th>\n",
       "      <td>0.994995</td>\n",
       "      <td>1.0</td>\n",
       "      <td>0.0</td>\n",
       "      <td>450.0</td>\n",
       "      <td>449.0</td>\n",
       "      <td>0.002222</td>\n",
       "      <td>0.0</td>\n",
       "      <td>0.501111</td>\n",
       "      <td>1.0</td>\n",
       "      <td>0.004435</td>\n",
       "    </tr>\n",
       "  </tbody>\n",
       "</table>\n",
       "</div>"
      ],
      "text/plain": [
       "    prob_threshold  TP_count  FP_count  TN_count  FN_count   TP_rate  FP_rate  \\\n",
       "99        0.994995       1.0       0.0     450.0     449.0  0.002222      0.0   \n",
       "\n",
       "    accuracy  precision  F-measure  \n",
       "99  0.501111        1.0   0.004435  "
      ]
     },
     "metadata": {},
     "output_type": "display_data"
    },
    {
     "data": {
      "text/html": [
       "<div>\n",
       "<style scoped>\n",
       "    .dataframe tbody tr th:only-of-type {\n",
       "        vertical-align: middle;\n",
       "    }\n",
       "\n",
       "    .dataframe tbody tr th {\n",
       "        vertical-align: top;\n",
       "    }\n",
       "\n",
       "    .dataframe thead th {\n",
       "        text-align: right;\n",
       "    }\n",
       "</style>\n",
       "<table border=\"1\" class=\"dataframe\">\n",
       "  <thead>\n",
       "    <tr style=\"text-align: right;\">\n",
       "      <th></th>\n",
       "      <th>prob_threshold</th>\n",
       "      <th>TP_count</th>\n",
       "      <th>FP_count</th>\n",
       "      <th>TN_count</th>\n",
       "      <th>FN_count</th>\n",
       "      <th>TP_rate</th>\n",
       "      <th>FP_rate</th>\n",
       "      <th>accuracy</th>\n",
       "      <th>precision</th>\n",
       "      <th>F-measure</th>\n",
       "    </tr>\n",
       "  </thead>\n",
       "  <tbody>\n",
       "    <tr>\n",
       "      <th>0</th>\n",
       "      <td>0.003172</td>\n",
       "      <td>450.0</td>\n",
       "      <td>449.0</td>\n",
       "      <td>1.0</td>\n",
       "      <td>0.0</td>\n",
       "      <td>1.0</td>\n",
       "      <td>0.997778</td>\n",
       "      <td>0.501111</td>\n",
       "      <td>0.500556</td>\n",
       "      <td>0.667161</td>\n",
       "    </tr>\n",
       "  </tbody>\n",
       "</table>\n",
       "</div>"
      ],
      "text/plain": [
       "   prob_threshold  TP_count  FP_count  TN_count  FN_count  TP_rate   FP_rate  \\\n",
       "0        0.003172     450.0     449.0       1.0       0.0      1.0  0.997778   \n",
       "\n",
       "   accuracy  precision  F-measure  \n",
       "0  0.501111   0.500556   0.667161  "
      ]
     },
     "metadata": {},
     "output_type": "display_data"
    },
    {
     "data": {
      "text/html": [
       "<div>\n",
       "<style scoped>\n",
       "    .dataframe tbody tr th:only-of-type {\n",
       "        vertical-align: middle;\n",
       "    }\n",
       "\n",
       "    .dataframe tbody tr th {\n",
       "        vertical-align: top;\n",
       "    }\n",
       "\n",
       "    .dataframe thead th {\n",
       "        text-align: right;\n",
       "    }\n",
       "</style>\n",
       "<table border=\"1\" class=\"dataframe\">\n",
       "  <thead>\n",
       "    <tr style=\"text-align: right;\">\n",
       "      <th></th>\n",
       "      <th>prob_threshold</th>\n",
       "      <th>TP_count</th>\n",
       "      <th>FP_count</th>\n",
       "      <th>TN_count</th>\n",
       "      <th>FN_count</th>\n",
       "      <th>TP_rate</th>\n",
       "      <th>FP_rate</th>\n",
       "      <th>accuracy</th>\n",
       "      <th>precision</th>\n",
       "      <th>F-measure</th>\n",
       "    </tr>\n",
       "  </thead>\n",
       "  <tbody>\n",
       "    <tr>\n",
       "      <th>50</th>\n",
       "      <td>0.504093</td>\n",
       "      <td>360.0</td>\n",
       "      <td>73.0</td>\n",
       "      <td>377.0</td>\n",
       "      <td>90.0</td>\n",
       "      <td>0.8</td>\n",
       "      <td>0.162222</td>\n",
       "      <td>0.818889</td>\n",
       "      <td>0.831409</td>\n",
       "      <td>0.815402</td>\n",
       "    </tr>\n",
       "  </tbody>\n",
       "</table>\n",
       "</div>"
      ],
      "text/plain": [
       "    prob_threshold  TP_count  FP_count  TN_count  FN_count  TP_rate   FP_rate  \\\n",
       "50        0.504093     360.0      73.0     377.0      90.0      0.8  0.162222   \n",
       "\n",
       "    accuracy  precision  F-measure  \n",
       "50  0.818889   0.831409   0.815402  "
      ]
     },
     "metadata": {},
     "output_type": "display_data"
    },
    {
     "name": "stdout",
     "output_type": "stream",
     "text": [
      "\n",
      "\n"
     ]
    },
    {
     "data": {
      "text/markdown": [
       "#### Linear Discriminant Analysis"
      ],
      "text/plain": [
       "<IPython.core.display.Markdown object>"
      ]
     },
     "metadata": {},
     "output_type": "display_data"
    },
    {
     "data": {
      "text/html": [
       "<div>\n",
       "<style scoped>\n",
       "    .dataframe tbody tr th:only-of-type {\n",
       "        vertical-align: middle;\n",
       "    }\n",
       "\n",
       "    .dataframe tbody tr th {\n",
       "        vertical-align: top;\n",
       "    }\n",
       "\n",
       "    .dataframe thead th {\n",
       "        text-align: right;\n",
       "    }\n",
       "</style>\n",
       "<table border=\"1\" class=\"dataframe\">\n",
       "  <thead>\n",
       "    <tr style=\"text-align: right;\">\n",
       "      <th></th>\n",
       "      <th>prob_threshold</th>\n",
       "      <th>TP_count</th>\n",
       "      <th>FP_count</th>\n",
       "      <th>TN_count</th>\n",
       "      <th>FN_count</th>\n",
       "      <th>TP_rate</th>\n",
       "      <th>FP_rate</th>\n",
       "      <th>accuracy</th>\n",
       "      <th>precision</th>\n",
       "      <th>F-measure</th>\n",
       "    </tr>\n",
       "  </thead>\n",
       "  <tbody>\n",
       "    <tr>\n",
       "      <th>50</th>\n",
       "      <td>0.505039</td>\n",
       "      <td>358.0</td>\n",
       "      <td>74.0</td>\n",
       "      <td>376.0</td>\n",
       "      <td>92.0</td>\n",
       "      <td>0.795556</td>\n",
       "      <td>0.164444</td>\n",
       "      <td>0.815556</td>\n",
       "      <td>0.828704</td>\n",
       "      <td>0.811791</td>\n",
       "    </tr>\n",
       "  </tbody>\n",
       "</table>\n",
       "</div>"
      ],
      "text/plain": [
       "    prob_threshold  TP_count  FP_count  TN_count  FN_count   TP_rate  \\\n",
       "50        0.505039     358.0      74.0     376.0      92.0  0.795556   \n",
       "\n",
       "     FP_rate  accuracy  precision  F-measure  \n",
       "50  0.164444  0.815556   0.828704   0.811791  "
      ]
     },
     "metadata": {},
     "output_type": "display_data"
    },
    {
     "data": {
      "text/html": [
       "<div>\n",
       "<style scoped>\n",
       "    .dataframe tbody tr th:only-of-type {\n",
       "        vertical-align: middle;\n",
       "    }\n",
       "\n",
       "    .dataframe tbody tr th {\n",
       "        vertical-align: top;\n",
       "    }\n",
       "\n",
       "    .dataframe thead th {\n",
       "        text-align: right;\n",
       "    }\n",
       "</style>\n",
       "<table border=\"1\" class=\"dataframe\">\n",
       "  <thead>\n",
       "    <tr style=\"text-align: right;\">\n",
       "      <th></th>\n",
       "      <th>prob_threshold</th>\n",
       "      <th>TP_count</th>\n",
       "      <th>FP_count</th>\n",
       "      <th>TN_count</th>\n",
       "      <th>FN_count</th>\n",
       "      <th>TP_rate</th>\n",
       "      <th>FP_rate</th>\n",
       "      <th>accuracy</th>\n",
       "      <th>precision</th>\n",
       "      <th>F-measure</th>\n",
       "    </tr>\n",
       "  </thead>\n",
       "  <tbody>\n",
       "    <tr>\n",
       "      <th>99</th>\n",
       "      <td>0.998998</td>\n",
       "      <td>42.0</td>\n",
       "      <td>0.0</td>\n",
       "      <td>450.0</td>\n",
       "      <td>408.0</td>\n",
       "      <td>0.093333</td>\n",
       "      <td>0.0</td>\n",
       "      <td>0.546667</td>\n",
       "      <td>1.0</td>\n",
       "      <td>0.170732</td>\n",
       "    </tr>\n",
       "  </tbody>\n",
       "</table>\n",
       "</div>"
      ],
      "text/plain": [
       "    prob_threshold  TP_count  FP_count  TN_count  FN_count   TP_rate  FP_rate  \\\n",
       "99        0.998998      42.0       0.0     450.0     408.0  0.093333      0.0   \n",
       "\n",
       "    accuracy  precision  F-measure  \n",
       "99  0.546667        1.0   0.170732  "
      ]
     },
     "metadata": {},
     "output_type": "display_data"
    },
    {
     "data": {
      "text/html": [
       "<div>\n",
       "<style scoped>\n",
       "    .dataframe tbody tr th:only-of-type {\n",
       "        vertical-align: middle;\n",
       "    }\n",
       "\n",
       "    .dataframe tbody tr th {\n",
       "        vertical-align: top;\n",
       "    }\n",
       "\n",
       "    .dataframe thead th {\n",
       "        text-align: right;\n",
       "    }\n",
       "</style>\n",
       "<table border=\"1\" class=\"dataframe\">\n",
       "  <thead>\n",
       "    <tr style=\"text-align: right;\">\n",
       "      <th></th>\n",
       "      <th>prob_threshold</th>\n",
       "      <th>TP_count</th>\n",
       "      <th>FP_count</th>\n",
       "      <th>TN_count</th>\n",
       "      <th>FN_count</th>\n",
       "      <th>TP_rate</th>\n",
       "      <th>FP_rate</th>\n",
       "      <th>accuracy</th>\n",
       "      <th>precision</th>\n",
       "      <th>F-measure</th>\n",
       "    </tr>\n",
       "  </thead>\n",
       "  <tbody>\n",
       "    <tr>\n",
       "      <th>0</th>\n",
       "      <td>0.001</td>\n",
       "      <td>450.0</td>\n",
       "      <td>395.0</td>\n",
       "      <td>55.0</td>\n",
       "      <td>0.0</td>\n",
       "      <td>1.0</td>\n",
       "      <td>0.877778</td>\n",
       "      <td>0.561111</td>\n",
       "      <td>0.532544</td>\n",
       "      <td>0.694981</td>\n",
       "    </tr>\n",
       "  </tbody>\n",
       "</table>\n",
       "</div>"
      ],
      "text/plain": [
       "   prob_threshold  TP_count  FP_count  TN_count  FN_count  TP_rate   FP_rate  \\\n",
       "0           0.001     450.0     395.0      55.0       0.0      1.0  0.877778   \n",
       "\n",
       "   accuracy  precision  F-measure  \n",
       "0  0.561111   0.532544   0.694981  "
      ]
     },
     "metadata": {},
     "output_type": "display_data"
    },
    {
     "data": {
      "text/html": [
       "<div>\n",
       "<style scoped>\n",
       "    .dataframe tbody tr th:only-of-type {\n",
       "        vertical-align: middle;\n",
       "    }\n",
       "\n",
       "    .dataframe tbody tr th {\n",
       "        vertical-align: top;\n",
       "    }\n",
       "\n",
       "    .dataframe thead th {\n",
       "        text-align: right;\n",
       "    }\n",
       "</style>\n",
       "<table border=\"1\" class=\"dataframe\">\n",
       "  <thead>\n",
       "    <tr style=\"text-align: right;\">\n",
       "      <th></th>\n",
       "      <th>prob_threshold</th>\n",
       "      <th>TP_count</th>\n",
       "      <th>FP_count</th>\n",
       "      <th>TN_count</th>\n",
       "      <th>FN_count</th>\n",
       "      <th>TP_rate</th>\n",
       "      <th>FP_rate</th>\n",
       "      <th>accuracy</th>\n",
       "      <th>precision</th>\n",
       "      <th>F-measure</th>\n",
       "    </tr>\n",
       "  </thead>\n",
       "  <tbody>\n",
       "    <tr>\n",
       "      <th>45</th>\n",
       "      <td>0.454635</td>\n",
       "      <td>372.0</td>\n",
       "      <td>94.0</td>\n",
       "      <td>356.0</td>\n",
       "      <td>78.0</td>\n",
       "      <td>0.826667</td>\n",
       "      <td>0.208889</td>\n",
       "      <td>0.808889</td>\n",
       "      <td>0.798283</td>\n",
       "      <td>0.812227</td>\n",
       "    </tr>\n",
       "  </tbody>\n",
       "</table>\n",
       "</div>"
      ],
      "text/plain": [
       "    prob_threshold  TP_count  FP_count  TN_count  FN_count   TP_rate  \\\n",
       "45        0.454635     372.0      94.0     356.0      78.0  0.826667   \n",
       "\n",
       "     FP_rate  accuracy  precision  F-measure  \n",
       "45  0.208889  0.808889   0.798283   0.812227  "
      ]
     },
     "metadata": {},
     "output_type": "display_data"
    },
    {
     "name": "stdout",
     "output_type": "stream",
     "text": [
      "\n",
      "\n"
     ]
    },
    {
     "data": {
      "text/markdown": [
       "#### Quadratic Discriminant Analysis"
      ],
      "text/plain": [
       "<IPython.core.display.Markdown object>"
      ]
     },
     "metadata": {},
     "output_type": "display_data"
    },
    {
     "data": {
      "text/html": [
       "<div>\n",
       "<style scoped>\n",
       "    .dataframe tbody tr th:only-of-type {\n",
       "        vertical-align: middle;\n",
       "    }\n",
       "\n",
       "    .dataframe tbody tr th {\n",
       "        vertical-align: top;\n",
       "    }\n",
       "\n",
       "    .dataframe thead th {\n",
       "        text-align: right;\n",
       "    }\n",
       "</style>\n",
       "<table border=\"1\" class=\"dataframe\">\n",
       "  <thead>\n",
       "    <tr style=\"text-align: right;\">\n",
       "      <th></th>\n",
       "      <th>prob_threshold</th>\n",
       "      <th>TP_count</th>\n",
       "      <th>FP_count</th>\n",
       "      <th>TN_count</th>\n",
       "      <th>FN_count</th>\n",
       "      <th>TP_rate</th>\n",
       "      <th>FP_rate</th>\n",
       "      <th>accuracy</th>\n",
       "      <th>precision</th>\n",
       "      <th>F-measure</th>\n",
       "    </tr>\n",
       "  </thead>\n",
       "  <tbody>\n",
       "    <tr>\n",
       "      <th>56</th>\n",
       "      <td>0.565525</td>\n",
       "      <td>347.0</td>\n",
       "      <td>45.0</td>\n",
       "      <td>405.0</td>\n",
       "      <td>103.0</td>\n",
       "      <td>0.771111</td>\n",
       "      <td>0.1</td>\n",
       "      <td>0.835556</td>\n",
       "      <td>0.885204</td>\n",
       "      <td>0.824228</td>\n",
       "    </tr>\n",
       "  </tbody>\n",
       "</table>\n",
       "</div>"
      ],
      "text/plain": [
       "    prob_threshold  TP_count  FP_count  TN_count  FN_count   TP_rate  FP_rate  \\\n",
       "56        0.565525     347.0      45.0     405.0     103.0  0.771111      0.1   \n",
       "\n",
       "    accuracy  precision  F-measure  \n",
       "56  0.835556   0.885204   0.824228  "
      ]
     },
     "metadata": {},
     "output_type": "display_data"
    },
    {
     "data": {
      "text/html": [
       "<div>\n",
       "<style scoped>\n",
       "    .dataframe tbody tr th:only-of-type {\n",
       "        vertical-align: middle;\n",
       "    }\n",
       "\n",
       "    .dataframe tbody tr th {\n",
       "        vertical-align: top;\n",
       "    }\n",
       "\n",
       "    .dataframe thead th {\n",
       "        text-align: right;\n",
       "    }\n",
       "</style>\n",
       "<table border=\"1\" class=\"dataframe\">\n",
       "  <thead>\n",
       "    <tr style=\"text-align: right;\">\n",
       "      <th></th>\n",
       "      <th>prob_threshold</th>\n",
       "      <th>TP_count</th>\n",
       "      <th>FP_count</th>\n",
       "      <th>TN_count</th>\n",
       "      <th>FN_count</th>\n",
       "      <th>TP_rate</th>\n",
       "      <th>FP_rate</th>\n",
       "      <th>accuracy</th>\n",
       "      <th>precision</th>\n",
       "      <th>F-measure</th>\n",
       "    </tr>\n",
       "  </thead>\n",
       "  <tbody>\n",
       "    <tr>\n",
       "      <th>99</th>\n",
       "      <td>0.999</td>\n",
       "      <td>73.0</td>\n",
       "      <td>0.0</td>\n",
       "      <td>450.0</td>\n",
       "      <td>377.0</td>\n",
       "      <td>0.162222</td>\n",
       "      <td>0.0</td>\n",
       "      <td>0.581111</td>\n",
       "      <td>1.0</td>\n",
       "      <td>0.279159</td>\n",
       "    </tr>\n",
       "  </tbody>\n",
       "</table>\n",
       "</div>"
      ],
      "text/plain": [
       "    prob_threshold  TP_count  FP_count  TN_count  FN_count   TP_rate  FP_rate  \\\n",
       "99           0.999      73.0       0.0     450.0     377.0  0.162222      0.0   \n",
       "\n",
       "    accuracy  precision  F-measure  \n",
       "99  0.581111        1.0   0.279159  "
      ]
     },
     "metadata": {},
     "output_type": "display_data"
    },
    {
     "data": {
      "text/html": [
       "<div>\n",
       "<style scoped>\n",
       "    .dataframe tbody tr th:only-of-type {\n",
       "        vertical-align: middle;\n",
       "    }\n",
       "\n",
       "    .dataframe tbody tr th {\n",
       "        vertical-align: top;\n",
       "    }\n",
       "\n",
       "    .dataframe thead th {\n",
       "        text-align: right;\n",
       "    }\n",
       "</style>\n",
       "<table border=\"1\" class=\"dataframe\">\n",
       "  <thead>\n",
       "    <tr style=\"text-align: right;\">\n",
       "      <th></th>\n",
       "      <th>prob_threshold</th>\n",
       "      <th>TP_count</th>\n",
       "      <th>FP_count</th>\n",
       "      <th>TN_count</th>\n",
       "      <th>FN_count</th>\n",
       "      <th>TP_rate</th>\n",
       "      <th>FP_rate</th>\n",
       "      <th>accuracy</th>\n",
       "      <th>precision</th>\n",
       "      <th>F-measure</th>\n",
       "    </tr>\n",
       "  </thead>\n",
       "  <tbody>\n",
       "    <tr>\n",
       "      <th>0</th>\n",
       "      <td>0.001</td>\n",
       "      <td>450.0</td>\n",
       "      <td>365.0</td>\n",
       "      <td>85.0</td>\n",
       "      <td>0.0</td>\n",
       "      <td>1.0</td>\n",
       "      <td>0.811111</td>\n",
       "      <td>0.594444</td>\n",
       "      <td>0.552147</td>\n",
       "      <td>0.711462</td>\n",
       "    </tr>\n",
       "  </tbody>\n",
       "</table>\n",
       "</div>"
      ],
      "text/plain": [
       "   prob_threshold  TP_count  FP_count  TN_count  FN_count  TP_rate   FP_rate  \\\n",
       "0           0.001     450.0     365.0      85.0       0.0      1.0  0.811111   \n",
       "\n",
       "   accuracy  precision  F-measure  \n",
       "0  0.594444   0.552147   0.711462  "
      ]
     },
     "metadata": {},
     "output_type": "display_data"
    },
    {
     "data": {
      "text/html": [
       "<div>\n",
       "<style scoped>\n",
       "    .dataframe tbody tr th:only-of-type {\n",
       "        vertical-align: middle;\n",
       "    }\n",
       "\n",
       "    .dataframe tbody tr th {\n",
       "        vertical-align: top;\n",
       "    }\n",
       "\n",
       "    .dataframe thead th {\n",
       "        text-align: right;\n",
       "    }\n",
       "</style>\n",
       "<table border=\"1\" class=\"dataframe\">\n",
       "  <thead>\n",
       "    <tr style=\"text-align: right;\">\n",
       "      <th></th>\n",
       "      <th>prob_threshold</th>\n",
       "      <th>TP_count</th>\n",
       "      <th>FP_count</th>\n",
       "      <th>TN_count</th>\n",
       "      <th>FN_count</th>\n",
       "      <th>TP_rate</th>\n",
       "      <th>FP_rate</th>\n",
       "      <th>accuracy</th>\n",
       "      <th>precision</th>\n",
       "      <th>F-measure</th>\n",
       "    </tr>\n",
       "  </thead>\n",
       "  <tbody>\n",
       "    <tr>\n",
       "      <th>28</th>\n",
       "      <td>0.283263</td>\n",
       "      <td>421.0</td>\n",
       "      <td>138.0</td>\n",
       "      <td>312.0</td>\n",
       "      <td>29.0</td>\n",
       "      <td>0.935556</td>\n",
       "      <td>0.306667</td>\n",
       "      <td>0.814444</td>\n",
       "      <td>0.753131</td>\n",
       "      <td>0.83449</td>\n",
       "    </tr>\n",
       "  </tbody>\n",
       "</table>\n",
       "</div>"
      ],
      "text/plain": [
       "    prob_threshold  TP_count  FP_count  TN_count  FN_count   TP_rate  \\\n",
       "28        0.283263     421.0     138.0     312.0      29.0  0.935556   \n",
       "\n",
       "     FP_rate  accuracy  precision  F-measure  \n",
       "28  0.306667  0.814444   0.753131    0.83449  "
      ]
     },
     "metadata": {},
     "output_type": "display_data"
    }
   ],
   "source": [
    "# Logistic Regression Max values\n",
    "display(md(\"#### Logistic Regression\"))\n",
    "ROC_data_lr_acc = ROC_data_lr.sort_values(by='accuracy', ascending=False)\n",
    "display(ROC_data_lr_acc.head(1))\n",
    "ROC_data_lr_prec = ROC_data_lr.sort_values(by='precision', ascending=False)\n",
    "display(ROC_data_lr_prec.head(1))\n",
    "ROC_data_lr_recall = ROC_data_lr.sort_values(by='TP_rate', ascending=False)\n",
    "display(ROC_data_lr_recall.head(1))\n",
    "ROC_data_lr_f_measure = ROC_data_lr.sort_values(by='F-measure', ascending=False)\n",
    "display(ROC_data_lr_f_measure.head(1))\n",
    "print('\\n')\n",
    "\n",
    "# Linear Discriminant Analysis Max values\n",
    "display(md(\"#### Linear Discriminant Analysis\"))\n",
    "ROC_data_lda_acc = ROC_data_lda.sort_values(by='accuracy', ascending=False)\n",
    "display(ROC_data_lda_acc.head(1))\n",
    "ROC_data_lda_prec = ROC_data_lda.sort_values(by='precision', ascending=False)\n",
    "display(ROC_data_lda_prec.head(1))\n",
    "ROC_data_lda_recall = ROC_data_lda.sort_values(by='TP_rate', ascending=False)\n",
    "display(ROC_data_lda_recall.head(1))\n",
    "ROC_data_lda_f_measure = ROC_data_lda.sort_values(by='F-measure', ascending=False)\n",
    "display(ROC_data_lda_f_measure.head(1))\n",
    "print('\\n')\n",
    "\n",
    "# Quadratic Discriminant Analysis Max values\n",
    "display(md(\"#### Quadratic Discriminant Analysis\"))\n",
    "ROC_data_qda_acc = ROC_data_qda.sort_values(by='accuracy', ascending=False)\n",
    "display(ROC_data_qda_acc.head(1))\n",
    "ROC_data_qda_prec = ROC_data_qda.sort_values(by='precision', ascending=False)\n",
    "display(ROC_data_qda_prec.head(1))\n",
    "ROC_data_qda_recall = ROC_data_qda.sort_values(by='TP_rate', ascending=False)\n",
    "display(ROC_data_qda_recall.head(1))\n",
    "ROC_data_qda_f_measure = ROC_data_qda.sort_values(by='F-measure', ascending=False)\n",
    "display(ROC_data_qda_f_measure.head(1))"
   ]
  },
  {
   "cell_type": "markdown",
   "metadata": {},
   "source": [
    "#### Selecting the best values\n",
    "Based on the sorting, we select the first row from each of the displayed dataframes above. Note that index values shown are the original dataframe index values and these carry through to the newly created dataframes. "
   ]
  },
  {
   "cell_type": "code",
   "execution_count": 189,
   "metadata": {},
   "outputs": [
    {
     "data": {
      "text/markdown": [
       "Logistic Regression"
      ],
      "text/plain": [
       "<IPython.core.display.Markdown object>"
      ]
     },
     "metadata": {},
     "output_type": "display_data"
    },
    {
     "name": "stdout",
     "output_type": "stream",
     "text": [
      "Probability Threshold for Maximum Accuracy: 0.50409\n",
      "Probability Threshold for Maximum Precision: 0.99499\n",
      "Probability Threshold for Maximum Recall: 0.00317\n",
      "Probability Threshold for Maximum F-Measure: 0.50409\n"
     ]
    },
    {
     "data": {
      "text/markdown": [
       "Linear Discriminant Analysis"
      ],
      "text/plain": [
       "<IPython.core.display.Markdown object>"
      ]
     },
     "metadata": {},
     "output_type": "display_data"
    },
    {
     "name": "stdout",
     "output_type": "stream",
     "text": [
      "Probability Threshold for Maximum Accuracy: 0.50504\n",
      "Probability Threshold for Maximum Precision: 0.99900\n",
      "Probability Threshold for Maximum Recall: 0.00100\n",
      "Probability Threshold for Maximum F-Measure: 0.45464\n"
     ]
    },
    {
     "data": {
      "text/markdown": [
       "Quadratic Discriminant Analysis"
      ],
      "text/plain": [
       "<IPython.core.display.Markdown object>"
      ]
     },
     "metadata": {},
     "output_type": "display_data"
    },
    {
     "name": "stdout",
     "output_type": "stream",
     "text": [
      "Probability Threshold for Maximum Accuracy: 0.56553\n",
      "Probability Threshold for Maximum Precision: 0.99900\n",
      "Probability Threshold for Maximum Recall: 0.00100\n",
      "Probability Threshold for Maximum F-Measure: 0.28326\n"
     ]
    }
   ],
   "source": [
    "# Select Max values for Logistic Regression\n",
    "max_accuracy_lr = ROC_data_lr_acc.loc[50].at['prob_threshold']\n",
    "max_precision_lr = ROC_data_lr_prec.loc[99].at['prob_threshold']\n",
    "max_recall_lr = ROC_data_lr_recall.loc[0].at['prob_threshold']\n",
    "max_f_measure_lr = ROC_data_lr_f_measure.loc[50].at['prob_threshold']\n",
    "display(md(\"Logistic Regression\"))\n",
    "print(\"Probability Threshold for Maximum Accuracy: %.5f\" %max_accuracy_lr)\n",
    "print(\"Probability Threshold for Maximum Precision: %.5f\" %max_precision_lr)\n",
    "print(\"Probability Threshold for Maximum Recall: %.5f\" %max_recall_lr)\n",
    "print(\"Probability Threshold for Maximum F-Measure: %.5f\" %max_f_measure_lr)\n",
    "\n",
    "# Select Max values for LDA\n",
    "max_accuracy_lda = ROC_data_lda_acc.loc[50].at['prob_threshold']\n",
    "max_precision_lda = ROC_data_lda_prec.loc[99].at['prob_threshold']\n",
    "max_recall_lda = ROC_data_lda_recall.loc[0].at['prob_threshold']\n",
    "max_f_measure_lda = ROC_data_lda_f_measure.loc[45].at['prob_threshold']\n",
    "display(md(\"Linear Discriminant Analysis\"))\n",
    "print(\"Probability Threshold for Maximum Accuracy: %.5f\" %max_accuracy_lda)\n",
    "print(\"Probability Threshold for Maximum Precision: %.5f\" %max_precision_lda)\n",
    "print(\"Probability Threshold for Maximum Recall: %.5f\" %max_recall_lda)\n",
    "print(\"Probability Threshold for Maximum F-Measure: %.5f\" %max_f_measure_lda)\n",
    "\n",
    "# Select Max values for QDA\n",
    "max_accuracy_qda = ROC_data_qda_acc.loc[56].at['prob_threshold']\n",
    "max_precision_qda = ROC_data_qda_prec.loc[99].at['prob_threshold']\n",
    "max_recall_qda = ROC_data_qda_recall.loc[0].at['prob_threshold']\n",
    "max_f_measure_qda = ROC_data_qda_f_measure.loc[28].at['prob_threshold']\n",
    "display(md(\"Quadratic Discriminant Analysis\"))\n",
    "print(\"Probability Threshold for Maximum Accuracy: %.5f\" %max_accuracy_qda)\n",
    "print(\"Probability Threshold for Maximum Precision: %.5f\" %max_precision_qda)\n",
    "print(\"Probability Threshold for Maximum Recall: %.5f\" %max_recall_qda)\n",
    "print(\"Probability Threshold for Maximum F-Measure: %.5f\" %max_f_measure_qda)\n"
   ]
  },
  {
   "cell_type": "code",
   "execution_count": 190,
   "metadata": {},
   "outputs": [],
   "source": [
    "\"\"\"\n",
    "    This function creates a pandas dataframe that replicates the confusion matrix for a given set of \n",
    "    dataset classification counts. \n",
    "    Parameters: true_pos: The true positive count\n",
    "                true_neg: The true negative count\n",
    "                false_pos: The false positive count\n",
    "                false_neg: The false negative count\n",
    "    Returns: A dataframe containing these values and their respective column totals.\n",
    "    Purpose: Replicate table 4.5 from ISLR text\n",
    "\"\"\"\n",
    "def create_confusion_matrix(true_pos, true_neg, false_pos, false_neg):\n",
    "    confusion_mat = np.array([[true_pos, false_pos, (true_pos + false_pos)], \n",
    "                             [false_neg, true_neg, (false_neg + true_neg)], \n",
    "                            [(true_pos + false_neg), (false_pos + true_neg), \n",
    "                            ((true_pos + false_pos) + (false_neg + true_neg))]], dtype=int)\n",
    "    confusion_df = pd.DataFrame(confusion_mat, columns=['Actual Positive', 'Actual Negative', 'Total'], \n",
    "                                index=['Predicted Positive', 'Predicted Negative', 'Total'])\n",
    "    return confusion_df"
   ]
  },
  {
   "cell_type": "markdown",
   "metadata": {},
   "source": [
    "#### Logistic Regression\n",
    "\n",
    "Create confusion matrices for each of the probability thresholds"
   ]
  },
  {
   "cell_type": "code",
   "execution_count": 191,
   "metadata": {},
   "outputs": [
    {
     "data": {
      "text/markdown": [
       "### Confusion Matrices for Logistic Regression"
      ],
      "text/plain": [
       "<IPython.core.display.Markdown object>"
      ]
     },
     "metadata": {},
     "output_type": "display_data"
    },
    {
     "data": {
      "text/markdown": [
       "#### Confusion Matrix for the Probability Threshold for Max Accuracy: $p = 0.504093$"
      ],
      "text/plain": [
       "<IPython.core.display.Markdown object>"
      ]
     },
     "metadata": {},
     "output_type": "display_data"
    },
    {
     "data": {
      "text/html": [
       "<div>\n",
       "<style scoped>\n",
       "    .dataframe tbody tr th:only-of-type {\n",
       "        vertical-align: middle;\n",
       "    }\n",
       "\n",
       "    .dataframe tbody tr th {\n",
       "        vertical-align: top;\n",
       "    }\n",
       "\n",
       "    .dataframe thead th {\n",
       "        text-align: right;\n",
       "    }\n",
       "</style>\n",
       "<table border=\"1\" class=\"dataframe\">\n",
       "  <thead>\n",
       "    <tr style=\"text-align: right;\">\n",
       "      <th></th>\n",
       "      <th>Actual Positive</th>\n",
       "      <th>Actual Negative</th>\n",
       "      <th>Total</th>\n",
       "    </tr>\n",
       "  </thead>\n",
       "  <tbody>\n",
       "    <tr>\n",
       "      <th>Predicted Positive</th>\n",
       "      <td>360</td>\n",
       "      <td>73</td>\n",
       "      <td>433</td>\n",
       "    </tr>\n",
       "    <tr>\n",
       "      <th>Predicted Negative</th>\n",
       "      <td>90</td>\n",
       "      <td>377</td>\n",
       "      <td>467</td>\n",
       "    </tr>\n",
       "    <tr>\n",
       "      <th>Total</th>\n",
       "      <td>450</td>\n",
       "      <td>450</td>\n",
       "      <td>900</td>\n",
       "    </tr>\n",
       "  </tbody>\n",
       "</table>\n",
       "</div>"
      ],
      "text/plain": [
       "                    Actual Positive  Actual Negative  Total\n",
       "Predicted Positive              360               73    433\n",
       "Predicted Negative               90              377    467\n",
       "Total                           450              450    900"
      ]
     },
     "metadata": {},
     "output_type": "display_data"
    },
    {
     "name": "stdout",
     "output_type": "stream",
     "text": [
      "\n"
     ]
    },
    {
     "data": {
      "text/markdown": [
       "#### Confusion Matrix for the Probability Threshold for Max Precision: $p = 0.994995$"
      ],
      "text/plain": [
       "<IPython.core.display.Markdown object>"
      ]
     },
     "metadata": {},
     "output_type": "display_data"
    },
    {
     "data": {
      "text/html": [
       "<div>\n",
       "<style scoped>\n",
       "    .dataframe tbody tr th:only-of-type {\n",
       "        vertical-align: middle;\n",
       "    }\n",
       "\n",
       "    .dataframe tbody tr th {\n",
       "        vertical-align: top;\n",
       "    }\n",
       "\n",
       "    .dataframe thead th {\n",
       "        text-align: right;\n",
       "    }\n",
       "</style>\n",
       "<table border=\"1\" class=\"dataframe\">\n",
       "  <thead>\n",
       "    <tr style=\"text-align: right;\">\n",
       "      <th></th>\n",
       "      <th>Actual Positive</th>\n",
       "      <th>Actual Negative</th>\n",
       "      <th>Total</th>\n",
       "    </tr>\n",
       "  </thead>\n",
       "  <tbody>\n",
       "    <tr>\n",
       "      <th>Predicted Positive</th>\n",
       "      <td>1</td>\n",
       "      <td>0</td>\n",
       "      <td>1</td>\n",
       "    </tr>\n",
       "    <tr>\n",
       "      <th>Predicted Negative</th>\n",
       "      <td>449</td>\n",
       "      <td>450</td>\n",
       "      <td>899</td>\n",
       "    </tr>\n",
       "    <tr>\n",
       "      <th>Total</th>\n",
       "      <td>450</td>\n",
       "      <td>450</td>\n",
       "      <td>900</td>\n",
       "    </tr>\n",
       "  </tbody>\n",
       "</table>\n",
       "</div>"
      ],
      "text/plain": [
       "                    Actual Positive  Actual Negative  Total\n",
       "Predicted Positive                1                0      1\n",
       "Predicted Negative              449              450    899\n",
       "Total                           450              450    900"
      ]
     },
     "metadata": {},
     "output_type": "display_data"
    },
    {
     "name": "stdout",
     "output_type": "stream",
     "text": [
      "\n"
     ]
    },
    {
     "data": {
      "text/markdown": [
       "#### Confusion Matrix for the Probability Threshold for Max Recall: $p = 0.003172$"
      ],
      "text/plain": [
       "<IPython.core.display.Markdown object>"
      ]
     },
     "metadata": {},
     "output_type": "display_data"
    },
    {
     "data": {
      "text/html": [
       "<div>\n",
       "<style scoped>\n",
       "    .dataframe tbody tr th:only-of-type {\n",
       "        vertical-align: middle;\n",
       "    }\n",
       "\n",
       "    .dataframe tbody tr th {\n",
       "        vertical-align: top;\n",
       "    }\n",
       "\n",
       "    .dataframe thead th {\n",
       "        text-align: right;\n",
       "    }\n",
       "</style>\n",
       "<table border=\"1\" class=\"dataframe\">\n",
       "  <thead>\n",
       "    <tr style=\"text-align: right;\">\n",
       "      <th></th>\n",
       "      <th>Actual Positive</th>\n",
       "      <th>Actual Negative</th>\n",
       "      <th>Total</th>\n",
       "    </tr>\n",
       "  </thead>\n",
       "  <tbody>\n",
       "    <tr>\n",
       "      <th>Predicted Positive</th>\n",
       "      <td>450</td>\n",
       "      <td>449</td>\n",
       "      <td>899</td>\n",
       "    </tr>\n",
       "    <tr>\n",
       "      <th>Predicted Negative</th>\n",
       "      <td>0</td>\n",
       "      <td>1</td>\n",
       "      <td>1</td>\n",
       "    </tr>\n",
       "    <tr>\n",
       "      <th>Total</th>\n",
       "      <td>450</td>\n",
       "      <td>450</td>\n",
       "      <td>900</td>\n",
       "    </tr>\n",
       "  </tbody>\n",
       "</table>\n",
       "</div>"
      ],
      "text/plain": [
       "                    Actual Positive  Actual Negative  Total\n",
       "Predicted Positive              450              449    899\n",
       "Predicted Negative                0                1      1\n",
       "Total                           450              450    900"
      ]
     },
     "metadata": {},
     "output_type": "display_data"
    },
    {
     "data": {
      "text/markdown": [
       "#### Confusion Matrix for the Probability Threshold for Max F-Measure: $p = 0.504093$"
      ],
      "text/plain": [
       "<IPython.core.display.Markdown object>"
      ]
     },
     "metadata": {},
     "output_type": "display_data"
    },
    {
     "data": {
      "text/html": [
       "<div>\n",
       "<style scoped>\n",
       "    .dataframe tbody tr th:only-of-type {\n",
       "        vertical-align: middle;\n",
       "    }\n",
       "\n",
       "    .dataframe tbody tr th {\n",
       "        vertical-align: top;\n",
       "    }\n",
       "\n",
       "    .dataframe thead th {\n",
       "        text-align: right;\n",
       "    }\n",
       "</style>\n",
       "<table border=\"1\" class=\"dataframe\">\n",
       "  <thead>\n",
       "    <tr style=\"text-align: right;\">\n",
       "      <th></th>\n",
       "      <th>Actual Positive</th>\n",
       "      <th>Actual Negative</th>\n",
       "      <th>Total</th>\n",
       "    </tr>\n",
       "  </thead>\n",
       "  <tbody>\n",
       "    <tr>\n",
       "      <th>Predicted Positive</th>\n",
       "      <td>360</td>\n",
       "      <td>73</td>\n",
       "      <td>433</td>\n",
       "    </tr>\n",
       "    <tr>\n",
       "      <th>Predicted Negative</th>\n",
       "      <td>90</td>\n",
       "      <td>377</td>\n",
       "      <td>467</td>\n",
       "    </tr>\n",
       "    <tr>\n",
       "      <th>Total</th>\n",
       "      <td>450</td>\n",
       "      <td>450</td>\n",
       "      <td>900</td>\n",
       "    </tr>\n",
       "  </tbody>\n",
       "</table>\n",
       "</div>"
      ],
      "text/plain": [
       "                    Actual Positive  Actual Negative  Total\n",
       "Predicted Positive              360               73    433\n",
       "Predicted Negative               90              377    467\n",
       "Total                           450              450    900"
      ]
     },
     "metadata": {},
     "output_type": "display_data"
    }
   ],
   "source": [
    "# Create confusion matrix for max accuracy threshold\n",
    "acc_index = 50\n",
    "true_pos_lr = ROC_data_lr.loc[acc_index].at['TP_count']\n",
    "false_pos_lr = ROC_data_lr.loc[acc_index].at['FP_count']\n",
    "true_neg_lr = ROC_data_lr.loc[acc_index].at['TN_count']\n",
    "false_neg_lr = ROC_data_lr.loc[acc_index].at['FN_count']\n",
    "\n",
    "display(md(\"### Confusion Matrices for Logistic Regression\"))\n",
    "\n",
    "confusion_lr_acc = create_confusion_matrix(true_pos_lr, true_neg_lr, false_pos_lr, false_neg_lr)\n",
    "\n",
    "display(md(r\"#### Confusion Matrix for the Probability Threshold for Max Accuracy: $p = %f$\" %max_accuracy_lr))\n",
    "display(confusion_lr_acc)\n",
    "\n",
    "print()\n",
    "# Create confusion matrix for max precision threshold\n",
    "prec_index = 99\n",
    "true_pos_lr = ROC_data_lr.loc[prec_index].at['TP_count']\n",
    "false_pos_lr = ROC_data_lr.loc[prec_index].at['FP_count']\n",
    "true_neg_lr = ROC_data_lr.loc[prec_index].at['TN_count']\n",
    "false_neg_lr = ROC_data_lr.loc[prec_index].at['FN_count']\n",
    "\n",
    "confusion_lr_prec = create_confusion_matrix(true_pos_lr, true_neg_lr, false_pos_lr, false_neg_lr)\n",
    "\n",
    "display(md(r\"#### Confusion Matrix for the Probability Threshold for Max Precision: $p = %f$\" %max_precision_lr))\n",
    "display(confusion_lr_prec)\n",
    "print()\n",
    "# Create confusion matrix for max Recall threshold\n",
    "recall_index = 0\n",
    "true_pos_lr = ROC_data_lr.loc[recall_index].at['TP_count']\n",
    "false_pos_lr = ROC_data_lr.loc[recall_index].at['FP_count']\n",
    "true_neg_lr = ROC_data_lr.loc[recall_index].at['TN_count']\n",
    "false_neg_lr = ROC_data_lr.loc[recall_index].at['FN_count']\n",
    "\n",
    "confusion_lr_recall = create_confusion_matrix(true_pos_lr, true_neg_lr, false_pos_lr, false_neg_lr)\n",
    "\n",
    "display(md(r\"#### Confusion Matrix for the Probability Threshold for Max Recall: $p = %f$\" %max_recall_lr))\n",
    "display(confusion_lr_recall)\n",
    "\n",
    "# Create confusion matrix for max F-Measure threshold\n",
    "f_measure_index = 50\n",
    "true_pos_lr = ROC_data_lr.loc[f_measure_index].at['TP_count']\n",
    "false_pos_lr = ROC_data_lr.loc[f_measure_index].at['FP_count']\n",
    "true_neg_lr = ROC_data_lr.loc[f_measure_index].at['TN_count']\n",
    "false_neg_lr = ROC_data_lr.loc[f_measure_index].at['FN_count']\n",
    "\n",
    "\n",
    "confusion_lr_f_measure = create_confusion_matrix(true_pos_lr, true_neg_lr, false_pos_lr, false_neg_lr)\n",
    "\n",
    "display(md(r\"#### Confusion Matrix for the Probability Threshold for Max F-Measure: $p = %f$\" %max_f_measure_lr))\n",
    "display(confusion_lr_f_measure)\n"
   ]
  },
  {
   "cell_type": "markdown",
   "metadata": {},
   "source": [
    "#### Linear Discriminant Analysis"
   ]
  },
  {
   "cell_type": "code",
   "execution_count": 192,
   "metadata": {},
   "outputs": [
    {
     "data": {
      "text/markdown": [
       "### Confusion Matrices for Linear Discriminant Analysis"
      ],
      "text/plain": [
       "<IPython.core.display.Markdown object>"
      ]
     },
     "metadata": {},
     "output_type": "display_data"
    },
    {
     "data": {
      "text/markdown": [
       "#### Confusion Matrix for the Probability Threshold for Max Accuracy: $p = 0.505039$"
      ],
      "text/plain": [
       "<IPython.core.display.Markdown object>"
      ]
     },
     "metadata": {},
     "output_type": "display_data"
    },
    {
     "data": {
      "text/html": [
       "<div>\n",
       "<style scoped>\n",
       "    .dataframe tbody tr th:only-of-type {\n",
       "        vertical-align: middle;\n",
       "    }\n",
       "\n",
       "    .dataframe tbody tr th {\n",
       "        vertical-align: top;\n",
       "    }\n",
       "\n",
       "    .dataframe thead th {\n",
       "        text-align: right;\n",
       "    }\n",
       "</style>\n",
       "<table border=\"1\" class=\"dataframe\">\n",
       "  <thead>\n",
       "    <tr style=\"text-align: right;\">\n",
       "      <th></th>\n",
       "      <th>Actual Positive</th>\n",
       "      <th>Actual Negative</th>\n",
       "      <th>Total</th>\n",
       "    </tr>\n",
       "  </thead>\n",
       "  <tbody>\n",
       "    <tr>\n",
       "      <th>Predicted Positive</th>\n",
       "      <td>358</td>\n",
       "      <td>74</td>\n",
       "      <td>432</td>\n",
       "    </tr>\n",
       "    <tr>\n",
       "      <th>Predicted Negative</th>\n",
       "      <td>92</td>\n",
       "      <td>376</td>\n",
       "      <td>468</td>\n",
       "    </tr>\n",
       "    <tr>\n",
       "      <th>Total</th>\n",
       "      <td>450</td>\n",
       "      <td>450</td>\n",
       "      <td>900</td>\n",
       "    </tr>\n",
       "  </tbody>\n",
       "</table>\n",
       "</div>"
      ],
      "text/plain": [
       "                    Actual Positive  Actual Negative  Total\n",
       "Predicted Positive              358               74    432\n",
       "Predicted Negative               92              376    468\n",
       "Total                           450              450    900"
      ]
     },
     "metadata": {},
     "output_type": "display_data"
    },
    {
     "data": {
      "text/markdown": [
       "#### Confusion Matrix for the Probability Threshold for Max Precision: $p = 0.998998$"
      ],
      "text/plain": [
       "<IPython.core.display.Markdown object>"
      ]
     },
     "metadata": {},
     "output_type": "display_data"
    },
    {
     "data": {
      "text/html": [
       "<div>\n",
       "<style scoped>\n",
       "    .dataframe tbody tr th:only-of-type {\n",
       "        vertical-align: middle;\n",
       "    }\n",
       "\n",
       "    .dataframe tbody tr th {\n",
       "        vertical-align: top;\n",
       "    }\n",
       "\n",
       "    .dataframe thead th {\n",
       "        text-align: right;\n",
       "    }\n",
       "</style>\n",
       "<table border=\"1\" class=\"dataframe\">\n",
       "  <thead>\n",
       "    <tr style=\"text-align: right;\">\n",
       "      <th></th>\n",
       "      <th>Actual Positive</th>\n",
       "      <th>Actual Negative</th>\n",
       "      <th>Total</th>\n",
       "    </tr>\n",
       "  </thead>\n",
       "  <tbody>\n",
       "    <tr>\n",
       "      <th>Predicted Positive</th>\n",
       "      <td>42</td>\n",
       "      <td>0</td>\n",
       "      <td>42</td>\n",
       "    </tr>\n",
       "    <tr>\n",
       "      <th>Predicted Negative</th>\n",
       "      <td>408</td>\n",
       "      <td>450</td>\n",
       "      <td>858</td>\n",
       "    </tr>\n",
       "    <tr>\n",
       "      <th>Total</th>\n",
       "      <td>450</td>\n",
       "      <td>450</td>\n",
       "      <td>900</td>\n",
       "    </tr>\n",
       "  </tbody>\n",
       "</table>\n",
       "</div>"
      ],
      "text/plain": [
       "                    Actual Positive  Actual Negative  Total\n",
       "Predicted Positive               42                0     42\n",
       "Predicted Negative              408              450    858\n",
       "Total                           450              450    900"
      ]
     },
     "metadata": {},
     "output_type": "display_data"
    },
    {
     "data": {
      "text/markdown": [
       "#### Confusion Matrix for the Probability Threshold for Max Recall: $p = 0.001000$"
      ],
      "text/plain": [
       "<IPython.core.display.Markdown object>"
      ]
     },
     "metadata": {},
     "output_type": "display_data"
    },
    {
     "data": {
      "text/html": [
       "<div>\n",
       "<style scoped>\n",
       "    .dataframe tbody tr th:only-of-type {\n",
       "        vertical-align: middle;\n",
       "    }\n",
       "\n",
       "    .dataframe tbody tr th {\n",
       "        vertical-align: top;\n",
       "    }\n",
       "\n",
       "    .dataframe thead th {\n",
       "        text-align: right;\n",
       "    }\n",
       "</style>\n",
       "<table border=\"1\" class=\"dataframe\">\n",
       "  <thead>\n",
       "    <tr style=\"text-align: right;\">\n",
       "      <th></th>\n",
       "      <th>Actual Positive</th>\n",
       "      <th>Actual Negative</th>\n",
       "      <th>Total</th>\n",
       "    </tr>\n",
       "  </thead>\n",
       "  <tbody>\n",
       "    <tr>\n",
       "      <th>Predicted Positive</th>\n",
       "      <td>450</td>\n",
       "      <td>395</td>\n",
       "      <td>845</td>\n",
       "    </tr>\n",
       "    <tr>\n",
       "      <th>Predicted Negative</th>\n",
       "      <td>0</td>\n",
       "      <td>55</td>\n",
       "      <td>55</td>\n",
       "    </tr>\n",
       "    <tr>\n",
       "      <th>Total</th>\n",
       "      <td>450</td>\n",
       "      <td>450</td>\n",
       "      <td>900</td>\n",
       "    </tr>\n",
       "  </tbody>\n",
       "</table>\n",
       "</div>"
      ],
      "text/plain": [
       "                    Actual Positive  Actual Negative  Total\n",
       "Predicted Positive              450              395    845\n",
       "Predicted Negative                0               55     55\n",
       "Total                           450              450    900"
      ]
     },
     "metadata": {},
     "output_type": "display_data"
    },
    {
     "data": {
      "text/markdown": [
       "#### Confusion Matrix for the Probability Threshold for Max F-Measure: $p = 0.454635$"
      ],
      "text/plain": [
       "<IPython.core.display.Markdown object>"
      ]
     },
     "metadata": {},
     "output_type": "display_data"
    },
    {
     "data": {
      "text/html": [
       "<div>\n",
       "<style scoped>\n",
       "    .dataframe tbody tr th:only-of-type {\n",
       "        vertical-align: middle;\n",
       "    }\n",
       "\n",
       "    .dataframe tbody tr th {\n",
       "        vertical-align: top;\n",
       "    }\n",
       "\n",
       "    .dataframe thead th {\n",
       "        text-align: right;\n",
       "    }\n",
       "</style>\n",
       "<table border=\"1\" class=\"dataframe\">\n",
       "  <thead>\n",
       "    <tr style=\"text-align: right;\">\n",
       "      <th></th>\n",
       "      <th>Actual Positive</th>\n",
       "      <th>Actual Negative</th>\n",
       "      <th>Total</th>\n",
       "    </tr>\n",
       "  </thead>\n",
       "  <tbody>\n",
       "    <tr>\n",
       "      <th>Predicted Positive</th>\n",
       "      <td>372</td>\n",
       "      <td>94</td>\n",
       "      <td>466</td>\n",
       "    </tr>\n",
       "    <tr>\n",
       "      <th>Predicted Negative</th>\n",
       "      <td>78</td>\n",
       "      <td>356</td>\n",
       "      <td>434</td>\n",
       "    </tr>\n",
       "    <tr>\n",
       "      <th>Total</th>\n",
       "      <td>450</td>\n",
       "      <td>450</td>\n",
       "      <td>900</td>\n",
       "    </tr>\n",
       "  </tbody>\n",
       "</table>\n",
       "</div>"
      ],
      "text/plain": [
       "                    Actual Positive  Actual Negative  Total\n",
       "Predicted Positive              372               94    466\n",
       "Predicted Negative               78              356    434\n",
       "Total                           450              450    900"
      ]
     },
     "metadata": {},
     "output_type": "display_data"
    }
   ],
   "source": [
    "acc_index = 50\n",
    "prec_index = 99\n",
    "recall_index = 0\n",
    "f_measure_index = 45\n",
    "\n",
    "display(md(\"### Confusion Matrices for Linear Discriminant Analysis\"))\n",
    "\n",
    "# Create confusion matrix for max accuracy threshold\n",
    "true_pos_lda = ROC_data_lda.loc[acc_index].at['TP_count']\n",
    "false_pos_lda = ROC_data_lda.loc[acc_index].at['FP_count']\n",
    "true_neg_lda = ROC_data_lda.loc[acc_index].at['TN_count']\n",
    "false_neg_lda = ROC_data_lda.loc[acc_index].at['FN_count']\n",
    "\n",
    "confusion_lda_acc = create_confusion_matrix(true_pos_lda, true_neg_lda, false_pos_lda, false_neg_lda)\n",
    "\n",
    "display(md(r\"#### Confusion Matrix for the Probability Threshold for Max Accuracy: $p = %f$\" %max_accuracy_lda))\n",
    "display(confusion_lda_acc)\n",
    "\n",
    "# Create confusion matrix for max precision threshold\n",
    "true_pos_lda = ROC_data_lda.loc[prec_index].at['TP_count']\n",
    "false_pos_lda = ROC_data_lda.loc[prec_index].at['FP_count']\n",
    "true_neg_lda = ROC_data_lda.loc[prec_index].at['TN_count']\n",
    "false_neg_lda = ROC_data_lda.loc[prec_index].at['FN_count']\n",
    "\n",
    "confusion_lda_prec = create_confusion_matrix(true_pos_lda, true_neg_lda, false_pos_lda, false_neg_lda)\n",
    "\n",
    "display(md(r\"#### Confusion Matrix for the Probability Threshold for Max Precision: $p = %f$\" %max_precision_lda))\n",
    "display(confusion_lda_prec)\n",
    "\n",
    "# Create confusion matrix for max Recall threshold\n",
    "true_pos_lda = ROC_data_lda.loc[recall_index].at['TP_count']\n",
    "false_pos_lda = ROC_data_lda.loc[recall_index].at['FP_count']\n",
    "true_neg_lda = ROC_data_lda.loc[recall_index].at['TN_count']\n",
    "false_neg_lda = ROC_data_lda.loc[recall_index].at['FN_count']\n",
    "\n",
    "confusion_lda_recall = create_confusion_matrix(true_pos_lda, true_neg_lda, false_pos_lda, false_neg_lda)\n",
    "\n",
    "display(md(r\"#### Confusion Matrix for the Probability Threshold for Max Recall: $p = %f$\" %max_recall_lda))\n",
    "display(confusion_lda_recall)\n",
    "\n",
    "# Create confusion matrix for max Recall threshold\n",
    "true_pos_lda = ROC_data_lda.loc[f_measure_index].at['TP_count']\n",
    "false_pos_lda = ROC_data_lda.loc[f_measure_index].at['FP_count']\n",
    "true_neg_lda = ROC_data_lda.loc[f_measure_index].at['TN_count']\n",
    "false_neg_lda = ROC_data_lda.loc[f_measure_index].at['FN_count']\n",
    "\n",
    "confusion_lda_f_measure = create_confusion_matrix(true_pos_lda, true_neg_lda, false_pos_lda, false_neg_lda)\n",
    "\n",
    "display(md(r\"#### Confusion Matrix for the Probability Threshold for Max F-Measure: $p = %f$\" %max_f_measure_lda))\n",
    "display(confusion_lda_f_measure)"
   ]
  },
  {
   "cell_type": "markdown",
   "metadata": {},
   "source": [
    "#### Quadratic Discriminant Analysis"
   ]
  },
  {
   "cell_type": "code",
   "execution_count": 193,
   "metadata": {},
   "outputs": [
    {
     "data": {
      "text/markdown": [
       "### Confusion Matrices for Quadratic Discriminant Analysis"
      ],
      "text/plain": [
       "<IPython.core.display.Markdown object>"
      ]
     },
     "metadata": {},
     "output_type": "display_data"
    },
    {
     "data": {
      "text/markdown": [
       "#### Confusion Matrix for the Probability Threshold for Max Accuracy: $p = 0.565525$"
      ],
      "text/plain": [
       "<IPython.core.display.Markdown object>"
      ]
     },
     "metadata": {},
     "output_type": "display_data"
    },
    {
     "data": {
      "text/html": [
       "<div>\n",
       "<style scoped>\n",
       "    .dataframe tbody tr th:only-of-type {\n",
       "        vertical-align: middle;\n",
       "    }\n",
       "\n",
       "    .dataframe tbody tr th {\n",
       "        vertical-align: top;\n",
       "    }\n",
       "\n",
       "    .dataframe thead th {\n",
       "        text-align: right;\n",
       "    }\n",
       "</style>\n",
       "<table border=\"1\" class=\"dataframe\">\n",
       "  <thead>\n",
       "    <tr style=\"text-align: right;\">\n",
       "      <th></th>\n",
       "      <th>Actual Positive</th>\n",
       "      <th>Actual Negative</th>\n",
       "      <th>Total</th>\n",
       "    </tr>\n",
       "  </thead>\n",
       "  <tbody>\n",
       "    <tr>\n",
       "      <th>Predicted Positive</th>\n",
       "      <td>347</td>\n",
       "      <td>45</td>\n",
       "      <td>392</td>\n",
       "    </tr>\n",
       "    <tr>\n",
       "      <th>Predicted Negative</th>\n",
       "      <td>103</td>\n",
       "      <td>405</td>\n",
       "      <td>508</td>\n",
       "    </tr>\n",
       "    <tr>\n",
       "      <th>Total</th>\n",
       "      <td>450</td>\n",
       "      <td>450</td>\n",
       "      <td>900</td>\n",
       "    </tr>\n",
       "  </tbody>\n",
       "</table>\n",
       "</div>"
      ],
      "text/plain": [
       "                    Actual Positive  Actual Negative  Total\n",
       "Predicted Positive              347               45    392\n",
       "Predicted Negative              103              405    508\n",
       "Total                           450              450    900"
      ]
     },
     "metadata": {},
     "output_type": "display_data"
    },
    {
     "data": {
      "text/markdown": [
       "#### Confusion Matrix for the Probability Threshold for Max Precision: $p = 0.999000$"
      ],
      "text/plain": [
       "<IPython.core.display.Markdown object>"
      ]
     },
     "metadata": {},
     "output_type": "display_data"
    },
    {
     "data": {
      "text/html": [
       "<div>\n",
       "<style scoped>\n",
       "    .dataframe tbody tr th:only-of-type {\n",
       "        vertical-align: middle;\n",
       "    }\n",
       "\n",
       "    .dataframe tbody tr th {\n",
       "        vertical-align: top;\n",
       "    }\n",
       "\n",
       "    .dataframe thead th {\n",
       "        text-align: right;\n",
       "    }\n",
       "</style>\n",
       "<table border=\"1\" class=\"dataframe\">\n",
       "  <thead>\n",
       "    <tr style=\"text-align: right;\">\n",
       "      <th></th>\n",
       "      <th>Actual Positive</th>\n",
       "      <th>Actual Negative</th>\n",
       "      <th>Total</th>\n",
       "    </tr>\n",
       "  </thead>\n",
       "  <tbody>\n",
       "    <tr>\n",
       "      <th>Predicted Positive</th>\n",
       "      <td>73</td>\n",
       "      <td>0</td>\n",
       "      <td>73</td>\n",
       "    </tr>\n",
       "    <tr>\n",
       "      <th>Predicted Negative</th>\n",
       "      <td>377</td>\n",
       "      <td>450</td>\n",
       "      <td>827</td>\n",
       "    </tr>\n",
       "    <tr>\n",
       "      <th>Total</th>\n",
       "      <td>450</td>\n",
       "      <td>450</td>\n",
       "      <td>900</td>\n",
       "    </tr>\n",
       "  </tbody>\n",
       "</table>\n",
       "</div>"
      ],
      "text/plain": [
       "                    Actual Positive  Actual Negative  Total\n",
       "Predicted Positive               73                0     73\n",
       "Predicted Negative              377              450    827\n",
       "Total                           450              450    900"
      ]
     },
     "metadata": {},
     "output_type": "display_data"
    },
    {
     "data": {
      "text/markdown": [
       "#### Confusion Matrix for the Probability Threshold for Max Recall: $p = 0.001000$"
      ],
      "text/plain": [
       "<IPython.core.display.Markdown object>"
      ]
     },
     "metadata": {},
     "output_type": "display_data"
    },
    {
     "data": {
      "text/html": [
       "<div>\n",
       "<style scoped>\n",
       "    .dataframe tbody tr th:only-of-type {\n",
       "        vertical-align: middle;\n",
       "    }\n",
       "\n",
       "    .dataframe tbody tr th {\n",
       "        vertical-align: top;\n",
       "    }\n",
       "\n",
       "    .dataframe thead th {\n",
       "        text-align: right;\n",
       "    }\n",
       "</style>\n",
       "<table border=\"1\" class=\"dataframe\">\n",
       "  <thead>\n",
       "    <tr style=\"text-align: right;\">\n",
       "      <th></th>\n",
       "      <th>Actual Positive</th>\n",
       "      <th>Actual Negative</th>\n",
       "      <th>Total</th>\n",
       "    </tr>\n",
       "  </thead>\n",
       "  <tbody>\n",
       "    <tr>\n",
       "      <th>Predicted Positive</th>\n",
       "      <td>450</td>\n",
       "      <td>365</td>\n",
       "      <td>815</td>\n",
       "    </tr>\n",
       "    <tr>\n",
       "      <th>Predicted Negative</th>\n",
       "      <td>0</td>\n",
       "      <td>85</td>\n",
       "      <td>85</td>\n",
       "    </tr>\n",
       "    <tr>\n",
       "      <th>Total</th>\n",
       "      <td>450</td>\n",
       "      <td>450</td>\n",
       "      <td>900</td>\n",
       "    </tr>\n",
       "  </tbody>\n",
       "</table>\n",
       "</div>"
      ],
      "text/plain": [
       "                    Actual Positive  Actual Negative  Total\n",
       "Predicted Positive              450              365    815\n",
       "Predicted Negative                0               85     85\n",
       "Total                           450              450    900"
      ]
     },
     "metadata": {},
     "output_type": "display_data"
    },
    {
     "data": {
      "text/markdown": [
       "#### Confusion Matrix for the Probability Threshold for Max F-Measure: $p = 0.283263$"
      ],
      "text/plain": [
       "<IPython.core.display.Markdown object>"
      ]
     },
     "metadata": {},
     "output_type": "display_data"
    },
    {
     "data": {
      "text/html": [
       "<div>\n",
       "<style scoped>\n",
       "    .dataframe tbody tr th:only-of-type {\n",
       "        vertical-align: middle;\n",
       "    }\n",
       "\n",
       "    .dataframe tbody tr th {\n",
       "        vertical-align: top;\n",
       "    }\n",
       "\n",
       "    .dataframe thead th {\n",
       "        text-align: right;\n",
       "    }\n",
       "</style>\n",
       "<table border=\"1\" class=\"dataframe\">\n",
       "  <thead>\n",
       "    <tr style=\"text-align: right;\">\n",
       "      <th></th>\n",
       "      <th>Actual Positive</th>\n",
       "      <th>Actual Negative</th>\n",
       "      <th>Total</th>\n",
       "    </tr>\n",
       "  </thead>\n",
       "  <tbody>\n",
       "    <tr>\n",
       "      <th>Predicted Positive</th>\n",
       "      <td>421</td>\n",
       "      <td>138</td>\n",
       "      <td>559</td>\n",
       "    </tr>\n",
       "    <tr>\n",
       "      <th>Predicted Negative</th>\n",
       "      <td>29</td>\n",
       "      <td>312</td>\n",
       "      <td>341</td>\n",
       "    </tr>\n",
       "    <tr>\n",
       "      <th>Total</th>\n",
       "      <td>450</td>\n",
       "      <td>450</td>\n",
       "      <td>900</td>\n",
       "    </tr>\n",
       "  </tbody>\n",
       "</table>\n",
       "</div>"
      ],
      "text/plain": [
       "                    Actual Positive  Actual Negative  Total\n",
       "Predicted Positive              421              138    559\n",
       "Predicted Negative               29              312    341\n",
       "Total                           450              450    900"
      ]
     },
     "metadata": {},
     "output_type": "display_data"
    }
   ],
   "source": [
    "acc_index = 56\n",
    "prec_index = 99\n",
    "recall_index = 0\n",
    "f_measure_index = 28\n",
    "\n",
    "display(md(\"### Confusion Matrices for Quadratic Discriminant Analysis\"))\n",
    "\n",
    "# Create confusion matrix for max accuracy threshold\n",
    "true_pos_qda = ROC_data_qda.loc[acc_index].at['TP_count']\n",
    "false_pos_qda = ROC_data_qda.loc[acc_index].at['FP_count']\n",
    "true_neg_qda = ROC_data_qda.loc[acc_index].at['TN_count']\n",
    "false_neg_qda = ROC_data_qda.loc[acc_index].at['FN_count']\n",
    "\n",
    "confusion_qda_acc = create_confusion_matrix(true_pos_qda, true_neg_qda, false_pos_qda, false_neg_qda)\n",
    "\n",
    "display(md(r\"#### Confusion Matrix for the Probability Threshold for Max Accuracy: $p = %f$\" %max_accuracy_qda))\n",
    "display(confusion_qda_acc)\n",
    "\n",
    "# Create confusion matrix for max precision threshold\n",
    "true_pos_qda = ROC_data_qda.loc[prec_index].at['TP_count']\n",
    "false_pos_qda = ROC_data_qda.loc[prec_index].at['FP_count']\n",
    "true_neg_qda = ROC_data_qda.loc[prec_index].at['TN_count']\n",
    "false_neg_qda = ROC_data_qda.loc[prec_index].at['FN_count']\n",
    "\n",
    "confusion_qda_prec = create_confusion_matrix(true_pos_qda, true_neg_qda, false_pos_qda, false_neg_qda)\n",
    "\n",
    "display(md(r\"#### Confusion Matrix for the Probability Threshold for Max Precision: $p = %f$\" %max_precision_qda))\n",
    "display(confusion_qda_prec)\n",
    "\n",
    "# Create confusion matrix for max Recall threshold\n",
    "true_pos_qda = ROC_data_qda.loc[recall_index].at['TP_count']\n",
    "false_pos_qda = ROC_data_qda.loc[recall_index].at['FP_count']\n",
    "true_neg_qda = ROC_data_qda.loc[recall_index].at['TN_count']\n",
    "false_neg_qda = ROC_data_qda.loc[recall_index].at['FN_count']\n",
    "\n",
    "confusion_qda_recall = create_confusion_matrix(true_pos_qda, true_neg_qda, false_pos_qda, false_neg_qda)\n",
    "\n",
    "display(md(r\"#### Confusion Matrix for the Probability Threshold for Max Recall: $p = %f$\" %max_recall_qda))\n",
    "display(confusion_qda_recall)\n",
    "\n",
    "# Create confusion matrix for max F-measure threshold\n",
    "true_pos_qda = ROC_data_qda.loc[f_measure_index].at['TP_count']\n",
    "false_pos_qda = ROC_data_qda.loc[f_measure_index].at['FP_count']\n",
    "true_neg_qda = ROC_data_qda.loc[f_measure_index].at['TN_count']\n",
    "false_neg_qda = ROC_data_qda.loc[f_measure_index].at['FN_count']\n",
    "\n",
    "confusion_qda_f_measure = create_confusion_matrix(true_pos_qda, true_neg_qda, false_pos_qda, false_neg_qda)\n",
    "\n",
    "display(md(r\"#### Confusion Matrix for the Probability Threshold for Max F-Measure: $p = %f$\" %max_f_measure_qda))\n",
    "display(confusion_qda_f_measure)\n"
   ]
  },
  {
   "cell_type": "markdown",
   "metadata": {},
   "source": [
    "# Step 12\n",
    "\n",
    "#### Create annotation points\n",
    "Note: Indices used for annotation points are the ones determined in step 11."
   ]
  },
  {
   "cell_type": "code",
   "execution_count": 194,
   "metadata": {},
   "outputs": [],
   "source": [
    "# Create annotation points for each curve\n",
    "\n",
    "#Annotation points for LR\n",
    "acc_index_lr = 50\n",
    "prec_index_lr = 99\n",
    "recall_index_lr = 0\n",
    "f_measure_index_lr = 50\n",
    "acc_x_lr = ROC_data_lr.loc[acc_index_lr].at['FP_rate']\n",
    "acc_y_lr = ROC_data_lr.loc[acc_index_lr].at['TP_rate']\n",
    "prec_x_lr = ROC_data_lr.loc[prec_index_lr].at['FP_rate']\n",
    "prec_y_lr = ROC_data_lr.loc[prec_index_lr].at['TP_rate']\n",
    "rec_x_lr = ROC_data_lr.loc[recall_index_lr].at['FP_rate']\n",
    "rec_y_lr = ROC_data_lr.loc[recall_index_lr].at['TP_rate']\n",
    "fm_x_lr = ROC_data_lr.loc[f_measure_index_lr].at['FP_rate']\n",
    "fm_y_lr = ROC_data_lr.loc[f_measure_index_lr].at['TP_rate']\n",
    "\n",
    "#Annotation points for LDA\n",
    "acc_index_lda = 50\n",
    "prec_index_lda = 99\n",
    "recall_index_lda = 0\n",
    "f_measure_index_lda = 45\n",
    "acc_x_lda = ROC_data_lda.loc[acc_index_lda].at['FP_rate']\n",
    "acc_y_lda = ROC_data_lda.loc[acc_index_lda].at['TP_rate']\n",
    "prec_x_lda = ROC_data_lda.loc[prec_index_lda].at['FP_rate']\n",
    "prec_y_lda = ROC_data_lda.loc[prec_index_lda].at['TP_rate']\n",
    "rec_x_lda = ROC_data_lda.loc[recall_index_lda].at['FP_rate']\n",
    "rec_y_lda = ROC_data_lda.loc[recall_index_lda].at['TP_rate']\n",
    "fm_x_lda = ROC_data_lda.loc[f_measure_index_lda].at['FP_rate']\n",
    "fm_y_lda = ROC_data_lda.loc[f_measure_index_lda].at['TP_rate']\n",
    "\n",
    "#Annotation points for QDA\n",
    "acc_index_qda = 56\n",
    "prec_index_qda = 99\n",
    "recall_index_qda = 0\n",
    "f_measure_index_qda = 28\n",
    "acc_x_qda = ROC_data_qda.loc[acc_index_qda].at['FP_rate']\n",
    "acc_y_qda = ROC_data_qda.loc[acc_index_qda].at['TP_rate']\n",
    "prec_x_qda = ROC_data_qda.loc[prec_index_qda].at['FP_rate']\n",
    "prec_y_qda = ROC_data_qda.loc[prec_index_qda].at['TP_rate']\n",
    "rec_x_qda = ROC_data_qda.loc[recall_index_qda].at['FP_rate']\n",
    "rec_y_qda = ROC_data_qda.loc[recall_index_qda].at['TP_rate']\n",
    "fm_x_qda = ROC_data_qda.loc[f_measure_index_qda].at['FP_rate']\n",
    "fm_y_qda = ROC_data_qda.loc[f_measure_index_qda].at['TP_rate']"
   ]
  },
  {
   "cell_type": "markdown",
   "metadata": {},
   "source": [
    "#### Annotate graph of ROC curves"
   ]
  },
  {
   "cell_type": "code",
   "execution_count": 195,
   "metadata": {},
   "outputs": [
    {
     "data": {
      "image/png": "[encoded data removed]",
      "text/plain": [
       "<Figure size 720x504 with 1 Axes>"
      ]
     },
     "metadata": {
      "needs_background": "light"
     },
     "output_type": "display_data"
    }
   ],
   "source": [
    "fig3 = plt.figure(figsize=(10,7))\n",
    "ax2=plt.subplot()\n",
    "ax_lr = ROC_data_lr.plot(x='FP_rate', y='TP_rate', color='blue', ax=ax2, title='ROC Curve', \n",
    "                       label='Logistic Regression (LR)')\n",
    "# Plot and annotate LR Curve\n",
    "ax_lr.annotate('Maximum LR Accuracy', xy=(acc_x_lr, acc_y_lr), xytext=(acc_x_lr, 0.5), arrowprops=dict(arrowstyle=\"->\",\n",
    "                            connectionstyle=\"arc3\", ec=\"blue\"), color='b')\n",
    "ax_lr.annotate('Maximum LR Precision', xy=(prec_x_lr, prec_y_lr), xytext=(prec_x_lr+0.15, 0.1), arrowprops=dict(arrowstyle=\"->\",\n",
    "                            connectionstyle=\"arc3\", ec=\"blue\"), color='b')\n",
    "ax_lr.annotate('Maximum LR Recall', xy=(rec_x_lr, rec_y_lr), xytext=(rec_x_lr-0.1, 0.8), arrowprops=dict(arrowstyle=\"->\",\n",
    "                            connectionstyle=\"arc3\", ec=\"blue\"), color='b')\n",
    "ax_lr.annotate('Maximum LR F-Measure', xy=(fm_x_lr, fm_y_lr), xytext=(fm_x_lr+0.15, 0.6), arrowprops=dict(arrowstyle=\"->\",\n",
    "                            connectionstyle=\"arc3\", ec=\"blue\"), color='b')\n",
    "# Plot and annotate LDA curve\n",
    "ax_lda = ROC_data_lda.plot(x='FP_rate', y='TP_rate', color='red', ax=ax2, \n",
    "                           label='Linear Discriminant Analysis (LDA)')\n",
    "ax_lda.annotate('Maximum LDA Accuracy', xy=(acc_x_lda, acc_y_lda), xytext=(acc_x_lda-0.15, 0.4), arrowprops=dict(arrowstyle=\"->\",\n",
    "                            connectionstyle=\"arc3\", ec=\"red\"), color='r')\n",
    "ax_lda.annotate('Maximum LDA Precision', xy=(prec_x_lda, prec_y_lda), xytext=(prec_x_lda+.05, 0.2), arrowprops=dict(arrowstyle=\"->\",\n",
    "                            connectionstyle=\"arc3\", ec=\"red\"), color='r')\n",
    "ax_lda.annotate('Maximum LDA Recall', xy=(rec_x_lda, rec_y_lda), xytext=(rec_x_lda-0.15, 0.7), arrowprops=dict(arrowstyle=\"->\",\n",
    "                            connectionstyle=\"arc3\", ec=\"red\"), color='r')\n",
    "ax_lda.annotate('Maximum LDA F-Measure', xy=(fm_x_lda, fm_y_lda), xytext=(fm_x_lda+0.15, 0.7), arrowprops=dict(arrowstyle=\"->\",\n",
    "                            connectionstyle=\"arc3\", ec=\"red\"), color='r')\n",
    "\n",
    "# Plot and annotate QDA curve\n",
    "ax_qda = ROC_data_qda.plot(x='FP_rate', y='TP_rate', color='green', ax=ax2, \n",
    "                           label='Quadratic Discriminant Analysis (QDA)')\n",
    "ax_qda.annotate('Maximum QDA Accuracy', xy=(acc_x_qda, acc_y_qda), xytext=(acc_x_qda, 0.3), arrowprops=dict(arrowstyle=\"->\",\n",
    "                            connectionstyle=\"arc3\", ec=\"green\"), color='g')\n",
    "ax_qda.annotate('Maximum QDA Precision', xy=(prec_x_qda, prec_y_qda), xytext=(prec_x_qda+.05, 0.25), arrowprops=dict(arrowstyle=\"->\",\n",
    "                            connectionstyle=\"arc3\", ec=\"green\"), color='g')\n",
    "ax_qda.annotate('Maximum QDA Recall', xy=(rec_x_qda, rec_y_qda), xytext=(rec_x_qda-0.15, 0.6), arrowprops=dict(arrowstyle=\"->\",\n",
    "                            connectionstyle=\"arc3\", ec=\"green\"), color='g')\n",
    "ax_qda.annotate('Maximum QDA F-Measure', xy=(fm_x_qda, fm_y_qda), xytext=(fm_x_qda+0.15, 0.8), arrowprops=dict(arrowstyle=\"->\",\n",
    "                            connectionstyle=\"arc3\", ec=\"green\"), color='g')\n",
    "\n",
    "# Add random chance ROC \"curve\"\n",
    "no_info = np.linspace(0,1,100) # Plot dashed y=x line\n",
    "ax_rand = plt.plot(no_info, no_info, color='black', linestyle='dashed', label='No Info')\n",
    "#Set labels and show\n",
    "ax2.set_xlabel('False Positive Rate')\n",
    "ax2.set_ylabel('True Positive Rate')\n",
    "plt.show()\n"
   ]
  },
  {
   "cell_type": "markdown",
   "metadata": {},
   "source": [
    "### Annotation point comments\n",
    "\n",
    "#### Accuracy\n",
    "In general, we see the accuracy points located in the upper left portion of the ROC curve. This is the point in the curve where we see more of a minimized false positive rate and a relatively high true positive rate. \n",
    "\n",
    "\n",
    "#### Precision\n",
    "The points for precision are all located in the bottom left of the curve where the false positive rate is basically 0. This is due to the metric for precision minimizing the false positive rate, and naturally, it is minimized at 0. \n",
    "\n",
    "\n",
    "#### Recall (True Positive Rate)\n",
    "Conversely to precision, we see that the points for recall are all located in the upper right portion of the curve, where the true positive rate is 1. This is because the metric for recall is to maximize the value of recall which occurs at 1. \n",
    "\n",
    "#### F-Measure\n",
    "Similar to accuracy, we see that the points for F-measure are all located in the upper left corner of the ROC curve. However, they tend to have a higher false positive rate but also have a higher true positive rate. This happens because F-measure attempts to maximize true positive while simultaneously minimizing false positive rate. This essentially balances the precision and recall metrics into a happy medium.\n",
    "\n",
    "#### Dotted line \n",
    "The dotted line represents the no information classifier. This is the ROC curve that we would expect if neither of the features impacted the classification."
   ]
  },
  {
   "cell_type": "markdown",
   "metadata": {},
   "source": [
    "# Step 13: Recommendations\n",
    "\n",
    "## A: Recommended Models for Each Dataset\n",
    "\n",
    "To determine what model is best for each dataset, We run the specified test dataset through the model that was trained on the training half of the specified dataset. For example, we run test dataset 1 through the models trained with training dataset 1.\n",
    "\n",
    "The metric chosen for determination is the percentage of correctly classified points based on the results of the score function on the specified test dataset. The model that has the highest percentage of correctly classified points will be the recommended model. This metric is chosen since the goal is to correctly classify future datapoints into the provided classes. Thus, the highest percentage of correct classifications on unseen data makes sense as the scoring metric.\n",
    "\n",
    "### Dataset 1\n"
   ]
  },
  {
   "cell_type": "code",
   "execution_count": 196,
   "metadata": {},
   "outputs": [
    {
     "data": {
      "text/markdown": [
       "Percentage of correctly classified points from Logistic Regression model: 75.67"
      ],
      "text/plain": [
       "<IPython.core.display.Markdown object>"
      ]
     },
     "metadata": {},
     "output_type": "display_data"
    },
    {
     "data": {
      "text/markdown": [
       "Percentage of correctly classified points from Linear Discriminant Analysis model: 75.00"
      ],
      "text/plain": [
       "<IPython.core.display.Markdown object>"
      ]
     },
     "metadata": {},
     "output_type": "display_data"
    },
    {
     "data": {
      "text/markdown": [
       "Percentage of correctly classified points from Quadratic Discriminant Analysis model: 75.00"
      ],
      "text/plain": [
       "<IPython.core.display.Markdown object>"
      ]
     },
     "metadata": {},
     "output_type": "display_data"
    }
   ],
   "source": [
    "# Score each model on dataset 1\n",
    "lr1_score = log_reg1.score(X1_test, y1_test)\n",
    "lda1_score = lda1.score(X1_test, y1_test)\n",
    "qda1_score = qda1.score(X1_test, y1_test)\n",
    "\n",
    "display(md(\"Percentage of correctly classified points from Logistic Regression model: %.2f\" %(lr1_score*100)))\n",
    "display(md(\"Percentage of correctly classified points from Linear Discriminant Analysis model: %.2f\" %(lda1_score*100)))\n",
    "display(md(\"Percentage of correctly classified points from Quadratic Discriminant Analysis model: %.2f\" %(qda1_score*100)))\n"
   ]
  },
  {
   "cell_type": "markdown",
   "metadata": {},
   "source": [
    "#### Recommendation for Dataset 1\n",
    "I would recommend the Logistic Regression model for dataset 1. It has the highest percentage of correct classifications on the test dataset. "
   ]
  },
  {
   "cell_type": "markdown",
   "metadata": {},
   "source": [
    "### Dataset 2"
   ]
  },
  {
   "cell_type": "code",
   "execution_count": 197,
   "metadata": {},
   "outputs": [
    {
     "data": {
      "text/markdown": [
       "Percentage of correctly classified points from Logistic Regression model: 93.00"
      ],
      "text/plain": [
       "<IPython.core.display.Markdown object>"
      ]
     },
     "metadata": {},
     "output_type": "display_data"
    },
    {
     "data": {
      "text/markdown": [
       "Percentage of correctly classified points from Linear Discriminant Analysis model: 75.33"
      ],
      "text/plain": [
       "<IPython.core.display.Markdown object>"
      ]
     },
     "metadata": {},
     "output_type": "display_data"
    },
    {
     "data": {
      "text/markdown": [
       "Percentage of correctly classified points from Quadratic Discriminant Analysis model: 75.00"
      ],
      "text/plain": [
       "<IPython.core.display.Markdown object>"
      ]
     },
     "metadata": {},
     "output_type": "display_data"
    }
   ],
   "source": [
    "lr2_score = log_reg2.score(X2_test, y2_test)\n",
    "lda2_score = lda1.score(X2_test, y2_test)\n",
    "qda2_score = qda1.score(X2_test, y2_test)\n",
    "\n",
    "display(md(\"Percentage of correctly classified points from Logistic Regression model: %.2f\" %(lr2_score*100)))\n",
    "display(md(\"Percentage of correctly classified points from Linear Discriminant Analysis model: %.2f\" %(lda2_score*100)))\n",
    "display(md(\"Percentage of correctly classified points from Quadratic Discriminant Analysis model: %.2f\" %(qda2_score*100)))\n"
   ]
  },
  {
   "cell_type": "markdown",
   "metadata": {},
   "source": [
    "#### Recommendation for Dataset 2\n",
    "I would highly recommend the Logistic Regression model for dataset 2. It scored way above the other 2 models with 93% correct classification."
   ]
  },
  {
   "cell_type": "markdown",
   "metadata": {},
   "source": [
    "### Dataset 3"
   ]
  },
  {
   "cell_type": "code",
   "execution_count": 198,
   "metadata": {},
   "outputs": [
    {
     "data": {
      "text/markdown": [
       "Percentage of correctly classified points from Logistic Regression model: 76.00"
      ],
      "text/plain": [
       "<IPython.core.display.Markdown object>"
      ]
     },
     "metadata": {},
     "output_type": "display_data"
    },
    {
     "data": {
      "text/markdown": [
       "Percentage of correctly classified points from Linear Discriminant Analysis model: 77.33"
      ],
      "text/plain": [
       "<IPython.core.display.Markdown object>"
      ]
     },
     "metadata": {},
     "output_type": "display_data"
    },
    {
     "data": {
      "text/markdown": [
       "Percentage of correctly classified points from Quadratic Discriminant Analysis model: 81.33"
      ],
      "text/plain": [
       "<IPython.core.display.Markdown object>"
      ]
     },
     "metadata": {},
     "output_type": "display_data"
    }
   ],
   "source": [
    "lr3_score = log_reg3.score(X3_test, y3_test)\n",
    "lda3_score = lda3.score(X3_test, y3_test)\n",
    "qda3_score = qda3.score(X3_test, y3_test)\n",
    "\n",
    "display(md(\"Percentage of correctly classified points from Logistic Regression model: %.2f\" %(lr3_score*100)))\n",
    "display(md(\"Percentage of correctly classified points from Linear Discriminant Analysis model: %.2f\" %(lda3_score*100)))\n",
    "display(md(\"Percentage of correctly classified points from Quadratic Discriminant Analysis model: %.2f\" %(qda3_score*100)))\n"
   ]
  },
  {
   "cell_type": "markdown",
   "metadata": {},
   "source": [
    "#### Recommendation for Dataset 3\n",
    "I would recommend the Quadratic Discriminant Analysis model for dataset 3. It had a higher correct classification percentage than the other 2 models at 81.33%."
   ]
  },
  {
   "cell_type": "markdown",
   "metadata": {},
   "source": [
    "## B: Recommended Probability Threshold\n",
    "\n",
    "Since the goal of the customer is to balance the risk of false positives and false negatives, we have to look for the probability threshold that contains the smallest difference between the false positive count and the false negative count.\n",
    "\n",
    "The function described below locates the probability threshold for which the difference between false positive count and false negative count is minized in the provided dataframe."
   ]
  },
  {
   "cell_type": "code",
   "execution_count": 199,
   "metadata": {},
   "outputs": [],
   "source": [
    "def balanced_df(ROC_data):\n",
    "    min_diff = 450\n",
    "    min_thresh = []\n",
    "    min_index = 100\n",
    "    num_rows = ROC_data.shape[0]\n",
    "    for x in range(0,num_rows-1):\n",
    "        diff = np.abs(ROC_data.loc[x].at['FP_count'] - ROC_data.loc[x].at['FN_count'])\n",
    "        if diff < min_diff:\n",
    "            min_diff = diff\n",
    "            min_thresh = ROC_data.loc[x]\n",
    "            \n",
    "     # End For\n",
    "    return min_thresh"
   ]
  },
  {
   "cell_type": "code",
   "execution_count": 200,
   "metadata": {},
   "outputs": [
    {
     "data": {
      "text/markdown": [
       "#### Probability threshold for balanced risk of false positives and false negatives"
      ],
      "text/plain": [
       "<IPython.core.display.Markdown object>"
      ]
     },
     "metadata": {},
     "output_type": "display_data"
    },
    {
     "name": "stdout",
     "output_type": "stream",
     "text": [
      "Logistic Regression: 0.48406\n",
      "Linear Discrminant Analysis: 0.47480\n",
      "Quadratic Discrminant Analysis: 0.48488\n"
     ]
    },
    {
     "data": {
      "text/markdown": [
       "#### Accuracy for each model at the given thresholds"
      ],
      "text/plain": [
       "<IPython.core.display.Markdown object>"
      ]
     },
     "metadata": {},
     "output_type": "display_data"
    },
    {
     "name": "stdout",
     "output_type": "stream",
     "text": [
      "LR - Threshold: 0.48406, Accuracy: 0.80889\n",
      "LDA - Threshold: 0.47480, Accuracy: 0.81000\n",
      "QDA - Threshold: 0.48488, Accuracy: 0.82667\n"
     ]
    }
   ],
   "source": [
    "balanced_fp_fn_lr = balanced_df(ROC_data_lr)\n",
    "display(md(\"#### Probability threshold for balanced risk of false positives and false negatives\"))\n",
    "print(\"Logistic Regression: %.5f\" %balanced_fp_fn_lr[0])\n",
    "\n",
    "balanced_fp_fn_lda = balanced_df(ROC_data_lda)\n",
    "print(\"Linear Discrminant Analysis: %.5f\" %balanced_fp_fn_lda[0])\n",
    "\n",
    "balanced_fp_fn_qda = balanced_df(ROC_data_qda)\n",
    "print(\"Quadratic Discrminant Analysis: %.5f\" %balanced_fp_fn_qda[0])\n",
    "\n",
    "# Display accuracy rates at the given thresholds\n",
    "display(md(\"#### Accuracy for each model at the given thresholds\"))\n",
    "print(\"LR - Threshold: %.5f, Accuracy: %.5f\" %(balanced_fp_fn_lr[0], balanced_fp_fn_lr[7]))\n",
    "print(\"LDA - Threshold: %.5f, Accuracy: %.5f\" %(balanced_fp_fn_lda[0], balanced_fp_fn_lda[7]))\n",
    "print(\"QDA - Threshold: %.5f, Accuracy: %.5f\" %(balanced_fp_fn_qda[0], balanced_fp_fn_qda[7]))\n"
   ]
  },
  {
   "cell_type": "markdown",
   "metadata": {},
   "source": [
    "### Probability Threshold Recommendation\n",
    "\n",
    "Based on the above information, to balance the risk of false positives and false negatives. I would use the following probability thresholds: \n",
    "\n",
    " * Logistic Regression - 0.48406\n",
    " * Linear Discrminant Analysis - 0.47480\n",
    " * Quadratic Discrminant Analysis - 0.48488"
   ]
  },
  {
   "cell_type": "code",
   "execution_count": null,
   "metadata": {},
   "outputs": [],
   "source": []
  }
 ],
 "metadata": {
  "kernelspec": {
   "display_name": "Python 3",
   "language": "python",
   "name": "python3"
  },
  "language_info": {
   "codemirror_mode": {
    "name": "ipython",
    "version": 3
   },
   "file_extension": ".py",
   "mimetype": "text/x-python",
   "name": "python",
   "nbconvert_exporter": "python",
   "pygments_lexer": "ipython3",
   "version": "3.7.1"
  }
 },
 "nbformat": 4,
 "nbformat_minor": 2
}
