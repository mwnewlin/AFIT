{
 "cells": [
  {
   "cell_type": "markdown",
   "metadata": {},
   "source": [
    "# CSCE 623 Homework Assignment 2\n",
    "## Student Name: Marvin Newlin\n",
    "## Date: 23 Apr 19\n",
    "\n"
   ]
  },
  {
   "cell_type": "code",
   "execution_count": 26,
   "metadata": {},
   "outputs": [],
   "source": [
    "\"\"\"\n",
    "HW2\n",
    "\"\"\"\n",
    "\n",
    "import numpy as np\n",
    "import matplotlib.pyplot as plt\n",
    "\n",
    "#make plots inline using jupyter magic\n",
    "%matplotlib inline\n",
    "\n",
    "import pandas as pd\n",
    "from pandas.plotting import scatter_matrix\n",
    "from sklearn import datasets, linear_model, metrics\n",
    "\n",
    "# Imports from Chapter 4 Lab\n",
    "import matplotlib as mpl\n",
    "import seaborn as sns\n",
    "\n",
    "import sklearn.linear_model as skl_lm\n",
    "from sklearn.discriminant_analysis import LinearDiscriminantAnalysis\n",
    "from sklearn.discriminant_analysis import QuadraticDiscriminantAnalysis\n",
    "from sklearn.metrics import confusion_matrix, classification_report, precision_score\n",
    "from sklearn import preprocessing\n",
    "from sklearn import neighbors\n",
    "\n",
    "import statsmodels.api as sm\n",
    "import statsmodels.formula.api as smf\n",
    "\n",
    "from IPython.display import Markdown as md  #enable markdown within code cell\n",
    "from IPython.display import display, Math, Latex"
   ]
  },
  {
   "cell_type": "markdown",
   "metadata": {},
   "source": [
    "# Step 1\n",
    "\n",
    "##### Read in CSV files to dataframes"
   ]
  },
  {
   "cell_type": "code",
   "execution_count": 27,
   "metadata": {},
   "outputs": [],
   "source": [
    "# Read CSV files into dataframes\n",
    "data1_csv = 'dataset1.csv'\n",
    "data2_csv = 'dataset2.csv'\n",
    "data3_csv = 'dataset3.csv'\n",
    "\n",
    "#Header line in CSV files don't give us any useful info so I\n",
    "# skip the header row and add column names that are more useful\n",
    "data1 = pd.read_csv(data1_csv, skiprows=1, names=['index','cat1', 'cat2', 'class'])\n",
    "data2 = pd.read_csv(data2_csv, skiprows=1, names=['index','cat1', 'cat2', 'class'])\n",
    "data3 = pd.read_csv(data3_csv, skiprows=1, names=['index','cat1', 'cat2', 'class'])\n"
   ]
  },
  {
   "cell_type": "markdown",
   "metadata": {},
   "source": [
    "# Step 2\n",
    "\n",
    "#### Display datasets and statistics"
   ]
  },
  {
   "cell_type": "code",
   "execution_count": 28,
   "metadata": {},
   "outputs": [
    {
     "data": {
      "text/markdown": [
       "First 5 entries of dataset 1"
      ],
      "text/plain": [
       "<IPython.core.display.Markdown object>"
      ]
     },
     "metadata": {},
     "output_type": "display_data"
    },
    {
     "data": {
      "text/html": [
       "<div>\n",
       "<style scoped>\n",
       "    .dataframe tbody tr th:only-of-type {\n",
       "        vertical-align: middle;\n",
       "    }\n",
       "\n",
       "    .dataframe tbody tr th {\n",
       "        vertical-align: top;\n",
       "    }\n",
       "\n",
       "    .dataframe thead th {\n",
       "        text-align: right;\n",
       "    }\n",
       "</style>\n",
       "<table border=\"1\" class=\"dataframe\">\n",
       "  <thead>\n",
       "    <tr style=\"text-align: right;\">\n",
       "      <th></th>\n",
       "      <th>index</th>\n",
       "      <th>cat1</th>\n",
       "      <th>cat2</th>\n",
       "      <th>class</th>\n",
       "    </tr>\n",
       "  </thead>\n",
       "  <tbody>\n",
       "    <tr>\n",
       "      <th>0</th>\n",
       "      <td>0</td>\n",
       "      <td>0.548814</td>\n",
       "      <td>0.715189</td>\n",
       "      <td>0.0</td>\n",
       "    </tr>\n",
       "    <tr>\n",
       "      <th>1</th>\n",
       "      <td>1</td>\n",
       "      <td>0.602763</td>\n",
       "      <td>0.544883</td>\n",
       "      <td>0.0</td>\n",
       "    </tr>\n",
       "    <tr>\n",
       "      <th>2</th>\n",
       "      <td>2</td>\n",
       "      <td>0.423655</td>\n",
       "      <td>0.645894</td>\n",
       "      <td>0.0</td>\n",
       "    </tr>\n",
       "    <tr>\n",
       "      <th>3</th>\n",
       "      <td>3</td>\n",
       "      <td>0.437587</td>\n",
       "      <td>0.891773</td>\n",
       "      <td>0.0</td>\n",
       "    </tr>\n",
       "    <tr>\n",
       "      <th>4</th>\n",
       "      <td>4</td>\n",
       "      <td>0.963663</td>\n",
       "      <td>0.383442</td>\n",
       "      <td>0.0</td>\n",
       "    </tr>\n",
       "  </tbody>\n",
       "</table>\n",
       "</div>"
      ],
      "text/plain": [
       "   index      cat1      cat2  class\n",
       "0      0  0.548814  0.715189    0.0\n",
       "1      1  0.602763  0.544883    0.0\n",
       "2      2  0.423655  0.645894    0.0\n",
       "3      3  0.437587  0.891773    0.0\n",
       "4      4  0.963663  0.383442    0.0"
      ]
     },
     "metadata": {},
     "output_type": "display_data"
    },
    {
     "data": {
      "text/markdown": [
       "Dataset 1 statistics"
      ],
      "text/plain": [
       "<IPython.core.display.Markdown object>"
      ]
     },
     "metadata": {},
     "output_type": "display_data"
    },
    {
     "data": {
      "text/html": [
       "<div>\n",
       "<style scoped>\n",
       "    .dataframe tbody tr th:only-of-type {\n",
       "        vertical-align: middle;\n",
       "    }\n",
       "\n",
       "    .dataframe tbody tr th {\n",
       "        vertical-align: top;\n",
       "    }\n",
       "\n",
       "    .dataframe thead th {\n",
       "        text-align: right;\n",
       "    }\n",
       "</style>\n",
       "<table border=\"1\" class=\"dataframe\">\n",
       "  <thead>\n",
       "    <tr style=\"text-align: right;\">\n",
       "      <th></th>\n",
       "      <th>index</th>\n",
       "      <th>cat1</th>\n",
       "      <th>cat2</th>\n",
       "      <th>class</th>\n",
       "    </tr>\n",
       "  </thead>\n",
       "  <tbody>\n",
       "    <tr>\n",
       "      <th>count</th>\n",
       "      <td>600.000000</td>\n",
       "      <td>600.000000</td>\n",
       "      <td>600.000000</td>\n",
       "      <td>600.000000</td>\n",
       "    </tr>\n",
       "    <tr>\n",
       "      <th>mean</th>\n",
       "      <td>299.500000</td>\n",
       "      <td>0.747401</td>\n",
       "      <td>0.494678</td>\n",
       "      <td>0.500000</td>\n",
       "    </tr>\n",
       "    <tr>\n",
       "      <th>std</th>\n",
       "      <td>173.349358</td>\n",
       "      <td>0.380747</td>\n",
       "      <td>0.296411</td>\n",
       "      <td>0.500417</td>\n",
       "    </tr>\n",
       "    <tr>\n",
       "      <th>min</th>\n",
       "      <td>0.000000</td>\n",
       "      <td>0.002703</td>\n",
       "      <td>0.000546</td>\n",
       "      <td>0.000000</td>\n",
       "    </tr>\n",
       "    <tr>\n",
       "      <th>25%</th>\n",
       "      <td>149.750000</td>\n",
       "      <td>0.510941</td>\n",
       "      <td>0.244774</td>\n",
       "      <td>0.000000</td>\n",
       "    </tr>\n",
       "    <tr>\n",
       "      <th>50%</th>\n",
       "      <td>299.500000</td>\n",
       "      <td>0.730347</td>\n",
       "      <td>0.466113</td>\n",
       "      <td>0.500000</td>\n",
       "    </tr>\n",
       "    <tr>\n",
       "      <th>75%</th>\n",
       "      <td>449.250000</td>\n",
       "      <td>0.984056</td>\n",
       "      <td>0.754525</td>\n",
       "      <td>1.000000</td>\n",
       "    </tr>\n",
       "    <tr>\n",
       "      <th>max</th>\n",
       "      <td>599.000000</td>\n",
       "      <td>1.499809</td>\n",
       "      <td>0.999278</td>\n",
       "      <td>1.000000</td>\n",
       "    </tr>\n",
       "  </tbody>\n",
       "</table>\n",
       "</div>"
      ],
      "text/plain": [
       "            index        cat1        cat2       class\n",
       "count  600.000000  600.000000  600.000000  600.000000\n",
       "mean   299.500000    0.747401    0.494678    0.500000\n",
       "std    173.349358    0.380747    0.296411    0.500417\n",
       "min      0.000000    0.002703    0.000546    0.000000\n",
       "25%    149.750000    0.510941    0.244774    0.000000\n",
       "50%    299.500000    0.730347    0.466113    0.500000\n",
       "75%    449.250000    0.984056    0.754525    1.000000\n",
       "max    599.000000    1.499809    0.999278    1.000000"
      ]
     },
     "metadata": {},
     "output_type": "display_data"
    },
    {
     "data": {
      "text/markdown": [
       "First 5 entries of dataset 2"
      ],
      "text/plain": [
       "<IPython.core.display.Markdown object>"
      ]
     },
     "metadata": {},
     "output_type": "display_data"
    },
    {
     "data": {
      "text/html": [
       "<div>\n",
       "<style scoped>\n",
       "    .dataframe tbody tr th:only-of-type {\n",
       "        vertical-align: middle;\n",
       "    }\n",
       "\n",
       "    .dataframe tbody tr th {\n",
       "        vertical-align: top;\n",
       "    }\n",
       "\n",
       "    .dataframe thead th {\n",
       "        text-align: right;\n",
       "    }\n",
       "</style>\n",
       "<table border=\"1\" class=\"dataframe\">\n",
       "  <thead>\n",
       "    <tr style=\"text-align: right;\">\n",
       "      <th></th>\n",
       "      <th>index</th>\n",
       "      <th>cat1</th>\n",
       "      <th>cat2</th>\n",
       "      <th>class</th>\n",
       "    </tr>\n",
       "  </thead>\n",
       "  <tbody>\n",
       "    <tr>\n",
       "      <th>0</th>\n",
       "      <td>0</td>\n",
       "      <td>0.332130</td>\n",
       "      <td>-0.313696</td>\n",
       "      <td>0.0</td>\n",
       "    </tr>\n",
       "    <tr>\n",
       "      <th>1</th>\n",
       "      <td>1</td>\n",
       "      <td>1.859941</td>\n",
       "      <td>0.290296</td>\n",
       "      <td>0.0</td>\n",
       "    </tr>\n",
       "    <tr>\n",
       "      <th>2</th>\n",
       "      <td>2</td>\n",
       "      <td>-0.811141</td>\n",
       "      <td>-0.654312</td>\n",
       "      <td>0.0</td>\n",
       "    </tr>\n",
       "    <tr>\n",
       "      <th>3</th>\n",
       "      <td>3</td>\n",
       "      <td>-0.125626</td>\n",
       "      <td>-0.253332</td>\n",
       "      <td>0.0</td>\n",
       "    </tr>\n",
       "    <tr>\n",
       "      <th>4</th>\n",
       "      <td>4</td>\n",
       "      <td>0.340797</td>\n",
       "      <td>0.118178</td>\n",
       "      <td>0.0</td>\n",
       "    </tr>\n",
       "  </tbody>\n",
       "</table>\n",
       "</div>"
      ],
      "text/plain": [
       "   index      cat1      cat2  class\n",
       "0      0  0.332130 -0.313696    0.0\n",
       "1      1  1.859941  0.290296    0.0\n",
       "2      2 -0.811141 -0.654312    0.0\n",
       "3      3 -0.125626 -0.253332    0.0\n",
       "4      4  0.340797  0.118178    0.0"
      ]
     },
     "metadata": {},
     "output_type": "display_data"
    },
    {
     "data": {
      "text/markdown": [
       "Dataset 2 statistics"
      ],
      "text/plain": [
       "<IPython.core.display.Markdown object>"
      ]
     },
     "metadata": {},
     "output_type": "display_data"
    },
    {
     "data": {
      "text/html": [
       "<div>\n",
       "<style scoped>\n",
       "    .dataframe tbody tr th:only-of-type {\n",
       "        vertical-align: middle;\n",
       "    }\n",
       "\n",
       "    .dataframe tbody tr th {\n",
       "        vertical-align: top;\n",
       "    }\n",
       "\n",
       "    .dataframe thead th {\n",
       "        text-align: right;\n",
       "    }\n",
       "</style>\n",
       "<table border=\"1\" class=\"dataframe\">\n",
       "  <thead>\n",
       "    <tr style=\"text-align: right;\">\n",
       "      <th></th>\n",
       "      <th>index</th>\n",
       "      <th>cat1</th>\n",
       "      <th>cat2</th>\n",
       "      <th>class</th>\n",
       "    </tr>\n",
       "  </thead>\n",
       "  <tbody>\n",
       "    <tr>\n",
       "      <th>count</th>\n",
       "      <td>600.000000</td>\n",
       "      <td>600.000000</td>\n",
       "      <td>600.000000</td>\n",
       "      <td>600.000000</td>\n",
       "    </tr>\n",
       "    <tr>\n",
       "      <th>mean</th>\n",
       "      <td>299.500000</td>\n",
       "      <td>0.473725</td>\n",
       "      <td>0.495420</td>\n",
       "      <td>0.500000</td>\n",
       "    </tr>\n",
       "    <tr>\n",
       "      <th>std</th>\n",
       "      <td>173.349358</td>\n",
       "      <td>0.951497</td>\n",
       "      <td>0.576779</td>\n",
       "      <td>0.500417</td>\n",
       "    </tr>\n",
       "    <tr>\n",
       "      <th>min</th>\n",
       "      <td>0.000000</td>\n",
       "      <td>-2.528299</td>\n",
       "      <td>-0.856548</td>\n",
       "      <td>0.000000</td>\n",
       "    </tr>\n",
       "    <tr>\n",
       "      <th>25%</th>\n",
       "      <td>149.750000</td>\n",
       "      <td>-0.152288</td>\n",
       "      <td>0.018048</td>\n",
       "      <td>0.000000</td>\n",
       "    </tr>\n",
       "    <tr>\n",
       "      <th>50%</th>\n",
       "      <td>299.500000</td>\n",
       "      <td>0.460075</td>\n",
       "      <td>0.515972</td>\n",
       "      <td>0.500000</td>\n",
       "    </tr>\n",
       "    <tr>\n",
       "      <th>75%</th>\n",
       "      <td>449.250000</td>\n",
       "      <td>1.121963</td>\n",
       "      <td>0.973737</td>\n",
       "      <td>1.000000</td>\n",
       "    </tr>\n",
       "    <tr>\n",
       "      <th>max</th>\n",
       "      <td>599.000000</td>\n",
       "      <td>3.290265</td>\n",
       "      <td>1.786571</td>\n",
       "      <td>1.000000</td>\n",
       "    </tr>\n",
       "  </tbody>\n",
       "</table>\n",
       "</div>"
      ],
      "text/plain": [
       "            index        cat1        cat2       class\n",
       "count  600.000000  600.000000  600.000000  600.000000\n",
       "mean   299.500000    0.473725    0.495420    0.500000\n",
       "std    173.349358    0.951497    0.576779    0.500417\n",
       "min      0.000000   -2.528299   -0.856548    0.000000\n",
       "25%    149.750000   -0.152288    0.018048    0.000000\n",
       "50%    299.500000    0.460075    0.515972    0.500000\n",
       "75%    449.250000    1.121963    0.973737    1.000000\n",
       "max    599.000000    3.290265    1.786571    1.000000"
      ]
     },
     "metadata": {},
     "output_type": "display_data"
    },
    {
     "data": {
      "text/markdown": [
       "First 5 entries of dataset 3"
      ],
      "text/plain": [
       "<IPython.core.display.Markdown object>"
      ]
     },
     "metadata": {},
     "output_type": "display_data"
    },
    {
     "data": {
      "text/html": [
       "<div>\n",
       "<style scoped>\n",
       "    .dataframe tbody tr th:only-of-type {\n",
       "        vertical-align: middle;\n",
       "    }\n",
       "\n",
       "    .dataframe tbody tr th {\n",
       "        vertical-align: top;\n",
       "    }\n",
       "\n",
       "    .dataframe thead th {\n",
       "        text-align: right;\n",
       "    }\n",
       "</style>\n",
       "<table border=\"1\" class=\"dataframe\">\n",
       "  <thead>\n",
       "    <tr style=\"text-align: right;\">\n",
       "      <th></th>\n",
       "      <th>index</th>\n",
       "      <th>cat1</th>\n",
       "      <th>cat2</th>\n",
       "      <th>class</th>\n",
       "    </tr>\n",
       "  </thead>\n",
       "  <tbody>\n",
       "    <tr>\n",
       "      <th>0</th>\n",
       "      <td>0</td>\n",
       "      <td>2.000786</td>\n",
       "      <td>-2.967885</td>\n",
       "      <td>0.0</td>\n",
       "    </tr>\n",
       "    <tr>\n",
       "      <th>1</th>\n",
       "      <td>1</td>\n",
       "      <td>11.204466</td>\n",
       "      <td>1.179775</td>\n",
       "      <td>0.0</td>\n",
       "    </tr>\n",
       "    <tr>\n",
       "      <th>2</th>\n",
       "      <td>2</td>\n",
       "      <td>-4.886389</td>\n",
       "      <td>-5.103305</td>\n",
       "      <td>0.0</td>\n",
       "    </tr>\n",
       "    <tr>\n",
       "      <th>3</th>\n",
       "      <td>3</td>\n",
       "      <td>-0.756786</td>\n",
       "      <td>-2.112077</td>\n",
       "      <td>0.0</td>\n",
       "    </tr>\n",
       "    <tr>\n",
       "      <th>4</th>\n",
       "      <td>4</td>\n",
       "      <td>2.052993</td>\n",
       "      <td>0.781276</td>\n",
       "      <td>0.0</td>\n",
       "    </tr>\n",
       "  </tbody>\n",
       "</table>\n",
       "</div>"
      ],
      "text/plain": [
       "   index       cat1      cat2  class\n",
       "0      0   2.000786 -2.967885    0.0\n",
       "1      1  11.204466  1.179775    0.0\n",
       "2      2  -4.886389 -5.103305    0.0\n",
       "3      3  -0.756786 -2.112077    0.0\n",
       "4      4   2.052993  0.781276    0.0"
      ]
     },
     "metadata": {},
     "output_type": "display_data"
    },
    {
     "data": {
      "text/markdown": [
       "Dataset 3 statistics"
      ],
      "text/plain": [
       "<IPython.core.display.Markdown object>"
      ]
     },
     "metadata": {},
     "output_type": "display_data"
    },
    {
     "data": {
      "text/html": [
       "<div>\n",
       "<style scoped>\n",
       "    .dataframe tbody tr th:only-of-type {\n",
       "        vertical-align: middle;\n",
       "    }\n",
       "\n",
       "    .dataframe tbody tr th {\n",
       "        vertical-align: top;\n",
       "    }\n",
       "\n",
       "    .dataframe thead th {\n",
       "        text-align: right;\n",
       "    }\n",
       "</style>\n",
       "<table border=\"1\" class=\"dataframe\">\n",
       "  <thead>\n",
       "    <tr style=\"text-align: right;\">\n",
       "      <th></th>\n",
       "      <th>index</th>\n",
       "      <th>cat1</th>\n",
       "      <th>cat2</th>\n",
       "      <th>class</th>\n",
       "    </tr>\n",
       "  </thead>\n",
       "  <tbody>\n",
       "    <tr>\n",
       "      <th>count</th>\n",
       "      <td>600.000000</td>\n",
       "      <td>600.000000</td>\n",
       "      <td>600.000000</td>\n",
       "      <td>600.000000</td>\n",
       "    </tr>\n",
       "    <tr>\n",
       "      <th>mean</th>\n",
       "      <td>299.500000</td>\n",
       "      <td>0.477786</td>\n",
       "      <td>2.196081</td>\n",
       "      <td>0.500000</td>\n",
       "    </tr>\n",
       "    <tr>\n",
       "      <th>std</th>\n",
       "      <td>173.349358</td>\n",
       "      <td>3.822859</td>\n",
       "      <td>4.382142</td>\n",
       "      <td>0.500417</td>\n",
       "    </tr>\n",
       "    <tr>\n",
       "      <th>min</th>\n",
       "      <td>0.000000</td>\n",
       "      <td>-15.230715</td>\n",
       "      <td>-10.529514</td>\n",
       "      <td>0.000000</td>\n",
       "    </tr>\n",
       "    <tr>\n",
       "      <th>25%</th>\n",
       "      <td>149.750000</td>\n",
       "      <td>-1.234267</td>\n",
       "      <td>-0.722251</td>\n",
       "      <td>0.000000</td>\n",
       "    </tr>\n",
       "    <tr>\n",
       "      <th>50%</th>\n",
       "      <td>299.500000</td>\n",
       "      <td>0.802649</td>\n",
       "      <td>1.376222</td>\n",
       "      <td>0.500000</td>\n",
       "    </tr>\n",
       "    <tr>\n",
       "      <th>75%</th>\n",
       "      <td>449.250000</td>\n",
       "      <td>2.632443</td>\n",
       "      <td>4.799941</td>\n",
       "      <td>1.000000</td>\n",
       "    </tr>\n",
       "    <tr>\n",
       "      <th>max</th>\n",
       "      <td>599.000000</td>\n",
       "      <td>12.062268</td>\n",
       "      <td>20.120173</td>\n",
       "      <td>1.000000</td>\n",
       "    </tr>\n",
       "  </tbody>\n",
       "</table>\n",
       "</div>"
      ],
      "text/plain": [
       "            index        cat1        cat2       class\n",
       "count  600.000000  600.000000  600.000000  600.000000\n",
       "mean   299.500000    0.477786    2.196081    0.500000\n",
       "std    173.349358    3.822859    4.382142    0.500417\n",
       "min      0.000000  -15.230715  -10.529514    0.000000\n",
       "25%    149.750000   -1.234267   -0.722251    0.000000\n",
       "50%    299.500000    0.802649    1.376222    0.500000\n",
       "75%    449.250000    2.632443    4.799941    1.000000\n",
       "max    599.000000   12.062268   20.120173    1.000000"
      ]
     },
     "metadata": {},
     "output_type": "display_data"
    }
   ],
   "source": [
    "display(md(\"First 5 entries of dataset 1\"))\n",
    "display(data1.head())\n",
    "display(md(\"Dataset 1 statistics\"))\n",
    "display(data1.describe())\n",
    "display(md(\"First 5 entries of dataset 2\"))\n",
    "display(data2.head())\n",
    "display(md(\"Dataset 2 statistics\"))\n",
    "display(data2.describe())\n",
    "display(md(\"First 5 entries of dataset 3\"))\n",
    "display(data3.head())\n",
    "display(md(\"Dataset 3 statistics\"))\n",
    "display(data3.describe())"
   ]
  },
  {
   "cell_type": "code",
   "execution_count": 29,
   "metadata": {},
   "outputs": [
    {
     "data": {
      "text/plain": [
       "Text(0.5, 1.0, 'Scatterplot of Dataset 3')"
      ]
     },
     "execution_count": 29,
     "metadata": {},
     "output_type": "execute_result"
    },
    {
     "data": {
      "image/png": "[encoded data removed]",
      "text/plain": [
       "<Figure size 1296x360 with 3 Axes>"
      ]
     },
     "metadata": {
      "needs_background": "light"
     },
     "output_type": "display_data"
    }
   ],
   "source": [
    "# Code for plotting scatter plot of data. Code modified from ISLR Chapter 4 lab code on github\n",
    "fig1 = plt.figure(figsize=(18,5))\n",
    "gs = mpl.gridspec.GridSpec(1, 3)\n",
    "ax1 = plt.subplot(gs[0,0])\n",
    "ax1.scatter(data1[data1['class']==0].cat1, data1[data1['class']==0].cat2, c='orange', marker='+', linewidths=1 )\n",
    "ax1.scatter(data1[data1['class']==1].cat1, data1[data1['class']==1].cat2, c='blue', marker='o', linewidths=1,\n",
    "           edgecolors='lightblue', facecolors='white', alpha=.6)\n",
    "ax1.set_ylabel('Category 2')\n",
    "ax1.set_xlabel('Category 1')\n",
    "ax1.set_title('Scatterplot of Dataset 1')\n",
    "#Plot dataset 2\n",
    "ax2 = plt.subplot(gs[0,1])\n",
    "ax2.scatter(data2[data2['class']==0].cat1, data2[data2['class']==0].cat2, c='orange', marker='+', linewidths=1 )\n",
    "ax2.scatter(data2[data2['class']==1].cat1, data2[data2['class']==1].cat2, c='blue', marker='o', linewidths=1,\n",
    "           edgecolors='lightblue', facecolors='white', alpha=.6)\n",
    "ax2.set_ylabel('Category 2')\n",
    "ax2.set_xlabel('Category 1')\n",
    "ax2.set_title('Scatterplot of Dataset 2')\n",
    "#Plot dataset 3\n",
    "ax3 = plt.subplot(gs[0,2])\n",
    "ax3.scatter(data3[data3['class']==0].cat1, data3[data3['class']==0].cat2, c='orange', marker='+', linewidths=1 )\n",
    "ax3.scatter(data3[data3['class']==1].cat1, data3[data3['class']==1].cat2, c='blue', marker='o', linewidths=1,\n",
    "           edgecolors='lightblue', facecolors='white', alpha=.6)\n",
    "ax3.set_ylabel('Category 2')\n",
    "ax3.set_xlabel('Category 1')\n",
    "ax3.set_title('Scatterplot of Dataset 3')"
   ]
  },
  {
   "cell_type": "markdown",
   "metadata": {},
   "source": [
    "# Step 3\n",
    "\n",
    "#### Discussion of Datasets"
   ]
  },
  {
   "cell_type": "markdown",
   "metadata": {},
   "source": [
    "# Step 4\n",
    "\n",
    "#### Split datasets into test and training"
   ]
  },
  {
   "cell_type": "code",
   "execution_count": 37,
   "metadata": {},
   "outputs": [],
   "source": [
    "#The code for this function is based on the in class logistic1d function code\n",
    "\"\"\"\n",
    "This function splits the provided dataframe into test and training sets based on the provided\n",
    "split fraction (a float between 0 and 1)\n",
    "\"\"\"\n",
    "def split_test_train(df, fraction):\n",
    "    length = len(df['index'])\n",
    "    df_train0 = df[df['index'] < (length/4)] # first half of 0 class (first 1/4th of the dataset) \n",
    "    df_train1 = df[(df['index'] >= (length/2)) & (df['index'] < (3*length/4))] # first half of 1 class (3rd quarter)\n",
    "    df_test0 = df[(df['index'] >= (length/4)) & (df['index'] < (length/2))] # second half of 0 class (2nd quarter)\n",
    "    df_test1 = df[df['index'] >= (3*length/4)] # second half of 1 class (last quarter)\n",
    "    train_frames = [df_train0, df_train1]\n",
    "    df_train = pd.concat(train_frames)\n",
    "    test_frames = [df_test0, df_test1]\n",
    "    df_test = pd.concat(test_frames)\n",
    "    return (df_test, df_train)\n"
   ]
  },
  {
   "cell_type": "markdown",
   "metadata": {},
   "source": [
    "### Dataset 1"
   ]
  },
  {
   "cell_type": "code",
   "execution_count": 39,
   "metadata": {},
   "outputs": [
    {
     "data": {
      "text/html": [
       "<div>\n",
       "<style scoped>\n",
       "    .dataframe tbody tr th:only-of-type {\n",
       "        vertical-align: middle;\n",
       "    }\n",
       "\n",
       "    .dataframe tbody tr th {\n",
       "        vertical-align: top;\n",
       "    }\n",
       "\n",
       "    .dataframe thead th {\n",
       "        text-align: right;\n",
       "    }\n",
       "</style>\n",
       "<table border=\"1\" class=\"dataframe\">\n",
       "  <thead>\n",
       "    <tr style=\"text-align: right;\">\n",
       "      <th></th>\n",
       "      <th>index</th>\n",
       "      <th>cat1</th>\n",
       "      <th>cat2</th>\n",
       "      <th>class</th>\n",
       "    </tr>\n",
       "  </thead>\n",
       "  <tbody>\n",
       "    <tr>\n",
       "      <th>count</th>\n",
       "      <td>300.000000</td>\n",
       "      <td>300.000000</td>\n",
       "      <td>300.000000</td>\n",
       "      <td>300.000000</td>\n",
       "    </tr>\n",
       "    <tr>\n",
       "      <th>mean</th>\n",
       "      <td>374.500000</td>\n",
       "      <td>0.736856</td>\n",
       "      <td>0.501839</td>\n",
       "      <td>0.500000</td>\n",
       "    </tr>\n",
       "    <tr>\n",
       "      <th>std</th>\n",
       "      <td>156.385543</td>\n",
       "      <td>0.383782</td>\n",
       "      <td>0.303126</td>\n",
       "      <td>0.500835</td>\n",
       "    </tr>\n",
       "    <tr>\n",
       "      <th>min</th>\n",
       "      <td>150.000000</td>\n",
       "      <td>0.002703</td>\n",
       "      <td>0.010064</td>\n",
       "      <td>0.000000</td>\n",
       "    </tr>\n",
       "    <tr>\n",
       "      <th>25%</th>\n",
       "      <td>224.750000</td>\n",
       "      <td>0.501715</td>\n",
       "      <td>0.255383</td>\n",
       "      <td>0.000000</td>\n",
       "    </tr>\n",
       "    <tr>\n",
       "      <th>50%</th>\n",
       "      <td>374.500000</td>\n",
       "      <td>0.725004</td>\n",
       "      <td>0.457067</td>\n",
       "      <td>0.500000</td>\n",
       "    </tr>\n",
       "    <tr>\n",
       "      <th>75%</th>\n",
       "      <td>524.250000</td>\n",
       "      <td>0.984056</td>\n",
       "      <td>0.784684</td>\n",
       "      <td>1.000000</td>\n",
       "    </tr>\n",
       "    <tr>\n",
       "      <th>max</th>\n",
       "      <td>599.000000</td>\n",
       "      <td>1.499809</td>\n",
       "      <td>0.997994</td>\n",
       "      <td>1.000000</td>\n",
       "    </tr>\n",
       "  </tbody>\n",
       "</table>\n",
       "</div>"
      ],
      "text/plain": [
       "            index        cat1        cat2       class\n",
       "count  300.000000  300.000000  300.000000  300.000000\n",
       "mean   374.500000    0.736856    0.501839    0.500000\n",
       "std    156.385543    0.383782    0.303126    0.500835\n",
       "min    150.000000    0.002703    0.010064    0.000000\n",
       "25%    224.750000    0.501715    0.255383    0.000000\n",
       "50%    374.500000    0.725004    0.457067    0.500000\n",
       "75%    524.250000    0.984056    0.784684    1.000000\n",
       "max    599.000000    1.499809    0.997994    1.000000"
      ]
     },
     "metadata": {},
     "output_type": "display_data"
    },
    {
     "data": {
      "text/html": [
       "<div>\n",
       "<style scoped>\n",
       "    .dataframe tbody tr th:only-of-type {\n",
       "        vertical-align: middle;\n",
       "    }\n",
       "\n",
       "    .dataframe tbody tr th {\n",
       "        vertical-align: top;\n",
       "    }\n",
       "\n",
       "    .dataframe thead th {\n",
       "        text-align: right;\n",
       "    }\n",
       "</style>\n",
       "<table border=\"1\" class=\"dataframe\">\n",
       "  <thead>\n",
       "    <tr style=\"text-align: right;\">\n",
       "      <th></th>\n",
       "      <th>index</th>\n",
       "      <th>cat1</th>\n",
       "      <th>cat2</th>\n",
       "      <th>class</th>\n",
       "    </tr>\n",
       "  </thead>\n",
       "  <tbody>\n",
       "    <tr>\n",
       "      <th>150</th>\n",
       "      <td>150</td>\n",
       "      <td>0.906555</td>\n",
       "      <td>0.774047</td>\n",
       "      <td>0.0</td>\n",
       "    </tr>\n",
       "    <tr>\n",
       "      <th>151</th>\n",
       "      <td>151</td>\n",
       "      <td>0.333145</td>\n",
       "      <td>0.081101</td>\n",
       "      <td>0.0</td>\n",
       "    </tr>\n",
       "    <tr>\n",
       "      <th>152</th>\n",
       "      <td>152</td>\n",
       "      <td>0.407241</td>\n",
       "      <td>0.232234</td>\n",
       "      <td>0.0</td>\n",
       "    </tr>\n",
       "    <tr>\n",
       "      <th>153</th>\n",
       "      <td>153</td>\n",
       "      <td>0.132488</td>\n",
       "      <td>0.053427</td>\n",
       "      <td>0.0</td>\n",
       "    </tr>\n",
       "    <tr>\n",
       "      <th>154</th>\n",
       "      <td>154</td>\n",
       "      <td>0.725594</td>\n",
       "      <td>0.011427</td>\n",
       "      <td>0.0</td>\n",
       "    </tr>\n",
       "  </tbody>\n",
       "</table>\n",
       "</div>"
      ],
      "text/plain": [
       "     index      cat1      cat2  class\n",
       "150    150  0.906555  0.774047    0.0\n",
       "151    151  0.333145  0.081101    0.0\n",
       "152    152  0.407241  0.232234    0.0\n",
       "153    153  0.132488  0.053427    0.0\n",
       "154    154  0.725594  0.011427    0.0"
      ]
     },
     "metadata": {},
     "output_type": "display_data"
    },
    {
     "data": {
      "text/html": [
       "<div>\n",
       "<style scoped>\n",
       "    .dataframe tbody tr th:only-of-type {\n",
       "        vertical-align: middle;\n",
       "    }\n",
       "\n",
       "    .dataframe tbody tr th {\n",
       "        vertical-align: top;\n",
       "    }\n",
       "\n",
       "    .dataframe thead th {\n",
       "        text-align: right;\n",
       "    }\n",
       "</style>\n",
       "<table border=\"1\" class=\"dataframe\">\n",
       "  <thead>\n",
       "    <tr style=\"text-align: right;\">\n",
       "      <th></th>\n",
       "      <th>index</th>\n",
       "      <th>cat1</th>\n",
       "      <th>cat2</th>\n",
       "      <th>class</th>\n",
       "    </tr>\n",
       "  </thead>\n",
       "  <tbody>\n",
       "    <tr>\n",
       "      <th>count</th>\n",
       "      <td>300.000000</td>\n",
       "      <td>300.000000</td>\n",
       "      <td>300.000000</td>\n",
       "      <td>300.000000</td>\n",
       "    </tr>\n",
       "    <tr>\n",
       "      <th>mean</th>\n",
       "      <td>224.500000</td>\n",
       "      <td>0.757946</td>\n",
       "      <td>0.487518</td>\n",
       "      <td>0.500000</td>\n",
       "    </tr>\n",
       "    <tr>\n",
       "      <th>std</th>\n",
       "      <td>156.385543</td>\n",
       "      <td>0.378033</td>\n",
       "      <td>0.289869</td>\n",
       "      <td>0.500835</td>\n",
       "    </tr>\n",
       "    <tr>\n",
       "      <th>min</th>\n",
       "      <td>0.000000</td>\n",
       "      <td>0.011714</td>\n",
       "      <td>0.000546</td>\n",
       "      <td>0.000000</td>\n",
       "    </tr>\n",
       "    <tr>\n",
       "      <th>25%</th>\n",
       "      <td>74.750000</td>\n",
       "      <td>0.522898</td>\n",
       "      <td>0.238283</td>\n",
       "      <td>0.000000</td>\n",
       "    </tr>\n",
       "    <tr>\n",
       "      <th>50%</th>\n",
       "      <td>224.500000</td>\n",
       "      <td>0.740554</td>\n",
       "      <td>0.478877</td>\n",
       "      <td>0.500000</td>\n",
       "    </tr>\n",
       "    <tr>\n",
       "      <th>75%</th>\n",
       "      <td>374.250000</td>\n",
       "      <td>0.983291</td>\n",
       "      <td>0.731078</td>\n",
       "      <td>1.000000</td>\n",
       "    </tr>\n",
       "    <tr>\n",
       "      <th>max</th>\n",
       "      <td>449.000000</td>\n",
       "      <td>1.491890</td>\n",
       "      <td>0.999278</td>\n",
       "      <td>1.000000</td>\n",
       "    </tr>\n",
       "  </tbody>\n",
       "</table>\n",
       "</div>"
      ],
      "text/plain": [
       "            index        cat1        cat2       class\n",
       "count  300.000000  300.000000  300.000000  300.000000\n",
       "mean   224.500000    0.757946    0.487518    0.500000\n",
       "std    156.385543    0.378033    0.289869    0.500835\n",
       "min      0.000000    0.011714    0.000546    0.000000\n",
       "25%     74.750000    0.522898    0.238283    0.000000\n",
       "50%    224.500000    0.740554    0.478877    0.500000\n",
       "75%    374.250000    0.983291    0.731078    1.000000\n",
       "max    449.000000    1.491890    0.999278    1.000000"
      ]
     },
     "metadata": {},
     "output_type": "display_data"
    },
    {
     "data": {
      "text/html": [
       "<div>\n",
       "<style scoped>\n",
       "    .dataframe tbody tr th:only-of-type {\n",
       "        vertical-align: middle;\n",
       "    }\n",
       "\n",
       "    .dataframe tbody tr th {\n",
       "        vertical-align: top;\n",
       "    }\n",
       "\n",
       "    .dataframe thead th {\n",
       "        text-align: right;\n",
       "    }\n",
       "</style>\n",
       "<table border=\"1\" class=\"dataframe\">\n",
       "  <thead>\n",
       "    <tr style=\"text-align: right;\">\n",
       "      <th></th>\n",
       "      <th>index</th>\n",
       "      <th>cat1</th>\n",
       "      <th>cat2</th>\n",
       "      <th>class</th>\n",
       "    </tr>\n",
       "  </thead>\n",
       "  <tbody>\n",
       "    <tr>\n",
       "      <th>0</th>\n",
       "      <td>0</td>\n",
       "      <td>0.548814</td>\n",
       "      <td>0.715189</td>\n",
       "      <td>0.0</td>\n",
       "    </tr>\n",
       "    <tr>\n",
       "      <th>1</th>\n",
       "      <td>1</td>\n",
       "      <td>0.602763</td>\n",
       "      <td>0.544883</td>\n",
       "      <td>0.0</td>\n",
       "    </tr>\n",
       "    <tr>\n",
       "      <th>2</th>\n",
       "      <td>2</td>\n",
       "      <td>0.423655</td>\n",
       "      <td>0.645894</td>\n",
       "      <td>0.0</td>\n",
       "    </tr>\n",
       "    <tr>\n",
       "      <th>3</th>\n",
       "      <td>3</td>\n",
       "      <td>0.437587</td>\n",
       "      <td>0.891773</td>\n",
       "      <td>0.0</td>\n",
       "    </tr>\n",
       "    <tr>\n",
       "      <th>4</th>\n",
       "      <td>4</td>\n",
       "      <td>0.963663</td>\n",
       "      <td>0.383442</td>\n",
       "      <td>0.0</td>\n",
       "    </tr>\n",
       "  </tbody>\n",
       "</table>\n",
       "</div>"
      ],
      "text/plain": [
       "   index      cat1      cat2  class\n",
       "0      0  0.548814  0.715189    0.0\n",
       "1      1  0.602763  0.544883    0.0\n",
       "2      2  0.423655  0.645894    0.0\n",
       "3      3  0.437587  0.891773    0.0\n",
       "4      4  0.963663  0.383442    0.0"
      ]
     },
     "metadata": {},
     "output_type": "display_data"
    }
   ],
   "source": [
    "#Split dataset 1 into test and train\n",
    "test_train1 = split_test_train(data1, 0.5)\n",
    "data1_test = test_train1[0]\n",
    "data1_train = test_train1[1]\n",
    "\n",
    "display(data1_test.describe())\n",
    "display(data1_test.head())\n",
    "display(data1_train.describe())\n",
    "display(data1_train.head())\n"
   ]
  },
  {
   "cell_type": "markdown",
   "metadata": {},
   "source": [
    "### Dataset 2\n",
    "    "
   ]
  },
  {
   "cell_type": "code",
   "execution_count": 40,
   "metadata": {},
   "outputs": [
    {
     "data": {
      "text/html": [
       "<div>\n",
       "<style scoped>\n",
       "    .dataframe tbody tr th:only-of-type {\n",
       "        vertical-align: middle;\n",
       "    }\n",
       "\n",
       "    .dataframe tbody tr th {\n",
       "        vertical-align: top;\n",
       "    }\n",
       "\n",
       "    .dataframe thead th {\n",
       "        text-align: right;\n",
       "    }\n",
       "</style>\n",
       "<table border=\"1\" class=\"dataframe\">\n",
       "  <thead>\n",
       "    <tr style=\"text-align: right;\">\n",
       "      <th></th>\n",
       "      <th>index</th>\n",
       "      <th>cat1</th>\n",
       "      <th>cat2</th>\n",
       "      <th>class</th>\n",
       "    </tr>\n",
       "  </thead>\n",
       "  <tbody>\n",
       "    <tr>\n",
       "      <th>count</th>\n",
       "      <td>300.000000</td>\n",
       "      <td>300.000000</td>\n",
       "      <td>300.000000</td>\n",
       "      <td>300.000000</td>\n",
       "    </tr>\n",
       "    <tr>\n",
       "      <th>mean</th>\n",
       "      <td>374.500000</td>\n",
       "      <td>0.462264</td>\n",
       "      <td>0.483399</td>\n",
       "      <td>0.500000</td>\n",
       "    </tr>\n",
       "    <tr>\n",
       "      <th>std</th>\n",
       "      <td>156.385543</td>\n",
       "      <td>0.983031</td>\n",
       "      <td>0.573959</td>\n",
       "      <td>0.500835</td>\n",
       "    </tr>\n",
       "    <tr>\n",
       "      <th>min</th>\n",
       "      <td>150.000000</td>\n",
       "      <td>-2.528299</td>\n",
       "      <td>-0.847026</td>\n",
       "      <td>0.000000</td>\n",
       "    </tr>\n",
       "    <tr>\n",
       "      <th>25%</th>\n",
       "      <td>224.750000</td>\n",
       "      <td>-0.187462</td>\n",
       "      <td>-0.004776</td>\n",
       "      <td>0.000000</td>\n",
       "    </tr>\n",
       "    <tr>\n",
       "      <th>50%</th>\n",
       "      <td>374.500000</td>\n",
       "      <td>0.434963</td>\n",
       "      <td>0.508892</td>\n",
       "      <td>0.500000</td>\n",
       "    </tr>\n",
       "    <tr>\n",
       "      <th>75%</th>\n",
       "      <td>524.250000</td>\n",
       "      <td>1.150620</td>\n",
       "      <td>0.967250</td>\n",
       "      <td>1.000000</td>\n",
       "    </tr>\n",
       "    <tr>\n",
       "      <th>max</th>\n",
       "      <td>599.000000</td>\n",
       "      <td>3.290265</td>\n",
       "      <td>1.618334</td>\n",
       "      <td>1.000000</td>\n",
       "    </tr>\n",
       "  </tbody>\n",
       "</table>\n",
       "</div>"
      ],
      "text/plain": [
       "            index        cat1        cat2       class\n",
       "count  300.000000  300.000000  300.000000  300.000000\n",
       "mean   374.500000    0.462264    0.483399    0.500000\n",
       "std    156.385543    0.983031    0.573959    0.500835\n",
       "min    150.000000   -2.528299   -0.847026    0.000000\n",
       "25%    224.750000   -0.187462   -0.004776    0.000000\n",
       "50%    374.500000    0.434963    0.508892    0.500000\n",
       "75%    524.250000    1.150620    0.967250    1.000000\n",
       "max    599.000000    3.290265    1.618334    1.000000"
      ]
     },
     "metadata": {},
     "output_type": "display_data"
    },
    {
     "data": {
      "text/html": [
       "<div>\n",
       "<style scoped>\n",
       "    .dataframe tbody tr th:only-of-type {\n",
       "        vertical-align: middle;\n",
       "    }\n",
       "\n",
       "    .dataframe tbody tr th {\n",
       "        vertical-align: top;\n",
       "    }\n",
       "\n",
       "    .dataframe thead th {\n",
       "        text-align: right;\n",
       "    }\n",
       "</style>\n",
       "<table border=\"1\" class=\"dataframe\">\n",
       "  <thead>\n",
       "    <tr style=\"text-align: right;\">\n",
       "      <th></th>\n",
       "      <th>index</th>\n",
       "      <th>cat1</th>\n",
       "      <th>cat2</th>\n",
       "      <th>class</th>\n",
       "    </tr>\n",
       "  </thead>\n",
       "  <tbody>\n",
       "    <tr>\n",
       "      <th>150</th>\n",
       "      <td>150</td>\n",
       "      <td>1.376248</td>\n",
       "      <td>0.681871</td>\n",
       "      <td>0.0</td>\n",
       "    </tr>\n",
       "    <tr>\n",
       "      <th>151</th>\n",
       "      <td>151</td>\n",
       "      <td>-0.564548</td>\n",
       "      <td>-0.129263</td>\n",
       "      <td>0.0</td>\n",
       "    </tr>\n",
       "    <tr>\n",
       "      <th>152</th>\n",
       "      <td>152</td>\n",
       "      <td>-0.382397</td>\n",
       "      <td>-0.259234</td>\n",
       "      <td>0.0</td>\n",
       "    </tr>\n",
       "    <tr>\n",
       "      <th>153</th>\n",
       "      <td>153</td>\n",
       "      <td>-1.117776</td>\n",
       "      <td>-0.002866</td>\n",
       "      <td>0.0</td>\n",
       "    </tr>\n",
       "    <tr>\n",
       "      <th>154</th>\n",
       "      <td>154</td>\n",
       "      <td>-0.132446</td>\n",
       "      <td>-0.196270</td>\n",
       "      <td>0.0</td>\n",
       "    </tr>\n",
       "  </tbody>\n",
       "</table>\n",
       "</div>"
      ],
      "text/plain": [
       "     index      cat1      cat2  class\n",
       "150    150  1.376248  0.681871    0.0\n",
       "151    151 -0.564548 -0.129263    0.0\n",
       "152    152 -0.382397 -0.259234    0.0\n",
       "153    153 -1.117776 -0.002866    0.0\n",
       "154    154 -0.132446 -0.196270    0.0"
      ]
     },
     "metadata": {},
     "output_type": "display_data"
    },
    {
     "data": {
      "text/html": [
       "<div>\n",
       "<style scoped>\n",
       "    .dataframe tbody tr th:only-of-type {\n",
       "        vertical-align: middle;\n",
       "    }\n",
       "\n",
       "    .dataframe tbody tr th {\n",
       "        vertical-align: top;\n",
       "    }\n",
       "\n",
       "    .dataframe thead th {\n",
       "        text-align: right;\n",
       "    }\n",
       "</style>\n",
       "<table border=\"1\" class=\"dataframe\">\n",
       "  <thead>\n",
       "    <tr style=\"text-align: right;\">\n",
       "      <th></th>\n",
       "      <th>index</th>\n",
       "      <th>cat1</th>\n",
       "      <th>cat2</th>\n",
       "      <th>class</th>\n",
       "    </tr>\n",
       "  </thead>\n",
       "  <tbody>\n",
       "    <tr>\n",
       "      <th>count</th>\n",
       "      <td>300.000000</td>\n",
       "      <td>300.000000</td>\n",
       "      <td>300.000000</td>\n",
       "      <td>300.000000</td>\n",
       "    </tr>\n",
       "    <tr>\n",
       "      <th>mean</th>\n",
       "      <td>224.500000</td>\n",
       "      <td>0.485185</td>\n",
       "      <td>0.507442</td>\n",
       "      <td>0.500000</td>\n",
       "    </tr>\n",
       "    <tr>\n",
       "      <th>std</th>\n",
       "      <td>156.385543</td>\n",
       "      <td>0.920384</td>\n",
       "      <td>0.580295</td>\n",
       "      <td>0.500835</td>\n",
       "    </tr>\n",
       "    <tr>\n",
       "      <th>min</th>\n",
       "      <td>0.000000</td>\n",
       "      <td>-2.301252</td>\n",
       "      <td>-0.856548</td>\n",
       "      <td>0.000000</td>\n",
       "    </tr>\n",
       "    <tr>\n",
       "      <th>25%</th>\n",
       "      <td>74.750000</td>\n",
       "      <td>-0.124554</td>\n",
       "      <td>0.046961</td>\n",
       "      <td>0.000000</td>\n",
       "    </tr>\n",
       "    <tr>\n",
       "      <th>50%</th>\n",
       "      <td>224.500000</td>\n",
       "      <td>0.505978</td>\n",
       "      <td>0.521982</td>\n",
       "      <td>0.500000</td>\n",
       "    </tr>\n",
       "    <tr>\n",
       "      <th>75%</th>\n",
       "      <td>374.250000</td>\n",
       "      <td>1.081577</td>\n",
       "      <td>0.984248</td>\n",
       "      <td>1.000000</td>\n",
       "    </tr>\n",
       "    <tr>\n",
       "      <th>max</th>\n",
       "      <td>449.000000</td>\n",
       "      <td>2.976019</td>\n",
       "      <td>1.786571</td>\n",
       "      <td>1.000000</td>\n",
       "    </tr>\n",
       "  </tbody>\n",
       "</table>\n",
       "</div>"
      ],
      "text/plain": [
       "            index        cat1        cat2       class\n",
       "count  300.000000  300.000000  300.000000  300.000000\n",
       "mean   224.500000    0.485185    0.507442    0.500000\n",
       "std    156.385543    0.920384    0.580295    0.500835\n",
       "min      0.000000   -2.301252   -0.856548    0.000000\n",
       "25%     74.750000   -0.124554    0.046961    0.000000\n",
       "50%    224.500000    0.505978    0.521982    0.500000\n",
       "75%    374.250000    1.081577    0.984248    1.000000\n",
       "max    449.000000    2.976019    1.786571    1.000000"
      ]
     },
     "metadata": {},
     "output_type": "display_data"
    },
    {
     "data": {
      "text/html": [
       "<div>\n",
       "<style scoped>\n",
       "    .dataframe tbody tr th:only-of-type {\n",
       "        vertical-align: middle;\n",
       "    }\n",
       "\n",
       "    .dataframe tbody tr th {\n",
       "        vertical-align: top;\n",
       "    }\n",
       "\n",
       "    .dataframe thead th {\n",
       "        text-align: right;\n",
       "    }\n",
       "</style>\n",
       "<table border=\"1\" class=\"dataframe\">\n",
       "  <thead>\n",
       "    <tr style=\"text-align: right;\">\n",
       "      <th></th>\n",
       "      <th>index</th>\n",
       "      <th>cat1</th>\n",
       "      <th>cat2</th>\n",
       "      <th>class</th>\n",
       "    </tr>\n",
       "  </thead>\n",
       "  <tbody>\n",
       "    <tr>\n",
       "      <th>0</th>\n",
       "      <td>0</td>\n",
       "      <td>0.332130</td>\n",
       "      <td>-0.313696</td>\n",
       "      <td>0.0</td>\n",
       "    </tr>\n",
       "    <tr>\n",
       "      <th>1</th>\n",
       "      <td>1</td>\n",
       "      <td>1.859941</td>\n",
       "      <td>0.290296</td>\n",
       "      <td>0.0</td>\n",
       "    </tr>\n",
       "    <tr>\n",
       "      <th>2</th>\n",
       "      <td>2</td>\n",
       "      <td>-0.811141</td>\n",
       "      <td>-0.654312</td>\n",
       "      <td>0.0</td>\n",
       "    </tr>\n",
       "    <tr>\n",
       "      <th>3</th>\n",
       "      <td>3</td>\n",
       "      <td>-0.125626</td>\n",
       "      <td>-0.253332</td>\n",
       "      <td>0.0</td>\n",
       "    </tr>\n",
       "    <tr>\n",
       "      <th>4</th>\n",
       "      <td>4</td>\n",
       "      <td>0.340797</td>\n",
       "      <td>0.118178</td>\n",
       "      <td>0.0</td>\n",
       "    </tr>\n",
       "  </tbody>\n",
       "</table>\n",
       "</div>"
      ],
      "text/plain": [
       "   index      cat1      cat2  class\n",
       "0      0  0.332130 -0.313696    0.0\n",
       "1      1  1.859941  0.290296    0.0\n",
       "2      2 -0.811141 -0.654312    0.0\n",
       "3      3 -0.125626 -0.253332    0.0\n",
       "4      4  0.340797  0.118178    0.0"
      ]
     },
     "metadata": {},
     "output_type": "display_data"
    }
   ],
   "source": [
    "#Split dataset 2 into test and train\n",
    "test_train2 = split_test_train(data2, 0.5)\n",
    "data2_test = test_train2[0]\n",
    "data2_train = test_train2[1]\n",
    "\n",
    "display(data2_test.describe())\n",
    "display(data2_test.head())\n",
    "display(data2_train.describe())\n",
    "display(data2_train.head())"
   ]
  },
  {
   "cell_type": "markdown",
   "metadata": {},
   "source": [
    "### Dataset 3"
   ]
  },
  {
   "cell_type": "code",
   "execution_count": 41,
   "metadata": {},
   "outputs": [
    {
     "data": {
      "text/html": [
       "<div>\n",
       "<style scoped>\n",
       "    .dataframe tbody tr th:only-of-type {\n",
       "        vertical-align: middle;\n",
       "    }\n",
       "\n",
       "    .dataframe tbody tr th {\n",
       "        vertical-align: top;\n",
       "    }\n",
       "\n",
       "    .dataframe thead th {\n",
       "        text-align: right;\n",
       "    }\n",
       "</style>\n",
       "<table border=\"1\" class=\"dataframe\">\n",
       "  <thead>\n",
       "    <tr style=\"text-align: right;\">\n",
       "      <th></th>\n",
       "      <th>index</th>\n",
       "      <th>cat1</th>\n",
       "      <th>cat2</th>\n",
       "      <th>class</th>\n",
       "    </tr>\n",
       "  </thead>\n",
       "  <tbody>\n",
       "    <tr>\n",
       "      <th>count</th>\n",
       "      <td>300.000000</td>\n",
       "      <td>300.000000</td>\n",
       "      <td>300.000000</td>\n",
       "      <td>300.000000</td>\n",
       "    </tr>\n",
       "    <tr>\n",
       "      <th>mean</th>\n",
       "      <td>374.500000</td>\n",
       "      <td>0.116346</td>\n",
       "      <td>2.557350</td>\n",
       "      <td>0.500000</td>\n",
       "    </tr>\n",
       "    <tr>\n",
       "      <th>std</th>\n",
       "      <td>156.385543</td>\n",
       "      <td>3.822758</td>\n",
       "      <td>4.528323</td>\n",
       "      <td>0.500835</td>\n",
       "    </tr>\n",
       "    <tr>\n",
       "      <th>min</th>\n",
       "      <td>150.000000</td>\n",
       "      <td>-15.230715</td>\n",
       "      <td>-5.739253</td>\n",
       "      <td>0.000000</td>\n",
       "    </tr>\n",
       "    <tr>\n",
       "      <th>25%</th>\n",
       "      <td>224.750000</td>\n",
       "      <td>-1.554478</td>\n",
       "      <td>-0.641305</td>\n",
       "      <td>0.000000</td>\n",
       "    </tr>\n",
       "    <tr>\n",
       "      <th>50%</th>\n",
       "      <td>374.500000</td>\n",
       "      <td>0.520179</td>\n",
       "      <td>1.619968</td>\n",
       "      <td>0.500000</td>\n",
       "    </tr>\n",
       "    <tr>\n",
       "      <th>75%</th>\n",
       "      <td>524.250000</td>\n",
       "      <td>2.200002</td>\n",
       "      <td>5.421993</td>\n",
       "      <td>1.000000</td>\n",
       "    </tr>\n",
       "    <tr>\n",
       "      <th>max</th>\n",
       "      <td>599.000000</td>\n",
       "      <td>12.062268</td>\n",
       "      <td>20.120173</td>\n",
       "      <td>1.000000</td>\n",
       "    </tr>\n",
       "  </tbody>\n",
       "</table>\n",
       "</div>"
      ],
      "text/plain": [
       "            index        cat1        cat2       class\n",
       "count  300.000000  300.000000  300.000000  300.000000\n",
       "mean   374.500000    0.116346    2.557350    0.500000\n",
       "std    156.385543    3.822758    4.528323    0.500835\n",
       "min    150.000000  -15.230715   -5.739253    0.000000\n",
       "25%    224.750000   -1.554478   -0.641305    0.000000\n",
       "50%    374.500000    0.520179    1.619968    0.500000\n",
       "75%    524.250000    2.200002    5.421993    1.000000\n",
       "max    599.000000   12.062268   20.120173    1.000000"
      ]
     },
     "metadata": {},
     "output_type": "display_data"
    },
    {
     "data": {
      "text/html": [
       "<div>\n",
       "<style scoped>\n",
       "    .dataframe tbody tr th:only-of-type {\n",
       "        vertical-align: middle;\n",
       "    }\n",
       "\n",
       "    .dataframe tbody tr th {\n",
       "        vertical-align: top;\n",
       "    }\n",
       "\n",
       "    .dataframe thead th {\n",
       "        text-align: right;\n",
       "    }\n",
       "</style>\n",
       "<table border=\"1\" class=\"dataframe\">\n",
       "  <thead>\n",
       "    <tr style=\"text-align: right;\">\n",
       "      <th></th>\n",
       "      <th>index</th>\n",
       "      <th>cat1</th>\n",
       "      <th>cat2</th>\n",
       "      <th>class</th>\n",
       "    </tr>\n",
       "  </thead>\n",
       "  <tbody>\n",
       "    <tr>\n",
       "      <th>150</th>\n",
       "      <td>150</td>\n",
       "      <td>8.290653</td>\n",
       "      <td>4.934437</td>\n",
       "      <td>0.0</td>\n",
       "    </tr>\n",
       "    <tr>\n",
       "      <th>151</th>\n",
       "      <td>151</td>\n",
       "      <td>-3.400891</td>\n",
       "      <td>-0.715921</td>\n",
       "      <td>0.0</td>\n",
       "    </tr>\n",
       "    <tr>\n",
       "      <th>152</th>\n",
       "      <td>152</td>\n",
       "      <td>-2.303599</td>\n",
       "      <td>-1.977774</td>\n",
       "      <td>0.0</td>\n",
       "    </tr>\n",
       "    <tr>\n",
       "      <th>153</th>\n",
       "      <td>153</td>\n",
       "      <td>-6.733588</td>\n",
       "      <td>0.783112</td>\n",
       "      <td>0.0</td>\n",
       "    </tr>\n",
       "    <tr>\n",
       "      <th>154</th>\n",
       "      <td>154</td>\n",
       "      <td>-0.797867</td>\n",
       "      <td>-1.610949</td>\n",
       "      <td>0.0</td>\n",
       "    </tr>\n",
       "  </tbody>\n",
       "</table>\n",
       "</div>"
      ],
      "text/plain": [
       "     index      cat1      cat2  class\n",
       "150    150  8.290653  4.934437    0.0\n",
       "151    151 -3.400891 -0.715921    0.0\n",
       "152    152 -2.303599 -1.977774    0.0\n",
       "153    153 -6.733588  0.783112    0.0\n",
       "154    154 -0.797867 -1.610949    0.0"
      ]
     },
     "metadata": {},
     "output_type": "display_data"
    },
    {
     "data": {
      "text/html": [
       "<div>\n",
       "<style scoped>\n",
       "    .dataframe tbody tr th:only-of-type {\n",
       "        vertical-align: middle;\n",
       "    }\n",
       "\n",
       "    .dataframe tbody tr th {\n",
       "        vertical-align: top;\n",
       "    }\n",
       "\n",
       "    .dataframe thead th {\n",
       "        text-align: right;\n",
       "    }\n",
       "</style>\n",
       "<table border=\"1\" class=\"dataframe\">\n",
       "  <thead>\n",
       "    <tr style=\"text-align: right;\">\n",
       "      <th></th>\n",
       "      <th>index</th>\n",
       "      <th>cat1</th>\n",
       "      <th>cat2</th>\n",
       "      <th>class</th>\n",
       "    </tr>\n",
       "  </thead>\n",
       "  <tbody>\n",
       "    <tr>\n",
       "      <th>count</th>\n",
       "      <td>300.000000</td>\n",
       "      <td>300.000000</td>\n",
       "      <td>300.000000</td>\n",
       "      <td>300.000000</td>\n",
       "    </tr>\n",
       "    <tr>\n",
       "      <th>mean</th>\n",
       "      <td>224.500000</td>\n",
       "      <td>0.839226</td>\n",
       "      <td>1.834812</td>\n",
       "      <td>0.500000</td>\n",
       "    </tr>\n",
       "    <tr>\n",
       "      <th>std</th>\n",
       "      <td>156.385543</td>\n",
       "      <td>3.794963</td>\n",
       "      <td>4.207488</td>\n",
       "      <td>0.500835</td>\n",
       "    </tr>\n",
       "    <tr>\n",
       "      <th>min</th>\n",
       "      <td>0.000000</td>\n",
       "      <td>-13.862964</td>\n",
       "      <td>-10.529514</td>\n",
       "      <td>0.000000</td>\n",
       "    </tr>\n",
       "    <tr>\n",
       "      <th>25%</th>\n",
       "      <td>74.750000</td>\n",
       "      <td>-1.035905</td>\n",
       "      <td>-0.791177</td>\n",
       "      <td>0.000000</td>\n",
       "    </tr>\n",
       "    <tr>\n",
       "      <th>50%</th>\n",
       "      <td>224.500000</td>\n",
       "      <td>1.091485</td>\n",
       "      <td>1.167955</td>\n",
       "      <td>0.500000</td>\n",
       "    </tr>\n",
       "    <tr>\n",
       "      <th>75%</th>\n",
       "      <td>374.250000</td>\n",
       "      <td>3.002688</td>\n",
       "      <td>4.006558</td>\n",
       "      <td>1.000000</td>\n",
       "    </tr>\n",
       "    <tr>\n",
       "      <th>max</th>\n",
       "      <td>449.000000</td>\n",
       "      <td>11.204466</td>\n",
       "      <td>16.406478</td>\n",
       "      <td>1.000000</td>\n",
       "    </tr>\n",
       "  </tbody>\n",
       "</table>\n",
       "</div>"
      ],
      "text/plain": [
       "            index        cat1        cat2       class\n",
       "count  300.000000  300.000000  300.000000  300.000000\n",
       "mean   224.500000    0.839226    1.834812    0.500000\n",
       "std    156.385543    3.794963    4.207488    0.500835\n",
       "min      0.000000  -13.862964  -10.529514    0.000000\n",
       "25%     74.750000   -1.035905   -0.791177    0.000000\n",
       "50%    224.500000    1.091485    1.167955    0.500000\n",
       "75%    374.250000    3.002688    4.006558    1.000000\n",
       "max    449.000000   11.204466   16.406478    1.000000"
      ]
     },
     "metadata": {},
     "output_type": "display_data"
    },
    {
     "data": {
      "text/html": [
       "<div>\n",
       "<style scoped>\n",
       "    .dataframe tbody tr th:only-of-type {\n",
       "        vertical-align: middle;\n",
       "    }\n",
       "\n",
       "    .dataframe tbody tr th {\n",
       "        vertical-align: top;\n",
       "    }\n",
       "\n",
       "    .dataframe thead th {\n",
       "        text-align: right;\n",
       "    }\n",
       "</style>\n",
       "<table border=\"1\" class=\"dataframe\">\n",
       "  <thead>\n",
       "    <tr style=\"text-align: right;\">\n",
       "      <th></th>\n",
       "      <th>index</th>\n",
       "      <th>cat1</th>\n",
       "      <th>cat2</th>\n",
       "      <th>class</th>\n",
       "    </tr>\n",
       "  </thead>\n",
       "  <tbody>\n",
       "    <tr>\n",
       "      <th>0</th>\n",
       "      <td>0</td>\n",
       "      <td>2.000786</td>\n",
       "      <td>-2.967885</td>\n",
       "      <td>0.0</td>\n",
       "    </tr>\n",
       "    <tr>\n",
       "      <th>1</th>\n",
       "      <td>1</td>\n",
       "      <td>11.204466</td>\n",
       "      <td>1.179775</td>\n",
       "      <td>0.0</td>\n",
       "    </tr>\n",
       "    <tr>\n",
       "      <th>2</th>\n",
       "      <td>2</td>\n",
       "      <td>-4.886389</td>\n",
       "      <td>-5.103305</td>\n",
       "      <td>0.0</td>\n",
       "    </tr>\n",
       "    <tr>\n",
       "      <th>3</th>\n",
       "      <td>3</td>\n",
       "      <td>-0.756786</td>\n",
       "      <td>-2.112077</td>\n",
       "      <td>0.0</td>\n",
       "    </tr>\n",
       "    <tr>\n",
       "      <th>4</th>\n",
       "      <td>4</td>\n",
       "      <td>2.052993</td>\n",
       "      <td>0.781276</td>\n",
       "      <td>0.0</td>\n",
       "    </tr>\n",
       "  </tbody>\n",
       "</table>\n",
       "</div>"
      ],
      "text/plain": [
       "   index       cat1      cat2  class\n",
       "0      0   2.000786 -2.967885    0.0\n",
       "1      1  11.204466  1.179775    0.0\n",
       "2      2  -4.886389 -5.103305    0.0\n",
       "3      3  -0.756786 -2.112077    0.0\n",
       "4      4   2.052993  0.781276    0.0"
      ]
     },
     "metadata": {},
     "output_type": "display_data"
    }
   ],
   "source": [
    "#Split dataset 3 into test and train\n",
    "test_train3 = split_test_train(data3, 0.5)\n",
    "data3_test = test_train3[0]\n",
    "data3_train = test_train3[1]\n",
    "\n",
    "display(data3_test.describe())\n",
    "display(data3_test.head())\n",
    "display(data3_train.describe())\n",
    "display(data3_train.head())"
   ]
  },
  {
   "cell_type": "markdown",
   "metadata": {},
   "source": [
    "# Step 5\n",
    "\n",
    "### Create Design matrices and response vectors for each dataset"
   ]
  },
  {
   "cell_type": "code",
   "execution_count": 87,
   "metadata": {},
   "outputs": [
    {
     "name": "stdout",
     "output_type": "stream",
     "text": [
      "Dimensions of X1: (300, 2)\n",
      "Dimensions of X2: (300, 2)\n",
      "Dimensions of X3: (300, 2)\n"
     ]
    }
   ],
   "source": [
    "# Logistic Regression Model\n",
    "\n",
    "# Feature vectors for dataset 1\n",
    "x1 = data1_train['cat1']\n",
    "x2 = data1_train['cat2']\n",
    "y1 =  data1_train['class'] # y vector from training dataset 1\n",
    "# Create nx2 matrix of feature vectors from training dataset 1\n",
    "X1 = np.vstack((x1, x2)).T\n",
    "print('Dimensions of X1: ' + str(X1.shape))\n",
    "\n",
    "# Feature vectors for training dataset 2\n",
    "x1 = data2_train['cat1']\n",
    "x2 = data2_train['cat2']\n",
    "y2 =  data2_train['class'] # y vector from training dataset 2\n",
    "# Create nx2 matrix of feature vectors from training dataset 2\n",
    "X2 = np.vstack(( x1, x2)).T\n",
    "print('Dimensions of X2: ' + str(X2.shape))\n",
    "\n",
    "\n",
    "# Feature vectors for training dataset 3\n",
    "x1 = data3_train['cat1']\n",
    "x2 = data3_train['cat2']\n",
    "y3 =  data3_train['class'] # y vector from training dataset 3\n",
    "# Create nx2 matrix of feature vectors from training dataset 3\n",
    "X3 = np.vstack(( x1, x2)).T\n",
    "print('Dimensions of X3: ' + str(X3.shape))\n",
    "\n"
   ]
  },
  {
   "cell_type": "markdown",
   "metadata": {},
   "source": [
    "### Train Models\n",
    "#### Logistic Regression"
   ]
  },
  {
   "cell_type": "code",
   "execution_count": 89,
   "metadata": {},
   "outputs": [
    {
     "data": {
      "text/markdown": [
       "##### Dataset 1 beta values"
      ],
      "text/plain": [
       "<IPython.core.display.Markdown object>"
      ]
     },
     "metadata": {},
     "output_type": "display_data"
    },
    {
     "data": {
      "text/markdown": [
       " $\\beta_0$: -2.748916"
      ],
      "text/plain": [
       "<IPython.core.display.Markdown object>"
      ]
     },
     "metadata": {},
     "output_type": "display_data"
    },
    {
     "data": {
      "text/markdown": [
       " $\\beta_1$: 4.003120"
      ],
      "text/plain": [
       "<IPython.core.display.Markdown object>"
      ]
     },
     "metadata": {},
     "output_type": "display_data"
    },
    {
     "data": {
      "text/markdown": [
       " $\\beta_2$: -0.486907"
      ],
      "text/plain": [
       "<IPython.core.display.Markdown object>"
      ]
     },
     "metadata": {},
     "output_type": "display_data"
    },
    {
     "data": {
      "text/markdown": [
       "##### Dataset 2 beta values"
      ],
      "text/plain": [
       "<IPython.core.display.Markdown object>"
      ]
     },
     "metadata": {},
     "output_type": "display_data"
    },
    {
     "data": {
      "text/markdown": [
       " $\\beta_0$: -2.488031"
      ],
      "text/plain": [
       "<IPython.core.display.Markdown object>"
      ]
     },
     "metadata": {},
     "output_type": "display_data"
    },
    {
     "data": {
      "text/markdown": [
       " $\\beta_1$: -0.847467"
      ],
      "text/plain": [
       "<IPython.core.display.Markdown object>"
      ]
     },
     "metadata": {},
     "output_type": "display_data"
    },
    {
     "data": {
      "text/markdown": [
       " $\\beta_2$: 5.797421"
      ],
      "text/plain": [
       "<IPython.core.display.Markdown object>"
      ]
     },
     "metadata": {},
     "output_type": "display_data"
    },
    {
     "data": {
      "text/markdown": [
       "##### Dataset 3 beta values"
      ],
      "text/plain": [
       "<IPython.core.display.Markdown object>"
      ]
     },
     "metadata": {},
     "output_type": "display_data"
    },
    {
     "data": {
      "text/markdown": [
       " $\\beta_0$: -0.392890"
      ],
      "text/plain": [
       "<IPython.core.display.Markdown object>"
      ]
     },
     "metadata": {},
     "output_type": "display_data"
    },
    {
     "data": {
      "text/markdown": [
       " $\\beta_1$: 0.015495"
      ],
      "text/plain": [
       "<IPython.core.display.Markdown object>"
      ]
     },
     "metadata": {},
     "output_type": "display_data"
    },
    {
     "data": {
      "text/markdown": [
       " $\\beta_2$: 0.223014"
      ],
      "text/plain": [
       "<IPython.core.display.Markdown object>"
      ]
     },
     "metadata": {},
     "output_type": "display_data"
    }
   ],
   "source": [
    "log_reg1 = skl_lm.LogisticRegression(solver='liblinear')\n",
    "log_reg2 = skl_lm.LogisticRegression(solver='liblinear')\n",
    "log_reg3 = skl_lm.LogisticRegression(solver='liblinear')\n",
    "\n",
    "log_reg1.fit(X1, y1)\n",
    "log_reg2.fit(X2, y2)\n",
    "log_reg3.fit(X3, y3)\n",
    "\n",
    "#Print Dataset 1 coefficients\n",
    "display(md(\"##### Dataset 1 beta values\"))\n",
    "display(md(r\" $\\beta_0$: %f\" %log_reg1.intercept_))\n",
    "display(md(r\" $\\beta_1$: %f\" %log_reg1.coef_[0,0]))\n",
    "display(md(r\" $\\beta_2$: %f\" %log_reg1.coef_[0,1]))\n",
    "\n",
    "#Print Dataset 2 coefficients\n",
    "display(md(\"##### Dataset 2 beta values\"))\n",
    "display(md(r\" $\\beta_0$: %f\" %log_reg2.intercept_))\n",
    "display(md(r\" $\\beta_1$: %f\" %log_reg2.coef_[0,0]))\n",
    "display(md(r\" $\\beta_2$: %f\" %log_reg2.coef_[0,1]))\n",
    "\n",
    "#Print Dataset 3 coefficients\n",
    "display(md(\"##### Dataset 3 beta values\"))\n",
    "display(md(r\" $\\beta_0$: %f\" %log_reg3.intercept_))\n",
    "display(md(r\" $\\beta_1$: %f\" %log_reg3.coef_[0,0]))\n",
    "display(md(r\" $\\beta_2$: %f\" %log_reg3.coef_[0,1]))"
   ]
  },
  {
   "cell_type": "markdown",
   "metadata": {},
   "source": [
    "#### Linear Discriminant Analysis"
   ]
  },
  {
   "cell_type": "code",
   "execution_count": 90,
   "metadata": {},
   "outputs": [
    {
     "data": {
      "text/markdown": [
       "##### Dataset 1 beta values"
      ],
      "text/plain": [
       "<IPython.core.display.Markdown object>"
      ]
     },
     "metadata": {},
     "output_type": "display_data"
    },
    {
     "data": {
      "text/markdown": [
       " $\\beta_0$: -4.484797"
      ],
      "text/plain": [
       "<IPython.core.display.Markdown object>"
      ]
     },
     "metadata": {},
     "output_type": "display_data"
    },
    {
     "data": {
      "text/markdown": [
       " $\\beta_1$: 6.125359"
      ],
      "text/plain": [
       "<IPython.core.display.Markdown object>"
      ]
     },
     "metadata": {},
     "output_type": "display_data"
    },
    {
     "data": {
      "text/markdown": [
       " $\\beta_2$: -0.323873"
      ],
      "text/plain": [
       "<IPython.core.display.Markdown object>"
      ]
     },
     "metadata": {},
     "output_type": "display_data"
    },
    {
     "data": {
      "text/markdown": [
       "##### Dataset 2 beta values"
      ],
      "text/plain": [
       "<IPython.core.display.Markdown object>"
      ]
     },
     "metadata": {},
     "output_type": "display_data"
    },
    {
     "data": {
      "text/markdown": [
       " $\\beta_0$: -5.957747"
      ],
      "text/plain": [
       "<IPython.core.display.Markdown object>"
      ]
     },
     "metadata": {},
     "output_type": "display_data"
    },
    {
     "data": {
      "text/markdown": [
       " $\\beta_1$: -2.943577"
      ],
      "text/plain": [
       "<IPython.core.display.Markdown object>"
      ]
     },
     "metadata": {},
     "output_type": "display_data"
    },
    {
     "data": {
      "text/markdown": [
       " $\\beta_2$: 14.555226"
      ],
      "text/plain": [
       "<IPython.core.display.Markdown object>"
      ]
     },
     "metadata": {},
     "output_type": "display_data"
    },
    {
     "data": {
      "text/markdown": [
       "##### Dataset 3 beta values"
      ],
      "text/plain": [
       "<IPython.core.display.Markdown object>"
      ]
     },
     "metadata": {},
     "output_type": "display_data"
    },
    {
     "data": {
      "text/markdown": [
       " $\\beta_0$: -0.416956"
      ],
      "text/plain": [
       "<IPython.core.display.Markdown object>"
      ]
     },
     "metadata": {},
     "output_type": "display_data"
    },
    {
     "data": {
      "text/markdown": [
       " $\\beta_1$: 0.020448"
      ],
      "text/plain": [
       "<IPython.core.display.Markdown object>"
      ]
     },
     "metadata": {},
     "output_type": "display_data"
    },
    {
     "data": {
      "text/markdown": [
       " $\\beta_2$: 0.217895"
      ],
      "text/plain": [
       "<IPython.core.display.Markdown object>"
      ]
     },
     "metadata": {},
     "output_type": "display_data"
    }
   ],
   "source": [
    "lda1 = LinearDiscriminantAnalysis(solver='lsqr') # Use slqr to get covariance matrix\n",
    "lda2 = LinearDiscriminantAnalysis(solver='lsqr')\n",
    "lda3 = LinearDiscriminantAnalysis(solver='lsqr')\n",
    "\n",
    "lda1.fit(X1, y1)\n",
    "lda2.fit(X2, y2)\n",
    "lda3.fit(X3, y3)\n",
    "\n",
    "#Print Dataset 1 coefficients\n",
    "display(md(\"##### Dataset 1 beta values\"))\n",
    "display(md(r\" $\\beta_0$: %f\" %lda1.intercept_))\n",
    "display(md(r\" $\\beta_1$: %f\" %lda1.coef_[0,0]))\n",
    "display(md(r\" $\\beta_2$: %f\" %lda1.coef_[0,1]))\n",
    "\n",
    "#Print Dataset 2 coefficients\n",
    "display(md(\"##### Dataset 2 beta values\"))\n",
    "display(md(r\" $\\beta_0$: %f\" %lda2.intercept_))\n",
    "display(md(r\" $\\beta_1$: %f\" %lda2.coef_[0,0]))\n",
    "display(md(r\" $\\beta_2$: %f\" %lda2.coef_[0,1]))\n",
    "\n",
    "#Print Dataset 3 coefficients\n",
    "display(md(\"##### Dataset 3 beta values\"))\n",
    "display(md(r\" $\\beta_0$: %f\" %lda3.intercept_))\n",
    "display(md(r\" $\\beta_1$: %f\" %lda3.coef_[0,0]))\n",
    "display(md(r\" $\\beta_2$: %f\" %lda3.coef_[0,1]))"
   ]
  },
  {
   "cell_type": "markdown",
   "metadata": {},
   "source": [
    "#### Quadratic Discriminant Analysis "
   ]
  },
  {
   "cell_type": "code",
   "execution_count": 97,
   "metadata": {},
   "outputs": [
    {
     "data": {
      "text/plain": [
       "QuadraticDiscriminantAnalysis(priors=None, reg_param=0.0,\n",
       "               store_covariance=False, store_covariances=None, tol=0.0001)"
      ]
     },
     "execution_count": 97,
     "metadata": {},
     "output_type": "execute_result"
    }
   ],
   "source": [
    "qda1 = QuadraticDiscriminantAnalysis()\n",
    "qda2 = QuadraticDiscriminantAnalysis()\n",
    "qda3 = QuadraticDiscriminantAnalysis()\n",
    "\n",
    "qda1.fit(X1, y1)\n",
    "qda2.fit(X2, y2)\n",
    "qda3.fit(X3, y3)\n"
   ]
  },
  {
   "cell_type": "markdown",
   "metadata": {},
   "source": [
    "# Step 6\n",
    "\n",
    "### Predicted probabilities\n",
    "\n",
    "#### Create Test Matrices"
   ]
  },
  {
   "cell_type": "code",
   "execution_count": 98,
   "metadata": {},
   "outputs": [
    {
     "name": "stdout",
     "output_type": "stream",
     "text": [
      "Dimensions of X1 Test: (300, 2)\n",
      "Dimensions of X2 Test: (300, 2)\n",
      "Dimensions of X3 Test: (300, 2)\n"
     ]
    }
   ],
   "source": [
    "# Create Test Matrices\n",
    "\n",
    "# Feature vectors for dataset 1\n",
    "x1 = data1_test['cat1']\n",
    "x2 = data1_test['cat2']\n",
    "y1 =  data1_test['class'] # y vector from training dataset 1\n",
    "# Create nx2 matrix of feature vectors from training dataset 1\n",
    "X1_Test = np.vstack((x1, x2)).T\n",
    "print('Dimensions of X1 Test: ' + str(X1.shape))\n",
    "\n",
    "# Feature vectors for training dataset 2\n",
    "x1 = data2_test['cat1']\n",
    "x2 = data2_test['cat2']\n",
    "y2 =  data2_test['class'] # y vector from training dataset 2\n",
    "# Create nx2 matrix of feature vectors from training dataset 2\n",
    "X2_Test = np.vstack(( x1, x2)).T\n",
    "print('Dimensions of X2 Test: ' + str(X2.shape))\n",
    "\n",
    "\n",
    "# Feature vectors for training dataset 3\n",
    "x1 = data3_test['cat1']\n",
    "x2 = data3_test['cat2']\n",
    "y3 =  data3_test['class'] # y vector from training dataset 3\n",
    "# Create nx2 matrix of feature vectors from training dataset 3\n",
    "X3_Test = np.vstack(( x1, x2)).T\n",
    "print('Dimensions of X3 Test: ' + str(X3.shape))"
   ]
  },
  {
   "cell_type": "markdown",
   "metadata": {},
   "source": [
    "#### Logistic Regression"
   ]
  },
  {
   "cell_type": "code",
   "execution_count": null,
   "metadata": {},
   "outputs": [],
   "source": []
  },
  {
   "cell_type": "code",
   "execution_count": null,
   "metadata": {},
   "outputs": [],
   "source": []
  }
 ],
 "metadata": {
  "kernelspec": {
   "display_name": "Python 3",
   "language": "python",
   "name": "python3"
  },
  "language_info": {
   "codemirror_mode": {
    "name": "ipython",
    "version": 3
   },
   "file_extension": ".py",
   "mimetype": "text/x-python",
   "name": "python",
   "nbconvert_exporter": "python",
   "pygments_lexer": "ipython3",
   "version": "3.7.1"
  }
 },
 "nbformat": 4,
 "nbformat_minor": 2
}
