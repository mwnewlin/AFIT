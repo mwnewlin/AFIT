{
 "cells": [
  {
   "cell_type": "markdown",
   "metadata": {},
   "source": [
    "# CSCE 623 Homework Assignment 5\n",
    "## Student Name: Marvin Newlin\n",
    "## Date: 21 May 19\n"
   ]
  },
  {
   "cell_type": "code",
   "execution_count": 162,
   "metadata": {
    "collapsed": true
   },
   "outputs": [],
   "source": [
    "import numpy as np\n",
    "import pandas as pd\n",
    "import seaborn as sns\n",
    "import matplotlib.pyplot as plt\n",
    "from matplotlib.ticker import MaxNLocator\n",
    "\n",
    "from sklearn.model_selection import train_test_split, KFold\n",
    "\n",
    "from sklearn.ensemble import RandomForestRegressor as RFR\n",
    "from sklearn.metrics import mean_squared_error as MSE\n",
    "%matplotlib inline\n",
    "\n",
    "from IPython.display import Markdown as md  #enable markdown within code cell\n",
    "from IPython.display import display, Math, Latex"
   ]
  },
  {
   "cell_type": "code",
   "execution_count": 163,
   "metadata": {},
   "outputs": [],
   "source": [
    "# Load and Preprocess the data"
   ]
  },
  {
   "cell_type": "markdown",
   "metadata": {},
   "source": [
    "## STEP 0. \n",
    "(instructor provided) Load the ILSR_hitters.csv dataset.  Remove the observations for whom the salary information is unknown, and then "
   ]
  },
  {
   "cell_type": "code",
   "execution_count": 244,
   "metadata": {
    "collapsed": true
   },
   "outputs": [],
   "source": [
    "# STEP 0  - Load data & convert categorical features - instructor provided code\n",
    "\n",
    "state = 1  #random seed\n",
    "Hitters = pd.read_csv('ISLR_Hitters.csv',index_col=0)\n",
    "Hitters = Hitters.dropna(how='any')\n",
    "Hitters = Hitters.reset_index()\n",
    "\n",
    "Hitters = Hitters.drop(['index'],axis=1)\n",
    "Hitters['League'] = Hitters['League'].map({'A': 0, 'N': 1})\n",
    "Hitters['Division'] = Hitters['Division'].map({'E': 0, 'W': 1})\n",
    "Hitters = Hitters.drop(['NewLeague'],axis=1)\n"
   ]
  },
  {
   "cell_type": "markdown",
   "metadata": {},
   "source": [
    "## STEP 1.  \n",
    "Log-transform the salaries (salaries listed are in $1000’s).  Note that you will need to account for this log-transformation when presenting your results (transform your precisions, loss, MSE, improvement, etc. back to real salary dollars when possible)"
   ]
  },
  {
   "cell_type": "code",
   "execution_count": 246,
   "metadata": {
    "collapsed": false
   },
   "outputs": [
    {
     "name": "stdout",
     "output_type": "stream",
     "text": [
      "0    2.676694\n",
      "1    2.681241\n",
      "2    2.698970\n",
      "Name: Salary, dtype: float64\n",
      "0    0.427599\n",
      "1    0.428336\n",
      "2    0.431198\n",
      "Name: Salary, dtype: float64\n"
     ]
    }
   ],
   "source": [
    "#STEP1 \n",
    "\n",
    "# helper functions for transformation\n",
    "# the transformed salary should work better for model fitting\n",
    "def salary_transform(salary):\n",
    "    transformed_salary = salary\n",
    "    transformed_salary = np.log10(transformed_salary) # Takes the log base 10 of each element\n",
    "    return transformed_salary\n",
    "\n",
    "# the untransformed salary is needed for test set performance reporting and residuals analysis\n",
    "def salary_untransform(transformed_salary):\n",
    "    salary = 10**transformed_salary  # raises 10 to the power of each element to undo the log\n",
    "    \n",
    "    return salary\n",
    "\n",
    "#transform the salary\n",
    "print(Hitters['Salary'][:3])\n",
    "Hitters['Salary'] = salary_transform(Hitters.Salary)\n",
    "print(Hitters['Salary'][:3])\n",
    "# note that this block will give an error until the salary component is filled out"
   ]
  },
  {
   "cell_type": "markdown",
   "metadata": {},
   "source": [
    "# STEP 2.\n",
    "(Code Provided) Using sklearn.model_selection.train_test_split with random_state = 1,  create a “non-test” set consisting of 200 observations and a test set consisting of the remaining observations.  Sequester the test set until  the performance reporting steps (9-11)."
   ]
  },
  {
   "cell_type": "code",
   "execution_count": 247,
   "metadata": {
    "collapsed": false
   },
   "outputs": [
    {
     "name": "stderr",
     "output_type": "stream",
     "text": [
      "C:\\Users\\Marvin\\Anaconda3\\lib\\site-packages\\sklearn\\model_selection\\_split.py:2179: FutureWarning: From version 0.21, test_size will always complement train_size unless both are specified.\n",
      "  FutureWarning)\n"
     ]
    }
   ],
   "source": [
    "Hitters_nonTest, Hitters_test = train_test_split(Hitters, train_size = 200, random_state=1)\n"
   ]
  },
  {
   "cell_type": "markdown",
   "metadata": {},
   "source": [
    "# Explore the data & make hypotheses"
   ]
  },
  {
   "cell_type": "markdown",
   "metadata": {},
   "source": [
    "## STEP 3.\n",
    "Explore the data.  Use plots and discuss relationships between available features and Salary.  Consider using the seaborn package to facilitate your exploration – for example, make a heatmap plot of the correlation between each pair of features to help you decide which pairs of features to explore further with pairs plots or scatterplots.  Make at least one hypothesis about which features will be useful in predicting salary.  "
   ]
  },
  {
   "cell_type": "code",
   "execution_count": 248,
   "metadata": {},
   "outputs": [
    {
     "data": {
      "text/html": [
       "<div>\n",
       "<style scoped>\n",
       "    .dataframe tbody tr th:only-of-type {\n",
       "        vertical-align: middle;\n",
       "    }\n",
       "\n",
       "    .dataframe tbody tr th {\n",
       "        vertical-align: top;\n",
       "    }\n",
       "\n",
       "    .dataframe thead th {\n",
       "        text-align: right;\n",
       "    }\n",
       "</style>\n",
       "<table border=\"1\" class=\"dataframe\">\n",
       "  <thead>\n",
       "    <tr style=\"text-align: right;\">\n",
       "      <th></th>\n",
       "      <th>AtBat</th>\n",
       "      <th>Hits</th>\n",
       "      <th>HmRun</th>\n",
       "      <th>Runs</th>\n",
       "      <th>RBI</th>\n",
       "      <th>Walks</th>\n",
       "      <th>Years</th>\n",
       "      <th>CAtBat</th>\n",
       "      <th>CHits</th>\n",
       "      <th>CHmRun</th>\n",
       "      <th>CRuns</th>\n",
       "      <th>CRBI</th>\n",
       "      <th>CWalks</th>\n",
       "      <th>League</th>\n",
       "      <th>Division</th>\n",
       "      <th>PutOuts</th>\n",
       "      <th>Assists</th>\n",
       "      <th>Errors</th>\n",
       "      <th>Salary</th>\n",
       "    </tr>\n",
       "  </thead>\n",
       "  <tbody>\n",
       "    <tr>\n",
       "      <th>228</th>\n",
       "      <td>528</td>\n",
       "      <td>122</td>\n",
       "      <td>1</td>\n",
       "      <td>67</td>\n",
       "      <td>45</td>\n",
       "      <td>51</td>\n",
       "      <td>4</td>\n",
       "      <td>1716</td>\n",
       "      <td>403</td>\n",
       "      <td>12</td>\n",
       "      <td>211</td>\n",
       "      <td>146</td>\n",
       "      <td>155</td>\n",
       "      <td>0</td>\n",
       "      <td>1</td>\n",
       "      <td>209</td>\n",
       "      <td>372</td>\n",
       "      <td>17</td>\n",
       "      <td>0.405529</td>\n",
       "    </tr>\n",
       "    <tr>\n",
       "      <th>29</th>\n",
       "      <td>379</td>\n",
       "      <td>106</td>\n",
       "      <td>10</td>\n",
       "      <td>38</td>\n",
       "      <td>60</td>\n",
       "      <td>30</td>\n",
       "      <td>14</td>\n",
       "      <td>6207</td>\n",
       "      <td>1906</td>\n",
       "      <td>146</td>\n",
       "      <td>859</td>\n",
       "      <td>803</td>\n",
       "      <td>571</td>\n",
       "      <td>1</td>\n",
       "      <td>1</td>\n",
       "      <td>72</td>\n",
       "      <td>170</td>\n",
       "      <td>24</td>\n",
       "      <td>0.466781</td>\n",
       "    </tr>\n",
       "    <tr>\n",
       "      <th>0</th>\n",
       "      <td>315</td>\n",
       "      <td>81</td>\n",
       "      <td>7</td>\n",
       "      <td>24</td>\n",
       "      <td>38</td>\n",
       "      <td>39</td>\n",
       "      <td>14</td>\n",
       "      <td>3449</td>\n",
       "      <td>835</td>\n",
       "      <td>69</td>\n",
       "      <td>321</td>\n",
       "      <td>414</td>\n",
       "      <td>375</td>\n",
       "      <td>1</td>\n",
       "      <td>1</td>\n",
       "      <td>632</td>\n",
       "      <td>43</td>\n",
       "      <td>10</td>\n",
       "      <td>0.427599</td>\n",
       "    </tr>\n",
       "    <tr>\n",
       "      <th>177</th>\n",
       "      <td>381</td>\n",
       "      <td>110</td>\n",
       "      <td>9</td>\n",
       "      <td>61</td>\n",
       "      <td>45</td>\n",
       "      <td>32</td>\n",
       "      <td>7</td>\n",
       "      <td>3015</td>\n",
       "      <td>834</td>\n",
       "      <td>40</td>\n",
       "      <td>451</td>\n",
       "      <td>249</td>\n",
       "      <td>168</td>\n",
       "      <td>1</td>\n",
       "      <td>0</td>\n",
       "      <td>228</td>\n",
       "      <td>7</td>\n",
       "      <td>5</td>\n",
       "      <td>0.462860</td>\n",
       "    </tr>\n",
       "    <tr>\n",
       "      <th>122</th>\n",
       "      <td>309</td>\n",
       "      <td>94</td>\n",
       "      <td>5</td>\n",
       "      <td>37</td>\n",
       "      <td>32</td>\n",
       "      <td>26</td>\n",
       "      <td>13</td>\n",
       "      <td>4618</td>\n",
       "      <td>1330</td>\n",
       "      <td>57</td>\n",
       "      <td>616</td>\n",
       "      <td>522</td>\n",
       "      <td>436</td>\n",
       "      <td>1</td>\n",
       "      <td>0</td>\n",
       "      <td>161</td>\n",
       "      <td>3</td>\n",
       "      <td>3</td>\n",
       "      <td>0.443756</td>\n",
       "    </tr>\n",
       "  </tbody>\n",
       "</table>\n",
       "</div>"
      ],
      "text/plain": [
       "     AtBat  Hits  HmRun  Runs  RBI  Walks  Years  CAtBat  CHits  CHmRun  \\\n",
       "228    528   122      1    67   45     51      4    1716    403      12   \n",
       "29     379   106     10    38   60     30     14    6207   1906     146   \n",
       "0      315    81      7    24   38     39     14    3449    835      69   \n",
       "177    381   110      9    61   45     32      7    3015    834      40   \n",
       "122    309    94      5    37   32     26     13    4618   1330      57   \n",
       "\n",
       "     CRuns  CRBI  CWalks  League  Division  PutOuts  Assists  Errors    Salary  \n",
       "228    211   146     155       0         1      209      372      17  0.405529  \n",
       "29     859   803     571       1         1       72      170      24  0.466781  \n",
       "0      321   414     375       1         1      632       43      10  0.427599  \n",
       "177    451   249     168       1         0      228        7       5  0.462860  \n",
       "122    616   522     436       1         0      161        3       3  0.443756  "
      ]
     },
     "metadata": {},
     "output_type": "display_data"
    },
    {
     "data": {
      "text/html": [
       "<div>\n",
       "<style scoped>\n",
       "    .dataframe tbody tr th:only-of-type {\n",
       "        vertical-align: middle;\n",
       "    }\n",
       "\n",
       "    .dataframe tbody tr th {\n",
       "        vertical-align: top;\n",
       "    }\n",
       "\n",
       "    .dataframe thead th {\n",
       "        text-align: right;\n",
       "    }\n",
       "</style>\n",
       "<table border=\"1\" class=\"dataframe\">\n",
       "  <thead>\n",
       "    <tr style=\"text-align: right;\">\n",
       "      <th></th>\n",
       "      <th>AtBat</th>\n",
       "      <th>Hits</th>\n",
       "      <th>HmRun</th>\n",
       "      <th>Runs</th>\n",
       "      <th>RBI</th>\n",
       "      <th>Walks</th>\n",
       "      <th>Years</th>\n",
       "      <th>CAtBat</th>\n",
       "      <th>CHits</th>\n",
       "      <th>CHmRun</th>\n",
       "      <th>CRuns</th>\n",
       "      <th>CRBI</th>\n",
       "      <th>CWalks</th>\n",
       "      <th>League</th>\n",
       "      <th>Division</th>\n",
       "      <th>PutOuts</th>\n",
       "      <th>Assists</th>\n",
       "      <th>Errors</th>\n",
       "      <th>Salary</th>\n",
       "    </tr>\n",
       "  </thead>\n",
       "  <tbody>\n",
       "    <tr>\n",
       "      <th>count</th>\n",
       "      <td>200.000000</td>\n",
       "      <td>200.00000</td>\n",
       "      <td>200.00000</td>\n",
       "      <td>200.000000</td>\n",
       "      <td>200.000000</td>\n",
       "      <td>200.000000</td>\n",
       "      <td>200.000000</td>\n",
       "      <td>200.000000</td>\n",
       "      <td>200.000000</td>\n",
       "      <td>200.000000</td>\n",
       "      <td>200.000000</td>\n",
       "      <td>200.000000</td>\n",
       "      <td>200.000000</td>\n",
       "      <td>200.00000</td>\n",
       "      <td>200.000000</td>\n",
       "      <td>200.000000</td>\n",
       "      <td>200.000000</td>\n",
       "      <td>200.000000</td>\n",
       "      <td>200.000000</td>\n",
       "    </tr>\n",
       "    <tr>\n",
       "      <th>mean</th>\n",
       "      <td>395.420000</td>\n",
       "      <td>105.71500</td>\n",
       "      <td>11.25000</td>\n",
       "      <td>53.895000</td>\n",
       "      <td>50.740000</td>\n",
       "      <td>40.915000</td>\n",
       "      <td>7.565000</td>\n",
       "      <td>2749.530000</td>\n",
       "      <td>749.845000</td>\n",
       "      <td>71.520000</td>\n",
       "      <td>373.160000</td>\n",
       "      <td>343.935000</td>\n",
       "      <td>270.195000</td>\n",
       "      <td>0.50500</td>\n",
       "      <td>0.515000</td>\n",
       "      <td>283.025000</td>\n",
       "      <td>114.260000</td>\n",
       "      <td>8.280000</td>\n",
       "      <td>0.406380</td>\n",
       "    </tr>\n",
       "    <tr>\n",
       "      <th>std</th>\n",
       "      <td>144.037661</td>\n",
       "      <td>44.52715</td>\n",
       "      <td>8.34781</td>\n",
       "      <td>25.252772</td>\n",
       "      <td>25.346293</td>\n",
       "      <td>22.446761</td>\n",
       "      <td>4.939409</td>\n",
       "      <td>2364.387587</td>\n",
       "      <td>674.196362</td>\n",
       "      <td>84.187811</td>\n",
       "      <td>341.374674</td>\n",
       "      <td>336.346466</td>\n",
       "      <td>272.990045</td>\n",
       "      <td>0.50123</td>\n",
       "      <td>0.501029</td>\n",
       "      <td>283.374434</td>\n",
       "      <td>141.788619</td>\n",
       "      <td>6.511806</td>\n",
       "      <td>0.066382</td>\n",
       "    </tr>\n",
       "    <tr>\n",
       "      <th>min</th>\n",
       "      <td>20.000000</td>\n",
       "      <td>1.00000</td>\n",
       "      <td>0.00000</td>\n",
       "      <td>0.000000</td>\n",
       "      <td>0.000000</td>\n",
       "      <td>0.000000</td>\n",
       "      <td>1.000000</td>\n",
       "      <td>41.000000</td>\n",
       "      <td>9.000000</td>\n",
       "      <td>0.000000</td>\n",
       "      <td>6.000000</td>\n",
       "      <td>7.000000</td>\n",
       "      <td>4.000000</td>\n",
       "      <td>0.00000</td>\n",
       "      <td>0.000000</td>\n",
       "      <td>0.000000</td>\n",
       "      <td>0.000000</td>\n",
       "      <td>0.000000</td>\n",
       "      <td>0.266019</td>\n",
       "    </tr>\n",
       "    <tr>\n",
       "      <th>25%</th>\n",
       "      <td>282.500000</td>\n",
       "      <td>70.00000</td>\n",
       "      <td>5.00000</td>\n",
       "      <td>32.750000</td>\n",
       "      <td>30.000000</td>\n",
       "      <td>22.000000</td>\n",
       "      <td>4.000000</td>\n",
       "      <td>824.500000</td>\n",
       "      <td>205.250000</td>\n",
       "      <td>15.750000</td>\n",
       "      <td>102.000000</td>\n",
       "      <td>93.750000</td>\n",
       "      <td>74.750000</td>\n",
       "      <td>0.00000</td>\n",
       "      <td>0.000000</td>\n",
       "      <td>114.750000</td>\n",
       "      <td>7.000000</td>\n",
       "      <td>3.000000</td>\n",
       "      <td>0.361402</td>\n",
       "    </tr>\n",
       "    <tr>\n",
       "      <th>50%</th>\n",
       "      <td>396.500000</td>\n",
       "      <td>102.00000</td>\n",
       "      <td>9.00000</td>\n",
       "      <td>50.000000</td>\n",
       "      <td>46.000000</td>\n",
       "      <td>36.000000</td>\n",
       "      <td>6.000000</td>\n",
       "      <td>2089.500000</td>\n",
       "      <td>543.500000</td>\n",
       "      <td>40.000000</td>\n",
       "      <td>275.500000</td>\n",
       "      <td>239.500000</td>\n",
       "      <td>177.000000</td>\n",
       "      <td>1.00000</td>\n",
       "      <td>1.000000</td>\n",
       "      <td>211.000000</td>\n",
       "      <td>44.000000</td>\n",
       "      <td>7.000000</td>\n",
       "      <td>0.419690</td>\n",
       "    </tr>\n",
       "    <tr>\n",
       "      <th>75%</th>\n",
       "      <td>511.250000</td>\n",
       "      <td>137.25000</td>\n",
       "      <td>17.00000</td>\n",
       "      <td>72.000000</td>\n",
       "      <td>70.250000</td>\n",
       "      <td>58.250000</td>\n",
       "      <td>11.000000</td>\n",
       "      <td>3926.500000</td>\n",
       "      <td>1068.750000</td>\n",
       "      <td>93.000000</td>\n",
       "      <td>507.000000</td>\n",
       "      <td>452.250000</td>\n",
       "      <td>351.750000</td>\n",
       "      <td>1.00000</td>\n",
       "      <td>1.000000</td>\n",
       "      <td>310.750000</td>\n",
       "      <td>179.000000</td>\n",
       "      <td>12.250000</td>\n",
       "      <td>0.458647</td>\n",
       "    </tr>\n",
       "    <tr>\n",
       "      <th>max</th>\n",
       "      <td>687.000000</td>\n",
       "      <td>238.00000</td>\n",
       "      <td>40.00000</td>\n",
       "      <td>117.000000</td>\n",
       "      <td>121.000000</td>\n",
       "      <td>105.000000</td>\n",
       "      <td>24.000000</td>\n",
       "      <td>14053.000000</td>\n",
       "      <td>4256.000000</td>\n",
       "      <td>548.000000</td>\n",
       "      <td>2165.000000</td>\n",
       "      <td>1659.000000</td>\n",
       "      <td>1566.000000</td>\n",
       "      <td>1.00000</td>\n",
       "      <td>1.000000</td>\n",
       "      <td>1377.000000</td>\n",
       "      <td>492.000000</td>\n",
       "      <td>32.000000</td>\n",
       "      <td>0.530319</td>\n",
       "    </tr>\n",
       "  </tbody>\n",
       "</table>\n",
       "</div>"
      ],
      "text/plain": [
       "            AtBat       Hits      HmRun        Runs         RBI       Walks  \\\n",
       "count  200.000000  200.00000  200.00000  200.000000  200.000000  200.000000   \n",
       "mean   395.420000  105.71500   11.25000   53.895000   50.740000   40.915000   \n",
       "std    144.037661   44.52715    8.34781   25.252772   25.346293   22.446761   \n",
       "min     20.000000    1.00000    0.00000    0.000000    0.000000    0.000000   \n",
       "25%    282.500000   70.00000    5.00000   32.750000   30.000000   22.000000   \n",
       "50%    396.500000  102.00000    9.00000   50.000000   46.000000   36.000000   \n",
       "75%    511.250000  137.25000   17.00000   72.000000   70.250000   58.250000   \n",
       "max    687.000000  238.00000   40.00000  117.000000  121.000000  105.000000   \n",
       "\n",
       "            Years        CAtBat        CHits      CHmRun        CRuns  \\\n",
       "count  200.000000    200.000000   200.000000  200.000000   200.000000   \n",
       "mean     7.565000   2749.530000   749.845000   71.520000   373.160000   \n",
       "std      4.939409   2364.387587   674.196362   84.187811   341.374674   \n",
       "min      1.000000     41.000000     9.000000    0.000000     6.000000   \n",
       "25%      4.000000    824.500000   205.250000   15.750000   102.000000   \n",
       "50%      6.000000   2089.500000   543.500000   40.000000   275.500000   \n",
       "75%     11.000000   3926.500000  1068.750000   93.000000   507.000000   \n",
       "max     24.000000  14053.000000  4256.000000  548.000000  2165.000000   \n",
       "\n",
       "              CRBI       CWalks     League    Division      PutOuts  \\\n",
       "count   200.000000   200.000000  200.00000  200.000000   200.000000   \n",
       "mean    343.935000   270.195000    0.50500    0.515000   283.025000   \n",
       "std     336.346466   272.990045    0.50123    0.501029   283.374434   \n",
       "min       7.000000     4.000000    0.00000    0.000000     0.000000   \n",
       "25%      93.750000    74.750000    0.00000    0.000000   114.750000   \n",
       "50%     239.500000   177.000000    1.00000    1.000000   211.000000   \n",
       "75%     452.250000   351.750000    1.00000    1.000000   310.750000   \n",
       "max    1659.000000  1566.000000    1.00000    1.000000  1377.000000   \n",
       "\n",
       "          Assists      Errors      Salary  \n",
       "count  200.000000  200.000000  200.000000  \n",
       "mean   114.260000    8.280000    0.406380  \n",
       "std    141.788619    6.511806    0.066382  \n",
       "min      0.000000    0.000000    0.266019  \n",
       "25%      7.000000    3.000000    0.361402  \n",
       "50%     44.000000    7.000000    0.419690  \n",
       "75%    179.000000   12.250000    0.458647  \n",
       "max    492.000000   32.000000    0.530319  "
      ]
     },
     "metadata": {},
     "output_type": "display_data"
    }
   ],
   "source": [
    "display(Hitters_nonTest.head())\n",
    "display(Hitters_nonTest.describe())"
   ]
  },
  {
   "cell_type": "code",
   "execution_count": 198,
   "metadata": {},
   "outputs": [
    {
     "data": {
      "image/png": "[encoded data removed]",
      "text/plain": [
       "<Figure size 720x720 with 2 Axes>"
      ]
     },
     "metadata": {
      "needs_background": "light"
     },
     "output_type": "display_data"
    }
   ],
   "source": [
    "fig = plt.figure(figsize=(10,10))\n",
    "\n",
    "g = sns.heatmap(Hitters_nonTest.corr(), xticklabels=Hitters_nonTest.columns,\n",
    "        yticklabels=Hitters_nonTest.columns)\n",
    "plt.show()"
   ]
  },
  {
   "cell_type": "markdown",
   "metadata": {},
   "source": [
    "## STEP 4.\n",
    "Using what you saw during your exploration, make a prediction about your expectations on the performance of the random forest with respect to hyper parameter settings maximum tree depth (max_depth), and the number of features to consider at each split (max_features).  Explain your rationale for your performance expectations."
   ]
  },
  {
   "cell_type": "markdown",
   "metadata": {},
   "source": [
    "# Train the model & Tune Hyperparameters using Cross-Validation"
   ]
  },
  {
   "cell_type": "markdown",
   "metadata": {},
   "source": [
    "## STEP 5.\n",
    "Using sklearn k-fold split (sklearn.model_selection.KFold), write code to set up a k-fold cross-validation with the goal of choosing the best hyperparameters for a random forest model (sklearn.ensemble.RandomForestRegressor)     Select and provide rationale for your choice for n_splits based on amount of data you have available in the non-test set.  Your goal is to determine the best combination of two parameters: maximum tree depth (max_depth), and the number of features to consider at each split (max_features).   The hyperparameter  max_depth of the trees should include integer values from 1 to 20, and your exploration over max_features should include values from 1 to p (all features).  You can decide whether to fix the number of trees (n_estimators) or include it as a third hyperparameter to explore (it should start with at least 100 but you may want to explore higher values if you will tune this hyperparameter with cross-validation) – then explain whether you are selecting a specific value or tuning this value with cross validation.   Since you will use a cross-validation wrapper to tune hyperparameters, set oob_score to False in the initialization call to RandomForestRegressor.   For each tuple of (max_depth, max_features), compute and collect the mean k-fold cross-validation MSE using predict().  "
   ]
  },
  {
   "cell_type": "code",
   "execution_count": 199,
   "metadata": {},
   "outputs": [],
   "source": [
    "\"\"\"\n",
    "    This function calculates the KFold Cross Validation MSE on a randomForest regressor\n",
    "    Returns: MSE\n",
    "\"\"\"\n",
    "def calc_rf_cv_mse(kf, X, y, num_estimators, max_depth, max_features, seed):\n",
    "    rf = RFR(n_estimators=num_estimators, max_depth=d, max_features=p, random_state=seed, oob_score=False)\n",
    "    avg_mse = []\n",
    "    for train, val in kf.split(X, y):\n",
    "        rf.fit(X[train], y[train]) # Fit on train folds\n",
    "        y_pred = rf.predict(X[val])# Predicted values on val fold\n",
    "        mse = MSE(y[val], y_pred)  # Calc MSE\n",
    "        avg_mse.append(mse)        # Append to list \n",
    "    avg_mse = np.array(avg_mse)    \n",
    "    return avg_mse.mean()"
   ]
  },
  {
   "cell_type": "markdown",
   "metadata": {},
   "source": [
    "### K-fold size decision\n",
    "We use $k=5$ for the $k$ hyperparameter. Since the nontest set has 200 observations, each fold will have 40 observations. Since we have close to 20 features, 40 observations will hopefully not be as prone to overfitting as fold sizes of 20 would be if we used $k=10$."
   ]
  },
  {
   "cell_type": "code",
   "execution_count": 249,
   "metadata": {},
   "outputs": [],
   "source": [
    "# Split truth values from rest of df\n",
    "y_nonTest = Hitters_nonTest['Salary']\n",
    "Hitters_nonTest = Hitters_nonTest.drop(['Salary'], axis=1)"
   ]
  },
  {
   "cell_type": "code",
   "execution_count": 201,
   "metadata": {},
   "outputs": [],
   "source": [
    "# Use K = 5 here. We have 200 observations in nontest so 40 points per fold\n",
    "kfold = KFold(n_splits=5, random_state=1)\n",
    "rf_mse_list = np.zeros((20, len(Hitters_nonTest.columns)))\n",
    "max_feat_list = []\n",
    "max_depth_list = []\n",
    "\n",
    "# Convert to numPy array for KFold\n",
    "y_nonTest = np.array(y_nonTest)\n",
    "X_nonTest = np.array(Hitters_nonTest)\n",
    "\n",
    "for d in range(1,20+1):\n",
    "    mse = []\n",
    "    for p in range(1,len(Hitters_nonTest.columns)+1):\n",
    "        rf_mse_list[d-1,p-1] = calc_rf_cv_mse(kfold, X_nonTest, y_nonTest, 100, d, p, 42)"
   ]
  },
  {
   "cell_type": "code",
   "execution_count": null,
   "metadata": {},
   "outputs": [],
   "source": []
  },
  {
   "cell_type": "code",
   "execution_count": 202,
   "metadata": {},
   "outputs": [
    {
     "name": "stdout",
     "output_type": "stream",
     "text": [
      "[[0.00261079 0.00180789 0.00165303 0.00159453 0.00159534 0.00158725\n",
      "  0.0016059  0.00161194 0.00161113 0.00162076 0.0016297  0.00163455\n",
      "  0.00163412 0.00163385 0.00163797 0.00163735 0.00164018 0.00163548]\n",
      " [0.00186739 0.00133679 0.0012637  0.00125506 0.00126767 0.00126612\n",
      "  0.0012852  0.00128164 0.00129072 0.00127979 0.00129542 0.00129841\n",
      "  0.00130912 0.00130748 0.0013053  0.0012991  0.00130012 0.00130883]\n",
      " [0.00150694 0.00116014 0.0011236  0.00110832 0.00111416 0.00113988\n",
      "  0.00113693 0.00113669 0.00112833 0.00116137 0.00115035 0.0011683\n",
      "  0.00119191 0.00118768 0.00117596 0.00118151 0.00118513 0.00118563]\n",
      " [0.00129802 0.00111031 0.00108397 0.0011025  0.00111249 0.00111609\n",
      "  0.00112271 0.00111921 0.00111422 0.00112866 0.00116079 0.00115562\n",
      "  0.00115069 0.00115432 0.001147   0.00114983 0.00114309 0.00115997]\n",
      " [0.00121071 0.00107979 0.00106508 0.00109388 0.00112451 0.00112198\n",
      "  0.00111292 0.00111624 0.00112423 0.00114742 0.00112952 0.00114804\n",
      "  0.00114009 0.00114124 0.00115036 0.00114673 0.00114512 0.00115679]\n",
      " [0.00119738 0.00111531 0.00106874 0.00108104 0.00109565 0.0010723\n",
      "  0.00111076 0.00113284 0.00112329 0.00113586 0.00115725 0.00114707\n",
      "  0.0011541  0.00116261 0.00113837 0.0011451  0.00116417 0.00115212]\n",
      " [0.00116193 0.00107823 0.00105304 0.0010978  0.0010991  0.00111059\n",
      "  0.00109731 0.0011341  0.00109665 0.00110045 0.0011313  0.00113997\n",
      "  0.0011299  0.00112973 0.00114291 0.00114208 0.00114391 0.00115462]\n",
      " [0.00113299 0.00108145 0.00104341 0.00105735 0.00111096 0.00110229\n",
      "  0.00108521 0.00113458 0.00112691 0.00111891 0.00112113 0.00112186\n",
      "  0.00112391 0.0011334  0.00115479 0.00114586 0.00115317 0.00115959]\n",
      " [0.00114984 0.00108679 0.00105884 0.00110402 0.00110909 0.00111566\n",
      "  0.00112799 0.0011411  0.00111233 0.00112155 0.00113085 0.00116134\n",
      "  0.00113491 0.00113346 0.00114325 0.00111914 0.00114774 0.00115828]\n",
      " [0.0011589  0.00107816 0.00105669 0.0010672  0.00110686 0.00112325\n",
      "  0.00111238 0.0011287  0.00109586 0.00112205 0.0011268  0.0011309\n",
      "  0.00113629 0.00112967 0.00114422 0.00113628 0.00114029 0.00116976]\n",
      " [0.00116909 0.00109632 0.00105363 0.00107567 0.00109818 0.00111344\n",
      "  0.00110626 0.00111834 0.00110346 0.00112075 0.00111889 0.00112536\n",
      "  0.00114048 0.00111483 0.00113435 0.00114012 0.00114369 0.0011672 ]\n",
      " [0.00117303 0.00109376 0.00106785 0.00108011 0.0010945  0.00112759\n",
      "  0.00110435 0.00112356 0.00109997 0.0011197  0.00111651 0.0011353\n",
      "  0.00115156 0.00112379 0.0011459  0.00114093 0.00114077 0.00116503]\n",
      " [0.00115069 0.00109159 0.00106871 0.00107478 0.0011025  0.00112011\n",
      "  0.00110482 0.00111376 0.00109964 0.00112232 0.00112131 0.00113528\n",
      "  0.00115405 0.00111867 0.00114143 0.00114288 0.00113852 0.00116383]\n",
      " [0.00115652 0.00108902 0.00106085 0.00107643 0.00110811 0.00112031\n",
      "  0.00110106 0.00111669 0.00109795 0.00111882 0.00112064 0.00113345\n",
      "  0.00115384 0.00111701 0.00113635 0.00114096 0.00114524 0.00116214]\n",
      " [0.00115629 0.00108745 0.00106378 0.00107989 0.0011033  0.00112372\n",
      "  0.00110438 0.00111944 0.00110215 0.00111845 0.00112156 0.00113468\n",
      "  0.00115168 0.0011177  0.00113741 0.0011384  0.00114421 0.00116447]\n",
      " [0.00115524 0.00109096 0.00106199 0.00107896 0.00110792 0.00112484\n",
      "  0.00110548 0.00112195 0.00110354 0.00111751 0.00112318 0.0011322\n",
      "  0.00115178 0.00111641 0.00113897 0.00113899 0.00114435 0.00116262]\n",
      " [0.0011569  0.00109017 0.00106201 0.00107973 0.00110788 0.00112297\n",
      "  0.0011054  0.00112114 0.00110283 0.00111773 0.00112411 0.00113267\n",
      "  0.0011521  0.00111796 0.00113849 0.00113814 0.001144   0.00116254]\n",
      " [0.00115507 0.00109072 0.00106222 0.00108017 0.00110839 0.00112308\n",
      "  0.00110497 0.00112163 0.00110327 0.00111818 0.001124   0.00113229\n",
      "  0.0011523  0.00111795 0.00113906 0.00113834 0.00114445 0.00116336]\n",
      " [0.00115511 0.0010907  0.00106221 0.00108029 0.00110886 0.00112324\n",
      "  0.00110489 0.00112138 0.00110304 0.00111818 0.00112396 0.00113252\n",
      "  0.00115226 0.00111794 0.00113904 0.00113839 0.00114416 0.00116322]\n",
      " [0.00115494 0.00109071 0.00106183 0.0010799  0.00110886 0.00112324\n",
      "  0.00110489 0.00112169 0.00110304 0.00111818 0.00112424 0.00113212\n",
      "  0.00115252 0.00111782 0.00113898 0.00113839 0.00114439 0.00116361]]\n"
     ]
    }
   ],
   "source": [
    "print(rf_mse_list)"
   ]
  },
  {
   "cell_type": "markdown",
   "metadata": {},
   "source": [
    "## STEP 6. \n",
    "Provide convincing visual evidence of the validation MSE performance (from step 5) as a function of max_features and max_depth (and n_estimators if you chose to tune it).    A good way to do this is to plot the error on a graph as a function of the two dimensions max_depth and max_features.  Contour maps work here."
   ]
  },
  {
   "cell_type": "code",
   "execution_count": 250,
   "metadata": {},
   "outputs": [
    {
     "data": {
      "image/png": "[encoded data removed]",
      "text/plain": [
       "<Figure size 576x576 with 2 Axes>"
      ]
     },
     "metadata": {
      "needs_background": "light"
     },
     "output_type": "display_data"
    }
   ],
   "source": [
    "max_depth_list = np.arange(1,21,1)\n",
    "max_feat_list = np.arange(1,len(Hitters_nonTest.columns)+1,1)\n",
    "fig_contour = plt.figure(figsize=(8,8))\n",
    "ax = plt.contourf(max_feat_list, max_depth_list, rf_mse_list)\n",
    "cbar = fig_contour.colorbar(ax)\n",
    "plt.xlabel(\"max_features\")\n",
    "plt.ylabel(\"max_depth\")\n",
    "plt.title(\"Contour Plot of max_features vs. max_depth vs log(Avg Cross-Validation MSE)\")\n",
    "plt.show()"
   ]
  },
  {
   "cell_type": "markdown",
   "metadata": {},
   "source": [
    "## STEP 7.\n",
    "Using code, determine, display visually, and report the values of these parameters with the lowest MSE.  Discuss the minimum value of max_features in light of the random forest recommendation for max_features: sqrt(p) or p/3.  Did your result agree with the general guidance on max features?"
   ]
  },
  {
   "cell_type": "code",
   "execution_count": 251,
   "metadata": {},
   "outputs": [
    {
     "data": {
      "text/markdown": [
       "Number of features for minimum MSE: 8"
      ],
      "text/plain": [
       "<IPython.core.display.Markdown object>"
      ]
     },
     "metadata": {},
     "output_type": "display_data"
    },
    {
     "data": {
      "text/markdown": [
       "Max_depth for minimum MSE: 3"
      ],
      "text/plain": [
       "<IPython.core.display.Markdown object>"
      ]
     },
     "metadata": {},
     "output_type": "display_data"
    },
    {
     "data": {
      "text/markdown": [
       "Minimum MSE: 0.001043"
      ],
      "text/plain": [
       "<IPython.core.display.Markdown object>"
      ]
     },
     "metadata": {},
     "output_type": "display_data"
    },
    {
     "data": {
      "text/markdown": [
       "Number of Features, $m$=18"
      ],
      "text/plain": [
       "<IPython.core.display.Markdown object>"
      ]
     },
     "metadata": {},
     "output_type": "display_data"
    },
    {
     "data": {
      "text/markdown": [
       "$\\frac{m}{3} = 6$"
      ],
      "text/plain": [
       "<IPython.core.display.Markdown object>"
      ]
     },
     "metadata": {},
     "output_type": "display_data"
    },
    {
     "data": {
      "text/markdown": [
       "$\\sqrt{m} = 4.24264$"
      ],
      "text/plain": [
       "<IPython.core.display.Markdown object>"
      ]
     },
     "metadata": {},
     "output_type": "display_data"
    }
   ],
   "source": [
    "# Columns are the number of features, rows is max_depth\n",
    "min_inds = np.unravel_index(np.argmin(rf_mse_list, axis=None), rf_mse_list.shape)\n",
    "\n",
    "display(md(\"Number of features for minimum MSE: {}\".format(min_inds[0]+1)))\n",
    "display(md(\"Max_depth for minimum MSE: {}\".format(min_inds[1]+1)))\n",
    "display(md(\"Minimum MSE: {:5f}\".format(rf_mse_list[min_inds])))\n",
    "\n",
    "display(md(r\"Number of Features, $m$={}\".format(len(Hitters_nonTest.columns))))\n",
    "display(md(r\"$\\frac{m}{3} = %d$\" %(len(Hitters_nonTest.columns)/3)))\n",
    "display(md(r\"$\\sqrt{m} = %.5f$\" %np.sqrt(len(Hitters_nonTest.columns))))"
   ]
  },
  {
   "cell_type": "code",
   "execution_count": 252,
   "metadata": {},
   "outputs": [
    {
     "name": "stdout",
     "output_type": "stream",
     "text": [
      "[ 7  9  7  7 11  5  7 12  9  6 11  7  7 10 10  8 12  5]\n",
      "[5 3 3 2 2 2 2 2 2 2 2 2 2 2 2 2 2 2 2 2]\n",
      "7 ,  2\n"
     ]
    }
   ],
   "source": [
    "min_mse = 100\n",
    "min_depth = 0\n",
    "min_feat = 0\n",
    "\n",
    "\n",
    "print(np.argmin(rf_mse_list, axis=0))\n",
    "print(np.argmin(rf_mse_list, axis=1))\n",
    "\n",
    "for i in range(0,20):\n",
    "    for j in range(18):\n",
    "        if rf_mse_list[i,j] < min_mse:\n",
    "            min_mse = rf_mse_list[i,j]\n",
    "            min_depth = i\n",
    "            min_feat = j\n",
    "            \n",
    "print(min_depth,\", \",min_feat)\n",
    "    \n"
   ]
  },
  {
   "cell_type": "markdown",
   "metadata": {},
   "source": [
    "## STEP 8.\n",
    "Using the best values of  max_features and max_depth found with MSE, fit a new RandomForestRegressor model trained on all the non-test data."
   ]
  },
  {
   "cell_type": "code",
   "execution_count": 206,
   "metadata": {},
   "outputs": [
    {
     "data": {
      "text/plain": [
       "RandomForestRegressor(bootstrap=True, criterion='mse', max_depth=7,\n",
       "           max_features=2, max_leaf_nodes=None, min_impurity_decrease=0.0,\n",
       "           min_impurity_split=None, min_samples_leaf=1,\n",
       "           min_samples_split=2, min_weight_fraction_leaf=0.0,\n",
       "           n_estimators=100, n_jobs=None, oob_score=False, random_state=42,\n",
       "           verbose=0, warm_start=False)"
      ]
     },
     "execution_count": 206,
     "metadata": {},
     "output_type": "execute_result"
    }
   ],
   "source": [
    "max_depth_min = min_inds[0]\n",
    "max_features_min = min_inds[1]\n",
    "\n",
    "rf_min_mse = RFR(n_estimators=100,max_depth=max_depth_min, max_features=max_features_min,random_state=42)\n",
    "# Fit model on all non-test data\n",
    "rf_min_mse.fit(Hitters_nonTest, y_nonTest) "
   ]
  },
  {
   "cell_type": "markdown",
   "metadata": {},
   "source": [
    "# Reporting performance on the Test Set"
   ]
  },
  {
   "cell_type": "markdown",
   "metadata": {},
   "source": [
    "## STEP 9.\n",
    "Using code, determine and report the quality of the model for predicting salary on the sequestered test set.  Don’t forget to handle the log transformation you did in data preprocessing – your performance values should be based on real dollars (not log-transformed dollars).  "
   ]
  },
  {
   "cell_type": "code",
   "execution_count": 253,
   "metadata": {},
   "outputs": [],
   "source": [
    "# Split truth values from rest of df\n",
    "y_test_actual = np.array(Hitters_test['Salary'])\n",
    "Hitters_test = Hitters_test.drop(['Salary'], axis=1)"
   ]
  },
  {
   "cell_type": "code",
   "execution_count": 254,
   "metadata": {},
   "outputs": [],
   "source": [
    "# Transform Salary back to original values\n",
    "y_test_actual = salary_untransform(y_test_actual)\n",
    "\n",
    "# Predict performance on test set\n",
    "y_test_pred = rf_min_mse.predict(Hitters_test)\n",
    "y_test_pred = salary_untransform(y_test_pred)\n",
    "\n",
    "# Calculate Test MSE & Residuals\n",
    "residuals_test = y_test_pred - y_test_actual # predicted - actual keeps the convention of positive --> overprediction and negative --> underprediction\n",
    "test_mse = MSE(y_test_actual, y_test_pred)"
   ]
  },
  {
   "cell_type": "code",
   "execution_count": 255,
   "metadata": {},
   "outputs": [
    {
     "name": "stdout",
     "output_type": "stream",
     "text": [
      "[2.65175156 2.52933715 2.86531799 2.31936041 2.29404497 2.21736954\n",
      " 2.63677447 1.93147146 2.87591351 2.53949668 2.05843934 3.03368216\n",
      " 2.59948216 2.94274345 2.90505199 1.92268474 2.93882683 2.69961476\n",
      " 2.64053449 2.34009316 2.29656986 2.35267238 2.73692277 2.24774351\n",
      " 2.04867351 2.30448266 2.98537591 2.8142658  2.86937314 2.76432441\n",
      " 2.80225498 2.63090729 2.75564478 2.53654159 2.89784752 2.70818617\n",
      " 2.83832761 2.73209643 2.24784603 2.96695936 1.96934172 2.41771851\n",
      " 2.69627923 2.74915961 2.72182183 2.95473744 1.94307003 2.11475536\n",
      " 2.70680267 2.34719172 1.94017754 2.03662787 2.90441882 2.79841195\n",
      " 2.41381477 2.8327709  2.63503922 2.45378036 2.42086894 2.55963194\n",
      " 2.99110847 2.29902551 2.66673449]\n",
      "[2.69897    2.84509804 2.84509804 2.32221929 2.0211893  2.21748394\n",
      " 2.67669361 1.83250891 2.87506126 2.30103    2.07918125 3.26985371\n",
      " 2.65321251 3.13033377 3.         1.84509804 3.00360398 2.87506126\n",
      " 2.96378783 2.20411998 2.26717173 2.33243846 2.72835378 2.24303805\n",
      " 2.07918125 2.21748394 3.2787536  2.76342799 2.86530123 2.51188336\n",
      " 3.         2.60205999 2.78710609 2.47712125 3.07918125 2.65321251\n",
      " 2.30103    3.28780173 2.17609126 2.95424251 2.         2.24303805\n",
      " 2.96614173 2.91645395 2.87506126 3.07003787 1.95424251 1.94200805\n",
      " 2.56229286 2.4573777  1.82930377 2.06069784 2.44326299 2.\n",
      " 2.28103337 2.77815125 3.11394335 2.38916608 2.48429984 2.39794001\n",
      " 3.22271647 2.3935752  2.74036269]\n",
      "[-4.72184433e-02 -3.15760892e-01  2.02199500e-02 -2.85888402e-03\n",
      "  2.72855667e-01 -1.14400101e-04 -3.99191408e-02  9.89625511e-02\n",
      "  8.52245232e-04  2.38466688e-01 -2.07419107e-02 -2.36171548e-01\n",
      " -5.37303497e-02 -1.87590314e-01 -9.49480103e-02  7.75867011e-02\n",
      " -6.47771531e-02 -1.75446501e-01 -3.23253340e-01  1.35973176e-01\n",
      "  2.93981355e-02  2.02339214e-02  8.56898747e-03  4.70545932e-03\n",
      " -3.05077384e-02  8.69987159e-02 -2.93377689e-01  5.08378044e-02\n",
      "  4.07190930e-03  2.52441051e-01 -1.97745017e-01  2.88472999e-02\n",
      " -3.14613146e-02  5.94203345e-02 -1.81333721e-01  5.49736568e-02\n",
      "  5.37297610e-01 -5.55705302e-01  7.17547697e-02  1.27168506e-02\n",
      " -3.06582849e-02  1.74680459e-01 -2.69862503e-01 -1.67294338e-01\n",
      " -1.53239438e-01 -1.15300425e-01 -1.11724748e-02  1.72747309e-01\n",
      "  1.44509808e-01 -1.10185979e-01  1.10873771e-01 -2.40699679e-02\n",
      "  4.61155833e-01  7.98411948e-01  1.32781406e-01  5.46196523e-02\n",
      " -4.78904134e-01  6.46142771e-02 -6.34308963e-02  1.61691934e-01\n",
      " -2.31607998e-01 -9.45496934e-02 -7.36281969e-02]\n"
     ]
    }
   ],
   "source": [
    "print(y_test_pred)\n",
    "print(y_test_actual)\n",
    "print(residuals_test)"
   ]
  },
  {
   "cell_type": "markdown",
   "metadata": {},
   "source": [
    "## STEP 10.\n",
    "Develop a scatterplot of the regression residuals:  The figure’s x axis expresses the true dollar amount of salary, the figure’s y axis represents the prediction error (positive values mean overprediction, negative values mean underprediction, and y=0 would mean correct prediction).   Discuss these residuals.  Are they evenly distributed about y=0 through the range of possible true salaries?  Do you see any patterns which would suggest true salaries for which prediction would be poor?"
   ]
  },
  {
   "cell_type": "code",
   "execution_count": 266,
   "metadata": {},
   "outputs": [
    {
     "data": {
      "image/png": "[encoded data removed]",
      "text/plain": [
       "<Figure size 432x432 with 1 Axes>"
      ]
     },
     "metadata": {
      "needs_background": "light"
     },
     "output_type": "display_data"
    }
   ],
   "source": [
    "fig_res = plt.figure(figsize=(6,6))\n",
    "sns.residplot(y_test_actual,residuals_test)\n",
    "plt.xlabel(\"Salary in Thousands of Dollars\")\n",
    "plt.ylabel(\"Residual Error in Predicted Salary and Actual Salary\")\n",
    "plt.title(\"Residual Plot of Predicted Salary vs. Actual Salary\")\n",
    "plt.show()"
   ]
  },
  {
   "cell_type": "markdown",
   "metadata": {},
   "source": [
    "### Residual Interpretation\n",
    "Examining the residuals, we see that they are pretty much evenly spread within about $|0.2|$ of the $y=0$ line. There are a few points that are higher than that on the positive side, with one over 0.6. Given this even spread, the model should predict future salaries pretty well since they are all evenly spread and there is no pattern to the residuals."
   ]
  },
  {
   "cell_type": "markdown",
   "metadata": {},
   "source": [
    "## STEP 11.\n",
    "Using the model, report on variable importance - which variables appear to be the most important predictors in the model?  Using the sklearn feature_importance_ attribute of the best fitted model, provide numerical and visual evidence to support your answer (make sure to sort your outputs by feature importance)."
   ]
  },
  {
   "cell_type": "code",
   "execution_count": 267,
   "metadata": {},
   "outputs": [
    {
     "name": "stdout",
     "output_type": "stream",
     "text": [
      "[0.03817288 0.03954538 0.02373414 0.03539505 0.05350952 0.03426543\n",
      " 0.07277117 0.13411401 0.15281176 0.0689522  0.10688857 0.12288099\n",
      " 0.06785144 0.00244229 0.00283136 0.01866836 0.01455966 0.01060577]\n"
     ]
    }
   ],
   "source": [
    "print(rf_min_mse.feature_importances_)"
   ]
  },
  {
   "cell_type": "code",
   "execution_count": null,
   "metadata": {},
   "outputs": [],
   "source": []
  }
 ],
 "metadata": {
  "anaconda-cloud": {},
  "kernelspec": {
   "display_name": "Python 3",
   "language": "python",
   "name": "python3"
  },
  "language_info": {
   "codemirror_mode": {
    "name": "ipython",
    "version": 3
   },
   "file_extension": ".py",
   "mimetype": "text/x-python",
   "name": "python",
   "nbconvert_exporter": "python",
   "pygments_lexer": "ipython3",
   "version": "3.7.2"
  },
  "varInspector": {
   "cols": {
    "lenName": 16,
    "lenType": 16,
    "lenVar": 40
   },
   "kernels_config": {
    "python": {
     "delete_cmd_postfix": "",
     "delete_cmd_prefix": "del ",
     "library": "var_list.py",
     "varRefreshCmd": "print(var_dic_list())"
    },
    "r": {
     "delete_cmd_postfix": ") ",
     "delete_cmd_prefix": "rm(",
     "library": "var_list.r",
     "varRefreshCmd": "cat(var_dic_list()) "
    }
   },
   "oldHeight": 477.4,
   "position": {
    "height": "214px",
    "left": "1014.2px",
    "right": "20px",
    "top": "121px",
    "width": "623px"
   },
   "types_to_exclude": [
    "module",
    "function",
    "builtin_function_or_method",
    "instance",
    "_Feature"
   ],
   "varInspector_section_display": "none",
   "window_display": false
  }
 },
 "nbformat": 4,
 "nbformat_minor": 2
}
