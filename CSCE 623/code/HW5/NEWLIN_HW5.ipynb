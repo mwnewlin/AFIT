{
 "cells": [
  {
   "cell_type": "markdown",
   "metadata": {},
   "source": [
    "# CSCE 623 Homework Assignment 5\n",
    "## Student Name: Marvin Newlin\n",
    "## Date: 21 May 19\n"
   ]
  },
  {
   "cell_type": "code",
   "execution_count": 103,
   "metadata": {
    "collapsed": true
   },
   "outputs": [],
   "source": [
    "import numpy as np\n",
    "import pandas as pd\n",
    "import seaborn as sns\n",
    "import matplotlib.pyplot as plt\n",
    "from matplotlib.ticker import MaxNLocator\n",
    "\n",
    "from sklearn.model_selection import train_test_split, KFold\n",
    "\n",
    "from sklearn.ensemble import RandomForestRegressor as RFR\n",
    "from sklearn.metrics import mean_squared_error as MSE\n",
    "%matplotlib inline\n",
    "\n",
    "from IPython.display import Markdown as md  #enable markdown within code cell\n",
    "from IPython.display import display, Math, Latex"
   ]
  },
  {
   "cell_type": "code",
   "execution_count": 104,
   "metadata": {},
   "outputs": [],
   "source": [
    "# Load and Preprocess the data"
   ]
  },
  {
   "cell_type": "markdown",
   "metadata": {},
   "source": [
    "## STEP 0. \n",
    "(instructor provided) Load the ILSR_hitters.csv dataset.  Remove the observations for whom the salary information is unknown, and then "
   ]
  },
  {
   "cell_type": "code",
   "execution_count": 105,
   "metadata": {
    "collapsed": true
   },
   "outputs": [],
   "source": [
    "# STEP 0  - Load data & convert categorical features - instructor provided code\n",
    "\n",
    "state = 1  #random seed\n",
    "Hitters = pd.read_csv('ISLR_Hitters.csv',index_col=0)\n",
    "Hitters = Hitters.dropna(how='any')\n",
    "Hitters = Hitters.reset_index()\n",
    "\n",
    "Hitters = Hitters.drop(['index'],axis=1)\n",
    "Hitters['League'] = Hitters['League'].map({'A': 0, 'N': 1})\n",
    "Hitters['Division'] = Hitters['Division'].map({'E': 0, 'W': 1})\n",
    "Hitters = Hitters.drop(['NewLeague'],axis=1)\n"
   ]
  },
  {
   "cell_type": "markdown",
   "metadata": {},
   "source": [
    "## STEP 1.  \n",
    "Log-transform the salaries (salaries listed are in $1000’s).  Note that you will need to account for this log-transformation when presenting your results (transform your precisions, loss, MSE, improvement, etc. back to real salary dollars when possible)"
   ]
  },
  {
   "cell_type": "code",
   "execution_count": 106,
   "metadata": {
    "collapsed": false
   },
   "outputs": [
    {
     "name": "stdout",
     "output_type": "stream",
     "text": [
      "0    475.0\n",
      "1    480.0\n",
      "2    500.0\n",
      "Name: Salary, dtype: float64\n",
      "0    2.676694\n",
      "1    2.681241\n",
      "2    2.698970\n",
      "Name: Salary, dtype: float64\n"
     ]
    }
   ],
   "source": [
    "#STEP1 \n",
    "\n",
    "# helper functions for transformation\n",
    "# the transformed salary should work better for model fitting\n",
    "def salary_transform(salary):\n",
    "    transformed_salary = salary\n",
    "    transformed_salary = np.log10(transformed_salary) # Takes the log base 10 of each element\n",
    "    return transformed_salary\n",
    "\n",
    "# the untransformed salary is needed for test set performance reporting and residuals analysis\n",
    "def salary_untransform(transformed_salary):\n",
    "    salary = np.power(10, transformed_salary)  # raises 10 to the power of each element to undo the log\n",
    "    \n",
    "    return salary\n",
    "\n",
    "#transform the salary\n",
    "print(Hitters['Salary'][:3])\n",
    "Hitters['Salary'] = salary_transform(Hitters.Salary)\n",
    "print(Hitters['Salary'][:3])\n",
    "# note that this block will give an error until the salary component is filled out"
   ]
  },
  {
   "cell_type": "markdown",
   "metadata": {},
   "source": [
    "# STEP 2.\n",
    "(Code Provided) Using sklearn.model_selection.train_test_split with random_state = 1,  create a “non-test” set consisting of 200 observations and a test set consisting of the remaining observations.  Sequester the test set until  the performance reporting steps (9-11)."
   ]
  },
  {
   "cell_type": "code",
   "execution_count": 107,
   "metadata": {
    "collapsed": false
   },
   "outputs": [
    {
     "name": "stderr",
     "output_type": "stream",
     "text": [
      "/home/mnewlin/anaconda3/lib/python3.7/site-packages/sklearn/model_selection/_split.py:2179: FutureWarning: From version 0.21, test_size will always complement train_size unless both are specified.\n",
      "  FutureWarning)\n"
     ]
    }
   ],
   "source": [
    "Hitters_nonTest, Hitters_test = train_test_split(Hitters, train_size = 200, random_state=1)\n"
   ]
  },
  {
   "cell_type": "markdown",
   "metadata": {},
   "source": [
    "# Explore the data & make hypotheses"
   ]
  },
  {
   "cell_type": "markdown",
   "metadata": {},
   "source": [
    "## STEP 3.\n",
    "Explore the data.  Use plots and discuss relationships between available features and Salary.  Consider using the seaborn package to facilitate your exploration – for example, make a heatmap plot of the correlation between each pair of features to help you decide which pairs of features to explore further with pairs plots or scatterplots.  Make at least one hypothesis about which features will be useful in predicting salary.  "
   ]
  },
  {
   "cell_type": "code",
   "execution_count": 108,
   "metadata": {},
   "outputs": [
    {
     "data": {
      "text/html": [
       "<div>\n",
       "<style scoped>\n",
       "    .dataframe tbody tr th:only-of-type {\n",
       "        vertical-align: middle;\n",
       "    }\n",
       "\n",
       "    .dataframe tbody tr th {\n",
       "        vertical-align: top;\n",
       "    }\n",
       "\n",
       "    .dataframe thead th {\n",
       "        text-align: right;\n",
       "    }\n",
       "</style>\n",
       "<table border=\"1\" class=\"dataframe\">\n",
       "  <thead>\n",
       "    <tr style=\"text-align: right;\">\n",
       "      <th></th>\n",
       "      <th>AtBat</th>\n",
       "      <th>Hits</th>\n",
       "      <th>HmRun</th>\n",
       "      <th>Runs</th>\n",
       "      <th>RBI</th>\n",
       "      <th>Walks</th>\n",
       "      <th>Years</th>\n",
       "      <th>CAtBat</th>\n",
       "      <th>CHits</th>\n",
       "      <th>CHmRun</th>\n",
       "      <th>CRuns</th>\n",
       "      <th>CRBI</th>\n",
       "      <th>CWalks</th>\n",
       "      <th>League</th>\n",
       "      <th>Division</th>\n",
       "      <th>PutOuts</th>\n",
       "      <th>Assists</th>\n",
       "      <th>Errors</th>\n",
       "      <th>Salary</th>\n",
       "    </tr>\n",
       "  </thead>\n",
       "  <tbody>\n",
       "    <tr>\n",
       "      <th>228</th>\n",
       "      <td>528</td>\n",
       "      <td>122</td>\n",
       "      <td>1</td>\n",
       "      <td>67</td>\n",
       "      <td>45</td>\n",
       "      <td>51</td>\n",
       "      <td>4</td>\n",
       "      <td>1716</td>\n",
       "      <td>403</td>\n",
       "      <td>12</td>\n",
       "      <td>211</td>\n",
       "      <td>146</td>\n",
       "      <td>155</td>\n",
       "      <td>0</td>\n",
       "      <td>1</td>\n",
       "      <td>209</td>\n",
       "      <td>372</td>\n",
       "      <td>17</td>\n",
       "      <td>2.544068</td>\n",
       "    </tr>\n",
       "    <tr>\n",
       "      <th>29</th>\n",
       "      <td>379</td>\n",
       "      <td>106</td>\n",
       "      <td>10</td>\n",
       "      <td>38</td>\n",
       "      <td>60</td>\n",
       "      <td>30</td>\n",
       "      <td>14</td>\n",
       "      <td>6207</td>\n",
       "      <td>1906</td>\n",
       "      <td>146</td>\n",
       "      <td>859</td>\n",
       "      <td>803</td>\n",
       "      <td>571</td>\n",
       "      <td>1</td>\n",
       "      <td>1</td>\n",
       "      <td>72</td>\n",
       "      <td>170</td>\n",
       "      <td>24</td>\n",
       "      <td>2.929419</td>\n",
       "    </tr>\n",
       "    <tr>\n",
       "      <th>0</th>\n",
       "      <td>315</td>\n",
       "      <td>81</td>\n",
       "      <td>7</td>\n",
       "      <td>24</td>\n",
       "      <td>38</td>\n",
       "      <td>39</td>\n",
       "      <td>14</td>\n",
       "      <td>3449</td>\n",
       "      <td>835</td>\n",
       "      <td>69</td>\n",
       "      <td>321</td>\n",
       "      <td>414</td>\n",
       "      <td>375</td>\n",
       "      <td>1</td>\n",
       "      <td>1</td>\n",
       "      <td>632</td>\n",
       "      <td>43</td>\n",
       "      <td>10</td>\n",
       "      <td>2.676694</td>\n",
       "    </tr>\n",
       "    <tr>\n",
       "      <th>177</th>\n",
       "      <td>381</td>\n",
       "      <td>110</td>\n",
       "      <td>9</td>\n",
       "      <td>61</td>\n",
       "      <td>45</td>\n",
       "      <td>32</td>\n",
       "      <td>7</td>\n",
       "      <td>3015</td>\n",
       "      <td>834</td>\n",
       "      <td>40</td>\n",
       "      <td>451</td>\n",
       "      <td>249</td>\n",
       "      <td>168</td>\n",
       "      <td>1</td>\n",
       "      <td>0</td>\n",
       "      <td>228</td>\n",
       "      <td>7</td>\n",
       "      <td>5</td>\n",
       "      <td>2.903090</td>\n",
       "    </tr>\n",
       "    <tr>\n",
       "      <th>122</th>\n",
       "      <td>309</td>\n",
       "      <td>94</td>\n",
       "      <td>5</td>\n",
       "      <td>37</td>\n",
       "      <td>32</td>\n",
       "      <td>26</td>\n",
       "      <td>13</td>\n",
       "      <td>4618</td>\n",
       "      <td>1330</td>\n",
       "      <td>57</td>\n",
       "      <td>616</td>\n",
       "      <td>522</td>\n",
       "      <td>436</td>\n",
       "      <td>1</td>\n",
       "      <td>0</td>\n",
       "      <td>161</td>\n",
       "      <td>3</td>\n",
       "      <td>3</td>\n",
       "      <td>2.778151</td>\n",
       "    </tr>\n",
       "  </tbody>\n",
       "</table>\n",
       "</div>"
      ],
      "text/plain": [
       "     AtBat  Hits  HmRun  Runs  RBI  Walks  Years  CAtBat  CHits  CHmRun  \\\n",
       "228    528   122      1    67   45     51      4    1716    403      12   \n",
       "29     379   106     10    38   60     30     14    6207   1906     146   \n",
       "0      315    81      7    24   38     39     14    3449    835      69   \n",
       "177    381   110      9    61   45     32      7    3015    834      40   \n",
       "122    309    94      5    37   32     26     13    4618   1330      57   \n",
       "\n",
       "     CRuns  CRBI  CWalks  League  Division  PutOuts  Assists  Errors    Salary  \n",
       "228    211   146     155       0         1      209      372      17  2.544068  \n",
       "29     859   803     571       1         1       72      170      24  2.929419  \n",
       "0      321   414     375       1         1      632       43      10  2.676694  \n",
       "177    451   249     168       1         0      228        7       5  2.903090  \n",
       "122    616   522     436       1         0      161        3       3  2.778151  "
      ]
     },
     "metadata": {},
     "output_type": "display_data"
    },
    {
     "data": {
      "text/html": [
       "<div>\n",
       "<style scoped>\n",
       "    .dataframe tbody tr th:only-of-type {\n",
       "        vertical-align: middle;\n",
       "    }\n",
       "\n",
       "    .dataframe tbody tr th {\n",
       "        vertical-align: top;\n",
       "    }\n",
       "\n",
       "    .dataframe thead th {\n",
       "        text-align: right;\n",
       "    }\n",
       "</style>\n",
       "<table border=\"1\" class=\"dataframe\">\n",
       "  <thead>\n",
       "    <tr style=\"text-align: right;\">\n",
       "      <th></th>\n",
       "      <th>AtBat</th>\n",
       "      <th>Hits</th>\n",
       "      <th>HmRun</th>\n",
       "      <th>Runs</th>\n",
       "      <th>RBI</th>\n",
       "      <th>Walks</th>\n",
       "      <th>Years</th>\n",
       "      <th>CAtBat</th>\n",
       "      <th>CHits</th>\n",
       "      <th>CHmRun</th>\n",
       "      <th>CRuns</th>\n",
       "      <th>CRBI</th>\n",
       "      <th>CWalks</th>\n",
       "      <th>League</th>\n",
       "      <th>Division</th>\n",
       "      <th>PutOuts</th>\n",
       "      <th>Assists</th>\n",
       "      <th>Errors</th>\n",
       "      <th>Salary</th>\n",
       "    </tr>\n",
       "  </thead>\n",
       "  <tbody>\n",
       "    <tr>\n",
       "      <th>count</th>\n",
       "      <td>200.000000</td>\n",
       "      <td>200.00000</td>\n",
       "      <td>200.00000</td>\n",
       "      <td>200.000000</td>\n",
       "      <td>200.000000</td>\n",
       "      <td>200.000000</td>\n",
       "      <td>200.000000</td>\n",
       "      <td>200.000000</td>\n",
       "      <td>200.000000</td>\n",
       "      <td>200.000000</td>\n",
       "      <td>200.000000</td>\n",
       "      <td>200.000000</td>\n",
       "      <td>200.000000</td>\n",
       "      <td>200.00000</td>\n",
       "      <td>200.000000</td>\n",
       "      <td>200.000000</td>\n",
       "      <td>200.000000</td>\n",
       "      <td>200.000000</td>\n",
       "      <td>200.000000</td>\n",
       "    </tr>\n",
       "    <tr>\n",
       "      <th>mean</th>\n",
       "      <td>395.420000</td>\n",
       "      <td>105.71500</td>\n",
       "      <td>11.25000</td>\n",
       "      <td>53.895000</td>\n",
       "      <td>50.740000</td>\n",
       "      <td>40.915000</td>\n",
       "      <td>7.565000</td>\n",
       "      <td>2749.530000</td>\n",
       "      <td>749.845000</td>\n",
       "      <td>71.520000</td>\n",
       "      <td>373.160000</td>\n",
       "      <td>343.935000</td>\n",
       "      <td>270.195000</td>\n",
       "      <td>0.50500</td>\n",
       "      <td>0.515000</td>\n",
       "      <td>283.025000</td>\n",
       "      <td>114.260000</td>\n",
       "      <td>8.280000</td>\n",
       "      <td>2.578092</td>\n",
       "    </tr>\n",
       "    <tr>\n",
       "      <th>std</th>\n",
       "      <td>144.037661</td>\n",
       "      <td>44.52715</td>\n",
       "      <td>8.34781</td>\n",
       "      <td>25.252772</td>\n",
       "      <td>25.346293</td>\n",
       "      <td>22.446761</td>\n",
       "      <td>4.939409</td>\n",
       "      <td>2364.387587</td>\n",
       "      <td>674.196362</td>\n",
       "      <td>84.187811</td>\n",
       "      <td>341.374674</td>\n",
       "      <td>336.346466</td>\n",
       "      <td>272.990045</td>\n",
       "      <td>0.50123</td>\n",
       "      <td>0.501029</td>\n",
       "      <td>283.374434</td>\n",
       "      <td>141.788619</td>\n",
       "      <td>6.511806</td>\n",
       "      <td>0.379870</td>\n",
       "    </tr>\n",
       "    <tr>\n",
       "      <th>min</th>\n",
       "      <td>20.000000</td>\n",
       "      <td>1.00000</td>\n",
       "      <td>0.00000</td>\n",
       "      <td>0.000000</td>\n",
       "      <td>0.000000</td>\n",
       "      <td>0.000000</td>\n",
       "      <td>1.000000</td>\n",
       "      <td>41.000000</td>\n",
       "      <td>9.000000</td>\n",
       "      <td>0.000000</td>\n",
       "      <td>6.000000</td>\n",
       "      <td>7.000000</td>\n",
       "      <td>4.000000</td>\n",
       "      <td>0.00000</td>\n",
       "      <td>0.000000</td>\n",
       "      <td>0.000000</td>\n",
       "      <td>0.000000</td>\n",
       "      <td>0.000000</td>\n",
       "      <td>1.845098</td>\n",
       "    </tr>\n",
       "    <tr>\n",
       "      <th>25%</th>\n",
       "      <td>282.500000</td>\n",
       "      <td>70.00000</td>\n",
       "      <td>5.00000</td>\n",
       "      <td>32.750000</td>\n",
       "      <td>30.000000</td>\n",
       "      <td>22.000000</td>\n",
       "      <td>4.000000</td>\n",
       "      <td>824.500000</td>\n",
       "      <td>205.250000</td>\n",
       "      <td>15.750000</td>\n",
       "      <td>102.000000</td>\n",
       "      <td>93.750000</td>\n",
       "      <td>74.750000</td>\n",
       "      <td>0.00000</td>\n",
       "      <td>0.000000</td>\n",
       "      <td>114.750000</td>\n",
       "      <td>7.000000</td>\n",
       "      <td>3.000000</td>\n",
       "      <td>2.298281</td>\n",
       "    </tr>\n",
       "    <tr>\n",
       "      <th>50%</th>\n",
       "      <td>396.500000</td>\n",
       "      <td>102.00000</td>\n",
       "      <td>9.00000</td>\n",
       "      <td>50.000000</td>\n",
       "      <td>46.000000</td>\n",
       "      <td>36.000000</td>\n",
       "      <td>6.000000</td>\n",
       "      <td>2089.500000</td>\n",
       "      <td>543.500000</td>\n",
       "      <td>40.000000</td>\n",
       "      <td>275.500000</td>\n",
       "      <td>239.500000</td>\n",
       "      <td>177.000000</td>\n",
       "      <td>1.00000</td>\n",
       "      <td>1.000000</td>\n",
       "      <td>211.000000</td>\n",
       "      <td>44.000000</td>\n",
       "      <td>7.000000</td>\n",
       "      <td>2.628389</td>\n",
       "    </tr>\n",
       "    <tr>\n",
       "      <th>75%</th>\n",
       "      <td>511.250000</td>\n",
       "      <td>137.25000</td>\n",
       "      <td>17.00000</td>\n",
       "      <td>72.000000</td>\n",
       "      <td>70.250000</td>\n",
       "      <td>58.250000</td>\n",
       "      <td>11.000000</td>\n",
       "      <td>3926.500000</td>\n",
       "      <td>1068.750000</td>\n",
       "      <td>93.000000</td>\n",
       "      <td>507.000000</td>\n",
       "      <td>452.250000</td>\n",
       "      <td>351.750000</td>\n",
       "      <td>1.00000</td>\n",
       "      <td>1.000000</td>\n",
       "      <td>310.750000</td>\n",
       "      <td>179.000000</td>\n",
       "      <td>12.250000</td>\n",
       "      <td>2.875061</td>\n",
       "    </tr>\n",
       "    <tr>\n",
       "      <th>max</th>\n",
       "      <td>687.000000</td>\n",
       "      <td>238.00000</td>\n",
       "      <td>40.00000</td>\n",
       "      <td>117.000000</td>\n",
       "      <td>121.000000</td>\n",
       "      <td>105.000000</td>\n",
       "      <td>24.000000</td>\n",
       "      <td>14053.000000</td>\n",
       "      <td>4256.000000</td>\n",
       "      <td>548.000000</td>\n",
       "      <td>2165.000000</td>\n",
       "      <td>1659.000000</td>\n",
       "      <td>1566.000000</td>\n",
       "      <td>1.00000</td>\n",
       "      <td>1.000000</td>\n",
       "      <td>1377.000000</td>\n",
       "      <td>492.000000</td>\n",
       "      <td>32.000000</td>\n",
       "      <td>3.390935</td>\n",
       "    </tr>\n",
       "  </tbody>\n",
       "</table>\n",
       "</div>"
      ],
      "text/plain": [
       "            AtBat       Hits      HmRun        Runs         RBI       Walks  \\\n",
       "count  200.000000  200.00000  200.00000  200.000000  200.000000  200.000000   \n",
       "mean   395.420000  105.71500   11.25000   53.895000   50.740000   40.915000   \n",
       "std    144.037661   44.52715    8.34781   25.252772   25.346293   22.446761   \n",
       "min     20.000000    1.00000    0.00000    0.000000    0.000000    0.000000   \n",
       "25%    282.500000   70.00000    5.00000   32.750000   30.000000   22.000000   \n",
       "50%    396.500000  102.00000    9.00000   50.000000   46.000000   36.000000   \n",
       "75%    511.250000  137.25000   17.00000   72.000000   70.250000   58.250000   \n",
       "max    687.000000  238.00000   40.00000  117.000000  121.000000  105.000000   \n",
       "\n",
       "            Years        CAtBat        CHits      CHmRun        CRuns  \\\n",
       "count  200.000000    200.000000   200.000000  200.000000   200.000000   \n",
       "mean     7.565000   2749.530000   749.845000   71.520000   373.160000   \n",
       "std      4.939409   2364.387587   674.196362   84.187811   341.374674   \n",
       "min      1.000000     41.000000     9.000000    0.000000     6.000000   \n",
       "25%      4.000000    824.500000   205.250000   15.750000   102.000000   \n",
       "50%      6.000000   2089.500000   543.500000   40.000000   275.500000   \n",
       "75%     11.000000   3926.500000  1068.750000   93.000000   507.000000   \n",
       "max     24.000000  14053.000000  4256.000000  548.000000  2165.000000   \n",
       "\n",
       "              CRBI       CWalks     League    Division      PutOuts  \\\n",
       "count   200.000000   200.000000  200.00000  200.000000   200.000000   \n",
       "mean    343.935000   270.195000    0.50500    0.515000   283.025000   \n",
       "std     336.346466   272.990045    0.50123    0.501029   283.374434   \n",
       "min       7.000000     4.000000    0.00000    0.000000     0.000000   \n",
       "25%      93.750000    74.750000    0.00000    0.000000   114.750000   \n",
       "50%     239.500000   177.000000    1.00000    1.000000   211.000000   \n",
       "75%     452.250000   351.750000    1.00000    1.000000   310.750000   \n",
       "max    1659.000000  1566.000000    1.00000    1.000000  1377.000000   \n",
       "\n",
       "          Assists      Errors      Salary  \n",
       "count  200.000000  200.000000  200.000000  \n",
       "mean   114.260000    8.280000    2.578092  \n",
       "std    141.788619    6.511806    0.379870  \n",
       "min      0.000000    0.000000    1.845098  \n",
       "25%      7.000000    3.000000    2.298281  \n",
       "50%     44.000000    7.000000    2.628389  \n",
       "75%    179.000000   12.250000    2.875061  \n",
       "max    492.000000   32.000000    3.390935  "
      ]
     },
     "metadata": {},
     "output_type": "display_data"
    }
   ],
   "source": [
    "display(Hitters_nonTest.head())\n",
    "display(Hitters_nonTest.describe())"
   ]
  },
  {
   "cell_type": "code",
   "execution_count": 109,
   "metadata": {},
   "outputs": [
    {
     "data": {
      "image/png": "[encoded data removed]",
      "text/plain": [
       "<Figure size 720x720 with 2 Axes>"
      ]
     },
     "metadata": {
      "needs_background": "light"
     },
     "output_type": "display_data"
    }
   ],
   "source": [
    "fig = plt.figure(figsize=(10,10))\n",
    "\n",
    "g = sns.heatmap(Hitters_nonTest.corr(), xticklabels=Hitters_nonTest.columns,\n",
    "        yticklabels=Hitters_nonTest.columns)\n",
    "plt.show()"
   ]
  },
  {
   "cell_type": "markdown",
   "metadata": {},
   "source": [
    "## STEP 4.\n",
    "Using what you saw during your exploration, make a prediction about your expectations on the performance of the random forest with respect to hyper parameter settings maximum tree depth (max_depth), and the number of features to consider at each split (max_features).  Explain your rationale for your performance expectations."
   ]
  },
  {
   "cell_type": "markdown",
   "metadata": {},
   "source": [
    "# Train the model & Tune Hyperparameters using Cross-Validation"
   ]
  },
  {
   "cell_type": "markdown",
   "metadata": {},
   "source": [
    "## STEP 5.\n",
    "Using sklearn k-fold split (sklearn.model_selection.KFold), write code to set up a k-fold cross-validation with the goal of choosing the best hyperparameters for a random forest model (sklearn.ensemble.RandomForestRegressor)     Select and provide rationale for your choice for n_splits based on amount of data you have available in the non-test set.  Your goal is to determine the best combination of two parameters: maximum tree depth (max_depth), and the number of features to consider at each split (max_features).   The hyperparameter  max_depth of the trees should include integer values from 1 to 20, and your exploration over max_features should include values from 1 to p (all features).  You can decide whether to fix the number of trees (n_estimators) or include it as a third hyperparameter to explore (it should start with at least 100 but you may want to explore higher values if you will tune this hyperparameter with cross-validation) – then explain whether you are selecting a specific value or tuning this value with cross validation.   Since you will use a cross-validation wrapper to tune hyperparameters, set oob_score to False in the initialization call to RandomForestRegressor.   For each tuple of (max_depth, max_features), compute and collect the mean k-fold cross-validation MSE using predict().  "
   ]
  },
  {
   "cell_type": "code",
   "execution_count": 110,
   "metadata": {},
   "outputs": [],
   "source": [
    "\"\"\"\n",
    "    This function calculates the KFold Cross Validation MSE on a randomForest regressor\n",
    "    Returns: MSE\n",
    "\"\"\"\n",
    "def calc_rf_cv_mse(kf, X, y, num_estimators, max_depth, max_features, seed):\n",
    "    rf = RFR(n_estimators=num_estimators, max_depth=d, max_features=p, random_state=seed, oob_score=False)\n",
    "    avg_mse = []\n",
    "    for train, val in kf.split(X, y):\n",
    "        rf.fit(X[train], y[train]) # Fit on train folds\n",
    "        y_pred = rf.predict(X[val])# Predicted values on val fold\n",
    "        mse = MSE(y[val], y_pred)  # Calc MSE\n",
    "        avg_mse.append(mse)        # Append to list \n",
    "    avg_mse = np.array(avg_mse)    \n",
    "    return avg_mse.mean()"
   ]
  },
  {
   "cell_type": "code",
   "execution_count": 111,
   "metadata": {},
   "outputs": [],
   "source": [
    "# Split truth values from rest of df\n",
    "y_nonTest = Hitters_nonTest['Salary']\n",
    "Hitters_nonTest = Hitters_nonTest.drop(['Salary'], axis=1)\n",
    "\n",
    "# Use K = 5 here. We have 200 observations in nontest so 40 points per fold\n",
    "kfold = KFold(n_splits=5, random_state=1)\n",
    "rf_mse_list = np.zeros((20, len(Hitters_nonTest.columns)))\n",
    "max_feat_list = []\n",
    "max_depth_list = []\n",
    "\n",
    "# Convert to numPy array for KFold\n",
    "y_nonTest = np.array(y_nonTest)\n",
    "X_nonTest = np.array(Hitters_nonTest)\n",
    "\n",
    "for d in range(1,20+1):\n",
    "    mse = []\n",
    "    for p in range(1,len(Hitters_nonTest.columns)+1):\n",
    "        rf_mse_list[d-1,p-1] = calc_rf_cv_mse(kfold, X_nonTest, y_nonTest, 100, d, p, 1)\n"
   ]
  },
  {
   "cell_type": "code",
   "execution_count": 112,
   "metadata": {},
   "outputs": [
    {
     "name": "stdout",
     "output_type": "stream",
     "text": [
      "[[0.08209355 0.06045566 0.05508765 0.05478033 0.05465184 0.05515817\n",
      "  0.05581607 0.0562036  0.05635312 0.05638677 0.05649801 0.05657302\n",
      "  0.05647856 0.05662842 0.0569554  0.05702856 0.05720386 0.05728614]\n",
      " [0.06130596 0.04634409 0.04387851 0.04360116 0.04263636 0.04355369\n",
      "  0.04320917 0.04409127 0.04398902 0.04418126 0.04423327 0.04440763\n",
      "  0.04465797 0.0447736  0.04484945 0.04521189 0.04527673 0.04524086]\n",
      " [0.04889334 0.04052103 0.03918304 0.03850072 0.03892999 0.03875797\n",
      "  0.03872879 0.03980366 0.04001616 0.03963996 0.04052723 0.04034966\n",
      "  0.04071559 0.04104585 0.04071525 0.04116066 0.04131393 0.04131377]\n",
      " [0.04480593 0.03907895 0.03818561 0.03826858 0.03735065 0.03788368\n",
      "  0.03793124 0.03812974 0.03852441 0.03852959 0.03884835 0.03869656\n",
      "  0.03915871 0.03950791 0.03991216 0.03994363 0.03967008 0.03982971]\n",
      " [0.04095065 0.03765096 0.03762678 0.03736566 0.03644771 0.03765338\n",
      "  0.03761932 0.03755786 0.03832792 0.03832652 0.03938912 0.03815795\n",
      "  0.0384443  0.03919589 0.03938967 0.03945031 0.03952538 0.03973812]\n",
      " [0.04079978 0.03698947 0.03676393 0.03701659 0.03710152 0.03747242\n",
      "  0.03816176 0.03803445 0.03794244 0.03737219 0.03828497 0.03827441\n",
      "  0.03897057 0.03947274 0.03976312 0.03943411 0.03916986 0.03968173]\n",
      " [0.03968073 0.03695529 0.03693671 0.03689615 0.03739166 0.037808\n",
      "  0.03813581 0.03791214 0.0385658  0.03851153 0.03850493 0.03914045\n",
      "  0.0381336  0.03907697 0.03927358 0.03915808 0.03919354 0.03968734]\n",
      " [0.03851091 0.03743253 0.03666655 0.0371738  0.03786541 0.03738424\n",
      "  0.03739843 0.03783487 0.03833449 0.03806404 0.03909797 0.03818404\n",
      "  0.03948282 0.03810102 0.03919629 0.03842171 0.03925079 0.03980074]\n",
      " [0.03909712 0.03749536 0.03763201 0.03730983 0.03745412 0.03771606\n",
      "  0.03738249 0.03747062 0.03837784 0.03773718 0.03828643 0.03800921\n",
      "  0.03885882 0.03859797 0.0394326  0.03849802 0.03911795 0.03937591]\n",
      " [0.03941147 0.03729773 0.03676568 0.03700875 0.03727528 0.03757485\n",
      "  0.03787889 0.03754717 0.03849113 0.03751808 0.03779    0.03875972\n",
      "  0.03863785 0.03868295 0.03877535 0.03904668 0.03956131 0.03935957]\n",
      " [0.03932115 0.03722449 0.03624794 0.0371571  0.03774136 0.03804954\n",
      "  0.03753907 0.03773985 0.03809141 0.03813756 0.03753753 0.03841214\n",
      "  0.03900727 0.03837007 0.03850463 0.03835831 0.04010543 0.03925   ]\n",
      " [0.03905905 0.03714085 0.03668321 0.03709602 0.0377472  0.03793678\n",
      "  0.03759763 0.03725238 0.03832602 0.03776798 0.03750788 0.03861203\n",
      "  0.03915559 0.03822302 0.03866297 0.03855242 0.03981172 0.03926298]\n",
      " [0.03943879 0.03683924 0.03679704 0.03697994 0.03745325 0.03803272\n",
      "  0.03776246 0.03756453 0.03849886 0.03814725 0.03772577 0.03867407\n",
      "  0.03907894 0.03822162 0.03832407 0.038565   0.03999279 0.03920306]\n",
      " [0.03971479 0.03668712 0.03704676 0.03683999 0.03749841 0.03789194\n",
      "  0.0376045  0.03757145 0.03841036 0.03803642 0.037494   0.03854285\n",
      "  0.03908737 0.03815457 0.03845301 0.03852918 0.03990862 0.03934956]\n",
      " [0.03962595 0.0368209  0.0369261  0.03696147 0.03758045 0.03774711\n",
      "  0.0374835  0.03731264 0.0383235  0.03782841 0.03751064 0.0386482\n",
      "  0.03913516 0.03810561 0.03843158 0.03844778 0.03990027 0.03924685]\n",
      " [0.03965441 0.03674211 0.03691943 0.03695869 0.03757151 0.03766642\n",
      "  0.03745775 0.03744987 0.03826795 0.03783232 0.03755961 0.03872444\n",
      "  0.03907007 0.03801706 0.03843086 0.03854735 0.03987782 0.03930327]\n",
      " [0.03969488 0.03673513 0.036932   0.03698225 0.03749254 0.03768916\n",
      "  0.03745624 0.03736374 0.03825852 0.03784444 0.03757885 0.03857614\n",
      "  0.03910132 0.03803711 0.0384138  0.03859024 0.03989433 0.03925527]\n",
      " [0.0397063  0.03675196 0.03697494 0.03697989 0.03749585 0.03770301\n",
      "  0.0374793  0.0373478  0.03827131 0.03783071 0.0375582  0.0386007\n",
      "  0.03911207 0.03803499 0.03840789 0.03860182 0.03993234 0.03926353]\n",
      " [0.03971102 0.03675562 0.0369714  0.03697788 0.03749585 0.03771253\n",
      "  0.03747091 0.03736071 0.03828214 0.0378469  0.03757288 0.03858348\n",
      "  0.03910866 0.03802944 0.03843263 0.03850925 0.03993312 0.03927417]\n",
      " [0.03970122 0.03676055 0.03697279 0.03697788 0.03749585 0.03770798\n",
      "  0.03747091 0.03736071 0.03828214 0.03784279 0.0375775  0.03857395\n",
      "  0.03910866 0.03802944 0.03843263 0.03850944 0.03992981 0.03927417]]\n"
     ]
    }
   ],
   "source": [
    "print(rf_mse_list)"
   ]
  },
  {
   "cell_type": "markdown",
   "metadata": {},
   "source": [
    "## STEP 6. \n",
    "Provide convincing visual evidence of the validation MSE performance (from step 5) as a function of max_features and max_depth (and n_estimators if you chose to tune it).    A good way to do this is to plot the error on a graph as a function of the two dimensions max_depth and max_features.  Contour maps work here."
   ]
  },
  {
   "cell_type": "code",
   "execution_count": 113,
   "metadata": {},
   "outputs": [
    {
     "data": {
      "image/png": "[encoded data removed]",
      "text/plain": [
       "<Figure size 576x576 with 1 Axes>"
      ]
     },
     "metadata": {
      "needs_background": "light"
     },
     "output_type": "display_data"
    }
   ],
   "source": [
    "max_depth_list = np.arange(1,21,1)\n",
    "max_feat_list = np.arange(1,len(Hitters_nonTest.columns)+1,1)\n",
    "fig_contour = plt.figure(figsize=(8,8))\n",
    "ax = plt.contour(max_feat_list, max_depth_list, rf_mse_list)"
   ]
  },
  {
   "cell_type": "markdown",
   "metadata": {},
   "source": [
    "## STEP 7.\n",
    "Using code, determine, display visually, and report the values of these parameters with the lowest MSE.  Discuss the minimum value of max_features in light of the random forest recommendation for max_features: sqrt(p) or p/3.  Did your result agree with the general guidance on max features?"
   ]
  },
  {
   "cell_type": "code",
   "execution_count": 114,
   "metadata": {},
   "outputs": [
    {
     "data": {
      "text/markdown": [
       "Number of features for minimum MSE: 10"
      ],
      "text/plain": [
       "<IPython.core.display.Markdown object>"
      ]
     },
     "metadata": {},
     "output_type": "display_data"
    },
    {
     "data": {
      "text/markdown": [
       "Max_depth for minimum MSE: 2"
      ],
      "text/plain": [
       "<IPython.core.display.Markdown object>"
      ]
     },
     "metadata": {},
     "output_type": "display_data"
    },
    {
     "data": {
      "text/markdown": [
       "Minimum MSE: 0.036248"
      ],
      "text/plain": [
       "<IPython.core.display.Markdown object>"
      ]
     },
     "metadata": {},
     "output_type": "display_data"
    },
    {
     "data": {
      "text/markdown": [
       "Number of Features, $m$=18"
      ],
      "text/plain": [
       "<IPython.core.display.Markdown object>"
      ]
     },
     "metadata": {},
     "output_type": "display_data"
    },
    {
     "data": {
      "text/markdown": [
       "$\\frac{m}{3} = 6.00000$"
      ],
      "text/plain": [
       "<IPython.core.display.Markdown object>"
      ]
     },
     "metadata": {},
     "output_type": "display_data"
    },
    {
     "data": {
      "text/markdown": [
       "$\\sqrt{m} = 4.24264$"
      ],
      "text/plain": [
       "<IPython.core.display.Markdown object>"
      ]
     },
     "metadata": {},
     "output_type": "display_data"
    }
   ],
   "source": [
    "# Columns are the number of features, rows is max_depth\n",
    "min_inds = np.unravel_index(np.argmin(rf_mse_list, axis=None), rf_mse_list.shape)\n",
    "\n",
    "display(md(\"Number of features for minimum MSE: {}\".format(min_inds[0])))\n",
    "display(md(\"Max_depth for minimum MSE: {}\".format(min_inds[1])))\n",
    "display(md(\"Minimum MSE: {:5f}\".format(rf_mse_list[min_inds])))\n",
    "\n",
    "display(md(r\"Number of Features, $m$={}\".format(len(Hitters_nonTest.columns))))\n",
    "display(md(r\"$\\frac{m}{3} = %.5f$\" %(len(Hitters_nonTest.columns)/3)))\n",
    "display(md(r\"$\\sqrt{m} = %.5f$\" %np.sqrt(len(Hitters_nonTest.columns))))"
   ]
  },
  {
   "cell_type": "raw",
   "metadata": {},
   "source": []
  },
  {
   "cell_type": "markdown",
   "metadata": {},
   "source": [
    "## STEP 8.\n",
    "Using the best values of  max_features and max_depth found with MSE, fit a new RandomForestRegressor model trained on all the non-test data."
   ]
  },
  {
   "cell_type": "code",
   "execution_count": 115,
   "metadata": {},
   "outputs": [
    {
     "data": {
      "text/plain": [
       "RandomForestRegressor(bootstrap=True, criterion='mse', max_depth=10,\n",
       "           max_features=2, max_leaf_nodes=None, min_impurity_decrease=0.0,\n",
       "           min_impurity_split=None, min_samples_leaf=1,\n",
       "           min_samples_split=2, min_weight_fraction_leaf=0.0,\n",
       "           n_estimators=100, n_jobs=None, oob_score=False, random_state=1,\n",
       "           verbose=0, warm_start=False)"
      ]
     },
     "execution_count": 115,
     "metadata": {},
     "output_type": "execute_result"
    }
   ],
   "source": [
    "max_depth_min = min_inds[0]\n",
    "max_features_min = min_inds[1]\n",
    "\n",
    "rf_min_mse = RFR(n_estimators=100,max_depth=max_depth_min, max_features=max_features_min,random_state=1)\n",
    "# Fit model on all non-test data\n",
    "rf_min_mse.fit(Hitters_nonTest, y_nonTest) "
   ]
  },
  {
   "cell_type": "markdown",
   "metadata": {},
   "source": [
    "# Reporting performance on the Test Set"
   ]
  },
  {
   "cell_type": "markdown",
   "metadata": {},
   "source": [
    "## STEP 9.\n",
    "Using code, determine and report the quality of the model for predicting salary on the sequestered test set.  Don’t forget to handle the log transformation you did in data preprocessing – your performance values should be based on real dollars (not log-transformed dollars).  "
   ]
  },
  {
   "cell_type": "code",
   "execution_count": 116,
   "metadata": {},
   "outputs": [],
   "source": [
    "# Split truth values from rest of df\n",
    "y_test_actual = Hitters_test['Salary']\n",
    "Hitters_test = Hitters_test.drop(['Salary'], axis=1)\n",
    "\n",
    "# Transform Salary back to original values\n",
    "y_test_actual = salary_untransform(y_test_actual)\n",
    "\n",
    "# Predict performance on test set\n",
    "y_test_pred = rf_min_mse.predict(Hitters_test)\n",
    "\n",
    "# Calculate Test MSE & Residuals\n",
    "residuals_test = y_test_pred - y_test_actual # predicted - actual keeps the convention of positive --> overprediction and negative --> underprediction\n",
    "test_mse = MSE(y_test_actual, y_test_pred)\n"
   ]
  },
  {
   "cell_type": "markdown",
   "metadata": {},
   "source": [
    "## STEP 10.\n",
    "Develop a scatterplot of the regression residuals:  The figure’s x axis expresses the true dollar amount of salary, the figure’s y axis represents the prediction error (positive values mean overprediction, negative values mean underprediction, and y=0 would mean correct prediction).   Discuss these residuals.  Are they evenly distributed about y=0 through the range of possible true salaries?  Do you see any patterns which would suggest true salaries for which prediction would be poor?"
   ]
  },
  {
   "cell_type": "code",
   "execution_count": null,
   "metadata": {},
   "outputs": [],
   "source": []
  },
  {
   "cell_type": "markdown",
   "metadata": {},
   "source": [
    "## STEP 11.\n",
    "Using the model, report on variable importance - which variables appear to be the most important predictors in the model?  Using the sklearn feature_importance_ attribute of the best fitted model, provide numerical and visual evidence to support your answer (make sure to sort your outputs by feature importance)."
   ]
  },
  {
   "cell_type": "code",
   "execution_count": null,
   "metadata": {},
   "outputs": [],
   "source": []
  }
 ],
 "metadata": {
  "anaconda-cloud": {},
  "kernelspec": {
   "display_name": "Python 3",
   "language": "python",
   "name": "python3"
  },
  "language_info": {
   "codemirror_mode": {
    "name": "ipython",
    "version": 3
   },
   "file_extension": ".py",
   "mimetype": "text/x-python",
   "name": "python",
   "nbconvert_exporter": "python",
   "pygments_lexer": "ipython3",
   "version": "3.7.1"
  },
  "varInspector": {
   "cols": {
    "lenName": 16,
    "lenType": 16,
    "lenVar": 40
   },
   "kernels_config": {
    "python": {
     "delete_cmd_postfix": "",
     "delete_cmd_prefix": "del ",
     "library": "var_list.py",
     "varRefreshCmd": "print(var_dic_list())"
    },
    "r": {
     "delete_cmd_postfix": ") ",
     "delete_cmd_prefix": "rm(",
     "library": "var_list.r",
     "varRefreshCmd": "cat(var_dic_list()) "
    }
   },
   "oldHeight": 477.4,
   "position": {
    "height": "214px",
    "left": "1014.2px",
    "right": "20px",
    "top": "121px",
    "width": "623px"
   },
   "types_to_exclude": [
    "module",
    "function",
    "builtin_function_or_method",
    "instance",
    "_Feature"
   ],
   "varInspector_section_display": "none",
   "window_display": false
  }
 },
 "nbformat": 4,
 "nbformat_minor": 2
}
