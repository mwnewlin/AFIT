{
 "cells": [
  {
   "cell_type": "markdown",
   "metadata": {},
   "source": [
    "# CSCE 623 Homework Assignment 5\n",
    "## Student Name: Marvin Newlin\n",
    "## Date: 21 May 19\n"
   ]
  },
  {
   "cell_type": "code",
   "execution_count": 44,
   "metadata": {
    "collapsed": true
   },
   "outputs": [],
   "source": [
    "import numpy as np\n",
    "import pandas as pd\n",
    "import seaborn as sns\n",
    "import matplotlib.pyplot as plt\n",
    "from matplotlib.ticker import MaxNLocator\n",
    "\n",
    "from sklearn.model_selection import train_test_split, KFold\n",
    "\n",
    "from sklearn.ensemble import RandomForestRegressor as RFR\n",
    "from sklearn.metrics import mean_squared_error as MSE\n",
    "%matplotlib inline"
   ]
  },
  {
   "cell_type": "code",
   "execution_count": 2,
   "metadata": {},
   "outputs": [],
   "source": [
    "# Load and Preprocess the data"
   ]
  },
  {
   "cell_type": "markdown",
   "metadata": {},
   "source": [
    "## STEP 0. \n",
    "(instructor provided) Load the ILSR_hitters.csv dataset.  Remove the observations for whom the salary information is unknown, and then "
   ]
  },
  {
   "cell_type": "code",
   "execution_count": 45,
   "metadata": {
    "collapsed": true
   },
   "outputs": [],
   "source": [
    "# STEP 0  - Load data & convert categorical features - instructor provided code\n",
    "\n",
    "state = 1  #random seed\n",
    "Hitters = pd.read_csv('ISLR_Hitters.csv',index_col=0)\n",
    "Hitters = Hitters.dropna(how='any')\n",
    "Hitters = Hitters.reset_index()\n",
    "\n",
    "Hitters = Hitters.drop(['index'],axis=1)\n",
    "Hitters['League'] = Hitters['League'].map({'A': 0, 'N': 1})\n",
    "Hitters['Division'] = Hitters['Division'].map({'E': 0, 'W': 1})\n",
    "Hitters = Hitters.drop(['NewLeague'],axis=1)\n"
   ]
  },
  {
   "cell_type": "markdown",
   "metadata": {},
   "source": [
    "## STEP 1.  \n",
    "Log-transform the salaries (salaries listed are in $1000’s).  Note that you will need to account for this log-transformation when presenting your results (transform your precisions, loss, MSE, improvement, etc. back to real salary dollars when possible)"
   ]
  },
  {
   "cell_type": "code",
   "execution_count": 51,
   "metadata": {
    "collapsed": false
   },
   "outputs": [
    {
     "name": "stdout",
     "output_type": "stream",
     "text": [
      "0    2.676694\n",
      "1    2.681241\n",
      "2    2.698970\n",
      "Name: Salary, dtype: float64\n",
      "0    0.427599\n",
      "1    0.428336\n",
      "2    0.431198\n",
      "Name: Salary, dtype: float64\n"
     ]
    }
   ],
   "source": [
    "#STEP1 \n",
    "\n",
    "# helper functions for transformation\n",
    "# the transformed salary should work better for model fitting\n",
    "def salary_transform(salary):\n",
    "    transformed_salary = 1000*salary\n",
    "    transformed_salary = np.log10(transformed_salary) # Takes the log base 10 of each element\n",
    "    return transformed_salary\n",
    "\n",
    "# the untransformed salary is needed for test set performance reporting and residuals analysis\n",
    "def salary_untransform(transformed_salary):\n",
    "    salary = np.power(10, transformed_salary)  # raises 10 to the power of each element to undo the log\n",
    "    salary = np.divide(salary,1000)\n",
    "    return salary\n",
    "\n",
    "#transform the salary\n",
    "print(Hitters['Salary'][:3])\n",
    "Hitters['Salary'] = salary_transform(Hitters.Salary)\n",
    "print(Hitters['Salary'][:3])\n",
    "# note that this block will give an error until the salary component is filled out"
   ]
  },
  {
   "cell_type": "markdown",
   "metadata": {},
   "source": [
    "# STEP 2.\n",
    "(Code Provided) Using sklearn.model_selection.train_test_split with random_state = 1,  create a “non-test” set consisting of 200 observations and a test set consisting of the remaining observations.  Sequester the test set until  the performance reporting steps (9-11)."
   ]
  },
  {
   "cell_type": "code",
   "execution_count": 47,
   "metadata": {
    "collapsed": false
   },
   "outputs": [],
   "source": [
    "Hitters_nonTest, Hitters_test = train_test_split(Hitters, train_size = 200, random_state=1)\n"
   ]
  },
  {
   "cell_type": "markdown",
   "metadata": {},
   "source": [
    "# Explore the data & make hypotheses"
   ]
  },
  {
   "cell_type": "markdown",
   "metadata": {},
   "source": [
    "## STEP 3.\n",
    "Explore the data.  Use plots and discuss relationships between available features and Salary.  Consider using the seaborn package to facilitate your exploration – for example, make a heatmap plot of the correlation between each pair of features to help you decide which pairs of features to explore further with pairs plots or scatterplots.  Make at least one hypothesis about which features will be useful in predicting salary.  "
   ]
  },
  {
   "cell_type": "code",
   "execution_count": 48,
   "metadata": {},
   "outputs": [
    {
     "data": {
      "text/html": [
       "<div>\n",
       "<style scoped>\n",
       "    .dataframe tbody tr th:only-of-type {\n",
       "        vertical-align: middle;\n",
       "    }\n",
       "\n",
       "    .dataframe tbody tr th {\n",
       "        vertical-align: top;\n",
       "    }\n",
       "\n",
       "    .dataframe thead th {\n",
       "        text-align: right;\n",
       "    }\n",
       "</style>\n",
       "<table border=\"1\" class=\"dataframe\">\n",
       "  <thead>\n",
       "    <tr style=\"text-align: right;\">\n",
       "      <th></th>\n",
       "      <th>AtBat</th>\n",
       "      <th>Hits</th>\n",
       "      <th>HmRun</th>\n",
       "      <th>Runs</th>\n",
       "      <th>RBI</th>\n",
       "      <th>Walks</th>\n",
       "      <th>Years</th>\n",
       "      <th>CAtBat</th>\n",
       "      <th>CHits</th>\n",
       "      <th>CHmRun</th>\n",
       "      <th>CRuns</th>\n",
       "      <th>CRBI</th>\n",
       "      <th>CWalks</th>\n",
       "      <th>League</th>\n",
       "      <th>Division</th>\n",
       "      <th>PutOuts</th>\n",
       "      <th>Assists</th>\n",
       "      <th>Errors</th>\n",
       "      <th>Salary</th>\n",
       "    </tr>\n",
       "  </thead>\n",
       "  <tbody>\n",
       "    <tr>\n",
       "      <th>228</th>\n",
       "      <td>528</td>\n",
       "      <td>122</td>\n",
       "      <td>1</td>\n",
       "      <td>67</td>\n",
       "      <td>45</td>\n",
       "      <td>51</td>\n",
       "      <td>4</td>\n",
       "      <td>1716</td>\n",
       "      <td>403</td>\n",
       "      <td>12</td>\n",
       "      <td>211</td>\n",
       "      <td>146</td>\n",
       "      <td>155</td>\n",
       "      <td>0</td>\n",
       "      <td>1</td>\n",
       "      <td>209</td>\n",
       "      <td>372</td>\n",
       "      <td>17</td>\n",
       "      <td>2.544068</td>\n",
       "    </tr>\n",
       "    <tr>\n",
       "      <th>29</th>\n",
       "      <td>379</td>\n",
       "      <td>106</td>\n",
       "      <td>10</td>\n",
       "      <td>38</td>\n",
       "      <td>60</td>\n",
       "      <td>30</td>\n",
       "      <td>14</td>\n",
       "      <td>6207</td>\n",
       "      <td>1906</td>\n",
       "      <td>146</td>\n",
       "      <td>859</td>\n",
       "      <td>803</td>\n",
       "      <td>571</td>\n",
       "      <td>1</td>\n",
       "      <td>1</td>\n",
       "      <td>72</td>\n",
       "      <td>170</td>\n",
       "      <td>24</td>\n",
       "      <td>2.929419</td>\n",
       "    </tr>\n",
       "    <tr>\n",
       "      <th>0</th>\n",
       "      <td>315</td>\n",
       "      <td>81</td>\n",
       "      <td>7</td>\n",
       "      <td>24</td>\n",
       "      <td>38</td>\n",
       "      <td>39</td>\n",
       "      <td>14</td>\n",
       "      <td>3449</td>\n",
       "      <td>835</td>\n",
       "      <td>69</td>\n",
       "      <td>321</td>\n",
       "      <td>414</td>\n",
       "      <td>375</td>\n",
       "      <td>1</td>\n",
       "      <td>1</td>\n",
       "      <td>632</td>\n",
       "      <td>43</td>\n",
       "      <td>10</td>\n",
       "      <td>2.676694</td>\n",
       "    </tr>\n",
       "    <tr>\n",
       "      <th>177</th>\n",
       "      <td>381</td>\n",
       "      <td>110</td>\n",
       "      <td>9</td>\n",
       "      <td>61</td>\n",
       "      <td>45</td>\n",
       "      <td>32</td>\n",
       "      <td>7</td>\n",
       "      <td>3015</td>\n",
       "      <td>834</td>\n",
       "      <td>40</td>\n",
       "      <td>451</td>\n",
       "      <td>249</td>\n",
       "      <td>168</td>\n",
       "      <td>1</td>\n",
       "      <td>0</td>\n",
       "      <td>228</td>\n",
       "      <td>7</td>\n",
       "      <td>5</td>\n",
       "      <td>2.903090</td>\n",
       "    </tr>\n",
       "    <tr>\n",
       "      <th>122</th>\n",
       "      <td>309</td>\n",
       "      <td>94</td>\n",
       "      <td>5</td>\n",
       "      <td>37</td>\n",
       "      <td>32</td>\n",
       "      <td>26</td>\n",
       "      <td>13</td>\n",
       "      <td>4618</td>\n",
       "      <td>1330</td>\n",
       "      <td>57</td>\n",
       "      <td>616</td>\n",
       "      <td>522</td>\n",
       "      <td>436</td>\n",
       "      <td>1</td>\n",
       "      <td>0</td>\n",
       "      <td>161</td>\n",
       "      <td>3</td>\n",
       "      <td>3</td>\n",
       "      <td>2.778151</td>\n",
       "    </tr>\n",
       "  </tbody>\n",
       "</table>\n",
       "</div>"
      ],
      "text/plain": [
       "     AtBat  Hits  HmRun  Runs  RBI  Walks  Years  CAtBat  CHits  CHmRun  \\\n",
       "228    528   122      1    67   45     51      4    1716    403      12   \n",
       "29     379   106     10    38   60     30     14    6207   1906     146   \n",
       "0      315    81      7    24   38     39     14    3449    835      69   \n",
       "177    381   110      9    61   45     32      7    3015    834      40   \n",
       "122    309    94      5    37   32     26     13    4618   1330      57   \n",
       "\n",
       "     CRuns  CRBI  CWalks  League  Division  PutOuts  Assists  Errors    Salary  \n",
       "228    211   146     155       0         1      209      372      17  2.544068  \n",
       "29     859   803     571       1         1       72      170      24  2.929419  \n",
       "0      321   414     375       1         1      632       43      10  2.676694  \n",
       "177    451   249     168       1         0      228        7       5  2.903090  \n",
       "122    616   522     436       1         0      161        3       3  2.778151  "
      ]
     },
     "metadata": {},
     "output_type": "display_data"
    },
    {
     "data": {
      "text/html": [
       "<div>\n",
       "<style scoped>\n",
       "    .dataframe tbody tr th:only-of-type {\n",
       "        vertical-align: middle;\n",
       "    }\n",
       "\n",
       "    .dataframe tbody tr th {\n",
       "        vertical-align: top;\n",
       "    }\n",
       "\n",
       "    .dataframe thead th {\n",
       "        text-align: right;\n",
       "    }\n",
       "</style>\n",
       "<table border=\"1\" class=\"dataframe\">\n",
       "  <thead>\n",
       "    <tr style=\"text-align: right;\">\n",
       "      <th></th>\n",
       "      <th>AtBat</th>\n",
       "      <th>Hits</th>\n",
       "      <th>HmRun</th>\n",
       "      <th>Runs</th>\n",
       "      <th>RBI</th>\n",
       "      <th>Walks</th>\n",
       "      <th>Years</th>\n",
       "      <th>CAtBat</th>\n",
       "      <th>CHits</th>\n",
       "      <th>CHmRun</th>\n",
       "      <th>CRuns</th>\n",
       "      <th>CRBI</th>\n",
       "      <th>CWalks</th>\n",
       "      <th>League</th>\n",
       "      <th>Division</th>\n",
       "      <th>PutOuts</th>\n",
       "      <th>Assists</th>\n",
       "      <th>Errors</th>\n",
       "      <th>Salary</th>\n",
       "    </tr>\n",
       "  </thead>\n",
       "  <tbody>\n",
       "    <tr>\n",
       "      <th>count</th>\n",
       "      <td>200.000000</td>\n",
       "      <td>200.00000</td>\n",
       "      <td>200.00000</td>\n",
       "      <td>200.000000</td>\n",
       "      <td>200.000000</td>\n",
       "      <td>200.000000</td>\n",
       "      <td>200.000000</td>\n",
       "      <td>200.000000</td>\n",
       "      <td>200.000000</td>\n",
       "      <td>200.000000</td>\n",
       "      <td>200.000000</td>\n",
       "      <td>200.000000</td>\n",
       "      <td>200.000000</td>\n",
       "      <td>200.00000</td>\n",
       "      <td>200.000000</td>\n",
       "      <td>200.000000</td>\n",
       "      <td>200.000000</td>\n",
       "      <td>200.000000</td>\n",
       "      <td>200.000000</td>\n",
       "    </tr>\n",
       "    <tr>\n",
       "      <th>mean</th>\n",
       "      <td>395.420000</td>\n",
       "      <td>105.71500</td>\n",
       "      <td>11.25000</td>\n",
       "      <td>53.895000</td>\n",
       "      <td>50.740000</td>\n",
       "      <td>40.915000</td>\n",
       "      <td>7.565000</td>\n",
       "      <td>2749.530000</td>\n",
       "      <td>749.845000</td>\n",
       "      <td>71.520000</td>\n",
       "      <td>373.160000</td>\n",
       "      <td>343.935000</td>\n",
       "      <td>270.195000</td>\n",
       "      <td>0.50500</td>\n",
       "      <td>0.515000</td>\n",
       "      <td>283.025000</td>\n",
       "      <td>114.260000</td>\n",
       "      <td>8.280000</td>\n",
       "      <td>2.578092</td>\n",
       "    </tr>\n",
       "    <tr>\n",
       "      <th>std</th>\n",
       "      <td>144.037661</td>\n",
       "      <td>44.52715</td>\n",
       "      <td>8.34781</td>\n",
       "      <td>25.252772</td>\n",
       "      <td>25.346293</td>\n",
       "      <td>22.446761</td>\n",
       "      <td>4.939409</td>\n",
       "      <td>2364.387587</td>\n",
       "      <td>674.196362</td>\n",
       "      <td>84.187811</td>\n",
       "      <td>341.374674</td>\n",
       "      <td>336.346466</td>\n",
       "      <td>272.990045</td>\n",
       "      <td>0.50123</td>\n",
       "      <td>0.501029</td>\n",
       "      <td>283.374434</td>\n",
       "      <td>141.788619</td>\n",
       "      <td>6.511806</td>\n",
       "      <td>0.379870</td>\n",
       "    </tr>\n",
       "    <tr>\n",
       "      <th>min</th>\n",
       "      <td>20.000000</td>\n",
       "      <td>1.00000</td>\n",
       "      <td>0.00000</td>\n",
       "      <td>0.000000</td>\n",
       "      <td>0.000000</td>\n",
       "      <td>0.000000</td>\n",
       "      <td>1.000000</td>\n",
       "      <td>41.000000</td>\n",
       "      <td>9.000000</td>\n",
       "      <td>0.000000</td>\n",
       "      <td>6.000000</td>\n",
       "      <td>7.000000</td>\n",
       "      <td>4.000000</td>\n",
       "      <td>0.00000</td>\n",
       "      <td>0.000000</td>\n",
       "      <td>0.000000</td>\n",
       "      <td>0.000000</td>\n",
       "      <td>0.000000</td>\n",
       "      <td>1.845098</td>\n",
       "    </tr>\n",
       "    <tr>\n",
       "      <th>25%</th>\n",
       "      <td>282.500000</td>\n",
       "      <td>70.00000</td>\n",
       "      <td>5.00000</td>\n",
       "      <td>32.750000</td>\n",
       "      <td>30.000000</td>\n",
       "      <td>22.000000</td>\n",
       "      <td>4.000000</td>\n",
       "      <td>824.500000</td>\n",
       "      <td>205.250000</td>\n",
       "      <td>15.750000</td>\n",
       "      <td>102.000000</td>\n",
       "      <td>93.750000</td>\n",
       "      <td>74.750000</td>\n",
       "      <td>0.00000</td>\n",
       "      <td>0.000000</td>\n",
       "      <td>114.750000</td>\n",
       "      <td>7.000000</td>\n",
       "      <td>3.000000</td>\n",
       "      <td>2.298281</td>\n",
       "    </tr>\n",
       "    <tr>\n",
       "      <th>50%</th>\n",
       "      <td>396.500000</td>\n",
       "      <td>102.00000</td>\n",
       "      <td>9.00000</td>\n",
       "      <td>50.000000</td>\n",
       "      <td>46.000000</td>\n",
       "      <td>36.000000</td>\n",
       "      <td>6.000000</td>\n",
       "      <td>2089.500000</td>\n",
       "      <td>543.500000</td>\n",
       "      <td>40.000000</td>\n",
       "      <td>275.500000</td>\n",
       "      <td>239.500000</td>\n",
       "      <td>177.000000</td>\n",
       "      <td>1.00000</td>\n",
       "      <td>1.000000</td>\n",
       "      <td>211.000000</td>\n",
       "      <td>44.000000</td>\n",
       "      <td>7.000000</td>\n",
       "      <td>2.628389</td>\n",
       "    </tr>\n",
       "    <tr>\n",
       "      <th>75%</th>\n",
       "      <td>511.250000</td>\n",
       "      <td>137.25000</td>\n",
       "      <td>17.00000</td>\n",
       "      <td>72.000000</td>\n",
       "      <td>70.250000</td>\n",
       "      <td>58.250000</td>\n",
       "      <td>11.000000</td>\n",
       "      <td>3926.500000</td>\n",
       "      <td>1068.750000</td>\n",
       "      <td>93.000000</td>\n",
       "      <td>507.000000</td>\n",
       "      <td>452.250000</td>\n",
       "      <td>351.750000</td>\n",
       "      <td>1.00000</td>\n",
       "      <td>1.000000</td>\n",
       "      <td>310.750000</td>\n",
       "      <td>179.000000</td>\n",
       "      <td>12.250000</td>\n",
       "      <td>2.875061</td>\n",
       "    </tr>\n",
       "    <tr>\n",
       "      <th>max</th>\n",
       "      <td>687.000000</td>\n",
       "      <td>238.00000</td>\n",
       "      <td>40.00000</td>\n",
       "      <td>117.000000</td>\n",
       "      <td>121.000000</td>\n",
       "      <td>105.000000</td>\n",
       "      <td>24.000000</td>\n",
       "      <td>14053.000000</td>\n",
       "      <td>4256.000000</td>\n",
       "      <td>548.000000</td>\n",
       "      <td>2165.000000</td>\n",
       "      <td>1659.000000</td>\n",
       "      <td>1566.000000</td>\n",
       "      <td>1.00000</td>\n",
       "      <td>1.000000</td>\n",
       "      <td>1377.000000</td>\n",
       "      <td>492.000000</td>\n",
       "      <td>32.000000</td>\n",
       "      <td>3.390935</td>\n",
       "    </tr>\n",
       "  </tbody>\n",
       "</table>\n",
       "</div>"
      ],
      "text/plain": [
       "            AtBat       Hits      HmRun        Runs         RBI       Walks  \\\n",
       "count  200.000000  200.00000  200.00000  200.000000  200.000000  200.000000   \n",
       "mean   395.420000  105.71500   11.25000   53.895000   50.740000   40.915000   \n",
       "std    144.037661   44.52715    8.34781   25.252772   25.346293   22.446761   \n",
       "min     20.000000    1.00000    0.00000    0.000000    0.000000    0.000000   \n",
       "25%    282.500000   70.00000    5.00000   32.750000   30.000000   22.000000   \n",
       "50%    396.500000  102.00000    9.00000   50.000000   46.000000   36.000000   \n",
       "75%    511.250000  137.25000   17.00000   72.000000   70.250000   58.250000   \n",
       "max    687.000000  238.00000   40.00000  117.000000  121.000000  105.000000   \n",
       "\n",
       "            Years        CAtBat        CHits      CHmRun        CRuns  \\\n",
       "count  200.000000    200.000000   200.000000  200.000000   200.000000   \n",
       "mean     7.565000   2749.530000   749.845000   71.520000   373.160000   \n",
       "std      4.939409   2364.387587   674.196362   84.187811   341.374674   \n",
       "min      1.000000     41.000000     9.000000    0.000000     6.000000   \n",
       "25%      4.000000    824.500000   205.250000   15.750000   102.000000   \n",
       "50%      6.000000   2089.500000   543.500000   40.000000   275.500000   \n",
       "75%     11.000000   3926.500000  1068.750000   93.000000   507.000000   \n",
       "max     24.000000  14053.000000  4256.000000  548.000000  2165.000000   \n",
       "\n",
       "              CRBI       CWalks     League    Division      PutOuts  \\\n",
       "count   200.000000   200.000000  200.00000  200.000000   200.000000   \n",
       "mean    343.935000   270.195000    0.50500    0.515000   283.025000   \n",
       "std     336.346466   272.990045    0.50123    0.501029   283.374434   \n",
       "min       7.000000     4.000000    0.00000    0.000000     0.000000   \n",
       "25%      93.750000    74.750000    0.00000    0.000000   114.750000   \n",
       "50%     239.500000   177.000000    1.00000    1.000000   211.000000   \n",
       "75%     452.250000   351.750000    1.00000    1.000000   310.750000   \n",
       "max    1659.000000  1566.000000    1.00000    1.000000  1377.000000   \n",
       "\n",
       "          Assists      Errors      Salary  \n",
       "count  200.000000  200.000000  200.000000  \n",
       "mean   114.260000    8.280000    2.578092  \n",
       "std    141.788619    6.511806    0.379870  \n",
       "min      0.000000    0.000000    1.845098  \n",
       "25%      7.000000    3.000000    2.298281  \n",
       "50%     44.000000    7.000000    2.628389  \n",
       "75%    179.000000   12.250000    2.875061  \n",
       "max    492.000000   32.000000    3.390935  "
      ]
     },
     "metadata": {},
     "output_type": "display_data"
    }
   ],
   "source": [
    "display(Hitters_nonTest.head())\n",
    "display(Hitters_nonTest.describe())"
   ]
  },
  {
   "cell_type": "code",
   "execution_count": 58,
   "metadata": {},
   "outputs": [
    {
     "data": {
      "image/png": "[encoded data removed]",
      "text/plain": [
       "<Figure size 432x288 with 2 Axes>"
      ]
     },
     "metadata": {
      "needs_background": "light"
     },
     "output_type": "display_data"
    }
   ],
   "source": [
    "#fig = plt.figure(figsize=(20,10))\n",
    "Hitters_nonTest_noSal = Hitters_nonTest.iloc[:, :len(Hitters_nonTest.columns)-1]\n",
    "\n",
    "g = sns.heatmap(Hitters_nonTest_noSal, xticklabels=Hitters_nonTest_noSal.columns,\n",
    "        yticklabels=Hitters_nonTest_noSal.columns)\n",
    "\n",
    "plt.show()"
   ]
  },
  {
   "cell_type": "code",
   "execution_count": null,
   "metadata": {},
   "outputs": [],
   "source": [
    "#Hitters_sub = Hitters_nonTest.pivot(\"AtBat\", \"Hits\", \"Salary\")\n",
    "#g = sns.heatmap(Hitters_sub, cmap=\"YlGnBu\")"
   ]
  },
  {
   "cell_type": "markdown",
   "metadata": {},
   "source": [
    "## STEP 4.\n",
    "Using what you saw during your exploration, make a prediction about your expectations on the performance of the random forest with respect to hyper parameter settings maximum tree depth (max_depth), and the number of features to consider at each split (max_features).  Explain your rationale for your performance expectations."
   ]
  },
  {
   "cell_type": "markdown",
   "metadata": {},
   "source": [
    "# Train the model & Tune Hyperparameters using Cross-Validation"
   ]
  },
  {
   "cell_type": "markdown",
   "metadata": {},
   "source": [
    "## STEP 5.\n",
    "Using sklearn k-fold split (sklearn.model_selection.KFold), write code to set up a k-fold cross-validation with the goal of choosing the best hyperparameters for a random forest model (sklearn.ensemble.RandomForestRegressor)     Select and provide rationale for your choice for n_splits based on amount of data you have available in the non-test set.  Your goal is to determine the best combination of two parameters: maximum tree depth (max_depth), and the number of features to consider at each split (max_features).   The hyperparameter  max_depth of the trees should include integer values from 1 to 20, and your exploration over max_features should include values from 1 to p (all features).  You can decide whether to fix the number of trees (n_estimators) or include it as a third hyperparameter to explore (it should start with at least 100 but you may want to explore higher values if you will tune this hyperparameter with cross-validation) – then explain whether you are selecting a specific value or tuning this value with cross validation.   Since you will use a cross-validation wrapper to tune hyperparameters, set oob_score to False in the initialization call to RandomForestRegressor.   For each tuple of (max_depth, max_features), compute and collect the mean k-fold cross-validation MSE using predict().  "
   ]
  },
  {
   "cell_type": "code",
   "execution_count": 60,
   "metadata": {},
   "outputs": [],
   "source": [
    "\"\"\"\n",
    "    This function calculates the KFold Cross Validation MSE on a randomForest regressor\n",
    "    Returns: MSE\n",
    "\"\"\"\n",
    "def calc_rf_cv_mse(kf, X, y, num_estimators, max_depth, max_features, seed):\n",
    "    rf = RFR(n_estimators=num_estimators, max_depth=d, max_features=p, random_state=seed, oob_score=False)\n",
    "    avg_mse = []\n",
    "    for train, val in kf.split(X, y):\n",
    "        rf.fit(X[train], y[train]) # Fit on train folds\n",
    "        y_pred = rf.predict(X[val])# Predicted values on val fold\n",
    "        mse = MSE(y[val], y_pred)  # Calc MSE\n",
    "        avg_mse.append(mse)        # Append to list \n",
    "    avg_mse = np.array(avg_mse)    \n",
    "    return avg_mse.mean()"
   ]
  },
  {
   "cell_type": "code",
   "execution_count": 61,
   "metadata": {},
   "outputs": [],
   "source": [
    "# Use K = 5 here. We have 200 observations in nontest so 40 points per fold\n",
    "kfold = KFold(n_splits=5, random_state=1)\n",
    "rf_mse_list = []\n",
    "max_feat_list = []\n",
    "max_depth_list = []\n",
    "y = np.array(Hitters_nonTest['Salary'])\n",
    "X = np.array(Hitters_nonTest.loc[:,:'Salary'])\n",
    "\n",
    "for d in range(1,21):\n",
    "    for p in range(1,len(Hitters_nonTest.columns)+1):\n",
    "        mse = calc_rf_cv_mse(kfold, X, y, 100, d, p, 1)\n",
    "        rf_mse_list.append(mse)\n",
    "        max_feat_list.append(p)\n",
    "        max_depth_list.append(d)"
   ]
  },
  {
   "cell_type": "code",
   "execution_count": 62,
   "metadata": {},
   "outputs": [
    {
     "name": "stdout",
     "output_type": "stream",
     "text": [
      "[0.0702415790038199, 0.05242596732059762, 0.048665289504386734, 0.0465201164055325, 0.0443691393180943, 0.042884480299292774, 0.04172862800752437, 0.040652550814491664, 0.03996305757717748, 0.038431334456769994, 0.037768507318102475, 0.036552177586560826, 0.03598070760906451, 0.03584994183968269, 0.03563607230974569, 0.035552194544974734, 0.03595767440516723, 0.03611848970678831, 0.036953180091750616, 0.05064407072950524, 0.036036335295793864, 0.031810266706029926, 0.02782464963471794, 0.02739429151265335, 0.025254453727879184, 0.021364609093346816, 0.020544863051885454, 0.018222955341542536, 0.016380409203356774, 0.016002065671084913, 0.013005171730008164, 0.012309812280433024, 0.01167040602408961, 0.010076071864282674, 0.008548640945569876, 0.008063870963864107, 0.007728981800953455, 0.007570433036895273, 0.040414949943854014, 0.02920669725320301, 0.02510044361060832, 0.023311729741633765, 0.020835604807765702, 0.017883047612958624, 0.014124256840685074, 0.013161323887687213, 0.011765270746233746, 0.009643724144034218, 0.007900011445688002, 0.0071343386644133755, 0.005307910758809834, 0.004748817942177257, 0.003077319896057684, 0.0026957188955383854, 0.001817606993569949, 0.0015290819847746412, 0.00125126296361435, 0.03435950578503645, 0.026664010231091766, 0.023372505595728378, 0.01944760391661171, 0.01657813911137025, 0.014083652895904169, 0.011522247531195729, 0.010363931143478432, 0.00871799810803573, 0.006433187822209478, 0.005953540171773582, 0.003956590601706193, 0.003190353494100824, 0.002320019571949327, 0.0018505059711946548, 0.0011079055829406462, 0.0007265419791006037, 0.0006304737837300488, 0.00038413158067105476, 0.03207574202000469, 0.0240892752569902, 0.020770309712177228, 0.018335980220851457, 0.015489514250961992, 0.0127303571599957, 0.010822600251685414, 0.008146891346039842, 0.0069890745613182025, 0.005427726409050151, 0.0046093923331593425, 0.0037130875235457847, 0.0027439657037878775, 0.001962049002200088, 0.0015173893317978135, 0.0010949727932534872, 0.0006567018745647865, 0.00043962782340302377, 0.0003580641222698437, 0.03145376411215116, 0.02191476780716029, 0.01886868133084909, 0.016427731155185622, 0.014013193409573344, 0.011872635852134175, 0.009207294559535137, 0.007772236039380968, 0.006944123598819155, 0.0051594415122429346, 0.00429137463182173, 0.0033397895378367917, 0.0023917403921774032, 0.0018980100055528064, 0.0013968858501770592, 0.0011416810923059956, 0.0006008894218648064, 0.0004863160725211759, 0.00033139283281274527, 0.030483124931470346, 0.022209847195454584, 0.01922005423888386, 0.015711378525838985, 0.013706458939450664, 0.011552606715460045, 0.009141513955303524, 0.007903063140887536, 0.0062480588673051365, 0.0053587502330940655, 0.004342087190699841, 0.0031191081538204674, 0.0024401302815036593, 0.0017557271116735852, 0.0014898602538682454, 0.0011029266826559799, 0.0006306832608892826, 0.00047790961071370795, 0.0003566222723039177, 0.029469113477194876, 0.02093628849437883, 0.018084911206274156, 0.01578642170353873, 0.013335136059631904, 0.011670434180773114, 0.008498556426347602, 0.00808851260921292, 0.006168939737261738, 0.00536492028744175, 0.004230564548580098, 0.0032336029037314507, 0.0024871058764319933, 0.00176792760710042, 0.0013273558515519907, 0.0009878460915248154, 0.0006305295846686145, 0.0004994920212945832, 0.0003219744218856355, 0.029148339758649187, 0.021210830352192254, 0.017968068412632703, 0.015653416541613906, 0.01276988922085032, 0.011115161884337123, 0.009041862599112901, 0.007817010923420641, 0.006445640911310724, 0.00492760392388309, 0.004299718598748501, 0.0031489370870791075, 0.002451969556209554, 0.0018312166758173549, 0.0012937683540421064, 0.0009487690863677276, 0.0006644441992834763, 0.0005065084877729851, 0.00033831220360434504, 0.028945021937493026, 0.02133778735092142, 0.018592715822877328, 0.0154942536710234, 0.0131241748041099, 0.011208247049980424, 0.00894125168043545, 0.008043998140785465, 0.006217624830901137, 0.004955280517266005, 0.004114672143317513, 0.0031131590319654493, 0.0024191653000954073, 0.0018176638870944534, 0.0012740753183202247, 0.0009516471870148901, 0.0006437936842492115, 0.000507838701102506, 0.00033328434878658733, 0.029633474581482085, 0.021414090412287555, 0.017658061168852, 0.01576872647154658, 0.012861071181041317, 0.011166755223070144, 0.009376186551300935, 0.007938953607618118, 0.006397727166884226, 0.004984386758530767, 0.004088277793646344, 0.0031189996614471435, 0.00238274104319359, 0.0018500340493351121, 0.0012990005017462323, 0.0009694423432377419, 0.0006402606256625612, 0.0005067053285645929, 0.00033533577554422815, 0.028848384551373528, 0.021480973343400284, 0.01766148042657044, 0.015628952707197614, 0.013200982107070176, 0.011132628926681466, 0.009154382391160985, 0.00798993325476353, 0.0064119134364926025, 0.0049626542340016466, 0.00406637870241394, 0.0030834621024228856, 0.0023771580791714046, 0.0018722686357191126, 0.001279201668356201, 0.0009749640201444521, 0.0006398566517167128, 0.0005066361135475127, 0.00033533577554422815, 0.028874844052929415, 0.02165907173881836, 0.01763186305412835, 0.015537113781662878, 0.01307894119351071, 0.010986768966405176, 0.00923797447701677, 0.007989952725648026, 0.006428534010991518, 0.004979896405570591, 0.00403261109307425, 0.003091012948042818, 0.0023750614892942305, 0.0018699231703372204, 0.001279201668356201, 0.0009749640201444521, 0.0006402782875194822, 0.0005065000179986964, 0.00033533577554422815, 0.028963858089333105, 0.02162346281438747, 0.01759207423143988, 0.01551976406432708, 0.01311269848502313, 0.010993577217936087, 0.009222488812039171, 0.00799136495520615, 0.006430660626696708, 0.004967379733191367, 0.004047023370176747, 0.0030863761930717422, 0.0023738737952814204, 0.0018735023089540945, 0.001279201668356201, 0.0009749640201444521, 0.0006402782875194822, 0.0005065000179986964, 0.00033533577554422815, 0.028969666672531414, 0.021735136754073438, 0.01757091321680456, 0.015526884162096136, 0.013117865175945867, 0.01098979612897458, 0.009233235897113954, 0.007989590407907666, 0.006427318121261076, 0.004957939365206764, 0.004047023370176747, 0.0030863761930717422, 0.0023738737952814204, 0.0018735023089540945, 0.001279201668356201, 0.0009749640201444521, 0.0006402782875194822, 0.0005065000179986964, 0.00033533577554422815, 0.028957674786675335, 0.02164271170403249, 0.017581987822356725, 0.015533845028082267, 0.013098636272085901, 0.010982370675306125, 0.009234765237479816, 0.007991775765140076, 0.006427320981032332, 0.0049578772680542735, 0.004047023370176747, 0.0030863761930717422, 0.0023738737952814204, 0.0018735023089540945, 0.001279201668356201, 0.0009749640201444521, 0.0006402782875194822, 0.0005065000179986964, 0.00033533577554422815, 0.028951966435241894, 0.02167580417177985, 0.01760050958920855, 0.015535987731434695, 0.013084851400515699, 0.010982300179556747, 0.009233242093535527, 0.007991775765140076, 0.006427320981032332, 0.0049578772680542735, 0.004047023370176747, 0.0030863761930717422, 0.0023738737952814204, 0.0018735023089540945, 0.001279201668356201, 0.0009749640201444521, 0.0006402782875194822, 0.0005065000179986964, 0.00033533577554422815, 0.02897139477341748, 0.021677264021459586, 0.017581644523945616, 0.015535987731434695, 0.013094924908808165, 0.010984349334371774, 0.009233242093535527, 0.007991775765140076, 0.006427320981032332, 0.0049578772680542735, 0.004047023370176747, 0.0030863761930717422, 0.0023738737952814204, 0.0018735023089540945, 0.001279201668356201, 0.0009749640201444521, 0.0006402782875194822, 0.0005065000179986964, 0.00033533577554422815, 0.028959230481018634, 0.021677264021459586, 0.017581644523945616, 0.015535987731434695, 0.013094924908808165, 0.010984349334371774, 0.009233242093535527, 0.007991775765140076, 0.006427320981032332, 0.0049578772680542735, 0.004047023370176747, 0.0030863761930717422, 0.0023738737952814204, 0.0018735023089540945, 0.001279201668356201, 0.0009749640201444521, 0.0006402782875194822, 0.0005065000179986964, 0.00033533577554422815, 0.028959230481018634, 0.021677264021459586, 0.017581644523945616, 0.015535987731434695, 0.013094924908808165, 0.010984349334371774, 0.009233242093535527, 0.007991775765140076, 0.006427320981032332, 0.0049578772680542735, 0.004047023370176747, 0.0030863761930717422, 0.0023738737952814204, 0.0018735023089540945, 0.001279201668356201, 0.0009749640201444521, 0.0006402782875194822, 0.0005065000179986964, 0.00033533577554422815]\n"
     ]
    }
   ],
   "source": [
    "print(rf_mse_list)        "
   ]
  },
  {
   "cell_type": "markdown",
   "metadata": {},
   "source": [
    "## STEP 6. \n",
    "Provide convincing visual evidence of the validation MSE performance (from step 5) as a function of max_features and max_depth (and n_estimators if you chose to tune it).    A good way to do this is to plot the error on a graph as a function of the two dimensions max_depth and max_features.  Contour maps work here."
   ]
  },
  {
   "cell_type": "code",
   "execution_count": 73,
   "metadata": {},
   "outputs": [
    {
     "name": "stderr",
     "output_type": "stream",
     "text": [
      "C:\\Users\\Marvin\\Anaconda3\\lib\\site-packages\\matplotlib\\contour.py:1243: UserWarning: No contour levels were found within the data range.\n",
      "  warnings.warn(\"No contour levels were found\"\n"
     ]
    },
    {
     "data": {
      "image/png": "[encoded data removed]",
      "text/plain": [
       "<Figure size 432x288 with 1 Axes>"
      ]
     },
     "metadata": {
      "needs_background": "light"
     },
     "output_type": "display_data"
    }
   ],
   "source": [
    "ax = plt.contour([max_depth_list, max_feat_list], rf_mse_list)"
   ]
  },
  {
   "cell_type": "markdown",
   "metadata": {},
   "source": [
    "## STEP 7.\n",
    "Using code, determine, display visually, and report the values of these parameters with the lowest MSE.  Discuss the minimum value of max_features in light of the random forest recommendation for max_features: sqrt(p) or p/3.  Did your result agree with the general guidance on max features?"
   ]
  },
  {
   "cell_type": "markdown",
   "metadata": {},
   "source": [
    "## STEP 8.\n",
    "Using the best values of  max_features and max_depth found with MSE, fit a new RandomForestRegressor model trained on all the non-test data."
   ]
  },
  {
   "cell_type": "markdown",
   "metadata": {},
   "source": [
    "# Reporting performance on the Test Set"
   ]
  },
  {
   "cell_type": "markdown",
   "metadata": {},
   "source": [
    "## STEP 9.\n",
    "Using code, determine and report the quality of the model for predicting salary on the sequestered test set.  Don’t forget to handle the log transformation you did in data preprocessing – your performance values should be based on real dollars (not log-transformed dollars).  "
   ]
  },
  {
   "cell_type": "markdown",
   "metadata": {},
   "source": [
    "## STEP 10.\n",
    "Develop a scatterplot of the regression residuals:  The figure’s x axis expresses the true dollar amount of salary, the figure’s y axis represents the prediction error (positive values mean overprediction, negative values mean underprediction, and y=0 would mean correct prediction).   Discuss these residuals.  Are they evenly distributed about y=0 through the range of possible true salaries?  Do you see any patterns which would suggest true salaries for which prediction would be poor?"
   ]
  },
  {
   "cell_type": "markdown",
   "metadata": {},
   "source": [
    "## STEP 11.\n",
    "Using the model, report on variable importance - which variables appear to be the most important predictors in the model?  Using the sklearn feature_importance_ attribute of the best fitted model, provide numerical and visual evidence to support your answer (make sure to sort your outputs by feature importance)."
   ]
  },
  {
   "cell_type": "code",
   "execution_count": null,
   "metadata": {},
   "outputs": [],
   "source": []
  }
 ],
 "metadata": {
  "anaconda-cloud": {},
  "kernelspec": {
   "display_name": "Python 3",
   "language": "python",
   "name": "python3"
  },
  "language_info": {
   "codemirror_mode": {
    "name": "ipython",
    "version": 3
   },
   "file_extension": ".py",
   "mimetype": "text/x-python",
   "name": "python",
   "nbconvert_exporter": "python",
   "pygments_lexer": "ipython3",
   "version": "3.7.1"
  },
  "varInspector": {
   "cols": {
    "lenName": 16,
    "lenType": 16,
    "lenVar": 40
   },
   "kernels_config": {
    "python": {
     "delete_cmd_postfix": "",
     "delete_cmd_prefix": "del ",
     "library": "var_list.py",
     "varRefreshCmd": "print(var_dic_list())"
    },
    "r": {
     "delete_cmd_postfix": ") ",
     "delete_cmd_prefix": "rm(",
     "library": "var_list.r",
     "varRefreshCmd": "cat(var_dic_list()) "
    }
   },
   "oldHeight": 477.4,
   "position": {
    "height": "214px",
    "left": "1014.2px",
    "right": "20px",
    "top": "121px",
    "width": "623px"
   },
   "types_to_exclude": [
    "module",
    "function",
    "builtin_function_or_method",
    "instance",
    "_Feature"
   ],
   "varInspector_section_display": "none",
   "window_display": false
  }
 },
 "nbformat": 4,
 "nbformat_minor": 2
}
