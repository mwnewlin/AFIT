{
 "cells": [
  {
   "cell_type": "markdown",
   "metadata": {},
   "source": [
    "# CSCE 623 SP 2019 Assignment 4\n",
    "## NEWLIN, MARVIN\n",
    "## 20190514\n"
   ]
  },
  {
   "cell_type": "code",
   "execution_count": 1,
   "metadata": {},
   "outputs": [],
   "source": [
    "\n",
    "import pandas as pd\n",
    "import numpy as np\n",
    "import matplotlib.pyplot as plt\n",
    "import seaborn as sns\n",
    "\n",
    "\n",
    "from sklearn.preprocessing import scale\n",
    "from sklearn.preprocessing import StandardScaler\n",
    "from sklearn.model_selection import cross_validate\n",
    "from sklearn.linear_model import LinearRegression, Ridge, RidgeCV, Lasso, LassoCV\n",
    "from sklearn.decomposition import PCA\n",
    "from sklearn.cross_decomposition import PLSRegression\n",
    "from sklearn.metrics import mean_squared_error\n",
    "from sklearn.model_selection import train_test_split\n",
    "\n",
    "pd.set_option('display.notebook_repr_html', True)\n",
    "\n",
    "%matplotlib inline\n",
    "plt.style.use('seaborn-white')\n",
    "\n",
    "import warnings\n",
    "warnings.filterwarnings('ignore')\n",
    "#warnings.filterwarnings(action='once')\n",
    "\n",
    "from IPython.display import Markdown as md  #enable markdown within code cell\n",
    "from IPython.display import display, Math, Latex\n",
    "import matplotlib as mpl\n",
    "from itertools import combinations"
   ]
  },
  {
   "cell_type": "markdown",
   "metadata": {},
   "source": [
    "# STEP 0:  Load Data"
   ]
  },
  {
   "cell_type": "code",
   "execution_count": 2,
   "metadata": {},
   "outputs": [
    {
     "name": "stdout",
     "output_type": "stream",
     "text": [
      "<class 'pandas.core.frame.DataFrame'>\n",
      "Index: 263 entries, Alan Ashby to Willie Wilson\n",
      "Data columns (total 20 columns):\n",
      "AtBat        263 non-null int64\n",
      "Hits         263 non-null int64\n",
      "HmRun        263 non-null int64\n",
      "Runs         263 non-null int64\n",
      "RBI          263 non-null int64\n",
      "Walks        263 non-null int64\n",
      "Years        263 non-null int64\n",
      "CAtBat       263 non-null int64\n",
      "CHits        263 non-null int64\n",
      "CHmRun       263 non-null int64\n",
      "CRuns        263 non-null int64\n",
      "CRBI         263 non-null int64\n",
      "CWalks       263 non-null int64\n",
      "League       263 non-null object\n",
      "Division     263 non-null object\n",
      "PutOuts      263 non-null int64\n",
      "Assists      263 non-null int64\n",
      "Errors       263 non-null int64\n",
      "Salary       263 non-null float64\n",
      "NewLeague    263 non-null object\n",
      "dtypes: float64(1), int64(16), object(3)\n",
      "memory usage: 43.1+ KB\n"
     ]
    },
    {
     "data": {
      "text/plain": [
       "None"
      ]
     },
     "metadata": {},
     "output_type": "display_data"
    }
   ],
   "source": [
    "df = pd.read_csv('ISLR_Hitters.csv', index_col=0).dropna()\n",
    "df.index.name = 'Player'\n",
    "display(df.info())"
   ]
  },
  {
   "cell_type": "code",
   "execution_count": 3,
   "metadata": {},
   "outputs": [
    {
     "data": {
      "text/html": [
       "<div>\n",
       "<style scoped>\n",
       "    .dataframe tbody tr th:only-of-type {\n",
       "        vertical-align: middle;\n",
       "    }\n",
       "\n",
       "    .dataframe tbody tr th {\n",
       "        vertical-align: top;\n",
       "    }\n",
       "\n",
       "    .dataframe thead th {\n",
       "        text-align: right;\n",
       "    }\n",
       "</style>\n",
       "<table border=\"1\" class=\"dataframe\">\n",
       "  <thead>\n",
       "    <tr style=\"text-align: right;\">\n",
       "      <th></th>\n",
       "      <th>AtBat</th>\n",
       "      <th>Hits</th>\n",
       "      <th>HmRun</th>\n",
       "      <th>Runs</th>\n",
       "      <th>RBI</th>\n",
       "      <th>Walks</th>\n",
       "      <th>Years</th>\n",
       "      <th>CAtBat</th>\n",
       "      <th>CHits</th>\n",
       "      <th>CHmRun</th>\n",
       "      <th>CRuns</th>\n",
       "      <th>CRBI</th>\n",
       "      <th>CWalks</th>\n",
       "      <th>League</th>\n",
       "      <th>Division</th>\n",
       "      <th>PutOuts</th>\n",
       "      <th>Assists</th>\n",
       "      <th>Errors</th>\n",
       "      <th>Salary</th>\n",
       "      <th>NewLeague</th>\n",
       "    </tr>\n",
       "    <tr>\n",
       "      <th>Player</th>\n",
       "      <th></th>\n",
       "      <th></th>\n",
       "      <th></th>\n",
       "      <th></th>\n",
       "      <th></th>\n",
       "      <th></th>\n",
       "      <th></th>\n",
       "      <th></th>\n",
       "      <th></th>\n",
       "      <th></th>\n",
       "      <th></th>\n",
       "      <th></th>\n",
       "      <th></th>\n",
       "      <th></th>\n",
       "      <th></th>\n",
       "      <th></th>\n",
       "      <th></th>\n",
       "      <th></th>\n",
       "      <th></th>\n",
       "      <th></th>\n",
       "    </tr>\n",
       "  </thead>\n",
       "  <tbody>\n",
       "    <tr>\n",
       "      <th>Alan Ashby</th>\n",
       "      <td>315</td>\n",
       "      <td>81</td>\n",
       "      <td>7</td>\n",
       "      <td>24</td>\n",
       "      <td>38</td>\n",
       "      <td>39</td>\n",
       "      <td>14</td>\n",
       "      <td>3449</td>\n",
       "      <td>835</td>\n",
       "      <td>69</td>\n",
       "      <td>321</td>\n",
       "      <td>414</td>\n",
       "      <td>375</td>\n",
       "      <td>N</td>\n",
       "      <td>W</td>\n",
       "      <td>632</td>\n",
       "      <td>43</td>\n",
       "      <td>10</td>\n",
       "      <td>475.0</td>\n",
       "      <td>N</td>\n",
       "    </tr>\n",
       "    <tr>\n",
       "      <th>Alvin Davis</th>\n",
       "      <td>479</td>\n",
       "      <td>130</td>\n",
       "      <td>18</td>\n",
       "      <td>66</td>\n",
       "      <td>72</td>\n",
       "      <td>76</td>\n",
       "      <td>3</td>\n",
       "      <td>1624</td>\n",
       "      <td>457</td>\n",
       "      <td>63</td>\n",
       "      <td>224</td>\n",
       "      <td>266</td>\n",
       "      <td>263</td>\n",
       "      <td>A</td>\n",
       "      <td>W</td>\n",
       "      <td>880</td>\n",
       "      <td>82</td>\n",
       "      <td>14</td>\n",
       "      <td>480.0</td>\n",
       "      <td>A</td>\n",
       "    </tr>\n",
       "    <tr>\n",
       "      <th>Andre Dawson</th>\n",
       "      <td>496</td>\n",
       "      <td>141</td>\n",
       "      <td>20</td>\n",
       "      <td>65</td>\n",
       "      <td>78</td>\n",
       "      <td>37</td>\n",
       "      <td>11</td>\n",
       "      <td>5628</td>\n",
       "      <td>1575</td>\n",
       "      <td>225</td>\n",
       "      <td>828</td>\n",
       "      <td>838</td>\n",
       "      <td>354</td>\n",
       "      <td>N</td>\n",
       "      <td>E</td>\n",
       "      <td>200</td>\n",
       "      <td>11</td>\n",
       "      <td>3</td>\n",
       "      <td>500.0</td>\n",
       "      <td>N</td>\n",
       "    </tr>\n",
       "    <tr>\n",
       "      <th>Andres Galarraga</th>\n",
       "      <td>321</td>\n",
       "      <td>87</td>\n",
       "      <td>10</td>\n",
       "      <td>39</td>\n",
       "      <td>42</td>\n",
       "      <td>30</td>\n",
       "      <td>2</td>\n",
       "      <td>396</td>\n",
       "      <td>101</td>\n",
       "      <td>12</td>\n",
       "      <td>48</td>\n",
       "      <td>46</td>\n",
       "      <td>33</td>\n",
       "      <td>N</td>\n",
       "      <td>E</td>\n",
       "      <td>805</td>\n",
       "      <td>40</td>\n",
       "      <td>4</td>\n",
       "      <td>91.5</td>\n",
       "      <td>N</td>\n",
       "    </tr>\n",
       "    <tr>\n",
       "      <th>Alfredo Griffin</th>\n",
       "      <td>594</td>\n",
       "      <td>169</td>\n",
       "      <td>4</td>\n",
       "      <td>74</td>\n",
       "      <td>51</td>\n",
       "      <td>35</td>\n",
       "      <td>11</td>\n",
       "      <td>4408</td>\n",
       "      <td>1133</td>\n",
       "      <td>19</td>\n",
       "      <td>501</td>\n",
       "      <td>336</td>\n",
       "      <td>194</td>\n",
       "      <td>A</td>\n",
       "      <td>W</td>\n",
       "      <td>282</td>\n",
       "      <td>421</td>\n",
       "      <td>25</td>\n",
       "      <td>750.0</td>\n",
       "      <td>A</td>\n",
       "    </tr>\n",
       "  </tbody>\n",
       "</table>\n",
       "</div>"
      ],
      "text/plain": [
       "                  AtBat  Hits  HmRun  Runs  RBI  Walks  Years  CAtBat  CHits  \\\n",
       "Player                                                                         \n",
       "Alan Ashby          315    81      7    24   38     39     14    3449    835   \n",
       "Alvin Davis         479   130     18    66   72     76      3    1624    457   \n",
       "Andre Dawson        496   141     20    65   78     37     11    5628   1575   \n",
       "Andres Galarraga    321    87     10    39   42     30      2     396    101   \n",
       "Alfredo Griffin     594   169      4    74   51     35     11    4408   1133   \n",
       "\n",
       "                  CHmRun  CRuns  CRBI  CWalks League Division  PutOuts  \\\n",
       "Player                                                                   \n",
       "Alan Ashby            69    321   414     375      N        W      632   \n",
       "Alvin Davis           63    224   266     263      A        W      880   \n",
       "Andre Dawson         225    828   838     354      N        E      200   \n",
       "Andres Galarraga      12     48    46      33      N        E      805   \n",
       "Alfredo Griffin       19    501   336     194      A        W      282   \n",
       "\n",
       "                  Assists  Errors  Salary NewLeague  \n",
       "Player                                               \n",
       "Alan Ashby             43      10   475.0         N  \n",
       "Alvin Davis            82      14   480.0         A  \n",
       "Andre Dawson           11       3   500.0         N  \n",
       "Andres Galarraga       40       4    91.5         N  \n",
       "Alfredo Griffin       421      25   750.0         A  "
      ]
     },
     "execution_count": 3,
     "metadata": {},
     "output_type": "execute_result"
    }
   ],
   "source": [
    "df.head()"
   ]
  },
  {
   "cell_type": "code",
   "execution_count": 3,
   "metadata": {},
   "outputs": [
    {
     "name": "stdout",
     "output_type": "stream",
     "text": [
      "<class 'pandas.core.frame.DataFrame'>\n",
      "Index: 263 entries, Alan Ashby to Willie Wilson\n",
      "Data columns (total 6 columns):\n",
      "League_A       263 non-null uint8\n",
      "League_N       263 non-null uint8\n",
      "Division_E     263 non-null uint8\n",
      "Division_W     263 non-null uint8\n",
      "NewLeague_A    263 non-null uint8\n",
      "NewLeague_N    263 non-null uint8\n",
      "dtypes: uint8(6)\n",
      "memory usage: 3.6+ KB\n"
     ]
    },
    {
     "data": {
      "text/plain": [
       "None"
      ]
     },
     "metadata": {},
     "output_type": "display_data"
    },
    {
     "data": {
      "text/html": [
       "<div>\n",
       "<style scoped>\n",
       "    .dataframe tbody tr th:only-of-type {\n",
       "        vertical-align: middle;\n",
       "    }\n",
       "\n",
       "    .dataframe tbody tr th {\n",
       "        vertical-align: top;\n",
       "    }\n",
       "\n",
       "    .dataframe thead th {\n",
       "        text-align: right;\n",
       "    }\n",
       "</style>\n",
       "<table border=\"1\" class=\"dataframe\">\n",
       "  <thead>\n",
       "    <tr style=\"text-align: right;\">\n",
       "      <th></th>\n",
       "      <th>League_A</th>\n",
       "      <th>League_N</th>\n",
       "      <th>Division_E</th>\n",
       "      <th>Division_W</th>\n",
       "      <th>NewLeague_A</th>\n",
       "      <th>NewLeague_N</th>\n",
       "    </tr>\n",
       "    <tr>\n",
       "      <th>Player</th>\n",
       "      <th></th>\n",
       "      <th></th>\n",
       "      <th></th>\n",
       "      <th></th>\n",
       "      <th></th>\n",
       "      <th></th>\n",
       "    </tr>\n",
       "  </thead>\n",
       "  <tbody>\n",
       "    <tr>\n",
       "      <th>Alan Ashby</th>\n",
       "      <td>0</td>\n",
       "      <td>1</td>\n",
       "      <td>0</td>\n",
       "      <td>1</td>\n",
       "      <td>0</td>\n",
       "      <td>1</td>\n",
       "    </tr>\n",
       "    <tr>\n",
       "      <th>Alvin Davis</th>\n",
       "      <td>1</td>\n",
       "      <td>0</td>\n",
       "      <td>0</td>\n",
       "      <td>1</td>\n",
       "      <td>1</td>\n",
       "      <td>0</td>\n",
       "    </tr>\n",
       "    <tr>\n",
       "      <th>Andre Dawson</th>\n",
       "      <td>0</td>\n",
       "      <td>1</td>\n",
       "      <td>1</td>\n",
       "      <td>0</td>\n",
       "      <td>0</td>\n",
       "      <td>1</td>\n",
       "    </tr>\n",
       "    <tr>\n",
       "      <th>Andres Galarraga</th>\n",
       "      <td>0</td>\n",
       "      <td>1</td>\n",
       "      <td>1</td>\n",
       "      <td>0</td>\n",
       "      <td>0</td>\n",
       "      <td>1</td>\n",
       "    </tr>\n",
       "    <tr>\n",
       "      <th>Alfredo Griffin</th>\n",
       "      <td>1</td>\n",
       "      <td>0</td>\n",
       "      <td>0</td>\n",
       "      <td>1</td>\n",
       "      <td>1</td>\n",
       "      <td>0</td>\n",
       "    </tr>\n",
       "  </tbody>\n",
       "</table>\n",
       "</div>"
      ],
      "text/plain": [
       "                  League_A  League_N  Division_E  Division_W  NewLeague_A  \\\n",
       "Player                                                                      \n",
       "Alan Ashby               0         1           0           1            0   \n",
       "Alvin Davis              1         0           0           1            1   \n",
       "Andre Dawson             0         1           1           0            0   \n",
       "Andres Galarraga         0         1           1           0            0   \n",
       "Alfredo Griffin          1         0           0           1            1   \n",
       "\n",
       "                  NewLeague_N  \n",
       "Player                         \n",
       "Alan Ashby                  1  \n",
       "Alvin Davis                 0  \n",
       "Andre Dawson                1  \n",
       "Andres Galarraga            1  \n",
       "Alfredo Griffin             0  "
      ]
     },
     "metadata": {},
     "output_type": "display_data"
    }
   ],
   "source": [
    "dummies = pd.get_dummies(df[['League', 'Division', 'NewLeague']])\n",
    "display(dummies.info())\n",
    "display(dummies.head())"
   ]
  },
  {
   "cell_type": "code",
   "execution_count": 4,
   "metadata": {},
   "outputs": [
    {
     "name": "stdout",
     "output_type": "stream",
     "text": [
      "<class 'pandas.core.frame.DataFrame'>\n",
      "Index: 263 entries, Alan Ashby to Willie Wilson\n",
      "Data columns (total 19 columns):\n",
      "AtBat          263 non-null float64\n",
      "Hits           263 non-null float64\n",
      "HmRun          263 non-null float64\n",
      "Runs           263 non-null float64\n",
      "RBI            263 non-null float64\n",
      "Walks          263 non-null float64\n",
      "Years          263 non-null float64\n",
      "CAtBat         263 non-null float64\n",
      "CHits          263 non-null float64\n",
      "CHmRun         263 non-null float64\n",
      "CRuns          263 non-null float64\n",
      "CRBI           263 non-null float64\n",
      "CWalks         263 non-null float64\n",
      "PutOuts        263 non-null float64\n",
      "Assists        263 non-null float64\n",
      "Errors         263 non-null float64\n",
      "League_N       263 non-null uint8\n",
      "Division_W     263 non-null uint8\n",
      "NewLeague_N    263 non-null uint8\n",
      "dtypes: float64(16), uint8(3)\n",
      "memory usage: 35.7+ KB\n"
     ]
    }
   ],
   "source": [
    "y = df.Salary\n",
    "\n",
    "# Drop the column with the independent variable (Salary), and columns for which we created dummy variables\n",
    "X_ = df.drop(['Salary', 'League', 'Division', 'NewLeague'], axis=1).astype('float64')\n",
    "# Define the feature set X.\n",
    "X = pd.concat([X_, dummies[['League_N', 'Division_W', 'NewLeague_N']]], axis=1)\n",
    "X.info()"
   ]
  },
  {
   "cell_type": "code",
   "execution_count": 5,
   "metadata": {},
   "outputs": [
    {
     "data": {
      "text/html": [
       "<div>\n",
       "<style scoped>\n",
       "    .dataframe tbody tr th:only-of-type {\n",
       "        vertical-align: middle;\n",
       "    }\n",
       "\n",
       "    .dataframe tbody tr th {\n",
       "        vertical-align: top;\n",
       "    }\n",
       "\n",
       "    .dataframe thead th {\n",
       "        text-align: right;\n",
       "    }\n",
       "</style>\n",
       "<table border=\"1\" class=\"dataframe\">\n",
       "  <thead>\n",
       "    <tr style=\"text-align: right;\">\n",
       "      <th></th>\n",
       "      <th>AtBat</th>\n",
       "      <th>Hits</th>\n",
       "      <th>HmRun</th>\n",
       "      <th>Runs</th>\n",
       "      <th>RBI</th>\n",
       "      <th>Walks</th>\n",
       "      <th>Years</th>\n",
       "      <th>CAtBat</th>\n",
       "      <th>CHits</th>\n",
       "      <th>CHmRun</th>\n",
       "      <th>CRuns</th>\n",
       "      <th>CRBI</th>\n",
       "      <th>CWalks</th>\n",
       "      <th>PutOuts</th>\n",
       "      <th>Assists</th>\n",
       "      <th>Errors</th>\n",
       "      <th>League_N</th>\n",
       "      <th>Division_W</th>\n",
       "      <th>NewLeague_N</th>\n",
       "    </tr>\n",
       "    <tr>\n",
       "      <th>Player</th>\n",
       "      <th></th>\n",
       "      <th></th>\n",
       "      <th></th>\n",
       "      <th></th>\n",
       "      <th></th>\n",
       "      <th></th>\n",
       "      <th></th>\n",
       "      <th></th>\n",
       "      <th></th>\n",
       "      <th></th>\n",
       "      <th></th>\n",
       "      <th></th>\n",
       "      <th></th>\n",
       "      <th></th>\n",
       "      <th></th>\n",
       "      <th></th>\n",
       "      <th></th>\n",
       "      <th></th>\n",
       "      <th></th>\n",
       "    </tr>\n",
       "  </thead>\n",
       "  <tbody>\n",
       "    <tr>\n",
       "      <th>Alan Ashby</th>\n",
       "      <td>315.0</td>\n",
       "      <td>81.0</td>\n",
       "      <td>7.0</td>\n",
       "      <td>24.0</td>\n",
       "      <td>38.0</td>\n",
       "      <td>39.0</td>\n",
       "      <td>14.0</td>\n",
       "      <td>3449.0</td>\n",
       "      <td>835.0</td>\n",
       "      <td>69.0</td>\n",
       "      <td>321.0</td>\n",
       "      <td>414.0</td>\n",
       "      <td>375.0</td>\n",
       "      <td>632.0</td>\n",
       "      <td>43.0</td>\n",
       "      <td>10.0</td>\n",
       "      <td>1</td>\n",
       "      <td>1</td>\n",
       "      <td>1</td>\n",
       "    </tr>\n",
       "    <tr>\n",
       "      <th>Alvin Davis</th>\n",
       "      <td>479.0</td>\n",
       "      <td>130.0</td>\n",
       "      <td>18.0</td>\n",
       "      <td>66.0</td>\n",
       "      <td>72.0</td>\n",
       "      <td>76.0</td>\n",
       "      <td>3.0</td>\n",
       "      <td>1624.0</td>\n",
       "      <td>457.0</td>\n",
       "      <td>63.0</td>\n",
       "      <td>224.0</td>\n",
       "      <td>266.0</td>\n",
       "      <td>263.0</td>\n",
       "      <td>880.0</td>\n",
       "      <td>82.0</td>\n",
       "      <td>14.0</td>\n",
       "      <td>0</td>\n",
       "      <td>1</td>\n",
       "      <td>0</td>\n",
       "    </tr>\n",
       "    <tr>\n",
       "      <th>Andre Dawson</th>\n",
       "      <td>496.0</td>\n",
       "      <td>141.0</td>\n",
       "      <td>20.0</td>\n",
       "      <td>65.0</td>\n",
       "      <td>78.0</td>\n",
       "      <td>37.0</td>\n",
       "      <td>11.0</td>\n",
       "      <td>5628.0</td>\n",
       "      <td>1575.0</td>\n",
       "      <td>225.0</td>\n",
       "      <td>828.0</td>\n",
       "      <td>838.0</td>\n",
       "      <td>354.0</td>\n",
       "      <td>200.0</td>\n",
       "      <td>11.0</td>\n",
       "      <td>3.0</td>\n",
       "      <td>1</td>\n",
       "      <td>0</td>\n",
       "      <td>1</td>\n",
       "    </tr>\n",
       "    <tr>\n",
       "      <th>Andres Galarraga</th>\n",
       "      <td>321.0</td>\n",
       "      <td>87.0</td>\n",
       "      <td>10.0</td>\n",
       "      <td>39.0</td>\n",
       "      <td>42.0</td>\n",
       "      <td>30.0</td>\n",
       "      <td>2.0</td>\n",
       "      <td>396.0</td>\n",
       "      <td>101.0</td>\n",
       "      <td>12.0</td>\n",
       "      <td>48.0</td>\n",
       "      <td>46.0</td>\n",
       "      <td>33.0</td>\n",
       "      <td>805.0</td>\n",
       "      <td>40.0</td>\n",
       "      <td>4.0</td>\n",
       "      <td>1</td>\n",
       "      <td>0</td>\n",
       "      <td>1</td>\n",
       "    </tr>\n",
       "    <tr>\n",
       "      <th>Alfredo Griffin</th>\n",
       "      <td>594.0</td>\n",
       "      <td>169.0</td>\n",
       "      <td>4.0</td>\n",
       "      <td>74.0</td>\n",
       "      <td>51.0</td>\n",
       "      <td>35.0</td>\n",
       "      <td>11.0</td>\n",
       "      <td>4408.0</td>\n",
       "      <td>1133.0</td>\n",
       "      <td>19.0</td>\n",
       "      <td>501.0</td>\n",
       "      <td>336.0</td>\n",
       "      <td>194.0</td>\n",
       "      <td>282.0</td>\n",
       "      <td>421.0</td>\n",
       "      <td>25.0</td>\n",
       "      <td>0</td>\n",
       "      <td>1</td>\n",
       "      <td>0</td>\n",
       "    </tr>\n",
       "  </tbody>\n",
       "</table>\n",
       "</div>"
      ],
      "text/plain": [
       "                  AtBat   Hits  HmRun  Runs   RBI  Walks  Years  CAtBat  \\\n",
       "Player                                                                    \n",
       "Alan Ashby        315.0   81.0    7.0  24.0  38.0   39.0   14.0  3449.0   \n",
       "Alvin Davis       479.0  130.0   18.0  66.0  72.0   76.0    3.0  1624.0   \n",
       "Andre Dawson      496.0  141.0   20.0  65.0  78.0   37.0   11.0  5628.0   \n",
       "Andres Galarraga  321.0   87.0   10.0  39.0  42.0   30.0    2.0   396.0   \n",
       "Alfredo Griffin   594.0  169.0    4.0  74.0  51.0   35.0   11.0  4408.0   \n",
       "\n",
       "                   CHits  CHmRun  CRuns   CRBI  CWalks  PutOuts  Assists  \\\n",
       "Player                                                                     \n",
       "Alan Ashby         835.0    69.0  321.0  414.0   375.0    632.0     43.0   \n",
       "Alvin Davis        457.0    63.0  224.0  266.0   263.0    880.0     82.0   \n",
       "Andre Dawson      1575.0   225.0  828.0  838.0   354.0    200.0     11.0   \n",
       "Andres Galarraga   101.0    12.0   48.0   46.0    33.0    805.0     40.0   \n",
       "Alfredo Griffin   1133.0    19.0  501.0  336.0   194.0    282.0    421.0   \n",
       "\n",
       "                  Errors  League_N  Division_W  NewLeague_N  \n",
       "Player                                                       \n",
       "Alan Ashby          10.0         1           1            1  \n",
       "Alvin Davis         14.0         0           1            0  \n",
       "Andre Dawson         3.0         1           0            1  \n",
       "Andres Galarraga     4.0         1           0            1  \n",
       "Alfredo Griffin     25.0         0           1            0  "
      ]
     },
     "metadata": {},
     "output_type": "display_data"
    }
   ],
   "source": [
    "display(X.head(5))"
   ]
  },
  {
   "cell_type": "markdown",
   "metadata": {},
   "source": [
    "## 0.1 Split data into test and non-test sets\n"
   ]
  },
  {
   "cell_type": "code",
   "execution_count": 6,
   "metadata": {},
   "outputs": [],
   "source": [
    "X_nonTest, X_test, y_nonTest, y_test = train_test_split(X, y, test_size=0.33, random_state=42)"
   ]
  },
  {
   "cell_type": "markdown",
   "metadata": {},
   "source": [
    "## 0.2 Scale all X data using nonTest data scaler\n",
    "Scale the data features since we dont want some features to affect the linear regressions differently just becasue they have different scales"
   ]
  },
  {
   "cell_type": "code",
   "execution_count": 7,
   "metadata": {},
   "outputs": [],
   "source": [
    "scaler = StandardScaler()\n",
    "scaler.fit(X_nonTest)\n",
    "X_nonTestScaled = scaler.transform(X_nonTest)  #non-test data scaled using non-test data mean and var\n",
    "X_testScaled = scaler.transform(X_test)   #test data scaled using non-test data mean and var (prevents \"learning\" about the test set)"
   ]
  },
  {
   "cell_type": "markdown",
   "metadata": {},
   "source": [
    "# STEP 1:  Explore the data & make prediction about features"
   ]
  },
  {
   "cell_type": "code",
   "execution_count": 8,
   "metadata": {},
   "outputs": [
    {
     "data": {
      "image/png": "[encoded data removed]",
      "text/plain": [
       "<Figure size 1440x1440 with 18 Axes>"
      ]
     },
     "metadata": {
      "needs_background": "light"
     },
     "output_type": "display_data"
    }
   ],
   "source": [
    "fig1 = plt.figure(figsize=(20,20))\n",
    "grid = mpl.gridspec.GridSpec(5, 4)\n",
    "subplots = []\n",
    "\n",
    "X_nonTestScaled_df = pd.DataFrame(X_nonTestScaled, columns=X.columns)\n",
    "\n",
    "for i in range(5):\n",
    "    for j in range(4):\n",
    "        curr_col = 4*i+(j+1) # convert grid position to array position\n",
    "        if curr_col < len(X_nonTestScaled_df.columns):\n",
    "            ax1 = plt.subplot(grid[i,j])\n",
    "            ax1.scatter(X_nonTestScaled_df.iloc[:,curr_col], y_nonTest)\n",
    "            ax1.set_xlabel(X_nonTestScaled_df.columns[curr_col])\n",
    "            ax1.set_ylabel('Salary')\n",
    "           \n"
   ]
  },
  {
   "cell_type": "markdown",
   "metadata": {},
   "source": [
    "### Predictions\n",
    "Based on the scatterplots above, the 6 features that appear to have the strongest relationship with salary are:\n",
    "* Hits\n",
    "* Home Runs\n",
    "* Career Hits (CHits)\n",
    "* Career Home Runs (CHmRuns)\n",
    "* Career At Bats (CAtBat)\n",
    "* Career RBI (CRBI)\n",
    "\n",
    "These 6 features appear to have the strongest correlation with salary. The dummy variables all appear to have about an even split for salary so there doesn't appear to be a relation with salary there. Overall, the career performance numbers (career hits,  career home runs, career at bats, and career RBIs) all appear to have the least amount of variance in the relationship between the feature and salary. "
   ]
  },
  {
   "cell_type": "markdown",
   "metadata": {},
   "source": [
    "# STEP 2:  Write Function For Best-Subset"
   ]
  },
  {
   "cell_type": "code",
   "execution_count": 9,
   "metadata": {},
   "outputs": [],
   "source": [
    "def bestSubset(X_nonTest,y_nonTest, k):\n",
    "    kfeatures = []  #placeholder\n",
    "    kMSE = []  #placeholder\n",
    "    \n",
    "    # insert student code here\n",
    "    features_list = X_nonTest.columns\n",
    "    feature_combinations = combinations(features_list, k) # Generate p choose k combinations of features\n",
    "    lin_reg = LinearRegression()\n",
    "    \n",
    "    #Generate the subsets: Algorithm step 2a\n",
    "    for feature_set in feature_combinations:\n",
    "        \n",
    "        X_subset = X_nonTest.loc[:, feature_set] # Select the columns from the dataframe in the feature set\n",
    "        \n",
    "        #Algorithm step 2b: Select best model\n",
    "        # Run 5 fold cross validation with MSE as metric using sklearn cross_validate function\n",
    "        cv_results = cross_validate(lin_reg, X_subset, y_nonTest, cv=5, scoring=('neg_mean_squared_error'))\n",
    "        # Calculate the mean test score from 5-fold cross validation\n",
    "        avg_mse = np.abs(cv_results['test_score'].mean()) #  Take absolute value\n",
    "        \n",
    "        kfeatures.append(feature_set)\n",
    "        kMSE.append(avg_mse)\n",
    "    #End for\n",
    "    kfeatures = np.array(kfeatures)\n",
    "    kMSE = np.array(kMSE)\n",
    "    # Return the feature set that corresponsds to minimum mse and the minimmum mse\n",
    "    return (kfeatures[np.argmin(kMSE)], np.min(kMSE)) "
   ]
  },
  {
   "cell_type": "markdown",
   "metadata": {},
   "source": [
    "# STEP 3:  Execute best subset"
   ]
  },
  {
   "cell_type": "code",
   "execution_count": 10,
   "metadata": {},
   "outputs": [],
   "source": [
    "\n",
    "best_subset_models = []\n",
    "\n",
    "for k in range(1,7):\n",
    "    mod = bestSubset(X_nonTestScaled_df, y_nonTest, k)\n",
    "    best_subset_models.append(mod)\n",
    "\n"
   ]
  },
  {
   "cell_type": "markdown",
   "metadata": {},
   "source": [
    "# STEP 4:  Plot of Avg Crossval MSE for 6 best models with annotated best point"
   ]
  },
  {
   "cell_type": "code",
   "execution_count": 11,
   "metadata": {},
   "outputs": [],
   "source": [
    "\"\"\"\n",
    "    This function creates a selected feature chart (dataframe) from the passed in model list\n",
    "    It will display an 'X' in the columns for the selected feature and be empty otherwise\n",
    "\"\"\"\n",
    "def make_feature_chart(X_nonTest, model_list):\n",
    "    features_df = pd.DataFrame(index=[1,2,3,4,5,6], columns=X_nonTestScaled_df.columns, dtype=str)\n",
    "    features_df = features_df.replace(np.nan, '', regex=True)\n",
    "    for feature in features_df.columns:\n",
    "        for i in range(0,len(model_list)):\n",
    "            mod = model_list[i]\n",
    "            feat_list = mod[0]\n",
    "            for j in range(len(feat_list)):\n",
    "                if feat_list[j] == feature:\n",
    "                    features_df.loc[i+1, feature] = 'X'\n",
    "    return features_df"
   ]
  },
  {
   "cell_type": "code",
   "execution_count": 12,
   "metadata": {},
   "outputs": [
    {
     "data": {
      "text/markdown": [
       "### Table of features selected per model order for Best Subset Selection"
      ],
      "text/plain": [
       "<IPython.core.display.Markdown object>"
      ]
     },
     "metadata": {},
     "output_type": "display_data"
    },
    {
     "data": {
      "text/html": [
       "<div>\n",
       "<style scoped>\n",
       "    .dataframe tbody tr th:only-of-type {\n",
       "        vertical-align: middle;\n",
       "    }\n",
       "\n",
       "    .dataframe tbody tr th {\n",
       "        vertical-align: top;\n",
       "    }\n",
       "\n",
       "    .dataframe thead th {\n",
       "        text-align: right;\n",
       "    }\n",
       "</style>\n",
       "<table border=\"1\" class=\"dataframe\">\n",
       "  <thead>\n",
       "    <tr style=\"text-align: right;\">\n",
       "      <th></th>\n",
       "      <th>AtBat</th>\n",
       "      <th>Hits</th>\n",
       "      <th>HmRun</th>\n",
       "      <th>Runs</th>\n",
       "      <th>RBI</th>\n",
       "      <th>Walks</th>\n",
       "      <th>Years</th>\n",
       "      <th>CAtBat</th>\n",
       "      <th>CHits</th>\n",
       "      <th>CHmRun</th>\n",
       "      <th>CRuns</th>\n",
       "      <th>CRBI</th>\n",
       "      <th>CWalks</th>\n",
       "      <th>PutOuts</th>\n",
       "      <th>Assists</th>\n",
       "      <th>Errors</th>\n",
       "      <th>League_N</th>\n",
       "      <th>Division_W</th>\n",
       "      <th>NewLeague_N</th>\n",
       "    </tr>\n",
       "  </thead>\n",
       "  <tbody>\n",
       "    <tr>\n",
       "      <th>1</th>\n",
       "      <td></td>\n",
       "      <td></td>\n",
       "      <td></td>\n",
       "      <td></td>\n",
       "      <td></td>\n",
       "      <td></td>\n",
       "      <td></td>\n",
       "      <td></td>\n",
       "      <td></td>\n",
       "      <td></td>\n",
       "      <td></td>\n",
       "      <td>X</td>\n",
       "      <td></td>\n",
       "      <td></td>\n",
       "      <td></td>\n",
       "      <td></td>\n",
       "      <td></td>\n",
       "      <td></td>\n",
       "      <td></td>\n",
       "    </tr>\n",
       "    <tr>\n",
       "      <th>2</th>\n",
       "      <td></td>\n",
       "      <td>X</td>\n",
       "      <td></td>\n",
       "      <td></td>\n",
       "      <td></td>\n",
       "      <td></td>\n",
       "      <td></td>\n",
       "      <td></td>\n",
       "      <td></td>\n",
       "      <td></td>\n",
       "      <td></td>\n",
       "      <td>X</td>\n",
       "      <td></td>\n",
       "      <td></td>\n",
       "      <td></td>\n",
       "      <td></td>\n",
       "      <td></td>\n",
       "      <td></td>\n",
       "      <td></td>\n",
       "    </tr>\n",
       "    <tr>\n",
       "      <th>3</th>\n",
       "      <td></td>\n",
       "      <td>X</td>\n",
       "      <td></td>\n",
       "      <td></td>\n",
       "      <td></td>\n",
       "      <td></td>\n",
       "      <td></td>\n",
       "      <td></td>\n",
       "      <td></td>\n",
       "      <td></td>\n",
       "      <td></td>\n",
       "      <td>X</td>\n",
       "      <td></td>\n",
       "      <td>X</td>\n",
       "      <td></td>\n",
       "      <td></td>\n",
       "      <td></td>\n",
       "      <td></td>\n",
       "      <td></td>\n",
       "    </tr>\n",
       "    <tr>\n",
       "      <th>4</th>\n",
       "      <td>X</td>\n",
       "      <td>X</td>\n",
       "      <td></td>\n",
       "      <td></td>\n",
       "      <td></td>\n",
       "      <td></td>\n",
       "      <td></td>\n",
       "      <td></td>\n",
       "      <td></td>\n",
       "      <td></td>\n",
       "      <td></td>\n",
       "      <td>X</td>\n",
       "      <td></td>\n",
       "      <td>X</td>\n",
       "      <td></td>\n",
       "      <td></td>\n",
       "      <td></td>\n",
       "      <td></td>\n",
       "      <td></td>\n",
       "    </tr>\n",
       "    <tr>\n",
       "      <th>5</th>\n",
       "      <td>X</td>\n",
       "      <td>X</td>\n",
       "      <td></td>\n",
       "      <td></td>\n",
       "      <td></td>\n",
       "      <td></td>\n",
       "      <td></td>\n",
       "      <td></td>\n",
       "      <td></td>\n",
       "      <td></td>\n",
       "      <td></td>\n",
       "      <td>X</td>\n",
       "      <td></td>\n",
       "      <td>X</td>\n",
       "      <td></td>\n",
       "      <td></td>\n",
       "      <td></td>\n",
       "      <td>X</td>\n",
       "      <td></td>\n",
       "    </tr>\n",
       "    <tr>\n",
       "      <th>6</th>\n",
       "      <td>X</td>\n",
       "      <td>X</td>\n",
       "      <td></td>\n",
       "      <td></td>\n",
       "      <td></td>\n",
       "      <td></td>\n",
       "      <td></td>\n",
       "      <td></td>\n",
       "      <td></td>\n",
       "      <td></td>\n",
       "      <td></td>\n",
       "      <td>X</td>\n",
       "      <td></td>\n",
       "      <td>X</td>\n",
       "      <td></td>\n",
       "      <td></td>\n",
       "      <td>X</td>\n",
       "      <td>X</td>\n",
       "      <td></td>\n",
       "    </tr>\n",
       "  </tbody>\n",
       "</table>\n",
       "</div>"
      ],
      "text/plain": [
       "  AtBat Hits HmRun Runs RBI Walks Years CAtBat CHits CHmRun CRuns CRBI CWalks  \\\n",
       "1                                                                    X          \n",
       "2          X                                                         X          \n",
       "3          X                                                         X          \n",
       "4     X    X                                                         X          \n",
       "5     X    X                                                         X          \n",
       "6     X    X                                                         X          \n",
       "\n",
       "  PutOuts Assists Errors League_N Division_W NewLeague_N  \n",
       "1                                                         \n",
       "2                                                         \n",
       "3       X                                                 \n",
       "4       X                                                 \n",
       "5       X                                  X              \n",
       "6       X                       X          X              "
      ]
     },
     "metadata": {},
     "output_type": "display_data"
    }
   ],
   "source": [
    "model_list = best_subset_models\n",
    "\n",
    "# Convert to dataframe for display\n",
    "best_subset_features_df = make_feature_chart(X_nonTestScaled_df, model_list)\n",
    "\n",
    "# End for\n",
    "display(md(\"### Table of features selected per model order for Best Subset Selection\"))\n",
    "display(best_subset_features_df.head(6))\n"
   ]
  },
  {
   "cell_type": "markdown",
   "metadata": {},
   "source": [
    "### Discussion of Features Selected\n",
    "\n",
    "The results that are not surprising are the CRBI and Hits being selected as an important feature in every model. It is surprising that PutOuts and Division_W are selected prior to AtBat. Additionally, I was surprised at League_N being selected as an important feature in the 6 feature subset. \n",
    "\n",
    "\n",
    "### Plot of Model Order vs. MSE"
   ]
  },
  {
   "cell_type": "code",
   "execution_count": 13,
   "metadata": {},
   "outputs": [],
   "source": [
    "\"\"\"\n",
    "    This function plots the passed in model orders vs the passed in MSE values.\n",
    "\"\"\"\n",
    "def plot_model(model_order, mse_list, title, labels):\n",
    "    fig = plt.figure(figsize=(8,5))\n",
    "    ax1 = plt.subplot()\n",
    "    for i in range(len(mse_list)):\n",
    "        ax1.plot(model_order,mse_list[i], '-o')\n",
    "    ax1.set_xlabel('Model Order')\n",
    "    ax1.set_ylabel('Mean Squared Error')\n",
    "    ax1.set_title(title)\n",
    "    plt.legend(labels)"
   ]
  },
  {
   "cell_type": "code",
   "execution_count": 14,
   "metadata": {},
   "outputs": [
    {
     "data": {
      "text/markdown": [
       "### Best Subset Selection"
      ],
      "text/plain": [
       "<IPython.core.display.Markdown object>"
      ]
     },
     "metadata": {},
     "output_type": "display_data"
    },
    {
     "data": {
      "text/markdown": [
       "#### Model Order: 6"
      ],
      "text/plain": [
       "<IPython.core.display.Markdown object>"
      ]
     },
     "metadata": {},
     "output_type": "display_data"
    },
    {
     "data": {
      "text/markdown": [
       "#### MSE: 85915.54"
      ],
      "text/plain": [
       "<IPython.core.display.Markdown object>"
      ]
     },
     "metadata": {},
     "output_type": "display_data"
    },
    {
     "data": {
      "image/png": "[encoded data removed]",
      "text/plain": [
       "<Figure size 576x360 with 1 Axes>"
      ]
     },
     "metadata": {
      "needs_background": "light"
     },
     "output_type": "display_data"
    }
   ],
   "source": [
    "mse = []\n",
    "for mod in model_list:\n",
    "    err = mod[1]\n",
    "    mse.append(err)\n",
    "mods = np.arange(1,7,1)\n",
    "min_x = 0\n",
    "min_y = 1000000\n",
    "for i in range(len(mse)):\n",
    "    if mse[i] < min_y:\n",
    "        min_y = mse[i]\n",
    "        min_x = i+1\n",
    "best_subset_min_point = (min_x, min_y)\n",
    "\n",
    "display(md(\"### Best Subset Selection\"))\n",
    "display(md(\"#### Model Order: {}\".format(best_subset_min_point[0])))\n",
    "display(md(\"#### MSE: {0:.2f}\".format(best_subset_min_point[1])))\n",
    "\n",
    "_ = plot_model(mods, [mse], \"Model Order vs. MSE\", ['Best Subset Selection'])\n",
    "_ = plt.plot(best_subset_min_point[0],best_subset_min_point[1], 'bx', markersize=12)\n",
    "_ = plt.annotate('Minimum MSE for Best Subset Selection', xy=best_subset_min_point, xytext=(best_subset_min_point[0]-2,best_subset_min_point[1]+10000), \n",
    "                 arrowprops=dict(arrowstyle=\"->\", connectionstyle=\"arc3\", ec=\"blue\"), color='blue')"
   ]
  },
  {
   "cell_type": "markdown",
   "metadata": {},
   "source": [
    "# STEP 5:  Discussion of best subset models\n",
    "\n",
    "As we can see above, the 6 feature model has the lowest MSE of all of the models considered with an MSE of 85915.54. We see that as we add features, the MSE decreases with each feature added until we reach the 6 feature model. The features selected by the model are AtBat, Hits, CRBI, PutOuts, League_N, Division_W.\n",
    "\n",
    "Interestingly, with each step, even though we are exhaustively considering all possibilites, each new model contains all of the features of the previous models as shown in the table above. Since we are considering every single subset it is surprising that no features disappear in later models. "
   ]
  },
  {
   "cell_type": "markdown",
   "metadata": {},
   "source": [
    "# STEP 6:  Write Function For Forward Stepwise Subset Selection"
   ]
  },
  {
   "cell_type": "code",
   "execution_count": 15,
   "metadata": {},
   "outputs": [],
   "source": [
    "def forwardStepwiseSubset(X_nonTest,y_nonTest, k):\n",
    "    kfeatures = []  #placeholder\n",
    "    kMSE = 0  #placeholder\n",
    "    \n",
    "    # insert student code here\n",
    "    features = list(X_nonTest.columns)\n",
    "    available_features = features.copy()\n",
    "    selected_features = []\n",
    "    lin_reg = LinearRegression()\n",
    "    n = len(X_nonTest.index)                      # Number of samples for adjusted R2\n",
    "    min_mse = 0\n",
    "    # Build feature list of length k\n",
    "    for i in range(k):\n",
    "        max_r2 = -1\n",
    "    \n",
    "        best_feature = \"\"\n",
    "        \n",
    "        model_features = selected_features.copy() # Get current model features\n",
    "        for feature in available_features:        # Iterate through non selected features\n",
    "            model_features.append(feature)        # Append the next feature to get val MSE\n",
    "            \n",
    "            # Select features from dataframe\n",
    "            X_subset = X_nonTest.loc[:, model_features] # Select the columns from the dataframe in the feature set\n",
    "        \n",
    "        \n",
    "            #Algorithm step 2b: Select best model\n",
    "            # Run 5 fold cross validation with MSE as metric using sklearn cross_validate function\n",
    "            cv_results = cross_validate(lin_reg, X_subset, y_nonTest, cv=5, \n",
    "                                        scoring=('r2', 'neg_mean_squared_error'))\n",
    "            \n",
    "            # Calculate the mean test score from 5-fold cross validation\n",
    "            avg_r2 = cv_results['test_r2'].mean()\n",
    "            \n",
    "            avg_mse = -cv_results['test_neg_mean_squared_error'].mean()\n",
    "            # Select highest R2 Score (R2 used based on algorithm step 2b, p.207 )\n",
    "            if avg_r2 > max_r2:\n",
    "                max_r2 = avg_r2\n",
    "                min_mse = avg_mse\n",
    "                best_feature = feature # Select current best feature\n",
    "            # Reset model features\n",
    "            model_features.remove(feature)\n",
    "        # End for\n",
    "        \n",
    "        # Add best feature to selected features\n",
    "        selected_features.append(best_feature)\n",
    "        available_features.remove(best_feature)\n",
    "    # End for\n",
    "    kfeatures = selected_features.copy()\n",
    "    kMSE = min_mse\n",
    "    return (kfeatures, kMSE) "
   ]
  },
  {
   "cell_type": "markdown",
   "metadata": {},
   "source": [
    "# STEP 7:  Execute Forward subset"
   ]
  },
  {
   "cell_type": "code",
   "execution_count": 16,
   "metadata": {},
   "outputs": [],
   "source": [
    "fwd_subset_model_list = []\n",
    "for i in range(1,7):\n",
    "    fwd_mod = forwardStepwiseSubset(X_nonTestScaled_df,y_nonTest, i)\n",
    "    fwd_subset_model_list.append(fwd_mod)"
   ]
  },
  {
   "cell_type": "code",
   "execution_count": 16,
   "metadata": {},
   "outputs": [
    {
     "data": {
      "text/markdown": [
       "### Table of features selected per model order for Forward Subset Selection"
      ],
      "text/plain": [
       "<IPython.core.display.Markdown object>"
      ]
     },
     "metadata": {},
     "output_type": "display_data"
    },
    {
     "data": {
      "text/html": [
       "<div>\n",
       "<style scoped>\n",
       "    .dataframe tbody tr th:only-of-type {\n",
       "        vertical-align: middle;\n",
       "    }\n",
       "\n",
       "    .dataframe tbody tr th {\n",
       "        vertical-align: top;\n",
       "    }\n",
       "\n",
       "    .dataframe thead th {\n",
       "        text-align: right;\n",
       "    }\n",
       "</style>\n",
       "<table border=\"1\" class=\"dataframe\">\n",
       "  <thead>\n",
       "    <tr style=\"text-align: right;\">\n",
       "      <th></th>\n",
       "      <th>AtBat</th>\n",
       "      <th>Hits</th>\n",
       "      <th>HmRun</th>\n",
       "      <th>Runs</th>\n",
       "      <th>RBI</th>\n",
       "      <th>Walks</th>\n",
       "      <th>Years</th>\n",
       "      <th>CAtBat</th>\n",
       "      <th>CHits</th>\n",
       "      <th>CHmRun</th>\n",
       "      <th>CRuns</th>\n",
       "      <th>CRBI</th>\n",
       "      <th>CWalks</th>\n",
       "      <th>PutOuts</th>\n",
       "      <th>Assists</th>\n",
       "      <th>Errors</th>\n",
       "      <th>League_N</th>\n",
       "      <th>Division_W</th>\n",
       "      <th>NewLeague_N</th>\n",
       "    </tr>\n",
       "  </thead>\n",
       "  <tbody>\n",
       "    <tr>\n",
       "      <th>1</th>\n",
       "      <td></td>\n",
       "      <td></td>\n",
       "      <td></td>\n",
       "      <td></td>\n",
       "      <td></td>\n",
       "      <td></td>\n",
       "      <td></td>\n",
       "      <td></td>\n",
       "      <td></td>\n",
       "      <td></td>\n",
       "      <td></td>\n",
       "      <td>X</td>\n",
       "      <td></td>\n",
       "      <td></td>\n",
       "      <td></td>\n",
       "      <td></td>\n",
       "      <td></td>\n",
       "      <td></td>\n",
       "      <td></td>\n",
       "    </tr>\n",
       "    <tr>\n",
       "      <th>2</th>\n",
       "      <td></td>\n",
       "      <td>X</td>\n",
       "      <td></td>\n",
       "      <td></td>\n",
       "      <td></td>\n",
       "      <td></td>\n",
       "      <td></td>\n",
       "      <td></td>\n",
       "      <td></td>\n",
       "      <td></td>\n",
       "      <td></td>\n",
       "      <td>X</td>\n",
       "      <td></td>\n",
       "      <td></td>\n",
       "      <td></td>\n",
       "      <td></td>\n",
       "      <td></td>\n",
       "      <td></td>\n",
       "      <td></td>\n",
       "    </tr>\n",
       "    <tr>\n",
       "      <th>3</th>\n",
       "      <td></td>\n",
       "      <td>X</td>\n",
       "      <td></td>\n",
       "      <td></td>\n",
       "      <td></td>\n",
       "      <td></td>\n",
       "      <td></td>\n",
       "      <td></td>\n",
       "      <td></td>\n",
       "      <td></td>\n",
       "      <td></td>\n",
       "      <td>X</td>\n",
       "      <td></td>\n",
       "      <td>X</td>\n",
       "      <td></td>\n",
       "      <td></td>\n",
       "      <td></td>\n",
       "      <td></td>\n",
       "      <td></td>\n",
       "    </tr>\n",
       "    <tr>\n",
       "      <th>4</th>\n",
       "      <td>X</td>\n",
       "      <td>X</td>\n",
       "      <td></td>\n",
       "      <td></td>\n",
       "      <td></td>\n",
       "      <td></td>\n",
       "      <td></td>\n",
       "      <td></td>\n",
       "      <td></td>\n",
       "      <td></td>\n",
       "      <td></td>\n",
       "      <td>X</td>\n",
       "      <td></td>\n",
       "      <td>X</td>\n",
       "      <td></td>\n",
       "      <td></td>\n",
       "      <td></td>\n",
       "      <td></td>\n",
       "      <td></td>\n",
       "    </tr>\n",
       "    <tr>\n",
       "      <th>5</th>\n",
       "      <td>X</td>\n",
       "      <td>X</td>\n",
       "      <td></td>\n",
       "      <td></td>\n",
       "      <td></td>\n",
       "      <td></td>\n",
       "      <td></td>\n",
       "      <td></td>\n",
       "      <td></td>\n",
       "      <td></td>\n",
       "      <td></td>\n",
       "      <td>X</td>\n",
       "      <td></td>\n",
       "      <td>X</td>\n",
       "      <td></td>\n",
       "      <td></td>\n",
       "      <td></td>\n",
       "      <td>X</td>\n",
       "      <td></td>\n",
       "    </tr>\n",
       "    <tr>\n",
       "      <th>6</th>\n",
       "      <td>X</td>\n",
       "      <td>X</td>\n",
       "      <td></td>\n",
       "      <td></td>\n",
       "      <td></td>\n",
       "      <td></td>\n",
       "      <td></td>\n",
       "      <td></td>\n",
       "      <td></td>\n",
       "      <td></td>\n",
       "      <td></td>\n",
       "      <td>X</td>\n",
       "      <td></td>\n",
       "      <td>X</td>\n",
       "      <td></td>\n",
       "      <td></td>\n",
       "      <td>X</td>\n",
       "      <td>X</td>\n",
       "      <td></td>\n",
       "    </tr>\n",
       "  </tbody>\n",
       "</table>\n",
       "</div>"
      ],
      "text/plain": [
       "  AtBat Hits HmRun Runs RBI Walks Years CAtBat CHits CHmRun CRuns CRBI CWalks  \\\n",
       "1                                                                    X          \n",
       "2          X                                                         X          \n",
       "3          X                                                         X          \n",
       "4     X    X                                                         X          \n",
       "5     X    X                                                         X          \n",
       "6     X    X                                                         X          \n",
       "\n",
       "  PutOuts Assists Errors League_N Division_W NewLeague_N  \n",
       "1                                                         \n",
       "2                                                         \n",
       "3       X                                                 \n",
       "4       X                                                 \n",
       "5       X                                  X              \n",
       "6       X                       X          X              "
      ]
     },
     "metadata": {},
     "output_type": "display_data"
    }
   ],
   "source": [
    "# Convert to dataframe for display\n",
    "fwd_features_df = make_feature_chart(X_nonTestScaled_df, model_list)\n",
    "\n",
    "# End for\n",
    "display(md(\"### Table of features selected per model order for Forward Subset Selection\"))\n",
    "display(fwd_features_df.head(6))"
   ]
  },
  {
   "cell_type": "markdown",
   "metadata": {},
   "source": [
    "As we can see above, the features selected for Forward Subset Selection at each point are identical to the features selected for Best Subset Selection. Since we fit these models with the same method, the MSE values with most likely be identical as well.\n",
    "\n",
    "\n",
    "\n",
    "# STEP 8:  Updated Plot of Avg Crossval MSE & best points"
   ]
  },
  {
   "cell_type": "code",
   "execution_count": 17,
   "metadata": {},
   "outputs": [
    {
     "data": {
      "text/markdown": [
       "### Best Subset Selection"
      ],
      "text/plain": [
       "<IPython.core.display.Markdown object>"
      ]
     },
     "metadata": {},
     "output_type": "display_data"
    },
    {
     "data": {
      "text/markdown": [
       "#### Model Order: 6"
      ],
      "text/plain": [
       "<IPython.core.display.Markdown object>"
      ]
     },
     "metadata": {},
     "output_type": "display_data"
    },
    {
     "data": {
      "text/markdown": [
       "#### MSE: 85915.54"
      ],
      "text/plain": [
       "<IPython.core.display.Markdown object>"
      ]
     },
     "metadata": {},
     "output_type": "display_data"
    },
    {
     "data": {
      "text/markdown": [
       "### Forward Stepwise Subset Selection"
      ],
      "text/plain": [
       "<IPython.core.display.Markdown object>"
      ]
     },
     "metadata": {},
     "output_type": "display_data"
    },
    {
     "data": {
      "text/markdown": [
       "#### Model Order: 6"
      ],
      "text/plain": [
       "<IPython.core.display.Markdown object>"
      ]
     },
     "metadata": {},
     "output_type": "display_data"
    },
    {
     "data": {
      "text/markdown": [
       "#### MSE: 85966.31"
      ],
      "text/plain": [
       "<IPython.core.display.Markdown object>"
      ]
     },
     "metadata": {},
     "output_type": "display_data"
    },
    {
     "data": {
      "image/png": "[encoded data removed]",
      "text/plain": [
       "<Figure size 576x360 with 1 Axes>"
      ]
     },
     "metadata": {
      "needs_background": "light"
     },
     "output_type": "display_data"
    }
   ],
   "source": [
    "fwd_mse = []\n",
    "min_x = 0\n",
    "min_y = 100000000\n",
    "for i in range(len(fwd_subset_model_list)):\n",
    "    model = fwd_subset_model_list[i]\n",
    "    fwd_mse.append(model[1])\n",
    "    if model[1] < min_y:\n",
    "        min_y = model[1]\n",
    "        min_x = i+1\n",
    "fwd_subset_min_point = (min_x, min_y)\n",
    "\n",
    "display(md(\"### Best Subset Selection\"))\n",
    "display(md(\"#### Model Order: {}\".format(best_subset_min_point[0])))\n",
    "display(md(\"#### MSE: {0:.2f}\".format(best_subset_min_point[1])))\n",
    "\n",
    "display(md(\"### Forward Stepwise Subset Selection\"))\n",
    "display(md(\"#### Model Order: {}\".format(fwd_subset_min_point[0])))\n",
    "display(md(\"#### MSE: {0:.2f}\".format(fwd_subset_min_point[1])))\n",
    "        \n",
    "_ = plot_model(mods, [mse, fwd_mse], \"Model Order vs. MSE\", ['Best Subset Selection', 'Forward Subset Selection'])\n",
    "_ = plt.plot(best_subset_min_point[0],best_subset_min_point[1], 'bx', markersize=12)\n",
    "_ = plt.plot(fwd_subset_min_point[0],fwd_subset_min_point[1], 'x', markersize=12, color='orange')\n",
    "_ = plt.annotate('Minimum MSE for Best Subset Selection', xy=best_subset_min_point, xytext=(best_subset_min_point[0]-2,best_subset_min_point[1]+10000), \n",
    "                 arrowprops=dict(arrowstyle=\"->\", connectionstyle=\"arc3\", ec=\"blue\"), color='blue')\n",
    "_ = plt.annotate('Minimum MSE for Forward Subset Selection', xy=fwd_subset_min_point, xytext=(fwd_subset_min_point[0]-2,fwd_subset_min_point[1]+20000), \n",
    "                 arrowprops=dict(arrowstyle=\"->\", connectionstyle=\"arc3\", ec=\"orange\"), color='orange')"
   ]
  },
  {
   "cell_type": "markdown",
   "metadata": {},
   "source": [
    "# STEP 9:  Discussion of best foward-stepwise models \n",
    "\n",
    "As we can see from above, the forward subset selection and the best subset selection MSE and model orders are identical in both the MSE values and the minimum point. The x marker indicates the minimum point. As in best subset, the 6 feature model has the minimum MSE of 85966.31 and the 6 features are AtBat, Hits, CRBI, PutOuts, League_N, and Division_W."
   ]
  },
  {
   "cell_type": "markdown",
   "metadata": {},
   "source": [
    "# STEP 10: Discussion and comparison of subset selection methods\n",
    "\n",
    "As we can see from the plot above, the results of MSE versus model order are nearly identical for best subset and forward stepwise subset selection, although the best subset MSE is slightly lower than the forward stepwise MSE. Additionally, the features sets selected at each step are identical as seen in the tables from steps 4 and 7. \n",
    "\n",
    "Best subset has a computational complexity of $O(2^p)$, where $p$ is the number of features. Forward stepwise subset selection has a computation complexity of $O(p^2)$. Given that for feature sets over size 4, $p^2 < 2^p$, and since the average cross validation MSE performance is nearly the same, forward stepwise subset selection seems to be the best choice for this problem since it will run much faster than best subset."
   ]
  },
  {
   "cell_type": "markdown",
   "metadata": {},
   "source": [
    "# STEP 11: Write a function to execute LASSO"
   ]
  },
  {
   "cell_type": "code",
   "execution_count": 18,
   "metadata": {},
   "outputs": [],
   "source": [
    "def LASSOSubset(X_nonTest,y_nonTest, k):\n",
    "    #example of logarithmically spaced alphas for LASSO... may need tweaking\n",
    "    # Tweaked to follow in class example alpha grid code\n",
    "    minalpha = -3\n",
    "    maxalpha = 4\n",
    "    alphas = np.logspace(minalpha,maxalpha,num=1000) # Increased number to 1000 in order to get values for k=1\n",
    "    \n",
    "    kfeatures = [] #placeholder\n",
    "    kMSE=np.inf  #placeholder\n",
    "    kalpha = 0  #placeholder\n",
    "    \n",
    "    # insert student code here\n",
    "    num_non_zero_coeff = 0\n",
    "    non_zero_coeff_list = []\n",
    "    avg_mse = 0\n",
    "    for alpha in alphas:\n",
    "        lasso = Lasso(alpha=alpha).fit(X_nonTest, y_nonTest)\n",
    "        \n",
    "        # Find number of non zero coefficients\n",
    "        num_non_zero_coeff = np.count_nonzero(lasso.coef_)\n",
    "        \n",
    "        # If number of non zero coeffs is k then stop the alpha sweep\n",
    "        # and perform cross val with the selected features\n",
    "        if num_non_zero_coeff == k:\n",
    "            kalpha = alpha\n",
    "            \n",
    "            for i in range(len(lasso.coef_)):\n",
    "                if lasso.coef_[i] != 0:\n",
    "                    non_zero_coeff_list.append(X_nonTest.columns[i])\n",
    "                    \n",
    "            X_subset = X_nonTest.loc[:, non_zero_coeff_list] # Select the non zero feature(s)\n",
    "            cv_results = cross_validate(lasso, X_subset, y_nonTest, cv=5, \n",
    "                                   scoring=('r2', 'neg_mean_squared_error'))\n",
    "            avg_mse = -cv_results['test_neg_mean_squared_error'].mean()\n",
    "            break\n",
    "    # End For  \n",
    "    \n",
    "            \n",
    "    # If the MSE is the minimum so far then set values for return\n",
    "    kMSE = avg_mse\n",
    "    kfeatures = non_zero_coeff_list\n",
    "            \n",
    "    return (kfeatures, kMSE, kalpha) "
   ]
  },
  {
   "cell_type": "markdown",
   "metadata": {},
   "source": [
    "# STEP 12: Execute LASSO"
   ]
  },
  {
   "cell_type": "code",
   "execution_count": 19,
   "metadata": {},
   "outputs": [
    {
     "name": "stdout",
     "output_type": "stream",
     "text": [
      "Features:['CRuns'],\tMSE: 186166.5850348003,\talpha: 252.58\n",
      "Features:['CRuns', 'CRBI'],\tMSE: 167817.81262973248,\talpha: 208.12\n",
      "Features:['Hits', 'CRuns', 'CRBI'],\tMSE: 122482.48933882706,\talpha: 122.20\n",
      "Features:['Hits', 'CRuns', 'CRBI', 'PutOuts'],\tMSE: 103029.17652290061,\talpha: 65.13\n",
      "Features:['Hits', 'CHmRun', 'CRuns', 'CRBI', 'PutOuts'],\tMSE: 103371.22787981256,\talpha: 55.43\n",
      "Features:['Hits', 'CHmRun', 'CRuns', 'CRBI', 'PutOuts', 'Division_W'],\tMSE: 103246.14898506619,\talpha: 53.67\n"
     ]
    }
   ],
   "source": [
    "lasso_models = []\n",
    "for k in range(1,7):\n",
    "    mod = LASSOSubset(X_nonTestScaled_df,y_nonTest, k)\n",
    "    lasso_models.append(mod)\n",
    "    print(\"Features:{},\\tMSE: {},\\talpha: {:.2f}\".format(mod[0], mod[1], mod[2]))"
   ]
  },
  {
   "cell_type": "code",
   "execution_count": 20,
   "metadata": {},
   "outputs": [
    {
     "data": {
      "text/markdown": [
       "### Table of features selected per model order for LASSO Feature Selection"
      ],
      "text/plain": [
       "<IPython.core.display.Markdown object>"
      ]
     },
     "metadata": {},
     "output_type": "display_data"
    },
    {
     "data": {
      "text/html": [
       "<div>\n",
       "<style scoped>\n",
       "    .dataframe tbody tr th:only-of-type {\n",
       "        vertical-align: middle;\n",
       "    }\n",
       "\n",
       "    .dataframe tbody tr th {\n",
       "        vertical-align: top;\n",
       "    }\n",
       "\n",
       "    .dataframe thead th {\n",
       "        text-align: right;\n",
       "    }\n",
       "</style>\n",
       "<table border=\"1\" class=\"dataframe\">\n",
       "  <thead>\n",
       "    <tr style=\"text-align: right;\">\n",
       "      <th></th>\n",
       "      <th>AtBat</th>\n",
       "      <th>Hits</th>\n",
       "      <th>HmRun</th>\n",
       "      <th>Runs</th>\n",
       "      <th>RBI</th>\n",
       "      <th>Walks</th>\n",
       "      <th>Years</th>\n",
       "      <th>CAtBat</th>\n",
       "      <th>CHits</th>\n",
       "      <th>CHmRun</th>\n",
       "      <th>CRuns</th>\n",
       "      <th>CRBI</th>\n",
       "      <th>CWalks</th>\n",
       "      <th>PutOuts</th>\n",
       "      <th>Assists</th>\n",
       "      <th>Errors</th>\n",
       "      <th>League_N</th>\n",
       "      <th>Division_W</th>\n",
       "      <th>NewLeague_N</th>\n",
       "    </tr>\n",
       "  </thead>\n",
       "  <tbody>\n",
       "    <tr>\n",
       "      <th>1</th>\n",
       "      <td></td>\n",
       "      <td></td>\n",
       "      <td></td>\n",
       "      <td></td>\n",
       "      <td></td>\n",
       "      <td></td>\n",
       "      <td></td>\n",
       "      <td></td>\n",
       "      <td></td>\n",
       "      <td></td>\n",
       "      <td>X</td>\n",
       "      <td></td>\n",
       "      <td></td>\n",
       "      <td></td>\n",
       "      <td></td>\n",
       "      <td></td>\n",
       "      <td></td>\n",
       "      <td></td>\n",
       "      <td></td>\n",
       "    </tr>\n",
       "    <tr>\n",
       "      <th>2</th>\n",
       "      <td></td>\n",
       "      <td></td>\n",
       "      <td></td>\n",
       "      <td></td>\n",
       "      <td></td>\n",
       "      <td></td>\n",
       "      <td></td>\n",
       "      <td></td>\n",
       "      <td></td>\n",
       "      <td></td>\n",
       "      <td>X</td>\n",
       "      <td>X</td>\n",
       "      <td></td>\n",
       "      <td></td>\n",
       "      <td></td>\n",
       "      <td></td>\n",
       "      <td></td>\n",
       "      <td></td>\n",
       "      <td></td>\n",
       "    </tr>\n",
       "    <tr>\n",
       "      <th>3</th>\n",
       "      <td></td>\n",
       "      <td>X</td>\n",
       "      <td></td>\n",
       "      <td></td>\n",
       "      <td></td>\n",
       "      <td></td>\n",
       "      <td></td>\n",
       "      <td></td>\n",
       "      <td></td>\n",
       "      <td></td>\n",
       "      <td>X</td>\n",
       "      <td>X</td>\n",
       "      <td></td>\n",
       "      <td></td>\n",
       "      <td></td>\n",
       "      <td></td>\n",
       "      <td></td>\n",
       "      <td></td>\n",
       "      <td></td>\n",
       "    </tr>\n",
       "    <tr>\n",
       "      <th>4</th>\n",
       "      <td></td>\n",
       "      <td>X</td>\n",
       "      <td></td>\n",
       "      <td></td>\n",
       "      <td></td>\n",
       "      <td></td>\n",
       "      <td></td>\n",
       "      <td></td>\n",
       "      <td></td>\n",
       "      <td></td>\n",
       "      <td>X</td>\n",
       "      <td>X</td>\n",
       "      <td></td>\n",
       "      <td>X</td>\n",
       "      <td></td>\n",
       "      <td></td>\n",
       "      <td></td>\n",
       "      <td></td>\n",
       "      <td></td>\n",
       "    </tr>\n",
       "    <tr>\n",
       "      <th>5</th>\n",
       "      <td></td>\n",
       "      <td>X</td>\n",
       "      <td></td>\n",
       "      <td></td>\n",
       "      <td></td>\n",
       "      <td></td>\n",
       "      <td></td>\n",
       "      <td></td>\n",
       "      <td></td>\n",
       "      <td>X</td>\n",
       "      <td>X</td>\n",
       "      <td>X</td>\n",
       "      <td></td>\n",
       "      <td>X</td>\n",
       "      <td></td>\n",
       "      <td></td>\n",
       "      <td></td>\n",
       "      <td></td>\n",
       "      <td></td>\n",
       "    </tr>\n",
       "    <tr>\n",
       "      <th>6</th>\n",
       "      <td></td>\n",
       "      <td>X</td>\n",
       "      <td></td>\n",
       "      <td></td>\n",
       "      <td></td>\n",
       "      <td></td>\n",
       "      <td></td>\n",
       "      <td></td>\n",
       "      <td></td>\n",
       "      <td>X</td>\n",
       "      <td>X</td>\n",
       "      <td>X</td>\n",
       "      <td></td>\n",
       "      <td>X</td>\n",
       "      <td></td>\n",
       "      <td></td>\n",
       "      <td></td>\n",
       "      <td>X</td>\n",
       "      <td></td>\n",
       "    </tr>\n",
       "  </tbody>\n",
       "</table>\n",
       "</div>"
      ],
      "text/plain": [
       "  AtBat Hits HmRun Runs RBI Walks Years CAtBat CHits CHmRun CRuns CRBI CWalks  \\\n",
       "1                                                               X               \n",
       "2                                                               X    X          \n",
       "3          X                                                    X    X          \n",
       "4          X                                                    X    X          \n",
       "5          X                                              X     X    X          \n",
       "6          X                                              X     X    X          \n",
       "\n",
       "  PutOuts Assists Errors League_N Division_W NewLeague_N  \n",
       "1                                                         \n",
       "2                                                         \n",
       "3                                                         \n",
       "4       X                                                 \n",
       "5       X                                                 \n",
       "6       X                                  X              "
      ]
     },
     "metadata": {},
     "output_type": "display_data"
    }
   ],
   "source": [
    "lasso_features = make_feature_chart(X_nonTestScaled_df, lasso_models)\n",
    "\n",
    "display(md(\"### Table of features selected per model order for LASSO Feature Selection\"))\n",
    "display(lasso_features.head(6))"
   ]
  },
  {
   "cell_type": "markdown",
   "metadata": {},
   "source": [
    "# STEP 13: Updated Plot of Avg Crossval MSE & best points"
   ]
  },
  {
   "cell_type": "code",
   "execution_count": 21,
   "metadata": {},
   "outputs": [
    {
     "data": {
      "text/markdown": [
       "## Minimum MSE and Model Order for each Feature Selection Method"
      ],
      "text/plain": [
       "<IPython.core.display.Markdown object>"
      ]
     },
     "metadata": {},
     "output_type": "display_data"
    },
    {
     "data": {
      "text/markdown": [
       "### Best Subset Selection"
      ],
      "text/plain": [
       "<IPython.core.display.Markdown object>"
      ]
     },
     "metadata": {},
     "output_type": "display_data"
    },
    {
     "data": {
      "text/markdown": [
       "#### Model Order: 6"
      ],
      "text/plain": [
       "<IPython.core.display.Markdown object>"
      ]
     },
     "metadata": {},
     "output_type": "display_data"
    },
    {
     "data": {
      "text/markdown": [
       "#### MSE: 85915.54"
      ],
      "text/plain": [
       "<IPython.core.display.Markdown object>"
      ]
     },
     "metadata": {},
     "output_type": "display_data"
    },
    {
     "data": {
      "text/markdown": [
       "### Forward Stepwise Subset Selection"
      ],
      "text/plain": [
       "<IPython.core.display.Markdown object>"
      ]
     },
     "metadata": {},
     "output_type": "display_data"
    },
    {
     "data": {
      "text/markdown": [
       "#### Model Order: 6"
      ],
      "text/plain": [
       "<IPython.core.display.Markdown object>"
      ]
     },
     "metadata": {},
     "output_type": "display_data"
    },
    {
     "data": {
      "text/markdown": [
       "#### MSE: 85966.31"
      ],
      "text/plain": [
       "<IPython.core.display.Markdown object>"
      ]
     },
     "metadata": {},
     "output_type": "display_data"
    },
    {
     "data": {
      "text/markdown": [
       "### LASSO Feature Selection"
      ],
      "text/plain": [
       "<IPython.core.display.Markdown object>"
      ]
     },
     "metadata": {},
     "output_type": "display_data"
    },
    {
     "data": {
      "text/markdown": [
       "#### Model Order: 4"
      ],
      "text/plain": [
       "<IPython.core.display.Markdown object>"
      ]
     },
     "metadata": {},
     "output_type": "display_data"
    },
    {
     "data": {
      "text/markdown": [
       "#### MSE: 103029.18"
      ],
      "text/plain": [
       "<IPython.core.display.Markdown object>"
      ]
     },
     "metadata": {},
     "output_type": "display_data"
    },
    {
     "data": {
      "image/png": "[encoded data removed]",
      "text/plain": [
       "<Figure size 576x360 with 1 Axes>"
      ]
     },
     "metadata": {
      "needs_background": "light"
     },
     "output_type": "display_data"
    }
   ],
   "source": [
    "lasso_mse = []\n",
    "min_x = 0\n",
    "min_y = 100000000\n",
    "for i in range(len(lasso_models)):\n",
    "    model = lasso_models[i]\n",
    "    lasso_mse.append(model[1])\n",
    "    if model[1] < min_y:\n",
    "        min_y = model[1]\n",
    "        min_x = i+1\n",
    "lasso_min_point = (min_x, min_y)\n",
    "\n",
    "display(md(\"## Minimum MSE and Model Order for each Feature Selection Method\"))\n",
    "display(md(\"### Best Subset Selection\"))\n",
    "display(md(\"#### Model Order: {}\".format(best_subset_min_point[0])))\n",
    "display(md(\"#### MSE: {0:.2f}\".format(best_subset_min_point[1])))\n",
    "\n",
    "display(md(\"### Forward Stepwise Subset Selection\"))\n",
    "display(md(\"#### Model Order: {}\".format(fwd_subset_min_point[0])))\n",
    "display(md(\"#### MSE: {0:.2f}\".format(fwd_subset_min_point[1])))\n",
    "\n",
    "display(md(\"### LASSO Feature Selection\"))\n",
    "display(md(\"#### Model Order: {}\".format(lasso_min_point[0])))\n",
    "display(md(\"#### MSE: {0:.2f}\".format(lasso_min_point[1])))\n",
    "\n",
    "_ = plot_model(mods, [mse, fwd_mse, lasso_mse], \"Model Order vs. MSE\", \n",
    "               ['Best Subset Selection', 'Forward Subset Selection', 'LASSO'])\n",
    "_ = plt.plot(best_subset_min_point[0],best_subset_min_point[1], 'bx', markersize=12)\n",
    "_ = plt.plot(fwd_subset_min_point[0],fwd_subset_min_point[1], 'x', markersize=12, color='orange')\n",
    "_ = plt.plot(lasso_min_point[0],lasso_min_point[1], 'gx', markersize=12, label='Minimum MSE')\n",
    "_ = plt.annotate('Minimum MSE for Best Subset Selection', xy=best_subset_min_point, xytext=(best_subset_min_point[0]-2,best_subset_min_point[1]+10000), \n",
    "                 arrowprops=dict(arrowstyle=\"->\", connectionstyle=\"arc3\", ec=\"blue\"), color='blue')\n",
    "_ = plt.annotate('Minimum MSE for Forward Subset Selection', xy=fwd_subset_min_point, xytext=(fwd_subset_min_point[0]-1.5,fwd_subset_min_point[1]+25000), \n",
    "                 arrowprops=dict(arrowstyle=\"->\", connectionstyle=\"arc3\", ec=\"orange\"), color='orange')\n",
    "_ = plt.annotate('Minimum MSE for LASSO', xy=lasso_min_point, xytext=(lasso_min_point[0]-1,lasso_min_point[1]+30000), \n",
    "                 arrowprops=dict(arrowstyle=\"->\", connectionstyle=\"arc3\", ec=\"green\"), color='green')"
   ]
  },
  {
   "cell_type": "markdown",
   "metadata": {},
   "source": [
    "# STEP 14: Discussion of best LASSO models \n",
    "\n",
    "As we can see in the plot above, the LASSO method has a higher overall MSE. We see that it starts out very high, significantly higher than the other 2 methods. It then quickly decreases to its minimum point at 4 features. The corresponding values for the 4 feature model are:\n",
    "\n",
    "* Model Order: 4\n",
    "* Features: ['Hits', 'CRuns', 'CRBI', 'PutOuts']\n",
    "* MSE: 103029.1765\n",
    "* Alpha: 65.1349\n",
    "\n",
    "The 5 and 6 feature models have roughly the same, but slightly higher MSE values. This is different from the subset selection methods where the MSE decreases with each feature added to the model. \n",
    "\n",
    "The significant MSE increase makes sense due to the high values of alpha that correspond with the lower feature models. Since the LASSO model is trying to minimize RSS along with the alpha penalty, we expect the higher MSE with the coefficients that come out of the alpha sweep. \n",
    "\n",
    "From the table above in step 13, we see that the features selected by LASSO for model order 4 are Hits, CRuns, CRBI, and PutOuts. Only 2 of these were in my inital prediction of the features that I thought would be selected and they are Hits and CRBI. \n",
    "\n",
    "It is interesting to note that, unlike forward and best subset selection, the LASSO model doesn't include League_N as one of its features like the other two methods. It instead finds CHmRuns as an important feature for the 5 and 6 feature models."
   ]
  },
  {
   "cell_type": "markdown",
   "metadata": {},
   "source": [
    "## Best Overall Model Selection and Test Set Performance\n",
    "\n",
    "Since the Forward Subset Selection method had nearly identical (though slightly worse) performance on the non test set and fastest runtime, the Forward Subset selection method is the best method. We will now test its performance on the test set. "
   ]
  },
  {
   "cell_type": "code",
   "execution_count": 22,
   "metadata": {},
   "outputs": [
    {
     "data": {
      "text/markdown": [
       "### Forward Subset Selection Test Performance with 6 features"
      ],
      "text/plain": [
       "<IPython.core.display.Markdown object>"
      ]
     },
     "metadata": {},
     "output_type": "display_data"
    },
    {
     "data": {
      "text/markdown": [
       "Test Set $R^2$ score: 0.3424"
      ],
      "text/plain": [
       "<IPython.core.display.Markdown object>"
      ]
     },
     "metadata": {},
     "output_type": "display_data"
    }
   ],
   "source": [
    "test_fwd_subset_params = fwd_subset_model_list[5] # Select the 6 feature list\n",
    "\n",
    "fwd_subset_features_nonTest = X_nonTest[test_fwd_subset_params[0]] # Select the 6 features from nonTest Set\n",
    "fwd_subset_features_test = X_test[test_fwd_subset_params[0]] # Select 6 features from the test set\n",
    "\n",
    "fwd_test_lin_reg = LinearRegression().fit(fwd_subset_features_nonTest, y_nonTest)\n",
    "\n",
    "\n",
    "test_r2_score = fwd_test_lin_reg.score(fwd_subset_features_test, y_test)\n",
    "\n",
    "display(md(\"### Forward Subset Selection Test Performance with 6 features\"))\n",
    "display(md(\"Test Set $R^2$ score: {:.4f}\".format(test_r2_score)))\n"
   ]
  },
  {
   "cell_type": "markdown",
   "metadata": {},
   "source": [
    "As we can see above, the test set performance is rather poor, with an $R^2$ score of 0.34. Given that the training MSE was so high, it makes sense that the test performance is rather poor. Additionally, since we are using a linear model, this poor performance suggests that the true phenomenon is non-linear, so a more flexible model is more likely to perform better."
   ]
  },
  {
   "cell_type": "markdown",
   "metadata": {},
   "source": [
    "\n",
    "# STEP 15: Answer Customer Questions\n",
    "\n",
    "## a\n",
    "Since forward stepwise subset selection for each number of features is the best performing model on the non-test data in terms of average cross-validation MSE and speed of computation, we use the features selected with this method. Reference the table output in step 7 to see a side by side comparison of these features.\n",
    "\n",
    "#### 1 Feature\n",
    "\n",
    "the recommended input feature is CRBI\n",
    "\n",
    "#### 2 Features\n",
    "\n",
    "The recommended input features are:\n",
    "\n",
    "* CRBI\n",
    "* Hits\n",
    "\n",
    "#### 3 Features\n",
    "\n",
    "The recommended input features are:\n",
    "\n",
    "* CRBI\n",
    "* Hits\n",
    "* PutOuts\n",
    "\n",
    "#### 4 Features\n",
    "\n",
    "The recommended input features are:\n",
    "\n",
    "* CRBI\n",
    "* Hits\n",
    "* PutOuts\n",
    "* AtBat\n",
    "\n",
    "#### 5 Features\n",
    "\n",
    "The recommended input features are:\n",
    "\n",
    "* CRBI\n",
    "* Hits\n",
    "* PutOuts\n",
    "* AtBat\n",
    "* Division_W\n",
    "\n",
    "#### 6 Features\n",
    "\n",
    "The recommended input features are:\n",
    "\n",
    "* CRBI\n",
    "* Hits\n",
    "* PutOuts\n",
    "* AtBat\n",
    "* Division_W\n",
    "* League_N\n",
    "\n",
    "## b\n",
    "\n",
    "Since forward stepwise subset selection with 6 features is the best performing model on the non-test data in terms of average cross-validation MSE and speed of computation, it is the method that should be used for feature selection.\n",
    "\n",
    "Based on this, since the minimum MSE was for 6 features on the cross validation, the 6 feature model yields the best performance and the features for that model are the following: \n",
    "\n",
    "* Hits \n",
    "* CRuns\n",
    "* CRBI \n",
    "* PutOuts\n",
    "* Division_W\n",
    "* League_N\n",
    "\n"
   ]
  },
  {
   "cell_type": "markdown",
   "metadata": {},
   "source": [
    "END OF ASSIGNMENT"
   ]
  }
 ],
 "metadata": {
  "kernelspec": {
   "display_name": "Python 3",
   "language": "python",
   "name": "python3"
  },
  "language_info": {
   "codemirror_mode": {
    "name": "ipython",
    "version": 3
   },
   "file_extension": ".py",
   "mimetype": "text/x-python",
   "name": "python",
   "nbconvert_exporter": "python",
   "pygments_lexer": "ipython3",
   "version": "3.7.2"
  }
 },
 "nbformat": 4,
 "nbformat_minor": 2
}
