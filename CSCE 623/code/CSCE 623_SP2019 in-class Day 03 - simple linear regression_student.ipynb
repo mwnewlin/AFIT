{
  "cells": [
    {
      "cell_type": "code",
      "execution_count": 1,
      "metadata": {
        "pycharm": {
          "is_executing": false
        }
      },
      "outputs": [
        {
          "name": "stdout",
          "text": [
            "\n \n DAY 3/4 \n \n\n"
          ],
          "output_type": "stream"
        }
      ],
      "source": [
        "\"\"\"\n",
        "\n",
        "Day 3 - Simple linear algebra\n",
        "\"\"\"\n",
        "\n",
        "print ( \u0027\\n\u0027, \u0027\\n\u0027,\u0027DAY 3/4\u0027, \u0027\\n\u0027, \u0027\\n\u0027)\n",
        "\n",
        "import numpy as np\n",
        "import matplotlib.pyplot as plt"
      ]
    },
    {
      "cell_type": "markdown",
      "metadata": {
        "pycharm": {}
      },
      "source": [
        "STUDENT CODE - insert code to hardcode your matrix here"
      ]
    },
    {
      "cell_type": "raw",
      "metadata": {
        "pycharm": {}
      },
      "source": [
        "for example \n",
        "#---------------------------------------------    \n",
        "pretest_scores \u003d np.array([99., 81., 80., 75., 63.]).T  #(5x1 array)\n",
        "y \u003d np.array([[82.,91.,78.,61.,72.]]).T\n",
        "#---------------------------------------------    "
      ]
    },
    {
      "cell_type": "code",
      "execution_count": 2,
      "metadata": {
        "pycharm": {
          "is_executing": false
        }
      },
      "outputs": [],
      "source": [
        "#---------------------------------------------    \n",
        "pretest_scores \u003d np.array([95., 85., 80., 70., 60. ]).T  #(5x1 array) you populate\n",
        "y \u003d np.array([[85., 95., 70., 65., 70.]]).T  #(5x1 array) you populate\n",
        "#---------------------------------------------    \n",
        "\n",
        "#build the design matrix X\n",
        "X \u003d np.vstack((np.ones(len(pretest_scores)),pretest_scores)).T "
      ]
    },
    {
      "cell_type": "markdown",
      "metadata": {
        "pycharm": {}
      },
      "source": [
        "STUDENT CODE - Insert code for your beta guess here"
      ]
    },
    {
      "cell_type": "code",
      "execution_count": 3,
      "metadata": {
        "pycharm": {
          "is_executing": false
        }
      },
      "outputs": [
        {
          "name": "stdout",
          "text": [
            "B \n [[27.  ]\n [ 0.65]] \n\nX \n [[ 1. 95.]\n [ 1. 85.]\n [ 1. 80.]\n [ 1. 70.]\n [ 1. 60.]] \n\n"
          ],
          "output_type": "stream"
        }
      ],
      "source": [
        "#---------------------------------------------          \n",
        "beta \u003d np.array([[27., 0.65 ]]).T    #guess the betas (2 x 1 array) you populate \n",
        "#---------------------------------------------      \n",
        "\n",
        "#print the Betas and X\u0027s\n",
        "print(\u0027B\u0027,\u0027\\n\u0027, beta, \u0027\\n\u0027)\n",
        "print(\u0027X\u0027, \u0027\\n\u0027, X, \u0027\\n\u0027)"
      ]
    },
    {
      "cell_type": "markdown",
      "metadata": {
        "pycharm": {}
      },
      "source": [
        "STUDENT CODE - Insert code for computing yhat here:"
      ]
    },
    {
      "cell_type": "code",
      "execution_count": 4,
      "metadata": {
        "pycharm": {}
      },
      "outputs": [
        {
          "name": "stdout",
          "output_type": "stream",
          "text": [
            "yhat \n",
            " [[88.75]\n",
            " [82.25]\n",
            " [79.  ]\n",
            " [72.5 ]\n",
            " [66.  ]] \n",
            "\n"
          ]
        }
      ],
      "source": [
        "#----------------------------------------------\n",
        "#estimate yhat for all datapoints\n",
        "yhat \u003d np.dot(X,beta)  #insert code to compute yhat\n",
        "#----------------------------------------------\n",
        "\n",
        "print(\u0027yhat\u0027,\u0027\\n\u0027,  yhat,\u0027\\n\u0027)\n",
        "#print(yhat)"
      ]
    },
    {
      "cell_type": "markdown",
      "metadata": {
        "pycharm": {}
      },
      "source": [
        "STUDENT CODE - insert your code for the error terms here"
      ]
    },
    {
      "cell_type": "code",
      "execution_count": 5,
      "metadata": {
        "pycharm": {}
      },
      "outputs": [
        {
          "name": "stdout",
          "output_type": "stream",
          "text": [
            "ydiff \n",
            " [[-3.75]\n",
            " [12.75]\n",
            " [-9.  ]\n",
            " [-7.5 ]\n",
            " [ 4.  ]] \n",
            "\n"
          ]
        }
      ],
      "source": [
        "#----------------------------------------------\n",
        "#find the difference betwen predicted and truth \n",
        "ydiff \u003d np.subtract(y,yhat)  #insert code to compute ydiff\n",
        "#----------------------------------------------\n",
        "\n",
        "print(\u0027ydiff\u0027, \u0027\\n\u0027,ydiff, \u0027\\n\u0027)"
      ]
    },
    {
      "cell_type": "markdown",
      "metadata": {
        "pycharm": {}
      },
      "source": [
        "STUDENT CODE - insert your code for determining RSS, MSE and RMSE here"
      ]
    },
    {
      "cell_type": "code",
      "execution_count": 6,
      "metadata": {
        "pycharm": {}
      },
      "outputs": [
        {
          "name": "stdout",
          "output_type": "stream",
          "text": [
            "\n",
            "RSS:  [[329.875]] \n",
            "\n",
            "MSE:  [[65.975]] \n",
            "\n",
            "RMSE:  [[8.12249962]] \n",
            "\n"
          ]
        }
      ],
      "source": [
        "#----------------------------------------------\n",
        "#compute Residual Sum of Squares RSS \u003d the sum of the squared error terms \n",
        "rss \u003d np.dot(ydiff.T, ydiff) #insert code to compute RSS \n",
        "\n",
        "#compute Mean Squared Error MSE\n",
        "mse \u003d (1./5.)*rss #insert code to compute MSE\n",
        "\n",
        "#compute Root Mean Squared Error RMSE\n",
        "rmse \u003d  np.sqrt(mse)  #insert code to compute RMSE\n",
        "#----------------------------------------------\n",
        "\n",
        "print()\n",
        "print(\u0027RSS: \u0027, rss, \u0027\\n\u0027)\n",
        "print(\u0027MSE: \u0027, mse, \u0027\\n\u0027)\n",
        "print(\u0027RMSE: \u0027,rmse, \u0027\\n\u0027)"
      ]
    },
    {
      "cell_type": "markdown",
      "metadata": {
        "pycharm": {}
      },
      "source": [
        "STUDENT CODE - insert your code for predicting final exam score for Xi \u003d 80 "
      ]
    },
    {
      "cell_type": "code",
      "execution_count": 7,
      "metadata": {
        "pycharm": {}
      },
      "outputs": [
        {
          "name": "stdout",
          "output_type": "stream",
          "text": [
            "Prediction at 80 [79.] \n",
            "\n"
          ]
        }
      ],
      "source": [
        "#----------------------------------------------\n",
        "#make prediction on test score of 80\n",
        "t \u003d np.array([1, 80])\n",
        "ythat \u003d np.dot(beta.T, t) #insert code to compute the predicted final exam score at this test point\n",
        "#----------------------------------------------\n",
        "print(\u0027Prediction at 80\u0027, ythat, \u0027\\n\u0027)"
      ]
    },
    {
      "cell_type": "code",
      "execution_count": 8,
      "metadata": {
        "pycharm": {}
      },
      "outputs": [
        {
          "name": "stderr",
          "output_type": "stream",
          "text": [
            "C:\\Users\\Marvin\\Anaconda3\\lib\\site-packages\\ipykernel_launcher.py:25: FutureWarning: `rcond` parameter will change to the default of machine precision times ``max(M, N)`` where M and N are the input matrix dimensions.\n",
            "To use the future default and silence this warning we advise to pass `rcond\u003dNone`, to keep using the old, explicitly pass `rcond\u003d-1`.\n"
          ]
        },
        {
          "data": {
            "image/png": "iVBORw0KGgoAAAANSUhEUgAAAYgAAAEWCAYAAAB8LwAVAAAABHNCSVQICAgIfAhkiAAAAAlwSFlzAAALEgAACxIB0t1+/AAAADl0RVh0U29mdHdhcmUAbWF0cGxvdGxpYiB2ZXJzaW9uIDMuMC4zLCBodHRwOi8vbWF0cGxvdGxpYi5vcmcvnQurowAAIABJREFUeJzt3Xd4FOX2wPHvSUIJBAxFI02woBQRJAGxgKCIKCqKoCIiIoj8RAlRUbFcY8OCEqPgVbyWoCIiKGIFpOhFitJbELmKFAMqECUUKTm/P2biXXI3yZJkd7Kb83mefbIzOztz3izsyfu+M2dEVTHGGGPyi/I6AGOMMWWTJQhjjDF+WYIwxhjjlyUIY4wxflmCMMYY45clCGOMMX5ZgjBlloj0EZEZQdr3myLyeDD2XdaJyMsi8pDXcZiyzxKE8ZSInCci80XkDxHZKSLfiEgbAFV9R1W7eB1jfiKiIrJHRHJEZKuIjBaRaK/jCpSqDlbVx7yOw5R9MV4HYMovEakOfAL8HzAJqAi0B/7yMq4AtVTVDSJyCvAVkAm8WpoHEBEBRFVzS3O/xgTKehDGS6cCqOq7qnpYVfep6gxVXQkgIjeJyLy8jd2/3G8TkR9EZLeIPCYiJ4vIAhH5U0QmiUhFd9uOIrJFRO4Xkd9FZKOI9CkoEBG5TESWi0i226M5I5AGqOoG4Buglc++jhGR10Qky+1hPJ7XwxCRaBF5zo3pJxG53W1XjPv6XBF5QkS+AfYCJxWxv1NE5Cu3B/a7iLznrhcRSRORX93XVorI6e5rRwyvicgtIrLB7cFNE5G6+X7ng93f+S4RGesmLlMOWIIwXloPHBaRDBG5RERqBPCerkAi0A64BxgH9AEaAKcDvX22PR6oDdQD+gHjROS0/DsUkdbA68CtQC3gFWCaiFQqKhgRaYLT69ngszoDOAScApwJdAEGuq/dAlyCk1BaA1f62W1fYBBQDfi5iP09BswAagD1gRfd9V2ADjhJOB64FtjhJ/4LgCeBa4A67vEm5tvsMqAN0NLd7uKCfh8msliCMJ5R1T+B8wDFGZ75zf0LNqGQtz2tqn+q6hpgNTBDVX9U1T+Az3G+QH09pKp/qepXwKc4X3D53QK8oqqL3J5MBs4wV7tC4lgqIntwhpbmAi8BuLFfAgxT1T2q+iuQBlznvu8aIF1Vt6jqLuApP/t+U1XXqOohoGYR+zsINATqqup+VZ3ns74a0ARnmCpTVbP8HKsP8LqqLlXVv4ARwNki0shnm6dUNVtVNwFz8OktmchmCcJ4yv3iuklV6+P0AOoCzxfylu0+z/f5WY7zWd6lqnt8ln92959fQ+Aud3gpW0SycXok/rbN09o91rXAWUBVn31VALJ89vUKcJz7el1gs89+fJ/7W1fU/u4BBPhWRNaIyM0AqjobGAOMBbaLyDh3zie/uji/F9z35eD0NOr5bLPN5/lejvwdmwhmCcKUGaq6DngTJ1GUhhoiUtVn+QTgFz/bbQaeUNV4n0cVVX23iHhVVScBC4B/+OzrL6C2z76qq2pz9/UsnKGgPA387TpfbAXuT1W3qeotqloXZ4jsJXfiHFV9QVUTgeY4Q03D/RzrF5wkBID7+6oFbC2s7aZ8sARhPCMiTUTkLhGp7y43wJlDWFiKh3lERCqKSHucsfT3/WzzKjBYRM5yJ3erikg3EakW4DGeAgaJyPHuMM4M4DkRqS4iUe5E+vnutpOAZBGpJyLxwL2F7bio/YlIr7zfH7ALJ7kcFpE2bnsqAHuA/cBhP4eYAPQXkVbunMtIYJGqbgyw7SaCWYIwXtqNMzyzyB3PX4gzr3BXKe1/G86X5i/AO8Bgt5dyBFVdjDMPMcbdfgNwU6AHUdVVOKe65v2FfiPOKbtr3f1NxpkABicZzQBWAsuAz3AmoP19eecpbH9tcH5/OcA0IFlVfwKqu8fahTOEtAN41k/ss4CHgCk4vZuT+e/8hinnxG4YZCKRiHQE3nbnNsosEbkEeFlVGxa5sTEhZj0IY0JIRGJF5FIRiRGResDDwIdex2WMP0FLECLyunuRzmqfdTVFZKZ70c3MvPPe3XHfF9yLdVa656UbE4kEeARn6GcZzmmy/yj0HcZ4JGhDTCLSAcgBxqtq3hWczwA7VfUpEbkPqKGq94rIpcAdwKU4Y9LpqnpWUAIzxhgTkKD1IFT1a2BnvtXdca4Kxf15pc/68e5pgwuBeBGpgzHGGM+EulhfQt7VnKqaJSJ5F/vU48iLg7a46/7nyk8RGYRThoDY2NjEBg38nUZeenJzc4mKiuypGmtjZLA2hr9QtW/9+vW/q+qxRW1XVqq5+iv+5XfsS1XH4dTfISkpSRcvXhzMuJg7dy4dO3YM6jG8Zm2MDNbG8Beq9onIz0VvFfqzmLbnDR25P39112/hyCtK6+P/ildjjDEhEuoEMQ2nqibuz4981t/ons3UDvijgMJixhhjQiRoQ0wi8i7QEagtIltwzvd+CpgkIgOATUAvd/PPcM5g2oBTDKx/sOIyxhgTmKAlCFXtXcBLF/rZVoEhwYrFGGPM0Yvc0wGMMcaUiCUIY4wxflmCMMYY45clCGOMMX5ZgjDGRKz8tebs9gZHxxKEMSYipaamkpKS8ndSUFVSUlJITU31NrAwYgnCGBNxVJXs7GzS09P/ThIpKSmkp6eTnZ1tPYkAlZVaTMYYU2pEhLS0NADS09NJT08HIDk5mbS0NET8lX8z+VkPwhgTkXyTRB5LDkfHEoQxJiLlDSv58p2TMEWzBGGMiTi+cw7Jycnk5uaSnJx8xJyEKZrNQRhjIo6IEB8ff8ScQ95wU3x8vA0zBcgShDEmIqWmpqKqfyeDvCRhySFwNsRkjIlY+ZOBJYejYwnCGGOMX5YgjDGmjIjdutXrEI5gCcIYY7y2ezfcfjtt+/aFOXO8juZvNkltjDFemj4dBg2CzZvZ2qMH9du08Tqiv1kPwhhjvLBzJ/TrB127QtWqLHxlBbOvGA5xcV5H9jdPEoSIJIvIahFZIyLD3HU1RWSmiPzg/qzhRWzGGBN0kydD06YwYQI59zzKsAtXcs6tLXj99RO9juwIIU8QInI6cAvQFmgJXCYijYH7gFmq2hiY5S4bY0zkyMqCq6+GXr2gfn32fL2EM95/iPQxMdx2Gwwf/r3XER7Bix5EU2Chqu5V1UPAV8BVQHcgw90mA7jSg9iMMab0qcIbb0CzZvDpp+x/bBQsWkTVs89g8GCYNw/GjIGqVQ97HekRJNQ1SUSkKfARcDawD6e3sBjoq6rxPtvtUtX/GWYSkUHAIICEhITEiRMnBjXenJwc4srQmGAwWBsjg7WxbKq8bRunPvccNRcvZleLMxjbfgyj3z2Lxx5bTfPmfx6xbaja16lTpyWqmlTkhqoa8gcwAFgKfA28DKQB2fm22VXUfhITEzXY5syZE/RjeM3aGBmsjWXM4cOqL7ygWrWqalycbno8Qy/rlqug2qaN6urV//uWULUPWKwBfFd7Mkmtqq+pamtV7QDsBH4AtotIHQD3569exGaMMSWWmQnt28PQodC+Pa89tJHmT9/IrNnC6NGwYAE0b+51kEXz6iym49yfJwA9gHeBaUA/d5N+OMNQxhgTPg4ehJEjoVUrWLcOxo+Hzz5jV1QtzjoLVq+GlBSIjvY60MB4daHcFBGpBRwEhqjqLhF5CpgkIgOATUAvj2Izxpijt3QpDBgAy5dz8OrreKbxqzSpEsfV4iSFu+6CcKsV6NUQU3tVbaaqLVV1lrtuh6peqKqN3Z87vYjNGGOOyr59MGIEtG0L27ax+JnZJP3wLg8+Fcfs2c4m0dHhlxzASm0YY0zxzZvn9BrWr2dP38E8XD2NtPsqc/zxMHUqdO/udYAlY6U2jDHmaLnF9WjfHg4cgJkzmdnjnzw3tjK33AJr14Z/cgDrQRhjzNHxKa6389YRfHvxQ3TtHEt3hRUr4IwzvA6w9FgPwhhjAuFTXE+rVOX9xzJpNnUk1/SL5Y8/nDmGSEoOYAnCGGOK5lNcb+vQp7mq8SquefA06tWDr7+GY47xOsDgsCEmY4wpSFaWM9fwwQfQujU7J31Ji6tasH8/jBoFw4ZBjM+3qKoecd/r/MvhxnoQxhiTX77iejseeh4WLaLm+S0YORJWrYK77z4yOaSmppKSkpJXKghVJSUlhdTUVG/aUAosQRhjjK+NG+Hii+HmmznYvBVP3b6ZBs8m880iJxsMHgwnn3zkW1SV7Oxs0tPT/04SKSkppKenk52d/XfSCDc2xGSMMQC5uTB2rHPRmwhL732PAdN7sfw5oUcPOOmkgt8qIqSlpQGQnp5Oeno6AMnJyaSlpYXtMJP1IIwxJl9xvdSBW2j77DVs2yZMmQJTpkCdOoXvwjdJ5Ann5ACWIIwx5VkBxfWq1T+G/v2dvNGjR2C7yhtW8uU7JxGOLEEYY8qnpUud+kkPPED2Jb0ZdOlmJlboCyLceSe8+irExxe9G+CIOYfk5GRyc3NJTk4+Yk4iHNkchDGmfNm3Dx591DlP9dhj+fCeBQx5qx3bt0Ojps4mRzsqJCLEx8cfMeeQN9wUHx8ftsNMliCMMeWHT3G9bdcN4/Y9TzPlmYq0bAkffwyJicXfdWpq6hHXPeQliXBNDmBDTMaY8sBPcb15V6fxyYyKjBwJ331XsuSQJ38yCOfkANaDMMZEOp/iev/p9yhLL7ybXp1juVqhXTuoX9/rAMsu60EYYyKTT3G9Q1Wq8+yQH2kx6SGG3hPLvn3OPIMlh8JZgjDGRB6f4norbhlDuyorGD6mEV26wOLFEBvrdYDhwYaYjDGRI19xvV/emkXby08nPh4mTYKePcPz1p9esQRhjAl/qvDmm3DnnbBvH/8Z/jInjxxA3ZgY3nwTunSBWrW8DjL8eDLEJCIpIrJGRFaLyLsiUllEThSRRSLyg4i8JyIVvYjNGBNmfIrr/dG0HYOv3Mapz93K/G+dv39797bkUFwhTxAiUg8YCiSp6ulANHAd8DSQpqqNgV3AgFDHZowJI7m58OKLcPrpsGAB0279lOabPuPV9+MZNgxatvQ6wPDn1SR1DBArIjFAFSALuACY7L6eAVzpUWzGmLIuX3G9my/Jovsrl1KzprBwITz3HFSt6nWQ4U+8qBEiIsnAE8A+YAaQDCxU1VPc1xsAn7s9jPzvHQQMAkhISEicOHFiUGPNyckhLi4uqMfwmrUxMkRyG3fu28nW3VtJoCYNPpxI28lfcDi2ChuGDOHXLhfxwYf12bMnhuuu20SFCuFZ9whC9xl26tRpiaomFbmhqob0AdQAZgPHAhWAqUBfYIPPNg2AVUXtKzExUYNtzpw5QT+G16yNkSFS2/j2yre1yhNV9MxB6PaGdVVBx556sp6RtEnffdfr6EpXqD5DYLEG8H3txVlMnYGfVPU3ABH5ADgHiBeRGFU9BNQHfvEgNmNMGfPoF/fz4Od7Gf4N7Km+hxathrF6zeNIlLJ/v9fRRTYv5iA2Ae1EpIo4hUouBNYCc4Ce7jb9gI88iM0YU5bMm8e0pzcxYh6MPK05LWusYfXyNGg0B72tGTfd5HWAkS3kCUJVF+FMRi8FVrkxjAPuBe4UkQ1ALeC1UMdmjCkjfIrrVdFoOveFh1s04fcdNeDq3nD95TQ8wQpBBJsnF8qp6sPAw/lW/wi09SAcY0xZ4lNcb36vNN46rTULYi+BA1MYcfH5PLhlIlUqVOGJC5/wOtKIZynYGFM2+BTX212pNnf02Mp5k4cx5/0OvNT1VRrGN6RylQM0PKYh4y4fR58WfbyOOOJZqQ1jjPcmT4YhQ2DnTj67NoPB3/RlywfCHXfA449DtWrX06/19cydO5eNvTd6HW25YT0IY4x3srLg6quhVy+oX58NU1Zw+fs3Uq268M03kJ4O1ap5HWT5ZT0IY0zo+RTX0737WDzkTdo834dTYmL49FPo1AkqVfI6SGM9CGNMaPkU1/u5cWe6tdtB27H9WLzc+Xu1a1dLDmVFkQlCHDeIyD/c5RNExM42MsYcHZ/ieofnL+LFXl/TfO0kvl5SlfR0OPNMrwM0+QUyxPQSkItTTO9RYDcwBWgTxLiMMZEkMxMGDoT589GLu9J1zwd8+X4sF18Mr7wCDRt6HaDxJ5AhprNUdQiwH0BVdwF2rwZjTNEOHoSRI6FVKw5mbkAzxiOff0avvrGMHw+ff27JoSwLpAdxUESiAQUQkWNxehTGGFOwpUthwABYvpyFF9zPwK2P8ECFGHqLcx2cKfsC6UG8AHwIHCciTwDzgJFBjcoYE77274cRI6BtW3J++ZPkbj9wzpwn+GNPDDVreh2cORpF9iBU9R0RWYJTVE+AK1U1M+iRGWPCz7x5Tq9h/Xpmd32Gm9fcyc+fRjNkCDz5pF3TEG4KTRAiEgWsVOfGPetCE5IxJuzs3u30GsaOhUaNYOZMsv/sTOwDTs4491yvAzTFUWiCUNVcEVkhIieo6qZQBWWMCSNucT3dtJn3ur7Jzi7XclvnyvQALr8cKlTwOkBTXIHMQdQB1ojILBGZlvcIdmDGmDLOp7je5gonccW5v9P7i368N7Uyue5pLJYcwlsgZzE9EvQojDHhxS2ul7tjFy9f/BH3zb+cw1nC6NEwdChEWY2GiFDkx6iqX+HMP1RzH5nuOmNMeZOvuN7qCSu5fcYVnHWWsHo1pKRAdLTXQZrSEkipjWuAb4FewDXAIhHpWfi7jDERJa+4XrNmHPxkOp/3nwSLFnHGNU1YuBBmzIATT/Q6SFPaAukIPgC0UdV+qnojzl3fHgpuWMaYMiOvuF7//nzXqBeJjXZw6Ru9WLveGaFu2xZEvA3RBEcgCSJKVX/1Wd4R4PuMMSGgqoUuF5tPcb0981dw1wXLaLfyFXbkVGLqVGjWrHQOE4igtdEUKpAv+i9EZLqI3CQiNwGfAp8X94AicpqILPd5/Ckiw0SkpojMFJEf3J81insMY8qL1NRUUlJS/v7CVFVSUlJITU0t2Y4zM6F9exg6lMPnnc/ZDTYzenYrbrlFWLsWuncveeyBClobTZECmaQeDrwCnAG0BMap6j3FPaCqfq+qrVS1FZAI7MUp5XEfMEtVGwOz3GVjTAFUlezsbNLT00lJSQEgJSWF9PR0srOzi/dXtk9xvT8zt6IZ44n+/BOG31+RuXPh5ZfhmGNKtx2FCUobTeBUtdAHcCJQ2Wc5FmhU1PsCeQBdgG/c598DddzndYDvi3p/YmKiBtucOXOCfgyvWRvDV25uriYnJyugzz77rAKanJysubm5R7+zJUtUW7XSXNBJ7Z7ThGMP6dtvl37MR6tU21jGherfKbBYA/iOFi0iA4vIYuAcVT3gLld0v9RLfD8IEXkdWKqqY0QkW1XjfV7bpar/M8wkIoOAQQAJCQmJEydOLGkYhcrJySEuLi6ox/CatTH8LVmyhPr167NlyxYSExOP6r1RBw7QMCODEyZO5KfqTRl4/BTmrDuNxo13c88933PKKTlBivrolKSN4SJU/047deq0RFWTitywqAwCLPezbkUg2aeI/VYEfgcS3OXsfK/vKmof1oMoHdbG8FXiv67//W/VU09VBX3n/Fe0erVcjY1VHTVK9eDB4MYeKOtBlD4C7EEEMkn9m4hckbcgIt3dL/aSugSn97DdXd4uInXcY9QBfi3wncaYvydr09PTSU5OJjExkeTk5L/H67Ww0YHdu+H2252J6AMHYOZMKg8dRGKSsGoV3H03xARSZyHIStRGU2KB/BMYDLwjImNwyn1vBm4shWP3Bt71WZ4G9AOecn9+VArHMCZiiQjx8fEkJyeTlpbGV199RVpaGgDx8fFIQRcnuMX1Dm7KYvS506jQrQt3dq5ED+Cqq8rWNQ3FbqMpFYHcD+I/QDsRiQNEVXeX9KAiUgW4CLjVZ/VTwCQRGQBswrly2xhTiNTUVGcy0f2iFBHS0tL8f3Hu3OnUwhg/nqWNejCgcQbLv4nj+obOhdIiZSs55DmqNppSVeAQk4hcLiK+d4u9E5jnVnMt0UX1qrpXVWup6h8+63ao6oWq2tj9ubMkxzCmvMj/Ren3i3PyZGjalL3vfMi9Z39F282T2bY7jilT4J13ymZi8BVQG02pK2wO4gngNwARuQy4AbgZZyjo5eCHZowpsXzF9dZmfMdz33agf38hMxN69PA6QFOWFTbEpKq6133eA3hNVZcAS0TktuCHZowpNlXIyICUFLL3VuTTa6fR5+1LSIqJ4ft2cPLJXgdowkFhPQgRkTj3tqMX4lzdnKdycMMyxhSbT3G9D+vcRrNjtnLTlMv5eavz96AlBxOowhLE88ByYDHOPSAWA4jImUBWCGIzxhwNn+J62775Dz1bbaBH5hMcVzeGhQuhYcOid2GMrwKHmFT1dRGZDhwHrPB5aRvQP9iBGWOOQmYmZw4dCmvWcKDLZbRZ9SG/ZcYwcqRzTUNp3vrT94wif8smchR6oZyqblXVZaqa67MuS1U3BT80Y0yRfIrr7fr5EJoxnopfTCN9TAwrVsCIEaWbHKyyavli93UwJlwtWwZt23LogX/wbJN/0eTAaiZE9wURevSA004r3cNpvsqqvlc5W2XVyFQGLqY3xhyV/fvhkUdg1ChWxJ/PgJN/Y8nKGpxzzu907Fg7aIfNu0ANID09nfT0dIC/r3K2YabIE1APQkRqiMgZItI67xHswIwxfsybBy1bwlNPMTrxHZL++JLNu2swaRI8/vhq6tUL7uF9k0QeSw6Rq8gEISKPASuBF4Dn3MezQY7LGOPLp7ie/uUU1zvxvmu54QbngrdevUJzNXTesJIvK5oXuQIZYroGOFnd+0EYY0LMLa73x6Y/uPf0eTS8OokRnStxFU5xvVDJX1k1LS3t72WwnkQkCmSIaTUQX+RWxpjStXMn9OsHXbsy7XA3mh+7nVfXnsvuA5U8CSd/ZdW84abk5GSrrBqhAulBPAksE5HVwF95K1X1ioLfYowpkcmTYcgQtu+IYWjTlUzKbEGLFvDBJ9C2rXdhWWXV8iWQBJEBPA2sAnKL2NYYUxJZWc5cwwcfQOvWbBo9gU8Gncbjj8Pw4VCxotcBWmXV8iSQBPG7qr4Q9EiMKc98iuv9tDeBz7pPZ8jkC2gTE8OmrlCrltcBmvIokASxRESexCnz7TvEtDRoURlTnmzcCIMGcXjmLF446Xke/GsI0bOj6LkDEhIsORjvBJIgznR/tvNZp8AFpR+OMeVIbi6MHQsjRrAqtzkDG/7Ctz8m0K0b/POfTnIwxkuB3HK0UygCMaZcycyEgQNh/nxyOl/J+d9NJnpPNBMmwHXXlf07vJnyIaBSGyLSDWiOz30gVPXRYAVlTMQ6eBBGjYJHHmFV5TacnjGeuL43MHGm0Lo11A5epQxjjlogV1K/DFwL3AEI0AsoUWV5EYkXkckisk5EMkXkbBGpKSIzReQH92eNkhzDmDLHLa63+4EnueOEqbTc/W8mVXKK63XpYsnBlD2BXCh3jqreCOxS1UeAs4EGJTxuOvCFqjYBWgKZwH3ALFVtjHP3uvtKeAxjyob9+526223a8NnPzWheeztj/3MJd9whdOvmdXDGFCyQIaZ97s+9IlIX2AGcWNwDikh1oANwE4BbwuOAiHQHOrqbZQBzgXuLexxjyoR582DAAFi/nruaf8HoNRfTrBl8Mw3OPtvr4IwpXCAJ4hMRiQdGAUtxzmD6VwmOeRLwG/CGiLQElgDJQIKqZoFzUyIROa4ExzDGW7t3w4gR6Nix5DY8ieiZMzl/b2eqLXU6E5W8qZZhzFGRo6nCKCKVgMqq+kexDyiSBCwEzlXVRSKSDvwJ3KGq8T7b7VLV/5mHEJFBwCCAhISExIkTJxY3lIDk5OQQFxcX1GN4zdpYump8+y2njR7Ntu2VuTnhA06+OI4+/X8J+nHtcwx/oWpfp06dlqhqUpEbqmqhD+AxIMZnuTrwRlHvK2R/xwMbfZbbA58C3wN13HV1gO+L2ldiYqIG25w5c4J+DK9ZG0vJjh2qN96oh4jSF457TKvGHtKqVVVfein4h1a1zzEShKp9wGIN4Ps6kEnqGGCRe8OgLsB3OMNCxaKq24DNIpJ3Q8QLgbU4V2r3c9f1Az4q7jGMCbnJk6FpU9a9s4T29X5i6K8Pcl6HaNasgf/7P6+DM6Z4ArlQboSIzAIWAbuADqq6oYTHvQN4R0QqAj8C/XHOqJokIgOATTin0xpTtuUrrpczegL/ufMExo+HG26wC95MeCsyQYhIB5zTUh8FWgBjRORmVS32oKqqLgf8jX9dWNx9GhNSPsX1Fu5pweyL53L/J+eSFBPDxh4QG+t1gMaUXCBnMT0L9FLVtQAi0gOYDTQJZmDGlFlucb2cmfN5oO6bvPjH1dRfKwzZA8ccY8nBRI5A5iDOzksOAKr6AXBu8EIypozKzYUXX4TTT2f6v6twes1feDHram67TVizxkkOxkSSAhOEiDwPoKqHRSQ538vPBTUqY8qazExo3x6GDmXnWZfQM/oDYo+rzr//LYwZA9WqeR2gMaWvsB5EB5/n/fK9dkYQYjGm7Dl4EEaORFu24stVCWjGeGp+OYmZX0axbBmca31pE8EKm4OQAp4bUz4sWwY338zm5b9zW535fJKVyIfV4UqBdu2Kfrsx4a6wHkSUiNQQkVo+z2uKSE0gOkTxGRN6bnG93KS2vPTjxTSP/ZFZ2YmMHg2XX+51cMaETmE9iGNwLojL6z343mI08PocxoQTn+J6vU9cxKSf2tK5M7zyCpx0ktfBGRNaBSYIVW0UwjiM8ZZbXO/g2FegYSMqzJxJvwNtueRX6NfPLngz5VNAd5QzJqJNnw6DBrF403EMqL2Rnn1r81DnSlzqdVzGeCyQ6yCMiUw7d0K/fuzp2oO7cx7mrKhv+b1iPVq2sVrcxoD1IEx5NXkyDBnC/B2ncUP8Zn7aWZNbb4Wnn7YL3ozJU2CCcM9WKpCq7iz9cIwJsnzF9SqOfpXKT9Rk7lQ4/3yvgzOmbCmsB7EE52wlf9NzinNnOGPCgyq8+SY6LIUpe7qypON8npzZhqSYGFb3higbbDXmfxR2FlOx7zttTJmycSNn3HMPvyzeypBaHzH1UAeScuAfByFTLuJvAAAV70lEQVQ2xpKDMQUJ6L+Ge5FcWxHpkPcIdmDGlJhbXC+3eQveW3EWTSv/xBd72vPMM7BggVVdNaYogdwPYiCQDNQHlgPtgAXABcENzZgSyMyEgQNh/ny2dbyeuxemcdbZFRg3Dk45xevgjAkPgfQgkoE2wM+q2gk4E/gtqFEZU1xucb2DLZOYsKI5mjGeurPf5qWXlzFrliUHY45GIKe57lfV/SKCiFRS1XU+95M2puxwi+stXS4MiF/N8uwTSagHFwo0bLjXroY25igF0oPYIiLxwFRgpoh8BBT7dqPGlDq3uN7epA7c88NA2kYtZlvlE5kyBS60m9gaU2xF9iBU9Sr3aaqIzMEp4vdFUKMyJlA+xfW6HZ/J3G1NGDgQRo2C+HivgzMmvAV0JbWIRAMJwE/uquOBTcU9qIhsBHYDh4FDqprkXpj3HtAI2Ahco6q7insME+Hc4nrZY9+mSsPjqDhjBg9IEx6Kggvs9AljSkUgZzHdATwMbAdy3dVKye8q10lVf/dZvg+YpapPich97vK9JTyGiURucb0PNyUypOrPDL6hMv+4qBKdvY7LmAgTSA8iGThNVXcEOZbuQEf3eQYwF0sQxtfOnZCSwrbx07m9WgZTuJiWp0C3q4p+qzHm6Ilq4ff+cecdLlLVQ6V2UJGfgF04PZFXVHWciGSrarzPNrtUtYaf9w4CBgEkJCQkTpw4sbTC8isnJ4e4uLigHsNr4dDGY7/6isbp6Xz2Rwf6xbzDfq1Mv5t+5pprNhMTU/T9q8KhjSVlbQx/oWpfp06dlqhqUpEbqmqhD+A1YB4wArgz71HU+4rYZ13353HACqADkJ1vm11F7ScxMVGDbc6cOUE/htfKdBt/+UW1Rw9VUG3dWpdMWKcXXKD6/fdHt5sy3cZSYm0Mf6FqH7BYA/iuDmSIaZP7qOg+SkxVf3F//ioiHwJtge0iUkdVs0SkDvBraRzLhClVyMjg0LC7eT5nIJvO+Y4XvmpF65gYZvX2OjhjyodATnN9pDQPKCJVgShV3e0+7wI8CkwD+gFPuT8/Ks3jmjCycSMMGsTymb8yMG4eSw43ofuxcFChgtexGVOOFHY/iOdVdZiIfIwzV3AEVb2imMdMAD4U57LWGGCCqn4hIt8Bk0RkAE6PpVcx92/CVW4ujB3L/vtSefTgCJ6JupNaVYRJr0PPnnZfaGNCrbAexFvuz2dL84Cq+iPQ0s/6HYBd91pe+RTX++38Gxiz5E769oziueegZqG3rjLGBEthCeI3AFX9KkSxmPLo4EEYNYo/UtN4o8ItJGcMpkHfG/h+m1CnjtfBGVO+FZYgpgKtAURkiqpeHZqQTLnhFtebtrwBt8WuI2t/Tc5tKrQRLDkYUwYUVqzPd8TXbi9qSo9bXG97UjeuXZdKd6ZR85RaLFggtGnjdXDGmDyF9SC0gOfGFJ9bXE/Xr+fimj+TmdOAxx+H4cOhYqmcRG2MKS2FJYiWIvInTk8i1n2Ou6yqWj3o0ZnI4RbX2zj2E+o0rESlGTN4sfIJHHssNGnidXDGGH8KTBCqGh3KQEwEmz6dw7cM5oXNV/FgzPeMuBEevKgS7b2OyxhTqIDKfRtTLDt3wp13sipjCQMrT+VbWtLtYuh3i9eBGWMCEcgd5Yw5elOmQLNmvPpWZVpHLefHuDOYMAE+/hgaNPA6OGNMICxBmNKVlQVXX4327An16pH0TgrX3xBNZqbQu7ddDW1MOLEEYUqHKrz5JrubtuX2qZ0Z1GY5LFrEmdedRkYG1K7tdYDGmKNlcxCm5Nziep/NjGFwpcVs0eMYeo6QG2V/gRgTzuz/rym+3Fx48UV+b34+feYMoBufUe3k4/jmG+H55yHK/nUZE9bsv7ApnsxMaN8ehg5lf9sOTK/Wk4cfhqVLhbPP9jo4Y0xpsCEmc3Tc4no/p77Ba9GDeCRjMPX73sBPOUK1al4HZ4wpTZYgTOCWLeNw/4G8tOIcRkSvggoV6d0miqaCJQdjIpANMZmiucX11ibdSPu1LzOUFzmvc2VWr4miaVOvgzPGBIv1IEzh3OJ6h9dvoHv1X9gVcyxvpUOfPnZNgzGRzhKE8c8trrd47EJaNIRKM75gQnwCDRvCccd5HZwxJhRsiMn8r+nTyWnWluSxp9KWb0kfsBIuuog2bSw5GFOeeNaDEJFoYDGwVVUvE5ETgYlATWAp0FdVD3gVX7nkFtebnpHFrTFf8jP1GDIE/m9YJa8jM8Z4wMseRDKQ6bP8NJCmqo2BXcAAT6Iqr9zieo+/dQJdmU7syXWYNw/GjLEzlIwprzxJECJSH+gG/MtdFuACYLK7SQZwpRexlTtZWTR76B/81fN6qFePbu/04cEHYdnyKM491+vgjDFeEtXQ301URCYDTwLVgLuBm4CFqnqK+3oD4HNVPd3PewcBgwASEhISJ06cGNRYc3JyiIuLC+oxPKHK8dOnU/HFqQzd9xyVG9fgjpf2odGReZ+oiP0cfVgbw1+o2tepU6clqppU1HYhn4MQkcuAX1V1iYh0zFvtZ1O/mUtVxwHjAJKSkrRjx47+Nis1c+fOJdjHCLmNG8m95VZe/vJk7otewoEKlXhycAwdLojcU1cj8nPMx9oY/spa+7yYpD4XuEJELgUqA9WB54F4EYlR1UNAfeAXD2KLbLm5MHYsP977Cv3+Gsc8zqFzR6X/zYu4/vp2XkdnjCljQj4HoaojVLW+qjYCrgNmq2ofYA7Q092sH/BRqGOLaOvW/V1cr+JZZ7K5TlveeANmzBTq1t3vdXTGmDKoLF0HcS9wp4hsAGoBr3kcT2Q4eBBGjmRxi/7cvqQ/mjGe+rPHs2FjDDfdFLlDSsaYkvP0SmpVnQvMdZ//CLT1Mp6Is2wZe/rdxsOrriaNbzi+tnJPx2hOEIixa+iNMUWwr4lItH8/PPIIXz6zlEEykZ9oyK23wtNPwzHHeB2cMSZcWIKING5xvb/Wb2RA1a1UOr4Gc1+D88/3OjBjTLixBBEpdu9G7xvBpy9t5KKGUGnGJ3xerzYnngixsV4HZ4wJR2VpktoU1/Tp/NLkAq56qTOX8wn/GuoU12vWzJKDMab4rAcRznbuJDflLv41vgLDo2ZzoGIVnnkcbh1qxfWMMSVnPYhw5RbXS34riVsZR2L7KqxaE83w4XaGkjGmdNhXSbjJyuLgbcn8NfUz4lqfxoD0zrTcDQMGRNs1DcaYUmUJIlyoQkYGS+94gwF70mnZ+iHeXNSUVjExtPI6NmNMRLIhpnCwcSN7O1/BPf1/pW3OLLbVPp0rHmhhY0nGmKCyb5iyzC2ut/SeiVzz13j+w8kMHKCMelaIj/c6OGNMpLMEUVatWwcDBsD8+RzX8QaO+b0+s1+ATp1sosEYExqWIMqagwdh1Cg+fHgZk6OG8XbGYOr3vYHFiE1CG2NCyhJEWbJsGVl97+H2NYP5gPtp2fwgv19SgWPF/x2VjDEmmCxBlAX796Opj/D6M79zN++zr0I1nnwU7rqrAhUqeB2cMaa8sgThNbe43t71W3i06s+c0bIqr74Rzamneh2YMaa8swThld27OXTvA7z+z/30awhVZ0zl36fVpn59iLKTj40xZYAlCC9Mn87ym55n4LbHWEISVR7czw0XVeYEr+Myxhgf9rdqKO3cyf6+t3B/1yUkbfuYzTXO4L33oM+Ayl5HZowx/8MSRKi4xfX6v3MhT3I/ffvC2h8qcs01dl9oY0zZZENMwZaVxZ+3Dif340+Ib30yI15oxc014KKL7FdvjCnbQv4tJSKVga+BSu7xJ6vqwyJyIjARqAksBfqq6oFQx1dq3OJ6H98+nf/bM4qLEu/ljYVNOcPqJxljwoQXQ0x/AReoakugFdBVRNoBTwNpqtoY2AUM8CC20rFxI9s7Xsu1/WO5Ys+71Dz1WG77pxXXM8aEl5AnCHXkuIsV3IcCFwCT3fUZwJWhjq3EcnPhxReZ3XQIzb5+makxPXns0VwWr6pEmzZeB2eMMUdHVDX0BxWJBpYApwBjgVHAQlU9xX29AfC5qp7u572DgEEACQkJiRMnTgxqrDk5OcTFxRW5XZVNmzj16WeIX7uG1a26MYhx3DpsCw0b7g1qfKUh0DaGM2tjZIj0NoaqfZ06dVqiqklFbqiqnj2AeGAO0B7Y4LO+AbCqqPcnJiZqsM2ZM6fwDQ4c0EOPjdTR0XfrZRU+19yM8aq5uUGPqzQV2cYIYG2MDJHexlC1D1isAXxHezoorqrZIjIXaAfEi0iMqh4C6gO/eBlbQJYtY1XvkQz8/m6+5Sy6dfqLnKsqUc1OWzXGRICQz0GIyLEiEu8+jwU6A5k4PYme7mb9gI9CHVvA9u/nr+EP8o/ET2n9/QR+rN6KCRPg4xmVqFbN6+CMMaZ0eNGDqANkuPMQUcAkVf1ERNYCE0XkcWAZ8JoHsRXNLa53cP1WxsdtpHe3XEaPqUTt2l4HZowxpSvkCUJVVwJn+ln/I9A21PEEbPdudt+VStqrVbnnBIib8SHLkmpTo4bXgRljTHDYifmBmD6dz/q+y+DfHmUL9Ul8bgTdLorFcoMxJpJZLabC7NxJ7Uf/SZ+uv9Pttzep1qg238yPolvPWK8jM8aYoLMEUZgFC7hrzs28H3UtqQ8eZOm6Kpx9ttdBGWNMaNgQU2G6daPfqM8YfUkMzZt7HYwxxoSW9SCKUDepiiUHY0y5ZAnCGGOMX5YgjDHG+GUJwhhjjF+WIIwxxvhlCcIYY4xfliCMMcb4ZQnCGGOMX5YgjDHG+OXJLUdLi4j8Bvwc5MPUBn4P8jG8Zm2MDNbG8Beq9jVU1WOL2iisE0QoiMhiDeTerWHM2hgZrI3hr6y1z4aYjDHG+GUJwhhjjF+WIIo2zusAQsDaGBmsjeGvTLXP5iCMMcb4ZT0IY4wxflmCMMYY45cliEKISFcR+V5ENojIfV7HUxpEpIGIzBGRTBFZIyLJ7vqaIjJTRH5wf9bwOtaSEJFoEVkmIp+4yyeKyCK3fe+JSEWvYywJEYkXkckiss79LM+OwM8wxf03ulpE3hWRyuH+OYrI6yLyq4is9lnn93MTxwvu989KEWkd6ngtQRRARKKBscAlQDOgt4g08zaqUnEIuEtVmwLtgCFuu+4DZqlqY2CWuxzOkoFMn+WngTS3fbuAAZ5EVXrSgS9UtQnQEqetEfMZikg9YCiQpKqnA9HAdYT/5/gm0DXfuoI+t0uAxu5jEPDPEMX4N0sQBWsLbFDVH1X1ADAR6O5xTCWmqlmqutR9vhvni6UeTtsy3M0ygCu9ibDkRKQ+0A34l7sswAXAZHeTcG9fdaAD8BqAqh5Q1Wwi6DN0xQCxIhIDVAGyCPPPUVW/BnbmW13Q59YdGK+OhUC8iNQJTaQOSxAFqwds9lne4q6LGCLSCDgTWAQkqGoWOEkEOM67yErseeAeINddrgVkq+ohdzncP8uTgN+AN9xhtH+JSFUi6DNU1a3As8AmnMTwB7CEyPoc8xT0uXn+HWQJomDiZ13EnBMsInHAFGCYqv7pdTylRUQuA35V1SW+q/1sGs6fZQzQGvinqp4J7CGMh5P8ccfhuwMnAnWBqjhDLvmF8+dYFM//3VqCKNgWoIHPcn3gF49iKVUiUgEnObyjqh+4q7fndV/dn796FV8JnQtcISIbcYYFL8DpUcS7QxUQ/p/lFmCLqi5ylyfjJIxI+QwBOgM/qepvqnoQ+AA4h8j6HPMU9Ll5/h1kCaJg3wGN3bMmKuJMkE3zOKYSc8fjXwMyVXW0z0vTgH7u837AR6GOrTSo6ghVra+qjXA+s9mq2geYA/R0Nwvb9gGo6jZgs4ic5q66EFhLhHyGrk1AOxGp4v6bzWtjxHyOPgr63KYBN7pnM7UD/sgbigoVu5K6ECJyKc5fn9HA66r6hMchlZiInAf8G1jFf8fo78eZh5gEnIDzn7OXquafTAsrItIRuFtVLxORk3B6FDWBZcANqvqXl/GVhIi0wpmErwj8CPTH+YMvYj5DEXkEuBbnzLtlwECcMfiw/RxF5F2gI05Z7+3Aw8BU/HxubmIcg3PW016gv6ouDmm8liCMMcb4Y0NMxhhj/LIEYYwxxi9LEMYYY/yyBGGMMcYvSxDGGGP8sgRhyjwRuUpEVESaBLj9/fmW57s/G4nI9cU4/k0iMuYotm/lniJ91NwqrbcV573GlDZLECYc9Abm4Vz4FogjEoSqnuM+bQQcdYIohlZAsRIEEA+EJEH4XJFsjF+WIEyZ5taMOhenrPN1Pus7isjXIvKhiKwVkZdFJEpEnsKpALpcRN5xt81x3/YU0N59LSV/z0BEPnEvrkNE+ovIehH5yj1+3jbHisgUEfnOffz9mvt6ReBR4Fr3ONeKSFX3PgDfucX1urvbNheRb93tVopIYzfGk911o/Ltu6qIfCoiK8S5R8K17vo2IjLfXf+tiFQT594Jb4jIKveYndxtbxKR90XkY2CGu264G9tK9+I0Yxyqag97lNkHcAPwmvt8PtDafd4R2I9T2TQamAn0dF/LybePHJ/3fOKz/iZgjM/yJ+42dXCuaD0W50rlb/K2AyYA57nPT8ApWZI/5vz7HYlzxS84PYT1OMXnXgT6uOsrArE4vZzVBfwurgZe9Vk+hv9eSd3GXVcdp5jfXcAb7rombnsqu7FtAWq6r3UBxuEUhotyfwcdvP7c7VE2HtaDMGVdb5zSCrg/e/u89q069+s4DLwLnFdKxzwLmKtOobgDwHs+r3UGxojIcpxaOdVFpFoR++sC3Oe+Zy7OF/UJwALgfhG5F2ioqvuK2M8qoLOIPC0i7VX1D+A0IEtVvwNQ1T/VKYd9HvCWu24d8DNwqrufmfrfEhxd3McyYClOMmlcRBymnLAxSFNmiUgtnGqsp4uI4vQUVETucTfJXyfmaOvGHOLIYdbKAewrCjg7gC9zXwJcrarf51ufKSKLcG5uNF1EBuL0BvxS1fUikogzv/GkiMzAqePjL1Z/paLz7Mm33ZOq+koA7TDljPUgTFnWE+eOWg1VtZGqNgB+4r89hbZutd0onKJu89z1B92S5vntBnz/2t8ItHLnLhrg3EUQnMKFHUWklrufXj7vmQHcnrfgFs0r6jjTgTvc4muIyJnuz5OAH1X1BZzeyBl+3vs3EakL7FXVt3FuptMaWAfUFZE27jbV3Mnnr4E+7rpTcXos+RNUXmw3u3M9iEg9EQnbGw2Z0mUJwpRlvYEP862bwn/PRFqAM6m7Gidx5G07DliZN0ntYyVwyJ3MTcGZW/gJZ+jmWZwhFtQpqZzq7v/LvPWuoUCSO6G7FhjsJ+45QLO8SWrgMaCCG9NqdxmcpLbaHXpqgpMMdwDfuJPQo/LttwXwrbv9A8Dj7hDYtcCLIrICZy6mMvASEC0iq3CGyG5SP1VPVXUGzrzKAnfbyRSQoEz5Y9VcTVgSn1LeXsdiTKSyHoQxxhi/rAdhjDHGL+tBGGOM8csShDHGGL8sQRhjjPHLEoQxxhi/LEEYY4zx6/8BXuPAzs5nEwgAAAAASUVORK5CYII\u003d\n",
            "text/plain": [
              "\u003cFigure size 432x288 with 1 Axes\u003e"
            ]
          },
          "metadata": {
            "needs_background": "light"
          },
          "output_type": "display_data"
        }
      ],
      "source": [
        "#function to generate line points for plotting\n",
        "def computeline(intercept,slope,start_x,end_x):\n",
        "    points_x\u003d[start_x,end_x]\n",
        "    points_y\u003d[intercept,intercept+slope*end_x]\n",
        "    return points_x, points_y\n",
        "\n",
        "\n",
        "#ADD PLOTTING WITH MATPLOTLIB\n",
        "#make the figure\n",
        "fig \u003d plt.figure()\n",
        "plt.axis([0.,100.,0.,100.])\n",
        "\n",
        "#add the points in black\n",
        "plt.scatter(X[:,1],y,c\u003d\u0027k\u0027,marker\u003d\u0027x\u0027)\n",
        "\n",
        "\n",
        "#add the predicted final exam score for Aptitude test \u003d 80\n",
        "plt.scatter(t[1],ythat,c\u003d\u0027g\u0027,marker\u003d\u0027o\u0027)\n",
        "\n",
        "#add the student line in blue\n",
        "points_x,points_y \u003d computeline(beta[0,0],beta[1,0],0,100)\n",
        "plt.plot(points_x,points_y,c\u003d\u0027r\u0027)\n",
        "\n",
        "#add the ideal line based on linear least squares fit\n",
        "intercept, slope \u003d np.linalg.lstsq(X, y)[0]\n",
        "ideal_x,ideal_y\u003dcomputeline(intercept,slope,0,100)\n",
        "plt.plot(ideal_x,ideal_y,ls\u003d\u0027--\u0027,c\u003d\u0027b\u0027)\n",
        "\n",
        "plt.title(\u0027Simple Regression\u0027)\n",
        "plt.ylabel(\u0027Final Exam Score\u0027)\n",
        "plt.xlabel(\u0027Aptitude test score\u0027)\n",
        "plt.axis(\u0027equal\u0027)\n",
        "plt.grid(True)\n",
        "plt.show()"
      ]
    },
    {
      "cell_type": "code",
      "execution_count": null,
      "metadata": {
        "pycharm": {}
      },
      "outputs": [],
      "source": []
    }
  ],
  "metadata": {
    "kernelspec": {
      "display_name": "Python 3",
      "language": "python",
      "name": "python3"
    },
    "language_info": {
      "codemirror_mode": {
        "name": "ipython",
        "version": 3
      },
      "file_extension": ".py",
      "mimetype": "text/x-python",
      "name": "python",
      "nbconvert_exporter": "python",
      "pygments_lexer": "ipython3",
      "version": "3.7.2"
    }
  },
  "nbformat": 4,
  "nbformat_minor": 2
}