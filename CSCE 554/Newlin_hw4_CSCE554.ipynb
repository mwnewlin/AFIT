{
 "cells": [
  {
   "cell_type": "markdown",
   "metadata": {},
   "source": [
    "# CSCE 554 HW 4\n",
    "# Marvin Newlin\n",
    "# 13 Aug 19"
   ]
  },
  {
   "cell_type": "code",
   "execution_count": 100,
   "metadata": {},
   "outputs": [],
   "source": [
    "import numpy as np\n",
    "import pandas as pd\n",
    "import scipy\n",
    "from scipy import stats\n",
    "import matplotlib.pyplot as plt\n",
    "import pandas\n",
    "import random\n",
    "\n",
    "import matplotlib.pyplot as plt\n",
    "\n",
    "#make plots inline using jupyter magic\n",
    "%matplotlib inline\n",
    "from IPython.display import Markdown as md  #enable markdown within code cell\n",
    "from IPython.display import display, Math, Latex\n",
    "import matplotlib as mpl\n",
    "\n",
    "from sklearn.linear_model import LinearRegression"
   ]
  },
  {
   "cell_type": "markdown",
   "metadata": {},
   "source": [
    "## 4.1\n",
    "\n",
    "### Solution"
   ]
  },
  {
   "cell_type": "markdown",
   "metadata": {},
   "source": [
    "#### Answer\n",
    "\n",
    "According to the textbook, the estimate of the error variance $\\sigma^2$, is $E(MS_E)$. We have that $SSE = 500$. We know that $a = 4$, $b = 6$, and for a completely randomized design, $N = ab = 24$. Thus we have $N-a = 24-4 = 20$ degrees of freedom. We can calculate MSE as $MS_E = \\frac{SS_E}{N-a} \\Rightarrow MS_E = \\frac{500}{20} = 25 = \\hat{\\sigma^2}$. Thus, the answer is $\\textbf{(a)}$. \n"
   ]
  },
  {
   "cell_type": "markdown",
   "metadata": {},
   "source": [
    "## 4.9.  Be sure to include residual plots verifying your analysis\n",
    "\n",
    "### Solution"
   ]
  },
  {
   "cell_type": "code",
   "execution_count": 101,
   "metadata": {},
   "outputs": [
    {
     "data": {
      "text/markdown": [
       "SST: 1862.25"
      ],
      "text/plain": [
       "<IPython.core.display.Markdown object>"
      ]
     },
     "metadata": {},
     "output_type": "display_data"
    },
    {
     "data": {
      "text/markdown": [
       "SSTreatments: 703.5"
      ],
      "text/plain": [
       "<IPython.core.display.Markdown object>"
      ]
     },
     "metadata": {},
     "output_type": "display_data"
    },
    {
     "data": {
      "text/markdown": [
       "SSBlocks: 1106.9167"
      ],
      "text/plain": [
       "<IPython.core.display.Markdown object>"
      ]
     },
     "metadata": {},
     "output_type": "display_data"
    },
    {
     "data": {
      "text/markdown": [
       "SSE: 51.8333"
      ],
      "text/plain": [
       "<IPython.core.display.Markdown object>"
      ]
     },
     "metadata": {},
     "output_type": "display_data"
    },
    {
     "data": {
      "text/markdown": [
       "MSTreat: 351.7500"
      ],
      "text/plain": [
       "<IPython.core.display.Markdown object>"
      ]
     },
     "metadata": {},
     "output_type": "display_data"
    },
    {
     "data": {
      "text/markdown": [
       "MSE: 8.6389"
      ],
      "text/plain": [
       "<IPython.core.display.Markdown object>"
      ]
     },
     "metadata": {},
     "output_type": "display_data"
    },
    {
     "data": {
      "text/markdown": [
       "F0: 40.7170"
      ],
      "text/plain": [
       "<IPython.core.display.Markdown object>"
      ]
     },
     "metadata": {},
     "output_type": "display_data"
    },
    {
     "data": {
      "text/markdown": [
       "FCrit: 5.143"
      ],
      "text/plain": [
       "<IPython.core.display.Markdown object>"
      ]
     },
     "metadata": {},
     "output_type": "display_data"
    },
    {
     "data": {
      "text/markdown": [
       "p-value: 0.000323"
      ],
      "text/plain": [
       "<IPython.core.display.Markdown object>"
      ]
     },
     "metadata": {},
     "output_type": "display_data"
    }
   ],
   "source": [
    "data = np.array([[13, 22, 18, 39],\n",
    "                 [16, 24, 17, 44],\n",
    "                 [5,  4,  1,  22]])\n",
    "a = 3\n",
    "b = 4\n",
    "N = a*b\n",
    "\n",
    "# Calculate SST\n",
    "data_mean = np.mean(data)\n",
    "data_sum = np.sum(data)\n",
    "data_squared = np.square(data)\n",
    "data_squared_sum = np.sum(data_squared)\n",
    "\n",
    "SST = data_squared_sum - ((data_sum*data_sum)/N)\n",
    "display(md(\"SST: {}\".format(SST)))\n",
    "\n",
    "# Calculate SSTreatments\n",
    "treat_sum = np.sum(data, axis=1) # Array of sum of each row\n",
    "SSTreat = (1/b)*np.sum(np.square(treat_sum)) - ((data_sum*data_sum)/N)\n",
    "display(md(\"SSTreatments: {}\".format(SSTreat)))\n",
    "\n",
    "# Calculate SSBlocks\n",
    "block_sum = np.sum(data, axis=0) # Array of sum of each column\n",
    "SSB = (1/a)*np.sum(np.square(block_sum)) - ((data_sum*data_sum)/N)\n",
    "display(md(\"SSBlocks: {:.4f}\".format(SSB)))\n",
    "\n",
    "# Calculate SSE\n",
    "SSE = SST - SSTreat - SSB\n",
    "display(md(\"SSE: {:.4f}\".format(SSE)))\n",
    "\n",
    "MSTreat = SSTreat/(a-1)\n",
    "MSE = SSE/((a-1)*(b-1))\n",
    "F0 = MSTreat/MSE\n",
    "display(md(\"MSTreat: {:.4f}\".format(MSTreat)))\n",
    "display(md(\"MSE: {:.4f}\".format(MSE)))\n",
    "display(md(\"F0: {:.4f}\".format(F0)))\n",
    "f_crit = stats.f.ppf(1-0.05,a-1,(a-1)*(b-1))\n",
    "display(md(\"FCrit: {:.3f}\".format(f_crit)))\n",
    "p_val = 1-stats.f.cdf(F0,a-1,(a-1)*(b-1))\n",
    "display(md(\"p-value: {:.6f}\".format(p_val)))"
   ]
  },
  {
   "cell_type": "code",
   "execution_count": 102,
   "metadata": {},
   "outputs": [
    {
     "data": {
      "image/png": "[encoded data removed]",
      "text/plain": [
       "<Figure size 432x288 with 1 Axes>"
      ]
     },
     "metadata": {
      "needs_background": "light"
     },
     "output_type": "display_data"
    }
   ],
   "source": [
    "residuals_list = np.array([])\n",
    "residuals = np.zeros((a,b))\n",
    "for i in range(a):\n",
    "    for j in range(b):\n",
    "        e_ij = data[i,j] - np.mean(data[i,:]) - np.mean(data[:,j]) + data_mean # From slides e_ij = y_ij - y_i._bar - y_.j_bar + y_.._bar\n",
    "        residuals_list = np.append(residuals_list, e_ij)\n",
    "        residuals[i,j] = e_ij\n",
    "\n",
    "\n",
    "stats.probplot(residuals_list, plot=plt)\n",
    "plt.title(\"Normal Probability Plot of Residuals\")\n",
    "plt.show()\n",
    "\n"
   ]
  },
  {
   "cell_type": "code",
   "execution_count": 103,
   "metadata": {},
   "outputs": [
    {
     "data": {
      "image/png": "[encoded data removed]",
      "text/plain": [
       "<Figure size 432x288 with 1 Axes>"
      ]
     },
     "metadata": {
      "needs_background": "light"
     },
     "output_type": "display_data"
    },
    {
     "data": {
      "image/png": "[encoded data removed]",
      "text/plain": [
       "<Figure size 432x288 with 1 Axes>"
      ]
     },
     "metadata": {
      "needs_background": "light"
     },
     "output_type": "display_data"
    }
   ],
   "source": [
    "plt.plot(np.full(b, fill_value=1), residuals[0,:], 'bo', label='Solution 1')\n",
    "plt.plot(np.full(b, fill_value=2), residuals[1,:], 'ro', label='Solution 2')\n",
    "plt.plot(np.full(b, fill_value=3), residuals[2,:], 'go', label='Solution 3')\n",
    "plt.ylabel(\"Residuals\")\n",
    "plt.xlabel(\"Solution (treatment) Number\")\n",
    "plt.title(\"Residual Plot by Treatment\")\n",
    "plt.xticks(np.arange(1,a+1,1))\n",
    "plt.show()\n",
    "\n",
    "plt.plot(np.full(a,fill_value=1), residuals[:,0], 'bo', label='Day 1')\n",
    "plt.plot(np.full(a,fill_value=2), residuals[:,1], 'ro', label='Day 2')\n",
    "plt.plot(np.full(a,fill_value=3), residuals[:,2], 'go', label='Day 3')\n",
    "plt.plot(np.full(a,fill_value=4), residuals[:,3], 'ko', label='Day 4')\n",
    "plt.ylabel(\"Residuals\")\n",
    "plt.xlabel(\"Day (block) Number\")\n",
    "plt.title(\"Residual Plot by Block\")\n",
    "plt.xticks(np.arange(1,b+1,1))\n",
    "plt.show()\n"
   ]
  },
  {
   "cell_type": "markdown",
   "metadata": {},
   "source": [
    "### Answer\n",
    "\n",
    "Based on the value of $F_0 = 40.7 > 5.143 \\approx F_{0.05, 2,6}$ we can reject $H_0$. Thus, we can say that the solutions do have different effects on the bacteria growth. \n",
    "\n",
    "The residuals seem to pretty close to normally distributed in both the blocks and treatments. Additionally, inspecting the residuals for each treatment and block the variances are pretty close to constant with no large differences in variance. Thus, the 3 assumptions for ANOVA with RCBD are satisfied."
   ]
  },
  {
   "cell_type": "markdown",
   "metadata": {},
   "source": [
    "## 4.16\n",
    "\n",
    "### a )\n",
    "\n",
    "### Solution"
   ]
  },
  {
   "cell_type": "code",
   "execution_count": 104,
   "metadata": {},
   "outputs": [
    {
     "data": {
      "text/markdown": [
       "SST: 8056043.6389"
      ],
      "text/plain": [
       "<IPython.core.display.Markdown object>"
      ]
     },
     "metadata": {},
     "output_type": "display_data"
    },
    {
     "data": {
      "text/markdown": [
       "SSTreatments: 2989130.4722"
      ],
      "text/plain": [
       "<IPython.core.display.Markdown object>"
      ]
     },
     "metadata": {},
     "output_type": "display_data"
    },
    {
     "data": {
      "text/markdown": [
       "SSBlocks: 2287339.4722"
      ],
      "text/plain": [
       "<IPython.core.display.Markdown object>"
      ]
     },
     "metadata": {},
     "output_type": "display_data"
    },
    {
     "data": {
      "text/markdown": [
       "SSE: 2779573.6944"
      ],
      "text/plain": [
       "<IPython.core.display.Markdown object>"
      ]
     },
     "metadata": {},
     "output_type": "display_data"
    },
    {
     "data": {
      "text/markdown": [
       "MSTreat: 597826.0944"
      ],
      "text/plain": [
       "<IPython.core.display.Markdown object>"
      ]
     },
     "metadata": {},
     "output_type": "display_data"
    },
    {
     "data": {
      "text/markdown": [
       "MSE: 111182.9478"
      ],
      "text/plain": [
       "<IPython.core.display.Markdown object>"
      ]
     },
     "metadata": {},
     "output_type": "display_data"
    },
    {
     "data": {
      "text/markdown": [
       "F0: 5.3770"
      ],
      "text/plain": [
       "<IPython.core.display.Markdown object>"
      ]
     },
     "metadata": {},
     "output_type": "display_data"
    },
    {
     "data": {
      "text/markdown": [
       "FCrit: 2.603"
      ],
      "text/plain": [
       "<IPython.core.display.Markdown object>"
      ]
     },
     "metadata": {},
     "output_type": "display_data"
    },
    {
     "data": {
      "text/markdown": [
       "p-value: 0.0017201071939910717"
      ],
      "text/plain": [
       "<IPython.core.display.Markdown object>"
      ]
     },
     "metadata": {},
     "output_type": "display_data"
    }
   ],
   "source": [
    "data = np.array([[1244,   21,  82,  2221, 905, 839],\n",
    "                 [ 281,  129, 396,  1306, 336, 910],\n",
    "                 [ 220,   84, 458,   543, 300, 794],\n",
    "                 [ 225,   83, 425,   552, 291, 826],\n",
    "                 [  19,   11, -34,   121,  15, 103],\n",
    "                 [ -20,   35, -53,   170, 104, 199]])\n",
    "\n",
    "a = 6\n",
    "b = 6\n",
    "N = a*b\n",
    "\n",
    "# Calculate SST\n",
    "data_mean = np.mean(data)\n",
    "data_sum = np.sum(data)\n",
    "data_squared = np.square(data)\n",
    "data_squared_sum = np.sum(data_squared)\n",
    "\n",
    "SST = data_squared_sum - ((data_sum*data_sum)/N)\n",
    "display(md(\"SST: {:.4f}\".format(SST)))\n",
    "\n",
    "# Calculate SSTreatments\n",
    "treat_sum = np.sum(data, axis=1) # Array of sum of each row\n",
    "SSTreat = (1/b)*np.sum(np.square(treat_sum)) - ((data_sum*data_sum)/N)\n",
    "display(md(\"SSTreatments: {:.4f}\".format(SSTreat)))\n",
    "\n",
    "# Calculate SSBlocks\n",
    "block_sum = np.sum(data, axis=0) # Array of sum of each column\n",
    "SSB = (1/a)*np.sum(np.square(block_sum)) - ((data_sum*data_sum)/N)\n",
    "display(md(\"SSBlocks: {:.4f}\".format(SSB)))\n",
    "\n",
    "# Calculate SSE\n",
    "SSE = SST - SSTreat - SSB\n",
    "display(md(\"SSE: {:.4f}\".format(SSE)))\n",
    "\n",
    "MSTreat = SSTreat/(a-1)\n",
    "MSE = SSE/((a-1)*(b-1))\n",
    "F0 = MSTreat/MSE\n",
    "display(md(\"MSTreat: {:.4f}\".format(MSTreat)))\n",
    "display(md(\"MSE: {:.4f}\".format(MSE)))\n",
    "display(md(\"F0: {:.4f}\".format(F0)))\n",
    "f_crit = stats.f.ppf(1-0.05,a-1,(a-1)*(b-1))\n",
    "display(md(\"FCrit: {:.3f}\".format(f_crit)))\n",
    "p_val = 1-stats.f.cdf(F0,a-1,(a-1)*(b-1))\n",
    "display(md(\"p-value: {}\".format(p_val)))"
   ]
  },
  {
   "cell_type": "markdown",
   "metadata": {},
   "source": [
    "### Answer\n",
    "\n",
    "Based on the value of $F_0 = 5.377 > 2.603 = F_{0.05,5,25}$ and the $p$-value of $0.0017$ we can conclude that the algorithms differ in their mean cost estimation accuracy."
   ]
  },
  {
   "cell_type": "markdown",
   "metadata": {},
   "source": [
    "### b\n",
    "\n",
    "### Solution"
   ]
  },
  {
   "cell_type": "code",
   "execution_count": 105,
   "metadata": {},
   "outputs": [
    {
     "data": {
      "image/png": "[encoded data removed]",
      "text/plain": [
       "<Figure size 432x288 with 1 Axes>"
      ]
     },
     "metadata": {
      "needs_background": "light"
     },
     "output_type": "display_data"
    }
   ],
   "source": [
    "residuals_list = np.array([])\n",
    "residuals = np.zeros((a,b))\n",
    "for i in range(a):\n",
    "    for j in range(b):\n",
    "        e_ij = data[i,j] - np.mean(data[i,:]) - np.mean(data[:,j]) + data_mean # From slides e_ij = y_ij - y_i._bar - y_.j_bar + y_.._bar\n",
    "        residuals_list = np.append(residuals_list, e_ij)\n",
    "        residuals[i,j] = e_ij\n",
    "\n",
    "\n",
    "stats.probplot(residuals_list, plot=plt)\n",
    "plt.title(\"Normal Probability Plot of Residuals\")\n",
    "plt.show()"
   ]
  },
  {
   "cell_type": "code",
   "execution_count": 106,
   "metadata": {},
   "outputs": [
    {
     "data": {
      "image/png": "[encoded data removed]",
      "text/plain": [
       "<Figure size 432x288 with 1 Axes>"
      ]
     },
     "metadata": {
      "needs_background": "light"
     },
     "output_type": "display_data"
    },
    {
     "data": {
      "image/png": "[encoded data removed]",
      "text/plain": [
       "<Figure size 432x288 with 1 Axes>"
      ]
     },
     "metadata": {
      "needs_background": "light"
     },
     "output_type": "display_data"
    }
   ],
   "source": [
    "for i in range(b):\n",
    "    plt.plot(np.full(b, fill_value=i+1), residuals[i,:], 'o')\n",
    "plt.ylabel(\"Residuals\")\n",
    "plt.xlabel(\"Algorithm (treatment) Number\")\n",
    "plt.title(\"Residual Plot by Treatment\")\n",
    "plt.xticks(np.arange(1,a+1,1))\n",
    "plt.show()\n",
    "\n",
    "for j in range(a):\n",
    "    plt.plot(np.full(a,fill_value=j+1), residuals[:,j], 'o')\n",
    "plt.ylabel(\"Residuals\")\n",
    "plt.xlabel(\"Project (block) Number\")\n",
    "plt.title(\"Residual Plot by Block\")\n",
    "plt.xticks(np.arange(1,b+1,1))\n",
    "plt.show()"
   ]
  },
  {
   "cell_type": "markdown",
   "metadata": {},
   "source": [
    "### Answer\n",
    "\n",
    "Examining the normal probability plot of the residuals, we see that they are basically all normally distributed. There is one outlier at about 800, and examining the treatment and block residuals we see that that outlier at 800 also throws off the constant variance between each treatment and block. Besides the single outlier, the treatments have almost constant variance. The blocks have slight differences in variance but minus the outlier they are all relatively close. "
   ]
  },
  {
   "cell_type": "markdown",
   "metadata": {},
   "source": [
    "### c )\n",
    "#### Answer "
   ]
  },
  {
   "cell_type": "code",
   "execution_count": 107,
   "metadata": {},
   "outputs": [
    {
     "name": "stdout",
     "output_type": "stream",
     "text": [
      "Lowest mean percent error: 39.167 for Algorithm 5.\n"
     ]
    }
   ],
   "source": [
    "lowest_mean = np.inf\n",
    "best_alg = 7\n",
    "for i in range(a):\n",
    "    if data[i,:].mean() < lowest_mean:\n",
    "        lowest_mean = data[i,:].mean()\n",
    "        best_alg = i\n",
    "print(\"Lowest mean percent error: {:.3f} for Algorithm {:d}.\".format(lowest_mean, best_alg+1))"
   ]
  },
  {
   "cell_type": "markdown",
   "metadata": {},
   "source": [
    "Based on the mean percent error across all of the projects, since we we want it to be as low as possible, the FUNCTION POINTS algorithm is the best. It has the lowest mean percent error in dev cost estimation."
   ]
  },
  {
   "cell_type": "markdown",
   "metadata": {},
   "source": [
    "## 4.19\n",
    "\n",
    "### a )\n",
    "\n",
    "### Solution"
   ]
  },
  {
   "cell_type": "code",
   "execution_count": 108,
   "metadata": {},
   "outputs": [
    {
     "data": {
      "text/markdown": [
       "SST: 265.4375"
      ],
      "text/plain": [
       "<IPython.core.display.Markdown object>"
      ]
     },
     "metadata": {},
     "output_type": "display_data"
    },
    {
     "data": {
      "text/markdown": [
       "SSTreatments: 22.1875"
      ],
      "text/plain": [
       "<IPython.core.display.Markdown object>"
      ]
     },
     "metadata": {},
     "output_type": "display_data"
    },
    {
     "data": {
      "text/markdown": [
       "SSBlocks: 165.1875"
      ],
      "text/plain": [
       "<IPython.core.display.Markdown object>"
      ]
     },
     "metadata": {},
     "output_type": "display_data"
    },
    {
     "data": {
      "text/markdown": [
       "SSE: 78.0625"
      ],
      "text/plain": [
       "<IPython.core.display.Markdown object>"
      ]
     },
     "metadata": {},
     "output_type": "display_data"
    },
    {
     "data": {
      "text/markdown": [
       "MSTreat: 7.3958"
      ],
      "text/plain": [
       "<IPython.core.display.Markdown object>"
      ]
     },
     "metadata": {},
     "output_type": "display_data"
    },
    {
     "data": {
      "text/markdown": [
       "MSE: 8.6736"
      ],
      "text/plain": [
       "<IPython.core.display.Markdown object>"
      ]
     },
     "metadata": {},
     "output_type": "display_data"
    },
    {
     "data": {
      "text/markdown": [
       "F0: 0.8527"
      ],
      "text/plain": [
       "<IPython.core.display.Markdown object>"
      ]
     },
     "metadata": {},
     "output_type": "display_data"
    },
    {
     "data": {
      "text/markdown": [
       "FCrit: 3.863"
      ],
      "text/plain": [
       "<IPython.core.display.Markdown object>"
      ]
     },
     "metadata": {},
     "output_type": "display_data"
    },
    {
     "data": {
      "text/markdown": [
       "p-value: 0.500"
      ],
      "text/plain": [
       "<IPython.core.display.Markdown object>"
      ]
     },
     "metadata": {},
     "output_type": "display_data"
    }
   ],
   "source": [
    "data = np.array([[ 8, 4, 5, 6],\n",
    "                 [14, 5, 6, 9],\n",
    "                 [14, 6, 9, 2],\n",
    "                 [17, 9, 3, 6]])\n",
    "\n",
    "a = 4\n",
    "b = 4\n",
    "N = a*b\n",
    "\n",
    "# Calculate SST\n",
    "data_mean = np.mean(data)\n",
    "data_sum = np.sum(data)\n",
    "data_squared = np.square(data)\n",
    "data_squared_sum = np.sum(data_squared)\n",
    "\n",
    "SST = data_squared_sum - ((data_sum*data_sum)/N)\n",
    "display(md(\"SST: {:.4f}\".format(SST)))\n",
    "\n",
    "# Calculate SSTreatments\n",
    "treat_sum = np.sum(data, axis=1) # Array of sum of each row\n",
    "SSTreat = (1/b)*np.sum(np.square(treat_sum)) - ((data_sum*data_sum)/N)\n",
    "display(md(\"SSTreatments: {:.4f}\".format(SSTreat)))\n",
    "\n",
    "# Calculate SSBlocks\n",
    "block_sum = np.sum(data, axis=0) # Array of sum of each column\n",
    "SSB = (1/a)*np.sum(np.square(block_sum)) - ((data_sum*data_sum)/N)\n",
    "display(md(\"SSBlocks: {:.4f}\".format(SSB)))\n",
    "\n",
    "# Calculate SSE\n",
    "SSE = SST - SSTreat - SSB\n",
    "display(md(\"SSE: {:.4f}\".format(SSE)))\n",
    "\n",
    "MSTreat = SSTreat/(a-1)\n",
    "MSE = SSE/((a-1)*(b-1))\n",
    "F0 = MSTreat/MSE\n",
    "display(md(\"MSTreat: {:.4f}\".format(MSTreat)))\n",
    "display(md(\"MSE: {:.4f}\".format(MSE)))\n",
    "display(md(\"F0: {:.4f}\".format(F0)))\n",
    "f_crit = stats.f.ppf(1-0.05,a-1,(a-1)*(b-1))\n",
    "display(md(\"FCrit: {:.3f}\".format(f_crit)))\n",
    "p_val = 1-stats.f.cdf(F0,a-1,(a-1)*(b-1))\n",
    "display(md(\"p-value: {:.3f}\".format(p_val)))"
   ]
  },
  {
   "cell_type": "markdown",
   "metadata": {},
   "source": [
    "#### Answer\n",
    "\n",
    "Based on the value of $F_0 = 0.8527 < 3.863 = F_{crit}$ and the $p$-value of $0.500 > 0.05$, we can say that there is no significant difference in the mean grain size. Thus, there is no evidence that stirring rate affects grain size. "
   ]
  },
  {
   "cell_type": "markdown",
   "metadata": {},
   "source": [
    "### b )\n",
    "\n",
    "### Solution"
   ]
  },
  {
   "cell_type": "code",
   "execution_count": 109,
   "metadata": {},
   "outputs": [
    {
     "data": {
      "image/png": "[encoded data removed]",
      "text/plain": [
       "<Figure size 432x288 with 1 Axes>"
      ]
     },
     "metadata": {
      "needs_background": "light"
     },
     "output_type": "display_data"
    }
   ],
   "source": [
    "residuals_list = np.array([])\n",
    "residuals = np.zeros((a,b))\n",
    "for i in range(a):\n",
    "    for j in range(b):\n",
    "        e_ij = data[i,j] - np.mean(data[i,:]) - np.mean(data[:,j]) + data_mean\n",
    "        residuals_list = np.append(residuals_list, e_ij)\n",
    "        residuals[i,j] = e_ij\n",
    "\n",
    "\n",
    "stats.probplot(residuals_list, plot=plt)\n",
    "plt.title(\"Normal Probability Plot of Residuals\")\n",
    "plt.show()"
   ]
  },
  {
   "cell_type": "markdown",
   "metadata": {},
   "source": [
    "#### Answer\n",
    "\n",
    "The residuals here appear to have a slight snaking pattern along with a couple of outliers. Based on this, transformation of the data may help the residuals be slighlty more normally distributed."
   ]
  },
  {
   "cell_type": "markdown",
   "metadata": {},
   "source": [
    "### c )\n",
    "\n",
    "### Solution"
   ]
  },
  {
   "cell_type": "code",
   "execution_count": 110,
   "metadata": {},
   "outputs": [
    {
     "data": {
      "image/png": "[encoded data removed]",
      "text/plain": [
       "<Figure size 432x288 with 1 Axes>"
      ]
     },
     "metadata": {
      "needs_background": "light"
     },
     "output_type": "display_data"
    },
    {
     "data": {
      "image/png": "[encoded data removed]",
      "text/plain": [
       "<Figure size 432x288 with 1 Axes>"
      ]
     },
     "metadata": {
      "needs_background": "light"
     },
     "output_type": "display_data"
    }
   ],
   "source": [
    "for i in range(b):\n",
    "    plt.plot(np.full(b, fill_value=5*i+5), residuals[i,:], 'o')\n",
    "plt.ylabel(\"Residuals\")\n",
    "plt.xlabel(\"Stirring Rate\")\n",
    "plt.title(\"Residual Plot\")\n",
    "plt.xticks(np.arange(5*1,5*a+1,5))\n",
    "plt.show()\n",
    "\n",
    "for j in range(a):\n",
    "    plt.plot(np.full(a,fill_value=j+1), residuals[:,j], 'o')\n",
    "plt.ylabel(\"Residuals\")\n",
    "plt.xlabel(\"Furnace Number\")\n",
    "plt.title(\"Residual Plot\")\n",
    "plt.xticks(np.arange(1,b+1,1))\n",
    "plt.show()"
   ]
  },
  {
   "cell_type": "markdown",
   "metadata": {},
   "source": [
    "#### Answer\n",
    "Examining the residuals versus fits for the treatments and blocks, the constant variance assumption is quite well satisfied. The residuals have very close to the same variance for each treatment and block. \n"
   ]
  },
  {
   "cell_type": "markdown",
   "metadata": {},
   "source": [
    "### d )\n",
    "\n",
    "#### Answer\n",
    "\n",
    "The best stirring rate for lowest grain size is 5rpm since it has the lowest mean grain size. However, the stirring rate doesn't appear to have an effect on grain size so it probably won't matter.\n"
   ]
  },
  {
   "cell_type": "markdown",
   "metadata": {},
   "source": [
    "## 5.4\n",
    "\n",
    "## Solution"
   ]
  },
  {
   "cell_type": "markdown",
   "metadata": {},
   "source": [
    "### a ) \n",
    "\n",
    "The sum of squares for the model is given by the equation $SS_{Model} = SS_{A} + SS_{B} + SS_{AB} $. Thus, the F statistic for the model should indicate whether any of the factor A, B, or the interaction AB, are significant. Thus there are three sets of hypotheses being tested:\n",
    "\n",
    "$H_{0A}$: Factor A does not have an effect on the response, $H_{1A}$: Factor A does have an effect on the response \n",
    "\n",
    "$H_{0B}$: Factor B does not have an effect on the response, $H_{1B}$: Factor A does have an effect on the response \n",
    "\n",
    "$H_{0AB}$: Interaction term AB does not have an effect on the response, $H_{1AB}$: Interaction term AB does have an effect on the response \n",
    "\n"
   ]
  },
  {
   "cell_type": "markdown",
   "metadata": {},
   "source": [
    "### b )\n",
    "\n",
    "Assuming $\\alpha = 0.05$, then given that the probability of the F-value of the model, $F_0 = 3.28$ is $0.09$, we can conclude that the effects of the model are probably not significant. "
   ]
  },
  {
   "cell_type": "markdown",
   "metadata": {},
   "source": [
    "### c )\n",
    "\n",
    "We know that the degrees of freedom for A is $a-1$, DF for B is $b-1$, DF for interaction is $(a-1)(b-1)$, and DF for the total is $abn-1$. We have that $b-1=2$. We also have that $(a-1)(b-1)=2$. This tells us that $$(a-1)(2-1)=2 \\Rightarrow (a-1)(1)=2 \\Rightarrow a-1=2 \\Rightarrow a=3$$ \n",
    "Thus, there were 3 levels of factor A tested."
   ]
  },
  {
   "cell_type": "markdown",
   "metadata": {},
   "source": [
    "### d )\n",
    "\n",
    "We have that $a=3$, $b=2$, and $abn-1=11$. This yields $$(3)(2)n-1=11 \\Rightarrow 6n-1=11 \\Rightarrow 6n=12 \\Rightarrow n=2$$ \n",
    "Thus, 2 replicates were run."
   ]
  },
  {
   "cell_type": "markdown",
   "metadata": {},
   "source": [
    "## 5.13\n"
   ]
  },
  {
   "cell_type": "markdown",
   "metadata": {},
   "source": [
    "### a )\n",
    "\n",
    "### Solution\n"
   ]
  },
  {
   "cell_type": "code",
   "execution_count": 111,
   "metadata": {},
   "outputs": [
    {
     "data": {
      "text/markdown": [
       "SST: 262.958"
      ],
      "text/plain": [
       "<IPython.core.display.Markdown object>"
      ]
     },
     "metadata": {},
     "output_type": "display_data"
    },
    {
     "data": {
      "text/markdown": [
       "SSA: 160.333"
      ],
      "text/plain": [
       "<IPython.core.display.Markdown object>"
      ]
     },
     "metadata": {},
     "output_type": "display_data"
    },
    {
     "data": {
      "text/markdown": [
       "SSB: 12.458"
      ],
      "text/plain": [
       "<IPython.core.display.Markdown object>"
      ]
     },
     "metadata": {},
     "output_type": "display_data"
    },
    {
     "data": {
      "text/markdown": [
       "SSAB: 44.667"
      ],
      "text/plain": [
       "<IPython.core.display.Markdown object>"
      ]
     },
     "metadata": {},
     "output_type": "display_data"
    },
    {
     "data": {
      "text/markdown": [
       "SSE: 45.500"
      ],
      "text/plain": [
       "<IPython.core.display.Markdown object>"
      ]
     },
     "metadata": {},
     "output_type": "display_data"
    },
    {
     "data": {
      "text/markdown": [
       "MSA: 80.167"
      ],
      "text/plain": [
       "<IPython.core.display.Markdown object>"
      ]
     },
     "metadata": {},
     "output_type": "display_data"
    },
    {
     "data": {
      "text/markdown": [
       "MSB: 4.153"
      ],
      "text/plain": [
       "<IPython.core.display.Markdown object>"
      ]
     },
     "metadata": {},
     "output_type": "display_data"
    },
    {
     "data": {
      "text/markdown": [
       "MSAB: 7.444"
      ],
      "text/plain": [
       "<IPython.core.display.Markdown object>"
      ]
     },
     "metadata": {},
     "output_type": "display_data"
    },
    {
     "data": {
      "text/markdown": [
       "MSE: 3.792"
      ],
      "text/plain": [
       "<IPython.core.display.Markdown object>"
      ]
     },
     "metadata": {},
     "output_type": "display_data"
    },
    {
     "data": {
      "text/html": [
       "<div>\n",
       "<style scoped>\n",
       "    .dataframe tbody tr th:only-of-type {\n",
       "        vertical-align: middle;\n",
       "    }\n",
       "\n",
       "    .dataframe tbody tr th {\n",
       "        vertical-align: top;\n",
       "    }\n",
       "\n",
       "    .dataframe thead th {\n",
       "        text-align: right;\n",
       "    }\n",
       "</style>\n",
       "<table border=\"1\" class=\"dataframe\">\n",
       "  <thead>\n",
       "    <tr style=\"text-align: right;\">\n",
       "      <th></th>\n",
       "      <th>Sum of Squares</th>\n",
       "      <th>Mean Square</th>\n",
       "      <th>F0</th>\n",
       "      <th>F Threshold</th>\n",
       "      <th>p-value</th>\n",
       "    </tr>\n",
       "  </thead>\n",
       "  <tbody>\n",
       "    <tr>\n",
       "      <th>Operator</th>\n",
       "      <td>160.333333</td>\n",
       "      <td>80.166667</td>\n",
       "      <td>21.1429</td>\n",
       "      <td>3.88529</td>\n",
       "      <td>0.000116674</td>\n",
       "    </tr>\n",
       "    <tr>\n",
       "      <th>Machine</th>\n",
       "      <td>12.458333</td>\n",
       "      <td>4.152778</td>\n",
       "      <td>1.09524</td>\n",
       "      <td>3.49029</td>\n",
       "      <td>0.388753</td>\n",
       "    </tr>\n",
       "    <tr>\n",
       "      <th>Interaction</th>\n",
       "      <td>44.666667</td>\n",
       "      <td>7.444444</td>\n",
       "      <td>1.96337</td>\n",
       "      <td>2.99612</td>\n",
       "      <td>0.150681</td>\n",
       "    </tr>\n",
       "    <tr>\n",
       "      <th>Error</th>\n",
       "      <td>45.500000</td>\n",
       "      <td>3.791667</td>\n",
       "      <td></td>\n",
       "      <td></td>\n",
       "      <td></td>\n",
       "    </tr>\n",
       "  </tbody>\n",
       "</table>\n",
       "</div>"
      ],
      "text/plain": [
       "             Sum of Squares  Mean Square       F0 F Threshold      p-value\n",
       "Operator         160.333333    80.166667  21.1429     3.88529  0.000116674\n",
       "Machine           12.458333     4.152778  1.09524     3.49029     0.388753\n",
       "Interaction       44.666667     7.444444  1.96337     2.99612     0.150681\n",
       "Error             45.500000     3.791667                                  "
      ]
     },
     "metadata": {},
     "output_type": "display_data"
    }
   ],
   "source": [
    "op1_m1 = np.array([109,110])\n",
    "op1_m2 = np.array([110,115])\n",
    "op1_m3 = np.array([108,109])\n",
    "op1_m4 = np.array([110,108])\n",
    "\n",
    "op2_m1 = np.array([110,112])\n",
    "op2_m2 = np.array([110,111])\n",
    "op2_m3 = np.array([111,109])\n",
    "op2_m4 = np.array([114,112])\n",
    "\n",
    "op3_m1 = np.array([116,114])\n",
    "op3_m2 = np.array([112,115])\n",
    "op3_m3 = np.array([114,119])\n",
    "op3_m4 = np.array([120,117])\n",
    "\n",
    "a = 3\n",
    "b = 4\n",
    "n = 2\n",
    "alpha = 0.05\n",
    "data = np.array([[op1_m1, op1_m2, op1_m3, op1_m4],\n",
    "                 [op2_m1, op2_m2, op2_m3, op2_m4],\n",
    "                 [op3_m1, op3_m2, op3_m3, op3_m4]])\n",
    "\n",
    "row_avg = np.array([0.,0.,0.])\n",
    "for i in range(a):\n",
    "    row_avg[i] = (1/(b*n))*np.sum(data[i])\n",
    "\n",
    "col_avg = np.array([0.,0.,0.,0.])\n",
    "for j in range(b):\n",
    "    col_avg[j] = (1/(a*n))*np.sum(data[:,j])\n",
    "\n",
    "cell_avg = np.zeros((a,b))\n",
    "for i in range(a):\n",
    "    for j in range(b):\n",
    "        cell_avg[i,j] = (1/n)*np.sum(data[i,j])\n",
    "\n",
    "grand_avg = (1/(a*b*n))*np.sum(data)\n",
    "\n",
    "SST = np.sum(np.square(data - grand_avg))\n",
    "\n",
    "SSA = (b*n)*np.sum(np.square(row_avg - grand_avg))\n",
    "SSB = (a*n)*np.sum(np.square(col_avg - grand_avg))\n",
    "\n",
    "SSAB = 0\n",
    "for i in range(a):\n",
    "    for j in range(b):\n",
    "        SSAB += np.square(cell_avg[i,j] - row_avg[i] - col_avg[j] + grand_avg)\n",
    "SSAB = n*SSAB\n",
    "        \n",
    "SSE = 0\n",
    "for i in range(a):\n",
    "    for j in range(b):\n",
    "        for k in range(n):\n",
    "            SSE += np.square(data[i,j,k]-cell_avg[i,j])\n",
    "\n",
    "\n",
    "display(md(\"SST: {:.3f}\".format(SST)))\n",
    "display(md(\"SSA: {:.3f}\".format(SSA)))\n",
    "display(md(\"SSB: {:.3f}\".format(SSB)))\n",
    "display(md(\"SSAB: {:.3f}\".format(SSAB)))\n",
    "display(md(\"SSE: {:.3f}\".format(SSE)))\n",
    "sum_squares = np.array([SSA, SSB, SSAB, SSE])\n",
    "\n",
    "MSA = SSA/(a-1)\n",
    "MSB = SSB/(b-1)\n",
    "MSAB = SSAB/((a-1)*(b-1))\n",
    "MSE = SSE/(a*b*(n-1))\n",
    "display(md(\"MSA: {:.3f}\".format(MSA)))\n",
    "display(md(\"MSB: {:.3f}\".format(MSB)))\n",
    "display(md(\"MSAB: {:.3f}\".format(MSAB)))\n",
    "display(md(\"MSE: {:.3f}\".format(MSE)))\n",
    "mean_squares=np.array([MSA, MSB, MSAB, MSE])\n",
    "\n",
    "F0_A = MSA/MSE\n",
    "F0_B = MSB/MSE\n",
    "F0_AB = MSAB/MSE\n",
    "\n",
    "f_vals = np.array([F0_A, F0_B, F0_AB, 0])\n",
    "\n",
    "f_crit_a = stats.f.ppf(1-alpha,a-1,a*b*(n-1))\n",
    "f_crit_b = stats.f.ppf(1-alpha,b-1,a*b*(n-1))\n",
    "f_crit_ab = stats.f.ppf(1-alpha,(a-1)*(b-1),a*b*(n-1))\n",
    "f_crits = np.array([f_crit_a, f_crit_b, f_crit_ab,0])\n",
    "\n",
    "pval_A = 1 - stats.f.cdf(F0_A, a-1,a*b*(n-1))\n",
    "pval_B = 1 - stats.f.cdf(F0_B, b-1,a*b*(n-1))\n",
    "pval_AB = 1 - stats.f.cdf(F0_AB, (a-1)*(b-1),a*b*(n-1))\n",
    "pvals = np.array([pval_A, pval_B, pval_AB, 0])\n",
    "\n",
    "vals_data = np.array([sum_squares,mean_squares, f_vals, f_crits, pvals])\n",
    "vals_df = pd.DataFrame(data=vals_data.T, index=['Operator', 'Machine', 'Interaction', 'Error'], \n",
    "                       columns=['Sum of Squares', 'Mean Square', 'F0', 'F Threshold', 'p-value'])\n",
    "vals_df = vals_df.replace(to_replace=0,value='')\n",
    "display(vals_df)\n"
   ]
  },
  {
   "cell_type": "markdown",
   "metadata": {},
   "source": [
    "#### Answer\n",
    "\n",
    "Based on the value of $F_0=21.14$ for the Operator which is greater than the threshold value of $3.885$, we can conclude that the Operator is a significant factor in the breaking strength. However, the value of $F_0=1.10$ for the Machine is less than the threshold of $3.49$ so we can conclude that the Machine is not a significant factor in the breaking strength. Aditionally, the value of $F_0=1.96$ for the interaction term is less than the threshold of $2.996$ so we can conclude that the interaction term is not a siginificant factor in breaking strength."
   ]
  },
  {
   "cell_type": "markdown",
   "metadata": {},
   "source": [
    "### b )\n",
    "\n",
    "### Solution\n"
   ]
  },
  {
   "cell_type": "code",
   "execution_count": 112,
   "metadata": {},
   "outputs": [
    {
     "data": {
      "image/png": "[encoded data removed]",
      "text/plain": [
       "<Figure size 432x288 with 1 Axes>"
      ]
     },
     "metadata": {
      "needs_background": "light"
     },
     "output_type": "display_data"
    },
    {
     "data": {
      "image/png": "[encoded data removed]",
      "text/plain": [
       "<Figure size 576x432 with 1 Axes>"
      ]
     },
     "metadata": {
      "needs_background": "light"
     },
     "output_type": "display_data"
    }
   ],
   "source": [
    "residuals = np.zeros((a,b,n))\n",
    "\n",
    "\n",
    "for i in range(a):\n",
    "    for j in range(b):\n",
    "        for k in range(n):\n",
    "            residuals[i, j, k] = data[i,j,k] - cell_avg[i,j]\n",
    "\n",
    "stats.probplot(np.ndarray.flatten(residuals), plot=plt)\n",
    "plt.show()\n",
    "\n",
    "plt.figure(figsize=(8,6))\n",
    "fits = np.ndarray.flatten(cell_avg)\n",
    "for k in range(n):\n",
    "    plt.plot(fits, np.ndarray.flatten(residuals[:,:,k]), 'bo')\n",
    "\n",
    "plt.title(\"Residuals versus fits\")\n",
    "plt.ylabel(\"Residuals\")\n",
    "plt.xlabel(\"Predicted Breaking Strength\")\n",
    "plt.yticks(np.arange(-4,5,1))\n",
    "plt.show()\n"
   ]
  },
  {
   "cell_type": "markdown",
   "metadata": {},
   "source": [
    "#### Answer\n",
    "\n",
    "Examining the residual normal probability plot we see some interesting step patterns that don't seem to quite fit the line like we would prefer. Additionally checkign the residuals versus fits we see that the variances for the different groups ranges from (-0.5,0.5) for some residuals while for a couple other groups it is (-3,3). Given this difference in the residual variances, the ANOVA results may be made better by transforming the data. "
   ]
  },
  {
   "cell_type": "markdown",
   "metadata": {},
   "source": [
    "## 5.35"
   ]
  },
  {
   "cell_type": "markdown",
   "metadata": {},
   "source": [
    "### a )\n",
    "\n",
    "### Solution"
   ]
  },
  {
   "cell_type": "code",
   "execution_count": 113,
   "metadata": {},
   "outputs": [
    {
     "data": {
      "text/markdown": [
       "SST: 182.000"
      ],
      "text/plain": [
       "<IPython.core.display.Markdown object>"
      ]
     },
     "metadata": {},
     "output_type": "display_data"
    },
    {
     "data": {
      "text/markdown": [
       "SSA: 12.333"
      ],
      "text/plain": [
       "<IPython.core.display.Markdown object>"
      ]
     },
     "metadata": {},
     "output_type": "display_data"
    },
    {
     "data": {
      "text/markdown": [
       "SSB: 117.556"
      ],
      "text/plain": [
       "<IPython.core.display.Markdown object>"
      ]
     },
     "metadata": {},
     "output_type": "display_data"
    },
    {
     "data": {
      "text/markdown": [
       "SSAB: 10.111"
      ],
      "text/plain": [
       "<IPython.core.display.Markdown object>"
      ]
     },
     "metadata": {},
     "output_type": "display_data"
    },
    {
     "data": {
      "text/markdown": [
       "SSE: 42.000"
      ],
      "text/plain": [
       "<IPython.core.display.Markdown object>"
      ]
     },
     "metadata": {},
     "output_type": "display_data"
    },
    {
     "data": {
      "text/markdown": [
       "MSA: 6.167"
      ],
      "text/plain": [
       "<IPython.core.display.Markdown object>"
      ]
     },
     "metadata": {},
     "output_type": "display_data"
    },
    {
     "data": {
      "text/markdown": [
       "MSB: 117.556"
      ],
      "text/plain": [
       "<IPython.core.display.Markdown object>"
      ]
     },
     "metadata": {},
     "output_type": "display_data"
    },
    {
     "data": {
      "text/markdown": [
       "MSAB: 5.056"
      ],
      "text/plain": [
       "<IPython.core.display.Markdown object>"
      ]
     },
     "metadata": {},
     "output_type": "display_data"
    },
    {
     "data": {
      "text/markdown": [
       "MSE: 3.500"
      ],
      "text/plain": [
       "<IPython.core.display.Markdown object>"
      ]
     },
     "metadata": {},
     "output_type": "display_data"
    },
    {
     "data": {
      "text/html": [
       "<div>\n",
       "<style scoped>\n",
       "    .dataframe tbody tr th:only-of-type {\n",
       "        vertical-align: middle;\n",
       "    }\n",
       "\n",
       "    .dataframe tbody tr th {\n",
       "        vertical-align: top;\n",
       "    }\n",
       "\n",
       "    .dataframe thead th {\n",
       "        text-align: right;\n",
       "    }\n",
       "</style>\n",
       "<table border=\"1\" class=\"dataframe\">\n",
       "  <thead>\n",
       "    <tr style=\"text-align: right;\">\n",
       "      <th></th>\n",
       "      <th>Sum of Squares</th>\n",
       "      <th>Mean Square</th>\n",
       "      <th>F0</th>\n",
       "      <th>F Threshold</th>\n",
       "      <th>p-value</th>\n",
       "    </tr>\n",
       "  </thead>\n",
       "  <tbody>\n",
       "    <tr>\n",
       "      <th>Key Size</th>\n",
       "      <td>12.333333</td>\n",
       "      <td>6.166667</td>\n",
       "      <td>1.7619</td>\n",
       "      <td>3.88529</td>\n",
       "      <td>0.322147</td>\n",
       "    </tr>\n",
       "    <tr>\n",
       "      <th>Keyboard Feel</th>\n",
       "      <td>117.555556</td>\n",
       "      <td>117.555556</td>\n",
       "      <td>33.5873</td>\n",
       "      <td>4.74723</td>\n",
       "      <td>0.00345268</td>\n",
       "    </tr>\n",
       "    <tr>\n",
       "      <th>Interaction</th>\n",
       "      <td>10.111111</td>\n",
       "      <td>5.055556</td>\n",
       "      <td>1.44444</td>\n",
       "      <td>3.88529</td>\n",
       "      <td>0.387055</td>\n",
       "    </tr>\n",
       "    <tr>\n",
       "      <th>Error</th>\n",
       "      <td>42.000000</td>\n",
       "      <td>3.500000</td>\n",
       "      <td></td>\n",
       "      <td></td>\n",
       "      <td></td>\n",
       "    </tr>\n",
       "  </tbody>\n",
       "</table>\n",
       "</div>"
      ],
      "text/plain": [
       "               Sum of Squares  Mean Square       F0 F Threshold     p-value\n",
       "Key Size            12.333333     6.166667   1.7619     3.88529    0.322147\n",
       "Keyboard Feel      117.555556   117.555556  33.5873     4.74723  0.00345268\n",
       "Interaction         10.111111     5.055556  1.44444     3.88529    0.387055\n",
       "Error               42.000000     3.500000                                 "
      ]
     },
     "metadata": {},
     "output_type": "display_data"
    }
   ],
   "source": [
    "sm = np.array([31,33,35])\n",
    "sc = np.array([36,40,41])\n",
    "mm = np.array([36,35,33])\n",
    "mc = np.array([40,41,42])\n",
    "lm = np.array([37,34,33])\n",
    "lc = np.array([38,36,39])\n",
    "\n",
    "data = np.array([[sm, sc],\n",
    "                 [mm, mc],\n",
    "                 [lm, lc]])\n",
    "a = 3\n",
    "b = 2\n",
    "n = 3\n",
    "alpha = 0.05\n",
    "\n",
    "row_avg = np.array([0.,0.,0.])\n",
    "for i in range(a):\n",
    "    row_avg[i] = (1/(b*n))*np.sum(data[i])\n",
    "\n",
    "col_avg = np.array([0.,0.])\n",
    "for j in range(b):\n",
    "    col_avg[j] = (1/(a*n))*np.sum(data[:,j])\n",
    "\n",
    "cell_avg = np.zeros((a,b))\n",
    "for i in range(a):\n",
    "    for j in range(b):\n",
    "        cell_avg[i,j] = (1/n)*np.sum(data[i,j])\n",
    "\n",
    "grand_avg = (1/(a*b*n))*np.sum(data)\n",
    "\n",
    "SST = np.sum(np.square(data - grand_avg))\n",
    "\n",
    "SSA = (b*n)*np.sum(np.square(row_avg - grand_avg))\n",
    "SSB = (a*n)*np.sum(np.square(col_avg - grand_avg))\n",
    "\n",
    "SSAB = 0\n",
    "for i in range(a):\n",
    "    for j in range(b):\n",
    "        SSAB += np.square(cell_avg[i,j] - row_avg[i] - col_avg[j] + grand_avg)\n",
    "SSAB = n*SSAB\n",
    "        \n",
    "SSE = 0\n",
    "for i in range(a):\n",
    "    for j in range(b):\n",
    "        for k in range(n):\n",
    "            SSE += np.square(data[i,j,k]-cell_avg[i,j])\n",
    "\n",
    "\n",
    "display(md(\"SST: {:.3f}\".format(SST)))\n",
    "display(md(\"SSA: {:.3f}\".format(SSA)))\n",
    "display(md(\"SSB: {:.3f}\".format(SSB)))\n",
    "display(md(\"SSAB: {:.3f}\".format(SSAB)))\n",
    "display(md(\"SSE: {:.3f}\".format(SSE)))\n",
    "sum_squares = np.array([SSA, SSB, SSAB, SSE])\n",
    "\n",
    "MSA = SSA/(a-1)\n",
    "MSB = SSB/(b-1)\n",
    "MSAB = SSAB/((a-1)*(b-1))\n",
    "MSE = SSE/(a*b*(n-1))\n",
    "display(md(\"MSA: {:.3f}\".format(MSA)))\n",
    "display(md(\"MSB: {:.3f}\".format(MSB)))\n",
    "display(md(\"MSAB: {:.3f}\".format(MSAB)))\n",
    "display(md(\"MSE: {:.3f}\".format(MSE)))\n",
    "mean_squares=np.array([MSA, MSB, MSAB, MSE])\n",
    "\n",
    "F0_A = MSA/MSE\n",
    "F0_B = MSB/MSE\n",
    "F0_AB = MSAB/MSE\n",
    "\n",
    "f_vals = np.array([F0_A, F0_B, F0_AB, 0])\n",
    "\n",
    "f_crit_a = stats.f.ppf(1-alpha,a-1,a*b*(n-1))\n",
    "f_crit_b = stats.f.ppf(1-alpha,b-1,a*b*(n-1))\n",
    "f_crit_ab = stats.f.ppf(1-alpha,(a-1)*(b-1),a*b*(n-1))\n",
    "f_crits = np.array([f_crit_a, f_crit_b, f_crit_ab,0])\n",
    "\n",
    "pval_A = 1 - stats.f.cdf(F0_A, MSA,MSE)\n",
    "pval_B = 1 - stats.f.cdf(F0_B, MSB,MSE)\n",
    "pval_AB = 1 - stats.f.cdf(F0_AB, MSAB, MSE)\n",
    "pvals = np.array([pval_A, pval_B, pval_AB, 0])\n",
    "\n",
    "vals_data = np.array([sum_squares,mean_squares, f_vals, f_crits, pvals])\n",
    "vals_df = pd.DataFrame(data=vals_data.T, index=['Key Size', 'Keyboard Feel', 'Interaction', 'Error'], \n",
    "                       columns=['Sum of Squares', 'Mean Square', 'F0', 'F Threshold', 'p-value'])\n",
    "vals_df = vals_df.replace(to_replace=0,value='')\n",
    "display(vals_df)\n",
    "\n"
   ]
  },
  {
   "cell_type": "markdown",
   "metadata": {},
   "source": [
    "#### Answer\n",
    "\n",
    "Examining the results, we see that the $F_0$ for key size is 1.762 which is not greater than the threshold value of 3.885. Thus, Key size does not have an effect on typing speed. However, the $F_0$ for Keyboard feel is 33.59 which is significantly greater than the threshold value of 4.75. Thus we can conclude that the Keyboard feel is a significant factor in typing speed. Lastly, the interaction $F_0$ is 1.44 which is less than the threshold value of 3.885 so we can conclude that the interaction effect is not a significant factor."
   ]
  },
  {
   "cell_type": "markdown",
   "metadata": {},
   "source": [
    "### b )\n",
    "\n",
    "### Solution"
   ]
  },
  {
   "cell_type": "code",
   "execution_count": 114,
   "metadata": {},
   "outputs": [
    {
     "data": {
      "image/png": "[encoded data removed]",
      "text/plain": [
       "<Figure size 432x288 with 1 Axes>"
      ]
     },
     "metadata": {
      "needs_background": "light"
     },
     "output_type": "display_data"
    },
    {
     "data": {
      "image/png": "[encoded data removed]",
      "text/plain": [
       "<Figure size 576x432 with 1 Axes>"
      ]
     },
     "metadata": {
      "needs_background": "light"
     },
     "output_type": "display_data"
    }
   ],
   "source": [
    "residuals = np.zeros((a,b,n))\n",
    "\n",
    "\n",
    "for i in range(a):\n",
    "    for j in range(b):\n",
    "        for k in range(n):\n",
    "            residuals[i, j, k] = data[i,j,k] - cell_avg[i,j]\n",
    "\n",
    "stats.probplot(np.ndarray.flatten(residuals), plot=plt)\n",
    "plt.show()\n",
    "\n",
    "plt.figure(figsize=(8,6))\n",
    "fits = np.ndarray.flatten(cell_avg)\n",
    "for k in range(n):\n",
    "    plt.plot(fits, np.ndarray.flatten(residuals[:,:,k]), 'bo')\n",
    "\n",
    "plt.title(\"Residuals versus fits\")\n",
    "plt.ylabel(\"Residuals\")\n",
    "plt.xlabel(\"Typing Speed\")\n",
    "plt.yticks(np.arange(-4,5,1))\n",
    "plt.show()"
   ]
  },
  {
   "cell_type": "markdown",
   "metadata": {},
   "source": [
    "#### Answer\n",
    "\n",
    "Examining the residual normal probability plot, we see that the residuals are mostly normally distributed although there appear to be a couple of outliers. Additionally, examining the residuals versus fits, all of the residuals have close variances although there are some differences. All of the variances for the residuals fall into the window of (-3,3). Since the ANOVA assumptions are satisfied, the model is adequate."
   ]
  },
  {
   "cell_type": "markdown",
   "metadata": {},
   "source": [
    "### c )\n",
    "\n",
    "### Solution"
   ]
  },
  {
   "cell_type": "markdown",
   "metadata": {},
   "source": [
    "#### Answer\n",
    "\n",
    "Based on the ANOVA assumptions being satisfied and keyboard feel being a significant factor, we can conclude that keyboard feel is the only important factor in typing speed. Since key size and the interaction effect were not statistically significant, we can conclude that these factors are not important. "
   ]
  },
  {
   "cell_type": "code",
   "execution_count": null,
   "metadata": {},
   "outputs": [],
   "source": []
  }
 ],
 "metadata": {
  "kernelspec": {
   "display_name": "Python 3",
   "language": "python",
   "name": "python3"
  },
  "language_info": {
   "codemirror_mode": {
    "name": "ipython",
    "version": 3
   },
   "file_extension": ".py",
   "mimetype": "text/x-python",
   "name": "python",
   "nbconvert_exporter": "python",
   "pygments_lexer": "ipython3",
   "version": "3.7.3"
  }
 },
 "nbformat": 4,
 "nbformat_minor": 2
}
