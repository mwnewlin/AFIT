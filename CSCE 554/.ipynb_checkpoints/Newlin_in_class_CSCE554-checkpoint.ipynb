{
 "cells": [
  {
   "cell_type": "markdown",
   "metadata": {},
   "source": [
    "# CSCE 554 In Class\n",
    "# Marvin Newlin\n"
   ]
  },
  {
   "cell_type": "code",
   "execution_count": 2,
   "metadata": {},
   "outputs": [],
   "source": [
    "import numpy as np\n",
    "import pandas as pd\n",
    "import scipy\n",
    "from scipy import stats\n",
    "import matplotlib.pyplot as plt\n",
    "import pandas\n",
    "import random\n",
    "\n",
    "import matplotlib.pyplot as plt\n",
    "\n",
    "#make plots inline using jupyter magic\n",
    "%matplotlib inline\n",
    "from IPython.display import Markdown as md  #enable markdown within code cell\n",
    "from IPython.display import display, Math, Latex\n",
    "import matplotlib as mpl\n",
    "from statsmodels.graphics.gofplots import qqplot"
   ]
  },
  {
   "cell_type": "code",
   "execution_count": 3,
   "metadata": {},
   "outputs": [
    {
     "name": "stdout",
     "output_type": "stream",
     "text": [
      "SST: 196.975\n",
      "SSTreat 16.674999999999997\n",
      "SSE: 180.3\n",
      "MSTreat 5.558333333333333\n",
      "MSE 5.008333333333334\n",
      "F0 1.10981697171381\n",
      "p-val 0.3578235508277885\n"
     ]
    }
   ],
   "source": [
    "subcompact = np.array([3, 5, 3, 7, 6, 5, 3, 2, 1, 6])\n",
    "compact = np.array([1, 3, 4, 7, 5, 6, 3, 2, 1, 7])\n",
    "midsize = np.array([4, 1, 3, 5, 7, 1, 2, 4, 2, 7])\n",
    "fullsize = np.array([3, 5, 7, 5, 10, 3, 4, 7, 2, 7])\n",
    "\n",
    "subcompact_mean = subcompact.mean()\n",
    "compact_mean = compact.mean()\n",
    "midsize_mean = midsize.mean()\n",
    "fullsize_mean = fullsize.mean()\n",
    "\n",
    "n = 10\n",
    "a = 4\n",
    "N = a*n\n",
    "\n",
    "mean_total = (subcompact_mean + compact_mean + \n",
    "              midsize_mean + fullsize_mean)/4\n",
    "\n",
    "all_vals = np.array([])\n",
    "all_vals = np.append(all_vals, subcompact)\n",
    "all_vals = np.append(all_vals, compact)\n",
    "all_vals = np.append(all_vals, midsize)\n",
    "all_vals = np.append(all_vals, fullsize)\n",
    "\n",
    "\n",
    "all_vals_diff = all_vals - all_vals.mean()\n",
    "\n",
    "SST = np.dot(all_vals_diff.T,all_vals_diff)\n",
    "print(\"SST:\",SST)\n",
    "\n",
    "\n",
    "SSTreat = n * ((subcompact_mean - mean_total)**2 + (midsize_mean - mean_total)**2 + \n",
    "                    (compact_mean - mean_total)**2 + (fullsize_mean - mean_total)**2 )\n",
    "\n",
    "\n",
    "print(\"SSTreat\",SSTreat)\n",
    "\n",
    "SSE = SST - SSTreat\n",
    "\n",
    "print(\"SSE:\",SSE)\n",
    "\n",
    "MSE = SSE/(N-a)\n",
    "\n",
    "MSTreat = SSTreat/(a-1)\n",
    "\n",
    "print(\"MSTreat\",MSTreat)\n",
    "print(\"MSE\",MSE)\n",
    "\n",
    "F0 = MSTreat/MSE\n",
    "\n",
    "print(\"F0\",F0)\n",
    "\n",
    "p_val = 1 - stats.f.cdf(F0,a-1,N-a)\n",
    "\n",
    "print(\"p-val\",p_val)"
   ]
  },
  {
   "cell_type": "code",
   "execution_count": 4,
   "metadata": {},
   "outputs": [
    {
     "data": {
      "image/png": "[encoded data removed]",
      "text/plain": [
       "<Figure size 432x288 with 1 Axes>"
      ]
     },
     "metadata": {
      "needs_background": "light"
     },
     "output_type": "display_data"
    }
   ],
   "source": [
    "r1 = subcompact - subcompact_mean\n",
    "r2 = compact - compact_mean\n",
    "r3 = midsize - midsize_mean\n",
    "r4 = fullsize - fullsize_mean\n",
    "\n",
    "qqplot(all_vals_diff, line='s')\n",
    "plt.show()"
   ]
  },
  {
   "cell_type": "raw",
   "metadata": {},
   "source": [
    "(a) Do chemists differ significantly? Use 𝛼 = 0.05.\n",
    "(b) Analyze the residuals from this experiment.\n",
    "(c) If chemist 2 is a new employee, construct a meaningful\n",
    "set of orthogonal contrasts that might have been useful\n",
    "at the start of the experiment."
   ]
  },
  {
   "cell_type": "code",
   "execution_count": 5,
   "metadata": {},
   "outputs": [
    {
     "name": "stdout",
     "output_type": "stream",
     "text": [
      "SST 1.9027666666666565\n",
      "SSTreat 1.0445666666666225\n",
      "SSE 0.858200000000034\n",
      "MSTreat 0.34818888888887417\n",
      "MSE 0.10727500000000426\n",
      "F0 3.2457598591364283\n",
      "P-val 0.6819915338474609\n"
     ]
    }
   ],
   "source": [
    "vals = np.array([84.99, 84.04, 84.38,\n",
    "                 85.15, 85.13, 84.88,\n",
    "                 84.72, 84.48, 85.16,\n",
    "                 84.20, 84.10, 84.55])\n",
    "c1 = np.array([84.99, 84.04, 84.38])\n",
    "c2 = np.array([85.15, 85.13, 84.88])\n",
    "c3 = np.array([84.72, 84.48, 85.16])\n",
    "c4 = np.array([84.20, 84.10, 84.55])\n",
    "\n",
    "\n",
    "a = 4\n",
    "n = 3\n",
    "N = a*n\n",
    "\n",
    "total_mean = vals.mean()\n",
    "\n",
    "total_diff = vals - total_mean\n",
    "\n",
    "SST = np.dot(total_diff.T,total_diff)\n",
    "\n",
    "SSTreat = n * ((total_mean-c1.mean())**2 + (total_mean-c2.mean())**2\n",
    "                + (total_mean-c3.mean())**2 + (total_mean-c4.mean())**2)\n",
    "SSE = SST- SSTreat\n",
    "MSTreat = SSTreat/(a-1)\n",
    "MSE = SSE/(N-a)\n",
    "\n",
    "F0 = MSTreat/MSE\n",
    "\n",
    "p_val = 1 - stats.f.cdf(F0,MSTreat,MSE)\n",
    "\n",
    "print(\"SST\",SST)\n",
    "print(\"SSTreat\",SSTreat)\n",
    "print(\"SSE\",SSE)\n",
    "print(\"MSTreat\",MSTreat)\n",
    "print(\"MSE\",MSE)\n",
    "print(\"F0\",F0)\n",
    "print(\"P-val\",p_val)\n"
   ]
  },
  {
   "cell_type": "code",
   "execution_count": 6,
   "metadata": {},
   "outputs": [
    {
     "data": {
      "image/png": "[encoded data removed]",
      "text/plain": [
       "<Figure size 432x288 with 1 Axes>"
      ]
     },
     "metadata": {
      "needs_background": "light"
     },
     "output_type": "display_data"
    }
   ],
   "source": [
    "stats.probplot(total_diff, plot=plt)\n",
    "plt.show()"
   ]
  },
  {
   "cell_type": "markdown",
   "metadata": {},
   "source": [
    "The practical interpretation of this interval is that the 95% of the mean thicknesses of the wafers baked at the higher temperatures will fall be somewhere in the above interval less than the wafers baked at the lower temperature. We know that it is less because the t-score was negative."
   ]
  },
  {
   "cell_type": "code",
   "execution_count": 24,
   "metadata": {},
   "outputs": [
    {
     "name": "stdout",
     "output_type": "stream",
     "text": [
      "0.5008101458189688\n"
     ]
    }
   ],
   "source": [
    "mu = 10\n",
    "rand_1 = np.random.randint(4,9)\n",
    "model_1 = np.random.randn(rand_1,1) + mu\n",
    "n_1 = model_1.size\n",
    "model_1_mean = model_1.mean()\n",
    "\n",
    "rand_2 = np.random.randint(4,9)\n",
    "model_2 = np.random.randn(rand_2,1) + mu\n",
    "n_2 = model_2.size\n",
    "model_2_mean = model_2.mean()\n",
    "\n",
    "rand_3 = np.random.randint(4,9)\n",
    "model_3 = np.random.randn(rand_3,1) + mu\n",
    "n_3 = model_3.size\n",
    "model_3_mean = model_3.mean()\n",
    "\n",
    "rand_4 = np.random.randint(4,9)\n",
    "model_4 = np.random.randn(rand_4,1) + mu\n",
    "n_4 = model_4.size\n",
    "model_4_mean = model_4.mean()\n",
    "\n",
    "rand_5 = np.random.randint(4,9)\n",
    "model_5 = np.random.randn(rand_5,1) + mu\n",
    "n_5 = model_5.size\n",
    "model_5_mean = model_5.mean()\n",
    "\n",
    "model = np.array([])\n",
    "model = np.append(model,model_1)\n",
    "model = np.append(model,model_2)\n",
    "model = np.append(model,model_3)\n",
    "model = np.append(model,model_4)\n",
    "model = np.append(model,model_5)\n",
    "\n",
    "model_mean = model.mean()\n",
    "\n",
    "model_diff = model - model_mean\n",
    "\n",
    "model_mean_diff = np.array([model_1_mean, model_2_mean, model_3_mean, model_4_mean, model_5_mean])\n",
    "model_mean_diff = model_mean_diff - model_mean\n",
    "\n",
    "SST = np.dot(model_diff.T,model_diff)\n",
    "SSTreat = model_mean_diff[0]*n_1 + model_mean_diff[1]+n_2 + model_mean_diff[2]*n_3 + model_mean_diff[3]*n_4 + model_mean_diff[4]*n_5\n",
    "SSE = SST - SSTreat\n",
    "a = 5\n",
    "N = n_1 + n_2 + n_3 + n_4 + n_5\n",
    "MSTreat = SSTreat/(a-1)\n",
    "MSE = SSE/(N-a)\n",
    "F_0 = MSTreat/MSE\n",
    "p_val = 1-stats.f.cdf(F_0,MSTreat,MSE)\n",
    "\n",
    "print(p_val)"
   ]
  },
  {
   "cell_type": "code",
   "execution_count": 54,
   "metadata": {},
   "outputs": [
    {
     "ename": "ValueError",
     "evalue": "Expected 2D array, got 1D array instead:\narray=[ 2  4  6  8 10].\nReshape your data either using array.reshape(-1, 1) if your data has a single feature or array.reshape(1, -1) if it contains a single sample.",
     "output_type": "error",
     "traceback": [
      "\u001b[1;31m---------------------------------------------------------------------------\u001b[0m",
      "\u001b[1;31mValueError\u001b[0m                                Traceback (most recent call last)",
      "\u001b[1;32m<ipython-input-54-51dd3d5cc5a5>\u001b[0m in \u001b[0;36m<module>\u001b[1;34m\u001b[0m\n\u001b[0;32m      8\u001b[0m     \u001b[0mnp\u001b[0m\u001b[1;33m.\u001b[0m\u001b[0mappend\u001b[0m\u001b[1;33m(\u001b[0m\u001b[0my\u001b[0m\u001b[1;33m,\u001b[0m\u001b[0my_i\u001b[0m\u001b[1;33m)\u001b[0m\u001b[1;33m\u001b[0m\u001b[1;33m\u001b[0m\u001b[0m\n\u001b[0;32m      9\u001b[0m \u001b[0mlin_reg\u001b[0m \u001b[1;33m=\u001b[0m \u001b[0mLinearRegression\u001b[0m\u001b[1;33m(\u001b[0m\u001b[1;33m)\u001b[0m\u001b[1;33m\u001b[0m\u001b[1;33m\u001b[0m\u001b[0m\n\u001b[1;32m---> 10\u001b[1;33m \u001b[0mlin_reg\u001b[0m\u001b[1;33m.\u001b[0m\u001b[0mfit\u001b[0m\u001b[1;33m(\u001b[0m\u001b[0mx\u001b[0m\u001b[1;33m,\u001b[0m\u001b[0my\u001b[0m\u001b[1;33m)\u001b[0m\u001b[1;33m\u001b[0m\u001b[1;33m\u001b[0m\u001b[0m\n\u001b[0m\u001b[0;32m     11\u001b[0m \u001b[1;33m\u001b[0m\u001b[0m\n\u001b[0;32m     12\u001b[0m \u001b[0mprint\u001b[0m\u001b[1;33m(\u001b[0m\u001b[0mX\u001b[0m\u001b[1;33m)\u001b[0m\u001b[1;33m\u001b[0m\u001b[1;33m\u001b[0m\u001b[0m\n",
      "\u001b[1;32m~\\Anaconda3\\lib\\site-packages\\sklearn\\linear_model\\base.py\u001b[0m in \u001b[0;36mfit\u001b[1;34m(self, X, y, sample_weight)\u001b[0m\n\u001b[0;32m    456\u001b[0m         \u001b[0mn_jobs_\u001b[0m \u001b[1;33m=\u001b[0m \u001b[0mself\u001b[0m\u001b[1;33m.\u001b[0m\u001b[0mn_jobs\u001b[0m\u001b[1;33m\u001b[0m\u001b[1;33m\u001b[0m\u001b[0m\n\u001b[0;32m    457\u001b[0m         X, y = check_X_y(X, y, accept_sparse=['csr', 'csc', 'coo'],\n\u001b[1;32m--> 458\u001b[1;33m                          y_numeric=True, multi_output=True)\n\u001b[0m\u001b[0;32m    459\u001b[0m \u001b[1;33m\u001b[0m\u001b[0m\n\u001b[0;32m    460\u001b[0m         \u001b[1;32mif\u001b[0m \u001b[0msample_weight\u001b[0m \u001b[1;32mis\u001b[0m \u001b[1;32mnot\u001b[0m \u001b[1;32mNone\u001b[0m \u001b[1;32mand\u001b[0m \u001b[0mnp\u001b[0m\u001b[1;33m.\u001b[0m\u001b[0matleast_1d\u001b[0m\u001b[1;33m(\u001b[0m\u001b[0msample_weight\u001b[0m\u001b[1;33m)\u001b[0m\u001b[1;33m.\u001b[0m\u001b[0mndim\u001b[0m \u001b[1;33m>\u001b[0m \u001b[1;36m1\u001b[0m\u001b[1;33m:\u001b[0m\u001b[1;33m\u001b[0m\u001b[1;33m\u001b[0m\u001b[0m\n",
      "\u001b[1;32m~\\Anaconda3\\lib\\site-packages\\sklearn\\utils\\validation.py\u001b[0m in \u001b[0;36mcheck_X_y\u001b[1;34m(X, y, accept_sparse, accept_large_sparse, dtype, order, copy, force_all_finite, ensure_2d, allow_nd, multi_output, ensure_min_samples, ensure_min_features, y_numeric, warn_on_dtype, estimator)\u001b[0m\n\u001b[0;32m    754\u001b[0m                     \u001b[0mensure_min_features\u001b[0m\u001b[1;33m=\u001b[0m\u001b[0mensure_min_features\u001b[0m\u001b[1;33m,\u001b[0m\u001b[1;33m\u001b[0m\u001b[1;33m\u001b[0m\u001b[0m\n\u001b[0;32m    755\u001b[0m                     \u001b[0mwarn_on_dtype\u001b[0m\u001b[1;33m=\u001b[0m\u001b[0mwarn_on_dtype\u001b[0m\u001b[1;33m,\u001b[0m\u001b[1;33m\u001b[0m\u001b[1;33m\u001b[0m\u001b[0m\n\u001b[1;32m--> 756\u001b[1;33m                     estimator=estimator)\n\u001b[0m\u001b[0;32m    757\u001b[0m     \u001b[1;32mif\u001b[0m \u001b[0mmulti_output\u001b[0m\u001b[1;33m:\u001b[0m\u001b[1;33m\u001b[0m\u001b[1;33m\u001b[0m\u001b[0m\n\u001b[0;32m    758\u001b[0m         y = check_array(y, 'csr', force_all_finite=True, ensure_2d=False,\n",
      "\u001b[1;32m~\\Anaconda3\\lib\\site-packages\\sklearn\\utils\\validation.py\u001b[0m in \u001b[0;36mcheck_array\u001b[1;34m(array, accept_sparse, accept_large_sparse, dtype, order, copy, force_all_finite, ensure_2d, allow_nd, ensure_min_samples, ensure_min_features, warn_on_dtype, estimator)\u001b[0m\n\u001b[0;32m    550\u001b[0m                     \u001b[1;34m\"Reshape your data either using array.reshape(-1, 1) if \"\u001b[0m\u001b[1;33m\u001b[0m\u001b[1;33m\u001b[0m\u001b[0m\n\u001b[0;32m    551\u001b[0m                     \u001b[1;34m\"your data has a single feature or array.reshape(1, -1) \"\u001b[0m\u001b[1;33m\u001b[0m\u001b[1;33m\u001b[0m\u001b[0m\n\u001b[1;32m--> 552\u001b[1;33m                     \"if it contains a single sample.\".format(array))\n\u001b[0m\u001b[0;32m    553\u001b[0m \u001b[1;33m\u001b[0m\u001b[0m\n\u001b[0;32m    554\u001b[0m         \u001b[1;31m# in the future np.flexible dtypes will be handled like object dtypes\u001b[0m\u001b[1;33m\u001b[0m\u001b[1;33m\u001b[0m\u001b[1;33m\u001b[0m\u001b[0m\n",
      "\u001b[1;31mValueError\u001b[0m: Expected 2D array, got 1D array instead:\narray=[ 2  4  6  8 10].\nReshape your data either using array.reshape(-1, 1) if your data has a single feature or array.reshape(1, -1) if it contains a single sample."
     ]
    }
   ],
   "source": [
    "from sklearn.linear_model import LinearRegression\n",
    "\n",
    "X = np.array([[2,4,6,8,10],\n",
    "              [1,1,1,1,1]]).T\n",
    "y = np.array([])\n",
    "for i in range(6):\n",
    "    y_i = np.random.randint(2,11)+np.random.rand()\n",
    "    np.append(y,y_i)\n",
    "lin_reg = LinearRegression()\n",
    "lin_reg.fit(x,y)\n",
    "\n",
    "print(X)"
   ]
  },
  {
   "cell_type": "code",
   "execution_count": null,
   "metadata": {},
   "outputs": [],
   "source": []
  },
  {
   "cell_type": "code",
   "execution_count": null,
   "metadata": {},
   "outputs": [],
   "source": []
  }
 ],
 "metadata": {
  "kernelspec": {
   "display_name": "Python 3",
   "language": "python",
   "name": "python3"
  },
  "language_info": {
   "codemirror_mode": {
    "name": "ipython",
    "version": 3
   },
   "file_extension": ".py",
   "mimetype": "text/x-python",
   "name": "python",
   "nbconvert_exporter": "python",
   "pygments_lexer": "ipython3",
   "version": "3.7.2"
  }
 },
 "nbformat": 4,
 "nbformat_minor": 2
}
