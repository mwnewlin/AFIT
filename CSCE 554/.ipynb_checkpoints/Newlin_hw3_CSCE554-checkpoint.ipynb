{
 "cells": [
  {
   "cell_type": "markdown",
   "metadata": {},
   "source": [
    "# CSCE 554 HW 3\n",
    "# Marvin Newlin\n",
    "# 23 Jul 19"
   ]
  },
  {
   "cell_type": "code",
   "execution_count": 1,
   "metadata": {},
   "outputs": [],
   "source": [
    "import numpy as np\n",
    "import pandas as pd\n",
    "import scipy\n",
    "from scipy import stats\n",
    "import matplotlib.pyplot as plt\n",
    "import pandas\n",
    "import random\n",
    "\n",
    "import matplotlib.pyplot as plt\n",
    "\n",
    "#make plots inline using jupyter magic\n",
    "%matplotlib inline\n",
    "from IPython.display import Markdown as md  #enable markdown within code cell\n",
    "from IPython.display import display, Math, Latex\n",
    "import matplotlib as mpl\n",
    "from statsmodels.graphics.gofplots import qqplot"
   ]
  },
  {
   "cell_type": "markdown",
   "metadata": {},
   "source": [
    "## 3.19\n",
    "A regional opera company has tried three approaches to solicit donations from 24 potential sponsors. The 24 potential sponsors were randomly divided into three groups of eight, and one approach was used for each group. The dollar amounts of the resulting contributions are shown in the following table.\n",
    "\n",
    "### (a) Do the data indicate that there is a difference in results obtained from the three different approaches? Use α = 0.05.\n",
    "\n",
    "### (b) Analyze the residuals from this experiment and comment on model adequacy."
   ]
  },
  {
   "cell_type": "markdown",
   "metadata": {},
   "source": [
    "### Solution (a)"
   ]
  },
  {
   "cell_type": "code",
   "execution_count": 73,
   "metadata": {},
   "outputs": [
    {
     "data": {
      "text/markdown": [
       "SST: 2883333.333"
      ],
      "text/plain": [
       "<IPython.core.display.Markdown object>"
      ]
     },
     "metadata": {},
     "output_type": "display_data"
    },
    {
     "data": {
      "text/markdown": [
       "SS_Treatments: 1362708.333"
      ],
      "text/plain": [
       "<IPython.core.display.Markdown object>"
      ]
     },
     "metadata": {},
     "output_type": "display_data"
    },
    {
     "data": {
      "text/markdown": [
       "SSE: 1520625.000"
      ],
      "text/plain": [
       "<IPython.core.display.Markdown object>"
      ]
     },
     "metadata": {},
     "output_type": "display_data"
    },
    {
     "data": {
      "text/markdown": [
       "MS_Treatments: 681354.167"
      ],
      "text/plain": [
       "<IPython.core.display.Markdown object>"
      ]
     },
     "metadata": {},
     "output_type": "display_data"
    },
    {
     "data": {
      "text/markdown": [
       "MSE: 72410.714"
      ],
      "text/plain": [
       "<IPython.core.display.Markdown object>"
      ]
     },
     "metadata": {},
     "output_type": "display_data"
    },
    {
     "data": {
      "text/markdown": [
       "F_0: 9.410"
      ],
      "text/plain": [
       "<IPython.core.display.Markdown object>"
      ]
     },
     "metadata": {},
     "output_type": "display_data"
    },
    {
     "data": {
      "text/markdown": [
       "Critical F-Value: 3.467"
      ],
      "text/plain": [
       "<IPython.core.display.Markdown object>"
      ]
     },
     "metadata": {},
     "output_type": "display_data"
    },
    {
     "data": {
      "text/markdown": [
       "p-value: 0.001"
      ],
      "text/plain": [
       "<IPython.core.display.Markdown object>"
      ]
     },
     "metadata": {},
     "output_type": "display_data"
    }
   ],
   "source": [
    "# Create Arrays for each approach\n",
    "app_1 = np.array([1000, 1500, 1200, 1800, 1600, 1100, 1000, 1250])\n",
    "app_2 = np.array([1500, 1800, 2000, 1200, 2000, 1700, 1800, 1900])\n",
    "app_3 = np.array([900, 1000, 1200, 1500, 1200, 1550, 1000, 1100])\n",
    "\n",
    "#Convert all values into one array\n",
    "app_all = np.array([])\n",
    "app_all = np.append(app_all,app_1)\n",
    "app_all = np.append(app_all,app_2)\n",
    "app_all = np.append(app_all,app_3)\n",
    "\n",
    "alpha = 0.05\n",
    "n = app_1.size\n",
    "a = 3\n",
    "N = a*n\n",
    "\n",
    "# Find total mean and mean of each approach\n",
    "app_all_mean = app_all.mean()\n",
    "app_1_mean = app_1.mean()\n",
    "app_2_mean = app_2.mean()\n",
    "app_3_mean = app_3.mean()\n",
    "\n",
    "# ANOVA\n",
    "\n",
    "# Residuals of all values minus total mean\n",
    "app_all_diff = app_all - app_all_mean\n",
    "\n",
    "# Difference between each approach mean and total mean\n",
    "app_mean_list = np.array([app_1_mean, app_2_mean, app_3_mean])\n",
    "app_mean_diff = app_mean_list - app_all_mean\n",
    "\n",
    "\n",
    "SST = np.dot(app_all_diff.T,app_all_diff)\n",
    "SSTreat = n*np.dot(app_mean_diff.T,app_mean_diff)\n",
    "SSE = SST - SSTreat\n",
    "\n",
    "MSTreat = SSTreat/(a-1)\n",
    "MSE = SSE/(N-a)\n",
    "F_0 = MSTreat/MSE\n",
    "\n",
    "# Calculate P_val from F_0 score\n",
    "p_val = 1 - stats.f.cdf(F_0,a-1,N-a)\n",
    "\n",
    "# Calculate Critical F-Value (two-tailed)\n",
    "f_crit = stats.f.ppf(1-alpha,a-1,N-a)\n",
    "\n",
    "display(md(\"SST: {:.3f}\".format(SST)))\n",
    "display(md(\"SS_Treatments: {:.3f}\".format(SSTreat)))\n",
    "display(md(\"SSE: {:.3f}\".format(SSE)))\n",
    "display(md(\"MS_Treatments: {:.3f}\".format(MSTreat)))\n",
    "display(md(\"MSE: {:.3f}\".format(MSE)))\n",
    "display(md(\"F_0: {:.3f}\".format(F_0)))\n",
    "display(md(\"Critical F-Value: {:.3f}\".format(f_crit)))\n",
    "display(md(\"p-value: {:.3f}\".format(p_val)))"
   ]
  },
  {
   "cell_type": "markdown",
   "metadata": {},
   "source": [
    "Answer: Given that the value of $F_0 = 9.41 > 3.467 = F_{\\alpha,a-1,N-a}$ and the $p$-value $ = 0.001 < \\alpha = 0.05$, the result is significant and is unlikely to have occured by chance. Thus, we can reject the null hypothesis $H_0: \\mu_i = \\mu_j, \\forall i \\neq j$. Thus, we can conclude that there is a difference in from the three approaches."
   ]
  },
  {
   "cell_type": "markdown",
   "metadata": {},
   "source": [
    "### Solution (b)"
   ]
  },
  {
   "cell_type": "code",
   "execution_count": 15,
   "metadata": {},
   "outputs": [
    {
     "data": {
      "image/png": "[encoded data removed]",
      "text/plain": [
       "<Figure size 432x288 with 1 Axes>"
      ]
     },
     "metadata": {
      "needs_background": "light"
     },
     "output_type": "display_data"
    }
   ],
   "source": [
    "residuals = np.array([])\n",
    "resid1 = app_1 - app_1_mean\n",
    "resid2 = app_2 - app_2_mean\n",
    "resid3 = app_3 - app_3_mean\n",
    "residuals = np.append(residuals,resid1)\n",
    "residuals = np.append(residuals,resid2)\n",
    "residuals = np.append(residuals,resid3)\n",
    "stats.probplot(residuals, plot=plt)\n",
    "plt.show()"
   ]
  },
  {
   "cell_type": "markdown",
   "metadata": {},
   "source": [
    "Examining the residuals in the plot above, we see that the residuals fit the line pretty well. Due to this fit and the fact that there are no obvious patterns to the residuals, this indicates that the residuals are normally distributed. Thus, we can conclude that the model is adequate. "
   ]
  },
  {
   "cell_type": "markdown",
   "metadata": {},
   "source": [
    "## 3.20\n",
    "\n",
    "(a) Does the firing temperature affect the density of the\n",
    "bricks? Use α = 0.05.\n",
    "\n",
    "(c) Analyze the residuals from this experiment. Are the\n",
    "analysis of variance assumptions satisfied?\n",
    "\n",
    "(d) Construct a graphical display of the treatment as\n",
    "described in Section 3.5.3. Does this graph adequately\n",
    "summarize the results of the analysis of variance in\n",
    "part (a)?"
   ]
  },
  {
   "cell_type": "markdown",
   "metadata": {},
   "source": [
    "### Solution (a)\n",
    "\n",
    "Due to the unbalanced design of this experiment ($n_1 = n_3 \\neq n_2 = n_4$), we must use the manual computational formulas for $SS_T$ and $SS_{Treatments}$\n",
    "\n",
    "$$ SS_T = \\sum_{i=1}^{a}\\sum_{j=1}^{n_i}(y_{ij}-y_{..})^2 $$\n",
    "\n",
    "$$ SS_{Treatments} = \\sum_{i=1}^a n_i(\\bar{y_{i.}} - \\bar{y_{..}})^2$$\n"
   ]
  },
  {
   "cell_type": "code",
   "execution_count": 74,
   "metadata": {},
   "outputs": [
    {
     "data": {
      "text/markdown": [
       "SST: 0.516"
      ],
      "text/plain": [
       "<IPython.core.display.Markdown object>"
      ]
     },
     "metadata": {},
     "output_type": "display_data"
    },
    {
     "data": {
      "text/markdown": [
       "SS_Treatments: 0.156"
      ],
      "text/plain": [
       "<IPython.core.display.Markdown object>"
      ]
     },
     "metadata": {},
     "output_type": "display_data"
    },
    {
     "data": {
      "text/markdown": [
       "SSE: 0.360"
      ],
      "text/plain": [
       "<IPython.core.display.Markdown object>"
      ]
     },
     "metadata": {},
     "output_type": "display_data"
    },
    {
     "data": {
      "text/markdown": [
       "MS_Treatments: 0.052"
      ],
      "text/plain": [
       "<IPython.core.display.Markdown object>"
      ]
     },
     "metadata": {},
     "output_type": "display_data"
    },
    {
     "data": {
      "text/markdown": [
       "MSE: 0.026"
      ],
      "text/plain": [
       "<IPython.core.display.Markdown object>"
      ]
     },
     "metadata": {},
     "output_type": "display_data"
    },
    {
     "data": {
      "text/markdown": [
       "F_0: 2.024"
      ],
      "text/plain": [
       "<IPython.core.display.Markdown object>"
      ]
     },
     "metadata": {},
     "output_type": "display_data"
    },
    {
     "data": {
      "text/markdown": [
       "Critical F-Value: 3.344"
      ],
      "text/plain": [
       "<IPython.core.display.Markdown object>"
      ]
     },
     "metadata": {},
     "output_type": "display_data"
    },
    {
     "data": {
      "text/markdown": [
       "p-value: 0.157"
      ],
      "text/plain": [
       "<IPython.core.display.Markdown object>"
      ]
     },
     "metadata": {},
     "output_type": "display_data"
    }
   ],
   "source": [
    "temp_100 = np.array([21.8, 21.9, 21.7, 21.6, 21.7])\n",
    "temp_125 = np.array([21.7, 21.4, 21.5, 21.4])\n",
    "temp_150 = np.array([21.9, 21.8, 21.8, 21.6, 21.5])\n",
    "temp_175 = np.array([21.9, 21.7, 21.8, 21.4])\n",
    "\n",
    "alpha = 0.05\n",
    "a = 4\n",
    "# Manual calculation of N due to unbalanced design\n",
    "N = 5 + 4 + 5 + 4\n",
    "n_vec = np.array([5,4,5,4])\n",
    "\n",
    "temp_all = np.array([])\n",
    "temp_all = np.append(temp_all, temp_100)\n",
    "temp_all = np.append(temp_all, temp_125)\n",
    "temp_all = np.append(temp_all, temp_150)\n",
    "temp_all = np.append(temp_all, temp_175)\n",
    "\n",
    "#Calculate total mean and treatment means\n",
    "temp_all_mean = temp_all.mean()\n",
    "temp_100_mean = temp_100.mean()\n",
    "temp_125_mean = temp_125.mean()\n",
    "temp_150_mean = temp_150.mean()\n",
    "temp_175_mean = temp_175.mean()\n",
    "\n",
    "# Calculate difference of all values from total mean (manual version)\n",
    "temp_all_diff = temp_all - temp_all_mean\n",
    "\n",
    "# Calculate difference of each treatment mean square from overall mean square (manual version for unbalanced design)\n",
    "temp_mean_diff = np.array([temp_100_mean, temp_125_mean, temp_150_mean, temp_175_mean]) - temp_all_mean\n",
    "\n",
    "# ANOVA Stats\n",
    "SST = np.dot(temp_all_diff.T,temp_all_diff) # Manual version\n",
    "SSTreat = np.dot(n_vec.T, np.square(temp_mean_diff))\n",
    "SSE = SST - SSTreat\n",
    "\n",
    "MSTreat = SSTreat/(a-1)\n",
    "MSE = SSE/(N-a)\n",
    "F_0 = MSTreat/MSE\n",
    "\n",
    "# Calculate P_val from F_0 score\n",
    "p_val = 1 - stats.f.cdf(F_0,a-1,N-a)\n",
    "\n",
    "# Calculate Critical F-Value (two-tailed)\n",
    "f_crit = stats.f.ppf(1-alpha,a-1,N-a)\n",
    "\n",
    "display(md(\"SST: {:.3f}\".format(SST)))\n",
    "display(md(\"SS_Treatments: {:.3f}\".format(SSTreat)))\n",
    "display(md(\"SSE: {:.3f}\".format(SSE)))\n",
    "display(md(\"MS_Treatments: {:.3f}\".format(MSTreat)))\n",
    "display(md(\"MSE: {:.3f}\".format(MSE)))\n",
    "display(md(\"F_0: {:.3f}\".format(F_0)))\n",
    "display(md(\"Critical F-Value: {:.3f}\".format(f_crit)))\n",
    "display(md(\"p-value: {:.3f}\".format(p_val)))"
   ]
  },
  {
   "cell_type": "markdown",
   "metadata": {},
   "source": [
    "Answer: This yields $F_0 = 2.024 < 3.344 = F_{0.05,3,15}$. Additionally, the $p$-value is 0.157 which is greater than our threshold of 0.05. Thus, we can conclude here that there is not a significant difference between the means, so we fail to reject the null hypothesis that the temperature does not affect the density.\n"
   ]
  },
  {
   "cell_type": "markdown",
   "metadata": {},
   "source": [
    "### Solution (c)"
   ]
  },
  {
   "cell_type": "code",
   "execution_count": 90,
   "metadata": {},
   "outputs": [
    {
     "data": {
      "image/png": "[encoded data removed]",
      "text/plain": [
       "<Figure size 432x288 with 1 Axes>"
      ]
     },
     "metadata": {
      "needs_background": "light"
     },
     "output_type": "display_data"
    }
   ],
   "source": [
    "residuals = np.array([])\n",
    "resid1 = temp_100 - temp_100_mean\n",
    "resid2 = temp_125 - temp_125_mean\n",
    "resid3 = temp_150 - temp_150_mean\n",
    "resid4 = temp_175 - temp_175_mean\n",
    "residuals = np.append(residuals,resid1)\n",
    "residuals = np.append(residuals,resid2)\n",
    "residuals = np.append(residuals,resid3)\n",
    "residuals = np.append(residuals,resid4)\n",
    "stats.probplot(residuals, plot=plt)\n",
    "plt.show()"
   ]
  },
  {
   "cell_type": "markdown",
   "metadata": {},
   "source": [
    "Answer: The ANOVA assumption for the residuals is that they belong to $N(0,\\sigma^2)$ where $\\sigma^2$ is unknown. Examining the plot above, we see that the residuals do appear to fit this distribution since they fit the red line well. Thus the residuals appear to be normally distributed and the ANOVA assumptions are satisfied."
   ]
  },
  {
   "cell_type": "markdown",
   "metadata": {},
   "source": [
    "### Solution (d)"
   ]
  },
  {
   "cell_type": "code",
   "execution_count": 101,
   "metadata": {},
   "outputs": [
    {
     "data": {
      "image/png": "[encoded data removed]",
      "text/plain": [
       "<Figure size 360x360 with 1 Axes>"
      ]
     },
     "metadata": {
      "needs_background": "light"
     },
     "output_type": "display_data"
    }
   ],
   "source": [
    "resid_1_x = np.array([temp_100_mean, temp_100_mean, temp_100_mean, temp_100_mean, temp_100_mean])\n",
    "resid_2_x = np.array([temp_125_mean, temp_125_mean, temp_125_mean, temp_125_mean])\n",
    "resid_3_x = np.array([temp_150_mean, temp_150_mean, temp_150_mean, temp_150_mean, temp_150_mean])\n",
    "resid_4_x = np.array([temp_175_mean, temp_175_mean, temp_175_mean, temp_175_mean])\n",
    "\n",
    "fig = plt.figure(figsize=(5,5))\n",
    "plt.plot(resid_1_x,resid1, 'o', label='100')\n",
    "plt.plot(resid_2_x,resid2, 'o', label='125')\n",
    "plt.plot(resid_3_x,resid3, 'o', label='150')\n",
    "plt.plot(resid_4_x,resid4, 'o', label='175')\n",
    "plt.title(\"Residuals versus Fitted Values\")\n",
    "plt.ylabel(\"Residual\")\n",
    "plt.xlabel(\"Fitted Value\")\n",
    "plt.legend()\n",
    "plt.show()"
   ]
  },
  {
   "cell_type": "markdown",
   "metadata": {},
   "source": [
    "Answer: Examining the residuals we see that for the most part, the variance appears to be constant. Thus, the ANOVA assumptions are satisfied."
   ]
  },
  {
   "cell_type": "markdown",
   "metadata": {},
   "source": [
    "## 3.30\n",
    "\n",
    "(a) Are the lives of these brands of batteries different?\n",
    "\n",
    "\n",
    "(b) Analyze the residuals from this experiment.\n",
    "\n",
    "(c) Construct a 95 percent confidence interval estimate on the mean life of battery brand 2. Construct a 99 percent confidence interval estimate on the mean difference between the lives of battery brands 2 and 3.\n",
    "\n",
    "\n",
    "(d) Which brand would you select for use? If the manufacturer will replace without charge any battery that fails in less than 85 weeks, what percentage would the company expect to replace?"
   ]
  },
  {
   "cell_type": "markdown",
   "metadata": {},
   "source": [
    "### Solution (a)"
   ]
  },
  {
   "cell_type": "code",
   "execution_count": 44,
   "metadata": {},
   "outputs": [
    {
     "data": {
      "text/markdown": [
       "SST: 1383.333"
      ],
      "text/plain": [
       "<IPython.core.display.Markdown object>"
      ]
     },
     "metadata": {},
     "output_type": "display_data"
    },
    {
     "data": {
      "text/markdown": [
       "SS_Treatments: 1196.133"
      ],
      "text/plain": [
       "<IPython.core.display.Markdown object>"
      ]
     },
     "metadata": {},
     "output_type": "display_data"
    },
    {
     "data": {
      "text/markdown": [
       "SSE: 187.200"
      ],
      "text/plain": [
       "<IPython.core.display.Markdown object>"
      ]
     },
     "metadata": {},
     "output_type": "display_data"
    },
    {
     "data": {
      "text/markdown": [
       "MS_Treatments: 598.067"
      ],
      "text/plain": [
       "<IPython.core.display.Markdown object>"
      ]
     },
     "metadata": {},
     "output_type": "display_data"
    },
    {
     "data": {
      "text/markdown": [
       "MSE: 15.600"
      ],
      "text/plain": [
       "<IPython.core.display.Markdown object>"
      ]
     },
     "metadata": {},
     "output_type": "display_data"
    },
    {
     "data": {
      "text/markdown": [
       "F_0: 38.338"
      ],
      "text/plain": [
       "<IPython.core.display.Markdown object>"
      ]
     },
     "metadata": {},
     "output_type": "display_data"
    },
    {
     "data": {
      "text/markdown": [
       "Critical F-Value: 3.885"
      ],
      "text/plain": [
       "<IPython.core.display.Markdown object>"
      ]
     },
     "metadata": {},
     "output_type": "display_data"
    },
    {
     "data": {
      "text/markdown": [
       "p-value: 6.141493753442084e-06"
      ],
      "text/plain": [
       "<IPython.core.display.Markdown object>"
      ]
     },
     "metadata": {},
     "output_type": "display_data"
    }
   ],
   "source": [
    "brand_1 = np.array([100, 96, 92, 96, 92])\n",
    "brand_2 = np.array([76, 80, 75, 84, 82])\n",
    "brand_3 = np.array([108, 100, 96, 98, 100])\n",
    "\n",
    "brand_all = np.array([])\n",
    "brand_all = np.append(brand_all, brand_1)\n",
    "brand_all = np.append(brand_all, brand_2)\n",
    "brand_all = np.append(brand_all, brand_3)\n",
    "\n",
    "n = 5\n",
    "a = 3\n",
    "N = a*n\n",
    "\n",
    "# Calculate means\n",
    "brand_all_mean = brand_all.mean()\n",
    "brand_1_mean = brand_1.mean()\n",
    "brand_2_mean = brand_2.mean()\n",
    "brand_3_mean = brand_3.mean()\n",
    "\n",
    "# Calculate difference from total mean and difference between treatment means\n",
    "brand_all_diff = brand_all - brand_all_mean\n",
    "brand_mean_diff = np.array([(brand_1_mean - brand_all_mean),(brand_2_mean - brand_all_mean), (brand_3_mean - brand_all_mean)])\n",
    "\n",
    "# ANOVA Stats\n",
    "SST = np.dot(brand_all_diff.T,brand_all_diff)\n",
    "SSTreat = n*np.dot(brand_mean_diff.T, brand_mean_diff)\n",
    "SSE = SST - SSTreat\n",
    "\n",
    "MSTreat = SSTreat/(a-1)\n",
    "MSE = SSE/(N-a)\n",
    "F_0 = MSTreat/MSE\n",
    "\n",
    "# Calculate P_val from F_0 score\n",
    "p_val = 1 - stats.f.cdf(F_0,a-1,N-a)\n",
    "\n",
    "# Calculate Critical F-Value (two-tailed)\n",
    "f_crit = stats.f.ppf(1-alpha,a-1,N-a)\n",
    "\n",
    "display(md(\"SST: {:.3f}\".format(SST)))\n",
    "display(md(\"SS_Treatments: {:.3f}\".format(SSTreat)))\n",
    "display(md(\"SSE: {:.3f}\".format(SSE)))\n",
    "display(md(\"MS_Treatments: {:.3f}\".format(MSTreat)))\n",
    "display(md(\"MSE: {:.3f}\".format(MSE)))\n",
    "display(md(\"F_0: {:.3f}\".format(F_0)))\n",
    "display(md(\"Critical F-Value: {:.3f}\".format(f_crit)))\n",
    "display(md(\"p-value: {}\".format(p_val)))"
   ]
  },
  {
   "cell_type": "markdown",
   "metadata": {},
   "source": [
    "\n",
    "\n",
    "Answer: Assuming alpha = 0.05 and given that $F_0 = 38.338 > 3.885 = F_{0.05,3,17}$ and the $p$-value $= 6.14 \\times 10^{-6} < \\alpha = 0.05$, we can confidently say that there is a significant difference in the lives of the battery brands and we can reject the null hypothesis that the mean battery lives are the same.  "
   ]
  },
  {
   "cell_type": "markdown",
   "metadata": {},
   "source": [
    "### Solution (b)"
   ]
  },
  {
   "cell_type": "code",
   "execution_count": 125,
   "metadata": {},
   "outputs": [
    {
     "data": {
      "image/png": "[encoded data removed]",
      "text/plain": [
       "<Figure size 1080x432 with 1 Axes>"
      ]
     },
     "metadata": {
      "needs_background": "light"
     },
     "output_type": "display_data"
    },
    {
     "data": {
      "image/png": "[encoded data removed]",
      "text/plain": [
       "<Figure size 432x288 with 1 Axes>"
      ]
     },
     "metadata": {
      "needs_background": "light"
     },
     "output_type": "display_data"
    }
   ],
   "source": [
    "resid1 = brand_1 - brand_1_mean\n",
    "resid2 = brand_2 - brand_2_mean\n",
    "resid3 = brand_3 - brand_3_mean\n",
    "residuals = np.hstack((resid1, resid2, resid3))\n",
    "\n",
    "\n",
    "resid_1_x = np.array([brand_1_mean, brand_1_mean, brand_1_mean, brand_1_mean, brand_1_mean])\n",
    "resid_2_x = np.array([brand_2_mean, brand_2_mean, brand_2_mean, brand_2_mean, brand_2_mean])\n",
    "resid_3_x = np.array([brand_3_mean, brand_3_mean, brand_3_mean, brand_3_mean, brand_3_mean])\n",
    "\n",
    "fig = plt.figure(figsize=(15,6))\n",
    "plt.plot(resid_1_x,resid1, 'o', label='Brand 1')\n",
    "plt.plot(resid_2_x,resid2, 'o', label='Brand 2')\n",
    "plt.plot(resid_3_x,resid3, 'o', label='Brand 3')\n",
    "\n",
    "plt.title(\"Residuals versus Fitted Values\")\n",
    "plt.ylabel(\"Residual\")\n",
    "plt.xlabel(\"Fitted Value\")\n",
    "plt.legend()\n",
    "plt.show()\n",
    "\n",
    "stats.probplot(residuals, plot=plt)\n",
    "plt.show()"
   ]
  },
  {
   "cell_type": "markdown",
   "metadata": {},
   "source": [
    "Answer: The residuals aren't exactly a perfect fit to the line with a couple of outliers. However, the fit is good enough and there are no obvious patterns to the residuals. Additionally, the residuals versus fits appear to be have very similar variances. With these observations, it seems that the ANOVA assumptions are satisfied. "
   ]
  },
  {
   "cell_type": "markdown",
   "metadata": {},
   "source": [
    "### Solution (c)"
   ]
  },
  {
   "cell_type": "code",
   "execution_count": 65,
   "metadata": {},
   "outputs": [
    {
     "data": {
      "text/markdown": [
       "95% Confidence Interval for brand 2: [75.551, 83.249]"
      ],
      "text/plain": [
       "<IPython.core.display.Markdown object>"
      ]
     },
     "metadata": {},
     "output_type": "display_data"
    }
   ],
   "source": [
    "# 95% confidence interval for brand 2\n",
    "alpha = 0.05\n",
    "bound_t_val = stats.t.ppf((1-alpha/2),(N-a)) # t-table lookup value\n",
    "std_est = np.sqrt(MSE/n)\n",
    "lower = brand_2_mean - bound_t_val*std_est\n",
    "upper = brand_2_mean + bound_t_val*std_est\n",
    "\n",
    "\n",
    "display(md(\"95% Confidence Interval for brand 2: [{:.3f}, {:.3f}]\".format(lower,upper)))"
   ]
  },
  {
   "cell_type": "code",
   "execution_count": 66,
   "metadata": {},
   "outputs": [
    {
     "data": {
      "text/markdown": [
       "99% confidence interval for mean difference between brand 2 and brand 3: [-28.631, -13.369]"
      ],
      "text/plain": [
       "<IPython.core.display.Markdown object>"
      ]
     },
     "metadata": {},
     "output_type": "display_data"
    }
   ],
   "source": [
    "# 99% confidence interval for difference between brand 2 and brand 3\n",
    "alpha = 0.95\n",
    "mean_diff_2_3 = brand_2_mean - brand_3_mean\n",
    "bound_t_val = 3.055 # t-table score for t(0.01/2,12)\n",
    "std_est = np.sqrt(2*MSE/n)\n",
    "lower = mean_diff_2_3 - bound_t_val*std_est\n",
    "upper = mean_diff_2_3 + bound_t_val*std_est\n",
    "display(md(\"99% confidence interval for mean difference between brand 2 and brand 3: [{:.3f}, {:.3f}]\".format(lower,upper)))"
   ]
  },
  {
   "cell_type": "markdown",
   "metadata": {},
   "source": [
    "Answer: Based on the above code, we see that a 95% confidence interval for brand 2 is given by $75.551 \\leq \\mu_2 \\leq 83.249$. \n",
    "\n",
    "Additionally, we see that a 99% confidence interval for the mean difference between brand 2 and brand 3 is given by $-28.361 \\leq \\mu_2 - \\mu_3 \\leq -13.396$"
   ]
  },
  {
   "cell_type": "markdown",
   "metadata": {},
   "source": [
    "### Solution (d)"
   ]
  },
  {
   "cell_type": "code",
   "execution_count": 70,
   "metadata": {},
   "outputs": [
    {
     "name": "stdout",
     "output_type": "stream",
     "text": [
      "7.711499913422586e-07\n"
     ]
    }
   ],
   "source": [
    "bound_val = 85\n",
    "prob = stats.t.cdf(x=bound_val,df=(N-a),loc=brand_3_mean,scale=np.sqrt(MSE/n))\n",
    "print(prob)"
   ]
  },
  {
   "cell_type": "markdown",
   "metadata": {},
   "source": [
    "Given that brand 3 has the highest mean life, my choice would be brand 3. "
   ]
  },
  {
   "cell_type": "markdown",
   "metadata": {},
   "source": [
    "## 3.32\n",
    "\n",
    "(a) Do all five materials have the same effect on mean failure time?\n",
    "\n",
    "(b) Plot the residuals versus the predicted response. Construct a normal probability plot of the residuals. What information is conveyed by these plots?\n",
    "\n",
    "(c) Based on your answer to part (b), conduct another analysis of the failure time data and draw appropriate conclusions."
   ]
  },
  {
   "cell_type": "markdown",
   "metadata": {},
   "source": [
    "### Solution (a)"
   ]
  },
  {
   "cell_type": "code",
   "execution_count": 108,
   "metadata": {},
   "outputs": [
    {
     "data": {
      "text/markdown": [
       "SST: 165697146.200"
      ],
      "text/plain": [
       "<IPython.core.display.Markdown object>"
      ]
     },
     "metadata": {},
     "output_type": "display_data"
    },
    {
     "data": {
      "text/markdown": [
       "SS_Treatments: 103191489.200"
      ],
      "text/plain": [
       "<IPython.core.display.Markdown object>"
      ]
     },
     "metadata": {},
     "output_type": "display_data"
    },
    {
     "data": {
      "text/markdown": [
       "SSE: 62505657.000"
      ],
      "text/plain": [
       "<IPython.core.display.Markdown object>"
      ]
     },
     "metadata": {},
     "output_type": "display_data"
    },
    {
     "data": {
      "text/markdown": [
       "MS_Treatments: 25797872.300"
      ],
      "text/plain": [
       "<IPython.core.display.Markdown object>"
      ]
     },
     "metadata": {},
     "output_type": "display_data"
    },
    {
     "data": {
      "text/markdown": [
       "MSE: 4167043.800"
      ],
      "text/plain": [
       "<IPython.core.display.Markdown object>"
      ]
     },
     "metadata": {},
     "output_type": "display_data"
    },
    {
     "data": {
      "text/markdown": [
       "F_0: 6.191"
      ],
      "text/plain": [
       "<IPython.core.display.Markdown object>"
      ]
     },
     "metadata": {},
     "output_type": "display_data"
    },
    {
     "data": {
      "text/markdown": [
       "Critical F-Value: 3.056"
      ],
      "text/plain": [
       "<IPython.core.display.Markdown object>"
      ]
     },
     "metadata": {},
     "output_type": "display_data"
    },
    {
     "data": {
      "text/markdown": [
       "p-value: 0.003785956296380344"
      ],
      "text/plain": [
       "<IPython.core.display.Markdown object>"
      ]
     },
     "metadata": {},
     "output_type": "display_data"
    }
   ],
   "source": [
    "mat_1 = np.array([110, 157, 194, 178])\n",
    "mat_2 = np.array([1, 2, 4, 18])\n",
    "mat_3 = np.array([880, 1256, 5276, 4355])\n",
    "mat_4 = np.array([495, 7040, 5307, 10050])\n",
    "mat_5 = np.array([7, 5, 29, 2])\n",
    "\n",
    "a = 5\n",
    "n = 4\n",
    "N = a*n\n",
    "\n",
    "mat_all = np.hstack((mat_1, mat_2, mat_3, mat_4, mat_5))\n",
    "\n",
    "# Calculate Means\n",
    "mat_all_mean = mat_all.mean()\n",
    "mat_1_mean = mat_1.mean()\n",
    "mat_2_mean = mat_2.mean()\n",
    "mat_3_mean = mat_3.mean()\n",
    "mat_4_mean = mat_4.mean()\n",
    "mat_5_mean = mat_5.mean()\n",
    "\n",
    "mean_all = np.hstack((mat_1_mean, mat_2_mean, mat_3_mean, mat_4_mean, mat_5_mean))\n",
    "\n",
    "# Calculate differences\n",
    "mat_all_diff = mat_all - mat_all_mean\n",
    "mean_all_diff = mean_all - mat_all_mean\n",
    "\n",
    "# ANOVA\n",
    "SST = np.dot(mat_all_diff.T, mat_all_diff)\n",
    "SSTreat = n*np.dot(mean_all_diff.T, mean_all_diff)\n",
    "SSE = SST - SSTreat\n",
    "\n",
    "MSTreat = SSTreat/(a-1)\n",
    "MSE = SSE/(N-a)\n",
    "F_0 = MSTreat/MSE\n",
    "\n",
    "# Calculate P_val from F_0 score\n",
    "p_val = 1 - stats.f.cdf(F_0,a-1,N-a)\n",
    "\n",
    "# Calculate Critical F-Value (two-tailed)\n",
    "f_crit = stats.f.ppf(1-alpha,a-1,N-a)\n",
    "\n",
    "display(md(\"SST: {:.3f}\".format(SST)))\n",
    "display(md(\"SS_Treatments: {:.3f}\".format(SSTreat)))\n",
    "display(md(\"SSE: {:.3f}\".format(SSE)))\n",
    "display(md(\"MS_Treatments: {:.3f}\".format(MSTreat)))\n",
    "display(md(\"MSE: {:.3f}\".format(MSE)))\n",
    "display(md(\"F_0: {:.3f}\".format(F_0)))\n",
    "display(md(\"Critical F-Value: {:.3f}\".format(f_crit)))\n",
    "display(md(\"p-value: {}\".format(p_val)))\n"
   ]
  },
  {
   "cell_type": "markdown",
   "metadata": {},
   "source": [
    "Answer: Based on the value of $F_0 > F_{crit}$ and the $p$-value less than 0.05, we can conclude that there is a difference in the mean failure times.  "
   ]
  },
  {
   "cell_type": "markdown",
   "metadata": {},
   "source": [
    "### Solution (b)\n"
   ]
  },
  {
   "cell_type": "code",
   "execution_count": 114,
   "metadata": {},
   "outputs": [
    {
     "data": {
      "image/png": "[encoded data removed]",
      "text/plain": [
       "<Figure size 1080x432 with 1 Axes>"
      ]
     },
     "metadata": {
      "needs_background": "light"
     },
     "output_type": "display_data"
    }
   ],
   "source": [
    "resid1 = mat_1 - mat_1_mean\n",
    "resid2 = mat_2 - mat_2_mean\n",
    "resid3 = mat_3 - mat_3_mean\n",
    "resid4 = mat_4 - mat_4_mean\n",
    "resid5 = mat_5 - mat_5_mean\n",
    "\n",
    "\n",
    "resid_1_x = np.array([mat_1_mean, mat_1_mean, mat_1_mean, mat_1_mean])\n",
    "resid_2_x = np.array([mat_2_mean, mat_2_mean, mat_2_mean, mat_2_mean])\n",
    "resid_3_x = np.array([mat_3_mean, mat_3_mean, mat_3_mean, mat_3_mean])\n",
    "resid_4_x = np.array([mat_4_mean, mat_4_mean, mat_4_mean, mat_4_mean])\n",
    "resid_5_x = np.array([mat_5_mean, mat_5_mean, mat_5_mean, mat_5_mean])\n",
    "\n",
    "fig = plt.figure(figsize=(15,6))\n",
    "plt.plot(resid_1_x,resid1, 'x', label='Material 1')\n",
    "plt.plot(resid_2_x,resid2, 'o', label='Material 2')\n",
    "plt.plot(resid_3_x,resid3, 'x', label='Material 3')\n",
    "plt.plot(resid_4_x,resid4, 'x', label='Material 4')\n",
    "plt.plot(resid_5_x,resid5, 'x', label='Material 5')\n",
    "plt.title(\"Residuals versus Fitted Values\")\n",
    "plt.ylabel(\"Residual\")\n",
    "plt.xlabel(\"Fitted Value\")\n",
    "plt.legend()\n",
    "plt.show()\n"
   ]
  },
  {
   "cell_type": "code",
   "execution_count": 113,
   "metadata": {},
   "outputs": [
    {
     "data": {
      "image/png": "[encoded data removed]",
      "text/plain": [
       "<Figure size 432x288 with 1 Axes>"
      ]
     },
     "metadata": {
      "needs_background": "light"
     },
     "output_type": "display_data"
    }
   ],
   "source": [
    "residuals = np.hstack((resid1, resid2, resid3, resid4, resid5))\n",
    "stats.probplot(residuals, plot=plt)\n",
    "plt.title(\"Normal Probability Plot\")\n",
    "plt.show()"
   ]
  },
  {
   "cell_type": "markdown",
   "metadata": {},
   "source": [
    "Answer: Examining the plot of the residuals and the normal probability plot we see two issues. First, the variance between each treatment is drastically different so the constant variance assumption of ANOVA is violated. Additionally, we see that the residuals are not normally distributed, another violation of the ANOVA assumptions. "
   ]
  },
  {
   "cell_type": "markdown",
   "metadata": {},
   "source": [
    "### Solution (c) \n",
    "\n",
    "Based on the observations from (b), we need to transform the data and then run ANOVA again. "
   ]
  },
  {
   "cell_type": "code",
   "execution_count": 118,
   "metadata": {},
   "outputs": [
    {
     "data": {
      "image/png": "[encoded data removed]",
      "text/plain": [
       "<Figure size 432x288 with 1 Axes>"
      ]
     },
     "metadata": {
      "needs_background": "light"
     },
     "output_type": "display_data"
    }
   ],
   "source": [
    "mat_1 = np.array([110, 157, 194, 178])\n",
    "mat_2 = np.array([1, 2, 4, 18])\n",
    "mat_3 = np.array([880, 1256, 5276, 4355])\n",
    "mat_4 = np.array([495, 7040, 5307, 10050])\n",
    "mat_5 = np.array([7, 5, 29, 2])\n",
    "\n",
    "a = 5\n",
    "n = 4\n",
    "N = a*n\n",
    "\n",
    "mat_all = np.hstack((mat_1, mat_2, mat_3, mat_4, mat_5))\n",
    "\n",
    "# Transform the data\n",
    "mat_1_mean = mat_1.mean()\n",
    "mat_2_mean = mat_2.mean()\n",
    "mat_3_mean = mat_3.mean()\n",
    "mat_4_mean = mat_4.mean()\n",
    "mat_5_mean = mat_5.mean()\n",
    "mat_means_all = np.hstack((mat_1_mean, mat_2_mean, mat_3_mean, mat_4_mean, mat_5_mean))\n",
    "\n",
    "mat_1_std = mat_1.std()\n",
    "mat_2_std = mat_2.std()\n",
    "mat_3_std = mat_3.std()\n",
    "mat_4_std = mat_4.std()\n",
    "mat_5_std = mat_5.std()\n",
    "\n",
    "log_si = np.array([np.log(mat_1_std), np.log(mat_2_std), np.log(mat_3_std), np.log(mat_4_std), np.log(mat_5_std)])\n",
    "log_mui = np.log(mat_means_all)\n",
    "\n",
    "plt.plot(log_mui, log_si, 'o')\n",
    "plt.title(\"Plot of log S_i vs. log y_i_bar\")\n",
    "plt.show()\n"
   ]
  },
  {
   "cell_type": "markdown",
   "metadata": {},
   "source": [
    "Inspecting the plot of $\\log(S_i)$ versus $\\log(\\bar{y_{i.}})$ we see that a best fit line approximately passes through (2,2) and (8,7.5). Using the point slope formula this yields a slope that is approximately 1. This means that for our purposes $\\alpha = 1$ and based on table 3.9, $\\lambda = 0$ so the best transformation to use here is a logarithmic transformation of the data. \n",
    "\n",
    "We will logarithmically transform the data and perform ANOVA to see if the results are any better. "
   ]
  },
  {
   "cell_type": "code",
   "execution_count": 119,
   "metadata": {},
   "outputs": [
    {
     "data": {
      "text/markdown": [
       "SST: 181.493"
      ],
      "text/plain": [
       "<IPython.core.display.Markdown object>"
      ]
     },
     "metadata": {},
     "output_type": "display_data"
    },
    {
     "data": {
      "text/markdown": [
       "SS_Treatments: 165.056"
      ],
      "text/plain": [
       "<IPython.core.display.Markdown object>"
      ]
     },
     "metadata": {},
     "output_type": "display_data"
    },
    {
     "data": {
      "text/markdown": [
       "SSE: 16.437"
      ],
      "text/plain": [
       "<IPython.core.display.Markdown object>"
      ]
     },
     "metadata": {},
     "output_type": "display_data"
    },
    {
     "data": {
      "text/markdown": [
       "MS_Treatments: 41.264"
      ],
      "text/plain": [
       "<IPython.core.display.Markdown object>"
      ]
     },
     "metadata": {},
     "output_type": "display_data"
    },
    {
     "data": {
      "text/markdown": [
       "MSE: 1.096"
      ],
      "text/plain": [
       "<IPython.core.display.Markdown object>"
      ]
     },
     "metadata": {},
     "output_type": "display_data"
    },
    {
     "data": {
      "text/markdown": [
       "F_0: 37.657"
      ],
      "text/plain": [
       "<IPython.core.display.Markdown object>"
      ]
     },
     "metadata": {},
     "output_type": "display_data"
    },
    {
     "data": {
      "text/markdown": [
       "Critical F-Value: 3.056"
      ],
      "text/plain": [
       "<IPython.core.display.Markdown object>"
      ]
     },
     "metadata": {},
     "output_type": "display_data"
    },
    {
     "data": {
      "text/markdown": [
       "p-value: 1.1760925033854619e-07"
      ],
      "text/plain": [
       "<IPython.core.display.Markdown object>"
      ]
     },
     "metadata": {},
     "output_type": "display_data"
    }
   ],
   "source": [
    "mat_1_transformed = np.log(mat_1)\n",
    "mat_2_transformed = np.log(mat_2)\n",
    "mat_3_transformed = np.log(mat_3)\n",
    "mat_4_transformed = np.log(mat_4)\n",
    "mat_5_transformed = np.log(mat_5)\n",
    "mat_all_transformed = np.log(mat_all)\n",
    "\n",
    "mat_1_transformed_mean = mat_1_transformed.mean()\n",
    "mat_2_transformed_mean = mat_2_transformed.mean()\n",
    "mat_3_transformed_mean = mat_3_transformed.mean()\n",
    "mat_4_transformed_mean = mat_4_transformed.mean()\n",
    "mat_5_transformed_mean = mat_5_transformed.mean()\n",
    "mat_all_transformed_mean = mat_all_transformed.mean()\n",
    "\n",
    "mat_all_transformed_diff = mat_all_transformed - mat_all_transformed_mean\n",
    "\n",
    "mat_mean_diff = np.hstack((mat_1_transformed_mean, mat_2_transformed_mean, mat_3_transformed_mean, \n",
    "                           mat_4_transformed_mean, mat_5_transformed_mean)) - mat_all_transformed_mean\n",
    "\n",
    "# ANOVA\n",
    "SST = np.dot(mat_all_transformed_diff.T, mat_all_transformed_diff)\n",
    "SSTreat = n*np.dot(mat_mean_diff.T, mat_mean_diff)\n",
    "SSE = SST - SSTreat\n",
    "\n",
    "MSTreat = SSTreat/(a-1)\n",
    "MSE = SSE/(N-a)\n",
    "F_0 = MSTreat/MSE\n",
    "\n",
    "# Calculate P_val from F_0 score\n",
    "p_val = 1 - stats.f.cdf(F_0,a-1,N-a)\n",
    "\n",
    "# Calculate Critical F-Value (two-tailed)\n",
    "f_crit = stats.f.ppf(1-alpha,a-1,N-a)\n",
    "\n",
    "display(md(\"SST: {:.3f}\".format(SST)))\n",
    "display(md(\"SS_Treatments: {:.3f}\".format(SSTreat)))\n",
    "display(md(\"SSE: {:.3f}\".format(SSE)))\n",
    "display(md(\"MS_Treatments: {:.3f}\".format(MSTreat)))\n",
    "display(md(\"MSE: {:.3f}\".format(MSE)))\n",
    "display(md(\"F_0: {:.3f}\".format(F_0)))\n",
    "display(md(\"Critical F-Value: {:.3f}\".format(f_crit)))\n",
    "display(md(\"p-value: {}\".format(p_val)))\n",
    "\n",
    "\n"
   ]
  },
  {
   "cell_type": "markdown",
   "metadata": {},
   "source": [
    "Answer: With the transformed values, the difference is actually more significant than it was originally, with the $F_0$ value being far greater than $F_{crit}$ and the $p$-value of $1.18 \\times 10^{-7}$ being far less than the threshold of $0.05$. Based on this, we can conclude that the mean failure times are different."
   ]
  },
  {
   "cell_type": "code",
   "execution_count": 123,
   "metadata": {},
   "outputs": [
    {
     "data": {
      "image/png": "[encoded data removed]",
      "text/plain": [
       "<Figure size 1080x432 with 1 Axes>"
      ]
     },
     "metadata": {
      "needs_background": "light"
     },
     "output_type": "display_data"
    },
    {
     "data": {
      "image/png": "[encoded data removed]",
      "text/plain": [
       "<Figure size 432x288 with 1 Axes>"
      ]
     },
     "metadata": {
      "needs_background": "light"
     },
     "output_type": "display_data"
    }
   ],
   "source": [
    "resid1_transformed = mat_1_transformed - mat_1_transformed_mean\n",
    "resid2_transformed = mat_2_transformed - mat_2_transformed_mean\n",
    "resid3_transformed = mat_3_transformed - mat_3_transformed_mean\n",
    "resid4_transformed = mat_4_transformed - mat_4_transformed_mean\n",
    "resid5_transformed = mat_5_transformed - mat_5_transformed_mean\n",
    "\n",
    "\n",
    "resid_1_x = np.array([mat_1_transformed_mean, mat_1_transformed_mean, mat_1_transformed_mean, mat_1_transformed_mean])\n",
    "resid_2_x = np.array([mat_2_transformed_mean, mat_2_transformed_mean, mat_2_transformed_mean, mat_2_transformed_mean])\n",
    "resid_3_x = np.array([mat_3_transformed_mean, mat_3_transformed_mean, mat_3_transformed_mean, mat_3_transformed_mean])\n",
    "resid_4_x = np.array([mat_4_transformed_mean, mat_4_transformed_mean, mat_4_transformed_mean, mat_4_transformed_mean])\n",
    "resid_5_x = np.array([mat_5_transformed_mean, mat_5_transformed_mean, mat_5_transformed_mean, mat_5_transformed_mean])\n",
    "\n",
    "fig = plt.figure(figsize=(15,6))\n",
    "plt.plot(resid_1_x,resid1_transformed, 'x', label='Material 1')\n",
    "plt.plot(resid_2_x,resid2_transformed, 'o', label='Material 2')\n",
    "plt.plot(resid_3_x,resid3_transformed, 'x', label='Material 3')\n",
    "plt.plot(resid_4_x,resid4_transformed, 'x', label='Material 4')\n",
    "plt.plot(resid_5_x,resid5_transformed, 'x', label='Material 5')\n",
    "plt.title(\"Residuals of transformed values versus Transformed Fitted Values\")\n",
    "plt.ylabel(\"Residual\")\n",
    "plt.xlabel(\"Fitted Value\")\n",
    "plt.legend()\n",
    "plt.show()\n",
    "\n",
    "\n",
    "residuals_transformed = np.hstack((resid1_transformed, resid2_transformed, resid3_transformed, resid4_transformed, resid5_transformed))\n",
    "stats.probplot(residuals_transformed, plot=plt)\n",
    "plt.title(\"Normal Probability Plot of Transformed values\")\n",
    "plt.show()"
   ]
  },
  {
   "cell_type": "markdown",
   "metadata": {},
   "source": [
    "Answer: The ANOVA results are much better with the transformed values. The plots above show the residuals versus fitted values and the normal probability plot of the residuals. As expected, the transformed residuals have a much closer to constant variance and the residuals are much more normally distributed than before. "
   ]
  },
  {
   "cell_type": "markdown",
   "metadata": {},
   "source": [
    "## 3.42\n",
    "\n",
    "(a) Is there a difference in the chemical types? Use α = 0.05.\n",
    "\n",
    "(b) Estimate the variability due to chemical types.\n",
    "\n",
    "(c) Estimate the variability due to random error.\n",
    "\n",
    "(d) Analyze the residuals from this experiment and comment on model adequacy."
   ]
  },
  {
   "cell_type": "code",
   "execution_count": 71,
   "metadata": {},
   "outputs": [],
   "source": [
    "oven_1 = np.array([77.199, 74.466, 92.746, 76.208, 82.876])\n",
    "oven_2 = np.array([80.522, 79.306, 81.914, 80.436, 73.385])\n",
    "oven_3 = np.array([79.417, 78.017, 91.596, 80.802, 80.626])\n",
    "oven_4 = np.array([78.001, 78.358, 77.544, 77.364, 77.386])\n",
    "\n",
    "a = 4\n",
    "n = 5\n",
    "N = a*n"
   ]
  },
  {
   "cell_type": "code",
   "execution_count": null,
   "metadata": {},
   "outputs": [],
   "source": []
  }
 ],
 "metadata": {
  "kernelspec": {
   "display_name": "Python 3",
   "language": "python",
   "name": "python3"
  },
  "language_info": {
   "codemirror_mode": {
    "name": "ipython",
    "version": 3
   },
   "file_extension": ".py",
   "mimetype": "text/x-python",
   "name": "python",
   "nbconvert_exporter": "python",
   "pygments_lexer": "ipython3",
   "version": "3.7.1"
  }
 },
 "nbformat": 4,
 "nbformat_minor": 2
}
