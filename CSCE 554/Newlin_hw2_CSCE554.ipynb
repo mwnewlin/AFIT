{
 "cells": [
  {
   "cell_type": "markdown",
   "metadata": {},
   "source": [
    "# CSCE 554 HW 2\n",
    "# Marvin Newlin\n",
    "# 11 Jul 19"
   ]
  },
  {
   "cell_type": "code",
   "execution_count": 2,
   "metadata": {},
   "outputs": [],
   "source": [
    "import numpy as np\n",
    "import pandas as pd\n",
    "import scipy\n",
    "from scipy import stats\n",
    "import matplotlib.pyplot as plt\n",
    "import pandas\n",
    "import random\n",
    "\n",
    "import matplotlib.pyplot as plt\n",
    "\n",
    "#make plots inline using jupyter magic\n",
    "%matplotlib inline\n",
    "from IPython.display import Markdown as md  #enable markdown within code cell\n",
    "from IPython.display import display, Math, Latex\n",
    "import matplotlib as mpl"
   ]
  },
  {
   "cell_type": "markdown",
   "metadata": {},
   "source": [
    "## 2.1"
   ]
  },
  {
   "cell_type": "markdown",
   "metadata": {},
   "source": [
    "### Solution\n",
    "\n",
    "We have that the standard deviation of the sample data is 3.12\n",
    "\n",
    "Thus, we have that standard deviation, $\\sigma = 3.12$. Variance is calculated as $\\sigma^2$\n",
    "\n",
    "Thus, Variance = $3.12^2 = 9.7344$\n",
    "\n",
    "SE Mean is the standard error of the mean. This value is calculated as $\\frac{s}{\\sqrt{n}}$, where $s$ is the standard deviation and $n$ is the number of samples.\n",
    "\n",
    "Thus, the SE mean is $\\frac{3.12}{\\sqrt{9}} = \\frac{3.12}{3} = 1.04$\n",
    "\n",
    "#### Answer: Variance = 9.7344, SE Mean = 1.04\n",
    "\n"
   ]
  },
  {
   "cell_type": "markdown",
   "metadata": {},
   "source": [
    "## 2.3"
   ]
  },
  {
   "cell_type": "markdown",
   "metadata": {},
   "source": [
    "### Solution\n",
    "\n",
    "We are testing $H_0: \\mu=\\mu_0$ versus $H_1:\\mu \\neq \\mu_0$. Since this is a case of equal or not equal, this is a two-tailed z score case so we have to multply the p-values from the table by 2.\n",
    "\n",
    "#### a\n",
    "$Z_0 = 2.25$\n",
    "Examining the Z-table we see that the value for this Z-score is 0.9878. To get the $p$-value we subtract this value from 1 so $p$-value = (1 - 0.9878)*2 = 0.0244\n",
    "#### Answer: $p$-value = 0.0244\n",
    "\n",
    "#### b\n",
    "$Z_0 = 1.55$\n",
    "Examining the Z-table we see that the value for this Z-score is 0.9394. To get the $p$-value we subtract this value from 1 so $p$-value = (1 - 0.9394)*2 = 0.1212\n",
    "#### Answer: $p$-value = 0.1212\n",
    "\n",
    "#### c \n",
    "$Z_0 = 2.10$\n",
    "Examining the Z-table we see that the value for this Z-score is 0.9821. To get the $p$-value we subtract this value from 1 so $p$-value = (1 - 0.9821)*2 = 0.0358\n",
    "#### Answer: $p$-value = 0.0358\n",
    "\n",
    "#### d\n",
    "$Z_0 = 1.95$\n",
    "Examining the Z-table we see that the value for this Z-score is 0.9744. To get the $p$-value we subtract this value from 1 so $p$-value = (1 - 0.9744)*2 = 0.0512\n",
    "#### Answer: $p$-value = 0.0512\n",
    "\n",
    "#### e\n",
    "$Z_0 = -0.10$\n",
    "Examining the Z-table we see that the value for this Z-score is 0.9394. To get the $p$-value we multiply this value by 2 since it is negative so $p$-value = 0.4602*2 = 0.9204\n",
    "#### Answer: $p$-value = 0.9204"
   ]
  },
  {
   "cell_type": "markdown",
   "metadata": {},
   "source": [
    "## 2.4"
   ]
  },
  {
   "cell_type": "markdown",
   "metadata": {},
   "source": [
    "We are testing $H_0: \\mu=\\mu_0$ versus $H_1:\\mu > \\mu_0$. This is a right-tailed test and means that we are interested in the area under the normal curve to the right. \n",
    "        \n",
    "### a\n",
    "$Z_0 = 2.45$\n",
    "\n",
    "Examining the Z-table we see that the value for this Z-score is 0.9929. To get the $p$-value we subtract this value from 1 so $p$-value = (1 - 0.9929) = 0.0142\n",
    "#### Answer: $p$-value = 0.0142\n",
    "\n",
    "### b\n",
    "$Z_0 = -1.53$\n",
    "Examining the Z-table we see that the value for this Z-score is 0.0643. Since this is a right tailed test and the Z-value is negative, the $p$-value is the score, so #### Answer: $p$-value = 0.0643\n",
    "\n",
    "### c\n",
    "$Z_0 = 2.15$\n",
    "Examining the Z-table we see that the value for this Z-score is 0.9842. To get the $p$-value we subtract this value from 1 so $p$-value = (1 - 0.9842) = 0.0158\n",
    "#### Answer: $p$-value = 0.0158\n",
    "\n",
    "### d\n",
    "$Z_0 = 1.95$\n",
    "Examining the Z-table we see that the value for this Z-score is 0.9744. To get the $p$-value we subtract this value from 1 so $p$-value = (1 - 0.9744) = 0.0256\n",
    "#### Answer: $p$-value = 0.0256\n",
    "\n",
    "### e\n",
    "$Z_0 = -0.25$\n",
    "Examining the Z-table we see that the value for this Z-score is 0.4013. Since this is a right tailed test and the Z-value is negative, the $p$-value is the score, so #### Answer: $p$-value = 0.4013\n",
    "\n"
   ]
  },
  {
   "cell_type": "markdown",
   "metadata": {},
   "source": [
    "## 2.22\n"
   ]
  },
  {
   "cell_type": "markdown",
   "metadata": {},
   "source": [
    "### a \n",
    "\n",
    "Null Hypothesis, $H_0 : \\mu = 120$\n",
    "\n",
    "Alternative Hypothesis, $H_1 : \\mu > 120$"
   ]
  },
  {
   "cell_type": "markdown",
   "metadata": {},
   "source": [
    "### b\n",
    "\n",
    "Since the number of samples is less than 30, we use a one tailed t-test to test our hypotheses. "
   ]
  },
  {
   "cell_type": "code",
   "execution_count": 3,
   "metadata": {},
   "outputs": [
    {
     "data": {
      "text/markdown": [
       "Mean number of days: 131.00"
      ],
      "text/plain": [
       "<IPython.core.display.Markdown object>"
      ]
     },
     "metadata": {},
     "output_type": "display_data"
    },
    {
     "data": {
      "text/markdown": [
       "t-score: 1.78"
      ],
      "text/plain": [
       "<IPython.core.display.Markdown object>"
      ]
     },
     "metadata": {},
     "output_type": "display_data"
    },
    {
     "data": {
      "text/markdown": [
       "Degrees of Freedom: 9"
      ],
      "text/plain": [
       "<IPython.core.display.Markdown object>"
      ]
     },
     "metadata": {},
     "output_type": "display_data"
    }
   ],
   "source": [
    "alpha = 0.01\n",
    "days = np.array([108, 124, 124, 106, 115, 138, 163, 159, 134, 139])\n",
    "n = days.size\n",
    "days_mean = np.mean(days)\n",
    "days_std = np.std(days)\n",
    "display(md('Mean number of days: {:.2f}'.format(days_mean)))\n",
    "t_score_days = scipy.stats.ttest_1samp(days, 120)\n",
    "display(md('t-score: {:.2f}'.format(t_score_days[0])))\n",
    "display(md('Degrees of Freedom: {}'.format(n-1)))"
   ]
  },
  {
   "cell_type": "markdown",
   "metadata": {},
   "source": [
    "Examining the table for a one-tailed t-test with $\\alpha = 0.01$ and df of 9, we see that the value is 2.821.\n",
    "\n",
    "This means that the critical t-value for this test is 2.821. \n",
    "\n",
    "Our t-score of 1.78 < 2.821, so the result is not statistically significant. "
   ]
  },
  {
   "cell_type": "markdown",
   "metadata": {},
   "source": [
    "## c"
   ]
  },
  {
   "cell_type": "markdown",
   "metadata": {},
   "source": [
    "The python package for calculating t-score also provides the p-value. The p-value provided is for the two-tailed test, so we divide by 2 to get the one tailed p value. p-value is shown below."
   ]
  },
  {
   "cell_type": "code",
   "execution_count": 4,
   "metadata": {},
   "outputs": [
    {
     "data": {
      "text/markdown": [
       "p-value: 0.0544"
      ],
      "text/plain": [
       "<IPython.core.display.Markdown object>"
      ]
     },
     "metadata": {},
     "output_type": "display_data"
    }
   ],
   "source": [
    "p_value = t_score_days[1]/2\n",
    "display(md('p-value: {:.4f}'.format(p_value)))"
   ]
  },
  {
   "cell_type": "markdown",
   "metadata": {},
   "source": [
    "## d"
   ]
  },
  {
   "cell_type": "markdown",
   "metadata": {},
   "source": [
    "To construct a 99% confidence interval, we know that 99% of $t_0$ falls between the rejection limits of [-2.821,2.821]. "
   ]
  },
  {
   "cell_type": "code",
   "execution_count": 5,
   "metadata": {},
   "outputs": [
    {
     "data": {
      "text/markdown": [
       "99% Confidence interval: [114.459,147.541]"
      ],
      "text/plain": [
       "<IPython.core.display.Markdown object>"
      ]
     },
     "metadata": {},
     "output_type": "display_data"
    }
   ],
   "source": [
    "t_critical = 2.821\n",
    "lower = 131 - (days_std/np.sqrt(n))*t_critical\n",
    "upper = 131 + (days_std/np.sqrt(n))*t_critical\n",
    "display(md(\"99% Confidence interval: [{:.3f},{:.3f}]\".format(lower,upper)))"
   ]
  },
  {
   "cell_type": "markdown",
   "metadata": {},
   "source": [
    "## 2.27"
   ]
  },
  {
   "cell_type": "markdown",
   "metadata": {},
   "source": [
    "$\\sigma_1 = \\sigma_2 = 1.0$\n",
    "\n",
    "$n_1 = 10$\n",
    "\n",
    "$n_2 = 12$\n",
    "\n",
    "$\\bar{y_1} = 162.5$\n",
    "\n",
    "$\\bar{y_1} = 155.0$\n",
    "\n",
    "For this test, we need plastic 1 to have a breaking strength greater than plastic 2 + 10. This makes for our hypothese as the following\n",
    "\n",
    "$H_0 : bs_1 <= bs_2 + 10$\n",
    "$H_a : bs_1 > bs_2 + 10$\n",
    "\n",
    "To test these hypotheses, we will use a 2 sample one-tailed t-test. Since we are using two different types of plastic, we can assume that the means are independent.\n",
    "\n",
    "The two sample t-test is given by the equation: $$ t_0 = \\frac{\\bar{y_1} - \\bar{y_2}}{S_p\\sqrt(\\frac{1}{n_1} + \\frac{1}{n_2})} $$"
   ]
  },
  {
   "cell_type": "code",
   "execution_count": 6,
   "metadata": {},
   "outputs": [
    {
     "data": {
      "text/markdown": [
       "$t_0 = 17.516$"
      ],
      "text/plain": [
       "<IPython.core.display.Markdown object>"
      ]
     },
     "metadata": {},
     "output_type": "display_data"
    }
   ],
   "source": [
    "n1 = 10\n",
    "n2 = 12\n",
    "s1 = 1\n",
    "s2 = 1\n",
    "y1_bar = 162.5\n",
    "y2_bar = 155.0\n",
    "\n",
    "\n",
    "s_var_pooled = ((n1-1)*s1**2 + (n2-1)*s2**2)/(n1+n2-2)\n",
    "sp = np.sqrt(s_var_pooled)\n",
    "\n",
    "\n",
    "t0 = (y1_bar - y2_bar)/(sp*np.sqrt((1/n1) + (1/n2)))\n",
    "display(md(r'$t_0 = {:.3f}$'.format(t0)))"
   ]
  },
  {
   "cell_type": "markdown",
   "metadata": {},
   "source": [
    "To find the 99% confidence interval, we need to find the interval such that \n",
    "\n",
    "$$ \\bar{y_1} - \\bar{y_2} - t_{crit}*S_p\\sqrt{\\frac{1}{n_1} + \\frac{1}{n_2}}\\leq \\mu_1 - \\mu_2 \\leq \\bar{y_1} - \\bar{y_2} + t_{crit}*S_p\\sqrt{\\frac{1}{n_1} + \\frac{1}{n_2}}$$\n",
    "\n",
    "Where $t_{crit} = t_{\\alpha,n_1 + n_2-2}$\n",
    "\n",
    "For our values, $t_{crit} = t_{0.01,20} = 2.528$"
   ]
  },
  {
   "cell_type": "code",
   "execution_count": 7,
   "metadata": {},
   "outputs": [
    {
     "data": {
      "text/markdown": [
       "99% confidence interval for sample mean difference: [6.418, 8.582]"
      ],
      "text/plain": [
       "<IPython.core.display.Markdown object>"
      ]
     },
     "metadata": {},
     "output_type": "display_data"
    }
   ],
   "source": [
    "t_crit = 2.528\n",
    "\n",
    "sample_mean_diff = y1_bar - y2_bar\n",
    "\n",
    "lower = sample_mean_diff - t_crit*sp*np.sqrt((1/n1)+(1/n2))\n",
    "upper = sample_mean_diff + t_crit*sp*np.sqrt((1/n1)+(1/n2))\n",
    "\n",
    "display(md('99% confidence interval for sample mean difference: [{:.3f}, {:.3f}]'.format(lower, upper)))"
   ]
  },
  {
   "cell_type": "markdown",
   "metadata": {},
   "source": [
    "#### Answer: Given that 10 is not in the 99% confidence interval, the company should not use plastic 1. "
   ]
  },
  {
   "cell_type": "markdown",
   "metadata": {},
   "source": [
    "## 2.31"
   ]
  },
  {
   "cell_type": "code",
   "execution_count": 8,
   "metadata": {},
   "outputs": [],
   "source": [
    "temp95 = np.array([11.176, 7.089, 8.097, 11.739, 11.291, 10.759, 6.467, 8.315])\n",
    "temp100 = np.array([5.263, 6.748, 7.461, 7.015, 8.133, 7.418, 3.772, 8.963])"
   ]
  },
  {
   "cell_type": "markdown",
   "metadata": {},
   "source": [
    "### a\n",
    "\n",
    "Let $l_1$ be the mean thickness of the 95 celcius list and $l_2$ be the mean of the 100 celcius list.\n",
    "\n",
    "$H_0: l_1 >= l_2$\n",
    "\n",
    "$H_a: l_1 < l_2 $\n",
    "\n",
    "To test this hypothesis, we use a one-tailed, two sample t-test."
   ]
  },
  {
   "cell_type": "code",
   "execution_count": 9,
   "metadata": {},
   "outputs": [
    {
     "data": {
      "text/markdown": [
       "t-score: -2.675"
      ],
      "text/plain": [
       "<IPython.core.display.Markdown object>"
      ]
     },
     "metadata": {},
     "output_type": "display_data"
    },
    {
     "data": {
      "text/markdown": [
       "Degrees of Freedom: 14"
      ],
      "text/plain": [
       "<IPython.core.display.Markdown object>"
      ]
     },
     "metadata": {},
     "output_type": "display_data"
    },
    {
     "data": {
      "text/markdown": [
       "Critical t-value: $t(0.05,14)$ 1.761"
      ],
      "text/plain": [
       "<IPython.core.display.Markdown object>"
      ]
     },
     "metadata": {},
     "output_type": "display_data"
    }
   ],
   "source": [
    "alpha = 0.05\n",
    "n1 = temp100.size\n",
    "n2 = temp95.size\n",
    "df = n1+n2-2\n",
    "t_crit = 1.761\n",
    "t_score = stats.ttest_ind(temp100,temp95)\n",
    "display(md(\"t-score: {:.3f}\".format(t_score[0])))\n",
    "display(md(\"Degrees of Freedom: {}\".format(df)))\n",
    "display(md(r\"Critical t-value: $t(0.05,14)$ {:.3f}\".format(t_crit)))\n"
   ]
  },
  {
   "cell_type": "markdown",
   "metadata": {},
   "source": [
    "Since $|-2.675| > 1.761$ the observed difference is significant."
   ]
  },
  {
   "cell_type": "markdown",
   "metadata": {},
   "source": [
    "### b\n",
    "\n",
    "The two-sided p-value is calculated as part of the t-score from above, so to get the one-sided p-value we divide by 2. "
   ]
  },
  {
   "cell_type": "code",
   "execution_count": 10,
   "metadata": {},
   "outputs": [
    {
     "data": {
      "text/markdown": [
       "p-value: 0.0091"
      ],
      "text/plain": [
       "<IPython.core.display.Markdown object>"
      ]
     },
     "metadata": {},
     "output_type": "display_data"
    }
   ],
   "source": [
    "p_value = t_score[1]/2\n",
    "display(md(\"p-value: {:.4f}\".format(p_value)))"
   ]
  },
  {
   "cell_type": "markdown",
   "metadata": {},
   "source": [
    "### c\n",
    "\n",
    "To calculate the 95% confidence interval for the difference in means we do the following\n",
    "\n",
    "$$ \\bar{y_1} - \\bar{y_2} - t_{crit}*S_p\\sqrt{\\frac{1}{n_1} + \\frac{1}{n_2}}\\leq \\mu_1 - \\mu_2 \\leq \\bar{y_1} - \\bar{y_2} + t_{crit}*S_p\\sqrt{\\frac{1}{n_1} + \\frac{1}{n_2}}$$\n",
    "\n",
    "Where $t_{crit} = t_{\\alpha,n_1+n_2-2}$\n"
   ]
  },
  {
   "cell_type": "code",
   "execution_count": 11,
   "metadata": {},
   "outputs": [
    {
     "data": {
      "text/markdown": [
       "#### Answer: 95% confidence interval for sample mean difference: [5.948, 9.052]"
      ],
      "text/plain": [
       "<IPython.core.display.Markdown object>"
      ]
     },
     "metadata": {},
     "output_type": "display_data"
    }
   ],
   "source": [
    "y1_bar = temp100.mean()\n",
    "y2_bar = temp95.mean()\n",
    "s1 = temp100.std()\n",
    "s2 = temp95.std()\n",
    "s_var_pooled = ((n1-1)*s1**2 + (n2-1)*s2**2)/(n1+n2-2)\n",
    "sp = np.sqrt(s_var_pooled)\n",
    "\n",
    "lower = sample_mean_diff - t_crit*sp*np.sqrt((1/n1)+(1/n2))\n",
    "upper = sample_mean_diff + t_crit*sp*np.sqrt((1/n1)+(1/n2))\n",
    "\n",
    "display(md('#### Answer: 95% confidence interval for sample mean difference: [{:.3f}, {:.3f}]'.format(lower, upper)))"
   ]
  },
  {
   "cell_type": "markdown",
   "metadata": {},
   "source": [
    "The practical interpretation of this interval is that the 95% of the mean thicknesses of the wafers baked at the higher temperatures will fall be somewhere in the above interval less than the wafers baked at the lower temperature. We know that it is less because the t-score was negative."
   ]
  },
  {
   "cell_type": "markdown",
   "metadata": {},
   "source": [
    "###  d"
   ]
  },
  {
   "cell_type": "code",
   "execution_count": 12,
   "metadata": {},
   "outputs": [
    {
     "data": {
      "image/png": "[encoded data removed]",
      "text/plain": [
       "<Figure size 720x216 with 1 Axes>"
      ]
     },
     "metadata": {
      "needs_background": "light"
     },
     "output_type": "display_data"
    }
   ],
   "source": [
    "fig = plt.figure(figsize=(10,3))\n",
    "ax = plt.subplot()\n",
    "y = np.zeros((8,2))\n",
    "ax.plot(temp95,y,'bo')\n",
    "ax.plot(temp100,y,'r+')\n",
    "\n",
    "plt.yticks([])\n",
    "plt.xlabel(\"Wafer thicknesses for 95 and 100 degrees\")\n",
    "\n",
    "plt.show()"
   ]
  },
  {
   "cell_type": "markdown",
   "metadata": {},
   "source": [
    "## e"
   ]
  },
  {
   "cell_type": "code",
   "execution_count": 13,
   "metadata": {},
   "outputs": [
    {
     "data": {
      "image/png": "[encoded data removed]",
      "text/plain": [
       "<Figure size 432x288 with 1 Axes>"
      ]
     },
     "metadata": {
      "needs_background": "light"
     },
     "output_type": "display_data"
    }
   ],
   "source": [
    "from statsmodels.graphics.gofplots import qqplot\n",
    "qqplot(temp95,line='s')\n",
    "plt.show()"
   ]
  },
  {
   "cell_type": "code",
   "execution_count": 14,
   "metadata": {},
   "outputs": [
    {
     "data": {
      "image/png": "[encoded data removed]",
      "text/plain": [
       "<Figure size 432x288 with 1 Axes>"
      ]
     },
     "metadata": {
      "needs_background": "light"
     },
     "output_type": "display_data"
    }
   ],
   "source": [
    "qqplot(temp100,line='s')\n",
    "plt.show()"
   ]
  },
  {
   "cell_type": "markdown",
   "metadata": {},
   "source": [
    "#### Answer: The top plot above shows the distribution of the 95 degree values. The 100 degree values are shown below it. The 100 degree values appear to fit the line slightly better and so are more normal than the 95 degree values but both approximately fit the line."
   ]
  },
  {
   "cell_type": "markdown",
   "metadata": {},
   "source": [
    "### f"
   ]
  },
  {
   "cell_type": "markdown",
   "metadata": {},
   "source": [
    "Power = $1 - \\beta$ = P(reject $H_0$ | $H_0$ is false)\n",
    "\n",
    "To find the power, we use a package from statsmodels called solve_power that provides power given the other 3 parameters. We assume alpha = 0.05\n",
    "\n"
   ]
  },
  {
   "cell_type": "code",
   "execution_count": 15,
   "metadata": {},
   "outputs": [
    {
     "data": {
      "text/markdown": [
       "#### Answer: Power = 0.7513"
      ],
      "text/plain": [
       "<IPython.core.display.Markdown object>"
      ]
     },
     "metadata": {},
     "output_type": "display_data"
    }
   ],
   "source": [
    "from statsmodels.stats.power import TTestIndPower\n",
    "analysis = TTestIndPower()\n",
    "effect_size = 2.5/sp\n",
    "alpha = 0.05\n",
    "power = analysis.power(effect_size=effect_size, nobs1=n1, alpha=alpha, ratio=1)\n",
    "display(md('#### Answer: Power = {:.4f}'.format(power)))"
   ]
  },
  {
   "cell_type": "markdown",
   "metadata": {},
   "source": [
    "### g\n",
    "\n",
    "To calculate the sample size we use the solve_power function from statsmodels.stats.power. This function returns the parameter for which no value is provided given the thre other parameters listed below. We assume alpha = 0.05"
   ]
  },
  {
   "cell_type": "code",
   "execution_count": 16,
   "metadata": {},
   "outputs": [
    {
     "data": {
      "text/markdown": [
       "#### Answer: Necessary Sample Size = 60.004952074251754"
      ],
      "text/plain": [
       "<IPython.core.display.Markdown object>"
      ]
     },
     "metadata": {},
     "output_type": "display_data"
    }
   ],
   "source": [
    "effect_size = 1.5/sp #Normalized difference in means\n",
    "alpha = 0.05\n",
    "power = 0.9\n",
    "\n",
    "sample_size_1 = analysis.solve_power(effect_size=effect_size, nobs1=None, alpha=alpha, power=power, ratio=1.0, alternative='two-sided')\n",
    "\n",
    "sample_size = sample_size_1 * 2 # solve_power gives us n1 and since n1 = n2 we double to get full sample size\n",
    "\n",
    "display(md('#### Answer: Necessary Sample Size = {}'.format(sample_size)))"
   ]
  },
  {
   "cell_type": "markdown",
   "metadata": {},
   "source": [
    "## 2.35\n"
   ]
  },
  {
   "cell_type": "code",
   "execution_count": 22,
   "metadata": {},
   "outputs": [],
   "source": [
    "bo_1 = np.array([6.08, 6.22, 7.99, 7.44, 6.48, 7.99, 6.32, 7.6, 6.03, 7.52])\n",
    "bo_2 = np.array([5.73, 5.80, 8.42, 6.84, 6.43, 8.76, 6.32, 7.62, 6.59, 7.67])\n",
    "bo_diff = bo_1 - bo_1"
   ]
  },
  {
   "cell_type": "markdown",
   "metadata": {},
   "source": [
    "### a"
   ]
  },
  {
   "cell_type": "code",
   "execution_count": 19,
   "metadata": {},
   "outputs": [
    {
     "data": {
      "image/png": "[encoded data removed]",
      "text/plain": [
       "<Figure size 432x288 with 1 Axes>"
      ]
     },
     "metadata": {
      "needs_background": "light"
     },
     "output_type": "display_data"
    }
   ],
   "source": [
    "qqplot(bo_1,line='s')\n",
    "plt.show()"
   ]
  },
  {
   "cell_type": "code",
   "execution_count": 21,
   "metadata": {},
   "outputs": [
    {
     "data": {
      "image/png": "[encoded data removed]",
      "text/plain": [
       "<Figure size 432x288 with 1 Axes>"
      ]
     },
     "metadata": {
      "needs_background": "light"
     },
     "output_type": "display_data"
    }
   ],
   "source": [
    "qqplot(bo_2, line='s')\n",
    "plt.show()"
   ]
  },
  {
   "cell_type": "markdown",
   "metadata": {},
   "source": [
    "#### Answer: Based on the above plots, it appears that the birth order 2 list is more normally distributed than the birth order 1. However, the birth order 1 is close enough to the line that the normal distribution assumption is okay."
   ]
  },
  {
   "cell_type": "markdown",
   "metadata": {},
   "source": [
    "### b"
   ]
  },
  {
   "cell_type": "code",
   "execution_count": null,
   "metadata": {},
   "outputs": [],
   "source": []
  },
  {
   "cell_type": "markdown",
   "metadata": {},
   "source": [
    "## 2.47"
   ]
  },
  {
   "cell_type": "markdown",
   "metadata": {},
   "source": [
    "## 2.59"
   ]
  },
  {
   "cell_type": "markdown",
   "metadata": {},
   "source": [
    "## 2.60"
   ]
  },
  {
   "cell_type": "code",
   "execution_count": null,
   "metadata": {},
   "outputs": [],
   "source": []
  }
 ],
 "metadata": {
  "kernelspec": {
   "display_name": "Python 3",
   "language": "python",
   "name": "python3"
  },
  "language_info": {
   "codemirror_mode": {
    "name": "ipython",
    "version": 3
   },
   "file_extension": ".py",
   "mimetype": "text/x-python",
   "name": "python",
   "nbconvert_exporter": "python",
   "pygments_lexer": "ipython3",
   "version": "3.7.1"
  }
 },
 "nbformat": 4,
 "nbformat_minor": 2
}
