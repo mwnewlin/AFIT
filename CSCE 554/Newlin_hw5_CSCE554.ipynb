{
 "cells": [
  {
   "cell_type": "markdown",
   "metadata": {},
   "source": [
    "# CSCE 554 HW 4\n",
    "# Marvin Newlin\n",
    "# 13 Aug 19"
   ]
  },
  {
   "cell_type": "code",
   "execution_count": 1,
   "metadata": {},
   "outputs": [],
   "source": [
    "import numpy as np\n",
    "import pandas as pd\n",
    "import scipy\n",
    "from scipy import stats\n",
    "import matplotlib.pyplot as plt\n",
    "import pandas\n",
    "import random\n",
    "\n",
    "import matplotlib.pyplot as plt\n",
    "\n",
    "#make plots inline using jupyter magic\n",
    "%matplotlib inline\n",
    "from IPython.display import Markdown as md  #enable markdown within code cell\n",
    "from IPython.display import display, Math, Latex\n",
    "import matplotlib as mpl\n",
    "\n",
    "from sklearn.linear_model import LinearRegression"
   ]
  },
  {
   "cell_type": "markdown",
   "metadata": {},
   "source": [
    "## 6.2\n",
    "\n",
    "### Answer\n",
    "In a $2^k$ factorial design there are $2^k(n-1)$ error degrees of freedom. Thus, for a $2^3$ factorial design with $n=2$ replicates, there are $8(2-1) = 8$ error degrees of freedom. Thus, the answer is $\\textbf{e}$."
   ]
  },
  {
   "cell_type": "markdown",
   "metadata": {},
   "source": [
    "## 6.5, a, b, and d"
   ]
  },
  {
   "cell_type": "code",
   "execution_count": null,
   "metadata": {},
   "outputs": [],
   "source": [
    "ones = np.array([22,31,25])\n",
    "a = np.array([32,43,29])\n",
    "b = np.array([35,34,50])\n",
    "c = np.array([55,47,46])\n",
    "ab = np.array([44,45,38])\n",
    "ac = np.array([40,37,36])\n",
    "bc = np.array([60,50,54])\n",
    "abc = np.array([39,41,47])\n",
    "n = 3\n",
    "\n",
    "total = np.array([ones, a, b, c, ab, ac, bc, abc])\n",
    "total_mean = total.mean()\n",
    "\n",
    "\n",
    "# Contrasts\n",
    "contrast_A = (np.sum(ab-b)+np.sum(a-one))\n",
    "contrast_B = (np.sum(ab)+np.sum(b)-np.sum(a)-np.sum(one))\n",
    "contrast_C = \n",
    "contrast_AB = (np.sum(ab)+np.sum(one)-np.sum(a)-np.sum(b))\n",
    "\n",
    "# Sum of Squares\n",
    "SSA = (contrast_A**2)/(4*n)\n",
    "SSB = (contrast_B**2)/(4*n)\n",
    "SSAB = (contrast_AB**2)/(4*n)"
   ]
  },
  {
   "cell_type": "markdown",
   "metadata": {},
   "source": [
    "## 7.1"
   ]
  },
  {
   "cell_type": "markdown",
   "metadata": {},
   "source": [
    "## 6.11, a, b, e, and f"
   ]
  },
  {
   "cell_type": "markdown",
   "metadata": {},
   "source": [
    "## 7.5"
   ]
  },
  {
   "cell_type": "markdown",
   "metadata": {},
   "source": [
    "## 7.21"
   ]
  },
  {
   "cell_type": "markdown",
   "metadata": {},
   "source": [
    "## 8.3"
   ]
  },
  {
   "cell_type": "markdown",
   "metadata": {},
   "source": [
    "## 8.10"
   ]
  }
 ],
 "metadata": {
  "kernelspec": {
   "display_name": "Python 3",
   "language": "python",
   "name": "python3"
  },
  "language_info": {
   "codemirror_mode": {
    "name": "ipython",
    "version": 3
   },
   "file_extension": ".py",
   "mimetype": "text/x-python",
   "name": "python",
   "nbconvert_exporter": "python",
   "pygments_lexer": "ipython3",
   "version": "3.7.3"
  }
 },
 "nbformat": 4,
 "nbformat_minor": 2
}
