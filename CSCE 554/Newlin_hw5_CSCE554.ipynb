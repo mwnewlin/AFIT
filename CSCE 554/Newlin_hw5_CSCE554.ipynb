{
 "cells": [
  {
   "cell_type": "markdown",
   "metadata": {},
   "source": [
    "# CSCE 554 HW 4\n",
    "# Marvin Newlin\n",
    "# 13 Aug 19"
   ]
  },
  {
   "cell_type": "code",
   "execution_count": 1,
   "metadata": {},
   "outputs": [],
   "source": [
    "import numpy as np\n",
    "import pandas as pd\n",
    "import scipy\n",
    "from scipy import stats\n",
    "import matplotlib.pyplot as plt\n",
    "import pandas\n",
    "import random\n",
    "\n",
    "import matplotlib.pyplot as plt\n",
    "\n",
    "#make plots inline using jupyter magic\n",
    "%matplotlib inline\n",
    "from IPython.display import Markdown as md  #enable markdown within code cell\n",
    "from IPython.display import display, Math, Latex\n",
    "import matplotlib as mpl\n",
    "\n",
    "from sklearn.linear_model import LinearRegression\n",
    "import seaborn\n",
    "import probscale"
   ]
  },
  {
   "cell_type": "markdown",
   "metadata": {},
   "source": [
    "## 6.2\n",
    "\n",
    "### Answer\n",
    "In a $2^k$ factorial design there are $2^k(n-1)$ error degrees of freedom. Thus, for a $2^3$ factorial design with $n=2$ replicates, there are $8(2-1) = 8$ error degrees of freedom. Thus, the answer is $\\textbf{e}$."
   ]
  },
  {
   "cell_type": "markdown",
   "metadata": {},
   "source": [
    "## 6.5, a, b, and d\n",
    "\n",
    "### a"
   ]
  },
  {
   "cell_type": "code",
   "execution_count": 18,
   "metadata": {},
   "outputs": [
    {
     "name": "stdout",
     "output_type": "stream",
     "text": [
      " \tEffect Estimate\tSum of Squares\n",
      "A\t     0.333\t     0.667\n",
      "B\t    11.333\t   770.667\n",
      "C\t     6.833\t   280.167\n",
      "AB\t    -1.667\t    16.667\n",
      "AC\t    -8.833\t    -4.417\n",
      "BC\t    -2.833\t    -1.417\n",
      "ABC\t    -2.167\t    -1.083\n"
     ]
    },
    {
     "name": "stderr",
     "output_type": "stream",
     "text": [
      "C:\\Users\\Marvin\\Anaconda3\\lib\\site-packages\\probscale\\probscale.py:44: RuntimeWarning: invalid value encountered in sign\n",
      "  return numpy.sign(z) * numpy.sqrt(numpy.sqrt(_b**2 - _c) - _b)\n",
      "C:\\Users\\Marvin\\Anaconda3\\lib\\site-packages\\probscale\\probscale.py:32: RuntimeWarning: invalid value encountered in sign\n",
      "  return numpy.sign(x) * numpy.sqrt(1.0 - numpy.exp(guts))\n"
     ]
    },
    {
     "data": {
      "image/png": "[encoded data removed]",
      "text/plain": [
       "<Figure size 432x288 with 1 Axes>"
      ]
     },
     "metadata": {
      "needs_background": "light"
     },
     "output_type": "display_data"
    },
    {
     "data": {
      "text/html": [
       "<div>\n",
       "<style scoped>\n",
       "    .dataframe tbody tr th:only-of-type {\n",
       "        vertical-align: middle;\n",
       "    }\n",
       "\n",
       "    .dataframe tbody tr th {\n",
       "        vertical-align: top;\n",
       "    }\n",
       "\n",
       "    .dataframe thead th {\n",
       "        text-align: right;\n",
       "    }\n",
       "</style>\n",
       "<table border=\"1\" class=\"dataframe\">\n",
       "  <thead>\n",
       "    <tr style=\"text-align: right;\">\n",
       "      <th></th>\n",
       "      <th>Sum of Squares</th>\n",
       "      <th>Degrees of Freedom</th>\n",
       "      <th>Mean Square</th>\n",
       "      <th>F0</th>\n",
       "      <th>F Threshold</th>\n",
       "      <th>p-value</th>\n",
       "    </tr>\n",
       "  </thead>\n",
       "  <tbody>\n",
       "    <tr>\n",
       "      <th>Cutting Speed (A)</th>\n",
       "      <td>0.666667</td>\n",
       "      <td>1.0</td>\n",
       "      <td>0.666667</td>\n",
       "      <td>0.0103151</td>\n",
       "      <td>4.494</td>\n",
       "      <td>0.920365</td>\n",
       "    </tr>\n",
       "    <tr>\n",
       "      <th>Tool Geometry (B)</th>\n",
       "      <td>770.666667</td>\n",
       "      <td>1.0</td>\n",
       "      <td>770.667</td>\n",
       "      <td>11.9242</td>\n",
       "      <td>4.494</td>\n",
       "      <td>0.00327174</td>\n",
       "    </tr>\n",
       "    <tr>\n",
       "      <th>Cutting Angle (C)</th>\n",
       "      <td>280.166667</td>\n",
       "      <td>1.0</td>\n",
       "      <td>280.167</td>\n",
       "      <td>4.33492</td>\n",
       "      <td>4.494</td>\n",
       "      <td>0.0537498</td>\n",
       "    </tr>\n",
       "    <tr>\n",
       "      <th>AB</th>\n",
       "      <td>16.666667</td>\n",
       "      <td>1.0</td>\n",
       "      <td>16.6667</td>\n",
       "      <td>0.257877</td>\n",
       "      <td>4.494</td>\n",
       "      <td>0.618511</td>\n",
       "    </tr>\n",
       "    <tr>\n",
       "      <th>AC</th>\n",
       "      <td>-4.416667</td>\n",
       "      <td>1.0</td>\n",
       "      <td>-4.41667</td>\n",
       "      <td>-0.0683375</td>\n",
       "      <td>4.494</td>\n",
       "      <td>1</td>\n",
       "    </tr>\n",
       "    <tr>\n",
       "      <th>BC</th>\n",
       "      <td>-1.416667</td>\n",
       "      <td>1.0</td>\n",
       "      <td>-1.41667</td>\n",
       "      <td>-0.0219196</td>\n",
       "      <td>4.494</td>\n",
       "      <td>1</td>\n",
       "    </tr>\n",
       "    <tr>\n",
       "      <th>ABC</th>\n",
       "      <td>-1.083333</td>\n",
       "      <td>1.0</td>\n",
       "      <td>-1.08333</td>\n",
       "      <td>-0.016762</td>\n",
       "      <td>4.494</td>\n",
       "      <td>1</td>\n",
       "    </tr>\n",
       "    <tr>\n",
       "      <th>Error</th>\n",
       "      <td>1034.083333</td>\n",
       "      <td>16.0</td>\n",
       "      <td>64.6302</td>\n",
       "      <td></td>\n",
       "      <td></td>\n",
       "      <td></td>\n",
       "    </tr>\n",
       "    <tr>\n",
       "      <th>Total</th>\n",
       "      <td>2095.333333</td>\n",
       "      <td>21.0</td>\n",
       "      <td></td>\n",
       "      <td></td>\n",
       "      <td></td>\n",
       "      <td></td>\n",
       "    </tr>\n",
       "  </tbody>\n",
       "</table>\n",
       "</div>"
      ],
      "text/plain": [
       "                   Sum of Squares  Degrees of Freedom Mean Square         F0  \\\n",
       "Cutting Speed (A)        0.666667                 1.0    0.666667  0.0103151   \n",
       "Tool Geometry (B)      770.666667                 1.0     770.667    11.9242   \n",
       "Cutting Angle (C)      280.166667                 1.0     280.167    4.33492   \n",
       "AB                      16.666667                 1.0     16.6667   0.257877   \n",
       "AC                      -4.416667                 1.0    -4.41667 -0.0683375   \n",
       "BC                      -1.416667                 1.0    -1.41667 -0.0219196   \n",
       "ABC                     -1.083333                 1.0    -1.08333  -0.016762   \n",
       "Error                 1034.083333                16.0     64.6302              \n",
       "Total                 2095.333333                21.0                          \n",
       "\n",
       "                  F Threshold     p-value  \n",
       "Cutting Speed (A)       4.494    0.920365  \n",
       "Tool Geometry (B)       4.494  0.00327174  \n",
       "Cutting Angle (C)       4.494   0.0537498  \n",
       "AB                      4.494    0.618511  \n",
       "AC                      4.494           1  \n",
       "BC                      4.494           1  \n",
       "ABC                     4.494           1  \n",
       "Error                                      \n",
       "Total                                      "
      ]
     },
     "metadata": {},
     "output_type": "display_data"
    }
   ],
   "source": [
    "ones = np.array([22,31,25])\n",
    "a = np.array([32,43,29])\n",
    "b = np.array([35,34,50])\n",
    "ab = np.array([55,47,46])\n",
    "c = np.array([44,45,38])\n",
    "ac = np.array([40,37,36])\n",
    "bc = np.array([60,50,54])\n",
    "abc = np.array([39,41,47])\n",
    "\n",
    "n = 3\n",
    "k = 3\n",
    "alpha = 0.05\n",
    "\n",
    "total = np.array([ones, a, b, c, ab, ac, bc, abc])\n",
    "total_mean = np.mean(total)\n",
    "\n",
    "# Contrasts\n",
    "contrast_A =  np.sum(a - ones + ab - b + ac - c + abc - bc)\n",
    "contrast_B =  np.sum(b - ones - a + ab - ac - c + bc + abc)\n",
    "contrast_C =  np.sum(c + ac + bc + abc - ones - a - b -ab)\n",
    "contrast_AB = np.sum(ab - a - b + ones + abc - bc - ac + c)\n",
    "contrast_AC = np.sum(ones - a + b - ab - c + ac - bc + abc)\n",
    "contrast_BC = np.sum(ones + a - b - ab - c - ac + bc + abc)\n",
    "contrast_ABC= np.sum(abc - bc - ac + c - ab + b + a - ones)\n",
    "\n",
    "# Sum of Squares\n",
    "SSA = (contrast_A**2)/(n*np.power(2,k))\n",
    "SSB = (contrast_B**2)/(n*np.power(2,k))\n",
    "SSAB = (contrast_AB**2)/(n*np.power(2,k))\n",
    "SSC = (contrast_C**2)/(n*np.power(2,k))\n",
    "SSAC = (contrast_AC)/(n*np.power(2,k))\n",
    "SSBC = (contrast_BC)/(n*np.power(2,k))\n",
    "SSABC = (contrast_ABC)/(n*np.power(2,k))\n",
    "SST = np.sum(np.square(total - total_mean))\n",
    "SSE = SST - SSA - SSB - SSAB - SSC - SSAC - SSBC - SSABC\n",
    "sum_squares = np.array([SSA, SSB, SSC, SSAB, SSAC, SSBC, SSABC, SSE, SST])\n",
    "\n",
    "effect_A = contrast_A/(4*n)\n",
    "effect_B = contrast_B/(4*n)\n",
    "effect_C = contrast_C/(4*n)\n",
    "effect_AB = contrast_AB/(4*n)\n",
    "effect_AC = contrast_AC/(4*n)\n",
    "effect_BC = contrast_BC/(4*n)\n",
    "effect_ABC = contrast_ABC/(4*n)\n",
    "effects = np.array([effect_A, effect_B, effect_C, effect_AB, effect_AC, effect_BC, effect_ABC])\n",
    "\n",
    "effect_names = ['A', 'B', 'C', 'AB', 'AC', 'BC', 'ABC']\n",
    "print(\" \\t{:10s}\\t{:10s}\".format(\"Effect Estimate\", \"Sum of Squares\"))\n",
    "for x in range(7):\n",
    "    print(\"{}\\t{:-10.3f}\\t{:-10.3f}\".format(effect_names[x], effects[x], sum_squares[x]))\n",
    "\n",
    "# Normplot of effects   \n",
    "\n",
    "\n",
    "probscale.probplot(effects,  plottype='prob',probax='y',\n",
    "                         problabel='Standard Normal Probabilities', bestfit=False)\n",
    "\n",
    "plt.show()\n",
    "\n",
    "# Degrees of Freedom\n",
    "DF_A = 1\n",
    "DF_B = 1\n",
    "DF_AB = 1\n",
    "DF_C = 1 \n",
    "DF_AC = 1\n",
    "DF_BC = 1\n",
    "DF_ABC = 1\n",
    "DF_T = n*(np.power(2,k)-1)\n",
    "DF_E = np.power(2,k)*(n-1)\n",
    "DF = np.array([DF_A, DF_B, DF_C, DF_AB, DF_AC, DF_BC, DF_ABC, DF_E, DF_T])\n",
    "\n",
    "# Mean Squares\n",
    "MSA = SSA/DF_A\n",
    "MSB = SSB/DF_B\n",
    "MSAB = SSAB/DF_AB\n",
    "MSC = SSC/DF_C\n",
    "MSAC = SSAC/DF_AC\n",
    "MSBC = SSBC/DF_BC\n",
    "MSABC = SSABC/DF_ABC\n",
    "MSE = SSE/DF_E\n",
    "mean_squares = np.array([MSA, MSB, MSC, MSAB, MSAC, MSBC, MSABC, MSE,0])\n",
    "\n",
    "# F0 vals\n",
    "F0_A = MSA/MSE\n",
    "F0_B = MSB/MSE\n",
    "F0_AB = MSAB/MSE\n",
    "F0_C = MSC/MSE\n",
    "F0_AC = MSAC/MSE\n",
    "F0_BC = MSBC/MSE\n",
    "F0_ABC = MSABC/MSE\n",
    "f_vals = np.array([F0_A, F0_B, F0_C, F0_AB, F0_AC, F0_BC, F0_ABC, 0, 0])\n",
    "\n",
    "# F threshold vals\n",
    "f_crit_a = stats.f.ppf(1-alpha,DF_A,DF_E)\n",
    "f_crit_b = stats.f.ppf(1-alpha,DF_B,DF_E)\n",
    "f_crit_ab = stats.f.ppf(1-alpha,DF_AB,DF_E)\n",
    "f_crit_c = stats.f.ppf(1-alpha,DF_C,DF_E)\n",
    "f_crit_ac = stats.f.ppf(1-alpha,DF_AC,DF_E)\n",
    "f_crit_bc = stats.f.ppf(1-alpha,DF_BC,DF_E)\n",
    "f_crit_abc = stats.f.ppf(1-alpha,DF_ABC,DF_E)\n",
    "f_crits = np.array([f_crit_a, f_crit_b, f_crit_c, f_crit_ab,  f_crit_ac, f_crit_bc, f_crit_abc, 0, 0])\n",
    "\n",
    "# P values\n",
    "p_val_A = 1 - stats.f.cdf(F0_A, DF_A,DF_E)\n",
    "p_val_B = 1 - stats.f.cdf(F0_B, DF_B,DF_E)\n",
    "p_val_AB = 1 - stats.f.cdf(F0_AB, DF_AB,DF_E)\n",
    "p_val_C = 1 - stats.f.cdf(F0_C, DF_C,DF_E)\n",
    "p_val_AC = 1 - stats.f.cdf(F0_AC, DF_AC,DF_E)\n",
    "p_val_BC = 1 - stats.f.cdf(F0_BC, DF_BC,DF_E)\n",
    "p_val_ABC = 1 - stats.f.cdf(F0_ABC, DF_ABC,DF_E)\n",
    "pvals = np.array([p_val_A, p_val_B, p_val_C, p_val_AB, p_val_AC, p_val_BC, p_val_ABC, 0,0])\n",
    "\n",
    "vals_data = np.array([sum_squares, DF, mean_squares, f_vals, f_crits, pvals])\n",
    "vals_df = pd.DataFrame(data=vals_data.T, index=['Cutting Speed (A)', 'Tool Geometry (B)', 'Cutting Angle (C)', 'AB', 'AC', 'BC', 'ABC', 'Error', 'Total'], \n",
    "                       columns=['Sum of Squares', 'Degrees of Freedom', 'Mean Square', 'F0', 'F Threshold', 'p-value'])\n",
    "vals_df = vals_df.replace(to_replace=0,value='')\n",
    "display(vals_df)"
   ]
  },
  {
   "cell_type": "markdown",
   "metadata": {},
   "source": [
    "### Answer\n",
    "Examining the results of the ANOVA, we see that the Tool Geometryis the only significant effects for $\\alpha = 0.05$. Neither cutting speed nor any of the interaction effects have a statistically significant impact. "
   ]
  },
  {
   "cell_type": "markdown",
   "metadata": {},
   "source": [
    "### c "
   ]
  },
  {
   "cell_type": "code",
   "execution_count": null,
   "metadata": {},
   "outputs": [],
   "source": []
  },
  {
   "cell_type": "markdown",
   "metadata": {},
   "source": [
    "## 7.1"
   ]
  },
  {
   "cell_type": "markdown",
   "metadata": {},
   "source": [
    "## 6.11, a, b, e, and f"
   ]
  },
  {
   "cell_type": "markdown",
   "metadata": {},
   "source": [
    "## 7.5"
   ]
  },
  {
   "cell_type": "markdown",
   "metadata": {},
   "source": [
    "## 7.21"
   ]
  },
  {
   "cell_type": "markdown",
   "metadata": {},
   "source": [
    "## 8.3"
   ]
  },
  {
   "cell_type": "markdown",
   "metadata": {},
   "source": [
    "## 8.10"
   ]
  }
 ],
 "metadata": {
  "kernelspec": {
   "display_name": "Python 3",
   "language": "python",
   "name": "python3"
  },
  "language_info": {
   "codemirror_mode": {
    "name": "ipython",
    "version": 3
   },
   "file_extension": ".py",
   "mimetype": "text/x-python",
   "name": "python",
   "nbconvert_exporter": "python",
   "pygments_lexer": "ipython3",
   "version": "3.7.2"
  }
 },
 "nbformat": 4,
 "nbformat_minor": 2
}
