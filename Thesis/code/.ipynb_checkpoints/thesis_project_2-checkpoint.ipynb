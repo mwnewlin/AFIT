{
 "cells": [
  {
   "cell_type": "code",
   "execution_count": 1,
   "metadata": {},
   "outputs": [],
   "source": [
    "import os\n",
    "import numpy as np\n",
    "import matplotlib.pyplot as plt\n",
    "\n",
    "#make plots inline using jupyter magic\n",
    "%matplotlib inline\n",
    "\n",
    "import pandas as pd\n",
    "from pandas.plotting import scatter_matrix\n",
    "from sklearn import datasets, linear_model, metrics\n",
    "\n",
    "\n",
    "import matplotlib as mpl\n",
    "import seaborn as sns\n",
    "\n",
    "import sklearn.linear_model as skl_lm\n",
    "from sklearn.discriminant_analysis import LinearDiscriminantAnalysis\n",
    "from sklearn.discriminant_analysis import QuadraticDiscriminantAnalysis\n",
    "from sklearn.preprocessing import StandardScaler\n",
    "from sklearn.model_selection import cross_validate, GridSearchCV\n",
    "from sklearn.linear_model import LinearRegression, LogisticRegression, Ridge, RidgeCV, Lasso, LassoCV\n",
    "from sklearn.neighbors import KNeighborsClassifier\n",
    "#Balanced RF Classifier\n",
    "from imblearn.ensemble import BalancedRandomForestClassifier as BRF\n",
    "\n",
    "from IPython.display import Markdown as md  #enable markdown within code cell\n",
    "from IPython.display import display, Math, Latex\n",
    "\n",
    "from sklearn.model_selection import train_test_split\n",
    "from sklearn.metrics import mean_squared_error as MSE\n",
    "from sklearn.metrics import confusion_matrix\n",
    "import time\n",
    "import random\n",
    "import scipy\n",
    "\n",
    "from sklearn.metrics import balanced_accuracy_score, precision_score, recall_score, precision_recall_curve, make_scorer,f1_score\n",
    "from sklearn.metrics import precision_recall_curve as PRC\n",
    "\n",
    "## Homemade code imports\n",
    "import metrics\n",
    "\n",
    "data_dir = '/run/media/mnewlin/_userdata/uhnds/'\n",
    "original_netflow_data_dir = data_dir + 'network/extracted/'\n",
    "original_netflow_file = 'netflow_day-02'\n",
    "fake_dir = '/run/media/mnewlin/_userdata/uhnds/network/converted/fake/'\n",
    "real_dir = '/run/media/mnewlin/_userdata/uhnds/network/converted/real/'\n",
    "real_file = 'netflow_day-02'"
   ]
  },
  {
   "cell_type": "code",
   "execution_count": 2,
   "metadata": {},
   "outputs": [],
   "source": [
    "\"\"\"\n",
    "    Function to read in a single real sample from a given directory based\n",
    "    on the desired length of the sample.\n",
    "\"\"\"\n",
    "def load_real_sample(sample_num, sample_length=100):\n",
    "\n",
    "    data_dir = 'samples_{}/'.format(sample_length)\n",
    "    if sample_length < 10000:\n",
    "        if sample_num >= 10000:\n",
    "            return -1\n",
    "    elif sample_length < 100000:\n",
    "        if sample_num >= 2000:\n",
    "            return -1\n",
    "    else:\n",
    "        if sample_num >= 2000:\n",
    "            return -1\n",
    "        \n",
    "    load_file = real_file + '_sample_{}.txt'.format(sample_num)\n",
    "    filename = real_dir + data_dir + load_file\n",
    "    df = pd.read_csv(filename, names=['Duration', 'SrcDevice', \n",
    "            'DstDevice', 'Protocol', 'SrcPort', 'DstPort', 'SrcPackets', 'DstPackets', \n",
    "            'SrcBytes', 'DstBytes'], sep=' ', dtype=np.int64)\n",
    "    return df"
   ]
  },
  {
   "cell_type": "code",
   "execution_count": 3,
   "metadata": {},
   "outputs": [],
   "source": [
    "\"\"\"\n",
    "    Function to read in a single fake sample from a given directory based\n",
    "    on the desired length of the sample.\n",
    "\"\"\"\n",
    "def load_fake_sample(sample_num, sample_length=100):\n",
    "    data_dir = 'samples_{}/'.format(sample_length)\n",
    "    if sample_length < 10000:\n",
    "        if sample_num >= 10000:\n",
    "            return -1\n",
    "    elif sample_length < 100000:\n",
    "        if sample_num >= 2000:\n",
    "            return -1\n",
    "    else:\n",
    "        if sample_num >= 2000:\n",
    "            return -1\n",
    "\n",
    "    load_file = real_file + '_random_sample_{}.txt'.format(sample_num)\n",
    "    filename = fake_dir + data_dir + load_file\n",
    "    df = pd.read_csv(filename, names=['Duration', 'SrcDevice', \n",
    "            'DstDevice', 'Protocol', 'SrcPort', 'DstPort', 'SrcPackets', 'DstPackets', \n",
    "            'SrcBytes', 'DstBytes'], sep=' ', dtype=np.int64)\n",
    "    return df"
   ]
  },
  {
   "cell_type": "code",
   "execution_count": 4,
   "metadata": {},
   "outputs": [],
   "source": [
    "def load_n_samples(real=True, sample_length=100, num_samples=100, random_state=69):\n",
    "    data = pd.DataFrame()\n",
    "    sample_range = 0\n",
    "    if sample_length <= 1000:\n",
    "        sample_range = 10000\n",
    "    elif sample_length <= 10000:\n",
    "        sample_range = 2000\n",
    "    elif sample_length <= 100000:\n",
    "        sample_range = 1160\n",
    "        \n",
    "    random.seed(a=random_state)\n",
    "    sample_list = random.sample(range(sample_range), num_samples)\n",
    "    if real:\n",
    "        for num in sample_list:\n",
    "            data = data.append(load_real_sample(sample_length=sample_length, sample_num=num))\n",
    "    else:\n",
    "        for num in sample_list:\n",
    "            data = data.append(load_fake_sample(sample_length=sample_length, sample_num=num))\n",
    "    return data"
   ]
  },
  {
   "cell_type": "code",
   "execution_count": 5,
   "metadata": {},
   "outputs": [],
   "source": [
    "def create_sample_mix(ratio, sample_length=100, num_samples=100, random_state=69):\n",
    "    real = load_n_samples(real=True, sample_length=sample_length, num_samples=num_samples, random_state=random_state)\n",
    "    fake = load_n_samples(real=False, sample_length=sample_length, num_samples=num_samples, random_state=random_state)\n",
    "    real_samples = real.sample(frac=1-ratio, random_state=random_state)\n",
    "    fake_samples = real.sample(frac=ratio, random_state=random_state)\n",
    "    samples = real_samples.append(fake_samples)\n",
    "    return samples"
   ]
  },
  {
   "cell_type": "code",
   "execution_count": 6,
   "metadata": {},
   "outputs": [
    {
     "data": {
      "text/html": [
       "<div>\n",
       "<style scoped>\n",
       "    .dataframe tbody tr th:only-of-type {\n",
       "        vertical-align: middle;\n",
       "    }\n",
       "\n",
       "    .dataframe tbody tr th {\n",
       "        vertical-align: top;\n",
       "    }\n",
       "\n",
       "    .dataframe thead th {\n",
       "        text-align: right;\n",
       "    }\n",
       "</style>\n",
       "<table border=\"1\" class=\"dataframe\">\n",
       "  <thead>\n",
       "    <tr style=\"text-align: right;\">\n",
       "      <th></th>\n",
       "      <th>Duration</th>\n",
       "      <th>SrcDevice</th>\n",
       "      <th>DstDevice</th>\n",
       "      <th>Protocol</th>\n",
       "      <th>SrcPort</th>\n",
       "      <th>DstPort</th>\n",
       "      <th>SrcPackets</th>\n",
       "      <th>DstPackets</th>\n",
       "      <th>SrcBytes</th>\n",
       "      <th>DstBytes</th>\n",
       "    </tr>\n",
       "  </thead>\n",
       "  <tbody>\n",
       "    <tr>\n",
       "      <th>count</th>\n",
       "      <td>1.000000e+04</td>\n",
       "      <td>10000.000000</td>\n",
       "      <td>10000.000000</td>\n",
       "      <td>10000.000000</td>\n",
       "      <td>10000.000000</td>\n",
       "      <td>10000.000000</td>\n",
       "      <td>1.000000e+04</td>\n",
       "      <td>1.000000e+04</td>\n",
       "      <td>1.000000e+04</td>\n",
       "      <td>1.000000e+04</td>\n",
       "    </tr>\n",
       "    <tr>\n",
       "      <th>mean</th>\n",
       "      <td>1.119461e+06</td>\n",
       "      <td>488377.297300</td>\n",
       "      <td>441563.229400</td>\n",
       "      <td>11.209600</td>\n",
       "      <td>36232.256500</td>\n",
       "      <td>18326.960500</td>\n",
       "      <td>7.944732e+04</td>\n",
       "      <td>3.166006e+04</td>\n",
       "      <td>5.382791e+07</td>\n",
       "      <td>2.372240e+07</td>\n",
       "    </tr>\n",
       "    <tr>\n",
       "      <th>std</th>\n",
       "      <td>1.611235e+06</td>\n",
       "      <td>294756.769115</td>\n",
       "      <td>260218.209268</td>\n",
       "      <td>6.388877</td>\n",
       "      <td>26907.477769</td>\n",
       "      <td>26283.816714</td>\n",
       "      <td>2.470712e+05</td>\n",
       "      <td>4.716046e+05</td>\n",
       "      <td>1.616324e+08</td>\n",
       "      <td>5.917398e+08</td>\n",
       "    </tr>\n",
       "    <tr>\n",
       "      <th>min</th>\n",
       "      <td>0.000000e+00</td>\n",
       "      <td>244.000000</td>\n",
       "      <td>1050.000000</td>\n",
       "      <td>1.000000</td>\n",
       "      <td>15.000000</td>\n",
       "      <td>21.000000</td>\n",
       "      <td>0.000000e+00</td>\n",
       "      <td>0.000000e+00</td>\n",
       "      <td>0.000000e+00</td>\n",
       "      <td>0.000000e+00</td>\n",
       "    </tr>\n",
       "    <tr>\n",
       "      <th>25%</th>\n",
       "      <td>3.295400e+04</td>\n",
       "      <td>229715.000000</td>\n",
       "      <td>211700.000000</td>\n",
       "      <td>6.000000</td>\n",
       "      <td>15379.000000</td>\n",
       "      <td>445.000000</td>\n",
       "      <td>2.577500e+02</td>\n",
       "      <td>0.000000e+00</td>\n",
       "      <td>2.732400e+04</td>\n",
       "      <td>0.000000e+00</td>\n",
       "    </tr>\n",
       "    <tr>\n",
       "      <th>50%</th>\n",
       "      <td>4.564080e+05</td>\n",
       "      <td>469322.000000</td>\n",
       "      <td>392659.000000</td>\n",
       "      <td>17.000000</td>\n",
       "      <td>34568.000000</td>\n",
       "      <td>5060.000000</td>\n",
       "      <td>8.267500e+03</td>\n",
       "      <td>0.000000e+00</td>\n",
       "      <td>1.785283e+06</td>\n",
       "      <td>0.000000e+00</td>\n",
       "    </tr>\n",
       "    <tr>\n",
       "      <th>75%</th>\n",
       "      <td>1.475056e+06</td>\n",
       "      <td>742377.000000</td>\n",
       "      <td>607982.000000</td>\n",
       "      <td>17.000000</td>\n",
       "      <td>51893.500000</td>\n",
       "      <td>41101.000000</td>\n",
       "      <td>5.033300e+04</td>\n",
       "      <td>3.162500e+02</td>\n",
       "      <td>2.060882e+07</td>\n",
       "      <td>2.283900e+04</td>\n",
       "    </tr>\n",
       "    <tr>\n",
       "      <th>max</th>\n",
       "      <td>7.654872e+06</td>\n",
       "      <td>999856.000000</td>\n",
       "      <td>999949.000000</td>\n",
       "      <td>17.000000</td>\n",
       "      <td>99992.000000</td>\n",
       "      <td>99924.000000</td>\n",
       "      <td>7.473493e+06</td>\n",
       "      <td>1.883259e+07</td>\n",
       "      <td>4.990079e+09</td>\n",
       "      <td>2.611989e+10</td>\n",
       "    </tr>\n",
       "  </tbody>\n",
       "</table>\n",
       "</div>"
      ],
      "text/plain": [
       "           Duration      SrcDevice      DstDevice      Protocol       SrcPort  \\\n",
       "count  1.000000e+04   10000.000000   10000.000000  10000.000000  10000.000000   \n",
       "mean   1.119461e+06  488377.297300  441563.229400     11.209600  36232.256500   \n",
       "std    1.611235e+06  294756.769115  260218.209268      6.388877  26907.477769   \n",
       "min    0.000000e+00     244.000000    1050.000000      1.000000     15.000000   \n",
       "25%    3.295400e+04  229715.000000  211700.000000      6.000000  15379.000000   \n",
       "50%    4.564080e+05  469322.000000  392659.000000     17.000000  34568.000000   \n",
       "75%    1.475056e+06  742377.000000  607982.000000     17.000000  51893.500000   \n",
       "max    7.654872e+06  999856.000000  999949.000000     17.000000  99992.000000   \n",
       "\n",
       "            DstPort    SrcPackets    DstPackets      SrcBytes      DstBytes  \n",
       "count  10000.000000  1.000000e+04  1.000000e+04  1.000000e+04  1.000000e+04  \n",
       "mean   18326.960500  7.944732e+04  3.166006e+04  5.382791e+07  2.372240e+07  \n",
       "std    26283.816714  2.470712e+05  4.716046e+05  1.616324e+08  5.917398e+08  \n",
       "min       21.000000  0.000000e+00  0.000000e+00  0.000000e+00  0.000000e+00  \n",
       "25%      445.000000  2.577500e+02  0.000000e+00  2.732400e+04  0.000000e+00  \n",
       "50%     5060.000000  8.267500e+03  0.000000e+00  1.785283e+06  0.000000e+00  \n",
       "75%    41101.000000  5.033300e+04  3.162500e+02  2.060882e+07  2.283900e+04  \n",
       "max    99924.000000  7.473493e+06  1.883259e+07  4.990079e+09  2.611989e+10  "
      ]
     },
     "metadata": {},
     "output_type": "display_data"
    }
   ],
   "source": [
    "real_samples = load_n_samples(real=True, sample_length=100,num_samples=100, random_state=42)\n",
    "display(real_samples.describe())"
   ]
  },
  {
   "cell_type": "code",
   "execution_count": 7,
   "metadata": {},
   "outputs": [],
   "source": [
    "real_samples_2 = load_n_samples(real=True, sample_length=100,num_samples=100, random_state=333)"
   ]
  },
  {
   "cell_type": "code",
   "execution_count": 8,
   "metadata": {},
   "outputs": [],
   "source": [
    "#fake_samples = load_n_samples(real=False, sample_length=100,num_samples=10)\n",
    "#display(fake_samples.describe())"
   ]
  },
  {
   "cell_type": "code",
   "execution_count": null,
   "metadata": {},
   "outputs": [],
   "source": []
  },
  {
   "cell_type": "code",
   "execution_count": 9,
   "metadata": {},
   "outputs": [],
   "source": [
    "#mix_samples = create_sample_mix(ratio=0.1, sample_length=100, num_samples=100)\n",
    "#display(fake_samples.describe())"
   ]
  },
  {
   "cell_type": "code",
   "execution_count": null,
   "metadata": {},
   "outputs": [],
   "source": []
  },
  {
   "cell_type": "code",
   "execution_count": null,
   "metadata": {},
   "outputs": [],
   "source": []
  },
  {
   "cell_type": "markdown",
   "metadata": {},
   "source": [
    "## Test Discriminative Behavior\n",
    "\n",
    "### Sample length 100 - 100 samples"
   ]
  },
  {
   "cell_type": "code",
   "execution_count": 29,
   "metadata": {},
   "outputs": [],
   "source": [
    "Sr1 = np.sqrt(np.abs(np.nan_to_num(np.array(real_samples).astype(np.int64))))\n",
    "Sr2 = np.sqrt(np.abs(np.nan_to_num(np.array(real_samples_2).astype(np.int64))))\n",
    "\n",
    "num_cols = Sr1.shape[1]\n",
    "sample_length = 100\n",
    "num_samples = 100\n",
    "# Reshape into 3d array\n",
    "Sr1 = np.reshape(Sr1, (num_samples, sample_length, num_cols))\n",
    "Sr2 = np.reshape(Sr2, (num_samples, sample_length, num_cols))\n",
    "\n",
    "d0_lp = metrics.score_set(Sr2, Sr1, sample_length=sample_length, num_samples=num_samples, metric='lp', p=0.75, r=0.75)\n",
    "d0_cosine = metrics.score_set(Sr2, Sr1, sample_length=sample_length, num_samples=num_samples, metric='cosine')\n",
    "d0_mah = metrics.score_set(Sr2,Sr1, sample_length=sample_length, num_samples=num_samples, metric='mahalanobis')\n",
    "d0_chi = metrics.score_set(Sr2, Sr1, sample_length=sample_length, num_samples=num_samples, metric='chi_squared')\n",
    "d0_wass = metrics.score_set(Sr2, Sr1, sample_length=sample_length, num_samples=num_samples, metric='wasserstein')\n",
    "d0_fid = metrics.score_set(Sr1, Sr2, sample_length=sample_length, num_samples=num_samples, metric='fid')\n",
    "d0_ent = metrics.score_set(Sr1, Sr2, sample_length=sample_length, num_samples=num_samples, metric='entropy')\n",
    "d0_perp = metrics.score_set(Sr1, Sr2, sample_length=sample_length, num_samples=num_samples, metric='perplexity')\n"
   ]
  },
  {
   "cell_type": "code",
   "execution_count": null,
   "metadata": {},
   "outputs": [],
   "source": [
    "\n"
   ]
  },
  {
   "cell_type": "code",
   "execution_count": 24,
   "metadata": {},
   "outputs": [
    {
     "name": "stdout",
     "output_type": "stream",
     "text": [
      "0.05\n",
      "0.1\n",
      "0.15000000000000002\n",
      "0.2\n",
      "0.25\n",
      "0.3\n",
      "0.35000000000000003\n",
      "0.4\n",
      "0.45\n",
      "0.5\n",
      "0.55\n",
      "0.6000000000000001\n",
      "0.6500000000000001\n",
      "0.7000000000000001\n",
      "0.7500000000000001\n",
      "0.8\n",
      "0.8500000000000001\n",
      "0.9000000000000001\n",
      "0.9500000000000001\n"
     ]
    }
   ],
   "source": [
    "alphagrid = np.arange(0.05,1,step=0.05)\n",
    "#alphagrid = np.array([0.1])\n",
    "lp_scores = np.array([])\n",
    "cosine_scores = np.array([])\n",
    "mah_scores = np.array([])\n",
    "chi_scores = np.array([])\n",
    "wass_scores = np.array([])\n",
    "fid_scores = np.array([])\n",
    "ent_scores = np.array([])\n",
    "perp_scores = np.array([])\n",
    "for alpha in alphagrid:\n",
    "    Sg_t = np.sqrt(np.abs(np.nan_to_num(np.array(create_sample_mix(ratio=alpha, sample_length=100, num_samples = 100, random_state=88)))))\n",
    "    Sg_t = np.reshape(Sg_t, (num_samples, sample_length, num_cols))\n",
    "    d_lp = metrics.score_set(Sg_t, Sr1, sample_length=sample_length, num_samples=num_samples, metric='lp', p=0.75, r=0.75)\n",
    "    d_cosine = metrics.score_set(Sg_t, Sr1, sample_length=sample_length, num_samples=num_samples, metric='cosine')\n",
    "    d_mah = metrics.score_set(Sg_t, Sr1, sample_length=sample_length, num_samples=num_samples, metric='mahalanobis')\n",
    "    d_chi = metrics.score_set(Sg_t, Sr1, sample_length=sample_length, num_samples=num_samples, metric='chi_squared')\n",
    "    d_wass = metrics.score_set(Sg_t, Sr1, sample_length=sample_length, num_samples=num_samples, metric='wasserstein')\n",
    "    d_fid = metrics.score_set(Sg_t, Sr1, sample_length=sample_length, num_samples=num_samples, metric='fid')\n",
    "    d_ent = metrics.score_set(Sg_t, Sr1, sample_length=sample_length, num_samples=num_samples, metric='entropy')\n",
    "    d_perp = metrics.score_set(Sg_t, Sr1, sample_length=sample_length, num_samples=num_samples, metric='perplexity')\n",
    "    lp_scores = np.append(lp_scores, d_lp)\n",
    "    cosine_scores = np.append(cosine_scores, d_cosine)\n",
    "    chi_scores = np.append(chi_scores, d_chi)\n",
    "    mah_scores = np.append(mah_scores, d_mah)\n",
    "    wass_scores = np.append(wass_scores, d_wass)\n",
    "    fid_scores = np.append(fid_scores, d_fid)\n",
    "    ent_scores = np.append(ent_scores, d_ent)\n",
    "    perp_scores = np.append(perp_scores, d_perp)\n",
    "    \n",
    "    print(alpha)"
   ]
  },
  {
   "cell_type": "code",
   "execution_count": null,
   "metadata": {},
   "outputs": [],
   "source": []
  },
  {
   "cell_type": "code",
   "execution_count": 25,
   "metadata": {},
   "outputs": [],
   "source": [
    "normalized_lp = 1-lp_scores/d0_lp\n",
    "normalized_cosine = 1-cosine_scores/d0_cosine\n",
    "normalized_mah = 1 - mah_scores/d0_mah\n",
    "normalized_chi = 1-chi_scores/d0_chi\n",
    "normalized_wass = 1-wass_scores/d0_wass\n",
    "normalized_fid = 1 - fid_scores/d0_fid\n",
    "normalized_ent = 1 - ent_scores/d0_ent\n",
    "normalized_perp = 1 - perp_scores/d0_perp"
   ]
  },
  {
   "cell_type": "code",
   "execution_count": 26,
   "metadata": {},
   "outputs": [
    {
     "data": {
      "image/png": "[encoded data removed]",
      "text/plain": [
       "<Figure size 432x432 with 1 Axes>"
      ]
     },
     "metadata": {
      "needs_background": "light"
     },
     "output_type": "display_data"
    }
   ],
   "source": [
    "\n",
    "fig = plt.figure(figsize=(6,6))\n",
    "plt.plot(alphagrid, np.abs(normalized_lp), 'o', label='lp')\n",
    "plt.plot(alphagrid, np.abs(normalized_cosine), 'o', label='cosine')\n",
    "plt.plot(alphagrid, np.abs(normalized_chi), 'o', label='chi')\n",
    "plt.plot(alphagrid, np.abs(normalized_mah), 'o', label='mahalanobis')\n",
    "plt.plot(alphagrid, np.abs(normalized_wass), 'o', label='wasserstein')\n",
    "plt.plot(alphagrid, np.abs(normalized_fid), 'o', label='fid')\n",
    "plt.plot(alphagrid, np.abs(normalized_ent), 'o', label='entropy')\n",
    "plt.plot(alphagrid, np.abs(normalized_perp), 'o', label='perplexity')\n",
    "plt.legend()\n",
    "plt.show()\n"
   ]
  },
  {
   "cell_type": "code",
   "execution_count": 27,
   "metadata": {},
   "outputs": [
    {
     "name": "stdout",
     "output_type": "stream",
     "text": [
      "[nan nan nan nan nan nan nan nan nan nan nan nan nan nan nan nan nan nan\n",
      " nan]\n",
      "nan\n"
     ]
    }
   ],
   "source": [
    "print(mah_scores)\n",
    "print(d0_mah)\n",
    "\n",
    "#print(alphagrid)\n",
    "#print(scores)\n",
    "#combined = zip(alphagrid, scores)\n",
    "#print(list(combined))"
   ]
  },
  {
   "cell_type": "markdown",
   "metadata": {},
   "source": [
    "## Test Discriminative Behavior on sample length 1000 - 100 Samples"
   ]
  },
  {
   "cell_type": "code",
   "execution_count": 16,
   "metadata": {},
   "outputs": [],
   "source": [
    "real_samples = load_n_samples(real=True, sample_length=1000,num_samples=100, random_state=42)\n",
    "real_samples_2 = load_n_samples(real=True, sample_length=1000,num_samples=100, random_state=333)"
   ]
  },
  {
   "cell_type": "code",
   "execution_count": 17,
   "metadata": {},
   "outputs": [],
   "source": [
    "Sr1 = np.array(real_samples)\n",
    "Sr2 = np.array(real_samples_2)\n",
    "num_cols = Sr1.shape[1]\n",
    "sample_length = 1000\n",
    "num_samples = 100\n",
    "# Reshape into 3d array\n",
    "Sr1 = np.reshape(Sr1, (num_samples, sample_length, num_cols))\n",
    "Sr2 = np.reshape(Sr2, (num_samples, sample_length, num_cols))\n",
    "\n",
    "\n",
    "\n",
    "d0_lp = metrics.score_set(Sr2, Sr1, sample_length=sample_length, num_samples=num_samples, metric='lp', p=0.75, r=0.75)\n",
    "d0_cosine = metrics.score_set(Sr2, Sr1, sample_length=sample_length, num_samples=num_samples, metric='cosine')\n",
    "#d0_mah = metrics.score_set(Sr2,Sr1, sample_length=sample_length, num_samples=num_samples, metric='mahalanobis')\n",
    "d0_chi = metrics.score_set(Sr2, Sr1, sample_length=sample_length, num_samples=num_samples, metric='chi_squared')\n",
    "d0_wass = metrics.score_set(Sr2, Sr1, sample_length=sample_length, num_samples=num_samples, metric='wasserstein')\n",
    "d0_fid = metrics.score_set(Sr1, Sr2, sample_length=sample_length, num_samples=num_samples, metric='fid')\n",
    "d0_ent = metrics.score_set(Sr1, Sr2, sample_length=sample_length, num_samples=num_samples, metric='entropy')\n",
    "d0_perp = metrics.score_set(Sr1, Sr2, sample_length=sample_length, num_samples=num_samples, metric='perplexity')"
   ]
  },
  {
   "cell_type": "code",
   "execution_count": 18,
   "metadata": {},
   "outputs": [
    {
     "name": "stdout",
     "output_type": "stream",
     "text": [
      "0.05\n",
      "0.1\n",
      "0.15000000000000002\n",
      "0.2\n",
      "0.25\n",
      "0.3\n",
      "0.35000000000000003\n",
      "0.4\n",
      "0.45\n",
      "0.5\n",
      "0.55\n",
      "0.6000000000000001\n",
      "0.6500000000000001\n",
      "0.7000000000000001\n",
      "0.7500000000000001\n",
      "0.8\n",
      "0.8500000000000001\n",
      "0.9000000000000001\n",
      "0.9500000000000001\n"
     ]
    }
   ],
   "source": [
    "alphagrid = np.arange(0.05,1,step=0.05)\n",
    "#alphagrid = np.array([0.1])\n",
    "lp_scores = np.array([])\n",
    "cosine_scores = np.array([])\n",
    "mah_scores = np.array([])\n",
    "chi_scores = np.array([])\n",
    "wass_scores = np.array([])\n",
    "fid_scores = np.array([])\n",
    "ent_scores = np.array([])\n",
    "perp_scores = np.array([])\n",
    "for alpha in alphagrid:\n",
    "    Sg_t = np.array(create_sample_mix(ratio=alpha, sample_length=1000, num_samples = 100, random_state=88))\n",
    "    Sg_t = np.reshape(Sg_t, (num_samples, sample_length, num_cols))\n",
    "    d_lp = metrics.score_set(Sg_t, Sr1, sample_length=sample_length, num_samples=num_samples, metric='lp', p=0.75, r=0.75)\n",
    "    d_cosine = metrics.score_set(Sg_t, Sr1, sample_length=sample_length, num_samples=num_samples, metric='cosine')\n",
    "    d_chi = metrics.score_set(Sr1, Sg_t, sample_length=sample_length, num_samples=num_samples, metric='chi_squared')\n",
    "    d_wass = metrics.score_set(Sg_t, Sr1, sample_length=sample_length, num_samples=num_samples, metric='wasserstein')\n",
    "    d_fid = metrics.score_set(Sg_t, Sr1, sample_length=sample_length, num_samples=num_samples, metric='fid')\n",
    "    d_ent = metrics.score_set(Sg_t, Sr1, sample_length=sample_length, num_samples=num_samples, metric='entropy')\n",
    "    d_perp = metrics.score_set(Sg_t, Sr1, sample_length=sample_length, num_samples=num_samples, metric='perplexity')\n",
    "    lp_scores = np.append(lp_scores, d_lp)\n",
    "    cosine_scores = np.append(cosine_scores, d_cosine)\n",
    "    chi_scores = np.append(chi_scores, d_chi)\n",
    "    wass_scores = np.append(wass_scores, d_wass)\n",
    "    fid_scores = np.append(fid_scores, d_fid)\n",
    "    ent_scores = np.append(ent_scores, d_ent)\n",
    "    perp_scores = np.append(perp_scores, d_perp)\n",
    "    \n",
    "    print(alpha)"
   ]
  },
  {
   "cell_type": "code",
   "execution_count": 19,
   "metadata": {},
   "outputs": [],
   "source": [
    "normalized_lp = 1-lp_scores/d0_lp\n",
    "normalized_cosine = 1-cosine_scores/d0_cosine\n",
    "#normalized_mah = 1 - mah_scores/d0_mah\n",
    "normalized_chi = 1-chi_scores/d0_chi\n",
    "normalized_wass = 1-wass_scores/d0_wass\n",
    "normalized_fid = 1 - fid_scores/d0_fid\n",
    "normalized_ent = 1 - ent_scores/d0_ent\n",
    "normalized_perp = 1 - perp_scores/d0_perp"
   ]
  },
  {
   "cell_type": "code",
   "execution_count": 21,
   "metadata": {},
   "outputs": [
    {
     "data": {
      "image/png": "[encoded data removed]",
      "text/plain": [
       "<Figure size 432x432 with 1 Axes>"
      ]
     },
     "metadata": {
      "needs_background": "light"
     },
     "output_type": "display_data"
    }
   ],
   "source": [
    "fig = plt.figure(figsize=(6,6))\n",
    "plt.plot(alphagrid, np.abs(normalized_lp), 'o', label='lp')\n",
    "plt.plot(alphagrid, np.abs(normalized_cosine), 'o', label='cosine')\n",
    "#plt.plot(alphagrid, np.abs(normalized_chi), 'o', label='chi')\n",
    "#plt.plot(alphagrid, np.abs(normalized_mah), 'o', label='mahalanobis')\n",
    "plt.plot(alphagrid, np.abs(normalized_wass), 'o', label='wasserstein')\n",
    "plt.plot(alphagrid, np.abs(normalized_fid), 'o', label='fid')\n",
    "plt.plot(alphagrid, np.abs(normalized_ent), 'o', label='entropy')\n",
    "plt.plot(alphagrid, np.abs(normalized_perp), 'o', label='perplexity')\n",
    "plt.legend()\n",
    "plt.show()"
   ]
  },
  {
   "cell_type": "markdown",
   "metadata": {},
   "source": [
    "## Test Discriminative Behavior on sample length 1000 with 1000 samples"
   ]
  },
  {
   "cell_type": "code",
   "execution_count": 22,
   "metadata": {},
   "outputs": [],
   "source": [
    "real_samples = load_n_samples(real=True, sample_length=1000,num_samples=1000, random_state=42)\n",
    "real_samples_2 = load_n_samples(real=True, sample_length=1000,num_samples=1000, random_state=333)"
   ]
  },
  {
   "cell_type": "code",
   "execution_count": 23,
   "metadata": {},
   "outputs": [
    {
     "name": "stderr",
     "output_type": "stream",
     "text": [
      "/home/mnewlin/anaconda3/lib/python3.7/site-packages/scipy/spatial/distance.py:698: RuntimeWarning: invalid value encountered in sqrt\n",
      "  dist = 1.0 - uv / np.sqrt(uu * vv)\n"
     ]
    }
   ],
   "source": [
    "Sr1 = np.array(real_samples)\n",
    "Sr2 = np.array(real_samples_2)\n",
    "num_cols = Sr1.shape[1]\n",
    "sample_length = 1000\n",
    "num_samples = 1000\n",
    "# Reshape into 3d array\n",
    "Sr1 = np.reshape(Sr1, (num_samples, sample_length, num_cols))\n",
    "Sr2 = np.reshape(Sr2, (num_samples, sample_length, num_cols))\n",
    "\n",
    "\n",
    "\n",
    "d0_lp = metrics.score_set(Sr2, Sr1, sample_length=sample_length, num_samples=num_samples, metric='lp', p=0.75, r=0.75)\n",
    "d0_cosine = metrics.score_set(Sr2, Sr1, sample_length=sample_length, num_samples=num_samples, metric='cosine')\n",
    "#d0_mah = metrics.score_set(Sr2,Sr1, sample_length=sample_length, num_samples=num_samples, metric='mahalanobis')\n",
    "d0_chi = metrics.score_set(Sr2, Sr1, sample_length=sample_length, num_samples=num_samples, metric='chi_squared')\n",
    "d0_wass = metrics.score_set(Sr2, Sr1, sample_length=sample_length, num_samples=num_samples, metric='wasserstein')\n",
    "d0_fid = metrics.score_set(Sr1, Sr2, sample_length=sample_length, num_samples=num_samples, metric='fid')\n",
    "d0_ent = metrics.score_set(Sr1, Sr2, sample_length=sample_length, num_samples=num_samples, metric='entropy')\n",
    "d0_perp = metrics.score_set(Sr1, Sr2, sample_length=sample_length, num_samples=num_samples, metric='perplexity')"
   ]
  },
  {
   "cell_type": "code",
   "execution_count": 24,
   "metadata": {},
   "outputs": [
    {
     "name": "stdout",
     "output_type": "stream",
     "text": [
      "0.05\n",
      "0.1\n",
      "0.15000000000000002\n",
      "0.2\n",
      "0.25\n",
      "0.3\n",
      "0.35000000000000003\n",
      "0.4\n",
      "0.45\n",
      "0.5\n",
      "0.55\n",
      "0.6000000000000001\n",
      "0.6500000000000001\n",
      "0.7000000000000001\n",
      "0.7500000000000001\n",
      "0.8\n",
      "0.8500000000000001\n",
      "0.9000000000000001\n",
      "0.9500000000000001\n"
     ]
    }
   ],
   "source": [
    "alphagrid = np.arange(0.05,1,step=0.05)\n",
    "#alphagrid = np.array([0.1])\n",
    "lp_scores = np.array([])\n",
    "cosine_scores = np.array([])\n",
    "mah_scores = np.array([])\n",
    "chi_scores = np.array([])\n",
    "wass_scores = np.array([])\n",
    "fid_scores = np.array([])\n",
    "ent_scores = np.array([])\n",
    "perp_scores = np.array([])\n",
    "for alpha in alphagrid:\n",
    "    Sg_t = np.array(create_sample_mix(ratio=alpha, sample_length=1000, num_samples = 1000, random_state=88))\n",
    "    Sg_t = np.reshape(Sg_t, (num_samples, sample_length, num_cols))\n",
    "    d_lp = metrics.score_set(Sg_t, Sr1, sample_length=sample_length, num_samples=num_samples, metric='lp', p=0.75, r=0.75)\n",
    "    d_cosine = metrics.score_set(Sg_t, Sr1, sample_length=sample_length, num_samples=num_samples, metric='cosine')\n",
    "    d_chi = metrics.score_set(Sr1, Sg_t, sample_length=sample_length, num_samples=num_samples, metric='chi_squared')\n",
    "    d_wass = metrics.score_set(Sg_t, Sr1, sample_length=sample_length, num_samples=num_samples, metric='wasserstein')\n",
    "    d_fid = metrics.score_set(Sg_t, Sr1, sample_length=sample_length, num_samples=num_samples, metric='fid')\n",
    "    d_ent = metrics.score_set(Sg_t, Sr1, sample_length=sample_length, num_samples=num_samples, metric='entropy')\n",
    "    d_perp = metrics.score_set(Sg_t, Sr1, sample_length=sample_length, num_samples=num_samples, metric='perplexity')\n",
    "    lp_scores = np.append(lp_scores, d_lp)\n",
    "    cosine_scores = np.append(cosine_scores, d_cosine)\n",
    "    chi_scores = np.append(chi_scores, d_chi)\n",
    "    wass_scores = np.append(wass_scores, d_wass)\n",
    "    fid_scores = np.append(fid_scores, d_fid)\n",
    "    ent_scores = np.append(ent_scores, d_ent)\n",
    "    perp_scores = np.append(perp_scores, d_perp)\n",
    "    \n",
    "    print(alpha)"
   ]
  },
  {
   "cell_type": "code",
   "execution_count": 25,
   "metadata": {},
   "outputs": [],
   "source": [
    "normalized_lp = 1-lp_scores/d0_lp\n",
    "normalized_cosine = 1-cosine_scores/d0_cosine\n",
    "#normalized_mah = 1 - mah_scores/d0_mah\n",
    "normalized_chi = 1-chi_scores/d0_chi\n",
    "normalized_wass = 1-wass_scores/d0_wass\n",
    "normalized_fid = 1 - fid_scores/d0_fid\n",
    "normalized_ent = 1 - ent_scores/d0_ent\n",
    "normalized_perp = 1 - perp_scores/d0_perp"
   ]
  },
  {
   "cell_type": "code",
   "execution_count": 28,
   "metadata": {},
   "outputs": [
    {
     "data": {
      "image/png": "[encoded data removed]",
      "text/plain": [
       "<Figure size 432x432 with 1 Axes>"
      ]
     },
     "metadata": {
      "needs_background": "light"
     },
     "output_type": "display_data"
    }
   ],
   "source": [
    "fig = plt.figure(figsize=(6,6))\n",
    "plt.plot(alphagrid, np.abs(normalized_lp), 'o', label='lp')\n",
    "plt.plot(alphagrid, np.abs(normalized_cosine), 'o', label='cosine')\n",
    "#plt.plot(alphagrid, np.abs(normalized_chi), 'o', label='chi')\n",
    "#plt.plot(alphagrid, np.abs(normalized_mah), 'o', label='mahalanobis')\n",
    "plt.plot(alphagrid, np.abs(normalized_wass), 'o', label='wasserstein')\n",
    "plt.plot(alphagrid, np.abs(normalized_fid), 'o', label='fid')\n",
    "plt.plot(alphagrid, np.abs(normalized_ent), 'o', label='entropy')\n",
    "plt.plot(alphagrid, np.abs(normalized_perp), 'o', label='perplexity')\n",
    "plt.legend()\n",
    "plt.show()"
   ]
  },
  {
   "cell_type": "code",
   "execution_count": null,
   "metadata": {},
   "outputs": [],
   "source": []
  }
 ],
 "metadata": {
  "kernelspec": {
   "display_name": "Python 3",
   "language": "python",
   "name": "python3"
  },
  "language_info": {
   "codemirror_mode": {
    "name": "ipython",
    "version": 3
   },
   "file_extension": ".py",
   "mimetype": "text/x-python",
   "name": "python",
   "nbconvert_exporter": "python",
   "pygments_lexer": "ipython3",
   "version": "3.7.3"
  }
 },
 "nbformat": 4,
 "nbformat_minor": 2
}
