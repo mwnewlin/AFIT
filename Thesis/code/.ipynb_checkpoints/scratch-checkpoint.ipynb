{
 "cells": [
  {
   "cell_type": "code",
   "execution_count": 1,
   "metadata": {},
   "outputs": [],
   "source": [
    "import os\n",
    "import numpy as np\n",
    "import matplotlib.pyplot as plt\n",
    "\n",
    "#make plots inline using jupyter magic\n",
    "%matplotlib inline\n",
    "\n",
    "import pandas as pd\n",
    "from pandas.plotting import scatter_matrix\n",
    "from sklearn import datasets, linear_model, metrics\n",
    "\n",
    "\n",
    "import matplotlib as mpl\n",
    "import seaborn as sns\n",
    "\n",
    "import sklearn.linear_model as skl_lm\n",
    "from sklearn.discriminant_analysis import LinearDiscriminantAnalysis\n",
    "from sklearn.discriminant_analysis import QuadraticDiscriminantAnalysis\n",
    "from sklearn.preprocessing import StandardScaler\n",
    "from sklearn.model_selection import cross_validate, GridSearchCV\n",
    "from sklearn.linear_model import LinearRegression, LogisticRegression, Ridge, RidgeCV, Lasso, LassoCV\n",
    "from sklearn.neighbors import KNeighborsClassifier\n",
    "#Balanced RF Classifier\n",
    "from imblearn.ensemble import BalancedRandomForestClassifier as BRF\n",
    "\n",
    "from IPython.display import Markdown as md  #enable markdown within code cell\n",
    "from IPython.display import display, Math, Latex\n",
    "\n",
    "from sklearn.model_selection import train_test_split\n",
    "from sklearn.metrics import mean_squared_error as MSE\n",
    "from sklearn.metrics import confusion_matrix\n",
    "import time\n",
    "\n",
    "from sklearn.metrics import balanced_accuracy_score, precision_score, recall_score, precision_recall_curve, make_scorer,f1_score\n",
    "from sklearn.metrics import precision_recall_curve as PRC\n",
    "\n",
    "from scipy.spatial.distance import pdist\n",
    "from scipy.spatial.distance import cosine\n",
    "from scipy.spatial.distance import cdist\n",
    "\n",
    "from scipy.stats import norm\n",
    "import scipy\n",
    "\n",
    "import metrics\n",
    "\n",
    "data_dir = '/run/media/mnewlin/_userdata/uhnds/'\n",
    "original_netflow_data_dir = data_dir + 'network/extracted/'\n",
    "original_netflow_file = 'netflow_day-02'\n",
    "fake_dir = '/run/media/mnewlin/_userdata/uhnds/network/converted/fake/'\n",
    "real_dir = '/run/media/mnewlin/_userdata/uhnds/network/converted/real/'\n",
    "real_file = 'netflow_day-02'"
   ]
  },
  {
   "cell_type": "code",
   "execution_count": 2,
   "metadata": {},
   "outputs": [],
   "source": [
    "\"\"\"\n",
    "    Generates probabilities for matrices X and Y, assuming given distribution\n",
    "    distribution defaults to normal (may add other distributions later)\n",
    "    \n",
    "\"\"\"\n",
    "def generate_probs(X,Y, dist='norm'):\n",
    "    X = np.array(X)\n",
    "    Y = np.array(Y)\n",
    "    num_rows = X.shape[0]\n",
    "    num_cols = X.shape[1]\n",
    "    norm_x = np.zeros((num_rows, num_cols))\n",
    "    norm_y = np.zeros((num_rows, num_cols))\n",
    "    if dist == 'norm':\n",
    "        for j in range(num_cols):\n",
    "            xj = X[:,j]\n",
    "\n",
    "            prob_xj = norm.pdf(xj, loc=xj.mean(), scale=xj.var())\n",
    "            norm_x[:,j] = prob_xj\n",
    "\n",
    "            yj = Y[:,j]\n",
    "\n",
    "            prob_yj = norm.pdf(yj, loc=yj.mean(), scale=yj.var())\n",
    "            norm_y[:,j] = prob_yj\n",
    "    return norm_x, norm_y"
   ]
  },
  {
   "cell_type": "markdown",
   "metadata": {},
   "source": [
    "## $l_p$ distance"
   ]
  },
  {
   "cell_type": "code",
   "execution_count": 3,
   "metadata": {},
   "outputs": [],
   "source": [
    "def l_p_distance(X,Y,p=2,r=2):\n",
    "    X = np.array(X)\n",
    "    Y = np.array(Y)\n",
    "    if (X.shape != Y.shape):\n",
    "        print(\"Usage: Matrices must be the same shape.\")\n",
    "        return -1\n",
    "    num_rows = X.shape[0]\n",
    "    distances = np.zeros((num_rows,1))\n",
    "    for i in range(num_rows):\n",
    "        x = X[i]\n",
    "        y = Y[i]\n",
    "        distances[i] = np.power(np.sum(np.power(np.abs(x-y),p)),(1/r))\n",
    "    \n",
    "    return np.mean(distances)"
   ]
  },
  {
   "cell_type": "code",
   "execution_count": 4,
   "metadata": {},
   "outputs": [
    {
     "name": "stdout",
     "output_type": "stream",
     "text": [
      "9.87831517751085\n"
     ]
    }
   ],
   "source": [
    "X = np.array([[1.,2.],\n",
    "              [3.,4.]])\n",
    "Y = 2*X\n",
    "\n",
    "print(l_p_distance(X,Y,p=0.5,r=0.5))\n"
   ]
  },
  {
   "cell_type": "markdown",
   "metadata": {},
   "source": [
    "## Cosine Similarity"
   ]
  },
  {
   "cell_type": "code",
   "execution_count": 5,
   "metadata": {},
   "outputs": [],
   "source": [
    "def cosine_similarity(X,Y):\n",
    "    X = np.array(X)\n",
    "    Y = np.array(Y)\n",
    "    num_rows = X.shape[0]\n",
    "    cos_sims = np.zeros((num_rows,1))\n",
    "    for i in range(num_rows):\n",
    "        x = X[i]\n",
    "        y = Y[i]\n",
    "        cos_sims[i] = cosine(x,y)\n",
    "        return np.mean(cos_sims)\n",
    "        "
   ]
  },
  {
   "cell_type": "code",
   "execution_count": 6,
   "metadata": {},
   "outputs": [
    {
     "name": "stdout",
     "output_type": "stream",
     "text": [
      "0.014928749927334062\n",
      "0.0\n"
     ]
    }
   ],
   "source": [
    "X = np.array([[1.,2.],\n",
    "              [3.,4.]])\n",
    "Y = X+5\n",
    "\n",
    "print(cosine_similarity(X,Y))\n",
    "\n",
    "\n",
    "X = np.array([[1.,2.],\n",
    "              [3.,4.]])\n",
    "Y = X\n",
    "print(cosine_similarity(X,Y))\n"
   ]
  },
  {
   "cell_type": "markdown",
   "metadata": {},
   "source": [
    "## Mahalanobis Distance"
   ]
  },
  {
   "cell_type": "code",
   "execution_count": 7,
   "metadata": {},
   "outputs": [],
   "source": [
    "def mahalanobis_distance(X,Y, cov=None):\n",
    "    X = np.array(X)\n",
    "    Y = np.array(Y)\n",
    "    x_minus_mu = X - np.mean(Y)\n",
    "    if not cov:\n",
    "        cov = np.cov(Y, rowvar=False)\n",
    "    inv_covmat = scipy.linalg.pinv(cov)\n",
    "    left_term = np.dot(x_minus_mu, inv_covmat)\n",
    "    mahal = np.dot(left_term, x_minus_mu.T)\n",
    "    \n",
    "    return np.mean(mahal.diagonal())\n",
    "    \n",
    "        "
   ]
  },
  {
   "cell_type": "code",
   "execution_count": 8,
   "metadata": {},
   "outputs": [
    {
     "name": "stdout",
     "output_type": "stream",
     "text": [
      "0.09084369809102696\n"
     ]
    }
   ],
   "source": [
    "X = np.array([[5580.,364445],\n",
    "              [6976.,450942.]])\n",
    "Y = np.array([[5197.,894353],\n",
    "              [7069.,680679.]])\n",
    "\n",
    "print(mahalanobis_distance(X,Y))\n",
    "\n",
    "\n"
   ]
  },
  {
   "cell_type": "markdown",
   "metadata": {},
   "source": [
    "## $\\chi^2$-distance "
   ]
  },
  {
   "cell_type": "code",
   "execution_count": 9,
   "metadata": {},
   "outputs": [],
   "source": [
    "def chi_squared_dist(X,Y):\n",
    "    X = np.array(X)\n",
    "    Y = np.array(Y)\n",
    "    prob_x, prob_y = generate_probs(X,Y)\n",
    "    chi_squares = np.ones(X.shape[1])\n",
    "    for j in range(chi_squares.size):\n",
    "        chi_squares[j] = np.sum(np.divide(np.power(prob_x-prob_y, 2), prob_y))\n",
    "    return np.mean(chi_squares)  "
   ]
  },
  {
   "cell_type": "code",
   "execution_count": 10,
   "metadata": {},
   "outputs": [
    {
     "name": "stdout",
     "output_type": "stream",
     "text": [
      "5.820811263338073e-07\n"
     ]
    }
   ],
   "source": [
    "X = np.array([[5580.,364445],\n",
    "              [6976.,450942.]])\n",
    "Y = np.array([[5197.,894353],\n",
    "              [7069.,680679.]])\n",
    "\n",
    "print(chi_squared_dist(X,Y))"
   ]
  },
  {
   "cell_type": "code",
   "execution_count": 11,
   "metadata": {},
   "outputs": [
    {
     "name": "stdout",
     "output_type": "stream",
     "text": [
      "[[[ 1  2]\n",
      "  [ 3  4]]\n",
      "\n",
      " [[ 5  6]\n",
      "  [ 7  8]]\n",
      "\n",
      " [[ 9 10]\n",
      "  [11 12]]]\n"
     ]
    }
   ],
   "source": [
    "a = np.array([[1,2],\n",
    "              [3,4],\n",
    "              [5,6],\n",
    "              [7,8],\n",
    "              [9,10],\n",
    "              [11,12]])\n",
    "new_a = np.reshape(a,(3,2,2))\n",
    "print(new_a)"
   ]
  },
  {
   "cell_type": "code",
   "execution_count": 12,
   "metadata": {},
   "outputs": [],
   "source": [
    "def score_samples(data, sample_length, num_samples, metric='lp', p=2, r=2):\n",
    "    # Reshape data into 3d array of n*l*w from 2d array of nl*w\n",
    "    sample_list = np.reshape(np.array(data), (num_samples, sample_length, data.shape[1]))\n",
    "    dist_matrix = np.zeros((num_samples, num_samples))\n",
    "    if metric == 'lp':\n",
    "        # Do pairwise metrics\n",
    "        for i in range(num_samples):\n",
    "            for j in range(num_samples):\n",
    "                d = l_p_distance(sample_list[i], sample_list[j], p=p, r=r)\n",
    "                dist_matrix[i,j] = d\n",
    "        return np.mean(dist_matrix)\n",
    "\n",
    "    return -1"
   ]
  },
  {
   "cell_type": "code",
   "execution_count": 13,
   "metadata": {},
   "outputs": [
    {
     "name": "stdout",
     "output_type": "stream",
     "text": [
      "8.959438577030209\n"
     ]
    }
   ],
   "source": [
    "score = score_samples(a, sample_length=2, num_samples=3, p=0.75, r=0.75)\n",
    "print(score)"
   ]
  },
  {
   "cell_type": "code",
   "execution_count": 14,
   "metadata": {},
   "outputs": [
    {
     "name": "stdout",
     "output_type": "stream",
     "text": [
      "[0.03119458 0.03308301 0.03406967 0.03406967 0.03308301 0.03119458]\n"
     ]
    }
   ],
   "source": [
    "a0_pdf = norm.pdf(a[:,0], loc=a[:,0].mean(), scale = a[:,0].var())\n",
    "print(a0_pdf)"
   ]
  },
  {
   "cell_type": "code",
   "execution_count": 44,
   "metadata": {},
   "outputs": [
    {
     "name": "stdout",
     "output_type": "stream",
     "text": [
      "[[3. 2. 3.]\n",
      " [5. 0. 1.]\n",
      " [5. 8. 7.]\n",
      " [0. 6. 7.]\n",
      " [1. 0. 7.]]\n",
      "[[-0.21099202  0.4740262   0.84001279 -1.353355   -1.22244974]\n",
      " [ 0.35416517 -2.07842259  0.96415261 -0.42229996  1.27945517]\n",
      " [ 1.37144811  0.6766015  -1.76692344  1.77232976  1.88117914]\n",
      " [-0.17331487 -0.01215452  0.63311308 -0.48880389  0.45604343]\n",
      " [-1.22827495  0.83866175  1.21243225  0.20948738 -0.68406514]\n",
      " [ 1.25841667 -0.17421476 -0.31862554  0.20948738 -0.14568054]\n",
      " [ 1.37144811  0.71711657  0.46759332 -0.72156765 -0.62072578]\n",
      " [-0.66311777 -1.71378705  0.17793374 -0.98758338 -0.68406514]\n",
      " [-1.45433783  0.59557138 -1.64278362  0.04322756  0.80440993]\n",
      " [-0.62544062  0.6766015  -0.56690518  1.7390778  -1.06410133]]\n",
      "[[-0.01117318 -0.075       0.4        -1.33333333 -0.59887006]\n",
      " [ 0.32402235 -3.225       0.496      -0.26666667  1.18644068]\n",
      " [ 0.9273743   0.175      -1.616       2.24761905  1.61581921]\n",
      " [ 0.01117318 -0.675       0.24       -0.34285714  0.59887006]\n",
      " [-0.61452514  0.375       0.688       0.45714286 -0.21468927]\n",
      " [ 0.8603352  -0.875      -0.496       0.45714286  0.16949153]\n",
      " [ 0.9273743   0.225       0.112      -0.60952381 -0.16949153]\n",
      " [-0.27932961 -2.775      -0.112      -0.91428571 -0.21468927]\n",
      " [-0.74860335  0.075      -1.52        0.26666667  0.84745763]\n",
      " [-0.25698324  0.175      -0.688       2.20952381 -0.48587571]]\n"
     ]
    }
   ],
   "source": [
    "from sklearn.preprocessing import StandardScaler,RobustScaler\n",
    "data = np.random.randint(0,100, (10,5)).astype(np.float64)\n",
    "#Y = np.random.randint(0,100, (10,5)).astype(np.float64)\n",
    "\n",
    "print(X)\n",
    "scaler = StandardScaler()\n",
    "scaler.fit(data)\n",
    "XT = scaler.transform(data)\n",
    "print(XT)\n",
    "\n",
    "rscaler = RobustScaler()\n",
    "#rscaler.fit(data)\n",
    "\n",
    "XT2 = rscaler.fit_transform(data)\n",
    "print(XT2)"
   ]
  },
  {
   "cell_type": "code",
   "execution_count": 55,
   "metadata": {},
   "outputs": [
    {
     "name": "stdout",
     "output_type": "stream",
     "text": [
      "[0 1 2 3 4 5]\n",
      "2.5\n",
      "2.993795165523909\n",
      "2.220906154852325\n"
     ]
    }
   ],
   "source": [
    "from scipy.stats.mstats import gmean\n",
    "\n",
    "X = np.array([0,1,2,3,4,5])\n",
    "print(X)\n",
    "print(np.mean(X))\n",
    "print(gmean(X+1))\n",
    "print(gmean(np.where(X==0,1,X)))"
   ]
  },
  {
   "cell_type": "code",
   "execution_count": 48,
   "metadata": {},
   "outputs": [
    {
     "name": "stdout",
     "output_type": "stream",
     "text": [
      "[1.e+00 2.e+00 3.e+00 1.e-03 5.e+00 1.e-03 6.e+00 1.e-03]\n"
     ]
    }
   ],
   "source": [
    "a = np.array([1,2,3,0,5,0,6,0])\n",
    "epsilon = 1e-3\n",
    "a = np.where(a == 0, epsilon, a)\n",
    "print(a)"
   ]
  },
  {
   "cell_type": "code",
   "execution_count": 34,
   "metadata": {},
   "outputs": [
    {
     "name": "stdout",
     "output_type": "stream",
     "text": [
      "[[8 6 1]\n",
      " [6 1 9]\n",
      " [9 4 8]\n",
      " [5 6 9]\n",
      " [3 6 0]]\n",
      "[6.2 4.6 5.4]\n",
      "[[ 0.39473684  0.36458333 -0.27093596]\n",
      " [-0.04385965 -0.9375      0.22167488]\n",
      " [ 0.61403509 -0.15625     0.16009852]\n",
      " [-0.26315789  0.36458333  0.22167488]\n",
      " [-0.70175439  0.36458333 -0.33251232]]\n"
     ]
    }
   ],
   "source": [
    "a = np.random.randint(0,10, (5,3))\n",
    "am = np.mean(a, axis=0)\n",
    "astd = np.std(a,axis=0)\n",
    "print(a)\n",
    "print(am)\n",
    "print((a-am)/(astd**2))"
   ]
  },
  {
   "cell_type": "code",
   "execution_count": 60,
   "metadata": {},
   "outputs": [
    {
     "name": "stdout",
     "output_type": "stream",
     "text": [
      "29.169477440824746\n",
      "29.169477440824746\n",
      "0.0\n"
     ]
    }
   ],
   "source": [
    "\n",
    "\n",
    "X1 = np.random.randint(0,10, (10,4)).astype(np.float64)\n",
    "X2 = np.random.randint(5,20, (10,4)).astype(np.float64)\n",
    "\n",
    "\n",
    "\n",
    "from scipy.spatial.distance import cdist\n",
    "\n",
    "stack = np.vstack([X1, X2])\n",
    "VI = np.linalg.pinv(np.cov(stack, rowvar=False))\n",
    "d1 = cdist(X1,X2, 'mahalanobis', VI=VI)\n",
    "d2 = cdist(X1,X1, 'mahalanobis', VI=VI)\n",
    "print(np.sum(d1.diagonal()))\n",
    "print(np.trace(d1))\n",
    "print(np.sum(d2.diagonal()))\n"
   ]
  },
  {
   "cell_type": "code",
   "execution_count": 29,
   "metadata": {},
   "outputs": [
    {
     "data": {
      "text/html": [
       "<div>\n",
       "<style scoped>\n",
       "    .dataframe tbody tr th:only-of-type {\n",
       "        vertical-align: middle;\n",
       "    }\n",
       "\n",
       "    .dataframe tbody tr th {\n",
       "        vertical-align: top;\n",
       "    }\n",
       "\n",
       "    .dataframe thead th {\n",
       "        text-align: right;\n",
       "    }\n",
       "</style>\n",
       "<table border=\"1\" class=\"dataframe\">\n",
       "  <thead>\n",
       "    <tr style=\"text-align: right;\">\n",
       "      <th></th>\n",
       "      <th>0</th>\n",
       "      <th>1</th>\n",
       "      <th>2</th>\n",
       "      <th>3</th>\n",
       "      <th>4</th>\n",
       "      <th>5</th>\n",
       "      <th>6</th>\n",
       "      <th>7</th>\n",
       "      <th>8</th>\n",
       "      <th>9</th>\n",
       "    </tr>\n",
       "  </thead>\n",
       "  <tbody>\n",
       "    <tr>\n",
       "      <th>Max</th>\n",
       "      <td>7655151.0</td>\n",
       "      <td>999955.0</td>\n",
       "      <td>999970.0</td>\n",
       "      <td>17.0</td>\n",
       "      <td>99998.0</td>\n",
       "      <td>99993.0</td>\n",
       "      <td>2.396174e+09</td>\n",
       "      <td>3.201805e+09</td>\n",
       "      <td>4.193353e+11</td>\n",
       "      <td>6.139666e+11</td>\n",
       "    </tr>\n",
       "    <tr>\n",
       "      <th>Min</th>\n",
       "      <td>0.0</td>\n",
       "      <td>22.0</td>\n",
       "      <td>190.0</td>\n",
       "      <td>1.0</td>\n",
       "      <td>2.0</td>\n",
       "      <td>7.0</td>\n",
       "      <td>0.000000e+00</td>\n",
       "      <td>0.000000e+00</td>\n",
       "      <td>0.000000e+00</td>\n",
       "      <td>0.000000e+00</td>\n",
       "    </tr>\n",
       "  </tbody>\n",
       "</table>\n",
       "</div>"
      ],
      "text/plain": [
       "             0         1         2     3        4        5             6  \\\n",
       "Max  7655151.0  999955.0  999970.0  17.0  99998.0  99993.0  2.396174e+09   \n",
       "Min        0.0      22.0     190.0   1.0      2.0      7.0  0.000000e+00   \n",
       "\n",
       "                7             8             9  \n",
       "Max  3.201805e+09  4.193353e+11  6.139666e+11  \n",
       "Min  0.000000e+00  0.000000e+00  0.000000e+00  "
      ]
     },
     "metadata": {},
     "output_type": "display_data"
    }
   ],
   "source": [
    "REAL_MAXES = np.array([7655151.0, 999955.0, 999970.0, 17.0, 99998.0,\n",
    "                       99993.0, 2396174200.0, 3201805425.0, 419335297728.0,\n",
    "                       613966629092.0])\n",
    "REAL_MINS = np.array([0., 22., 190., 1., 2., 7., 0., 0., 0., 0.])\n",
    "\n",
    "real = pd.DataFrame(data = [REAL_MAXES, REAL_MINS], index=['Max', 'Min'])\n",
    "display(real)"
   ]
  },
  {
   "cell_type": "code",
   "execution_count": 19,
   "metadata": {},
   "outputs": [],
   "source": [
    "def fid(X,Y):\n",
    "\n",
    "    X = np.array(X)\n",
    "    Y = np.array(Y)\n",
    "    prob_x, prob_y = metrics.generate_probs(X,Y)\n",
    "    mu_x = np.mean(prob_x, axis=0)\n",
    "    mu_y = np.mean(prob_y, axis=0)\n",
    "    \n",
    "    Cx = np.cov(prob_x,rowvar=False)\n",
    "    Cy = np.cov(prob_y, rowvar=False)\n",
    "    ssdiff = np.sum(np.square(mu_x-mu_y))\n",
    "    covmean = scipy.linalg.sqrtm(Cx.dot(Cy))\n",
    "    score = ssdiff + np.trace(Cx + Cy - 2.0*covmean)\n",
    "    return np.abs(score)"
   ]
  },
  {
   "cell_type": "code",
   "execution_count": 24,
   "metadata": {},
   "outputs": [
    {
     "name": "stdout",
     "output_type": "stream",
     "text": [
      "0.0005690449185567254\n"
     ]
    }
   ],
   "source": [
    "X1 = np.random.randint(0,100000000, (100,10)).astype(np.float64)\n",
    "X2 = np.random.randint(100,1000, (100,10)).astype(np.float64)\n",
    "\n",
    "f0 = metrics.chi_squared_dist(X1,X2)\n",
    "\n",
    "\n",
    "#print(f1)\n",
    "print(f0)"
   ]
  },
  {
   "cell_type": "code",
   "execution_count": 25,
   "metadata": {},
   "outputs": [],
   "source": [
    "def alt_mahalanobis(X,Y):\n",
    "    X = np.array(X)\n",
    "    Y = np.array(Y)\n",
    "    mahalanobis = cdist(X, Y, 'mahalanobis')\n",
    "    return np.mean(np.nan_to_num(mahalanobis))"
   ]
  },
  {
   "cell_type": "code",
   "execution_count": 26,
   "metadata": {},
   "outputs": [],
   "source": [
    "def mahalanobis_distance(X,Y):\n",
    "    X = np.array(X)\n",
    "    Y = np.array(Y)\n",
    "    stack = np.vstack([X, Y])\n",
    "    VI = np.linalg.pinv(np.cov(stack, rowvar=False))\n",
    "    mahalanobis = cdist(X, Y, 'mahalanobis', VI=VI)\n",
    "    return np.mean(np.nan_to_num(mahalanobis))\n"
   ]
  },
  {
   "cell_type": "code",
   "execution_count": 27,
   "metadata": {},
   "outputs": [
    {
     "name": "stdout",
     "output_type": "stream",
     "text": [
      "4.365225038092692\n",
      "4.365225038092692\n"
     ]
    }
   ],
   "source": [
    "X1 = np.random.randint(0,100000000, (100,10)).astype(np.float64)\n",
    "X2 = np.random.randint(100,1000, (100,10)).astype(np.float64)\n",
    "\n",
    "d = alt_mahalanobis(X1,X1)\n",
    "print(d)\n",
    "d0 = mahalanobis_distance(X1,X1)\n",
    "print(d0)"
   ]
  },
  {
   "cell_type": "code",
   "execution_count": 133,
   "metadata": {},
   "outputs": [
    {
     "name": "stdout",
     "output_type": "stream",
     "text": [
      "[[-0.21934199 -0.29170581 -0.0988365  -0.04780687  0.13271962 -0.61140977\n",
      "   0.02163689 -0.38279516  0.14159024 -0.54429604]\n",
      " [-0.30471989  0.69836831  0.25590302 -0.06732126  0.40821972  0.05275839\n",
      "   0.17602928 -0.27779936  0.26724203  0.02012737]\n",
      " [-0.36656236 -0.19905392 -0.30822141 -0.073805    0.42413997  0.3106361\n",
      "   0.41101609  0.44765473 -0.11645448 -0.25745256]\n",
      " [-0.27474518 -0.00831652 -0.22423442  0.31316344 -0.48924904  0.13698992\n",
      "   0.15252014  0.07391691  0.69939941 -0.00877547]\n",
      " [ 0.18162111 -0.12290771 -0.07596215  0.46699547  0.22544084  0.56444945\n",
      "  -0.24290039 -0.44866545 -0.0199657  -0.31293096]\n",
      " [-0.09583462 -0.18025053 -0.3508781  -0.01047965 -0.01477602  0.00925911\n",
      "   0.45199668 -0.549268   -0.19348801  0.53977977]\n",
      " [-0.15994374  0.5004366  -0.57459345 -0.14368454 -0.33911584  0.03022203\n",
      "  -0.22360574 -0.06744225 -0.36728202 -0.2604253 ]\n",
      " [ 0.16126593  0.04824334 -0.53013237  0.09239493  0.47937572 -0.23523815\n",
      "  -0.4069795   0.15799097  0.31021682  0.33184745]\n",
      " [ 0.38904359 -0.07754485 -0.13712643 -0.74177473 -0.02111355  0.29214522\n",
      "   0.06110283 -0.1599776   0.36982178 -0.14734084]\n",
      " [ 0.63566334  0.28482246 -0.14344397  0.30340965  0.01394666 -0.21873619\n",
      "   0.54192428  0.11107862 -0.00881895 -0.21917233]]\n",
      "[[-0.21934199 -0.29170581 -0.0988365  -0.04780687  0.13271962 -0.61140977\n",
      "   0.02163689 -0.38279516  0.14159024 -0.54429604]\n",
      " [-0.30471989  0.69836831  0.25590302 -0.06732126  0.40821972  0.05275839\n",
      "   0.17602928 -0.27779936  0.26724203  0.02012737]\n",
      " [-0.36656236 -0.19905392 -0.30822141 -0.073805    0.42413997  0.3106361\n",
      "   0.41101609  0.44765473 -0.11645448 -0.25745256]\n",
      " [-0.27474518 -0.00831652 -0.22423442  0.31316344 -0.48924904  0.13698992\n",
      "   0.15252014  0.07391691  0.69939941 -0.00877547]\n",
      " [ 0.18162111 -0.12290771 -0.07596215  0.46699547  0.22544084  0.56444945\n",
      "  -0.24290039 -0.44866545 -0.0199657  -0.31293096]\n",
      " [-0.09583462 -0.18025053 -0.3508781  -0.01047965 -0.01477602  0.00925911\n",
      "   0.45199668 -0.549268   -0.19348801  0.53977977]\n",
      " [-0.15994374  0.5004366  -0.57459345 -0.14368454 -0.33911584  0.03022203\n",
      "  -0.22360574 -0.06744225 -0.36728202 -0.2604253 ]\n",
      " [ 0.16126593  0.04824334 -0.53013237  0.09239493  0.47937572 -0.23523815\n",
      "  -0.4069795   0.15799097  0.31021682  0.33184745]\n",
      " [ 0.38904359 -0.07754485 -0.13712643 -0.74177473 -0.02111355  0.29214522\n",
      "   0.06110283 -0.1599776   0.36982178 -0.14734084]\n",
      " [ 0.63566334  0.28482246 -0.14344397  0.30340965  0.01394666 -0.21873619\n",
      "   0.54192428  0.11107862 -0.00881895 -0.21917233]]\n"
     ]
    }
   ],
   "source": [
    "from sklearn.decomposition import PCA\n",
    "\n",
    "X1 = np.random.randint(0,100000000, (100,10)).astype(np.float64)\n",
    "X2 = np.random.randint(0,100000000, (100,10)).astype(np.float64)\n",
    "\n",
    "pca1 = PCA()\n",
    "pca1.fit(X1)\n",
    "x = pca1.components_\n",
    "print(x)\n",
    "\n",
    "pca1.fit(X2)\n",
    "y = pca1.components_\n",
    "print(x)"
   ]
  },
  {
   "cell_type": "code",
   "execution_count": 47,
   "metadata": {},
   "outputs": [
    {
     "name": "stdout",
     "output_type": "stream",
     "text": [
      "[[1782.          -30.          -82.          -30.        ]\n",
      " [-196.1271243    86.68512643  -35.79586138 -200.94248064]\n",
      " [-119.96651784  -63.47187516  -39.12054649   69.60461758]\n",
      " [ -56.3728757  -137.02360258 -110.70413862  -19.7190432 ]\n",
      " [ 111.46651784  175.4876702    62.62054649  -86.62041262]\n",
      " [ -20.         -134.         -152.         -134.        ]\n",
      " [ 111.46651784  -86.62041262   62.62054649  175.4876702 ]\n",
      " [ -56.3728757   -19.7190432  -110.70413862 -137.02360258]\n",
      " [-119.96651784   69.60461758  -39.12054649  -63.47187516]\n",
      " [-196.1271243  -200.94248064  -35.79586138   86.68512643]]\n",
      "(10, 4)\n"
     ]
    }
   ],
   "source": [
    "from numpy.fft import fftn\n",
    "\n",
    "X1 = np.random.randint(0,100, (10,4)).astype(np.float64)\n",
    "X2 = np.random.randint(0,100, (10,4)).astype(np.float64)\n",
    "\n",
    "f1 = fftn(X1)\n",
    "f1_real = f1.real\n",
    "print(f1_real)\n",
    "print(f1_real.shape)"
   ]
  },
  {
   "cell_type": "code",
   "execution_count": 28,
   "metadata": {},
   "outputs": [
    {
     "name": "stdout",
     "output_type": "stream",
     "text": [
      "[17, 72, 97, 8, 32, 15, 63, 57, 60, 83, 48, 26, 12, 62, 3, 49, 55, 77, 98, 0]\n"
     ]
    }
   ],
   "source": [
    "import random\n",
    "random_state=1\n",
    "num_samples=20\n",
    "sample_range=100\n",
    "random.seed(a=random_state)\n",
    "sample_list = random.sample(range(sample_range), num_samples)\n",
    "print(sample_list)"
   ]
  },
  {
   "cell_type": "code",
   "execution_count": 42,
   "metadata": {},
   "outputs": [
    {
     "data": {
      "text/html": [
       "<div>\n",
       "<style scoped>\n",
       "    .dataframe tbody tr th:only-of-type {\n",
       "        vertical-align: middle;\n",
       "    }\n",
       "\n",
       "    .dataframe tbody tr th {\n",
       "        vertical-align: top;\n",
       "    }\n",
       "\n",
       "    .dataframe thead th {\n",
       "        text-align: right;\n",
       "    }\n",
       "</style>\n",
       "<table border=\"1\" class=\"dataframe\">\n",
       "  <thead>\n",
       "    <tr style=\"text-align: right;\">\n",
       "      <th></th>\n",
       "      <th>AuthenticationPackage</th>\n",
       "      <th>Computer</th>\n",
       "      <th>DomainName</th>\n",
       "      <th>EventID</th>\n",
       "      <th>LogonID</th>\n",
       "      <th>LogonType</th>\n",
       "      <th>LogonTypeDescription</th>\n",
       "      <th>ServiceName</th>\n",
       "      <th>Source</th>\n",
       "      <th>Status</th>\n",
       "      <th>Time</th>\n",
       "      <th>UserName</th>\n",
       "    </tr>\n",
       "  </thead>\n",
       "  <tbody>\n",
       "    <tr>\n",
       "      <th>0</th>\n",
       "      <td>nan</td>\n",
       "      <td>ActiveDirectory</td>\n",
       "      <td>Domain002</td>\n",
       "      <td>4769</td>\n",
       "      <td>nan</td>\n",
       "      <td>nan</td>\n",
       "      <td>nan</td>\n",
       "      <td>Comp883934$</td>\n",
       "      <td>Comp309534</td>\n",
       "      <td>0x0</td>\n",
       "      <td>2</td>\n",
       "      <td>User624729</td>\n",
       "    </tr>\n",
       "    <tr>\n",
       "      <th>1</th>\n",
       "      <td>MICROSOFT_AUTHENTICATION_PACKAGE_V1_0</td>\n",
       "      <td>ActiveDirectory</td>\n",
       "      <td>Domain002</td>\n",
       "      <td>4776</td>\n",
       "      <td>nan</td>\n",
       "      <td>nan</td>\n",
       "      <td>nan</td>\n",
       "      <td>nan</td>\n",
       "      <td>nan</td>\n",
       "      <td>0x0</td>\n",
       "      <td>2</td>\n",
       "      <td>Scanner</td>\n",
       "    </tr>\n",
       "    <tr>\n",
       "      <th>2</th>\n",
       "      <td>nan</td>\n",
       "      <td>ActiveDirectory</td>\n",
       "      <td>Domain002</td>\n",
       "      <td>4672</td>\n",
       "      <td>0x2e66398d</td>\n",
       "      <td>nan</td>\n",
       "      <td>nan</td>\n",
       "      <td>nan</td>\n",
       "      <td>nan</td>\n",
       "      <td>nan</td>\n",
       "      <td>2</td>\n",
       "      <td>ActiveDirectory$</td>\n",
       "    </tr>\n",
       "    <tr>\n",
       "      <th>3</th>\n",
       "      <td>Kerberos</td>\n",
       "      <td>ActiveDirectory</td>\n",
       "      <td>Domain002</td>\n",
       "      <td>4624</td>\n",
       "      <td>0x2e66398d</td>\n",
       "      <td>3.0</td>\n",
       "      <td>Network</td>\n",
       "      <td>nan</td>\n",
       "      <td>nan</td>\n",
       "      <td>nan</td>\n",
       "      <td>2</td>\n",
       "      <td>ActiveDirectory$</td>\n",
       "    </tr>\n",
       "    <tr>\n",
       "      <th>4</th>\n",
       "      <td>nan</td>\n",
       "      <td>ActiveDirectory</td>\n",
       "      <td>Domain002</td>\n",
       "      <td>4634</td>\n",
       "      <td>0x2e66398d</td>\n",
       "      <td>3.0</td>\n",
       "      <td>Network</td>\n",
       "      <td>nan</td>\n",
       "      <td>nan</td>\n",
       "      <td>nan</td>\n",
       "      <td>2</td>\n",
       "      <td>ActiveDirectory$</td>\n",
       "    </tr>\n",
       "    <tr>\n",
       "      <th>5</th>\n",
       "      <td>Kerberos</td>\n",
       "      <td>Comp966305</td>\n",
       "      <td>Domain002</td>\n",
       "      <td>4624</td>\n",
       "      <td>0x9f17415</td>\n",
       "      <td>3.0</td>\n",
       "      <td>Network</td>\n",
       "      <td>nan</td>\n",
       "      <td>nan</td>\n",
       "      <td>nan</td>\n",
       "      <td>2</td>\n",
       "      <td>User380010</td>\n",
       "    </tr>\n",
       "    <tr>\n",
       "      <th>6</th>\n",
       "      <td>nan</td>\n",
       "      <td>Comp966305</td>\n",
       "      <td>Domain002</td>\n",
       "      <td>4634</td>\n",
       "      <td>0x9f17415</td>\n",
       "      <td>3.0</td>\n",
       "      <td>Network</td>\n",
       "      <td>nan</td>\n",
       "      <td>nan</td>\n",
       "      <td>nan</td>\n",
       "      <td>2</td>\n",
       "      <td>User380010</td>\n",
       "    </tr>\n",
       "    <tr>\n",
       "      <th>7</th>\n",
       "      <td>Kerberos</td>\n",
       "      <td>Comp966305</td>\n",
       "      <td>Domain002</td>\n",
       "      <td>4624</td>\n",
       "      <td>0x9f17637</td>\n",
       "      <td>3.0</td>\n",
       "      <td>Network</td>\n",
       "      <td>nan</td>\n",
       "      <td>nan</td>\n",
       "      <td>nan</td>\n",
       "      <td>2</td>\n",
       "      <td>User096622</td>\n",
       "    </tr>\n",
       "    <tr>\n",
       "      <th>8</th>\n",
       "      <td>nan</td>\n",
       "      <td>Comp966305</td>\n",
       "      <td>Domain002</td>\n",
       "      <td>4634</td>\n",
       "      <td>0x9f17637</td>\n",
       "      <td>3.0</td>\n",
       "      <td>Network</td>\n",
       "      <td>nan</td>\n",
       "      <td>nan</td>\n",
       "      <td>nan</td>\n",
       "      <td>2</td>\n",
       "      <td>User096622</td>\n",
       "    </tr>\n",
       "    <tr>\n",
       "      <th>9</th>\n",
       "      <td>Kerberos</td>\n",
       "      <td>Comp966305</td>\n",
       "      <td>Domain002</td>\n",
       "      <td>4624</td>\n",
       "      <td>0x9f17fe4</td>\n",
       "      <td>3.0</td>\n",
       "      <td>Network</td>\n",
       "      <td>nan</td>\n",
       "      <td>nan</td>\n",
       "      <td>nan</td>\n",
       "      <td>2</td>\n",
       "      <td>User233472</td>\n",
       "    </tr>\n",
       "  </tbody>\n",
       "</table>\n",
       "</div>"
      ],
      "text/plain": [
       "                   AuthenticationPackage         Computer DomainName EventID  \\\n",
       "0                                    nan  ActiveDirectory  Domain002    4769   \n",
       "1  MICROSOFT_AUTHENTICATION_PACKAGE_V1_0  ActiveDirectory  Domain002    4776   \n",
       "2                                    nan  ActiveDirectory  Domain002    4672   \n",
       "3                               Kerberos  ActiveDirectory  Domain002    4624   \n",
       "4                                    nan  ActiveDirectory  Domain002    4634   \n",
       "5                               Kerberos       Comp966305  Domain002    4624   \n",
       "6                                    nan       Comp966305  Domain002    4634   \n",
       "7                               Kerberos       Comp966305  Domain002    4624   \n",
       "8                                    nan       Comp966305  Domain002    4634   \n",
       "9                               Kerberos       Comp966305  Domain002    4624   \n",
       "\n",
       "      LogonID LogonType LogonTypeDescription  ServiceName      Source Status  \\\n",
       "0         nan       nan                  nan  Comp883934$  Comp309534    0x0   \n",
       "1         nan       nan                  nan          nan         nan    0x0   \n",
       "2  0x2e66398d       nan                  nan          nan         nan    nan   \n",
       "3  0x2e66398d       3.0              Network          nan         nan    nan   \n",
       "4  0x2e66398d       3.0              Network          nan         nan    nan   \n",
       "5   0x9f17415       3.0              Network          nan         nan    nan   \n",
       "6   0x9f17415       3.0              Network          nan         nan    nan   \n",
       "7   0x9f17637       3.0              Network          nan         nan    nan   \n",
       "8   0x9f17637       3.0              Network          nan         nan    nan   \n",
       "9   0x9f17fe4       3.0              Network          nan         nan    nan   \n",
       "\n",
       "  Time          UserName  \n",
       "0    2        User624729  \n",
       "1    2           Scanner  \n",
       "2    2  ActiveDirectory$  \n",
       "3    2  ActiveDirectory$  \n",
       "4    2  ActiveDirectory$  \n",
       "5    2        User380010  \n",
       "6    2        User380010  \n",
       "7    2        User096622  \n",
       "8    2        User096622  \n",
       "9    2        User233472  "
      ]
     },
     "metadata": {},
     "output_type": "display_data"
    },
    {
     "data": {
      "text/html": [
       "<div>\n",
       "<style scoped>\n",
       "    .dataframe tbody tr th:only-of-type {\n",
       "        vertical-align: middle;\n",
       "    }\n",
       "\n",
       "    .dataframe tbody tr th {\n",
       "        vertical-align: top;\n",
       "    }\n",
       "\n",
       "    .dataframe thead th {\n",
       "        text-align: right;\n",
       "    }\n",
       "</style>\n",
       "<table border=\"1\" class=\"dataframe\">\n",
       "  <thead>\n",
       "    <tr style=\"text-align: right;\">\n",
       "      <th></th>\n",
       "      <th>AuthenticationPackage</th>\n",
       "      <th>Computer</th>\n",
       "      <th>DomainName</th>\n",
       "      <th>EventID</th>\n",
       "      <th>LogonID</th>\n",
       "      <th>LogonType</th>\n",
       "      <th>LogonTypeDescription</th>\n",
       "      <th>ServiceName</th>\n",
       "      <th>Source</th>\n",
       "      <th>Status</th>\n",
       "      <th>Time</th>\n",
       "      <th>UserName</th>\n",
       "    </tr>\n",
       "  </thead>\n",
       "  <tbody>\n",
       "    <tr>\n",
       "      <th>0</th>\n",
       "      <td>nan</td>\n",
       "      <td>ActiveDirectory</td>\n",
       "      <td>Domain002</td>\n",
       "      <td>4769</td>\n",
       "      <td>nan</td>\n",
       "      <td>nan</td>\n",
       "      <td>nan</td>\n",
       "      <td>Comp883934</td>\n",
       "      <td>Comp309534</td>\n",
       "      <td>0x0</td>\n",
       "      <td>2</td>\n",
       "      <td>User624729</td>\n",
       "    </tr>\n",
       "    <tr>\n",
       "      <th>1</th>\n",
       "      <td>MICROSOFT_AUTHENTICATION_PACKAGE_V1_0</td>\n",
       "      <td>ActiveDirectory</td>\n",
       "      <td>Domain002</td>\n",
       "      <td>4776</td>\n",
       "      <td>nan</td>\n",
       "      <td>nan</td>\n",
       "      <td>nan</td>\n",
       "      <td>nan</td>\n",
       "      <td>nan</td>\n",
       "      <td>0x0</td>\n",
       "      <td>2</td>\n",
       "      <td>Scanner</td>\n",
       "    </tr>\n",
       "    <tr>\n",
       "      <th>2</th>\n",
       "      <td>nan</td>\n",
       "      <td>ActiveDirectory</td>\n",
       "      <td>Domain002</td>\n",
       "      <td>4672</td>\n",
       "      <td>0x2e66398d</td>\n",
       "      <td>nan</td>\n",
       "      <td>nan</td>\n",
       "      <td>nan</td>\n",
       "      <td>nan</td>\n",
       "      <td>nan</td>\n",
       "      <td>2</td>\n",
       "      <td>ActiveDirectory</td>\n",
       "    </tr>\n",
       "    <tr>\n",
       "      <th>3</th>\n",
       "      <td>Kerberos</td>\n",
       "      <td>ActiveDirectory</td>\n",
       "      <td>Domain002</td>\n",
       "      <td>4624</td>\n",
       "      <td>0x2e66398d</td>\n",
       "      <td>3.0</td>\n",
       "      <td>Network</td>\n",
       "      <td>nan</td>\n",
       "      <td>nan</td>\n",
       "      <td>nan</td>\n",
       "      <td>2</td>\n",
       "      <td>ActiveDirectory</td>\n",
       "    </tr>\n",
       "    <tr>\n",
       "      <th>4</th>\n",
       "      <td>nan</td>\n",
       "      <td>ActiveDirectory</td>\n",
       "      <td>Domain002</td>\n",
       "      <td>4634</td>\n",
       "      <td>0x2e66398d</td>\n",
       "      <td>3.0</td>\n",
       "      <td>Network</td>\n",
       "      <td>nan</td>\n",
       "      <td>nan</td>\n",
       "      <td>nan</td>\n",
       "      <td>2</td>\n",
       "      <td>ActiveDirectory</td>\n",
       "    </tr>\n",
       "    <tr>\n",
       "      <th>5</th>\n",
       "      <td>Kerberos</td>\n",
       "      <td>Comp966305</td>\n",
       "      <td>Domain002</td>\n",
       "      <td>4624</td>\n",
       "      <td>0x9f17415</td>\n",
       "      <td>3.0</td>\n",
       "      <td>Network</td>\n",
       "      <td>nan</td>\n",
       "      <td>nan</td>\n",
       "      <td>nan</td>\n",
       "      <td>2</td>\n",
       "      <td>User380010</td>\n",
       "    </tr>\n",
       "    <tr>\n",
       "      <th>6</th>\n",
       "      <td>nan</td>\n",
       "      <td>Comp966305</td>\n",
       "      <td>Domain002</td>\n",
       "      <td>4634</td>\n",
       "      <td>0x9f17415</td>\n",
       "      <td>3.0</td>\n",
       "      <td>Network</td>\n",
       "      <td>nan</td>\n",
       "      <td>nan</td>\n",
       "      <td>nan</td>\n",
       "      <td>2</td>\n",
       "      <td>User380010</td>\n",
       "    </tr>\n",
       "    <tr>\n",
       "      <th>7</th>\n",
       "      <td>Kerberos</td>\n",
       "      <td>Comp966305</td>\n",
       "      <td>Domain002</td>\n",
       "      <td>4624</td>\n",
       "      <td>0x9f17637</td>\n",
       "      <td>3.0</td>\n",
       "      <td>Network</td>\n",
       "      <td>nan</td>\n",
       "      <td>nan</td>\n",
       "      <td>nan</td>\n",
       "      <td>2</td>\n",
       "      <td>User096622</td>\n",
       "    </tr>\n",
       "    <tr>\n",
       "      <th>8</th>\n",
       "      <td>nan</td>\n",
       "      <td>Comp966305</td>\n",
       "      <td>Domain002</td>\n",
       "      <td>4634</td>\n",
       "      <td>0x9f17637</td>\n",
       "      <td>3.0</td>\n",
       "      <td>Network</td>\n",
       "      <td>nan</td>\n",
       "      <td>nan</td>\n",
       "      <td>nan</td>\n",
       "      <td>2</td>\n",
       "      <td>User096622</td>\n",
       "    </tr>\n",
       "    <tr>\n",
       "      <th>9</th>\n",
       "      <td>Kerberos</td>\n",
       "      <td>Comp966305</td>\n",
       "      <td>Domain002</td>\n",
       "      <td>4624</td>\n",
       "      <td>0x9f17fe4</td>\n",
       "      <td>3.0</td>\n",
       "      <td>Network</td>\n",
       "      <td>nan</td>\n",
       "      <td>nan</td>\n",
       "      <td>nan</td>\n",
       "      <td>2</td>\n",
       "      <td>User233472</td>\n",
       "    </tr>\n",
       "  </tbody>\n",
       "</table>\n",
       "</div>"
      ],
      "text/plain": [
       "                   AuthenticationPackage         Computer DomainName EventID  \\\n",
       "0                                    nan  ActiveDirectory  Domain002    4769   \n",
       "1  MICROSOFT_AUTHENTICATION_PACKAGE_V1_0  ActiveDirectory  Domain002    4776   \n",
       "2                                    nan  ActiveDirectory  Domain002    4672   \n",
       "3                               Kerberos  ActiveDirectory  Domain002    4624   \n",
       "4                                    nan  ActiveDirectory  Domain002    4634   \n",
       "5                               Kerberos       Comp966305  Domain002    4624   \n",
       "6                                    nan       Comp966305  Domain002    4634   \n",
       "7                               Kerberos       Comp966305  Domain002    4624   \n",
       "8                                    nan       Comp966305  Domain002    4634   \n",
       "9                               Kerberos       Comp966305  Domain002    4624   \n",
       "\n",
       "      LogonID LogonType LogonTypeDescription ServiceName      Source Status  \\\n",
       "0         nan       nan                  nan  Comp883934  Comp309534    0x0   \n",
       "1         nan       nan                  nan         nan         nan    0x0   \n",
       "2  0x2e66398d       nan                  nan         nan         nan    nan   \n",
       "3  0x2e66398d       3.0              Network         nan         nan    nan   \n",
       "4  0x2e66398d       3.0              Network         nan         nan    nan   \n",
       "5   0x9f17415       3.0              Network         nan         nan    nan   \n",
       "6   0x9f17415       3.0              Network         nan         nan    nan   \n",
       "7   0x9f17637       3.0              Network         nan         nan    nan   \n",
       "8   0x9f17637       3.0              Network         nan         nan    nan   \n",
       "9   0x9f17fe4       3.0              Network         nan         nan    nan   \n",
       "\n",
       "  Time         UserName  \n",
       "0    2       User624729  \n",
       "1    2          Scanner  \n",
       "2    2  ActiveDirectory  \n",
       "3    2  ActiveDirectory  \n",
       "4    2  ActiveDirectory  \n",
       "5    2       User380010  \n",
       "6    2       User380010  \n",
       "7    2       User096622  \n",
       "8    2       User096622  \n",
       "9    2       User233472  "
      ]
     },
     "metadata": {},
     "output_type": "display_data"
    }
   ],
   "source": [
    "from sklearn.feature_extraction.text import TfidfVectorizer\n",
    "filename = '/run/media/mnewlin/_userdata/uhnds/host/host_events_sample.txt'\n",
    "df_host = pd.read_json(filename, orient='records', lines=True, dtype=str)\n",
    "display(df_host)\n",
    "#\n",
    "df_host = df_host.replace(to_replace=[r\"[\\$]+\"], value='', regex=True)\n",
    "display(df_host)\n",
    "df_host_array = df_host.values"
   ]
  },
  {
   "cell_type": "code",
   "execution_count": 41,
   "metadata": {},
   "outputs": [
    {
     "ename": "TypeError",
     "evalue": "expected string or bytes-like object",
     "output_type": "error",
     "traceback": [
      "\u001b[0;31m---------------------------------------------------------------------------\u001b[0m",
      "\u001b[0;31mTypeError\u001b[0m                                 Traceback (most recent call last)",
      "\u001b[0;32m<ipython-input-41-18efeab98533>\u001b[0m in \u001b[0;36m<module>\u001b[0;34m\u001b[0m\n\u001b[1;32m      1\u001b[0m \u001b[0mvectorizer\u001b[0m \u001b[0;34m=\u001b[0m \u001b[0mTfidfVectorizer\u001b[0m\u001b[0;34m(\u001b[0m\u001b[0mlowercase\u001b[0m\u001b[0;34m=\u001b[0m\u001b[0;32mFalse\u001b[0m\u001b[0;34m,\u001b[0m \u001b[0mpreprocessor\u001b[0m\u001b[0;34m=\u001b[0m\u001b[0;32mNone\u001b[0m\u001b[0;34m)\u001b[0m\u001b[0;34m\u001b[0m\u001b[0;34m\u001b[0m\u001b[0m\n\u001b[0;32m----> 2\u001b[0;31m \u001b[0mX\u001b[0m \u001b[0;34m=\u001b[0m \u001b[0mvectorizer\u001b[0m\u001b[0;34m.\u001b[0m\u001b[0mfit_transform\u001b[0m\u001b[0;34m(\u001b[0m\u001b[0mdf_host_array\u001b[0m\u001b[0;34m)\u001b[0m\u001b[0;34m\u001b[0m\u001b[0;34m\u001b[0m\u001b[0m\n\u001b[0m\u001b[1;32m      3\u001b[0m \u001b[0mprint\u001b[0m\u001b[0;34m(\u001b[0m\u001b[0mvectorizer\u001b[0m\u001b[0;34m.\u001b[0m\u001b[0mget_feature_names\u001b[0m\u001b[0;34m(\u001b[0m\u001b[0;34m)\u001b[0m\u001b[0;34m)\u001b[0m\u001b[0;34m\u001b[0m\u001b[0;34m\u001b[0m\u001b[0m\n\u001b[1;32m      4\u001b[0m \u001b[0mprint\u001b[0m\u001b[0;34m(\u001b[0m\u001b[0mX\u001b[0m\u001b[0;34m)\u001b[0m\u001b[0;34m\u001b[0m\u001b[0;34m\u001b[0m\u001b[0m\n",
      "\u001b[0;32m~/anaconda3/lib/python3.7/site-packages/sklearn/feature_extraction/text.py\u001b[0m in \u001b[0;36mfit_transform\u001b[0;34m(self, raw_documents, y)\u001b[0m\n\u001b[1;32m   1601\u001b[0m         \"\"\"\n\u001b[1;32m   1602\u001b[0m         \u001b[0mself\u001b[0m\u001b[0;34m.\u001b[0m\u001b[0m_check_params\u001b[0m\u001b[0;34m(\u001b[0m\u001b[0;34m)\u001b[0m\u001b[0;34m\u001b[0m\u001b[0;34m\u001b[0m\u001b[0m\n\u001b[0;32m-> 1603\u001b[0;31m         \u001b[0mX\u001b[0m \u001b[0;34m=\u001b[0m \u001b[0msuper\u001b[0m\u001b[0;34m(\u001b[0m\u001b[0mTfidfVectorizer\u001b[0m\u001b[0;34m,\u001b[0m \u001b[0mself\u001b[0m\u001b[0;34m)\u001b[0m\u001b[0;34m.\u001b[0m\u001b[0mfit_transform\u001b[0m\u001b[0;34m(\u001b[0m\u001b[0mraw_documents\u001b[0m\u001b[0;34m)\u001b[0m\u001b[0;34m\u001b[0m\u001b[0;34m\u001b[0m\u001b[0m\n\u001b[0m\u001b[1;32m   1604\u001b[0m         \u001b[0mself\u001b[0m\u001b[0;34m.\u001b[0m\u001b[0m_tfidf\u001b[0m\u001b[0;34m.\u001b[0m\u001b[0mfit\u001b[0m\u001b[0;34m(\u001b[0m\u001b[0mX\u001b[0m\u001b[0;34m)\u001b[0m\u001b[0;34m\u001b[0m\u001b[0;34m\u001b[0m\u001b[0m\n\u001b[1;32m   1605\u001b[0m         \u001b[0;31m# X is already a transformed view of raw_documents so\u001b[0m\u001b[0;34m\u001b[0m\u001b[0;34m\u001b[0m\u001b[0;34m\u001b[0m\u001b[0m\n",
      "\u001b[0;32m~/anaconda3/lib/python3.7/site-packages/sklearn/feature_extraction/text.py\u001b[0m in \u001b[0;36mfit_transform\u001b[0;34m(self, raw_documents, y)\u001b[0m\n\u001b[1;32m   1030\u001b[0m \u001b[0;34m\u001b[0m\u001b[0m\n\u001b[1;32m   1031\u001b[0m         vocabulary, X = self._count_vocab(raw_documents,\n\u001b[0;32m-> 1032\u001b[0;31m                                           self.fixed_vocabulary_)\n\u001b[0m\u001b[1;32m   1033\u001b[0m \u001b[0;34m\u001b[0m\u001b[0m\n\u001b[1;32m   1034\u001b[0m         \u001b[0;32mif\u001b[0m \u001b[0mself\u001b[0m\u001b[0;34m.\u001b[0m\u001b[0mbinary\u001b[0m\u001b[0;34m:\u001b[0m\u001b[0;34m\u001b[0m\u001b[0;34m\u001b[0m\u001b[0m\n",
      "\u001b[0;32m~/anaconda3/lib/python3.7/site-packages/sklearn/feature_extraction/text.py\u001b[0m in \u001b[0;36m_count_vocab\u001b[0;34m(self, raw_documents, fixed_vocab)\u001b[0m\n\u001b[1;32m    940\u001b[0m         \u001b[0;32mfor\u001b[0m \u001b[0mdoc\u001b[0m \u001b[0;32min\u001b[0m \u001b[0mraw_documents\u001b[0m\u001b[0;34m:\u001b[0m\u001b[0;34m\u001b[0m\u001b[0;34m\u001b[0m\u001b[0m\n\u001b[1;32m    941\u001b[0m             \u001b[0mfeature_counter\u001b[0m \u001b[0;34m=\u001b[0m \u001b[0;34m{\u001b[0m\u001b[0;34m}\u001b[0m\u001b[0;34m\u001b[0m\u001b[0;34m\u001b[0m\u001b[0m\n\u001b[0;32m--> 942\u001b[0;31m             \u001b[0;32mfor\u001b[0m \u001b[0mfeature\u001b[0m \u001b[0;32min\u001b[0m \u001b[0manalyze\u001b[0m\u001b[0;34m(\u001b[0m\u001b[0mdoc\u001b[0m\u001b[0;34m)\u001b[0m\u001b[0;34m:\u001b[0m\u001b[0;34m\u001b[0m\u001b[0;34m\u001b[0m\u001b[0m\n\u001b[0m\u001b[1;32m    943\u001b[0m                 \u001b[0;32mtry\u001b[0m\u001b[0;34m:\u001b[0m\u001b[0;34m\u001b[0m\u001b[0;34m\u001b[0m\u001b[0m\n\u001b[1;32m    944\u001b[0m                     \u001b[0mfeature_idx\u001b[0m \u001b[0;34m=\u001b[0m \u001b[0mvocabulary\u001b[0m\u001b[0;34m[\u001b[0m\u001b[0mfeature\u001b[0m\u001b[0;34m]\u001b[0m\u001b[0;34m\u001b[0m\u001b[0;34m\u001b[0m\u001b[0m\n",
      "\u001b[0;32m~/anaconda3/lib/python3.7/site-packages/sklearn/feature_extraction/text.py\u001b[0m in \u001b[0;36m<lambda>\u001b[0;34m(doc)\u001b[0m\n\u001b[1;32m    326\u001b[0m                                                tokenize)\n\u001b[1;32m    327\u001b[0m             return lambda doc: self._word_ngrams(\n\u001b[0;32m--> 328\u001b[0;31m                 tokenize(preprocess(self.decode(doc))), stop_words)\n\u001b[0m\u001b[1;32m    329\u001b[0m \u001b[0;34m\u001b[0m\u001b[0m\n\u001b[1;32m    330\u001b[0m         \u001b[0;32melse\u001b[0m\u001b[0;34m:\u001b[0m\u001b[0;34m\u001b[0m\u001b[0;34m\u001b[0m\u001b[0m\n",
      "\u001b[0;32m~/anaconda3/lib/python3.7/site-packages/sklearn/feature_extraction/text.py\u001b[0m in \u001b[0;36m<lambda>\u001b[0;34m(doc)\u001b[0m\n\u001b[1;32m    263\u001b[0m             \u001b[0;32mreturn\u001b[0m \u001b[0mself\u001b[0m\u001b[0;34m.\u001b[0m\u001b[0mtokenizer\u001b[0m\u001b[0;34m\u001b[0m\u001b[0;34m\u001b[0m\u001b[0m\n\u001b[1;32m    264\u001b[0m         \u001b[0mtoken_pattern\u001b[0m \u001b[0;34m=\u001b[0m \u001b[0mre\u001b[0m\u001b[0;34m.\u001b[0m\u001b[0mcompile\u001b[0m\u001b[0;34m(\u001b[0m\u001b[0mself\u001b[0m\u001b[0;34m.\u001b[0m\u001b[0mtoken_pattern\u001b[0m\u001b[0;34m)\u001b[0m\u001b[0;34m\u001b[0m\u001b[0;34m\u001b[0m\u001b[0m\n\u001b[0;32m--> 265\u001b[0;31m         \u001b[0;32mreturn\u001b[0m \u001b[0;32mlambda\u001b[0m \u001b[0mdoc\u001b[0m\u001b[0;34m:\u001b[0m \u001b[0mtoken_pattern\u001b[0m\u001b[0;34m.\u001b[0m\u001b[0mfindall\u001b[0m\u001b[0;34m(\u001b[0m\u001b[0mdoc\u001b[0m\u001b[0;34m)\u001b[0m\u001b[0;34m\u001b[0m\u001b[0;34m\u001b[0m\u001b[0m\n\u001b[0m\u001b[1;32m    266\u001b[0m \u001b[0;34m\u001b[0m\u001b[0m\n\u001b[1;32m    267\u001b[0m     \u001b[0;32mdef\u001b[0m \u001b[0mget_stop_words\u001b[0m\u001b[0;34m(\u001b[0m\u001b[0mself\u001b[0m\u001b[0;34m)\u001b[0m\u001b[0;34m:\u001b[0m\u001b[0;34m\u001b[0m\u001b[0;34m\u001b[0m\u001b[0m\n",
      "\u001b[0;31mTypeError\u001b[0m: expected string or bytes-like object"
     ]
    }
   ],
   "source": [
    "vectorizer = TfidfVectorizer(lowercase=False, preprocessor=None)\n",
    "X = vectorizer.fit_transform(df_host_array)\n",
    "print(vectorizer.get_feature_names())\n",
    "print(X)"
   ]
  },
  {
   "cell_type": "code",
   "execution_count": null,
   "metadata": {},
   "outputs": [],
   "source": [
    "#filename = '/run/media/mnewlin/_userdata/uhnds/host/wls_day-01'\n",
    "#df_host = pd.read_json(filename, orient='records', lines=True)\n",
    "#display(df_host.head())"
   ]
  },
  {
   "cell_type": "code",
   "execution_count": null,
   "metadata": {},
   "outputs": [],
   "source": []
  }
 ],
 "metadata": {
  "kernelspec": {
   "display_name": "Python 3",
   "language": "python",
   "name": "python3"
  },
  "language_info": {
   "codemirror_mode": {
    "name": "ipython",
    "version": 3
   },
   "file_extension": ".py",
   "mimetype": "text/x-python",
   "name": "python",
   "nbconvert_exporter": "python",
   "pygments_lexer": "ipython3",
   "version": "3.7.1"
  }
 },
 "nbformat": 4,
 "nbformat_minor": 2
}
