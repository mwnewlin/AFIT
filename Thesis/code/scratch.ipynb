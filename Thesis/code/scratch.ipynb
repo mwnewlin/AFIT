{
 "cells": [
  {
   "cell_type": "code",
   "execution_count": 1,
   "metadata": {},
   "outputs": [],
   "source": [
    "import os\n",
    "import numpy as np\n",
    "import matplotlib.pyplot as plt\n",
    "\n",
    "#make plots inline using jupyter magic\n",
    "%matplotlib inline\n",
    "\n",
    "import pandas as pd\n",
    "from pandas.plotting import scatter_matrix\n",
    "from sklearn import datasets, linear_model, metrics\n",
    "\n",
    "\n",
    "import matplotlib as mpl\n",
    "import seaborn as sns\n",
    "\n",
    "import sklearn.linear_model as skl_lm\n",
    "from sklearn.discriminant_analysis import LinearDiscriminantAnalysis\n",
    "from sklearn.discriminant_analysis import QuadraticDiscriminantAnalysis\n",
    "from sklearn.preprocessing import StandardScaler\n",
    "from sklearn.model_selection import cross_validate, GridSearchCV\n",
    "from sklearn.linear_model import LinearRegression, LogisticRegression, Ridge, RidgeCV, Lasso, LassoCV\n",
    "from sklearn.neighbors import KNeighborsClassifier\n",
    "#Balanced RF Classifier\n",
    "from imblearn.ensemble import BalancedRandomForestClassifier as BRF\n",
    "\n",
    "from IPython.display import Markdown as md  #enable markdown within code cell\n",
    "from IPython.display import display, Math, Latex\n",
    "\n",
    "from sklearn.model_selection import train_test_split\n",
    "from sklearn.metrics import mean_squared_error as MSE\n",
    "from sklearn.metrics import confusion_matrix\n",
    "import time\n",
    "\n",
    "from sklearn.metrics import balanced_accuracy_score, precision_score, recall_score, precision_recall_curve, make_scorer,f1_score\n",
    "from sklearn.metrics import precision_recall_curve as PRC\n",
    "\n",
    "from scipy.spatial.distance import pdist\n",
    "from scipy.spatial.distance import cosine\n",
    "from scipy.spatial.distance import cdist\n",
    "\n",
    "from scipy.stats import norm\n",
    "import scipy\n",
    "\n",
    "import metrics\n",
    "\n",
    "data_dir = '/run/media/mnewlin/_userdata/uhnds/'\n",
    "original_netflow_data_dir = data_dir + 'network/extracted/'\n",
    "original_netflow_file = 'netflow_day-02'\n",
    "fake_dir = '/run/media/mnewlin/_userdata/uhnds/network/converted/fake/'\n",
    "real_dir = '/run/media/mnewlin/_userdata/uhnds/network/converted/real/'\n",
    "real_file = 'netflow_day-02'"
   ]
  },
  {
   "cell_type": "code",
   "execution_count": 2,
   "metadata": {},
   "outputs": [],
   "source": [
    "\"\"\"\n",
    "    Generates probabilities for matrices X and Y, assuming given distribution\n",
    "    distribution defaults to normal (may add other distributions later)\n",
    "    \n",
    "\"\"\"\n",
    "def generate_probs(X,Y, dist='norm'):\n",
    "    X = np.array(X)\n",
    "    Y = np.array(Y)\n",
    "    num_rows = X.shape[0]\n",
    "    num_cols = X.shape[1]\n",
    "    norm_x = np.zeros((num_rows, num_cols))\n",
    "    norm_y = np.zeros((num_rows, num_cols))\n",
    "    if dist == 'norm':\n",
    "        for j in range(num_cols):\n",
    "            xj = X[:,j]\n",
    "\n",
    "            prob_xj = norm.pdf(xj, loc=xj.mean(), scale=xj.var())\n",
    "            norm_x[:,j] = prob_xj\n",
    "\n",
    "            yj = Y[:,j]\n",
    "\n",
    "            prob_yj = norm.pdf(yj, loc=yj.mean(), scale=yj.var())\n",
    "            norm_y[:,j] = prob_yj\n",
    "    return norm_x, norm_y"
   ]
  },
  {
   "cell_type": "markdown",
   "metadata": {},
   "source": [
    "## $l_p$ distance"
   ]
  },
  {
   "cell_type": "code",
   "execution_count": 3,
   "metadata": {},
   "outputs": [],
   "source": [
    "def l_p_distance(X,Y,p=2,r=2):\n",
    "    X = np.array(X)\n",
    "    Y = np.array(Y)\n",
    "    if (X.shape != Y.shape):\n",
    "        print(\"Usage: Matrices must be the same shape.\")\n",
    "        return -1\n",
    "    num_rows = X.shape[0]\n",
    "    distances = np.zeros((num_rows,1))\n",
    "    for i in range(num_rows):\n",
    "        x = X[i]\n",
    "        y = Y[i]\n",
    "        distances[i] = np.power(np.sum(np.power(np.abs(x-y),p)),(1/r))\n",
    "    \n",
    "    return np.mean(distances)"
   ]
  },
  {
   "cell_type": "code",
   "execution_count": 4,
   "metadata": {},
   "outputs": [
    {
     "name": "stdout",
     "output_type": "stream",
     "text": [
      "9.87831517751085\n"
     ]
    }
   ],
   "source": [
    "X = np.array([[1.,2.],\n",
    "              [3.,4.]])\n",
    "Y = 2*X\n",
    "\n",
    "print(l_p_distance(X,Y,p=0.5,r=0.5))\n"
   ]
  },
  {
   "cell_type": "markdown",
   "metadata": {},
   "source": [
    "## Cosine Similarity"
   ]
  },
  {
   "cell_type": "code",
   "execution_count": 5,
   "metadata": {},
   "outputs": [],
   "source": [
    "def cosine_similarity(X,Y):\n",
    "    X = np.array(X)\n",
    "    Y = np.array(Y)\n",
    "    num_rows = X.shape[0]\n",
    "    cos_sims = np.zeros((num_rows,1))\n",
    "    for i in range(num_rows):\n",
    "        x = X[i]\n",
    "        y = Y[i]\n",
    "        cos_sims[i] = cosine(x,y)\n",
    "        return np.mean(cos_sims)\n",
    "        "
   ]
  },
  {
   "cell_type": "code",
   "execution_count": 6,
   "metadata": {},
   "outputs": [
    {
     "name": "stdout",
     "output_type": "stream",
     "text": [
      "0.014928749927334062\n",
      "0.0\n"
     ]
    }
   ],
   "source": [
    "X = np.array([[1.,2.],\n",
    "              [3.,4.]])\n",
    "Y = X+5\n",
    "\n",
    "print(cosine_similarity(X,Y))\n",
    "\n",
    "\n",
    "X = np.array([[1.,2.],\n",
    "              [3.,4.]])\n",
    "Y = X\n",
    "print(cosine_similarity(X,Y))\n"
   ]
  },
  {
   "cell_type": "markdown",
   "metadata": {},
   "source": [
    "## Mahalanobis Distance"
   ]
  },
  {
   "cell_type": "code",
   "execution_count": 7,
   "metadata": {},
   "outputs": [],
   "source": [
    "def mahalanobis_distance(X,Y):\n",
    "    X = np.array(X)\n",
    "    Y = np.array(Y)\n",
    "    mahalanobis = cdist(X, Y, 'mahalanobis')\n",
    "    print(mahalanobis)\n",
    "    return np.mean(mahalanobis)\n",
    "    \n",
    "        "
   ]
  },
  {
   "cell_type": "code",
   "execution_count": 8,
   "metadata": {},
   "outputs": [
    {
     "name": "stdout",
     "output_type": "stream",
     "text": [
      "[[2.2336325  2.41220277]\n",
      " [2.31937267 1.03749336]]\n",
      "2.000675323741658\n"
     ]
    }
   ],
   "source": [
    "X = np.array([[5580.,364445],\n",
    "              [6976.,450942.]])\n",
    "Y = np.array([[5197.,894353],\n",
    "              [7069.,680679.]])\n",
    "\n",
    "print(mahalanobis_distance(X,Y))\n",
    "\n",
    "\n"
   ]
  },
  {
   "cell_type": "markdown",
   "metadata": {},
   "source": [
    "## $\\chi^2$-distance "
   ]
  },
  {
   "cell_type": "code",
   "execution_count": 9,
   "metadata": {},
   "outputs": [],
   "source": [
    "def chi_squared_dist(X,Y):\n",
    "    X = np.array(X)\n",
    "    Y = np.array(Y)\n",
    "    prob_x, prob_y = generate_probs(X,Y)\n",
    "    chi_squares = np.ones(X.shape[1])\n",
    "    for j in range(chi_squares.size):\n",
    "        chi_squares[j] = np.sum(np.divide(np.power(prob_x-prob_y, 2), prob_y))\n",
    "    return np.mean(chi_squares)  "
   ]
  },
  {
   "cell_type": "code",
   "execution_count": 10,
   "metadata": {},
   "outputs": [
    {
     "name": "stdout",
     "output_type": "stream",
     "text": [
      "5.820811263338073e-07\n"
     ]
    }
   ],
   "source": [
    "X = np.array([[5580.,364445],\n",
    "              [6976.,450942.]])\n",
    "Y = np.array([[5197.,894353],\n",
    "              [7069.,680679.]])\n",
    "\n",
    "print(chi_squared_dist(X,Y))"
   ]
  },
  {
   "cell_type": "code",
   "execution_count": 11,
   "metadata": {},
   "outputs": [
    {
     "name": "stdout",
     "output_type": "stream",
     "text": [
      "[[[ 1  2]\n",
      "  [ 3  4]]\n",
      "\n",
      " [[ 5  6]\n",
      "  [ 7  8]]\n",
      "\n",
      " [[ 9 10]\n",
      "  [11 12]]]\n"
     ]
    }
   ],
   "source": [
    "a = np.array([[1,2],\n",
    "              [3,4],\n",
    "              [5,6],\n",
    "              [7,8],\n",
    "              [9,10],\n",
    "              [11,12]])\n",
    "new_a = np.reshape(a,(3,2,2))\n",
    "print(new_a)"
   ]
  },
  {
   "cell_type": "code",
   "execution_count": 12,
   "metadata": {},
   "outputs": [],
   "source": [
    "def score_samples(data, sample_length, num_samples, metric='lp', p=2, r=2):\n",
    "    # Reshape data into 3d array of n*l*w from 2d array of nl*w\n",
    "    sample_list = np.reshape(np.array(data), (num_samples, sample_length, data.shape[1]))\n",
    "    dist_matrix = np.zeros((num_samples, num_samples))\n",
    "    if metric == 'lp':\n",
    "        # Do pairwise metrics\n",
    "        for i in range(num_samples):\n",
    "            for j in range(num_samples):\n",
    "                d = l_p_distance(sample_list[i], sample_list[j], p=p, r=r)\n",
    "                dist_matrix[i,j] = d\n",
    "        return np.mean(dist_matrix)\n",
    "\n",
    "    return -1"
   ]
  },
  {
   "cell_type": "code",
   "execution_count": 13,
   "metadata": {},
   "outputs": [
    {
     "name": "stdout",
     "output_type": "stream",
     "text": [
      "8.959438577030209\n"
     ]
    }
   ],
   "source": [
    "score = score_samples(a, sample_length=2, num_samples=3, p=0.75, r=0.75)\n",
    "print(score)"
   ]
  },
  {
   "cell_type": "code",
   "execution_count": 14,
   "metadata": {},
   "outputs": [
    {
     "name": "stdout",
     "output_type": "stream",
     "text": [
      "[0.03119458 0.03308301 0.03406967 0.03406967 0.03308301 0.03119458]\n"
     ]
    }
   ],
   "source": [
    "a0_pdf = norm.pdf(a[:,0], loc=a[:,0].mean(), scale = a[:,0].var())\n",
    "print(a0_pdf)"
   ]
  },
  {
   "cell_type": "code",
   "execution_count": 15,
   "metadata": {},
   "outputs": [
    {
     "name": "stdout",
     "output_type": "stream",
     "text": [
      "[[5 5 2]\n",
      " [3 5 6]\n",
      " [6 8 1]\n",
      " [2 1 3]\n",
      " [4 9 9]]\n",
      "[[1 9 7]\n",
      " [3 6 5]\n",
      " [0 9 8]\n",
      " [8 9 0]\n",
      " [2 2 9]]\n",
      "[[0.17603266 0.0507367  0.04509131]\n",
      " [0.17603266 0.0507367  0.04558632]\n",
      " [0.12098536 0.04855623 0.04346002]\n",
      " [0.12098536 0.04283901 0.0461497 ]\n",
      " [0.19947114 0.04631851 0.03982511]]\n",
      "[[0.05004547 0.05070591 0.03899304]\n",
      " [0.05139302 0.05203997 0.03914444]\n",
      " [0.04817004 0.05070591 0.03835614]\n",
      " [0.04107154 0.05070591 0.03336189]\n",
      " [0.05113762 0.04227753 0.03736589]]\n",
      "0.44158684122165903\n"
     ]
    }
   ],
   "source": [
    "X = np.random.randint(0,10, (5,3))\n",
    "Y = np.random.randint(0,10, (5,3))\n",
    "print(X)\n",
    "print(Y)\n",
    "norm_x,norm_y = metrics.generate_probs(X,Y)\n",
    "print(norm_x)\n",
    "print(norm_y)\n",
    "\n",
    "print(metrics.chi_squared_dist(X, Y))"
   ]
  },
  {
   "cell_type": "code",
   "execution_count": 16,
   "metadata": {},
   "outputs": [
    {
     "name": "stdout",
     "output_type": "stream",
     "text": [
      "4.629445206177525\n"
     ]
    }
   ],
   "source": [
    "X = np.random.randint(0,10, (5,3)).astype(np.float64)\n",
    "Y = np.random.randint(0,10, (5,3)).astype(np.float64)\n",
    "\n",
    "\n",
    "print(metrics.fid(X,Y))"
   ]
  },
  {
   "cell_type": "code",
   "execution_count": 17,
   "metadata": {},
   "outputs": [
    {
     "name": "stdout",
     "output_type": "stream",
     "text": [
      "[[0.+1.3660254j 0.+0.3660254j]\n",
      " [0.+0.3660254j 0.+1.3660254j]]\n",
      "[[1.3660254 0.3660254]\n",
      " [0.3660254 1.3660254]]\n"
     ]
    }
   ],
   "source": [
    "a = np.array([[-2,-1],\n",
    "              [-1, -2]])\n",
    "\n",
    "print(scipy.linalg.sqrtm(a))\n",
    "print(scipy.linalg.sqrtm(np.abs(a)))"
   ]
  },
  {
   "cell_type": "code",
   "execution_count": 18,
   "metadata": {},
   "outputs": [
    {
     "name": "stdout",
     "output_type": "stream",
     "text": [
      "0.0837359860874904\n",
      "0.1070413653941326\n"
     ]
    }
   ],
   "source": [
    "X = np.random.randint(0,10, (5,3)).astype(np.float64)\n",
    "Y = np.random.randint(0,10, (5,3)).astype(np.float64)\n",
    "\n",
    "print(metrics.calc_entropy(X,Y,sample_length=5))\n",
    "print(metrics.calc_perplexity(X,Y,sample_length=5))"
   ]
  }
 ],
 "metadata": {
  "kernelspec": {
   "display_name": "Python 3",
   "language": "python",
   "name": "python3"
  },
  "language_info": {
   "codemirror_mode": {
    "name": "ipython",
    "version": 3
   },
   "file_extension": ".py",
   "mimetype": "text/x-python",
   "name": "python",
   "nbconvert_exporter": "python",
   "pygments_lexer": "ipython3",
   "version": "3.7.3"
  }
 },
 "nbformat": 4,
 "nbformat_minor": 2
}
