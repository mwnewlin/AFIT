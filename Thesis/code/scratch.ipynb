{
 "cells": [
  {
   "cell_type": "code",
   "execution_count": 45,
   "metadata": {},
   "outputs": [],
   "source": [
    "import os\n",
    "import numpy as np\n",
    "import matplotlib.pyplot as plt\n",
    "\n",
    "#make plots inline using jupyter magic\n",
    "%matplotlib inline\n",
    "\n",
    "import pandas as pd\n",
    "from pandas.plotting import scatter_matrix\n",
    "from sklearn import datasets, linear_model, metrics\n",
    "\n",
    "\n",
    "import matplotlib as mpl\n",
    "import seaborn as sns\n",
    "\n",
    "import sklearn.linear_model as skl_lm\n",
    "from sklearn.discriminant_analysis import LinearDiscriminantAnalysis\n",
    "from sklearn.discriminant_analysis import QuadraticDiscriminantAnalysis\n",
    "from sklearn.preprocessing import StandardScaler\n",
    "from sklearn.model_selection import cross_validate, GridSearchCV\n",
    "from sklearn.linear_model import LinearRegression, LogisticRegression, Ridge, RidgeCV, Lasso, LassoCV\n",
    "from sklearn.neighbors import KNeighborsClassifier\n",
    "#Balanced RF Classifier\n",
    "from imblearn.ensemble import BalancedRandomForestClassifier as BRF\n",
    "\n",
    "from IPython.display import Markdown as md  #enable markdown within code cell\n",
    "from IPython.display import display, Math, Latex\n",
    "\n",
    "from sklearn.model_selection import train_test_split\n",
    "from sklearn.metrics import mean_squared_error as MSE\n",
    "from sklearn.metrics import confusion_matrix\n",
    "import time\n",
    "\n",
    "from sklearn.metrics import balanced_accuracy_score, precision_score, recall_score, precision_recall_curve, make_scorer,f1_score\n",
    "from sklearn.metrics import precision_recall_curve as PRC\n",
    "\n",
    "from scipy.spatial.distance import pdist\n",
    "from scipy.spatial.distance import cosine\n",
    "from scipy.spatial.distance import cdist\n",
    "\n",
    "data_dir = '/run/media/mnewlin/_userdata/uhnds/'\n",
    "original_netflow_data_dir = data_dir + 'network/extracted/'\n",
    "original_netflow_file = 'netflow_day-02'\n",
    "fake_dir = '/run/media/mnewlin/_userdata/uhnds/network/converted/fake/'\n",
    "real_dir = '/run/media/mnewlin/_userdata/uhnds/network/converted/real/'\n",
    "real_file = 'netflow_day-02'"
   ]
  },
  {
   "cell_type": "code",
   "execution_count": 46,
   "metadata": {},
   "outputs": [],
   "source": [
    "def l_p_distance(X,Y,p=2,r=2):\n",
    "    X = np.array(X)\n",
    "    Y = np.array(Y)\n",
    "    if (X.shape != Y.shape):\n",
    "        print(\"Usage: Matrices must be the same shape.\")\n",
    "        return -1\n",
    "    num_rows = X.shape[0]\n",
    "    distances = np.zeros((num_rows,1))\n",
    "    for i in range(num_rows):\n",
    "        x = X[i]\n",
    "        y = Y[i]\n",
    "        distances[i] = np.power(np.sum(np.power(np.abs(x-y),p)),(1/r))\n",
    "    \n",
    "    return np.sum(distances)"
   ]
  },
  {
   "cell_type": "code",
   "execution_count": 47,
   "metadata": {},
   "outputs": [
    {
     "name": "stdout",
     "output_type": "stream",
     "text": [
      "19.7566303550217\n"
     ]
    }
   ],
   "source": [
    "X = np.array([[1.,2.],\n",
    "              [3.,4.]])\n",
    "Y = 2*X\n",
    "\n",
    "print(l_p_distance(X,Y,p=0.5,r=0.5))\n"
   ]
  },
  {
   "cell_type": "code",
   "execution_count": 48,
   "metadata": {},
   "outputs": [],
   "source": [
    "def cosine_similarity(X,Y):\n",
    "    X = np.array(X)\n",
    "    Y = np.array(Y)\n",
    "    num_rows = X.shape[0]\n",
    "    cos_sims = np.zeros((num_rows,1))\n",
    "    for i in range(num_rows):\n",
    "        x = X[i]\n",
    "        y = Y[i]\n",
    "        cos_sims[i] = cosine(x,y)\n",
    "        return np.mean(cos_sims)\n",
    "        "
   ]
  },
  {
   "cell_type": "code",
   "execution_count": 49,
   "metadata": {},
   "outputs": [
    {
     "name": "stdout",
     "output_type": "stream",
     "text": [
      "0.014928749927334062\n",
      "0.0\n"
     ]
    }
   ],
   "source": [
    "X = np.array([[1.,2.],\n",
    "              [3.,4.]])\n",
    "Y = X+5\n",
    "\n",
    "print(cosine_similarity(X,Y))\n",
    "\n",
    "\n",
    "X = np.array([[1.,2.],\n",
    "              [3.,4.]])\n",
    "Y = X\n",
    "print(cosine_similarity(X,Y))\n"
   ]
  },
  {
   "cell_type": "code",
   "execution_count": 50,
   "metadata": {},
   "outputs": [],
   "source": [
    "def mahalanobis_distance(X,Y):\n",
    "    X = np.array(X)\n",
    "    Y = np.array(Y)\n",
    "    num_rows = X.shape[0]\n",
    "    mahalanobis = cdist(X, Y, 'mahalanobis')\n",
    "    return np.mean(mahalanobis)\n",
    "    \n",
    "        "
   ]
  },
  {
   "cell_type": "code",
   "execution_count": 55,
   "metadata": {},
   "outputs": [
    {
     "name": "stdout",
     "output_type": "stream",
     "text": [
      "2.0907702751760278\n",
      "nan\n"
     ]
    }
   ],
   "source": [
    "X = np.array([[-1.,1.5],\n",
    "              [1.,-1.]])\n",
    "Y = X+5\n",
    "\n",
    "print(mahalanobis_distance(X,Y))\n",
    "\n",
    "\n",
    "X = np.array([[-1.,1.5],\n",
    "              [1.,-1.]])\n",
    "Y = X\n",
    "print(mahalanobis_distance(X,Y))"
   ]
  },
  {
   "cell_type": "code",
   "execution_count": null,
   "metadata": {},
   "outputs": [],
   "source": []
  }
 ],
 "metadata": {
  "kernelspec": {
   "display_name": "Python 3",
   "language": "python",
   "name": "python3"
  },
  "language_info": {
   "codemirror_mode": {
    "name": "ipython",
    "version": 3
   },
   "file_extension": ".py",
   "mimetype": "text/x-python",
   "name": "python",
   "nbconvert_exporter": "python",
   "pygments_lexer": "ipython3",
   "version": "3.7.3"
  }
 },
 "nbformat": 4,
 "nbformat_minor": 2
}
